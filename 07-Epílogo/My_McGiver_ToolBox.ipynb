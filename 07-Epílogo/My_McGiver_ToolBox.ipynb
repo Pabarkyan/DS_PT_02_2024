{
 "cells": [
  {
   "cell_type": "markdown",
   "id": "724aa10d-cb31-4afa-9aa8-5485e27cca4a",
   "metadata": {},
   "source": [
    "## MODELOS"
   ]
  },
  {
   "cell_type": "markdown",
   "id": "5436784b-5785-40df-9856-a0f94f7e1227",
   "metadata": {
    "tags": []
   },
   "source": [
    "<img src=\"./img/choose_algorithm2.png\" alt=\"drawing\" width=\"650\"/>"
   ]
  },
  {
   "cell_type": "markdown",
   "id": "83883790-08e6-4647-b26f-ba9848798fa2",
   "metadata": {},
   "source": [
    "## SUPERVISADOS"
   ]
  },
  {
   "cell_type": "markdown",
   "id": "861ed769-d5a5-4604-81e7-e2d0d7631cd0",
   "metadata": {},
   "source": [
    "#### **Modelo**: SVM (Support Vector Machines)\n",
    "**Filosofía**: Regresión lineal sobre datos que pueden estar kernelizados (es decir, en plata, transformados internamente sin seguir linealidad)  \n",
    "**Para qué**: Para clasificación y regresión  \n",
    "**De dónde**: sklearn.svm  \n",
    "**Cómo clasificacion**: LinearSVC, SVC (para kernels)  \n",
    "**Cómo regresión**: LinearSVR, SVR  \n",
    "**Hiperparámetros Clasificacion**: penalty [Solo para linear], loss [\"hinge\",\"sqared_hinge\"], C (>=0)     \n",
    "        [A mayor valor, más overfitting], class_weight (Para balancear clases), kernel ['linear', 'poly', 'rbf', 'sigmoid'], \n",
    "        degree [para \"poly\"], gamma  \n",
    "**Hiperparámetros Regresión**: Los mismos clasificación (salvo class_weight), epsilon (para jugar en casos que todo falle)  \n",
    "**CUÁNDO USARLO**: Según Jaime (nunca, pero es un poquito corto así que... Depende), Clasificación rápida con no muchos datos    \n",
    "Y SI TODO FALLA: help(SVC), help(LinearSVC)"
   ]
  },
  {
   "cell_type": "markdown",
   "id": "24dfa2bc-5535-459f-bc54-ecdd292c9002",
   "metadata": {
    "tags": []
   },
   "source": [
    "#### **Modelo**: KNN (K-Nearest Neighbors)  \n",
    "**Filosofía**: Asignar el valor medio o más frecuente de la variable target de mis \"vecinos\", cuántos k, escogidos por \"distancia  \n",
    "**Para qué**: Para clasificación y regresión. Clasifico -> Asignar la probabilidad media de mis vecinos, asignar la categoría mayoritaria. Regrsión -> Asignamos la media de la variable target para mis vecinos   \n",
    "**De dónde**: sklearn.neighbors   \n",
    "**Cómo clasificacion**: KNeighborsClassifier,KNeighborsRegressor  \n",
    "**Cómo regresión**: LinearSVR, SVR   \n",
    "**Hiperparámetros: k, weight = uniform, distance (1/distance), metric   \n",
    "**CUÁNDO USARLO**: Hacer una análisis rápido  \n",
    "Y SI TODO FALLA: help(KNeighborsClassifier), help(KNeighborsRegressor)"
   ]
  },
  {
   "cell_type": "markdown",
   "id": "c2318a0d-f350-4d6a-9ee8-06d79bf8c901",
   "metadata": {},
   "source": [
    "#### **Modelo**:Regresor Lineal\n",
    "**Filosofía**: y = f(x) -> f(x) = a1*x1 + a2*x2 + a3*x3 + a4*x4 + .... -> Estima los valores de ai (a1,a2,a3,...) -> Error cuadrático medio; Podemos ampliar a regresión polinómica, PolynomialFeatures (degree = n ) \n",
    "**Para qué**: Para clasificación (LogisticRegression, y = Sigmoid(f(x)) y regresión.   \n",
    "**De dónde**: sklearn.linear_model   \n",
    "**Cómo clasificacion**: LogisticRegressionCV  \n",
    "**Cómo regresión**: LinearRegression\n",
    "**Hiperparámetros: penalty: l1 (ridge), l2 (lasso), elastic net, solver = función de coste, degree -> polinómica, C = A mayor C menor overfitting \n",
    "**Hiperparámetros: class_weight -> pesos para clases desbalanceadas\n",
    "**CUÁNDO USARLO**: Hacer una análisis rápido  \n",
    "Y SI TODO FALLA: help(LinearRegression), help(LogisticRegressionCV)"
   ]
  },
  {
   "cell_type": "code",
   "execution_count": 7,
   "id": "23774dfd-3998-4b1a-aa46-3062880490de",
   "metadata": {},
   "outputs": [],
   "source": [
    "from sklearn.tree import DecisionTreeRegressor, DecisionTreeClassifier"
   ]
  },
  {
   "cell_type": "markdown",
   "id": "7089d0ae-0312-42a9-8dba-ce08da632192",
   "metadata": {},
   "source": [
    "#### **Modelo**:Árboles\n",
    "**Filosofía**: Árboles de decisión, seleccionar una feature y buscamos un valor que separa el conjunto de datos de entrada en dos, el valor minimiza una función de coste o perdida (Gini o entropía, en clasificación, o RMSE en regresión), sigue profundizando probando nuevas features...es un parametro el número de niveles (max_depth)\n",
    "**De dónde**: sklearn.tree \n",
    "**Cómo clasificacion**: DecisionTreeClassifier\n",
    "**Cómo regresión**: DecisionTreeRegressor\n",
    "**Hiperparámetros: max_features (splitter = \"best\", \"random\"), , max_depth (numero de niveles del árbol, la profundidad max_depth = 1 -> Stub), min_sample_split (número mínimo de elementos por clase para partir), max_sample_split (número ), min_sample_leafs (máximo número de muestra para ser de hojas),  \n",
    "**Hiperparámetros, clasificador: class_weight -> pesos para clases desbalanceadas\n",
    "**CUÁNDO USARLO**: Necesito claridad para entender la relación entre la salida y las features. \n",
    "**CUIDADIN**: El primero es que hace Overfitting con mucha facilidad -> Regularizar (reducir la profundidad, el número de hojas por nivel, etc); \n",
    "Y SI TODO FALLA: help(LinearRegression), help(LogisticRegressionCV)"
   ]
  },
  {
   "cell_type": "code",
   "execution_count": 3,
   "id": "b5f3f6e0-7826-427f-88a4-7d39f57ab222",
   "metadata": {},
   "outputs": [],
   "source": [
    "from sklearn.ensemble import BaggingClassifier,RandomForestClassifier, BaggingRegressor, RandomForestRegressor"
   ]
  },
  {
   "cell_type": "markdown",
   "id": "f13e3c12-2203-4d8e-aa1c-cc36536b85f5",
   "metadata": {},
   "source": [
    "#### **Modelo**:Bagging -> RandomForest\n",
    "**Filosofía**: Entrenar n estimadores o modelos, repartiendo los datos entre ellos, y con todas o un subconjunto de features, para conseguir agregar n weark_learners y mejorar los resultados totales (para quien quiera \"bucear\": Cambiar Varianza, se reduce, por Bias, se aumenta)\n",
    "**Cómo clasificacion**: BaggingClassifier,RandomForestClassifier\n",
    "**Cómo regresión**:BaggingRegressor, RandomForestRegressor\n",
    "**Hiperparámetros: n_estimators, max_samples, bootstrap,  max_features (splitter = \"best\", \"random\"), , max_depth (numero de niveles del árbol, la profundidad max_depth = 1 -> Stub), min_sample_split (número mínimo de elementos por clase para partir), max_sample_split (número ), min_sample_leafs (máximo número de muestra para ser de hojas),  \n",
    "**Hiperparámetros, clasificador: class_weight -> pesos para clases desbalanceadas\n",
    "**CUÁNDO USARLO**: De primeras, siempre y luego ya veremos-. Pero en general, si quiero precisión sobre rapidez. \n",
    "**CUIDADIN**: \n",
    "Y SI TODO FALLA: help(RandomForestClassifier), help(RandomForestRegressor)"
   ]
  },
  {
   "cell_type": "code",
   "execution_count": 1,
   "id": "d146a3ff-6579-468d-8805-43d76c576e54",
   "metadata": {},
   "outputs": [],
   "source": [
    "from sklearn.ensemble import GradientBoostingRegressor, GradientBoostingClassifier "
   ]
  },
  {
   "cell_type": "markdown",
   "id": "9eeb89ab-753f-40c0-919d-204d1b29127b",
   "metadata": {
    "tags": []
   },
   "source": [
    "#### **Modelo**: GradientBoostedTree\n",
    "**Filosofía**: Entrenar n estimadores o modelos secuencialmente, porque cada estimador entrena con el target original sino con los fallos del anterior sobre las predicciones del anterior al anterior al anterior...\n",
    "**Donde**: sklearn.ensemble\n",
    "**Cómo clasificacion**: GradientBoostingClassifier\n",
    "**Cómo regresión**:GradientBoostingRegressor\n",
    "**Hiperparámetros**: n_estimators, criterion, max_samples, bootstrap, n_iter_no_change = Para que haya early-stop, max_features (splitter = \"best\", \"random\"), , max_depth (numero de niveles del árbol, la profundidad max_depth = 1 -> Stub), min_sample_split (número mínimo de elementos por clase para partir), max_sample_split (número ), min_sample_leafs (máximo número de muestra para ser de hojas),  \n",
    "**Hiperparámetros, clasificador: class_weight -> pesos para clases desbalanceadas\n",
    "**CUÁNDO USARLO**: Quiero RESULTADOS\n",
    "**CUIDADIN**: Overfittean, y pueden ser muy pesados en entrenamiento\n",
    "Y SI TODO FALLA: help(GradientBoostingClassifier), help(GradientBoostingRegressor)"
   ]
  },
  {
   "cell_type": "markdown",
   "id": "2e3d3cb3-2869-4376-b5a2-08f111722322",
   "metadata": {
    "tags": []
   },
   "source": [
    "#### **Modelo**: GradientBoostedTree -> RandomForest\n",
    "**Filosofía**: Entrenar n estimadores o modelos, repartiendo los datos entre ellos, y con todas o un subconjunto de features, para conseguir agregar n weark_learners y mejorar los resultados totales (para quien quiera \"bucear\": Cambiar Varianza, se reduce, por Bias, se aumenta)\n",
    "**Cómo clasificacion**: BaggingClassifier,RandomForestClassifier\n",
    "**Cómo regresión**:BaggingRegressor, RandomForestRegressor\n",
    "**Hiperparámetros: n_estimators, max_samples, bootstrap,  max_features (splitter = \"best\", \"random\"), , max_depth (numero de niveles del árbol, la profundidad max_depth = 1 -> Stub), min_sample_split (número mínimo de elementos por clase para partir), max_sample_split (número ), min_sample_leafs (máximo número de muestra para ser de hojas),  \n",
    "**Hiperparámetros, clasificador: class_weight -> pesos para clases desbalanceadas\n",
    "**CUÁNDO USARLO**: De primeras, siempre y luego ya veremos-. Pero en general, si quiero precisión sobre rapidez. \n",
    "**CUIDADIN**: \n",
    "Y SI TODO FALLA: help(RandomForestClassifier), help(RandomForestRegressor)"
   ]
  },
  {
   "cell_type": "markdown",
   "id": "ee537ec5-2936-4bc5-bda5-c9738274b72a",
   "metadata": {},
   "source": [
    "## MODELOS NO GENERICOS DE GBT: XGBoost, LightGBM, CatBoost"
   ]
  },
  {
   "cell_type": "markdown",
   "id": "8132f7e0-4ceb-4269-b572-03eaf4e2f188",
   "metadata": {},
   "source": [
    "DIFERENCIAS:\n",
    "Como construyen los árboles:\n",
    "    XGBoost -> Construcción por nivel\n",
    "    LightGBM -> Contrucción por rama: Un nodo, split es la feature 23 > 12\n",
    "    CatBoost -> Contruye árboles simétricos\n",
    "Cómo consideran las features para cada split, también consideran features categóricas:\n",
    "    XGBoost -> Variables las binnea -> y así escoge el corte.\n",
    "    LightGBM -> Split que se basa en una aproximación al Gradient Descent y considera categóricas, no hace oneHotCoding -> Hace tratamiento particularizado de las categóricas\n",
    "    CatBoost -> En general, hace una selección greedy \"tradicional\", pero a las categoricas les hace un oneHotEncoding y a las de texto un bagOfWords (y otros posibles tratamientos). (Es que hay un parámetro que dice el máximo número de niveles de una categórica, si se supera, no considera esa feature) -> one_hot_max_size \n",
    "    \n",
    "REGLA DEL DEDO GORDO DE USAR UNA U OTRA:\n",
    "XGboost -> 2014, LightGBM -> 2016, CatBoost -> 2017?\n",
    "Precisión es más o menos la misma, pero son más rápidos Light y Cat\n",
    "\n"
   ]
  },
  {
   "cell_type": "markdown",
   "id": "860ef8af-27ea-4ed0-ba36-b4e70efe276a",
   "metadata": {},
   "source": [
    "HIPERPARÁMETROS:\n",
    "    XGBoost: https://xgboost.readthedocs.io/en/stable/parameter.html#parameters-for-tweedie-regression-objective-reg-tweedie\n",
    "    LightGBM:  https://lightgbm.readthedocs.io/en/v3.3.2/Parameters-Tuning.html\n",
    "    CatBoost: https://catboost.ai/en/docs/concepts/parameter-tuning\n",
    "    \n",
    "    NUMERO DE ARBOLES/MODELOS:\n",
    "    XGBoost: n_estimators\n",
    "    LightGBM: num_iterations\n",
    "    CatBoost: iterations\n",
    "    \n",
    "    Profundidad de los árboles:\n",
    "    XGBoost: max_depth\n",
    "    LightGBM: num_leaves, min_data_leaf, max_depth\n",
    "    CatBoost: depth\n",
    "    \n",
    "    Regularizacion:\n",
    "    XGBoost: Lambda (l2), alpha (L1), gamma, eta (Cuanto más altos menos overfitting)\n",
    "    LightGBM: lambda_l1, lambda_l2\n",
    "    CatBoost: l2_leaf_reg\n",
    "    \n",
    "    Ejecución:\n",
    "    XGBoost: learning_rate (a más mas overfitting y más problemas de no convegencia)\n",
    "    LightGBM: learning_rate\n",
    "    CatBoost: learning_rate\n",
    "    \n",
    "    LightGBM: early_stopping_rounds, early_stop\n",
    "    CatBoost: early_stopping_rounds, od_type\n",
    "    \n"
   ]
  },
  {
   "cell_type": "markdown",
   "id": "781459d8-7f56-4b0d-b348-b2632470de21",
   "metadata": {
    "tags": []
   },
   "source": [
    "CatBoost tiene su propio método para hacer Grid_search"
   ]
  },
  {
   "cell_type": "markdown",
   "id": "4467d932-bdcf-4853-a50f-88e5ea9b75ae",
   "metadata": {},
   "source": [
    "https://towardsdatascience.com/catboost-vs-lightgbm-vs-xgboost-c80f40662924"
   ]
  },
  {
   "cell_type": "markdown",
   "id": "c41442bf-8eed-4b33-8556-5e90bf7973a9",
   "metadata": {
    "tags": []
   },
   "source": [
    "<img scr=\"./boosting_table_1.png\" alt=\"boosting_table_1?\" />"
   ]
  },
  {
   "cell_type": "markdown",
   "id": "afd77e01-be14-49d7-8130-4271ae26a3f6",
   "metadata": {},
   "source": [
    "### Modelo/Problema: Procesado Lenguaje Natural para principalmente clasificación\n",
    "1. Cargamos el dataset, identificamos las columnas o features que son texto plano a procesar.\n",
    "2. Limpiamos (Normalizar el texto):  (no necesariamente todos los pasos, depende del problema y el contexto)\n",
    "    - Quitamos signos de puntuación (ojo, si quiero conservar emoticonos, o el sentido interrogativo, etc de las frases, tendré que hacer algo antes)\n",
    "    - Quitamos signos \"raros\" o terminos que no necesitemos (direcciones http, hashtags, etiquetas html, etc con la misma consideración anterior)\n",
    "    - Quitamos stopwords\n",
    "    - Todo lo anterior depende del idioma en el que estemos trabajando OJO\n",
    "3. Vectorizar o reducir antes de vectorizar:\n",
    "    3.1 Vectorizar:\n",
    "        - Bag of Words, con un conteo binario o un conteo completo, con por ejemplo el CountVectorizer\n",
    "        - Tf-idf (term frenquency-inverse document frequency), lo podemos calcular con por ejemplo TfIdfVectorizer\n",
    "    Ya tengo mis features........... de partida\n",
    "    3.2 Reducir\n",
    "        - Stemmer -> \"raiz\", quito sufijos y prefijos hasta quedarme con la \"raiz\"\n",
    "        - Lemmatizer -> lema o raiz lexica, por ejemplo las formas verbales se convierten en su infinitivo\n",
    "    3.3 Aumentar features:\n",
    "        - n-gramas -> agrupaciones de n términos que aparecen juntos en el texto.\n",
    "4. Hago mi trabajo de data science y busco otras features que me puedan servir: los conteos suelen funcionar (cuantas palabras, cuantos adjetivos, cuantos verbos, etc)... Pero puede que haya otras cosas -> emoticonos, caritas :-), o falta de ellas... \n",
    "5. Ya puedo entrenar como un modelado de los que hemos visto ya.\n",
    "\n",
    "Extra:\n",
    "- PoS Tagging -> Modelos como los de la librería spacy me ofrecen el Part of Speech Tag de cada palabra (es decir si funcionan como determinantes, pronombres, verbos, adjetivos, adverbios, etc) \n",
    "- Y para el futuro que alguien (Gabi) me recuerde el NER (Named Entity Recognition)\n",
    "    "
   ]
  },
  {
   "cell_type": "markdown",
   "id": "80714f6d-24d5-4333-9e45-feaaac756700",
   "metadata": {
    "tags": []
   },
   "source": [
    "### Modelo/Problema: Time Series\n",
    "1. Carga la serie temporal en un dataframe\n",
    "2. Univariante o Multivariante (tenemos varias features temporales relacionadas con nuestra serie principal, podríamos elegir alguna de estas para luego nuestros ArimaX)\n",
    "3. Pintado sencillo\n",
    "4. Compruebo Missings (valores faltantes o periodos faltantes) -> Valores faltantes: ffill, bfill, interpolación, etc -> (Ir al notebook y copiarnos en utilidades la parte correspondiente)\n",
    "5. Pintar:\n",
    "    from pmdarima.utils import tsdisplay\n",
    "    tsdisplay(serie, lang_max = <depende de la serie>)\n",
    "    grafica de evolución temporal\n",
    "    autocorrelación -> ojimetro decidir máximo de hiperparámetros (p,q)\n",
    "    histograma de valores\n",
    "6. Descomponiendo y pintando componentes:\n",
    "    from statsmodels.tsa.seasonal import seasonal_decompose\n",
    "    result_add = seasonal_decompose(serie, model = \"additive\", extrapolate_trend = \"freq\")\n",
    "    Pintais todas las componentes de result_add.trend, .seasonal, etc\n",
    "7. Preseleccionar max_p, max_d, max_q y si tengo m (que es el número de unidades temporales de mi periodo de estacionalidad, para entendernos si la estacionalidad es anual -> m = 12, trimestral = 4, cuatrimestral = 3, bimensual = 2, bimestral = 6 (esto lo ha dicho Gonzalo, check doble o triple!!!!)\n",
    "8. Hiperparámetros: p numero de periodos de la autoregresión (lo intuyo mirando el gráfico de autocorrelación y me quedo con max_p = a los periodos desde el primero que tengan un valor alto -> max_p = 5-10); q el mismo max_q que max_p, y finalmente me fijo en si existen puntos de autocorrelación alta más lejanos -> max_d = punto más lejano que correla/4)\n",
    "9. Hiperparámetros: m -> me fijo en la componente estacional y de ahí deduzco.\n",
    "10. SPLIT en train y test: train = dataset[:n] test= dataset[n:]\n",
    "11.  ¿Cómo escoger n? Como m, o 2m, o multiplos de m, sino de 10-24\n",
    "12. from pmdarima import autoArima, min_p, min_d, min_q = 0, el resto como los he escogido si m != 0 entonces seasonality = True (nmirarlo en el help)\n",
    "13. Internamente eligirá la mejor combinación comprobando el AIC\n",
    "14. PERO nosotros mediremos nuestro modelo con RMSE o MAPE\n",
    "    MAPE -> Problema: Es que si tengo valores nulos o muy pequeños el MAPE se dispara -> si el valor es muy pequeño multiplicar todos los valores por 1000 cuando dividen y luego el MAPE total por la misma cantidad. Si hay valores 0, hmmmm -> mirar la documentación de sklearn.\n",
    "15. Si todo  falla: http://alkaline-ml.com/pmdarima"
   ]
  },
  {
   "cell_type": "markdown",
   "id": "964813ff-84a2-44d8-9895-41a335910028",
   "metadata": {
    "tags": []
   },
   "source": [
    "## MODELOS NO SUPERVISADOS"
   ]
  },
  {
   "cell_type": "markdown",
   "id": "460e5493-e1a8-474e-b812-b154e14594b6",
   "metadata": {
    "tags": []
   },
   "source": [
    "#### **Modelo**: K-Means\n",
    "**Filosofía**: Encontrar agrupaciones no supervisadas de los datos de entrada en K clusters, tener la menor \"inercia\" respecto a sus centroides. Depende mucho de la inicialización de los centroides. \n",
    "**Para qué**: Para agrupar de forma no supervisada, se puede predecir a que cluster pertenecerá una instancia que no ha sido utilizada en el entrenamiento. Clasifico -> Asignar la probabilidad media de mis vecinos, asignar la categoría mayoritaria. Regrsión -> Asignamos la media de la variable target para mis vecinos   \n",
    "**De dónde**: sklearn.clusters  \n",
    "**Cómo clusterizador**: Kmeans \n",
    "**Cómo regresión**: N/A   \n",
    "**Hiperparámetros: k, n_init = numero de veces que inicializo para evitar el problema de los random de los centroides,\\\n",
    "init = \"random\", \"kmeans++\" (una distribución empírica para la inicicialización)\n",
    "**CUÁNDO USARLO**: Hacer una clusterización rápida, pero necesito optimizar K a mano -> inertia (diferentes K), coeficiente silueta, diagramas de silueta\n",
    "Y SI TODO FALLA: help(Kmeans)"
   ]
  },
  {
   "cell_type": "code",
   "execution_count": 2,
   "id": "bb64109e-6994-47a1-856e-b9227fc602ee",
   "metadata": {},
   "outputs": [],
   "source": [
    "from sklearn.cluster import DBSCAN"
   ]
  },
  {
   "cell_type": "markdown",
   "id": "db4ee992-8f49-4a6f-9915-f4de226ebbe7",
   "metadata": {
    "tags": []
   },
   "source": [
    "#### **Modelo**: DBSCAN\n",
    "**Filosofía**: Agrupaciones por densidad de puntos, es decir para cada punto estima si tiene n vecinos a menos de una distancia eps (epislon), si los tiene es un cluster y fusiono los clusters de mis vecinos que también son clusters.  \n",
    "**Para qué**: Para agrupar de forma no supervisada, NO IMPLEMENTA UN PREDICTOR... Pero se puede usar para etiquetar el dataset original y entrenar con el dataset original y sus etiquetas.  \n",
    "**De dónde**: sklearn.cluster  \n",
    "**Cómo clusterizador**: DBSCAN  \n",
    "**Cómo regresión**: N/A  \n",
    "**Hiperparámetros: eps = distancia de mis vecinos y min_samples = minímo de vecinos para ser considerado una instancia core \n",
    "**CUÁNDO USARLO**: Hacer una clusterización cuando pienso que los clusters no van a tener una forma regular/esférica, y cuando Jaime necesite hacerle un videojuego a su hija...."
   ]
  },
  {
   "cell_type": "code",
   "execution_count": 1,
   "id": "9be0f601-7918-4813-8201-95759faffb57",
   "metadata": {},
   "outputs": [],
   "source": [
    "from sklearn.cluster import AgglomerativeClustering"
   ]
  },
  {
   "cell_type": "markdown",
   "id": "6d87abc2-1f7a-4b20-b9f6-28774885b6ba",
   "metadata": {},
   "source": [
    "#### Modelo: Agglomerative Hierarchical Clustering\n",
    "Filosofía: Clustering jerárquico -> Además de las distancias entre instancias o \"puntos\" tenemos en cuenta la \"distancia\" entre clusters para formarlos. Primero pintamos un dendrograma, hacer el clustering para luego decidir cuantos quiero. Una vez lo sé, le pido que me los construya. Hemos aprendido a usar el Aggregative de sklearn\n",
    "Para qué: Para agrupar de forma no supervisada, \n",
    "De dónde: sklearn.cluster\n",
    "Cómo clusterizador: AgglomerativeClustering\n",
    "Para pintar el dendrograma: Ver \"Utilidades\"\n",
    "Cómo regresión: N/A\n",
    "CUANDO: Cuando necesite considerar la distancia entre clusters\n",
    "**Hiperparámetros: n_clusters, affinity/metric -> tipo de distancia, linkage= simple, complex, average, centroid, ward"
   ]
  },
  {
   "cell_type": "markdown",
   "id": "d707ac42-ff24-4cb6-9dfc-06e8fae3f987",
   "metadata": {},
   "source": [
    "#### PCA (Principal Component Analysis)"
   ]
  },
  {
   "cell_type": "markdown",
   "id": "075c2264-2aff-4357-91c8-748752cb0d81",
   "metadata": {},
   "source": [
    "PCA:\n",
    "PARA QUÉ\n",
    "- Reducir features -> perdiendo una cantidad de información, que nosotros elegimos el nivel de información que perdemos. Ganamos tiempos de procesado, ganar en generalización (depende)\n",
    "- Para visualizar datasets -> Puedo pasar a 2,3 dimensiones y ver mejor relaciones entre \"elementos\" de mi dataset\n",
    "Filosofía:\n",
    "- Autovectores de la matriz de covarianza de mis datos originales, cada autovalor representa la cantidad de varianza explicada por componente. Así sé cuantas componentes me quiero quedar.\n",
    "- Si no digo nada PCA -> Devuelve tantas dimensiones/features como originalmente tenía. \n",
    "De donde: \n",
    "- sklearn.decomposition \n",
    "Cómo:\n",
    "- PCA\n",
    "(hiper)Parámetros PCA:\n",
    "n_components = int -> Número de componentes principales que quiero usar para transformar los datos originales\n",
    "n_components = [0,1] -> Utiliza las componentes que necesites para explicar el % de varianza indicado por \"n_components\" (ej PCA(n_components = 0.7) -> PCA que conserven un 70% de varianza.\n",
    "PCA.fit(Dataset):\n",
    "PCA.components_ --> coeficientes que me dicen como se construye cada PCA en fución de las features originales de Dataset\n",
    "PCA.explained_variance_ratio_ -> Una lista de elementos decrecientes con el porcentaje de varianza que aporta cada PCA\n",
    "Si las queremos usar tendremos que hacer el transform:\n",
    "X = PCA.trasnform(Dataset), si hicimos la PCA con más componentes de los que queremos tendremos que deshacernos de esas PCAs. \n",
    "pd.DataFrame(X, columns = [Tantas PCAS como haya]) -> drop de las que no quiero."
   ]
  },
  {
   "cell_type": "markdown",
   "id": "9a930e6a-ba11-4a1e-b9c4-8be77c7ef116",
   "metadata": {
    "tags": []
   },
   "source": [
    "# METRICAS"
   ]
  },
  {
   "cell_type": "markdown",
   "id": "ed70e12a-a32f-4fec-a15f-16d0a1bc5862",
   "metadata": {
    "tags": []
   },
   "source": [
    "### 16.2 Métricas para regresión\n",
    "\n",
    "##### R^2\n",
    "El R^2 es el coeficiente de determinación, representa el porcentajede variación de la variable dependiente vs la independiente para un modelo lineal. Se mide entre 0 y 1. El problema es que R^2 no nos indica si mi modelo se ajusta bien a mis datos. Un buen modelo puede tener un R^2 bajo, e incluso un modelo mal entrenado podría llegar a tener un R^2 alto. [En este artículo tienes más detalles](https://statisticsbyjim.com/regression/interpret-r-squared-regression/#:~:text=R%2Dsquared%20evaluates%20the%20scatter,around%20the%20fitted%20regression%20line.&text=For%20the%20same%20data%20set,that%20a%20linear%20model%20explains.)\n",
    "\n",
    "<img src=\"./img/r_squared.png\" alt=\"drawing\" width=\"230\"/>\n",
    "\n",
    "##### Mean Squared Error (MSE)\n",
    "La media de los errores al cuadrado. ¿Por qué al cuadrado? Porque al calcular la suma no queremos que se nos cancelen unos errores con otros. ¿Qué esté al cuadrado nos sirve como medida de errores? Perfectamente, es más, esta métrica magnifica los errores grandes, por lo que si esos son los errores que no corregimos, seguiremos teniendo un MSE alto. \n",
    "\n",
    "MSE es una métrica muy utilizada ya que nos sirve para hacer foco en los errores grandes. Como los datos están al cuadrado, no suele ser una métrica para presentar resultados ya que los datos están \"distorsionados\". **Se utiliza mayormente para comparar modelos**.\n",
    "\n",
    "<img src=\"./img/mse.jpg\" alt=\"drawing\" width=\"200\"/>\n",
    "\n",
    "##### Root Mean Squared Error (RMSE)\n",
    "Igual que en el caso anterior, pero ahora en unidades del target. Esta métrica nos servirá tanto para comparar modelos, como para presentar resultados.\n",
    "\n",
    "<img src=\"./img/rmse.png\" alt=\"drawing\" width=\"180\"/>\n",
    "\n",
    "##### Mean Absolute Error (MAE)\n",
    "Muy util cuando queremos medir errores en las unidades de la variable. Te dice qué error puedes esperar en la predicción de la variable. Muy bueno cuando hay outliers, ya que lo vamos a ver claramente reflejado en la medida.\n",
    "\n",
    "<img src=\"./img/mae.png\" alt=\"drawing\" width=\"200\"/>\n",
    "\n",
    "##### Mean Absolute Percentage Error (MAPE)\n",
    "Es la única métrica acotada entre 0 y 1. Proporciona, en media, el % de error para cada punto respecto a su true label. Cuando queremos comparar modelos con diferentes targets, como por ejemplo en series temporales, las otras métricas no nos sirven porque van en función de las unidades de cada target, sin embargo mediante el MAPE podremos comparar con la misma unidad de medidas.\n",
    "\n",
    "<img src=\"./img/mape.jpeg\" alt=\"drawing\" width=\"230\"/>\n"
   ]
  },
  {
   "cell_type": "markdown",
   "id": "4713dffc",
   "metadata": {},
   "source": [
    "### 16.1 Métricas para clasificación\n",
    "\n",
    "##### Accuracy\n",
    "La métrica más habitual. Calcula el % de acierto teniendo en cuenta todas las clases del algoritmo de clasificación. Esta métrica es muy fácil de entender, pero no profundiza en el % de acierto de cada clase, que puede ser algo interesante, dependiendo del problema que queramos tratar.\n",
    "\n",
    "Accuracy = (TP + TN) / Total\n",
    "\n",
    "##### Matriz de confusión\n",
    "Confusión o *error matrix* es una tabla que describe el rendimiento de un modelo supervisado de Machine Learning en los datos de test, donde se desconocen los verdaderos valores. Se llama “matriz de confusión” porque hace que sea fácil detectar dónde el sistema está confundiendo dos clases.\n",
    "\n",
    "* **True Positives (TP)**: cuando la clase real del punto de datos era 1 (Verdadero) y la predicha es también 1 (Verdadero)\n",
    "* **Verdaderos Negativos (TN)**: cuando la clase real del punto de datos fue 0 (Falso) y el pronosticado también es 0 (Falso).\n",
    "* **False Positives (FP)**: cuando la clase real del punto de datos era 0 (False) y el pronosticado es 1 (True).\n",
    "* **False Negatives (FN)**: Cuando la clase real del punto de datos era 1 (Verdadero) y el valor predicho es 0 (Falso).\n",
    "\n",
    "##### Recall o Sensibilidad\n",
    "Los positivos que he clasificado bien vs todos los positivos que había. Métrica que se utiliza cuando queremos ahcer foco en minimizar los FN (Falsos Negativos). Claro ejemplo puede ser un test de COVID. No me importa tanto que haya FP, ya que las consecuencias son aislamientos preventivos, mientras que tener FN, es decir, personas con COVID, cuyo resultado del test es negativo, si es grave ya que pueden producir más contagios.\n",
    "\n",
    "Recall = TP / (TP + FN)\n",
    "\n",
    "##### Precision\n",
    "De los que ha predicho como 1, cuántos en realidad ha acertado. Precision, a diferencia del recall, pone foco en minimizar los FP. Como ejemplo podemos poner un filtro anti-spam. Que se cuele algún correo de spam (FN) no me importa. Ahora bien, si se clasifica como spam un correo importante del jefe (FP) y no lo leemos, sí es más grave.\n",
    "\n",
    "Precision = TP / (TP + FP)\n",
    "\n",
    "##### Specifity\n",
    "Es el número de ítems correctamente identificados como negativos sobre el total de negativos. Es lo opuesto al Recall.\n",
    "\n",
    "Specifity = TN / (TN + FP)\n",
    "\n",
    "##### F1-Score\n",
    "Combinación de las métricas Precision y Recall. Esta métrica se utiliza para comparar clasificadores, ya que es algo más compleja de entender, pero muy útil cuando tenemos clasificadores cuyos valores de recall y precision se intercalan unos con otros y no está muy claro cuál es mejor, a no ser que tengamos claro que hay que centrarse o bien en el recall o en el precision. El rango del F1-score va de 0 a 1, como las métricas anteriores.\n",
    "\n",
    "F1-score = 2 * Precision * Recall / (Precision + Recall)\n",
    "\n",
    "\n",
    "##### Precision vs Recall plot\n",
    "Recuerda que el modelo por defecto calcula las probabilidades de pertenecer a una clase, y que por defecto, si por ejemplo el clasificador es binario, y la probabilidad cae por encima del 50% se clasificaría como 1, como positivo. Ahora bien, modificar ese threshold cambia completamente la matrz de confusión. Si subimos el threshold somos más restrictivos con los 1s, y por tanto empezará a clasificar más valores como 0s y como FN. En cambio si lo bajamos, somos más permisivos con los 1s, los clasificaríamos casi todos, pero subirían los FP.\n",
    "\n",
    "Es por ello que existen curvas como ROC o Precision vs Recall con las que podremos ver diferentes comportamientos del clasificador, teniendo en cuenta varios thresholds, y todo ello en una misma gráfica.\n",
    "\n",
    "Mediante esta curva obtendremos el punto óptimo de precision vs recall. Para usar esta gráfica hay que comprender bien qué significan las métricas de precision y de recall\n",
    "\n",
    "<img src=\"./img/precs_recall.png\" alt=\"drawing\" width=\"500\"/>\n",
    "\n",
    "##### ROC Curve/AUC\n",
    "Similar a la anterior curva. Nos sirve para comparar el recall con FPR = FP/(FP + TN)\n",
    "\n",
    "De esta curva podemos obtener una medida, que es el AUC (Area Under the Curve). El AUC cuanto más cercano a 1, mejor será el clasificador. Si la curva es una línea recta estaremos ante un clasificador muy malo, que no sería muy diferente a un clasificador aleatorio.\n",
    "\n",
    "**Normalmente se usa la ROC curve cuando tenemos datasets balanceados, mientras que la curva precision-recall es más propia de datasets con una clase mayoritaria.**\n",
    "\n",
    "<img src=\"./img/roc.png\" alt=\"drawing\" width=\"500\"/>"
   ]
  },
  {
   "attachments": {},
   "cell_type": "markdown",
   "id": "eefc6ec7",
   "metadata": {},
   "source": [
    "LIFT:\n",
    "\n",
    "Medida adicional en los modelos de clasificación para compararlos.\n",
    "\n",
    "Comparar lo bueno o malo que es mi modelo con la realidad del dataset.\n",
    "\n",
    "Mecanica:\n",
    "Clasificador binario:\n",
    "- Ordena su población por la probabilidad de pertenecer a la clase 1 de mayor a menor.\n",
    "- Ordena aleatoriamente la misma población.\n",
    "- Compara por percentiles, lo que acierta la serie ordenada sobre la serie aleatoria.\n",
    "Lift = tasa de aciertos en la serie ordenada/tasa de aciertos en la serie aleatoria (por percentil acumulado) -> Lift 5%, Lift 10%, Lift 100%\n",
    "Ejemplo: \n",
    "    Clase 1 -> 50% en la población.Lo normal es que la serie ordenada aleatoriamente tenga ese 50% de clase 1 en cada percentil.\n",
    "    Entonces en los primeros percentiles (10-15) -> Clasificador es bueno un lift >> 1\n",
    "\n",
    "Lift, Lift2, Lift3... -> Lift medio\n",
    "\n",
    "Posible código:\n",
    "#Function that plots a Lift Curve using the real label values of a dataset and the probability predictions of a Machine Learning Algorithm/model\n",
    "#@Params:\n",
    "#y_val: real labels of the data\n",
    "#y_pred: probability predictions for such data\n",
    "#step: how big we want the steps in the percentiles to be\n",
    "\n",
    "#imports\n",
    "import numpy as np\n",
    "import pandas as pd\n",
    "\n",
    "def plot_lift_curve(y_val, y_pred, step=0.01):\n",
    "    \n",
    "    #Define an auxiliar dataframe to plot the curve\n",
    "    aux_lift = pd.DataFrame()\n",
    "    #Create a real and predicted column for our new DataFrame and assign values\n",
    "    aux_lift['real'] = y_val\n",
    "    aux_lift['predicted'] = y_pred\n",
    "    #Order the values for the predicted probability column:\n",
    "    aux_lift.sort_values('predicted',ascending=False,inplace=True)\n",
    "    \n",
    "    #Create the values that will go into the X axis of our plot\n",
    "    x_val = np.arange(step,1+step,step)\n",
    "    #Calculate the ratio of ones in our data\n",
    "    ratio_ones = aux_lift['real'].sum() / len(aux_lift)\n",
    "    #Create an empty vector with the values that will go on the Y axis our our plot\n",
    "    y_v = []\n",
    "    \n",
    "    #Calculate for each x value its correspondent y value\n",
    "    for x in x_val:\n",
    "        num_data = int(np.ceil(x*len(aux_lift))) #The ceil function returns the closest integer bigger than our number \n",
    "        data_here = aux_lift.iloc[:num_data,:]   # ie. np.ceil(1.4) = 2\n",
    "        ratio_ones_here = data_here['real'].sum()/len(data_here)\n",
    "        y_v.append(ratio_ones_here / ratio_ones)\n",
    "           \n",
    "   #Plot the figure\n",
    "    fig, axis = plt.subplots()\n",
    "    fig.figsize = (40,40)\n",
    "    axis.plot(x_val, y_v, 'g-', linewidth = 3, markersize = 5)\n",
    "    axis.plot(x_val, np.ones(len(x_val)), 'k-')\n",
    "    axis.set_xlabel('Proportion of sample')\n",
    "    axis.set_ylabel('Lift')\n",
    "    plt.title('Lift Curve')\n",
    "    plt.show()"
   ]
  },
  {
   "attachments": {},
   "cell_type": "markdown",
   "id": "59ccd618",
   "metadata": {},
   "source": [
    "### MULTICATEGORICA:\n",
    "- Cuando tengo varias categorias exclusivas\n",
    "- No suele ser interesante mirar sólo el accuracy -> es el total de aciertos (para todas las clases)/total de instancias -> Si el dataset está balanceado en las clases, pues bien, pero si hay una clase que domina, y tienes muchos aciertos, sesga o viceversa. \n",
    "- Sacamos la precision y el recall por clase.\n",
    "- Además aprovechamos y hacemos algo que no solemos hacer que es ver dónde fallamos. Es decir si hay alguna clase especialmente mala con la precision y el recall.\n",
    "- Si la hay, pues... ¿Qué hacemos? Podremos probar a aplicar pesos (weight) en el modelo o tratara manubrio el dataset de entrenamiento para darle más importancia a la clase rebelde. "
   ]
  },
  {
   "attachments": {},
   "cell_type": "markdown",
   "id": "4351db0c",
   "metadata": {},
   "source": [
    "## METRICAS CON ALGO DE NEGOCIO\n",
    "\n",
    "Un ejemplo muy sencillo de cómo introducir parámetros económicos para completar las medidas de un ModuleNotFoundError\n",
    "\n",
    "<img src=\"./img/ejercicio_metrica_economica.png\" alt=\"algo de negocio\" width = \"1000\"/>"
   ]
  },
  {
   "cell_type": "markdown",
   "id": "33ff4df5",
   "metadata": {},
   "source": [
    "# DEEP"
   ]
  },
  {
   "attachments": {},
   "cell_type": "markdown",
   "id": "25dae067",
   "metadata": {},
   "source": [
    "Capas de Keras:\n",
    "Vayamos construyendo nuestra __lista de capas__ (para guardar en el \"Toolbox\"):\n",
    "\n",
    "__Entrenables__:  \n",
    "__* Dense__ -> Capa completamente conectada a las neuronas de la capa anterior y a la posterior  \n",
    "    Hiperparámetros asociados:     \n",
    "        * units: Number of neurons, dimensionality of the output space  \n",
    "        * activation: Activation function to use. If you don't specify anything, no activation is applied  \n",
    "        * kernel_initializer: Initializer for the kernel weights matrix.  \n",
    "        * bias_initializer: Initializer for the bias vector. (Suelen inicializarse a cero)\n",
    "        * Kernel_regularizar: Los clásicos (L1,L2,...)\n",
    "\n",
    "__*Conv2D__ -> Capa convolucional para dos dimensiones -> imágenes\n",
    "    Hiperparámetros:\n",
    "        * kernel -> tamaño del kernel (ese cuadradito que hace la convolución)\n",
    "        * padding -> Value (no padding) y Same (padding con ceros)\n",
    "        * stride -> Desplazamiento vertical y horizontal del kernel\n",
    "        * activation -> La función de activación -> RELU\n",
    "        * inizializadores y regularizadores\n",
    "        * filtros -> El número de filtros que tiene la capa (es cómo pero no es la neurona)\n",
    "        Referencia: https://keras.io/api/layers/convolution_layers/convolution2d/\n",
    "\n",
    "__* MaxPooling2D__ -> Capa que hace el pooling de los filtros de una convolucional de 2 dimensiones, se queda con el máximo de los pixeles que entran en su kernel\n",
    "    Hiperparámetros (ojo no se entrena, pero se ajusta a mano):\n",
    "    * pool_size -> Equivalente al kernel de la convolucional\n",
    "    * padding -> igual que en convolucional en significado no en valor necesariamente \n",
    "    * stride -> mismo significado que en convolucional\n",
    "__* AveragePooling2D__ -> Hace pooling pero se queda con la media de los valores que comprende su kernel\n",
    "    Mismos hiperparámetros que la anterior\n",
    "\n",
    "__* GlobalMaxPooling2D__ -> Después de esta capa ya no hay n filtros o n canales -> solo 1 filtro o solo 1 canal, se queda con el valor máximo de los puntos coincidentes en cada filtro o canal\n",
    "\n",
    "__* GlobalAveragePooling2D__ -> Después de esta capa ya no hay n filtros o n canales -> solo 1 filtro o solo 1 canal, se queda con el valor medio de los puntos coincidentes en cada filtro o canal\n",
    "\n",
    "__* SimpleRNN__ -> Capa para celdas sencillas recurrentes, pero también puede incluir cualquier otro tipo de celda, en función de como le demos la entrada y como sea la salida habrá que poner el parámetro return_sequences a True (cuando tengo otras capas recurrentes después por ejemplo). Transmite un hidden_state que en este caso coincide con la salida en el intervalo anterior (recordad que espera secuencias como input)\n",
    "\n",
    "__* LSTM__ -> Hiperparámetro -> número de unidades, es que no debemos usar funciones de activación no-saturantes (pues como la ReLU, que no satura o limita la salida), en general usaremos Tanh. Tiene dos hidden_states.\n",
    "\n",
    "__* GRU__ -> Es una \"simplificación de la capa LSTM, tiene un único hidden_state que no corresponde con la salida sino que intenta llevar información de corto  y largo plazo. Hiperparámetro -> número de unidades. Unidades no neuronas porque realmente cada unidad tiene varias capas de neuronas por dentro.\n",
    "\n",
    "__* Embedding__ -> Capa que me permite \"convertir\" una palabra (no solo palabras) en un vector de característica y cuáles,las que necesite o mejoren el problema en el que incluya mi embedding. Es una capa inicial. El hiperparámetro más importante es el número de dimensiones del vector por palabra. Ojo también hay que pasarle (input_dim) el tamaño del vocabulario... Ojo para puntillosos: Esto es un word embedding, la capa permite hacer embedding con cualquier tipo de feature... https://keras.io/api/layers/core_layers/embedding/\n",
    "\n",
    "__* Attention__ -> tf.keras.layers.Attention(use_scale=False, score_mode=\"dot\", **kwargs), tres entradas Q,K,V -> Inputs are query tensor of shape [batch_size, Tq, dim], value tensor of shape [batch_size, Tv, dim] and key tensor of shape [batch_size, Tv, dim]. The calculation follows the steps:\n",
    "\n",
    "Calculate scores with shape [batch_size, Tq, Tv] as a query-key dot product: scores = tf.matmul(query, key, transpose_b=True).\n",
    "Use scores to calculate a distribution with shape [batch_size, Tq, Tv]: distribution = tf.nn.softmax(scores).\n",
    "Use distribution to create a linear combination of value with shape [batch_size, Tq, dim]: return tf.matmul(distribution, value).\n",
    "\n",
    "__*tf.keras.layers.MultiHeadAttention__ -> Número de cabezas (cuantas más, más características de las relaciones entre posiciones de una frase aprendera), key_dim: Size of each attention head for query and key y value_dim (size of each attention head for the value) -> Value y Key van a ser el mismo Tensor.\n",
    "\n",
    "\n",
    " \n",
    "__Funcionales__:       \n",
    "__* Input__ -> Capa para definir la forma de la entrada (shape), que se puede pasar como input_shape\n",
    "__* Flatten__ -> Capa que aplana (convierte su entrada en un vector)\n",
    "__* Dropout__ -> Capa para Regularizar, evitar Overfitting, hiperparámetro -> porcentaje de neuronas que desactiva en por época (rate), sólo en entrenamiento (Monte Carlo Dropout -> en el que el dropout si está activo en el periodo de inferencia -> cuando hacemos el predict... ) MC Dropout\n",
    "__* Normalize__ -> Capa que me hace el equivalente a el StandarScaler\n",
    "__* StringLookUp__ -> Capa que hace ordinal enconding (por frecuencia de aparición, clase 0 la más frecuente etc) y también one_hot encoding\n",
    "__* TextVectorization__ -> Capa que me permite hacer el equivalente al CountVectorizer de sklearn, el TfIdfVectorizer de sklearn, pero también nos permite convertir una frase o secuencia de texto en una lista de índices a un vocabulario.\n",
    "\n",
    "Otros conceptos:\n",
    "__* Padding en NLP__-> rellenar con ceros una secuencia de texto para que todas tengan el mismo tamaño\n",
    "__* Padding en CV__ -> rellenar con ceros un kernel para que todos los píxeles de una imagen esten representados en un filtro de una capa convolucional"
   ]
  },
  {
   "cell_type": "markdown",
   "id": "9314a06a-07f9-46af-95e4-b8babcb794d2",
   "metadata": {
    "tags": []
   },
   "source": [
    "## RECETAS"
   ]
  },
  {
   "attachments": {},
   "cell_type": "markdown",
   "id": "9637f7cf",
   "metadata": {},
   "source": [
    "Consejos después de una apasionante e ilusioante presentación de Proyectos:\n",
    "En lo que hay que reforzar, es decir que está muy bien y no hay que dejar de hacerlo: \n",
    "1. Trabajo de los datos y de búsqueda (se etiquetaron datos, se buscaron fuentes más o menos limpias, se crearon features, buscasteis Thermoixes es decir otros modelos o arquitecturas que me pudieran ayudar con el problema).\n",
    "2. Selección de métricas -> Importante saber que quiero mejorar como ser humano, es decir la función de pérdida ya la mejora el optimizador... Recall, MSE, MAE, MAPE, etc\n",
    "3. El esfuerzo sobre el balanceo, por entender porque no funcionaba el modelo o la idea de funcionamiento...\n",
    "4. Estudiar igual de intensamente los datos de salida (los errores, los aciertos) que los datos de entrada. \n",
    "5. Tematicas, se puede aplicar a casi cualquier cosa.\n",
    "\n",
    "\n",
    "Cositas a revisar:\n",
    "1. Entender los datos. Fundamental!!!!!!!!!!!! El EDA está muy bien, pero hay que tener o explorar un poco de conocimiento de dominio.\n",
    "2. Baseline -> Modelo, le das de comer los datos crudos; La predicción de la semana pasada como en el caso de las series temporales, Usar lo que dirían los expertos del campo. \n",
    "3. Cross-Validation -> Validation y el test que se parezca al train en el target (stratified en el train_test_split)\n",
    "4. Balanceo y Escalado.\n",
    "5. Regularizar: Además de las técnicas sobre el modelo, aunque sea el último resorte -> Manipular el train\n",
    "6. GridSearch: No es mágico... Si no le pones los rangos de valores de hiperparámetros adecuados, pues no va a dar más de sí... \n",
    "7. METRICA que importa es la que nos dice si estamos resolviendo el problema que queremos resolver (ojo el problema del ser humano no del modelo).  \n",
    "\n",
    "\n",
    "DEPENDE\n"
   ]
  },
  {
   "attachments": {},
   "cell_type": "markdown",
   "id": "8377ccee",
   "metadata": {},
   "source": [
    "Problema de clasificación:\n",
    "\n",
    "Clase 1 -> Clase Positiva\n",
    "Clase 0 -> Calse Negativa\n",
    "B(TP) -> beneficio de detectar un positivo\n",
    "B(TN) -> beneficio de detecar un negativo\n",
    "C(FP) -> Coste de un falso positivo\n",
    "C(FN) -> Coste de un falso negativo\n",
    "C(Acción) -> Coste de cualquier acción que pueda hacer sobre los resultados\n",
    "\n",
    "Metrica = P(p) * P(tp) * (B(TP)-C(a)) + P(p) * P(fp) * (-C(FP)-C(a)) + P(n) * P(TN) * (B(TN)- C(a)) + P(n) * P(FN) * (-C(FN)-C(a))\n"
   ]
  },
  {
   "attachments": {},
   "cell_type": "markdown",
   "id": "41d41278",
   "metadata": {},
   "source": [
    "# OOV -> Out of Vocabulary:\n",
    "Hashtrick\n",
    "20 categorías -> 30 categorías -> cuando encuentre una categoría nueva o la asigna directamente a las 10 de reserva, y por supuesto le queda uno menos, y siempre te guardas una para \"Otros\" o \"Unknown\"... Hash(nueva categoria, o la categoría desconocida)"
   ]
  },
  {
   "cell_type": "markdown",
   "id": "a6e0e045",
   "metadata": {},
   "source": [
    "Guía \"casera\":\n",
    "\n",
    "1- Recetas (adaptada de \"Hands-on...\")  PARA MLPs!!!!    \n",
    "    * Capas:   \n",
    "        - Empezar con una capa oculta e ir añadiendo (dependiendo de la complejidad del problema, probar wide & deep)\n",
    "        - Si pocas features -> más neuronas  (aumentar la combinación de features) (num_features < 100) [Orientativo]  \n",
    "        - Si muchas features  -> menos neuronas (proyección tipo PCA) (num_features > 1000) [Orientativo] e ir aumentando en capas sucesivas\n",
    "        - O empezar con muchas (doble de tus features e ir \"estrechando los pantalones\")  \n",
    "        - Construcción en prisma o pirámide (para empezar)  \n",
    "        - Inicialización: Empezar con Glorot, cambiar a He  \n",
    "        - Activación: ReLU salvo la última, si muchas capas probar -> SELU o Swish (con el inicializador a LeCunn) \n",
    "    * Optimizadores:   \n",
    "        - Si muchos datos*features -> Adam o AdamW con sus valores por defecto  \n",
    "        - Si no, SGD con Nesterov activado, y momento a 0.9  \n",
    "        - Learning rate -> 0.001-0.0001 para empezar e ir creciendo (learning-rate warm-up) (Si te atreves, buscar adaptative learning rate y optimizar con esto)  \n",
    "    * Entrenamiento:  \n",
    "        - Epoch, probar con pocas para ver duración -> Epochs altas y Callback de Early Stop activado  \n",
    "        - Batch_Size -> 32, si tienes muchos datos y una GPU a mano puedes subir mucho 64,128,256...\n",
    "    * Regularización (lo veremos):  \n",
    "        - Dropout al 0.25-0.5 (sin SELU)\n"
   ]
  },
  {
   "cell_type": "markdown",
   "id": "e3a3e704",
   "metadata": {},
   "source": [
    "01/03/23"
   ]
  },
  {
   "attachments": {},
   "cell_type": "markdown",
   "id": "6502f3f9",
   "metadata": {},
   "source": [
    "Doc CSV¨-> Muy bien explicadito y ameno"
   ]
  },
  {
   "cell_type": "markdown",
   "id": "12af3c5c-0a81-46db-ab89-bd442f4fe105",
   "metadata": {},
   "source": [
    "### 27/02/23"
   ]
  },
  {
   "cell_type": "markdown",
   "id": "ba0ee05c-60d0-4523-921f-e7b83180e496",
   "metadata": {},
   "source": [
    "Si apago las instancias de Beanstalk en AWS, no se paran los S3 asociados. Hay que pararlos a mano después de:\n",
    "    1. Quitar la política de acceso que impide que modifiques el S3\n",
    "    2. Vaciarlo\n",
    "    "
   ]
  },
  {
   "cell_type": "markdown",
   "id": "8c863787-9f9a-4f7a-889f-e9a45f36edbf",
   "metadata": {
    "tags": []
   },
   "source": [
    "predict -> Pipeline -> transform de todos los elementos menos el último y al predict del último"
   ]
  },
  {
   "cell_type": "markdown",
   "id": "0f595a0a-1d6b-4936-833f-93e44845663c",
   "metadata": {},
   "source": [
    "**TRUCOS JUPYTER**"
   ]
  },
  {
   "cell_type": "markdown",
   "id": "64ea474c-6af1-4662-ae20-bbb50d4d07dc",
   "metadata": {
    "tags": []
   },
   "source": [
    "Jupyter shortcuts\n",
    "<ESC>\n",
    "  m -> turn cell into markdown-cell\n",
    "  dd -> delete the cell\n",
    "  y -> turn cell into code-cell  \n",
    "    %%time -> Tiempo de toda la celda"
   ]
  },
  {
   "cell_type": "markdown",
   "id": "77dc90e4-fd00-4361-8b19-d0f5f6d3aa52",
   "metadata": {},
   "source": [
    "**30-01-2023, Help con shortcut**"
   ]
  },
  {
   "cell_type": "markdown",
   "id": "a2d44f9e-61b2-4078-8dd8-9a95b92d85f6",
   "metadata": {},
   "source": [
    "Llevar el cursor a la funcion luego SHIFT + TAB"
   ]
  },
  {
   "cell_type": "markdown",
   "id": "e73d5c69-6e59-4bb2-bc9f-86dba2fa0b7b",
   "metadata": {},
   "source": [
    "**01-02-2023, Valore permitidos para cmap en pyplot**"
   ]
  },
  {
   "cell_type": "code",
   "execution_count": null,
   "id": "cbef6132-38bf-4127-b5d2-3ae6fb82510b",
   "metadata": {},
   "outputs": [],
   "source": [
    "color_map = ['Accent', 'Accent_r', 'Blues', 'Blues_r', 'BrBG', 'BrBG_r', 'BuGn', 'BuGn_r', 'BuPu', 'BuPu_r', 'CMRmap', 'CMRmap_r', 'Dark2', 'Dark2_r', 'GnBu', 'GnBu_r', 'Greens', 'Greens_r', 'Greys', 'Greys_r', 'OrRd', 'OrRd_r', 'Oranges', 'Oranges_r', 'PRGn', 'PRGn_r', 'Paired', 'Paired_r', 'Pastel1', 'Pastel1_r', 'Pastel2', 'Pastel2_r', 'PiYG', 'PiYG_r', 'PuBu', 'PuBuGn', 'PuBuGn_r', 'PuBu_r', 'PuOr', 'PuOr_r', 'PuRd', 'PuRd_r', 'Purples', 'Purples_r', 'RdBu', 'RdBu_r', 'RdGy', 'RdGy_r', 'RdPu', 'RdPu_r', 'RdYlBu', 'RdYlBu_r', 'RdYlGn', 'RdYlGn_r', 'Reds', 'Reds_r', 'Set1', 'Set1_r', 'Set2', 'Set2_r', 'Set3', 'Set3_r', 'Spectral', 'Spectral_r', 'Wistia', 'Wistia_r', 'YlGn', 'YlGnBu', 'YlGnBu_r', 'YlGn_r', 'YlOrBr', 'YlOrBr_r', 'YlOrRd', 'YlOrRd_r', 'afmhot', 'afmhot_r', 'autumn', 'autumn_r', 'binary', 'binary_r', 'bone', 'bone_r', 'brg', 'brg_r', 'bwr', 'bwr_r', 'cividis', 'cividis_r', 'cool', 'cool_r', 'coolwarm', 'coolwarm_r', 'copper', 'copper_r', 'cubehelix', 'cubehelix_r', 'flag', 'flag_r', 'gist_earth', 'gist_earth_r', 'gist_gray', 'gist_gray_r', 'gist_heat', 'gist_heat_r', 'gist_ncar', 'gist_ncar_r', 'gist_rainbow', 'gist_rainbow_r', 'gist_stern', 'gist_stern_r', 'gist_yarg', 'gist_yarg_r', 'gnuplot', 'gnuplot2', 'gnuplot2_r', 'gnuplot_r', 'gray', 'gray_r', 'hot', 'hot_r', 'hsv', 'hsv_r', 'inferno', 'inferno_r', 'jet', 'jet_r', 'magma', 'magma_r', 'nipy_spectral', 'nipy_spectral_r', 'ocean', 'ocean_r', 'pink', 'pink_r', 'plasma', 'plasma_r', 'prism', 'prism_r', 'rainbow', 'rainbow_r', 'seismic', 'seismic_r', 'spring', 'spring_r', 'summer', 'summer_r', 'tab10', 'tab10_r', 'tab20', 'tab20_r', 'tab20b', 'tab20b_r', 'tab20c', 'tab20c_r', 'terrain', 'terrain_r', 'turbo', 'turbo_r', 'twilight', 'twilight_r', 'twilight_shifted', 'twilight_shifted_r', 'viridis', 'viridis_r', 'winter', 'winter_r']\n",
    "print(\"\\n\".join(color_map))"
   ]
  },
  {
   "cell_type": "markdown",
   "id": "0c223bfb-1ee1-4b5f-aec0-71c91ed05dfe",
   "metadata": {},
   "source": [
    "__Utilizar sólo o pip o conda__"
   ]
  },
  {
   "cell_type": "code",
   "execution_count": null,
   "id": "c2bcbaee-b3b3-4662-8dda-cad18b60baba",
   "metadata": {},
   "outputs": [],
   "source": [
    "!<comando> -> ejecuta comando como si estuviera en una terminal del sistema "
   ]
  },
  {
   "cell_type": "markdown",
   "id": "15922607-381c-4e3c-a3d3-40a25bde259b",
   "metadata": {},
   "source": [
    "pip3 -> para Python3"
   ]
  },
  {
   "cell_type": "markdown",
   "id": "17384613-c6fc-4be2-9801-05286cd1b82f",
   "metadata": {},
   "source": [
    "pip -> Librerías que todavía funcionan con Python 2.x con x >= 7 (O sea 2.7)"
   ]
  },
  {
   "cell_type": "code",
   "execution_count": null,
   "id": "5d04588e-ee78-47b7-88b0-8a34d7eb8b86",
   "metadata": {},
   "outputs": [],
   "source": []
  },
  {
   "cell_type": "markdown",
   "id": "ec6cdb6d-62fd-4b98-904b-82a3c534f73e",
   "metadata": {
    "tags": []
   },
   "source": [
    "## UTILIDADES"
   ]
  },
  {
   "cell_type": "markdown",
   "id": "57b785b4",
   "metadata": {},
   "source": [
    "Dos páginas la mar de interesantes:\n",
    "\n",
    "Recetas modelado DL (ML con particularidades): https://karpathy.github.io/2019/04/25/recipe/\n",
    "\n",
    "Equilibrando datasets con sklearn (balanceando :-)): https://imbalanced-learn.org/stable/"
   ]
  },
  {
   "cell_type": "markdown",
   "id": "abc0f564",
   "metadata": {},
   "source": [
    "Comandos del sistema operativo (Powershell de Windows y Terminal de Mac):\n",
    "\n",
    "PS: ls -> listado detallado del contenido del directorio en el que nos encontremos\n",
    "MAC: ls -al \n",
    "\n",
    "PS: pwd -> nos da la ruta en la que nos encontramosç\n",
    "MAC: pwd\n",
    "\n",
    "PS: cd .. -> sube un nivel en la jerarquía de directorios, o sea pisha que va pa trás en la ruta \n",
    "MAC: cd ..\n",
    "\n",
    "PS: cd \"ruta\" -> cambia a la ruta indicada entre comillas, por que pone comilla quillo, porque sois muy cabezones y ponéis espacios y cosas raras en los nombres de los directorios\n",
    "MAC: cd \"ruta\"\n",
    "\n",
    "Truqi: r\"ruta\" traga con el lío que montaron Jobs y Gates con el \"\\\" y el \"/\"\n",
    "\n",
    "PS: Y si no está el directorio que quiero, pues -> mkdir \"ruta\" o directorio y crea el directorio\n",
    "MAC: Lo mismo\n",
    "\n",
    "PS: Y si quiero mover archivos o cambiarles el nombre -> mv <origen> <destino>\n",
    "MAC: lo mismo\n",
    "\n",
    "PS: El comando que no debes usar sin pagarme 1500€ -> del o rm -recurse \n",
    "MAC: El comando que no debes usar sin pagarme antes 1000€ -> rm -r (borra todo)"
   ]
  },
  {
   "cell_type": "markdown",
   "id": "c395b67d",
   "metadata": {},
   "source": [
    "PINTAR IMAGENES MULTICLASIFICADAS Y \"CONFIANZA\""
   ]
  },
  {
   "cell_type": "code",
   "execution_count": null,
   "id": "e99e13a4",
   "metadata": {},
   "outputs": [],
   "source": [
    "def plot_image(i, predictions_array, true_label, img):\n",
    "  predictions_array, true_label, img = predictions_array, true_label[i], img[i]\n",
    "  plt.grid(False)\n",
    "  plt.xticks([])\n",
    "  plt.yticks([])\n",
    "\n",
    "  plt.imshow(img, cmap=plt.cm.binary)\n",
    "\n",
    "  predicted_label = np.argmax(predictions_array)\n",
    "  if predicted_label == true_label:\n",
    "    color = 'blue'\n",
    "  else:\n",
    "    color = 'red'\n",
    "\n",
    "  plt.xlabel(\"{} {:2.0f}% ({})\".format(class_names[predicted_label],\n",
    "                                100*np.max(predictions_array),\n",
    "                                class_names[true_label]),\n",
    "                                color=color)\n",
    "\n",
    "def plot_value_array(i, predictions_array, true_label):\n",
    "  predictions_array, true_label = predictions_array, true_label[i]\n",
    "  plt.grid(False)\n",
    "  plt.xticks(range(10))\n",
    "  plt.yticks([])\n",
    "  thisplot = plt.bar(range(10), predictions_array, color=\"#777777\")\n",
    "  plt.ylim([0, 1])\n",
    "  predicted_label = np.argmax(predictions_array)\n",
    "\n",
    "  thisplot[predicted_label].set_color('red')\n",
    "  thisplot[true_label].set_color('blue')"
   ]
  },
  {
   "cell_type": "code",
   "execution_count": null,
   "id": "41d43023",
   "metadata": {},
   "outputs": [],
   "source": [
    "FLASK:\n",
    "\n",
    "from flask import Flask, request, jsonify\n",
    "\n",
    "app = Flask(__name__)\n",
    "app.config['DEBUG'] = True\n",
    "\n",
    "# GET Display all the books\n",
    "@app.route('/api/v1/resources/books/all', methods=['GET']) \n",
    "def api_all():\n",
    "    return jsonify(books)\n",
    "    #return books\n",
    "\n",
    "\n",
    "app.run(port=5000)"
   ]
  },
  {
   "cell_type": "markdown",
   "id": "aa2a60e8",
   "metadata": {},
   "source": [
    "ACTIVAR ENTORNOS VIRTUALES"
   ]
  },
  {
   "attachments": {},
   "cell_type": "markdown",
   "id": "e3677e2e",
   "metadata": {},
   "source": [
    "En VISUAL STUDIO CODE, escoger el \"motor\" de trabajo (el del entorno virtual):  \n",
    "* Si aparece \"Python....\" en la barra inferior \"morada\" pulsar y buscar en la lista, si no está en la lista, introducir manualmente la ruta (path) al directorio Scripts (windows) o bin (Mac) de nuestro entorno virtual, por ejemplo: \"C:\\Users\\glezr\\Deep_Learning\\BootCamp\\Scripts\"  \n",
    "* Si no aparece en la barra morada inferior -> Ctrl + Shift + P (En MAC Cmmd + Shift + P) -> Pulsar la opción de Selección de Interprete y seguir los pasos del punto anterior"
   ]
  },
  {
   "attachments": {},
   "cell_type": "markdown",
   "id": "46e5b34c",
   "metadata": {},
   "source": [
    "EJECUCION DE ENTORNO VIRTUAL\n",
    "\n",
    "Nos vamos al directorio donde tengo el entorno virtual, alli al Scripts (en Windows) o bin (en Mac)\n",
    "\n",
    "cd <ruta>\n",
    "\n",
    "en windows:\n",
    "Activate.ps1\n",
    "\n",
    "en mac:PM\n",
    "source activate\n",
    "\n",
    "PARA Salir:\n",
    "deactivate  o source deactivate\n",
    "\n",
    "Sin salir, como arrancar el Jupyter:\n",
    "\n",
    "jupyter notebook\n",
    "\n",
    "OJO arrancarlo desde el directorio donde tengamos nuestros notebooks o los que queramos trabajar en ese momento."
   ]
  },
  {
   "cell_type": "markdown",
   "id": "c2110c52-f007-435f-9fd6-5b0d10a5d212",
   "metadata": {},
   "source": [
    "boto3 -> libreria de python para interactuar con los AWS\n",
    "\n",
    "jsonformmater -> buscar en internet y sirve para enseñar legible un json"
   ]
  },
  {
   "cell_type": "markdown",
   "id": "155a3307-d037-4824-8745-7ec9c8efbf84",
   "metadata": {},
   "source": [
    "Para missings en series temporales"
   ]
  },
  {
   "cell_type": "code",
   "execution_count": null,
   "id": "0f053425-1bad-4451-a953-e5cefb207c11",
   "metadata": {},
   "outputs": [],
   "source": [
    "# # Generate dataset\n",
    "from scipy.interpolate import interp1d\n",
    "from sklearn.metrics import mean_squared_error\n",
    "df_orig = pd.read_csv('data/a10.csv', parse_dates=['date'], index_col='date').head(100)\n",
    "df = pd.read_csv('data/a10_missings.csv', parse_dates=['date'], index_col='date')\n",
    "\n",
    "fig, axes = plt.subplots(7, 1, sharex=True, figsize=(10, 12))\n",
    "plt.rcParams.update({'xtick.bottom' : False})\n",
    "\n",
    "## 1. Actual -------------------------------\n",
    "df_orig.plot(title='Actual', ax=axes[0], label='Actual', color='red', style=\".-\")\n",
    "df.plot(title='Actual', ax=axes[0], label='Actual', color='green', style=\".-\")\n",
    "axes[0].legend([\"Missing Data\", \"Available Data\"])\n",
    "\n",
    "\n",
    "## 2. Forward Fill --------------------------\n",
    "df_ffill = df.ffill()\n",
    "error = np.round(mean_squared_error(df_orig['value'], df_ffill['value']), 2)\n",
    "df_ffill['value'].plot(title='Forward Fill (MSE: ' + str(error) +\")\", ax=axes[1], label='Forward Fill', style=\".-\")\n",
    "\n",
    "\n",
    "## 3. Backward Fill -------------------------\n",
    "df_bfill = df.bfill()\n",
    "error = np.round(mean_squared_error(df_orig['value'], df_bfill['value']), 2)\n",
    "df_bfill['value'].plot(title=\"Backward Fill (MSE: \" + str(error) +\")\", ax=axes[2], label='Back Fill', color='firebrick', style=\".-\")\n",
    "\n",
    "## 4. Linear Interpolation ------------------\n",
    "\n",
    "df['rownum'] = np.arange(df.shape[0])\n",
    "df_nona = df.dropna(subset = ['value'])\n",
    "f = interp1d(df_nona['rownum'], df_nona['value'])\n",
    "df['linear_fill'] = f(df['rownum'])\n",
    "\n",
    "error = np.round(mean_squared_error(df_orig['value'], df['linear_fill']), 2)\n",
    "df['linear_fill'].plot(title=\"Linear Fill (MSE: \" + str(error) +\")\", ax=axes[3], label='Cubic Fill', color='brown', style=\".-\")\n",
    "\n",
    "## 5. Cubic Interpolation --------------------\n",
    "f2 = interp1d(df_nona['rownum'], df_nona['value'], kind='cubic')\n",
    "df['cubic_fill'] = f2(df['rownum'])\n",
    "error = np.round(mean_squared_error(df_orig['value'], df['cubic_fill']), 2)\n",
    "df['cubic_fill'].plot(title=\"Cubic Fill (MSE: \" + str(error) +\")\", ax=axes[4], label='Cubic Fill', color='red', style=\".-\")\n",
    "\n",
    "# Interpolation References:\n",
    "# https://docs.scipy.org/doc/scipy/reference/tutorial/interpolate.html\n",
    "# https://docs.scipy.org/doc/scipy/reference/interpolate.html\n",
    "\n",
    "## 6. Mean of 'n' Nearest Past Neighbors ------\n",
    "def knn_mean(ts, n):\n",
    "    out = np.copy(ts)\n",
    "    for i, val in enumerate(ts):\n",
    "        if np.isnan(val):\n",
    "            n_by_2 = np.ceil(n/2)\n",
    "            lower = np.max([0, int(i-n_by_2)])\n",
    "            upper = np.min([len(ts)+1, int(i+n_by_2)])\n",
    "            ts_near = np.concatenate([ts[lower:i], ts[i:upper]])\n",
    "            out[i] = np.nanmean(ts_near)\n",
    "    return out\n",
    "\n",
    "df['knn_mean'] = knn_mean(df.value.values, 8)\n",
    "error = np.round(mean_squared_error(df_orig['value'], df['knn_mean']), 2)\n",
    "df['knn_mean'].plot(title=\"KNN Mean (MSE: \" + str(error) +\")\", ax=axes[5], label='KNN Mean', color='tomato', alpha=0.5, style=\".-\")\n",
    "\n",
    "## 7. Seasonal Mean ----------------------------\n",
    "def seasonal_mean(ts, n, lr=0.7):\n",
    "    \"\"\"\n",
    "    Compute the mean of corresponding seasonal periods\n",
    "    ts: 1D array-like of the time series\n",
    "    n: Seasonal window length of the time series\n",
    "    \"\"\"\n",
    "    out = np.copy(ts)\n",
    "    for i, val in enumerate(ts):\n",
    "        if np.isnan(val):\n",
    "            ts_seas = ts[i-1::-n]  # previous seasons only\n",
    "            if np.isnan(np.nanmean(ts_seas)):\n",
    "                ts_seas = np.concatenate([ts[i-1::-n], ts[i::n]])  # previous and forward\n",
    "            out[i] = np.nanmean(ts_seas) * lr\n",
    "    return out\n",
    "\n",
    "df['seasonal_mean'] = seasonal_mean(df.value, n=12, lr=1.25)\n",
    "error = np.round(mean_squared_error(df_orig['value'], df['seasonal_mean']), 2)\n",
    "df['seasonal_mean'].plot(title=\"Seasonal Mean (MSE: \" + str(error) +\")\", ax=axes[6], label='Seasonal Mean', color='blue', alpha=0.5, style=\".-\");"
   ]
  },
  {
   "cell_type": "code",
   "execution_count": 7,
   "id": "8740db88-8deb-47a1-bb00-c433be3062aa",
   "metadata": {},
   "outputs": [],
   "source": [
    "def data_report(df):\n",
    "    '''Esta funcion describe los campos de un dataframe de pandas de forma bastante clara, crack'''\n",
    "    # Sacamos los NOMBRES\n",
    "    cols = pd.DataFrame(df.columns.values, columns=[\"COL_N\"])\n",
    "\n",
    "    # Sacamos los TIPOS\n",
    "    types = pd.DataFrame(df.dtypes.values, columns=[\"DATA_TYPE\"])\n",
    "\n",
    "    # Sacamos los MISSINGS\n",
    "    percent_missing = round(df.isnull().sum() * 100 / len(df), 2)\n",
    "    percent_missing_df = pd.DataFrame(percent_missing.values, columns=[\"MISSINGS (%)\"])\n",
    "\n",
    "    # Sacamos los VALORES UNICOS\n",
    "    unicos = pd.DataFrame(df.nunique().values, columns=[\"UNIQUE_VALUES\"])\n",
    "    \n",
    "    percent_cardin = round(unicos['UNIQUE_VALUES']*100/len(df), 2)\n",
    "    percent_cardin_df = pd.DataFrame(percent_cardin.values, columns=[\"CARDIN (%)\"])\n",
    "\n",
    "    concatenado = pd.concat([cols, types, percent_missing_df, unicos, percent_cardin_df], axis=1, sort=False)\n",
    "    concatenado.set_index('COL_N', drop=True, inplace=True)\n",
    "\n",
    "\n",
    "    return concatenado.T"
   ]
  },
  {
   "cell_type": "code",
   "execution_count": null,
   "id": "61efe7fa-2290-498f-973c-764c12136759",
   "metadata": {},
   "outputs": [],
   "source": []
  },
  {
   "cell_type": "code",
   "execution_count": null,
   "id": "0423dbe9-ed74-410f-924d-1dd108693352",
   "metadata": {},
   "outputs": [],
   "source": [
    "def plot_df(df, x, y, title=\"\", xlabel='Date', ylabel='Value', dpi=100):\n",
    "    plt.figure(figsize=(16,5), dpi=dpi)\n",
    "    plt.plot(x, y, color='tab:red')\n",
    "    plt.gca().set(title=title, xlabel=xlabel, ylabel=ylabel)\n",
    "    plt.show()\n"
   ]
  },
  {
   "cell_type": "markdown",
   "id": "77a26d43-350c-48f0-8aa1-3cb459fe3dd4",
   "metadata": {},
   "source": [
    "Varias formas de pintar matrices"
   ]
  },
  {
   "cell_type": "code",
   "execution_count": null,
   "id": "7390b836-eb3e-4e5b-a9ae-33b26f4ad31a",
   "metadata": {},
   "outputs": [],
   "source": [
    "import matplotlib.pyplot as plt\n",
    "import pandas as pd\n",
    "\n",
    "# extra code – the next 5 lines define the default font sizes\n",
    "plt.rc('font', size=14)\n",
    "plt.rc('axes', labelsize=14, titlesize=14)\n",
    "plt.rc('legend', fontsize=14)\n",
    "plt.rc('xtick', labelsize=10)\n",
    "plt.rc('ytick', labelsize=10)\n",
    "\n",
    "housing.hist(bins=50, figsize=(12, 8))\n",
    "#save_fig(\"attribute_histogram_plots\")  # extra code\n",
    "plt.show()"
   ]
  },
  {
   "cell_type": "code",
   "execution_count": null,
   "id": "c3c9eb26-fd1f-47d4-93de-f9c78860685b",
   "metadata": {
    "tags": []
   },
   "outputs": [],
   "source": [
    "import pandas as pd\n",
    "import seaborn as sns\n",
    "import numpy as np\n",
    "\n",
    "from pandas.api.types import CategoricalDtype\n",
    "\n",
    "import matplotlib.pyplot as plt\n",
    "import plotly.express as px\n",
    "import plotly.graph_objects as go\n",
    "from plotly.subplots import make_subplots\n",
    "\n",
    "corr_matrix = df.corr()\n",
    "\n",
    "plt.subplots(figsize=(10, 8))\n",
    "\n",
    "#sns.heatmap(corr_matrix, cmap = \"PiYG\", square=True)\n",
    "\n",
    "ax = sns.heatmap(\n",
    "    corr_matrix, \n",
    "    vmin=-1, vmax=1, center=0,\n",
    "    cmap=sns.diverging_palette(20, 220, n=200),\n",
    "    square=True,\n",
    ")\n",
    "ax.set_xticklabels(\n",
    "    ax.get_xticklabels(),\n",
    "    rotation=45,\n",
    "    horizontalalignment='right'"
   ]
  },
  {
   "cell_type": "markdown",
   "id": "3e288444-6322-4c45-a751-7e56bb0b729b",
   "metadata": {},
   "source": [
    "Bonita forma de pintar los datos enfrentados (Scatter Plots)"
   ]
  },
  {
   "cell_type": "code",
   "execution_count": null,
   "id": "bc371cfd-5cc0-4c5c-9768-6f2145d3374e",
   "metadata": {},
   "outputs": [],
   "source": [
    "import seaborn as sns\n",
    "\n",
    "# Dropping CustomerID column from data \n",
    "customer_data = customer_data.drop('CustomerID', axis=1)\n",
    "\n",
    "sns.pairplot(customer_data)"
   ]
  },
  {
   "cell_type": "markdown",
   "id": "646a767c-3131-4085-a3f9-32eda806ce6f",
   "metadata": {},
   "source": [
    "Pintando en 3D"
   ]
  },
  {
   "cell_type": "code",
   "execution_count": 10,
   "id": "83cd1189-867d-46db-a2aa-36f389b73178",
   "metadata": {},
   "outputs": [
    {
     "data": {
      "image/png": "[encoded data removed]",
      "text/plain": [
       "<Figure size 900x900 with 1 Axes>"
      ]
     },
     "metadata": {},
     "output_type": "display_data"
    }
   ],
   "source": [
    "from matplotlib import pyplot as plt\n",
    "\n",
    "fig = plt.figure(figsize=(9, 9))\n",
    "ax = fig.add_subplot(111, projection=\"3d\")\n",
    "\n",
    "ax.plot(X3D_above[:, 0], X3D_above[:, 1], X3D_above[:, 2], \"ro\")\n",
    "\n",
    "ax.scatter(X_swiss[:, 0], X_swiss[:, 1], X_swiss[:, 2], c=t, cmap=darker_hot) # Para hacer scatter, otra manera\n"
   ]
  },
  {
   "cell_type": "markdown",
   "id": "f724251c-eb89-4026-89d2-f1212da87ed3",
   "metadata": {},
   "source": [
    "Definiendo los ejes 3D"
   ]
  },
  {
   "cell_type": "code",
   "execution_count": 11,
   "id": "23d6cca1-0a7f-403f-89ba-675dc7f5ceb1",
   "metadata": {},
   "outputs": [],
   "source": [
    "def set_xyz_axes(ax, axes):\n",
    "    ax.xaxis.set_rotate_label(False)\n",
    "    ax.yaxis.set_rotate_label(False)\n",
    "    ax.zaxis.set_rotate_label(False)\n",
    "    ax.set_xlabel(\"$x_1$\", labelpad=8, rotation=0)\n",
    "    ax.set_ylabel(\"$x_2$\", labelpad=8, rotation=0)\n",
    "    ax.set_zlabel(\"$x_3$\", labelpad=8, rotation=0)\n",
    "    ax.set_xlim(axes[0:2])\n",
    "    ax.set_ylim(axes[2:4])\n",
    "    ax.set_zlim(axes[4:6])"
   ]
  },
  {
   "cell_type": "markdown",
   "id": "5ea10b9d-8ddb-4930-a5d2-9129a5e5fe44",
   "metadata": {},
   "source": [
    "Una forma de hacer bines en pandas"
   ]
  },
  {
   "cell_type": "code",
   "execution_count": null,
   "id": "8f7730cb-d723-4cf1-ab3d-d0262ae77fdd",
   "metadata": {},
   "outputs": [],
   "source": [
    "import pandas as pd\n",
    "import numpy as np\n",
    "\n",
    "housing[\"income_cat\"] = pd.cut(housing[\"median_income\"],\n",
    "                               bins=[0., 1.5, 3.0, 4.5, 6., np.inf],\n",
    "                               labels=[1, 2, 3, 4, 5])"
   ]
  },
  {
   "cell_type": "markdown",
   "id": "2e741886-9be0-49e6-afba-b5513d0060d2",
   "metadata": {},
   "source": [
    "Dendrogramas"
   ]
  },
  {
   "cell_type": "code",
   "execution_count": null,
   "id": "acab4c72-6e3f-42b9-a739-b387a334f72e",
   "metadata": {},
   "outputs": [],
   "source": [
    "import scipy.cluster.hierarchy as shc\n",
    "import matplotlib.pyplot as plt\n",
    "\n",
    "plt.figure(figsize=(10, 7))\n",
    "plt.title(\"Customers Dendrogram\")\n",
    "\n",
    "# Selecting Annual Income and Spending Scores by index\n",
    "selected_data = customer_data_oh.iloc[:, 1:3]\n",
    "clusters = shc.linkage(selected_data, \n",
    "            method='ward', \n",
    "            metric=\"euclidean\")\n",
    "shc.dendrogram(Z=clusters)\n",
    "plt.show()\n",
    "plt.axhline(y = 125, color = 'r', linestyle = '-') # Adding horizontal line for making the selection (how to choose -> inertia elbow, shiloutte, etc)"
   ]
  },
  {
   "cell_type": "code",
   "execution_count": null,
   "id": "9a42f1fe-9898-4129-9707-e29818183369",
   "metadata": {},
   "outputs": [],
   "source": [
    "plt.figure(figsize=(10, 7))\n",
    "plt.title(\"Customers Dendogram with line\")\n",
    "clusters = shc.linkage(selected_data, \n",
    "            method='ward', \n",
    "            metric=\"euclidean\")\n",
    "shc.dendrogram(clusters)\n",
    "plt.axhline(y = 125, color = 'r', linestyle = '-')"
   ]
  },
  {
   "cell_type": "markdown",
   "id": "6bbbffd9-60f3-42e0-89b4-09e442a66b13",
   "metadata": {},
   "source": [
    "Valores unicos con numpy"
   ]
  },
  {
   "cell_type": "code",
   "execution_count": null,
   "id": "4e19e148-948e-4069-81f8-58ea3b0522c4",
   "metadata": {},
   "outputs": [],
   "source": [
    "print(np.unique(dbscan.labels_))"
   ]
  },
  {
   "cell_type": "code",
   "execution_count": 5,
   "id": "aa54a55a-97df-4b00-815f-357a07babe6a",
   "metadata": {},
   "outputs": [
    {
     "name": "stdout",
     "output_type": "stream",
     "text": [
      "Help on function data_report in module __main__:\n",
      "\n",
      "data_report(df)\n",
      "    Esta funcion describe los campos de un dataframe de pandas de forma bastante clara, crack\n",
      "\n"
     ]
    }
   ],
   "source": [
    "help(data_report)"
   ]
  },
  {
   "cell_type": "markdown",
   "id": "ebf557ee-81c9-419e-a1ee-438d8cb459bf",
   "metadata": {},
   "source": [
    "Plotea clusters"
   ]
  },
  {
   "cell_type": "code",
   "execution_count": 18,
   "id": "b4c9f58a-4048-4d4a-b447-902414e30a92",
   "metadata": {},
   "outputs": [],
   "source": [
    "def plot_clusters(X,y=None):\n",
    "    plt.scatter(X[:, 0],  X[:, 1], c=y, s=1)\n",
    "    plt.xlabel(\"$x_1$\", fontsize=14)\n",
    "    plt.ylabel(\"$x_2$\", fontsize=14, rotation=0)"
   ]
  },
  {
   "cell_type": "markdown",
   "id": "95216a51-0f77-412d-bcf5-4d14028391d5",
   "metadata": {},
   "source": [
    "Regiones de decisión en kmeans"
   ]
  },
  {
   "cell_type": "code",
   "execution_count": 16,
   "id": "b4bbcedc-08a2-4d2c-a4f5-2935f0653568",
   "metadata": {},
   "outputs": [],
   "source": [
    "from matplotlib import pyplot as plt\n",
    "\n",
    "def plot_data(X):\n",
    "    plt.plot(X[:, 0], X[:, 1], 'k.', markersize=2)\n",
    "\n",
    "def plot_centroids(centroids, weights=None, circle_color='w', cross_color='b'):\n",
    "    if weights is not None:\n",
    "        centroids = centroids[weights > weights.max() / 10]\n",
    "    plt.scatter(centroids[:, 0], centroids[:, 1],\n",
    "                marker='o', s=30, linewidths=8,\n",
    "                color=circle_color, zorder=10, alpha=0.9)\n",
    "    plt.scatter(centroids[:, 0], centroids[:, 1],\n",
    "                marker='x', s=15, linewidths=20,\n",
    "                color=cross_color, zorder=11, alpha=1)\n",
    "\n",
    "def plot_decision_boundaries(clusterer, X, resolution=1000, show_centroids=True,\n",
    "                             show_xlabels=True, show_ylabels=True):\n",
    "    mins = X.min(axis=0) - 0.1\n",
    "    maxs = X.max(axis=0) + 0.1\n",
    "    xx, yy = np.meshgrid(np.linspace(mins[0], maxs[0], resolution),\n",
    "                         np.linspace(mins[1], maxs[1], resolution))\n",
    "    Z = clusterer.predict(np.c_[xx.ravel(), yy.ravel()])\n",
    "    Z = Z.reshape(xx.shape)\n",
    "\n",
    "    plt.contourf(Z, extent=(mins[0], maxs[0], mins[1], maxs[1]),\n",
    "                cmap=\"Pastel2\")\n",
    "    plt.contour(Z, extent=(mins[0], maxs[0], mins[1], maxs[1]),\n",
    "                linewidths=1, colors='k')\n",
    "    plot_data(X)\n",
    "    if show_centroids:\n",
    "        plot_centroids(clusterer.cluster_centers_)\n",
    "\n",
    "    if show_xlabels:\n",
    "        plt.xlabel(\"$x_1$\", fontsize=14)\n",
    "    else:\n",
    "        plt.tick_params(labelbottom=False)\n",
    "    if show_ylabels:\n",
    "        plt.ylabel(\"$x_2$\", fontsize=14, rotation=0)\n",
    "    else:\n",
    "        plt.tick_params(labelleft=False)"
   ]
  },
  {
   "cell_type": "markdown",
   "id": "2db3d128-31e9-4196-ac49-508dbfeb8205",
   "metadata": {},
   "source": [
    "Regiones decisión DBSCAN"
   ]
  },
  {
   "cell_type": "code",
   "execution_count": null,
   "id": "d193f0ae-02ee-46ac-8b50-9d01f61a1360",
   "metadata": {},
   "outputs": [],
   "source": [
    "def plot_dbscan(dbscan, X, size, show_xlabels=True, show_ylabels=True):\n",
    "    core_mask = np.zeros_like(dbscan.labels_, dtype=bool)\n",
    "    core_mask[dbscan.core_sample_indices_] = True\n",
    "    anomalies_mask = dbscan.labels_ == -1\n",
    "    non_core_mask = ~(core_mask | anomalies_mask)\n",
    "\n",
    "    cores = dbscan.components_\n",
    "    anomalies = X[anomalies_mask]\n",
    "    non_cores = X[non_core_mask]\n",
    "    \n",
    "    plt.scatter(cores[:, 0], cores[:, 1],\n",
    "                c=dbscan.labels_[core_mask], marker='o', s=size, cmap=\"Paired\")\n",
    "    plt.scatter(cores[:, 0], cores[:, 1], marker='*', s=20, c=dbscan.labels_[core_mask])\n",
    "    plt.scatter(anomalies[:, 0], anomalies[:, 1],\n",
    "                c=\"r\", marker=\"x\", s=100)\n",
    "    plt.scatter(non_cores[:, 0], non_cores[:, 1], c=dbscan.labels_[non_core_mask], marker=\".\")\n",
    "    if show_xlabels:\n",
    "        plt.xlabel(\"$x_1$\", fontsize=14)\n",
    "    else:\n",
    "        plt.tick_params(labelbottom=False)\n",
    "    if show_ylabels:\n",
    "        plt.ylabel(\"$x_2$\", fontsize=14, rotation=0)\n",
    "    else:\n",
    "        plt.tick_params(labelleft=False)\n",
    "    plt.title(\"eps={:.2f}, min_samples={}\".format(dbscan.eps, dbscan.min_samples), fontsize=14)"
   ]
  },
  {
   "cell_type": "markdown",
   "id": "c1d329bf-6448-4c44-abbb-2a566c334a55",
   "metadata": {
    "jp-MarkdownHeadingCollapsed": true,
    "tags": []
   },
   "source": [
    "## DUDAS (... que nunca me atreveré a preguntar)"
   ]
  },
  {
   "cell_type": "code",
   "execution_count": null,
   "id": "d2d9856b-92cd-4fa6-b52c-fd4f8136b90b",
   "metadata": {},
   "outputs": [],
   "source": []
  },
  {
   "cell_type": "markdown",
   "id": "e5b95a97-d573-48fc-9b53-8677226230b8",
   "metadata": {},
   "source": [
    "## LO TENGO QUE BUSCAR"
   ]
  },
  {
   "cell_type": "markdown",
   "id": "2a95e35c-8413-4d8d-a8a6-9f297ccd79a5",
   "metadata": {},
   "source": [
    "Formas de optimizar eps en DBSCAN [31-01-23]"
   ]
  },
  {
   "cell_type": "markdown",
   "id": "9cf3f3c3-fddf-444f-a7cc-d8667a45b5e3",
   "metadata": {},
   "source": [
    "Sobre el GIL (Global Interpreter Lock)"
   ]
  },
  {
   "cell_type": "markdown",
   "id": "8be7d34b-625c-4c39-aae1-1107e6f085e0",
   "metadata": {},
   "source": [
    "textblob"
   ]
  },
  {
   "cell_type": "markdown",
   "id": "c1eb7523-24c5-4b21-a2b2-4c337c89dee2",
   "metadata": {},
   "source": [
    "BaseEnsemble"
   ]
  },
  {
   "cell_type": "code",
   "execution_count": 1,
   "id": "eac189a2-120e-4f26-aae0-23326420bab7",
   "metadata": {},
   "outputs": [
    {
     "ename": "ModuleNotFoundError",
     "evalue": "No module named 'google.colab'",
     "output_type": "error",
     "traceback": [
      "\u001b[1;31m---------------------------------------------------------------------------\u001b[0m",
      "\u001b[1;31mModuleNotFoundError\u001b[0m                       Traceback (most recent call last)",
      "Cell \u001b[1;32mIn[1], line 1\u001b[0m\n\u001b[1;32m----> 1\u001b[0m \u001b[39mfrom\u001b[39;00m \u001b[39mgoogle\u001b[39;00m\u001b[39m.\u001b[39;00m\u001b[39mcolab\u001b[39;00m \u001b[39mimport\u001b[39;00m files\n\u001b[0;32m      2\u001b[0m files\u001b[39m.\u001b[39mdownload(\u001b[39m'\u001b[39m\u001b[39mmovie.mp4\u001b[39m\u001b[39m'\u001b[39m)\n",
      "\u001b[1;31mModuleNotFoundError\u001b[0m: No module named 'google.colab'"
     ]
    }
   ],
   "source": [
    "from google.colab import files\n",
    "files.download('movie.mp4')"
   ]
  },
  {
   "cell_type": "code",
   "execution_count": null,
   "id": "8bfbde14",
   "metadata": {},
   "outputs": [],
   "source": []
  }
 ],
 "metadata": {
  "kernelspec": {
   "display_name": "BootCamp",
   "language": "python",
   "name": "python3"
  },
  "language_info": {
   "codemirror_mode": {
    "name": "ipython",
    "version": 3
   },
   "file_extension": ".py",
   "mimetype": "text/x-python",
   "name": "python",
   "nbconvert_exporter": "python",
   "pygments_lexer": "ipython3",
   "version": "3.10.10"
  },
  "vscode": {
   "interpreter": {
    "hash": "167a7833a0358ac30a26ad970c5914014f41a5348f3dc652232a762d6e3283fa"
   }
  }
 },
 "nbformat": 4,
 "nbformat_minor": 5
}
