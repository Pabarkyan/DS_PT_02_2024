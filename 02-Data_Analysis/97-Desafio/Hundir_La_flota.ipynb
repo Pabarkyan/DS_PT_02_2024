{
 "cells": [
  {
   "cell_type": "markdown",
   "metadata": {},
   "source": [
    "## Reto 1: Hundir la Flota (Batalla Naval)\n",
    "### Objetivo: Implementar una versión simplificada del juego de Batalla Naval usando Python y Numpy para manejar el tablero del juego.\n",
    "\n",
    "- Crear un tablero 10x10 usando Numpy arrays.\n",
    "- Colocar 5 barcos de diferentes tamaños en posiciones aleatorias en el tablero.\n",
    "- Permitir que el jugador ingrese coordenadas para \"disparar\".\n",
    "- Mostrar un mensaje si el jugador acierta o falla, y actualizar el tablero acorde.\n",
    "- Seguir jugando hasta que todos los barcos sean hundidos.\n",
    "#### Habilidades aplicadas: Uso de arrays de Numpy, generación de números aleatorios, estructuras de control en Python."
   ]
  },
  {
   "cell_type": "code",
   "execution_count": 2,
   "metadata": {},
   "outputs": [
    {
     "name": "stdout",
     "output_type": "stream",
     "text": [
      "[[0 0 0 0 0 3 0 0 0 0]\n",
      " [0 4 4 4 4 3 0 0 0 0]\n",
      " [0 0 0 0 0 3 0 0 0 0]\n",
      " [0 0 0 0 2 0 0 0 0 0]\n",
      " [0 0 0 0 2 0 0 0 0 0]\n",
      " [0 0 0 0 0 0 0 0 0 0]\n",
      " [0 0 0 0 0 0 0 0 0 0]\n",
      " [0 0 7 7 7 7 7 7 7 0]\n",
      " [0 0 0 0 0 0 0 0 0 0]\n",
      " [0 0 5 5 5 5 5 0 0 0]]\n"
     ]
    }
   ],
   "source": [
    "import numpy as np\n",
    "\n",
    "# Creamos el tablero\n",
    "\n",
    "tablero = np.full((10, 10), 0)\n",
    "\n",
    "def colocacion_de_barcos(dimension_barco, tablero):\n",
    "    colocacion = np.random.choice([\"horizontal\", \"vertical\"]) # Establecemos donde y como de colocara el barco\n",
    "\n",
    "    if colocacion == \"horizontal\": # Dependiendo se si es horizontal o vertical modificaremos la fila o la columna, para evitar que el barco se salga de tablero\n",
    "        columna = np.random.randint(10 - dimension_barco) # Esto es la forma de que el barco nunca se pase del tablero, por ejemplo, al estar en horizontal, sus elementos nunca se saldrian del tablero verticalmente, por lo que las filas no habra que modificala\n",
    "        fila = np.random.randint(10) \n",
    "        lista = list(tablero[fila, columna:dimension_barco + columna] == 0) # Esta comparacion compara 1 por 1 todos los elementos y devuelve una lista de booleanos\n",
    "        if False in lista: # si hay algun False en la lista significa que en al menos un punto hay un barco.\n",
    "            colocacion_de_barcos(dimension_barco, tablero) \n",
    "\n",
    "        else: # En este caso, la fila sera de todo 0 por lo que podremos poner el barco sin ningun problema\n",
    "            tablero[fila, columna:dimension_barco + columna] = dimension_barco # le damos el valor de la dimension para poder distinguir entre barcos y que todos sera de diferente tamaño\n",
    "            return tablero\n",
    "\n",
    "    elif colocacion == \"vertical\": # Caso en el que la colocacion sea vertical, idem pero cambiando, horizontal por verticaal y fila por columna\n",
    "        fila = np.random.randint(10 - dimension_barco)\n",
    "        columna = np.random.randint(10)  \n",
    "        lista = list(tablero[fila:dimension_barco + fila, columna] == 0) \n",
    "        if False in lista:\n",
    "            colocacion_de_barcos(dimension_barco, tablero)\n",
    "                 \n",
    "        else:\n",
    "            tablero[fila:dimension_barco + fila, columna] = dimension_barco\n",
    "            return tablero\n",
    "        \n",
    "def creacion_de_tablero():\n",
    "    tablero = np.full((10, 10), 0)\n",
    "    barcos = [2,3,4,5,7]\n",
    "    for i in barcos:\n",
    "        tablero = colocacion_de_barcos(i, tablero)\n",
    "    return tablero\n",
    "\n",
    "print(creacion_de_tablero())"
   ]
  }
 ],
 "metadata": {
  "kernelspec": {
   "display_name": "Python 3",
   "language": "python",
   "name": "python3"
  },
  "language_info": {
   "codemirror_mode": {
    "name": "ipython",
    "version": 3
   },
   "file_extension": ".py",
   "mimetype": "text/x-python",
   "name": "python",
   "nbconvert_exporter": "python",
   "pygments_lexer": "ipython3",
   "version": "3.12.1"
  }
 },
 "nbformat": 4,
 "nbformat_minor": 2
}
