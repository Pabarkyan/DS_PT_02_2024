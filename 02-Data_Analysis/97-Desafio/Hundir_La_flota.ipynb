{
 "cells": [
  {
   "cell_type": "markdown",
   "metadata": {},
   "source": [
    "## Reto 1: Hundir la Flota (Batalla Naval)\n",
    "### Objetivo: Implementar una versión simplificada del juego de Batalla Naval usando Python y Numpy para manejar el tablero del juego.\n",
    "\n",
    "- Crear un tablero 10x10 usando Numpy arrays.\n",
    "- Colocar 5 barcos de diferentes tamaños en posiciones aleatorias en el tablero.\n",
    "- Permitir que el jugador ingrese coordenadas para \"disparar\".\n",
    "- Mostrar un mensaje si el jugador acierta o falla, y actualizar el tablero acorde.\n",
    "- Seguir jugando hasta que todos los barcos sean hundidos.\n",
    "#### Habilidades aplicadas: Uso de arrays de Numpy, generación de números aleatorios, estructuras de control en Python."
   ]
  },
  {
   "cell_type": "code",
   "execution_count": 229,
   "metadata": {},
   "outputs": [
    {
     "name": "stdout",
     "output_type": "stream",
     "text": [
      "3\n",
      "1\n",
      "1\n",
      "3\n",
      "3\n",
      "3\n",
      "1\n",
      "1\n",
      "3\n",
      "3\n",
      "1\n",
      "3\n",
      "3\n",
      "3\n",
      "1\n",
      "None\n"
     ]
    }
   ],
   "source": [
    "import numpy as np\n",
    "\n",
    "# Creamos el tablero\n",
    "\n",
    "tablero = np.full((10, 10), 0)\n",
    "\n",
    "def colocacion_de_barcos(dimension_barco, tablero):\n",
    "    fila = np.random.randint(10)\n",
    "    columna = np.random.randint(10) \n",
    "    colocacion = np.random.choice([\"horizontal\", \"vertical\"]) # Establecemos donde y como de colocara el barco\n",
    "\n",
    "    if colocacion == \"horizontal\":\n",
    "        if (columna + dimension_barco) > 10: # Esto signica que pasa el limite, al ser horizontal solo tendremos que ver si se pasa en columnas\n",
    "            print(\"1\")\n",
    "            colocacion_de_barcos(dimension_barco, tablero) # si pasa algun limite, volvemos a llamar a la funcion para que cree nuevos limites aleatorios\n",
    "\n",
    "        else: # Entra aqui si no se pasa del limite\n",
    "            lista = list(tablero[fila, columna:dimension_barco + columna] == 0) # Esta comparacion compara 1 por 1 todos los elementos y devuelve una lista de booleanos\n",
    "            if False in lista: # si hay algun False en la lista significa que en al menos un punto hay un barco.\n",
    "                print(\"2\")\n",
    "                colocacion_de_barcos(dimension_barco, tablero) \n",
    "\n",
    "            else: # En este caso, la fila sera de todo 0 por lo que podremos poner el barco sin ningun problema\n",
    "                tablero[fila, columna:dimension_barco + columna] = dimension_barco # le damos el valor de la dimension para poder distinguir entre barcos y que todos sera de diferente tamaño\n",
    "                return tablero\n",
    "\n",
    "    elif colocacion == \"vertical\": # Caso en el que la colocacion sea vertical, idem pero cambiando, horizontal por verticaal y fila por columna\n",
    "        if (fila + dimension_barco) > 10:\n",
    "            print(\"3\")\n",
    "            colocacion_de_barcos(dimension_barco, tablero)\n",
    "            \n",
    "        else:\n",
    "            lista = list(tablero[fila:dimension_barco + fila, columna] == 0) # Aqui esta entrando indefinidamente\n",
    "            if False in lista:\n",
    "                print(\"4\")\n",
    "                colocacion_de_barcos(dimension_barco, tablero)\n",
    "                 \n",
    "            else:\n",
    "                tablero[fila:dimension_barco + fila, columna] = dimension_barco\n",
    "                return tablero\n",
    "\n",
    "\n",
    "tablero = colocacion_de_barcos(9, tablero)\n",
    "print(tablero)"
   ]
  }
 ],
 "metadata": {
  "kernelspec": {
   "display_name": "Python 3",
   "language": "python",
   "name": "python3"
  },
  "language_info": {
   "codemirror_mode": {
    "name": "ipython",
    "version": 3
   },
   "file_extension": ".py",
   "mimetype": "text/x-python",
   "name": "python",
   "nbconvert_exporter": "python",
   "pygments_lexer": "ipython3",
   "version": "3.12.1"
  }
 },
 "nbformat": 4,
 "nbformat_minor": 2
}
