{
 "cells": [
  {
   "cell_type": "code",
   "execution_count": 76,
   "metadata": {},
   "outputs": [
    {
     "name": "stdout",
     "output_type": "stream",
     "text": [
      "[False False False False False False False]\n",
      "Funciona\n",
      "[False, False, False, False, False, False, False]\n"
     ]
    }
   ],
   "source": [
    "import numpy as np\n",
    "\n",
    "tabla = np.full((10,10), 0)\n",
    "tabla[2:7 + 2, 0] = 1\n",
    "\n",
    "print(tabla[2:7 + 2, 0] == 0)\n",
    "lista = tabla[2:7 + 2, 0] == 0 # compara 1 con 1\n",
    "if False in lista:\n",
    "    print(\"Funciona\")\n",
    "    print(list(lista))\n"
   ]
  }
 ],
 "metadata": {
  "kernelspec": {
   "display_name": "Python 3",
   "language": "python",
   "name": "python3"
  },
  "language_info": {
   "codemirror_mode": {
    "name": "ipython",
    "version": 3
   },
   "file_extension": ".py",
   "mimetype": "text/x-python",
   "name": "python",
   "nbconvert_exporter": "python",
   "pygments_lexer": "ipython3",
   "version": "3.12.1"
  }
 },
 "nbformat": 4,
 "nbformat_minor": 2
}
