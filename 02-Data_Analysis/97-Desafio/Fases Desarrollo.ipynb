{
 "cells": [
  {
   "cell_type": "markdown",
   "metadata": {},
   "source": [
    "# Ciclo Desarrollo Software"
   ]
  },
  {
   "cell_type": "markdown",
   "metadata": {},
   "source": [
    "### La metodología más sencilla para el desarrollo del software es el ciclo en cascada\n",
    "\n",
    "![imagen](./img/cascada.jpg)\n",
    "\n"
   ]
  },
  {
   "cell_type": "markdown",
   "metadata": {},
   "source": [
    "#### Fases \n",
    "\n",
    "**Requisitos**: es el primer paso en el desarrollo del software. En esta primera fase se recopilan todas las necesidades del cliente/usuario real o potencial de nuestro software.\n",
    "\n",
    "**Análisis**:  consiste en recopilar, documentar y analizar los requisitos de un proyecto de software para garantizar que satisface las necesidades de las partes interesadas y los usuarios\n",
    "\n",
    "**Diseño**: trata la especificación del software, pensado para cumplir unos objetivos, utilizando un conjunto de componentes primitivos y sujeto a restricciones. Utiliza lenguajes de modelado, no de programación. El diseño es agnóstico al código\n",
    "\n",
    "**Codificación**: implementación del diseño, realización en un lenguaje/s de programación concreto el diseño\n",
    "\n",
    "**Prueba**: evaluar y verificar que un producto o aplicación de software hace lo que se supone que debe hacer."
   ]
  },
  {
   "cell_type": "markdown",
   "metadata": {},
   "source": [
    "### Mantenimiento\n",
    "\n",
    "Muchas veces es la parte más costosa del software ya que implica garantizar la utilización del software en un entorno muy cambiante (hardware, software, usuarios, código, seguridad, legislación)"
   ]
  },
  {
   "cell_type": "markdown",
   "metadata": {},
   "source": [
    "### Documentación\n",
    "\n",
    "La gran olvidada. Debería producirse documentación en todas las fases del ciclo de medida y de forma simultánea. Una mala documentación suele incrementar el coste en tiempo/recursos del mantenimiento del software"
   ]
  },
  {
   "cell_type": "markdown",
   "metadata": {},
   "source": [
    "# Metodologías más realistas"
   ]
  },
  {
   "cell_type": "markdown",
   "metadata": {},
   "source": [
    "### Modelo iterativo\n",
    "\n",
    "![imagen](./img/iterativo.jpg)\n"
   ]
  },
  {
   "cell_type": "markdown",
   "metadata": {},
   "source": [
    "### Iteración de Pruebas de Concepto (POC)/ Minimum Value Propositión (MVP)\n",
    "\n",
    "\n",
    "![imagen](./img/poc.png)"
   ]
  },
  {
   "cell_type": "markdown",
   "metadata": {},
   "source": [
    "# Ejemplo: Derribar la Escuadra (Batalla Aérea)\n",
    "### Objetivo: Implementar una versión simplificada del juego de Batalla Aérea\n",
    "\n"
   ]
  },
  {
   "cell_type": "markdown",
   "metadata": {},
   "source": [
    "#### Requisitos\n",
    "\n",
    "Desarrollar el mítico juegazo de Derribar la Escuadra para un solo jugador que tenga que derribar a ciegas aviones"
   ]
  },
  {
   "cell_type": "markdown",
   "metadata": {},
   "source": [
    "#### Análisis \n",
    "- Crear un tablero 10x10\n",
    "- Colocar 5 aviones de diferentes tamaños en posiciones aleatorias en el tablero.\n",
    "- Permitir que el jugador ingrese coordenadas para \"disparar\".\n",
    "- Mostrar un mensaje si el jugador acierta o falla, y actualizar el tablero acorde.\n",
    "- Seguir jugando hasta que todos los aviones sean derribados."
   ]
  },
  {
   "cell_type": "markdown",
   "metadata": {},
   "source": [
    "#### Diseño\n",
    "\n",
    "![imagen](./img/Minto.jpg)\n",
    "\n",
    "Diseño MECE\n",
    "\n",
    "1. Se cumple ME (Mutuamente Exclusivo): somos conscientes de que cada elemento del diseño debería realizar una única tarea lo más aislada e independiente del resto\n",
    "\n",
    "2. Se cumple CE (Colectivamente Exhaustivo): no nos hemos dejado ninguna posibilidad por el camino\n"
   ]
  },
  {
   "cell_type": "markdown",
   "metadata": {},
   "source": [
    "##### POC_1 \n",
    "\n",
    "1. crear_tablero: crea un tablero vacío de 10x10 \n",
    "* input: None\n",
    "* output: matriz 10x10 (tablero)\n",
    "2. colocar_aviones: coloca un avión de longitud fija en el tablero\n",
    "* input: tablero\n",
    "* output: tablero con 1 avión colocado en una posición fija\n",
    "3. disparar: permite disparar al usuario\n",
    "* input: posición x [0,9] e y [0,9] a disparar por el usuario\n",
    "    * Si posición x o y son inválida no hace nada\n",
    "* output: coordenadas equivalentes en el tablero  [x, y] (disparo)\n",
    "4. mostrar_mensaje: mostrar un mensaje si el jugador acierta o falla, y actualizar el tablero acorde.\n",
    "* input: tablero, disparo\n",
    "* output: tablero, mensaje\n",
    "    * si la posición disparo del tablero contiene un avión: mensaje = acierta\n",
    "    * si la posición disparo del tablero contiene otra cosa: mensaje = falla\n",
    "5. finalizar: seguir jugando hasta que todos los aviones sean derribados.\n",
    "* input: tablero\n",
    "* output: finalizar \n",
    "    * si tablero no contiene aviones sin derribar"
   ]
  },
  {
   "cell_type": "markdown",
   "metadata": {},
   "source": [
    "##### POC_2\n",
    "\n",
    "1. crear_tablero: crea un tablero vacío de 10x10 \n",
    "* input: None\n",
    "* output: matriz 10x10 (tablero)\n",
    "2. colocar_aviones: coloca un avión de longitud variable en el tablero de forma aleatoria\n",
    "* input: tablero, longitud del avión\n",
    "* output: tablero con avión colocado en una posición aleatoria\n",
    "    * Casilla aleatoria y orientación aleatoria\n",
    "    * Si no se puede: ¿generar otra casilla aleatoria hasta que se pueda? ¿Buscar la casilla válida más cercana?\n",
    "3. disparar: permite disparar al usuario\n",
    "* input: posición x [0,9] e y [0,9] a disparar por el usuario\n",
    "    * Si posición x o y son inválidas porque no existe la casilla o ya tiene un disparo previo: volver a preguntar\n",
    "* output: coordenadas equivalentes en el tablero  [x, y] (disparo)\n",
    "4. mostrar_mensaje: mostrar un mensaje si el jugador acierta o falla, y actualizar el tablero acorde.\n",
    "* input: tablero, disparo\n",
    "* output: tablero, mensaje\n",
    "    * si la posición disparo del tablero contiene un avión: mensaje = acierta\n",
    "    * si la posición disparo del tablero contiene otra cosa: mensaje = falla\n",
    "5. finalizar: seguir jugando hasta que todos los aviones sean derribados.\n",
    "* input: tablero\n",
    "* output: finalizar \n",
    "    * si tablero no contiene aviones sin derribar"
   ]
  },
  {
   "cell_type": "markdown",
   "metadata": {},
   "source": [
    "POC_X: \n",
    "* incluye un tablero de NxM cualesquiera sean N y M > 0\n",
    "\n",
    "* Modo 2 jugadores\n",
    "\n",
    "* Jugadores \"IA\" \n",
    "\n",
    "* Coordenadas amigables: letras x números\n",
    "\n",
    "* Mensaje \"Tocado\" vs \"Derribado\"\n",
    "\n",
    "* Máximo número de rondas"
   ]
  },
  {
   "cell_type": "code",
   "execution_count": 3,
   "metadata": {},
   "outputs": [
    {
     "data": {
      "text/plain": [
       "RangeIndex(start=0, stop=0, step=1)"
      ]
     },
     "execution_count": 3,
     "metadata": {},
     "output_type": "execute_result"
    }
   ],
   "source": [
    "import pandas as pd\n",
    "\n",
    "pd.DataFrame().columns"
   ]
  }
 ],
 "metadata": {
  "kernelspec": {
   "display_name": "Python 3",
   "language": "python",
   "name": "python3"
  },
  "language_info": {
   "codemirror_mode": {
    "name": "ipython",
    "version": 3
   },
   "file_extension": ".py",
   "mimetype": "text/x-python",
   "name": "python",
   "nbconvert_exporter": "python",
   "pygments_lexer": "ipython3",
   "version": "3.12.0"
  }
 },
 "nbformat": 4,
 "nbformat_minor": 2
}
