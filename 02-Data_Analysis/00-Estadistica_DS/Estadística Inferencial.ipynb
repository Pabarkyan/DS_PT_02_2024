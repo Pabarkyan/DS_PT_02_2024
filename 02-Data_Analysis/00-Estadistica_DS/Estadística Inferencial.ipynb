{
 "cells": [
  {
   "cell_type": "markdown",
   "id": "western-silly",
   "metadata": {},
   "source": [
    "# Estadística inferencial\n",
    "**Se llama estadística inferencial o inferencia estadística a la rama de la Estadística encargada de hacer deducciones, es decir, inferir propiedades**, conclusiones y tendencias, a partir de una muestra del conjunto. Su papel es interpretar, hacer proyecciones y comparaciones.\n",
    "\n",
    "## Muestreo\n",
    "![alt text](https://upload.wikimedia.org/wikipedia/commons/b/bf/Simple_random_sampling.PNG)\n",
    "\n",
    "Dado que rara vez tendremos el conjunto de la población para realizar suposiciones, partiremos de una muestra, **una porción de la población, sobre la que trabajaremos con estadísticos para poder llevar a cabo inferencias acerca de los parámetros del conjunto de la población.**\n",
    "\n",
    "Es muy difícil contar con el total de la población para realizar estudios. Muchas veces por motivos económicos, razones prácticas, o porque simplemente por la naturaleza del problema no es necesario.\n",
    "\n",
    "Por ejemplo, ya que es imposible tener los datos de todas las personas que han tenido sanidad publica, tomaremos una muestra significativa de los datos y generalizaremos para el resto de la población los parámetros de estudio.\n",
    "\n",
    "Los conceptos más importantes del muestreo son:\n",
    "\n",
    "* **Población**: conjunto de individuos de interés\n",
    "\n",
    "* **Parámetro**: número que describe alguna característica de la población.\n",
    "\n",
    "* **Muestra**: subconjunto de la población.\n",
    "\n",
    "* **Estadístico**: número que se calcula a partir de los datos de una muestra\n",
    "\n",
    "![imagen](./img/poblac_muestra.jpg)\n",
    "\n",
    "\n",
    "#### Notación del muestreo\n",
    "![imagen](./img/parameters.png)"
   ]
  },
  {
   "cell_type": "markdown",
   "id": "beginning-record",
   "metadata": {},
   "source": [
    "Para poder hacere suposiciones acerca del parámetro de una población, tendremos que obtener una muestra. Hay varias maneras de muestrear una población. La más habitual es mediante **muestreo aleatorio**, mediante el cual le asignamos a cada elemento de la población la misma probabilidad de ser seleccionado. Parece sencillo, pero en muchas ocasiones este muestreo está sesgado.\n",
    "\n",
    "##### ¿Qué es el sesgo?\n",
    "Se trata de una **distorsión no aleatoria que intrododucimos en la forma en que seleccionamos la muestra**. Si el sesgo muestral no se tiene en cuenta, entonces algunas conclusiones propuestas pueden ser erróneas.\n",
    "\n",
    "Por ejemplo, si realizamos una encuesta sobre cómo va el país, no será lo mismo si todos los encuestados son de una clase social determinada, o de un partido político concreto.\n",
    "\n",
    "<img src='https://www.chicagotribune.com/resizer/FPNK7cNR7U4Ag5_LnELoKABx0Tc=/415x233/top/cloudfront-us-east-1.images.arcpublishing.com/tronc/SCDRU4ADLNANVA77N4QPJGMKJM'>\n",
    "\n",
    "[Enlace a la noticia](https://medium.com/@ODSC/dewey-defeats-truman-how-sampling-bias-can-ruin-your-model-f4f67989709e)\n",
    "\n"
   ]
  },
  {
   "cell_type": "markdown",
   "id": "pointed-friendly",
   "metadata": {},
   "source": [
    "### Distribución muestral\n",
    "Se trata de la **distribución de un estadístico**. Nos indica cómo varía un estadístico, en función de las diferentes muestras tomadas. Resultado de considerar todas las muestras posibles tomadas de la población. Su estudio permite calcular la probabilidad que se tiene, dada una sola muestra, de acercarse al parámetro de la población. Mediante la distribución muestral se puede estimar el error para un tamaño de muestra dado.\n",
    "\n",
    "Por ejemplo, vamos a generar una población con una distribución normal de media 10 y desviación estándar 20."
   ]
  },
  {
   "cell_type": "code",
   "execution_count": 4,
   "id": "black-technician",
   "metadata": {},
   "outputs": [
    {
     "name": "stdout",
     "output_type": "stream",
     "text": [
      "7.923069652118123\n"
     ]
    },
    {
     "data": {
      "image/png": "[encoded data removed]",
      "text/plain": [
       "<Figure size 640x480 with 1 Axes>"
      ]
     },
     "metadata": {},
     "output_type": "display_data"
    }
   ],
   "source": [
    "import numpy as np\n",
    "import matplotlib.pyplot as plt\n",
    "\n",
    "np.random.seed(42)\n",
    "\n",
    "data = np.random.normal(loc = 10, scale = 20, size = 100)\n",
    "plt.hist(data, bins = 30)\n",
    "print(data.mean())"
   ]
  },
  {
   "cell_type": "markdown",
   "id": "associate-oklahoma",
   "metadata": {},
   "source": [
    "Si tomo una gran cantidad de muestras aleatorias, podré construir una gráfica centrada en el valor original del parámetro, que se corresponderá con la **distribución muestral**."
   ]
  },
  {
   "cell_type": "code",
   "execution_count": 9,
   "id": "fitted-magazine",
   "metadata": {},
   "outputs": [
    {
     "data": {
      "image/png": "[encoded data removed]",
      "text/plain": [
       "<Figure size 640x480 with 1 Axes>"
      ]
     },
     "metadata": {},
     "output_type": "display_data"
    }
   ],
   "source": [
    "# Valores aleatorios de una distribución uniforme (todos los valores tienen la misma probabilidad)\n",
    "\n",
    "L = []\n",
    "for k in range(100000):\n",
    "    L.append(np.random.randint(5))\n",
    "\n",
    "plt.hist(L, bins = 5, edgecolor = \"black\");"
   ]
  },
  {
   "cell_type": "markdown",
   "id": "agricultural-breathing",
   "metadata": {},
   "source": [
    "Vamos a realizar el experimento de lanzar 10, 100, 1000 y 10000 veces un dado   \n",
    "¿Cuál es la probabilidad de obtener un 6? ¿Con qué experimento me aproximo más?"
   ]
  },
  {
   "cell_type": "code",
   "execution_count": 19,
   "id": "chronic-deputy",
   "metadata": {},
   "outputs": [
    {
     "data": {
      "text/plain": [
       "0.1634"
      ]
     },
     "execution_count": 19,
     "metadata": {},
     "output_type": "execute_result"
    }
   ],
   "source": [
    "L = []\n",
    "for k in range(10000):\n",
    "    L.append(np.random.randint(6) + 1)\n",
    "\n",
    "sum([1 for el in L if el == 6])/len(L)"
   ]
  },
  {
   "cell_type": "markdown",
   "id": "prescribed-group",
   "metadata": {},
   "source": [
    "¿Cuál es la probabilidad de obtener un 6 al tirar un dado después de haber obtenido un 6?"
   ]
  },
  {
   "cell_type": "code",
   "execution_count": 24,
   "id": "bb07eae8",
   "metadata": {},
   "outputs": [
    {
     "data": {
      "text/plain": [
       "0.02735"
      ]
     },
     "execution_count": 24,
     "metadata": {},
     "output_type": "execute_result"
    }
   ],
   "source": [
    "L = []\n",
    "for k in range(100000):\n",
    "    L.append(np.random.randint(6) + 1)\n",
    "    \n",
    "contador = 0\n",
    "for k in range(len(L)):\n",
    "    if k < len(L) -1 and L[k] == 6 and L[k+1] == 6: # para que no falle, hacer lo de la k porque el último elemento\n",
    "        contador += 1                               # no tiene siguiente, por eso < len(L)-1\n",
    "    \n",
    "contador/len(L)"
   ]
  },
  {
   "cell_type": "code",
   "execution_count": 20,
   "id": "basic-sociology",
   "metadata": {},
   "outputs": [
    {
     "data": {
      "text/plain": [
       "0.027777777777777776"
      ]
     },
     "execution_count": 20,
     "metadata": {},
     "output_type": "execute_result"
    }
   ],
   "source": [
    "1/6 * 1/6"
   ]
  },
  {
   "cell_type": "markdown",
   "id": "relevant-pulse",
   "metadata": {},
   "source": [
    "## Distribuciones de probabilidad"
   ]
  },
  {
   "cell_type": "markdown",
   "id": "physical-iceland",
   "metadata": {},
   "source": [
    "<img alt=\"Distribuciones estadísticas\" title=\"Distribuciones estadísticas\" src=\"http://relopezbriega.github.io/images/distribution.png\" high=650px width=600px>"
   ]
  },
  {
   "cell_type": "markdown",
   "id": "instructional-idaho",
   "metadata": {},
   "source": [
    "\n",
    "\n",
    "Las [variables aleatorias](https://es.wikipedia.org/wiki/Variable_aleatoria) han llegado a desempeñar un papel importante en casi todos los campos de estudio: Estas variables aleatorias son medidas y analizadas en términos\n",
    "de sus propiedades estadísticas y probabilísticas de las cuales una característica subyacente es su **[función de distribución](https://es.wikipedia.org/wiki/Funci%C3%B3n_de_distribuci%C3%B3n)**. A pesar de que el número potencial de distribuciones puede ser muy grande, en la práctica, un número relativamente pequeño se utilizan; ya sea porque **tienen características matemáticas que las hace fáciles de usar** o porque se asemejan bastante bien a una porción de la realidad, o por ambas razones combinadas.\n",
    "\n",
    "#### ¿Por qué es importante conocer las distribuciones?\n",
    "\n",
    "Muchos resultados en las ciencias se basan en conclusiones que se extraen sobre una población general a partir del estudio de una muestra de esta población. Esta inferencia estadística con frecuencia se basa en hacer suposiciones acerca de la forma en que los datos se distribuyen, o requiere realizar alguna transformación de los datos para que se ajusten mejor a alguna de las  distribuciones conocidas y estudiadas en profundidad.\n",
    "\n",
    "Las distribuciones de probabilidad teóricas son útiles en la inferencia estadística porque sus propiedades y características son conocidas. Si la distribución real de un conjunto de datos dado es razonablemente cercana a la de una distribución de probabilidad teórica, muchos de los cálculos se pueden realizar en los datos reales utilizando hipótesis extraídas de la distribución teórica.\n",
    "\n",
    "\n",
    "Una de las mejores maneras de describir una variable es representar los valores que aparecen en el conjunto de datos y el número de veces que aparece cada valor. La representación más común de una distribución es un histograma."
   ]
  }
 ],
 "metadata": {
  "kernelspec": {
   "display_name": "Python 3 (ipykernel)",
   "language": "python",
   "name": "python3"
  },
  "language_info": {
   "codemirror_mode": {
    "name": "ipython",
    "version": 3
   },
   "file_extension": ".py",
   "mimetype": "text/x-python",
   "name": "python",
   "nbconvert_exporter": "python",
   "pygments_lexer": "ipython3",
   "version": "3.10.4"
  }
 },
 "nbformat": 4,
 "nbformat_minor": 5
}
