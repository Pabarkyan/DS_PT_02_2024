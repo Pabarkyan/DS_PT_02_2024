{
 "cells": [
  {
   "cell_type": "markdown",
   "metadata": {},
   "source": [
    "# Ejercicios de codificación\n",
    "\n",
    "## Ejercicio 0: organizar carpetas"
   ]
  },
  {
   "cell_type": "code",
   "execution_count": 24,
   "metadata": {},
   "outputs": [],
   "source": [
    "import os \n",
    "import shutil\n",
    "# Crear carperta galton\n",
    "# Crear carpeta input en galton\n",
    "# Crear carpeta output en galton\n",
    "# Crear carpeta src en galton\n",
    "os.makedirs(\"galton\", exist_ok=True)\n",
    "carpetas = [\"input\", \"output\", \"src\"]\n",
    "for i in carpetas:\n",
    "    os.makedirs(f\"galton/{i}\", exist_ok=True)"
   ]
  },
  {
   "cell_type": "code",
   "execution_count": 25,
   "metadata": {},
   "outputs": [
    {
     "ename": "FileNotFoundError",
     "evalue": "[WinError 2] El sistema no puede encontrar el archivo especificado: 'Galton_s_dataset_of_parent_and_child_heights_1276_68.csv' -> 'galton.csv'",
     "output_type": "error",
     "traceback": [
      "\u001b[1;31m---------------------------------------------------------------------------\u001b[0m",
      "\u001b[1;31mFileNotFoundError\u001b[0m                         Traceback (most recent call last)",
      "Cell \u001b[1;32mIn[25], line 3\u001b[0m\n\u001b[0;32m      1\u001b[0m \u001b[38;5;66;03m# EXTRA NO VISTO EN CLASE\u001b[39;00m\n\u001b[0;32m      2\u001b[0m \u001b[38;5;66;03m### Utiliza os.rename() para cambiar el nombre de Galton_s_dataset_of_parent_and_child_heights_1276_68.csv a galton.csv\u001b[39;00m\n\u001b[1;32m----> 3\u001b[0m \u001b[43mos\u001b[49m\u001b[38;5;241;43m.\u001b[39;49m\u001b[43mrename\u001b[49m\u001b[43m(\u001b[49m\u001b[38;5;124;43m\"\u001b[39;49m\u001b[38;5;124;43mGalton_s_dataset_of_parent_and_child_heights_1276_68.csv\u001b[39;49m\u001b[38;5;124;43m\"\u001b[39;49m\u001b[43m,\u001b[49m\u001b[43m \u001b[49m\u001b[38;5;124;43m\"\u001b[39;49m\u001b[38;5;124;43mgalton.csv\u001b[39;49m\u001b[38;5;124;43m\"\u001b[39;49m\u001b[43m)\u001b[49m\n",
      "\u001b[1;31mFileNotFoundError\u001b[0m: [WinError 2] El sistema no puede encontrar el archivo especificado: 'Galton_s_dataset_of_parent_and_child_heights_1276_68.csv' -> 'galton.csv'"
     ]
    }
   ],
   "source": [
    "# EXTRA NO VISTO EN CLASE\n",
    "### Utiliza os.rename() para cambiar el nombre de Galton_s_dataset_of_parent_and_child_heights_1276_68.csv a galton.csv\n",
    "os.rename(\"Galton_s_dataset_of_parent_and_child_heights_1276_68.csv\", \"galton.csv\")"
   ]
  },
  {
   "cell_type": "code",
   "execution_count": null,
   "metadata": {},
   "outputs": [
    {
     "data": {
      "text/plain": [
       "'galton/input\\\\galton.csv'"
      ]
     },
     "execution_count": 5,
     "metadata": {},
     "output_type": "execute_result"
    }
   ],
   "source": [
    "# Mueve galton.csv a la carpeta galton/input\n",
    "shutil.move(\"galton.csv\", \"galton/input\")"
   ]
  },
  {
   "cell_type": "code",
   "execution_count": 27,
   "metadata": {},
   "outputs": [],
   "source": [
    "# Crea un archivo resultados.txt en galton/output en modo append\n",
    "file = open(\"galton/output/resultados.txt\", \"a\")"
   ]
  },
  {
   "cell_type": "markdown",
   "metadata": {},
   "source": [
    "## Ejercicio 1: Genera los datos ejecutando esta celda\n",
    "Esto te dará una lista de números con los que trabajar en los ejercicios restantes."
   ]
  },
  {
   "cell_type": "code",
   "execution_count": 28,
   "metadata": {},
   "outputs": [
    {
     "data": {
      "text/html": [
       "<div>\n",
       "<style scoped>\n",
       "    .dataframe tbody tr th:only-of-type {\n",
       "        vertical-align: middle;\n",
       "    }\n",
       "\n",
       "    .dataframe tbody tr th {\n",
       "        vertical-align: top;\n",
       "    }\n",
       "\n",
       "    .dataframe thead th {\n",
       "        text-align: right;\n",
       "    }\n",
       "</style>\n",
       "<table border=\"1\" class=\"dataframe\">\n",
       "  <thead>\n",
       "    <tr style=\"text-align: right;\">\n",
       "      <th></th>\n",
       "      <th>Unnamed: 0</th>\n",
       "      <th>X</th>\n",
       "      <th>family</th>\n",
       "      <th>father</th>\n",
       "      <th>mother</th>\n",
       "      <th>sex</th>\n",
       "      <th>height</th>\n",
       "      <th>nkids</th>\n",
       "    </tr>\n",
       "  </thead>\n",
       "  <tbody>\n",
       "    <tr>\n",
       "      <th>0</th>\n",
       "      <td>1</td>\n",
       "      <td>1</td>\n",
       "      <td>1</td>\n",
       "      <td>78.5</td>\n",
       "      <td>67.0</td>\n",
       "      <td>M</td>\n",
       "      <td>73.2</td>\n",
       "      <td>4</td>\n",
       "    </tr>\n",
       "    <tr>\n",
       "      <th>1</th>\n",
       "      <td>2</td>\n",
       "      <td>2</td>\n",
       "      <td>1</td>\n",
       "      <td>78.5</td>\n",
       "      <td>67.0</td>\n",
       "      <td>F</td>\n",
       "      <td>69.2</td>\n",
       "      <td>4</td>\n",
       "    </tr>\n",
       "    <tr>\n",
       "      <th>2</th>\n",
       "      <td>3</td>\n",
       "      <td>3</td>\n",
       "      <td>1</td>\n",
       "      <td>78.5</td>\n",
       "      <td>67.0</td>\n",
       "      <td>F</td>\n",
       "      <td>69.0</td>\n",
       "      <td>4</td>\n",
       "    </tr>\n",
       "    <tr>\n",
       "      <th>3</th>\n",
       "      <td>4</td>\n",
       "      <td>4</td>\n",
       "      <td>1</td>\n",
       "      <td>78.5</td>\n",
       "      <td>67.0</td>\n",
       "      <td>F</td>\n",
       "      <td>69.0</td>\n",
       "      <td>4</td>\n",
       "    </tr>\n",
       "    <tr>\n",
       "      <th>4</th>\n",
       "      <td>5</td>\n",
       "      <td>5</td>\n",
       "      <td>2</td>\n",
       "      <td>75.5</td>\n",
       "      <td>66.5</td>\n",
       "      <td>M</td>\n",
       "      <td>73.5</td>\n",
       "      <td>4</td>\n",
       "    </tr>\n",
       "  </tbody>\n",
       "</table>\n",
       "</div>"
      ],
      "text/plain": [
       "   Unnamed: 0  X family  father  mother sex  height  nkids\n",
       "0           1  1      1    78.5    67.0   M    73.2      4\n",
       "1           2  2      1    78.5    67.0   F    69.2      4\n",
       "2           3  3      1    78.5    67.0   F    69.0      4\n",
       "3           4  4      1    78.5    67.0   F    69.0      4\n",
       "4           5  5      2    75.5    66.5   M    73.5      4"
      ]
     },
     "execution_count": 28,
     "metadata": {},
     "output_type": "execute_result"
    }
   ],
   "source": [
    "# Leer galton.csv desde galton/input\n",
    "import pandas as pd\n",
    "\n",
    "galton = pd.read_csv('galton/input/galton.csv')\n",
    "galton.head()"
   ]
  },
  {
   "cell_type": "code",
   "execution_count": 29,
   "metadata": {},
   "outputs": [
    {
     "name": "stderr",
     "output_type": "stream",
     "text": [
      "C:\\Users\\pabma\\AppData\\Local\\Temp\\ipykernel_24184\\3150998288.py:5: SettingWithCopyWarning: \n",
      "A value is trying to be set on a copy of a slice from a DataFrame\n",
      "\n",
      "See the caveats in the documentation: https://pandas.pydata.org/pandas-docs/stable/user_guide/indexing.html#returning-a-view-versus-a-copy\n",
      "  galton_hijas.drop(columns=['Unnamed: 0', 'X', 'family', 'father',\n"
     ]
    },
    {
     "data": {
      "text/html": [
       "<div>\n",
       "<style scoped>\n",
       "    .dataframe tbody tr th:only-of-type {\n",
       "        vertical-align: middle;\n",
       "    }\n",
       "\n",
       "    .dataframe tbody tr th {\n",
       "        vertical-align: top;\n",
       "    }\n",
       "\n",
       "    .dataframe thead th {\n",
       "        text-align: right;\n",
       "    }\n",
       "</style>\n",
       "<table border=\"1\" class=\"dataframe\">\n",
       "  <thead>\n",
       "    <tr style=\"text-align: right;\">\n",
       "      <th></th>\n",
       "      <th>mother</th>\n",
       "      <th>height</th>\n",
       "    </tr>\n",
       "  </thead>\n",
       "  <tbody>\n",
       "    <tr>\n",
       "      <th>1</th>\n",
       "      <td>67.0</td>\n",
       "      <td>69.2</td>\n",
       "    </tr>\n",
       "    <tr>\n",
       "      <th>2</th>\n",
       "      <td>67.0</td>\n",
       "      <td>69.0</td>\n",
       "    </tr>\n",
       "    <tr>\n",
       "      <th>3</th>\n",
       "      <td>67.0</td>\n",
       "      <td>69.0</td>\n",
       "    </tr>\n",
       "    <tr>\n",
       "      <th>6</th>\n",
       "      <td>66.5</td>\n",
       "      <td>65.5</td>\n",
       "    </tr>\n",
       "    <tr>\n",
       "      <th>7</th>\n",
       "      <td>66.5</td>\n",
       "      <td>65.5</td>\n",
       "    </tr>\n",
       "  </tbody>\n",
       "</table>\n",
       "</div>"
      ],
      "text/plain": [
       "   mother  height\n",
       "1    67.0    69.2\n",
       "2    67.0    69.0\n",
       "3    67.0    69.0\n",
       "6    66.5    65.5\n",
       "7    66.5    65.5"
      ]
     },
     "execution_count": 29,
     "metadata": {},
     "output_type": "execute_result"
    }
   ],
   "source": [
    "# EXTRA NO HECHO EN CLASE\n",
    "# 1. Seleccionar sólo las hijas (sex == 'F') \n",
    "# 2. Eliminar todas las columnas salvo \"mother\" y \"height\"\n",
    "galton_hijas = galton[galton['sex'] == 'F']\n",
    "galton_hijas.drop(columns=['Unnamed: 0', 'X', 'family', 'father', \n",
    "                           'sex', 'nkids'], inplace=True)\n",
    "galton_hijas.head()"
   ]
  },
  {
   "cell_type": "markdown",
   "metadata": {},
   "source": [
    "## Ejercicio 2: Cálculo de estadísticas y verificación\n",
    "### media"
   ]
  },
  {
   "cell_type": "code",
   "execution_count": 30,
   "metadata": {},
   "outputs": [],
   "source": [
    "# Calcula la media\n",
    "# EXTRA NO VISTO EN CLASE\n",
    "# Usa file.write() para guardar la cadena \"La altura media de las madres es de X\\n\" en el fichero resultados\n",
    "# Recuerda sustituir X por el valor de la media de las madres\n",
    "# Recuerda para que sirve \\n\n",
    "galton_hijas.mean()\n",
    "media_madres = round(galton_hijas['mother'].mean(), 2)\n",
    "file.write(f\"La altura media de las madres es de {media_madres}\\n\")\n",
    "file.close()"
   ]
  },
  {
   "cell_type": "code",
   "execution_count": 31,
   "metadata": {},
   "outputs": [
    {
     "data": {
      "text/plain": [
       "64.11"
      ]
     },
     "execution_count": 31,
     "metadata": {},
     "output_type": "execute_result"
    }
   ],
   "source": [
    "# Calcula la media de las hijas usando un bucle for usando el atributo values\n",
    "altura_media = 0\n",
    "for i in galton_hijas['height'].values:\n",
    "    altura_media += i\n",
    "altura_media_hijas = round(altura_media / len(galton_hijas['height'].values), 2)\n",
    "altura_media_hijas "
   ]
  },
  {
   "cell_type": "code",
   "execution_count": 36,
   "metadata": {},
   "outputs": [
    {
     "data": {
      "text/plain": [
       "mother    64.17\n",
       "Name: 1, dtype: float64"
      ]
     },
     "execution_count": 36,
     "metadata": {},
     "output_type": "execute_result"
    }
   ],
   "source": [
    "# Calcula la media de las madres usando un bucle for e iterrows()\n",
    "media_madres = 0\n",
    "for i, j in galton_hijas[['mother']].iterrows():\n",
    "    media_madres += j\n",
    "media_madres = round(media_madres/len(galton_hijas[['mother']]), 2)\n",
    "media_madres"
   ]
  },
  {
   "cell_type": "markdown",
   "metadata": {},
   "source": [
    "### mediana"
   ]
  },
  {
   "cell_type": "code",
   "execution_count": 39,
   "metadata": {},
   "outputs": [],
   "source": [
    "# Calcula la mediana\n",
    "# EXTRA NO VISTO EN CLASE\n",
    "# Usa file.write() para guardar la cadena \"La altura mediana de las hijas es de X\\n\" en el fichero resultados\n",
    "# Recuerda sustituir X por el valor de la mediana de las hijas\n",
    "mediana_hijas = galton_hijas['height'].median()\n",
    "file = open(\"galton/output/resultados.txt\", \"a\")\n",
    "file.write(f\"La altura mediana de las hijas es de {mediana_hijas}\\n\")\n",
    "file.close()"
   ]
  },
  {
   "cell_type": "code",
   "execution_count": 63,
   "metadata": {},
   "outputs": [
    {
     "name": "stderr",
     "output_type": "stream",
     "text": [
      "C:\\Users\\pabma\\AppData\\Local\\Temp\\ipykernel_24184\\2731941465.py:5: SettingWithCopyWarning: \n",
      "A value is trying to be set on a copy of a slice from a DataFrame\n",
      "\n",
      "See the caveats in the documentation: https://pandas.pydata.org/pandas-docs/stable/user_guide/indexing.html#returning-a-view-versus-a-copy\n",
      "  galton_hijas.sort_values('mother', inplace=True)\n"
     ]
    },
    {
     "data": {
      "text/plain": [
       "mother    64.17\n",
       "Name: 1, dtype: float64"
      ]
     },
     "execution_count": 63,
     "metadata": {},
     "output_type": "execute_result"
    }
   ],
   "source": [
    "# Calcula la mediana de la altura de las madres accediendo al valor/es en la mitad de la columna de alturas de las hijas con iloc\n",
    "# Recuerda:\n",
    "# 1. Ordenar por altura de las hijas\n",
    "# 2. Reiniciar el index\n",
    "galton_hijas.sort_values('mother', inplace=True)\n",
    "galton_hijas.reset_index(drop=True, inplace=True)\n",
    "indice = int(len(galton_hijas['mother'])/2 + 0.5) # Es impar\n",
    "mediana_madres = galton_hijas['mother'][indice]\n",
    "media_madres"
   ]
  },
  {
   "cell_type": "markdown",
   "metadata": {},
   "source": [
    "### moda"
   ]
  },
  {
   "cell_type": "code",
   "execution_count": 76,
   "metadata": {},
   "outputs": [],
   "source": [
    "# Calcula la moda\n",
    "# EXTRA NO VISTO EN CLASE\n",
    "# Usa file.write() para guardar la moda de madres e hijas\n",
    "# Recuerda sustituir X por el valor de la moda\n",
    "# Si existe más de una moda para madres o hijas, utiliza un bucle FOR\n",
    "moda_hijas = galton_hijas['height'].mode()[0]\n",
    "moda_madres = galton_hijas['mother'].mode()[0]\n",
    "\n",
    "if len(galton_hijas['height'].mode()) > 1:\n",
    "    moda_hijas = [x for x in galton_hijas['height'].mode()]\n",
    "    moda_hijas.split(\", \")\n",
    "elif len(galton_hijas['mother'].mode()) > 1: \n",
    "    moda_madres = [x for x in galton_hijas['mother'].mode()]\n",
    "    moda_madres.split(\", \")\n",
    "\n",
    "file = open(\"galton/output/resultados.txt\", \"a\")\n",
    "file.write(f\"La moda de las hijas es de {moda_hijas} y la de las madres es {moda_madres}\\n\")\n",
    "file.close()"
   ]
  },
  {
   "cell_type": "code",
   "execution_count": 83,
   "metadata": {},
   "outputs": [
    {
     "data": {
      "text/plain": [
       "height\n",
       "65.0    47\n",
       "63.0    43\n",
       "62.0    38\n",
       "64.0    37\n",
       "66.0    32\n",
       "65.5    23\n",
       "62.5    22\n",
       "64.5    22\n",
       "63.5    20\n",
       "61.0    18\n",
       "60.0    18\n",
       "67.0    17\n",
       "66.5    13\n",
       "68.0    12\n",
       "67.5     8\n",
       "69.0     6\n",
       "61.5     6\n",
       "63.7     5\n",
       "60.5     5\n",
       "70.5     3\n",
       "65.2     3\n",
       "68.5     3\n",
       "63.2     3\n",
       "61.7     3\n",
       "62.7     2\n",
       "70.0     2\n",
       "67.2     2\n",
       "66.7     2\n",
       "69.2     2\n",
       "57.0     2\n",
       "65.7     2\n",
       "68.7     1\n",
       "64.2     1\n",
       "59.0     1\n",
       "57.5     1\n",
       "62.3     1\n",
       "64.7     1\n",
       "58.0     1\n",
       "60.1     1\n",
       "61.2     1\n",
       "62.2     1\n",
       "56.0     1\n",
       "69.5     1\n",
       "Name: count, dtype: int64"
      ]
     },
     "execution_count": 83,
     "metadata": {},
     "output_type": "execute_result"
    }
   ],
   "source": [
    "# Comprueba que el resultado de la moda es correcta para madres e hijas usando .values_counts()\n",
    "galton_hijas['mother'].value_counts()\n",
    "galton_hijas['height'].value_counts()"
   ]
  },
  {
   "cell_type": "markdown",
   "metadata": {},
   "source": [
    "### Cerrar el archivo!"
   ]
  },
  {
   "cell_type": "code",
   "execution_count": 89,
   "metadata": {},
   "outputs": [
    {
     "name": "stdout",
     "output_type": "stream",
     "text": [
      "No esta vacio\n"
     ]
    }
   ],
   "source": [
    "# EXTRA NO VISTO EN CLASE\n",
    "# comprueba si se ha escrito algo en resultados.txt\n",
    "# utiliza file.close() para cerrar resultados.txt\n",
    "# comprueba si se ha escrito algo en resultados.txt\n",
    "\n",
    "if os.path.getsize(\"galton/output/resultados.txt\") > 0:\n",
    "    print('No esta vacio')\n",
    "else:\n",
    "    print('Esta vacio')"
   ]
  },
  {
   "cell_type": "markdown",
   "metadata": {},
   "source": [
    "### varianza de la muestra\n",
    "Recuerde utilizar la corrección de Bessel."
   ]
  },
  {
   "cell_type": "code",
   "execution_count": 90,
   "metadata": {},
   "outputs": [
    {
     "data": {
      "text/plain": [
       "mother    5.184809\n",
       "height    5.618415\n",
       "dtype: float64"
      ]
     },
     "execution_count": 90,
     "metadata": {},
     "output_type": "execute_result"
    }
   ],
   "source": [
    "## Calcula la varianza\n",
    "galton_hijas.var()"
   ]
  },
  {
   "cell_type": "code",
   "execution_count": 92,
   "metadata": {},
   "outputs": [
    {
     "data": {
      "text/plain": [
       "mother    5.172835\n",
       "height    5.605439\n",
       "dtype: float64"
      ]
     },
     "execution_count": 92,
     "metadata": {},
     "output_type": "execute_result"
    }
   ],
   "source": [
    "# Calcula la varianza con N en lugar de N-1\n",
    "galton_hijas.var(ddof=0)"
   ]
  },
  {
   "cell_type": "markdown",
   "metadata": {},
   "source": [
    "### desviación típica de la muestra\n",
    "Recuerde utilizar la corrección de Bessel."
   ]
  },
  {
   "cell_type": "code",
   "execution_count": 93,
   "metadata": {},
   "outputs": [
    {
     "data": {
      "text/plain": [
       "mother    2.277018\n",
       "height    2.370320\n",
       "dtype: float64"
      ]
     },
     "execution_count": 93,
     "metadata": {},
     "output_type": "execute_result"
    }
   ],
   "source": [
    "# Calcula la desviación típica\n",
    "galton_hijas.std()"
   ]
  },
  {
   "cell_type": "code",
   "execution_count": 94,
   "metadata": {},
   "outputs": [
    {
     "data": {
      "text/plain": [
       "mother    2.274387\n",
       "height    2.367581\n",
       "dtype: float64"
      ]
     },
     "execution_count": 94,
     "metadata": {},
     "output_type": "execute_result"
    }
   ],
   "source": [
    "# Calcula la desviación típica con N en lugar de N-1\n",
    "galton_hijas.std(ddof=0)"
   ]
  },
  {
   "cell_type": "code",
   "execution_count": 95,
   "metadata": {},
   "outputs": [
    {
     "data": {
      "text/plain": [
       "0.7344110854503464"
      ]
     },
     "execution_count": 95,
     "metadata": {},
     "output_type": "execute_result"
    }
   ],
   "source": [
    "# Comprueba el % de valores a 1 desviación típica de distancia ¿Está próximo al 68%?\n",
    "std_mas_1 = galton_hijas[\"mother\"].mean() + galton_hijas[\"mother\"].std()\n",
    "std_menos_1 = galton_hijas[\"mother\"].mean() - galton_hijas[\"mother\"].std()\n",
    "len(galton_hijas[(galton_hijas[\"mother\"]<=std_mas_1) & ((galton_hijas[\"mother\"]>=std_menos_1))])/len(galton_hijas)"
   ]
  },
  {
   "cell_type": "code",
   "execution_count": 96,
   "metadata": {},
   "outputs": [
    {
     "data": {
      "text/plain": [
       "0.9284064665127021"
      ]
     },
     "execution_count": 96,
     "metadata": {},
     "output_type": "execute_result"
    }
   ],
   "source": [
    "# Comprueba el % de valores a 2 desviación típica de distancia ¿Está próximo al 95.5%?\n",
    "std_mas_1 = galton_hijas[\"mother\"].mean() + 2 * galton_hijas[\"mother\"].std()\n",
    "std_menos_1 = galton_hijas[\"mother\"].mean() - 2 * galton_hijas[\"mother\"].std()\n",
    "len(galton_hijas[(galton_hijas[\"mother\"]<=std_mas_1) & ((galton_hijas[\"mother\"]>=std_menos_1))])/len(galton_hijas)"
   ]
  },
  {
   "cell_type": "code",
   "execution_count": 97,
   "metadata": {},
   "outputs": [
    {
     "data": {
      "text/plain": [
       "1.0"
      ]
     },
     "execution_count": 97,
     "metadata": {},
     "output_type": "execute_result"
    }
   ],
   "source": [
    "# Comprueba el % de valores a 3 desviación típica de distancia ¿Está próximo al 99.7%?\n",
    "std_mas_1 = galton_hijas[\"mother\"].mean() + 3 * galton_hijas[\"mother\"].std()\n",
    "std_menos_1 = galton_hijas[\"mother\"].mean() - 3 * galton_hijas[\"mother\"].std()\n",
    "len(galton_hijas[(galton_hijas[\"mother\"]<=std_mas_1) & ((galton_hijas[\"mother\"]>=std_menos_1))])/len(galton_hijas)"
   ]
  },
  {
   "cell_type": "markdown",
   "metadata": {},
   "source": [
    "## Ejercicio 3: Calcular más estadísticas\n",
    "### rango"
   ]
  },
  {
   "cell_type": "code",
   "execution_count": 98,
   "metadata": {},
   "outputs": [
    {
     "data": {
      "text/plain": [
       "mother    12.5\n",
       "height    14.5\n",
       "dtype: float64"
      ]
     },
     "execution_count": 98,
     "metadata": {},
     "output_type": "execute_result"
    }
   ],
   "source": [
    "# Calcula el rango\n",
    "galton_hijas.max() - galton_hijas.min()"
   ]
  },
  {
   "cell_type": "markdown",
   "metadata": {},
   "source": [
    "### coeficiente de variación\n",
    "Asegúrese de utilizar la desviación típica de la muestra."
   ]
  },
  {
   "cell_type": "code",
   "execution_count": null,
   "metadata": {},
   "outputs": [],
   "source": [
    "# Calcula el coeficiente de variación"
   ]
  },
  {
   "cell_type": "markdown",
   "metadata": {},
   "source": [
    "### rango intercuartílico"
   ]
  },
  {
   "cell_type": "code",
   "execution_count": 99,
   "metadata": {},
   "outputs": [
    {
     "data": {
      "text/plain": [
       "mother    2.5\n",
       "height    3.0\n",
       "dtype: float64"
      ]
     },
     "execution_count": 99,
     "metadata": {},
     "output_type": "execute_result"
    }
   ],
   "source": [
    "# Calcula el rango intercuartílico\n",
    "galton_hijas.quantile(0.75) - galton_hijas.quantile(0.25)"
   ]
  },
  {
   "cell_type": "code",
   "execution_count": 100,
   "metadata": {},
   "outputs": [
    {
     "data": {
      "text/plain": [
       "mother    64.0\n",
       "height    64.0\n",
       "Name: 0.5, dtype: float64"
      ]
     },
     "execution_count": 100,
     "metadata": {},
     "output_type": "execute_result"
    }
   ],
   "source": [
    "# Calcula el percentil 50%.\n",
    "# Interpreta el percentil 50%\n",
    "# ¿Cuál es la diferencia entre el percentil 50% y la mediana?\n",
    "galton_hijas.quantile(0.5)"
   ]
  },
  {
   "cell_type": "markdown",
   "metadata": {},
   "source": [
    "### coeficiente de dispersión por cuartiles"
   ]
  },
  {
   "cell_type": "code",
   "execution_count": 101,
   "metadata": {},
   "outputs": [],
   "source": [
    "# Calcula el Coeficiente de Dispersión por Cuartiles\n",
    "cdq = (galton_hijas.quantile(0.75)-galton_hijas.quantile(0.25))/(galton_hijas.quantile(0.75)+galton_hijas.quantile(0.25))"
   ]
  },
  {
   "cell_type": "markdown",
   "metadata": {},
   "source": [
    "## Ejercicio 4: Escalado de datos\n",
    "### escalado min-max"
   ]
  },
  {
   "cell_type": "code",
   "execution_count": 103,
   "metadata": {},
   "outputs": [
    {
     "data": {
      "text/html": [
       "<div>\n",
       "<style scoped>\n",
       "    .dataframe tbody tr th:only-of-type {\n",
       "        vertical-align: middle;\n",
       "    }\n",
       "\n",
       "    .dataframe tbody tr th {\n",
       "        vertical-align: top;\n",
       "    }\n",
       "\n",
       "    .dataframe thead th {\n",
       "        text-align: right;\n",
       "    }\n",
       "</style>\n",
       "<table border=\"1\" class=\"dataframe\">\n",
       "  <thead>\n",
       "    <tr style=\"text-align: right;\">\n",
       "      <th></th>\n",
       "      <th>mother</th>\n",
       "      <th>height</th>\n",
       "    </tr>\n",
       "  </thead>\n",
       "  <tbody>\n",
       "    <tr>\n",
       "      <th>0</th>\n",
       "      <td>0.00</td>\n",
       "      <td>0.689655</td>\n",
       "    </tr>\n",
       "    <tr>\n",
       "      <th>1</th>\n",
       "      <td>0.00</td>\n",
       "      <td>0.620690</td>\n",
       "    </tr>\n",
       "    <tr>\n",
       "      <th>2</th>\n",
       "      <td>0.00</td>\n",
       "      <td>0.482759</td>\n",
       "    </tr>\n",
       "    <tr>\n",
       "      <th>3</th>\n",
       "      <td>0.04</td>\n",
       "      <td>0.482759</td>\n",
       "    </tr>\n",
       "    <tr>\n",
       "      <th>4</th>\n",
       "      <td>0.04</td>\n",
       "      <td>0.724138</td>\n",
       "    </tr>\n",
       "    <tr>\n",
       "      <th>...</th>\n",
       "      <td>...</td>\n",
       "      <td>...</td>\n",
       "    </tr>\n",
       "    <tr>\n",
       "      <th>428</th>\n",
       "      <td>0.88</td>\n",
       "      <td>0.413793</td>\n",
       "    </tr>\n",
       "    <tr>\n",
       "      <th>429</th>\n",
       "      <td>0.88</td>\n",
       "      <td>0.551724</td>\n",
       "    </tr>\n",
       "    <tr>\n",
       "      <th>430</th>\n",
       "      <td>0.88</td>\n",
       "      <td>0.689655</td>\n",
       "    </tr>\n",
       "    <tr>\n",
       "      <th>431</th>\n",
       "      <td>0.88</td>\n",
       "      <td>0.965517</td>\n",
       "    </tr>\n",
       "    <tr>\n",
       "      <th>432</th>\n",
       "      <td>1.00</td>\n",
       "      <td>0.393103</td>\n",
       "    </tr>\n",
       "  </tbody>\n",
       "</table>\n",
       "<p>433 rows × 2 columns</p>\n",
       "</div>"
      ],
      "text/plain": [
       "     mother    height\n",
       "0      0.00  0.689655\n",
       "1      0.00  0.620690\n",
       "2      0.00  0.482759\n",
       "3      0.04  0.482759\n",
       "4      0.04  0.724138\n",
       "..      ...       ...\n",
       "428    0.88  0.413793\n",
       "429    0.88  0.551724\n",
       "430    0.88  0.689655\n",
       "431    0.88  0.965517\n",
       "432    1.00  0.393103\n",
       "\n",
       "[433 rows x 2 columns]"
      ]
     },
     "execution_count": 103,
     "metadata": {},
     "output_type": "execute_result"
    }
   ],
   "source": [
    "# Calcula el escalado min-max \n",
    "galton_min_max = (galton_hijas - galton_hijas.min()) / (galton_hijas.max() - galton_hijas.min())\n",
    "galton_min_max"
   ]
  },
  {
   "cell_type": "code",
   "execution_count": 104,
   "metadata": {},
   "outputs": [
    {
     "data": {
      "text/html": [
       "<div>\n",
       "<style scoped>\n",
       "    .dataframe tbody tr th:only-of-type {\n",
       "        vertical-align: middle;\n",
       "    }\n",
       "\n",
       "    .dataframe tbody tr th {\n",
       "        vertical-align: top;\n",
       "    }\n",
       "\n",
       "    .dataframe thead th {\n",
       "        text-align: right;\n",
       "    }\n",
       "</style>\n",
       "<table border=\"1\" class=\"dataframe\">\n",
       "  <thead>\n",
       "    <tr style=\"text-align: right;\">\n",
       "      <th></th>\n",
       "      <th>mother</th>\n",
       "      <th>height</th>\n",
       "    </tr>\n",
       "  </thead>\n",
       "  <tbody>\n",
       "    <tr>\n",
       "      <th>count</th>\n",
       "      <td>433.000000</td>\n",
       "      <td>433.000000</td>\n",
       "    </tr>\n",
       "    <tr>\n",
       "      <th>mean</th>\n",
       "      <td>0.493561</td>\n",
       "      <td>0.559321</td>\n",
       "    </tr>\n",
       "    <tr>\n",
       "      <th>std</th>\n",
       "      <td>0.182161</td>\n",
       "      <td>0.163470</td>\n",
       "    </tr>\n",
       "    <tr>\n",
       "      <th>min</th>\n",
       "      <td>0.000000</td>\n",
       "      <td>0.000000</td>\n",
       "    </tr>\n",
       "    <tr>\n",
       "      <th>25%</th>\n",
       "      <td>0.400000</td>\n",
       "      <td>0.448276</td>\n",
       "    </tr>\n",
       "    <tr>\n",
       "      <th>50%</th>\n",
       "      <td>0.480000</td>\n",
       "      <td>0.551724</td>\n",
       "    </tr>\n",
       "    <tr>\n",
       "      <th>75%</th>\n",
       "      <td>0.600000</td>\n",
       "      <td>0.655172</td>\n",
       "    </tr>\n",
       "    <tr>\n",
       "      <th>max</th>\n",
       "      <td>1.000000</td>\n",
       "      <td>1.000000</td>\n",
       "    </tr>\n",
       "  </tbody>\n",
       "</table>\n",
       "</div>"
      ],
      "text/plain": [
       "           mother      height\n",
       "count  433.000000  433.000000\n",
       "mean     0.493561    0.559321\n",
       "std      0.182161    0.163470\n",
       "min      0.000000    0.000000\n",
       "25%      0.400000    0.448276\n",
       "50%      0.480000    0.551724\n",
       "75%      0.600000    0.655172\n",
       "max      1.000000    1.000000"
      ]
     },
     "execution_count": 104,
     "metadata": {},
     "output_type": "execute_result"
    }
   ],
   "source": [
    "# Comprueba que para cada columna el mínimo es 0 y el máximo es 1\n",
    "galton_min_max.describe()"
   ]
  },
  {
   "cell_type": "markdown",
   "metadata": {},
   "source": [
    "### normalización"
   ]
  },
  {
   "cell_type": "code",
   "execution_count": 107,
   "metadata": {},
   "outputs": [],
   "source": [
    "# Utiliza preprocessing.StandardScaler().fit() para normalizar el dataframe\n",
    "from sklearn import preprocessing\n",
    "std_scale = preprocessing.StandardScaler().fit(galton_hijas)\n",
    "galton_std = std_scale.transform(galton_hijas)\n"
   ]
  },
  {
   "cell_type": "code",
   "execution_count": 114,
   "metadata": {},
   "outputs": [
    {
     "data": {
      "text/html": [
       "<div>\n",
       "<style scoped>\n",
       "    .dataframe tbody tr th:only-of-type {\n",
       "        vertical-align: middle;\n",
       "    }\n",
       "\n",
       "    .dataframe tbody tr th {\n",
       "        vertical-align: top;\n",
       "    }\n",
       "\n",
       "    .dataframe thead th {\n",
       "        text-align: right;\n",
       "    }\n",
       "</style>\n",
       "<table border=\"1\" class=\"dataframe\">\n",
       "  <thead>\n",
       "    <tr style=\"text-align: right;\">\n",
       "      <th></th>\n",
       "      <th>0</th>\n",
       "      <th>1</th>\n",
       "    </tr>\n",
       "  </thead>\n",
       "  <tbody>\n",
       "    <tr>\n",
       "      <th>count</th>\n",
       "      <td>4.330000e+02</td>\n",
       "      <td>4.330000e+02</td>\n",
       "    </tr>\n",
       "    <tr>\n",
       "      <th>mean</th>\n",
       "      <td>-1.115864e-15</td>\n",
       "      <td>-3.560919e-15</td>\n",
       "    </tr>\n",
       "    <tr>\n",
       "      <th>std</th>\n",
       "      <td>1.001157e+00</td>\n",
       "      <td>1.001157e+00</td>\n",
       "    </tr>\n",
       "    <tr>\n",
       "      <th>min</th>\n",
       "      <td>-2.712606e+00</td>\n",
       "      <td>-3.425506e+00</td>\n",
       "    </tr>\n",
       "    <tr>\n",
       "      <th>25%</th>\n",
       "      <td>-5.142111e-01</td>\n",
       "      <td>-6.800873e-01</td>\n",
       "    </tr>\n",
       "    <tr>\n",
       "      <th>50%</th>\n",
       "      <td>-7.453218e-02</td>\n",
       "      <td>-4.652921e-02</td>\n",
       "    </tr>\n",
       "    <tr>\n",
       "      <th>75%</th>\n",
       "      <td>5.849863e-01</td>\n",
       "      <td>5.870289e-01</td>\n",
       "    </tr>\n",
       "    <tr>\n",
       "      <th>max</th>\n",
       "      <td>2.783381e+00</td>\n",
       "      <td>2.698889e+00</td>\n",
       "    </tr>\n",
       "  </tbody>\n",
       "</table>\n",
       "</div>"
      ],
      "text/plain": [
       "                  0             1\n",
       "count  4.330000e+02  4.330000e+02\n",
       "mean  -1.115864e-15 -3.560919e-15\n",
       "std    1.001157e+00  1.001157e+00\n",
       "min   -2.712606e+00 -3.425506e+00\n",
       "25%   -5.142111e-01 -6.800873e-01\n",
       "50%   -7.453218e-02 -4.652921e-02\n",
       "75%    5.849863e-01  5.870289e-01\n",
       "max    2.783381e+00  2.698889e+00"
      ]
     },
     "execution_count": 114,
     "metadata": {},
     "output_type": "execute_result"
    }
   ],
   "source": [
    "# Comprueba que la media es aproximadamente 0 y la desviación típica aproximadamente 1\n",
    "galton_std_df = pd.DataFrame(galton_std)\n",
    "galton_std_df.describe()"
   ]
  },
  {
   "cell_type": "markdown",
   "metadata": {},
   "source": [
    "## Ejercicio 5: Cálculo de covarianza y correlación\n",
    "### covarianza"
   ]
  },
  {
   "cell_type": "code",
   "execution_count": 109,
   "metadata": {},
   "outputs": [
    {
     "data": {
      "text/html": [
       "<div>\n",
       "<style scoped>\n",
       "    .dataframe tbody tr th:only-of-type {\n",
       "        vertical-align: middle;\n",
       "    }\n",
       "\n",
       "    .dataframe tbody tr th {\n",
       "        vertical-align: top;\n",
       "    }\n",
       "\n",
       "    .dataframe thead th {\n",
       "        text-align: right;\n",
       "    }\n",
       "</style>\n",
       "<table border=\"1\" class=\"dataframe\">\n",
       "  <thead>\n",
       "    <tr style=\"text-align: right;\">\n",
       "      <th></th>\n",
       "      <th>mother</th>\n",
       "      <th>height</th>\n",
       "    </tr>\n",
       "  </thead>\n",
       "  <tbody>\n",
       "    <tr>\n",
       "      <th>mother</th>\n",
       "      <td>5.184809</td>\n",
       "      <td>1.693111</td>\n",
       "    </tr>\n",
       "    <tr>\n",
       "      <th>height</th>\n",
       "      <td>1.693111</td>\n",
       "      <td>5.618415</td>\n",
       "    </tr>\n",
       "  </tbody>\n",
       "</table>\n",
       "</div>"
      ],
      "text/plain": [
       "          mother    height\n",
       "mother  5.184809  1.693111\n",
       "height  1.693111  5.618415"
      ]
     },
     "execution_count": 109,
     "metadata": {},
     "output_type": "execute_result"
    }
   ],
   "source": [
    "# Calcula la covarianza\n",
    "galton_hijas.cov()"
   ]
  },
  {
   "cell_type": "markdown",
   "metadata": {},
   "source": [
    "### Coeficiente de correlación de Pearson ($\\rho$)"
   ]
  },
  {
   "cell_type": "code",
   "execution_count": 110,
   "metadata": {},
   "outputs": [
    {
     "data": {
      "text/html": [
       "<div>\n",
       "<style scoped>\n",
       "    .dataframe tbody tr th:only-of-type {\n",
       "        vertical-align: middle;\n",
       "    }\n",
       "\n",
       "    .dataframe tbody tr th {\n",
       "        vertical-align: top;\n",
       "    }\n",
       "\n",
       "    .dataframe thead th {\n",
       "        text-align: right;\n",
       "    }\n",
       "</style>\n",
       "<table border=\"1\" class=\"dataframe\">\n",
       "  <thead>\n",
       "    <tr style=\"text-align: right;\">\n",
       "      <th></th>\n",
       "      <th>mother</th>\n",
       "      <th>height</th>\n",
       "    </tr>\n",
       "  </thead>\n",
       "  <tbody>\n",
       "    <tr>\n",
       "      <th>mother</th>\n",
       "      <td>1.000000</td>\n",
       "      <td>0.313698</td>\n",
       "    </tr>\n",
       "    <tr>\n",
       "      <th>height</th>\n",
       "      <td>0.313698</td>\n",
       "      <td>1.000000</td>\n",
       "    </tr>\n",
       "  </tbody>\n",
       "</table>\n",
       "</div>"
      ],
      "text/plain": [
       "          mother    height\n",
       "mother  1.000000  0.313698\n",
       "height  0.313698  1.000000"
      ]
     },
     "execution_count": 110,
     "metadata": {},
     "output_type": "execute_result"
    }
   ],
   "source": [
    "# Calcula la correlación\n",
    "galton_hijas.corr()"
   ]
  },
  {
   "cell_type": "code",
   "execution_count": 112,
   "metadata": {},
   "outputs": [
    {
     "data": {
      "text/html": [
       "<div>\n",
       "<style scoped>\n",
       "    .dataframe tbody tr th:only-of-type {\n",
       "        vertical-align: middle;\n",
       "    }\n",
       "\n",
       "    .dataframe tbody tr th {\n",
       "        vertical-align: top;\n",
       "    }\n",
       "\n",
       "    .dataframe thead th {\n",
       "        text-align: right;\n",
       "    }\n",
       "</style>\n",
       "<table border=\"1\" class=\"dataframe\">\n",
       "  <thead>\n",
       "    <tr style=\"text-align: right;\">\n",
       "      <th></th>\n",
       "      <th>mother</th>\n",
       "      <th>height</th>\n",
       "    </tr>\n",
       "  </thead>\n",
       "  <tbody>\n",
       "    <tr>\n",
       "      <th>mother</th>\n",
       "      <td>0.033183</td>\n",
       "      <td>0.009341</td>\n",
       "    </tr>\n",
       "    <tr>\n",
       "      <th>height</th>\n",
       "      <td>0.009341</td>\n",
       "      <td>0.026723</td>\n",
       "    </tr>\n",
       "  </tbody>\n",
       "</table>\n",
       "</div>"
      ],
      "text/plain": [
       "          mother    height\n",
       "mother  0.033183  0.009341\n",
       "height  0.009341  0.026723"
      ]
     },
     "execution_count": 112,
     "metadata": {},
     "output_type": "execute_result"
    }
   ],
   "source": [
    "# Calcula la correlacion para el escalado min-max\n",
    "galton_min_max.corr()\n",
    "# EXTRA no visto en clase\n",
    "# Calcula la covarianza para el escalado min-max\n",
    "galton_min_max.cov()"
   ]
  },
  {
   "cell_type": "code",
   "execution_count": 116,
   "metadata": {},
   "outputs": [
    {
     "data": {
      "text/html": [
       "<div>\n",
       "<style scoped>\n",
       "    .dataframe tbody tr th:only-of-type {\n",
       "        vertical-align: middle;\n",
       "    }\n",
       "\n",
       "    .dataframe tbody tr th {\n",
       "        vertical-align: top;\n",
       "    }\n",
       "\n",
       "    .dataframe thead th {\n",
       "        text-align: right;\n",
       "    }\n",
       "</style>\n",
       "<table border=\"1\" class=\"dataframe\">\n",
       "  <thead>\n",
       "    <tr style=\"text-align: right;\">\n",
       "      <th></th>\n",
       "      <th>0</th>\n",
       "      <th>1</th>\n",
       "    </tr>\n",
       "  </thead>\n",
       "  <tbody>\n",
       "    <tr>\n",
       "      <th>0</th>\n",
       "      <td>1.002315</td>\n",
       "      <td>0.314425</td>\n",
       "    </tr>\n",
       "    <tr>\n",
       "      <th>1</th>\n",
       "      <td>0.314425</td>\n",
       "      <td>1.002315</td>\n",
       "    </tr>\n",
       "  </tbody>\n",
       "</table>\n",
       "</div>"
      ],
      "text/plain": [
       "          0         1\n",
       "0  1.002315  0.314425\n",
       "1  0.314425  1.002315"
      ]
     },
     "execution_count": 116,
     "metadata": {},
     "output_type": "execute_result"
    }
   ],
   "source": [
    "# Calcula la correlacion para la normalización\n",
    "galton_std_df.corr()\n",
    "# EXTRA no visto en clase\n",
    "# Calcula la covarianza para la normalización\n",
    "galton_std_df.cov()"
   ]
  },
  {
   "cell_type": "code",
   "execution_count": null,
   "metadata": {},
   "outputs": [],
   "source": [
    "# Calcula la correlacion para los datos convertidos de pulgadas a metros\n",
    "# EXTRA no visto en clase\n",
    "# Calcula la covarianza para los datos convertidos de pulgadas a metros"
   ]
  },
  {
   "cell_type": "code",
   "execution_count": null,
   "metadata": {},
   "outputs": [],
   "source": [
    "# Calcula la correlacion para los datos de las hijas convertidos de pulgadas a metros y de las madre habiendo restado 20\n",
    "# EXTRA no visto en clase\n",
    "# Calcula la covarianza para los datos convertidos de las hijas convertidos de pulgadas a metros y de las madre habiendo restado 20"
   ]
  },
  {
   "cell_type": "code",
   "execution_count": null,
   "metadata": {},
   "outputs": [],
   "source": [
    "# Interpreta: tanto la covarianza como la correlación miden la intensidad de la relación lineal entre dos variables\n",
    "# ¿Qué ventaja tiene la correlación sobre la covarianza?"
   ]
  },
  {
   "cell_type": "code",
   "execution_count": 117,
   "metadata": {},
   "outputs": [],
   "source": [
    "# EXTRA NO VISTO EN CLASE\n",
    "# Las siguientes listas muestran el nivel de picante de unos tacos y las unidades vendidas apra ese nivel de picante\n",
    "# Esto es, para un nivel de picante 6 se vendieron 613 tacos\n",
    "picante = [4,5,6,7,8,9,10,11,12,13,14]\n",
    "ventas = [310,474,613,726,814,877,914,926,913,874,810]\n",
    "# Convierte ambas listas en un dataframe llamado df\n",
    "data = pd.DataFrame()\n",
    "data['picante'] = picante\n",
    "data['ventas'] = ventas"
   ]
  },
  {
   "cell_type": "code",
   "execution_count": 118,
   "metadata": {},
   "outputs": [
    {
     "data": {
      "text/html": [
       "<div>\n",
       "<style scoped>\n",
       "    .dataframe tbody tr th:only-of-type {\n",
       "        vertical-align: middle;\n",
       "    }\n",
       "\n",
       "    .dataframe tbody tr th {\n",
       "        vertical-align: top;\n",
       "    }\n",
       "\n",
       "    .dataframe thead th {\n",
       "        text-align: right;\n",
       "    }\n",
       "</style>\n",
       "<table border=\"1\" class=\"dataframe\">\n",
       "  <thead>\n",
       "    <tr style=\"text-align: right;\">\n",
       "      <th></th>\n",
       "      <th>picante</th>\n",
       "      <th>ventas</th>\n",
       "    </tr>\n",
       "  </thead>\n",
       "  <tbody>\n",
       "    <tr>\n",
       "      <th>picante</th>\n",
       "      <td>1.000000</td>\n",
       "      <td>0.816237</td>\n",
       "    </tr>\n",
       "    <tr>\n",
       "      <th>ventas</th>\n",
       "      <td>0.816237</td>\n",
       "      <td>1.000000</td>\n",
       "    </tr>\n",
       "  </tbody>\n",
       "</table>\n",
       "</div>"
      ],
      "text/plain": [
       "          picante    ventas\n",
       "picante  1.000000  0.816237\n",
       "ventas   0.816237  1.000000"
      ]
     },
     "execution_count": 118,
     "metadata": {},
     "output_type": "execute_result"
    }
   ],
   "source": [
    "# Calcula la correlación entre el nivel de picor y las ventas\n",
    "data.corr()"
   ]
  },
  {
   "cell_type": "code",
   "execution_count": 120,
   "metadata": {},
   "outputs": [
    {
     "data": {
      "text/plain": [
       "<Axes: xlabel='picante', ylabel='ventas'>"
      ]
     },
     "execution_count": 120,
     "metadata": {},
     "output_type": "execute_result"
    },
    {
     "data": {
      "image/png": "[encoded data removed]",
      "text/plain": [
       "<Figure size 640x480 with 1 Axes>"
      ]
     },
     "metadata": {},
     "output_type": "display_data"
    }
   ],
   "source": [
    "# Ejecuta el siguiente código\n",
    "import seaborn as sns\n",
    "sns.scatterplot(data, x=\"picante\", y=\"ventas\")\n",
    "# La correlación es una relación lineal, es decir, debe asemejarse a una línea recta\n",
    "# ¿Se parece el gráfico a una línea recta? Si no se parece, no puedes usar la correlación calculada!"
   ]
  },
  {
   "cell_type": "code",
   "execution_count": 121,
   "metadata": {},
   "outputs": [],
   "source": [
    "# EXTRA NO VISTO EN CLASE\n",
    "# Las siguientes listas muestran la longitud milimetros de un componente electrónico para ser insertado en un procesador y el número de procesadores que funcionan \n",
    "# correctamente sobre 400 probadas. \n",
    "# Esto es, para una longitud de 0.0007 milimetros funcionan correctamente 395 procesadores de las 400 probadas\n",
    "milimetros = [0.0004,0.0005,0.0006,0.0007,0.0008,0.0009,0.0010,0.0011,0.0012,0.0013,0.0014,0.0015, 0.0016]\n",
    "procesadores = [400,398,396,395,394,393,394,392,393,391,27,5,0]\n",
    "# Convierte ambas listas en un dataframe llamado df2\n",
    "df2 = pd.DataFrame()\n",
    "df2['milimetros'] = milimetros\n",
    "df2['procesadores']  = procesadores"
   ]
  },
  {
   "cell_type": "code",
   "execution_count": 122,
   "metadata": {},
   "outputs": [
    {
     "data": {
      "text/html": [
       "<div>\n",
       "<style scoped>\n",
       "    .dataframe tbody tr th:only-of-type {\n",
       "        vertical-align: middle;\n",
       "    }\n",
       "\n",
       "    .dataframe tbody tr th {\n",
       "        vertical-align: top;\n",
       "    }\n",
       "\n",
       "    .dataframe thead th {\n",
       "        text-align: right;\n",
       "    }\n",
       "</style>\n",
       "<table border=\"1\" class=\"dataframe\">\n",
       "  <thead>\n",
       "    <tr style=\"text-align: right;\">\n",
       "      <th></th>\n",
       "      <th>milimetros</th>\n",
       "      <th>procesadores</th>\n",
       "    </tr>\n",
       "  </thead>\n",
       "  <tbody>\n",
       "    <tr>\n",
       "      <th>milimetros</th>\n",
       "      <td>1.000000</td>\n",
       "      <td>-0.743727</td>\n",
       "    </tr>\n",
       "    <tr>\n",
       "      <th>procesadores</th>\n",
       "      <td>-0.743727</td>\n",
       "      <td>1.000000</td>\n",
       "    </tr>\n",
       "  </tbody>\n",
       "</table>\n",
       "</div>"
      ],
      "text/plain": [
       "              milimetros  procesadores\n",
       "milimetros      1.000000     -0.743727\n",
       "procesadores   -0.743727      1.000000"
      ]
     },
     "execution_count": 122,
     "metadata": {},
     "output_type": "execute_result"
    }
   ],
   "source": [
    "# Calcula la correlación entre ambas variables\n",
    "df2.corr()"
   ]
  },
  {
   "cell_type": "code",
   "execution_count": 124,
   "metadata": {},
   "outputs": [
    {
     "data": {
      "text/plain": [
       "<Axes: xlabel='milimetros', ylabel='procesadores'>"
      ]
     },
     "execution_count": 124,
     "metadata": {},
     "output_type": "execute_result"
    },
    {
     "data": {
      "image/png": "[encoded data removed]",
      "text/plain": [
       "<Figure size 640x480 with 1 Axes>"
      ]
     },
     "metadata": {},
     "output_type": "display_data"
    }
   ],
   "source": [
    "# Realiza un gráfico con seaborn similar al del ejercicio anterior siendo x milimetros e y piezas\n",
    "# ¿Te parece que realmente existe una correlación líneal negativa entre ambas?\n",
    "sns.scatterplot(df2, x=\"milimetros\", y=\"procesadores\")\n"
   ]
  },
  {
   "cell_type": "code",
   "execution_count": 125,
   "metadata": {},
   "outputs": [
    {
     "data": {
      "image/png": "[encoded data removed]",
      "text/plain": [
       "<Figure size 500x500 with 1 Axes>"
      ]
     },
     "metadata": {},
     "output_type": "display_data"
    }
   ],
   "source": [
    "# Ejecuta este código para ver dibujada también la recta de regresión\n",
    "# ¿Crees que es correcta?\n",
    "sns.lmplot(x=\"milimetros\", y=\"procesadores\", data=df2,ci=None, scatter_kws={\"s\": 80});"
   ]
  },
  {
   "cell_type": "markdown",
   "metadata": {},
   "source": [
    "<hr>\n",
    "<div style=\"overflow: hidden; margin-bottom: 10px;\">\n",
    "    <div style=\"float: left;\">\n",
    "        <a href=\"./python_101.ipynb\">\n",
    "            <button>Python 101</button>\n",
    "        </a>\n",
    "    </div>\n",
    "    <div style=\"float: right;\">\n",
    "        <a href=\"../solutions/ch_01/solutions.ipynb\">\n",
    "            <button>Soluciones</button>\n",
    "        </a>\n",
    "        <a href=\"../ch_02/1-pandas_data_structures.ipynb\">\n",
    "            <button>Capítulo 2 &#8594;</button>\n",
    "        </a>\n",
    "    </div>\n",
    "</div>\n",
    "<hr>"
   ]
  }
 ],
 "metadata": {
  "kernelspec": {
   "display_name": "Python 3",
   "language": "python",
   "name": "python3"
  },
  "language_info": {
   "codemirror_mode": {
    "name": "ipython",
    "version": 3
   },
   "file_extension": ".py",
   "mimetype": "text/x-python",
   "name": "python",
   "nbconvert_exporter": "python",
   "pygments_lexer": "ipython3",
   "version": "3.12.1"
  }
 },
 "nbformat": 4,
 "nbformat_minor": 4
}
