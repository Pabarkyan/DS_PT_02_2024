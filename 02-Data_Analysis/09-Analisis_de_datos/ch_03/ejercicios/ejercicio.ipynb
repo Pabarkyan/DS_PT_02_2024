{
 "cells": [
  {
   "cell_type": "markdown",
   "metadata": {},
   "source": [
    "# Ejercicios\n",
    "\n",
    "Completa los siguientes ejercicios utilizando lo que hemos aprendido hasta y los datos del directorio ejercicios/:\n",
    "\n",
    "1. Queremos ver los datos de las acciones de Facebook, Apple, Amazon, Netflix y Google (FAANG), pero nos dieron cada uno como un archivo CSV separado. Combínelos en un único archivo y guarde el dataframe de los datos FAANG como faang para el resto de los ejercicios:\n",
    "\n"
   ]
  },
  {
   "cell_type": "code",
   "execution_count": 3,
   "metadata": {},
   "outputs": [
    {
     "ename": "Error",
     "evalue": "Destination path 'faang\\aapl.csv' already exists",
     "output_type": "error",
     "traceback": [
      "\u001b[1;31m---------------------------------------------------------------------------\u001b[0m",
      "\u001b[1;31mError\u001b[0m                                     Traceback (most recent call last)",
      "Cell \u001b[1;32mIn[3], line 11\u001b[0m\n\u001b[0;32m      8\u001b[0m os\u001b[38;5;241m.\u001b[39mmakedirs(\u001b[38;5;124m\"\u001b[39m\u001b[38;5;124mfaang\u001b[39m\u001b[38;5;124m\"\u001b[39m, exist_ok\u001b[38;5;241m=\u001b[39m\u001b[38;5;28;01mTrue\u001b[39;00m)\n\u001b[0;32m     10\u001b[0m \u001b[38;5;28;01mfor\u001b[39;00m i \u001b[38;5;129;01min\u001b[39;00m a_mover:\n\u001b[1;32m---> 11\u001b[0m     \u001b[43mshutil\u001b[49m\u001b[38;5;241;43m.\u001b[39;49m\u001b[43mmove\u001b[49m\u001b[43m(\u001b[49m\u001b[38;5;124;43mf\u001b[39;49m\u001b[38;5;124;43m\"\u001b[39;49m\u001b[38;5;132;43;01m{\u001b[39;49;00m\u001b[43mi\u001b[49m\u001b[38;5;132;43;01m}\u001b[39;49;00m\u001b[38;5;124;43m\"\u001b[39;49m\u001b[43m,\u001b[49m\u001b[43m \u001b[49m\u001b[38;5;124;43m\"\u001b[39;49m\u001b[38;5;124;43mfaang\u001b[39;49m\u001b[38;5;124;43m\"\u001b[39;49m\u001b[43m)\u001b[49m\n",
      "File \u001b[1;32mc:\\Users\\pabma\\AppData\\Local\\Programs\\Python\\Python312\\Lib\\shutil.py:872\u001b[0m, in \u001b[0;36mmove\u001b[1;34m(src, dst, copy_function)\u001b[0m\n\u001b[0;32m    869\u001b[0m     real_dst \u001b[38;5;241m=\u001b[39m os\u001b[38;5;241m.\u001b[39mpath\u001b[38;5;241m.\u001b[39mjoin(dst, _basename(src))\n\u001b[0;32m    871\u001b[0m     \u001b[38;5;28;01mif\u001b[39;00m os\u001b[38;5;241m.\u001b[39mpath\u001b[38;5;241m.\u001b[39mexists(real_dst):\n\u001b[1;32m--> 872\u001b[0m         \u001b[38;5;28;01mraise\u001b[39;00m Error(\u001b[38;5;124m\"\u001b[39m\u001b[38;5;124mDestination path \u001b[39m\u001b[38;5;124m'\u001b[39m\u001b[38;5;132;01m%s\u001b[39;00m\u001b[38;5;124m'\u001b[39m\u001b[38;5;124m already exists\u001b[39m\u001b[38;5;124m\"\u001b[39m \u001b[38;5;241m%\u001b[39m real_dst)\n\u001b[0;32m    873\u001b[0m \u001b[38;5;28;01mtry\u001b[39;00m:\n\u001b[0;32m    874\u001b[0m     os\u001b[38;5;241m.\u001b[39mrename(src, real_dst)\n",
      "\u001b[1;31mError\u001b[0m: Destination path 'faang\\aapl.csv' already exists"
     ]
    }
   ],
   "source": [
    "# a) Crea la carpeta faang. Mueve los archivos aapl.csv, amzn.csv, fb.csv, goog.csv y nflx.csv a dicha carpeta\n",
    "# Lee los archivos usando un bucle\n",
    "import os\n",
    "import shutil\n",
    "\n",
    "a_mover = ['aapl.csv', 'amzn.csv', 'fb.csv' ,'goog.csv', 'nflx.csv']\n",
    "os.makedirs(\"faang\", exist_ok=True)\n",
    "\n",
    "for i in a_mover:\n",
    "    shutil.move(f\"{i}\", \"faang\")"
   ]
  },
  {
   "cell_type": "code",
   "execution_count": 4,
   "metadata": {},
   "outputs": [],
   "source": [
    "import pandas as pd\n",
    "\n",
    "lista = []\n",
    "\n",
    "for file in os.listdir(\"faang\"):\n",
    "    tmp = pd.read_csv(f'faang/{file}')\n",
    "    tmp['ticker'] = file.split(\".\")[0]\n",
    "    lista.append(tmp)"
   ]
  },
  {
   "cell_type": "code",
   "execution_count": 5,
   "metadata": {},
   "outputs": [],
   "source": [
    "faang = pd.concat(lista)"
   ]
  },
  {
   "cell_type": "code",
   "execution_count": 6,
   "metadata": {},
   "outputs": [
    {
     "data": {
      "text/html": [
       "<div>\n",
       "<style scoped>\n",
       "    .dataframe tbody tr th:only-of-type {\n",
       "        vertical-align: middle;\n",
       "    }\n",
       "\n",
       "    .dataframe tbody tr th {\n",
       "        vertical-align: top;\n",
       "    }\n",
       "\n",
       "    .dataframe thead th {\n",
       "        text-align: right;\n",
       "    }\n",
       "</style>\n",
       "<table border=\"1\" class=\"dataframe\">\n",
       "  <thead>\n",
       "    <tr style=\"text-align: right;\">\n",
       "      <th></th>\n",
       "      <th>date</th>\n",
       "      <th>high</th>\n",
       "      <th>low</th>\n",
       "      <th>open</th>\n",
       "      <th>close</th>\n",
       "      <th>volume</th>\n",
       "      <th>ticker</th>\n",
       "    </tr>\n",
       "  </thead>\n",
       "  <tbody>\n",
       "    <tr>\n",
       "      <th>0</th>\n",
       "      <td>2018-01-02</td>\n",
       "      <td>43.075001</td>\n",
       "      <td>42.314999</td>\n",
       "      <td>42.540001</td>\n",
       "      <td>43.064999</td>\n",
       "      <td>102223600.0</td>\n",
       "      <td>aapl</td>\n",
       "    </tr>\n",
       "    <tr>\n",
       "      <th>1</th>\n",
       "      <td>2018-01-03</td>\n",
       "      <td>43.637501</td>\n",
       "      <td>42.990002</td>\n",
       "      <td>43.132500</td>\n",
       "      <td>43.057499</td>\n",
       "      <td>118071600.0</td>\n",
       "      <td>aapl</td>\n",
       "    </tr>\n",
       "    <tr>\n",
       "      <th>2</th>\n",
       "      <td>2018-01-04</td>\n",
       "      <td>43.367500</td>\n",
       "      <td>43.020000</td>\n",
       "      <td>43.134998</td>\n",
       "      <td>43.257500</td>\n",
       "      <td>89738400.0</td>\n",
       "      <td>aapl</td>\n",
       "    </tr>\n",
       "    <tr>\n",
       "      <th>3</th>\n",
       "      <td>2018-01-05</td>\n",
       "      <td>43.842499</td>\n",
       "      <td>43.262501</td>\n",
       "      <td>43.360001</td>\n",
       "      <td>43.750000</td>\n",
       "      <td>94640000.0</td>\n",
       "      <td>aapl</td>\n",
       "    </tr>\n",
       "    <tr>\n",
       "      <th>4</th>\n",
       "      <td>2018-01-08</td>\n",
       "      <td>43.902500</td>\n",
       "      <td>43.482498</td>\n",
       "      <td>43.587502</td>\n",
       "      <td>43.587502</td>\n",
       "      <td>82271200.0</td>\n",
       "      <td>aapl</td>\n",
       "    </tr>\n",
       "    <tr>\n",
       "      <th>...</th>\n",
       "      <td>...</td>\n",
       "      <td>...</td>\n",
       "      <td>...</td>\n",
       "      <td>...</td>\n",
       "      <td>...</td>\n",
       "      <td>...</td>\n",
       "      <td>...</td>\n",
       "    </tr>\n",
       "    <tr>\n",
       "      <th>246</th>\n",
       "      <td>2018-12-24</td>\n",
       "      <td>250.649994</td>\n",
       "      <td>233.679993</td>\n",
       "      <td>242.000000</td>\n",
       "      <td>233.880005</td>\n",
       "      <td>9547600.0</td>\n",
       "      <td>nflx</td>\n",
       "    </tr>\n",
       "    <tr>\n",
       "      <th>247</th>\n",
       "      <td>2018-12-26</td>\n",
       "      <td>254.500000</td>\n",
       "      <td>231.229996</td>\n",
       "      <td>233.919998</td>\n",
       "      <td>253.669998</td>\n",
       "      <td>14402700.0</td>\n",
       "      <td>nflx</td>\n",
       "    </tr>\n",
       "    <tr>\n",
       "      <th>248</th>\n",
       "      <td>2018-12-27</td>\n",
       "      <td>255.589996</td>\n",
       "      <td>240.100006</td>\n",
       "      <td>250.110001</td>\n",
       "      <td>255.570007</td>\n",
       "      <td>12235200.0</td>\n",
       "      <td>nflx</td>\n",
       "    </tr>\n",
       "    <tr>\n",
       "      <th>249</th>\n",
       "      <td>2018-12-28</td>\n",
       "      <td>261.910004</td>\n",
       "      <td>249.800003</td>\n",
       "      <td>257.940002</td>\n",
       "      <td>256.079987</td>\n",
       "      <td>10992800.0</td>\n",
       "      <td>nflx</td>\n",
       "    </tr>\n",
       "    <tr>\n",
       "      <th>250</th>\n",
       "      <td>2018-12-31</td>\n",
       "      <td>270.100006</td>\n",
       "      <td>260.000000</td>\n",
       "      <td>260.160004</td>\n",
       "      <td>267.660004</td>\n",
       "      <td>13508900.0</td>\n",
       "      <td>nflx</td>\n",
       "    </tr>\n",
       "  </tbody>\n",
       "</table>\n",
       "<p>1004 rows × 7 columns</p>\n",
       "</div>"
      ],
      "text/plain": [
       "           date        high         low        open       close       volume  \\\n",
       "0    2018-01-02   43.075001   42.314999   42.540001   43.064999  102223600.0   \n",
       "1    2018-01-03   43.637501   42.990002   43.132500   43.057499  118071600.0   \n",
       "2    2018-01-04   43.367500   43.020000   43.134998   43.257500   89738400.0   \n",
       "3    2018-01-05   43.842499   43.262501   43.360001   43.750000   94640000.0   \n",
       "4    2018-01-08   43.902500   43.482498   43.587502   43.587502   82271200.0   \n",
       "..          ...         ...         ...         ...         ...          ...   \n",
       "246  2018-12-24  250.649994  233.679993  242.000000  233.880005    9547600.0   \n",
       "247  2018-12-26  254.500000  231.229996  233.919998  253.669998   14402700.0   \n",
       "248  2018-12-27  255.589996  240.100006  250.110001  255.570007   12235200.0   \n",
       "249  2018-12-28  261.910004  249.800003  257.940002  256.079987   10992800.0   \n",
       "250  2018-12-31  270.100006  260.000000  260.160004  267.660004   13508900.0   \n",
       "\n",
       "    ticker  \n",
       "0     aapl  \n",
       "1     aapl  \n",
       "2     aapl  \n",
       "3     aapl  \n",
       "4     aapl  \n",
       "..     ...  \n",
       "246   nflx  \n",
       "247   nflx  \n",
       "248   nflx  \n",
       "249   nflx  \n",
       "250   nflx  \n",
       "\n",
       "[1004 rows x 7 columns]"
      ]
     },
     "execution_count": 6,
     "metadata": {},
     "output_type": "execute_result"
    }
   ],
   "source": [
    "faang"
   ]
  },
  {
   "cell_type": "code",
   "execution_count": null,
   "metadata": {},
   "outputs": [],
   "source": [
    "#b) Añade una columna a cada dataframe, llamalo ticker, indicando el símbolo del ticker al que corresponde (el de Apple es AAPL, por ejemplo);"
   ]
  },
  {
   "cell_type": "code",
   "execution_count": null,
   "metadata": {},
   "outputs": [],
   "source": [
    "#c) Agréguelos en un dataframe.\n"
   ]
  },
  {
   "cell_type": "code",
   "execution_count": 7,
   "metadata": {},
   "outputs": [],
   "source": [
    "#d) Guarda el resultado en un archivo CSV llamado faang.csv.\n",
    "faang.to_csv(\"faang.csv\")"
   ]
  },
  {
   "cell_type": "code",
   "execution_count": 10,
   "metadata": {},
   "outputs": [],
   "source": [
    "faang[\"Mayor 100\"] = faang['open'].apply(lambda x: x >= 100)"
   ]
  },
  {
   "cell_type": "code",
   "execution_count": 15,
   "metadata": {},
   "outputs": [
    {
     "data": {
      "text/html": [
       "<div>\n",
       "<style scoped>\n",
       "    .dataframe tbody tr th:only-of-type {\n",
       "        vertical-align: middle;\n",
       "    }\n",
       "\n",
       "    .dataframe tbody tr th {\n",
       "        vertical-align: top;\n",
       "    }\n",
       "\n",
       "    .dataframe thead th {\n",
       "        text-align: right;\n",
       "    }\n",
       "</style>\n",
       "<table border=\"1\" class=\"dataframe\">\n",
       "  <thead>\n",
       "    <tr style=\"text-align: right;\">\n",
       "      <th></th>\n",
       "      <th>date</th>\n",
       "      <th>high</th>\n",
       "      <th>low</th>\n",
       "      <th>open</th>\n",
       "      <th>close</th>\n",
       "      <th>volume</th>\n",
       "      <th>ticker</th>\n",
       "      <th>Mayor 100</th>\n",
       "      <th>rango apertura</th>\n",
       "    </tr>\n",
       "  </thead>\n",
       "  <tbody>\n",
       "    <tr>\n",
       "      <th>0</th>\n",
       "      <td>2018-01-02</td>\n",
       "      <td>43.075001</td>\n",
       "      <td>42.314999</td>\n",
       "      <td>42.540001</td>\n",
       "      <td>43.064999</td>\n",
       "      <td>102223600.0</td>\n",
       "      <td>aapl</td>\n",
       "      <td>False</td>\n",
       "      <td>Entre 50 y 0</td>\n",
       "    </tr>\n",
       "    <tr>\n",
       "      <th>1</th>\n",
       "      <td>2018-01-03</td>\n",
       "      <td>43.637501</td>\n",
       "      <td>42.990002</td>\n",
       "      <td>43.132500</td>\n",
       "      <td>43.057499</td>\n",
       "      <td>118071600.0</td>\n",
       "      <td>aapl</td>\n",
       "      <td>False</td>\n",
       "      <td>Entre 50 y 0</td>\n",
       "    </tr>\n",
       "    <tr>\n",
       "      <th>2</th>\n",
       "      <td>2018-01-04</td>\n",
       "      <td>43.367500</td>\n",
       "      <td>43.020000</td>\n",
       "      <td>43.134998</td>\n",
       "      <td>43.257500</td>\n",
       "      <td>89738400.0</td>\n",
       "      <td>aapl</td>\n",
       "      <td>False</td>\n",
       "      <td>Entre 50 y 0</td>\n",
       "    </tr>\n",
       "    <tr>\n",
       "      <th>3</th>\n",
       "      <td>2018-01-05</td>\n",
       "      <td>43.842499</td>\n",
       "      <td>43.262501</td>\n",
       "      <td>43.360001</td>\n",
       "      <td>43.750000</td>\n",
       "      <td>94640000.0</td>\n",
       "      <td>aapl</td>\n",
       "      <td>False</td>\n",
       "      <td>Entre 50 y 0</td>\n",
       "    </tr>\n",
       "    <tr>\n",
       "      <th>4</th>\n",
       "      <td>2018-01-08</td>\n",
       "      <td>43.902500</td>\n",
       "      <td>43.482498</td>\n",
       "      <td>43.587502</td>\n",
       "      <td>43.587502</td>\n",
       "      <td>82271200.0</td>\n",
       "      <td>aapl</td>\n",
       "      <td>False</td>\n",
       "      <td>Entre 50 y 0</td>\n",
       "    </tr>\n",
       "    <tr>\n",
       "      <th>...</th>\n",
       "      <td>...</td>\n",
       "      <td>...</td>\n",
       "      <td>...</td>\n",
       "      <td>...</td>\n",
       "      <td>...</td>\n",
       "      <td>...</td>\n",
       "      <td>...</td>\n",
       "      <td>...</td>\n",
       "      <td>...</td>\n",
       "    </tr>\n",
       "    <tr>\n",
       "      <th>246</th>\n",
       "      <td>2018-12-24</td>\n",
       "      <td>250.649994</td>\n",
       "      <td>233.679993</td>\n",
       "      <td>242.000000</td>\n",
       "      <td>233.880005</td>\n",
       "      <td>9547600.0</td>\n",
       "      <td>nflx</td>\n",
       "      <td>True</td>\n",
       "      <td>Entre 1000 y 100</td>\n",
       "    </tr>\n",
       "    <tr>\n",
       "      <th>247</th>\n",
       "      <td>2018-12-26</td>\n",
       "      <td>254.500000</td>\n",
       "      <td>231.229996</td>\n",
       "      <td>233.919998</td>\n",
       "      <td>253.669998</td>\n",
       "      <td>14402700.0</td>\n",
       "      <td>nflx</td>\n",
       "      <td>True</td>\n",
       "      <td>Entre 1000 y 100</td>\n",
       "    </tr>\n",
       "    <tr>\n",
       "      <th>248</th>\n",
       "      <td>2018-12-27</td>\n",
       "      <td>255.589996</td>\n",
       "      <td>240.100006</td>\n",
       "      <td>250.110001</td>\n",
       "      <td>255.570007</td>\n",
       "      <td>12235200.0</td>\n",
       "      <td>nflx</td>\n",
       "      <td>True</td>\n",
       "      <td>Entre 1000 y 100</td>\n",
       "    </tr>\n",
       "    <tr>\n",
       "      <th>249</th>\n",
       "      <td>2018-12-28</td>\n",
       "      <td>261.910004</td>\n",
       "      <td>249.800003</td>\n",
       "      <td>257.940002</td>\n",
       "      <td>256.079987</td>\n",
       "      <td>10992800.0</td>\n",
       "      <td>nflx</td>\n",
       "      <td>True</td>\n",
       "      <td>Entre 1000 y 100</td>\n",
       "    </tr>\n",
       "    <tr>\n",
       "      <th>250</th>\n",
       "      <td>2018-12-31</td>\n",
       "      <td>270.100006</td>\n",
       "      <td>260.000000</td>\n",
       "      <td>260.160004</td>\n",
       "      <td>267.660004</td>\n",
       "      <td>13508900.0</td>\n",
       "      <td>nflx</td>\n",
       "      <td>True</td>\n",
       "      <td>Entre 1000 y 100</td>\n",
       "    </tr>\n",
       "  </tbody>\n",
       "</table>\n",
       "<p>1004 rows × 9 columns</p>\n",
       "</div>"
      ],
      "text/plain": [
       "           date        high         low        open       close       volume  \\\n",
       "0    2018-01-02   43.075001   42.314999   42.540001   43.064999  102223600.0   \n",
       "1    2018-01-03   43.637501   42.990002   43.132500   43.057499  118071600.0   \n",
       "2    2018-01-04   43.367500   43.020000   43.134998   43.257500   89738400.0   \n",
       "3    2018-01-05   43.842499   43.262501   43.360001   43.750000   94640000.0   \n",
       "4    2018-01-08   43.902500   43.482498   43.587502   43.587502   82271200.0   \n",
       "..          ...         ...         ...         ...         ...          ...   \n",
       "246  2018-12-24  250.649994  233.679993  242.000000  233.880005    9547600.0   \n",
       "247  2018-12-26  254.500000  231.229996  233.919998  253.669998   14402700.0   \n",
       "248  2018-12-27  255.589996  240.100006  250.110001  255.570007   12235200.0   \n",
       "249  2018-12-28  261.910004  249.800003  257.940002  256.079987   10992800.0   \n",
       "250  2018-12-31  270.100006  260.000000  260.160004  267.660004   13508900.0   \n",
       "\n",
       "    ticker  Mayor 100    rango apertura  \n",
       "0     aapl      False      Entre 50 y 0  \n",
       "1     aapl      False      Entre 50 y 0  \n",
       "2     aapl      False      Entre 50 y 0  \n",
       "3     aapl      False      Entre 50 y 0  \n",
       "4     aapl      False      Entre 50 y 0  \n",
       "..     ...        ...               ...  \n",
       "246   nflx       True  Entre 1000 y 100  \n",
       "247   nflx       True  Entre 1000 y 100  \n",
       "248   nflx       True  Entre 1000 y 100  \n",
       "249   nflx       True  Entre 1000 y 100  \n",
       "250   nflx       True  Entre 1000 y 100  \n",
       "\n",
       "[1004 rows x 9 columns]"
      ]
     },
     "execution_count": 15,
     "metadata": {},
     "output_type": "execute_result"
    }
   ],
   "source": [
    "def filtrado(x):\n",
    "    if x>1000: return 'Mayor que mil'\n",
    "    elif x<=1000 and x>100: return 'Entre 1000 y 100'\n",
    "    elif x<=100 and x>50: return 'Entre 100 y 50'\n",
    "    elif x> 0 and x<=50: return 'Entre 50 y 0'\n",
    "\n",
    "faang['rango apertura'] = faang['open'].apply(filtrado)"
   ]
  },
  {
   "cell_type": "code",
   "execution_count": 30,
   "metadata": {},
   "outputs": [
    {
     "data": {
      "text/html": [
       "<div>\n",
       "<style scoped>\n",
       "    .dataframe tbody tr th:only-of-type {\n",
       "        vertical-align: middle;\n",
       "    }\n",
       "\n",
       "    .dataframe tbody tr th {\n",
       "        vertical-align: top;\n",
       "    }\n",
       "\n",
       "    .dataframe thead th {\n",
       "        text-align: right;\n",
       "    }\n",
       "</style>\n",
       "<table border=\"1\" class=\"dataframe\">\n",
       "  <thead>\n",
       "    <tr style=\"text-align: right;\">\n",
       "      <th></th>\n",
       "      <th>date</th>\n",
       "      <th>high</th>\n",
       "      <th>low</th>\n",
       "      <th>open</th>\n",
       "      <th>close</th>\n",
       "      <th>volume</th>\n",
       "      <th>ticker</th>\n",
       "      <th>Mayor 100</th>\n",
       "      <th>rango acciones apertura</th>\n",
       "      <th>rango apertura</th>\n",
       "      <th>Dist media</th>\n",
       "      <th>dist_media</th>\n",
       "    </tr>\n",
       "  </thead>\n",
       "  <tbody>\n",
       "    <tr>\n",
       "      <th>0</th>\n",
       "      <td>2018-01-02</td>\n",
       "      <td>43.075001</td>\n",
       "      <td>42.314999</td>\n",
       "      <td>42.540001</td>\n",
       "      <td>43.064999</td>\n",
       "      <td>102223600.0</td>\n",
       "      <td>aapl</td>\n",
       "      <td>False</td>\n",
       "      <td>Entre 50 y 0</td>\n",
       "      <td>Entre 50 y 0</td>\n",
       "      <td>-4.737858</td>\n",
       "      <td>-4.737858</td>\n",
       "    </tr>\n",
       "    <tr>\n",
       "      <th>1</th>\n",
       "      <td>2018-01-03</td>\n",
       "      <td>43.637501</td>\n",
       "      <td>42.990002</td>\n",
       "      <td>43.132500</td>\n",
       "      <td>43.057499</td>\n",
       "      <td>118071600.0</td>\n",
       "      <td>aapl</td>\n",
       "      <td>False</td>\n",
       "      <td>Entre 50 y 0</td>\n",
       "      <td>Entre 50 y 0</td>\n",
       "      <td>-4.145359</td>\n",
       "      <td>-4.145359</td>\n",
       "    </tr>\n",
       "    <tr>\n",
       "      <th>2</th>\n",
       "      <td>2018-01-04</td>\n",
       "      <td>43.367500</td>\n",
       "      <td>43.020000</td>\n",
       "      <td>43.134998</td>\n",
       "      <td>43.257500</td>\n",
       "      <td>89738400.0</td>\n",
       "      <td>aapl</td>\n",
       "      <td>False</td>\n",
       "      <td>Entre 50 y 0</td>\n",
       "      <td>Entre 50 y 0</td>\n",
       "      <td>-4.142860</td>\n",
       "      <td>-4.142860</td>\n",
       "    </tr>\n",
       "    <tr>\n",
       "      <th>3</th>\n",
       "      <td>2018-01-05</td>\n",
       "      <td>43.842499</td>\n",
       "      <td>43.262501</td>\n",
       "      <td>43.360001</td>\n",
       "      <td>43.750000</td>\n",
       "      <td>94640000.0</td>\n",
       "      <td>aapl</td>\n",
       "      <td>False</td>\n",
       "      <td>Entre 50 y 0</td>\n",
       "      <td>Entre 50 y 0</td>\n",
       "      <td>-3.917858</td>\n",
       "      <td>-3.917858</td>\n",
       "    </tr>\n",
       "    <tr>\n",
       "      <th>4</th>\n",
       "      <td>2018-01-08</td>\n",
       "      <td>43.902500</td>\n",
       "      <td>43.482498</td>\n",
       "      <td>43.587502</td>\n",
       "      <td>43.587502</td>\n",
       "      <td>82271200.0</td>\n",
       "      <td>aapl</td>\n",
       "      <td>False</td>\n",
       "      <td>Entre 50 y 0</td>\n",
       "      <td>Entre 50 y 0</td>\n",
       "      <td>-3.690357</td>\n",
       "      <td>-3.690357</td>\n",
       "    </tr>\n",
       "    <tr>\n",
       "      <th>...</th>\n",
       "      <td>...</td>\n",
       "      <td>...</td>\n",
       "      <td>...</td>\n",
       "      <td>...</td>\n",
       "      <td>...</td>\n",
       "      <td>...</td>\n",
       "      <td>...</td>\n",
       "      <td>...</td>\n",
       "      <td>...</td>\n",
       "      <td>...</td>\n",
       "      <td>...</td>\n",
       "      <td>...</td>\n",
       "    </tr>\n",
       "    <tr>\n",
       "      <th>246</th>\n",
       "      <td>2018-12-24</td>\n",
       "      <td>250.649994</td>\n",
       "      <td>233.679993</td>\n",
       "      <td>242.000000</td>\n",
       "      <td>233.880005</td>\n",
       "      <td>9547600.0</td>\n",
       "      <td>nflx</td>\n",
       "      <td>True</td>\n",
       "      <td>Entre 1000 y 100</td>\n",
       "      <td>Entre 1000 y 100</td>\n",
       "      <td>-77.620558</td>\n",
       "      <td>-77.620558</td>\n",
       "    </tr>\n",
       "    <tr>\n",
       "      <th>247</th>\n",
       "      <td>2018-12-26</td>\n",
       "      <td>254.500000</td>\n",
       "      <td>231.229996</td>\n",
       "      <td>233.919998</td>\n",
       "      <td>253.669998</td>\n",
       "      <td>14402700.0</td>\n",
       "      <td>nflx</td>\n",
       "      <td>True</td>\n",
       "      <td>Entre 1000 y 100</td>\n",
       "      <td>Entre 1000 y 100</td>\n",
       "      <td>-85.700560</td>\n",
       "      <td>-85.700560</td>\n",
       "    </tr>\n",
       "    <tr>\n",
       "      <th>248</th>\n",
       "      <td>2018-12-27</td>\n",
       "      <td>255.589996</td>\n",
       "      <td>240.100006</td>\n",
       "      <td>250.110001</td>\n",
       "      <td>255.570007</td>\n",
       "      <td>12235200.0</td>\n",
       "      <td>nflx</td>\n",
       "      <td>True</td>\n",
       "      <td>Entre 1000 y 100</td>\n",
       "      <td>Entre 1000 y 100</td>\n",
       "      <td>-69.510558</td>\n",
       "      <td>-69.510558</td>\n",
       "    </tr>\n",
       "    <tr>\n",
       "      <th>249</th>\n",
       "      <td>2018-12-28</td>\n",
       "      <td>261.910004</td>\n",
       "      <td>249.800003</td>\n",
       "      <td>257.940002</td>\n",
       "      <td>256.079987</td>\n",
       "      <td>10992800.0</td>\n",
       "      <td>nflx</td>\n",
       "      <td>True</td>\n",
       "      <td>Entre 1000 y 100</td>\n",
       "      <td>Entre 1000 y 100</td>\n",
       "      <td>-61.680556</td>\n",
       "      <td>-61.680556</td>\n",
       "    </tr>\n",
       "    <tr>\n",
       "      <th>250</th>\n",
       "      <td>2018-12-31</td>\n",
       "      <td>270.100006</td>\n",
       "      <td>260.000000</td>\n",
       "      <td>260.160004</td>\n",
       "      <td>267.660004</td>\n",
       "      <td>13508900.0</td>\n",
       "      <td>nflx</td>\n",
       "      <td>True</td>\n",
       "      <td>Entre 1000 y 100</td>\n",
       "      <td>Entre 1000 y 100</td>\n",
       "      <td>-59.460555</td>\n",
       "      <td>-59.460555</td>\n",
       "    </tr>\n",
       "  </tbody>\n",
       "</table>\n",
       "<p>1004 rows × 12 columns</p>\n",
       "</div>"
      ],
      "text/plain": [
       "           date        high         low        open       close       volume  \\\n",
       "0    2018-01-02   43.075001   42.314999   42.540001   43.064999  102223600.0   \n",
       "1    2018-01-03   43.637501   42.990002   43.132500   43.057499  118071600.0   \n",
       "2    2018-01-04   43.367500   43.020000   43.134998   43.257500   89738400.0   \n",
       "3    2018-01-05   43.842499   43.262501   43.360001   43.750000   94640000.0   \n",
       "4    2018-01-08   43.902500   43.482498   43.587502   43.587502   82271200.0   \n",
       "..          ...         ...         ...         ...         ...          ...   \n",
       "246  2018-12-24  250.649994  233.679993  242.000000  233.880005    9547600.0   \n",
       "247  2018-12-26  254.500000  231.229996  233.919998  253.669998   14402700.0   \n",
       "248  2018-12-27  255.589996  240.100006  250.110001  255.570007   12235200.0   \n",
       "249  2018-12-28  261.910004  249.800003  257.940002  256.079987   10992800.0   \n",
       "250  2018-12-31  270.100006  260.000000  260.160004  267.660004   13508900.0   \n",
       "\n",
       "    ticker  Mayor 100 rango acciones apertura    rango apertura  Dist media  \\\n",
       "0     aapl      False            Entre 50 y 0      Entre 50 y 0   -4.737858   \n",
       "1     aapl      False            Entre 50 y 0      Entre 50 y 0   -4.145359   \n",
       "2     aapl      False            Entre 50 y 0      Entre 50 y 0   -4.142860   \n",
       "3     aapl      False            Entre 50 y 0      Entre 50 y 0   -3.917858   \n",
       "4     aapl      False            Entre 50 y 0      Entre 50 y 0   -3.690357   \n",
       "..     ...        ...                     ...               ...         ...   \n",
       "246   nflx       True        Entre 1000 y 100  Entre 1000 y 100  -77.620558   \n",
       "247   nflx       True        Entre 1000 y 100  Entre 1000 y 100  -85.700560   \n",
       "248   nflx       True        Entre 1000 y 100  Entre 1000 y 100  -69.510558   \n",
       "249   nflx       True        Entre 1000 y 100  Entre 1000 y 100  -61.680556   \n",
       "250   nflx       True        Entre 1000 y 100  Entre 1000 y 100  -59.460555   \n",
       "\n",
       "     dist_media  \n",
       "0     -4.737858  \n",
       "1     -4.145359  \n",
       "2     -4.142860  \n",
       "3     -3.917858  \n",
       "4     -3.690357  \n",
       "..          ...  \n",
       "246  -77.620558  \n",
       "247  -85.700560  \n",
       "248  -69.510558  \n",
       "249  -61.680556  \n",
       "250  -59.460555  \n",
       "\n",
       "[1004 rows x 12 columns]"
      ]
     },
     "execution_count": 30,
     "metadata": {},
     "output_type": "execute_result"
    }
   ],
   "source": [
    "faang['dist_media'] = faang.groupby(['ticker'])['open'].transform(lambda x: x - x.mean())\n",
    "faang"
   ]
  },
  {
   "cell_type": "code",
   "execution_count": 31,
   "metadata": {},
   "outputs": [
    {
     "data": {
      "text/html": [
       "<div>\n",
       "<style scoped>\n",
       "    .dataframe tbody tr th:only-of-type {\n",
       "        vertical-align: middle;\n",
       "    }\n",
       "\n",
       "    .dataframe tbody tr th {\n",
       "        vertical-align: top;\n",
       "    }\n",
       "\n",
       "    .dataframe thead th {\n",
       "        text-align: right;\n",
       "    }\n",
       "</style>\n",
       "<table border=\"1\" class=\"dataframe\">\n",
       "  <thead>\n",
       "    <tr style=\"text-align: right;\">\n",
       "      <th></th>\n",
       "      <th>date</th>\n",
       "      <th>high</th>\n",
       "      <th>low</th>\n",
       "      <th>open</th>\n",
       "      <th>close</th>\n",
       "      <th>volume</th>\n",
       "      <th>ticker</th>\n",
       "      <th>Mayor 100</th>\n",
       "      <th>rango acciones apertura</th>\n",
       "      <th>rango apertura</th>\n",
       "      <th>Dist media</th>\n",
       "      <th>dist_media</th>\n",
       "      <th>media</th>\n",
       "      <th>_merge</th>\n",
       "    </tr>\n",
       "  </thead>\n",
       "  <tbody>\n",
       "    <tr>\n",
       "      <th>0</th>\n",
       "      <td>2018-01-02</td>\n",
       "      <td>43.075001</td>\n",
       "      <td>42.314999</td>\n",
       "      <td>42.540001</td>\n",
       "      <td>43.064999</td>\n",
       "      <td>102223600.0</td>\n",
       "      <td>aapl</td>\n",
       "      <td>False</td>\n",
       "      <td>Entre 50 y 0</td>\n",
       "      <td>Entre 50 y 0</td>\n",
       "      <td>-4.737858</td>\n",
       "      <td>-4.737858</td>\n",
       "      <td>47.277859</td>\n",
       "      <td>both</td>\n",
       "    </tr>\n",
       "    <tr>\n",
       "      <th>1</th>\n",
       "      <td>2018-01-03</td>\n",
       "      <td>43.637501</td>\n",
       "      <td>42.990002</td>\n",
       "      <td>43.132500</td>\n",
       "      <td>43.057499</td>\n",
       "      <td>118071600.0</td>\n",
       "      <td>aapl</td>\n",
       "      <td>False</td>\n",
       "      <td>Entre 50 y 0</td>\n",
       "      <td>Entre 50 y 0</td>\n",
       "      <td>-4.145359</td>\n",
       "      <td>-4.145359</td>\n",
       "      <td>47.277859</td>\n",
       "      <td>both</td>\n",
       "    </tr>\n",
       "    <tr>\n",
       "      <th>2</th>\n",
       "      <td>2018-01-04</td>\n",
       "      <td>43.367500</td>\n",
       "      <td>43.020000</td>\n",
       "      <td>43.134998</td>\n",
       "      <td>43.257500</td>\n",
       "      <td>89738400.0</td>\n",
       "      <td>aapl</td>\n",
       "      <td>False</td>\n",
       "      <td>Entre 50 y 0</td>\n",
       "      <td>Entre 50 y 0</td>\n",
       "      <td>-4.142860</td>\n",
       "      <td>-4.142860</td>\n",
       "      <td>47.277859</td>\n",
       "      <td>both</td>\n",
       "    </tr>\n",
       "    <tr>\n",
       "      <th>3</th>\n",
       "      <td>2018-01-05</td>\n",
       "      <td>43.842499</td>\n",
       "      <td>43.262501</td>\n",
       "      <td>43.360001</td>\n",
       "      <td>43.750000</td>\n",
       "      <td>94640000.0</td>\n",
       "      <td>aapl</td>\n",
       "      <td>False</td>\n",
       "      <td>Entre 50 y 0</td>\n",
       "      <td>Entre 50 y 0</td>\n",
       "      <td>-3.917858</td>\n",
       "      <td>-3.917858</td>\n",
       "      <td>47.277859</td>\n",
       "      <td>both</td>\n",
       "    </tr>\n",
       "    <tr>\n",
       "      <th>4</th>\n",
       "      <td>2018-01-08</td>\n",
       "      <td>43.902500</td>\n",
       "      <td>43.482498</td>\n",
       "      <td>43.587502</td>\n",
       "      <td>43.587502</td>\n",
       "      <td>82271200.0</td>\n",
       "      <td>aapl</td>\n",
       "      <td>False</td>\n",
       "      <td>Entre 50 y 0</td>\n",
       "      <td>Entre 50 y 0</td>\n",
       "      <td>-3.690357</td>\n",
       "      <td>-3.690357</td>\n",
       "      <td>47.277859</td>\n",
       "      <td>both</td>\n",
       "    </tr>\n",
       "    <tr>\n",
       "      <th>...</th>\n",
       "      <td>...</td>\n",
       "      <td>...</td>\n",
       "      <td>...</td>\n",
       "      <td>...</td>\n",
       "      <td>...</td>\n",
       "      <td>...</td>\n",
       "      <td>...</td>\n",
       "      <td>...</td>\n",
       "      <td>...</td>\n",
       "      <td>...</td>\n",
       "      <td>...</td>\n",
       "      <td>...</td>\n",
       "      <td>...</td>\n",
       "      <td>...</td>\n",
       "    </tr>\n",
       "    <tr>\n",
       "      <th>999</th>\n",
       "      <td>2018-12-24</td>\n",
       "      <td>250.649994</td>\n",
       "      <td>233.679993</td>\n",
       "      <td>242.000000</td>\n",
       "      <td>233.880005</td>\n",
       "      <td>9547600.0</td>\n",
       "      <td>nflx</td>\n",
       "      <td>True</td>\n",
       "      <td>Entre 1000 y 100</td>\n",
       "      <td>Entre 1000 y 100</td>\n",
       "      <td>-77.620558</td>\n",
       "      <td>-77.620558</td>\n",
       "      <td>319.620558</td>\n",
       "      <td>both</td>\n",
       "    </tr>\n",
       "    <tr>\n",
       "      <th>1000</th>\n",
       "      <td>2018-12-26</td>\n",
       "      <td>254.500000</td>\n",
       "      <td>231.229996</td>\n",
       "      <td>233.919998</td>\n",
       "      <td>253.669998</td>\n",
       "      <td>14402700.0</td>\n",
       "      <td>nflx</td>\n",
       "      <td>True</td>\n",
       "      <td>Entre 1000 y 100</td>\n",
       "      <td>Entre 1000 y 100</td>\n",
       "      <td>-85.700560</td>\n",
       "      <td>-85.700560</td>\n",
       "      <td>319.620558</td>\n",
       "      <td>both</td>\n",
       "    </tr>\n",
       "    <tr>\n",
       "      <th>1001</th>\n",
       "      <td>2018-12-27</td>\n",
       "      <td>255.589996</td>\n",
       "      <td>240.100006</td>\n",
       "      <td>250.110001</td>\n",
       "      <td>255.570007</td>\n",
       "      <td>12235200.0</td>\n",
       "      <td>nflx</td>\n",
       "      <td>True</td>\n",
       "      <td>Entre 1000 y 100</td>\n",
       "      <td>Entre 1000 y 100</td>\n",
       "      <td>-69.510558</td>\n",
       "      <td>-69.510558</td>\n",
       "      <td>319.620558</td>\n",
       "      <td>both</td>\n",
       "    </tr>\n",
       "    <tr>\n",
       "      <th>1002</th>\n",
       "      <td>2018-12-28</td>\n",
       "      <td>261.910004</td>\n",
       "      <td>249.800003</td>\n",
       "      <td>257.940002</td>\n",
       "      <td>256.079987</td>\n",
       "      <td>10992800.0</td>\n",
       "      <td>nflx</td>\n",
       "      <td>True</td>\n",
       "      <td>Entre 1000 y 100</td>\n",
       "      <td>Entre 1000 y 100</td>\n",
       "      <td>-61.680556</td>\n",
       "      <td>-61.680556</td>\n",
       "      <td>319.620558</td>\n",
       "      <td>both</td>\n",
       "    </tr>\n",
       "    <tr>\n",
       "      <th>1003</th>\n",
       "      <td>2018-12-31</td>\n",
       "      <td>270.100006</td>\n",
       "      <td>260.000000</td>\n",
       "      <td>260.160004</td>\n",
       "      <td>267.660004</td>\n",
       "      <td>13508900.0</td>\n",
       "      <td>nflx</td>\n",
       "      <td>True</td>\n",
       "      <td>Entre 1000 y 100</td>\n",
       "      <td>Entre 1000 y 100</td>\n",
       "      <td>-59.460555</td>\n",
       "      <td>-59.460555</td>\n",
       "      <td>319.620558</td>\n",
       "      <td>both</td>\n",
       "    </tr>\n",
       "  </tbody>\n",
       "</table>\n",
       "<p>1004 rows × 14 columns</p>\n",
       "</div>"
      ],
      "text/plain": [
       "            date        high         low        open       close       volume  \\\n",
       "0     2018-01-02   43.075001   42.314999   42.540001   43.064999  102223600.0   \n",
       "1     2018-01-03   43.637501   42.990002   43.132500   43.057499  118071600.0   \n",
       "2     2018-01-04   43.367500   43.020000   43.134998   43.257500   89738400.0   \n",
       "3     2018-01-05   43.842499   43.262501   43.360001   43.750000   94640000.0   \n",
       "4     2018-01-08   43.902500   43.482498   43.587502   43.587502   82271200.0   \n",
       "...          ...         ...         ...         ...         ...          ...   \n",
       "999   2018-12-24  250.649994  233.679993  242.000000  233.880005    9547600.0   \n",
       "1000  2018-12-26  254.500000  231.229996  233.919998  253.669998   14402700.0   \n",
       "1001  2018-12-27  255.589996  240.100006  250.110001  255.570007   12235200.0   \n",
       "1002  2018-12-28  261.910004  249.800003  257.940002  256.079987   10992800.0   \n",
       "1003  2018-12-31  270.100006  260.000000  260.160004  267.660004   13508900.0   \n",
       "\n",
       "     ticker  Mayor 100 rango acciones apertura    rango apertura  Dist media  \\\n",
       "0      aapl      False            Entre 50 y 0      Entre 50 y 0   -4.737858   \n",
       "1      aapl      False            Entre 50 y 0      Entre 50 y 0   -4.145359   \n",
       "2      aapl      False            Entre 50 y 0      Entre 50 y 0   -4.142860   \n",
       "3      aapl      False            Entre 50 y 0      Entre 50 y 0   -3.917858   \n",
       "4      aapl      False            Entre 50 y 0      Entre 50 y 0   -3.690357   \n",
       "...     ...        ...                     ...               ...         ...   \n",
       "999    nflx       True        Entre 1000 y 100  Entre 1000 y 100  -77.620558   \n",
       "1000   nflx       True        Entre 1000 y 100  Entre 1000 y 100  -85.700560   \n",
       "1001   nflx       True        Entre 1000 y 100  Entre 1000 y 100  -69.510558   \n",
       "1002   nflx       True        Entre 1000 y 100  Entre 1000 y 100  -61.680556   \n",
       "1003   nflx       True        Entre 1000 y 100  Entre 1000 y 100  -59.460555   \n",
       "\n",
       "      dist_media       media _merge  \n",
       "0      -4.737858   47.277859   both  \n",
       "1      -4.145359   47.277859   both  \n",
       "2      -4.142860   47.277859   both  \n",
       "3      -3.917858   47.277859   both  \n",
       "4      -3.690357   47.277859   both  \n",
       "...          ...         ...    ...  \n",
       "999   -77.620558  319.620558   both  \n",
       "1000  -85.700560  319.620558   both  \n",
       "1001  -69.510558  319.620558   both  \n",
       "1002  -61.680556  319.620558   both  \n",
       "1003  -59.460555  319.620558   both  \n",
       "\n",
       "[1004 rows x 14 columns]"
      ]
     },
     "execution_count": 31,
     "metadata": {},
     "output_type": "execute_result"
    }
   ],
   "source": [
    "# Forma Choska\n",
    "\n",
    "medias = faang.groupby(['ticker'], as_index=False)['open'].mean()\n",
    "medias.columns = ['ticker', 'media']\n",
    "\n",
    "faang2 = pd.merge(faang, medias, on=['ticker'], how='outer', indicator=True)\n",
    "faang2"
   ]
  },
  {
   "cell_type": "code",
   "execution_count": 32,
   "metadata": {},
   "outputs": [],
   "source": [
    "faang2['dist_media_2'] = faang2['open'] - faang2['media']"
   ]
  },
  {
   "cell_type": "code",
   "execution_count": 33,
   "metadata": {},
   "outputs": [
    {
     "data": {
      "text/plain": [
       "0"
      ]
     },
     "execution_count": 33,
     "metadata": {},
     "output_type": "execute_result"
    }
   ],
   "source": [
    "sum(faang2['dist_media_2'] != faang2['dist_media'])"
   ]
  },
  {
   "cell_type": "code",
   "execution_count": null,
   "metadata": {},
   "outputs": [],
   "source": [
    "faang[\"open\"].max()"
   ]
  },
  {
   "cell_type": "code",
   "execution_count": null,
   "metadata": {},
   "outputs": [],
   "source": [
    "faang[faang[\"open\"]==faang[\"open\"].max()]"
   ]
  },
  {
   "cell_type": "code",
   "execution_count": null,
   "metadata": {},
   "outputs": [],
   "source": [
    "faang.groupby([\"ticker\"])[\"open\"].max()"
   ]
  },
  {
   "cell_type": "code",
   "execution_count": null,
   "metadata": {},
   "outputs": [],
   "source": [
    "faang[\"mayor_100\"] = faang[\"open\"].apply(lambda x: x>=100)"
   ]
  },
  {
   "cell_type": "code",
   "execution_count": null,
   "metadata": {},
   "outputs": [],
   "source": [
    "def mayor_100(x):\n",
    "    return x>=100\n",
    "faang[\"mayor_100_bis\"] = faang[\"open\"].apply(mayor_100)"
   ]
  },
  {
   "cell_type": "code",
   "execution_count": null,
   "metadata": {},
   "outputs": [],
   "source": [
    "def filtrado(x):\n",
    "    if x<=50:\n",
    "        return \"Entre 0 y 50\"\n",
    "    elif 50<x<=100:\n",
    "        return \"Entre 51 y 100\"\n",
    "    elif 100<x<=1000: \n",
    "        return \"Entre 101 y 1000\"\n",
    "    else:\n",
    "        return \"Más de 1000\"\n",
    "faang[\"filtro_Valor\"] = faang[\"open\"].apply(filtrado)"
   ]
  },
  {
   "cell_type": "code",
   "execution_count": null,
   "metadata": {},
   "outputs": [],
   "source": [
    "faang[\"dist_media\"] = faang.groupby(\"ticker\")[\"open\"].transform(lambda x: x - x.mean())"
   ]
  },
  {
   "cell_type": "code",
   "execution_count": null,
   "metadata": {},
   "outputs": [],
   "source": [
    "medias = faang.groupby([\"ticker\"], as_index=False)[\"open\"].mean()"
   ]
  },
  {
   "cell_type": "code",
   "execution_count": null,
   "metadata": {},
   "outputs": [],
   "source": [
    "medias.rename(columns={\"open\":\"media\"}, inplace=True)"
   ]
  },
  {
   "cell_type": "code",
   "execution_count": null,
   "metadata": {},
   "outputs": [],
   "source": [
    "faang[\"mim_max\"] = faang.groupby(\"ticker\")[\"open\"].transform(lambda x: (x - x.min())/(x.max()-x.min()))"
   ]
  },
  {
   "cell_type": "code",
   "execution_count": null,
   "metadata": {},
   "outputs": [],
   "source": [
    "faang.groupby(\"ticker\")[\"mim_max\"].describe()"
   ]
  },
  {
   "cell_type": "code",
   "execution_count": null,
   "metadata": {},
   "outputs": [],
   "source": [
    "medias.columns =[\"ticker\", \"media\"]"
   ]
  },
  {
   "cell_type": "code",
   "execution_count": null,
   "metadata": {},
   "outputs": [],
   "source": [
    "medias"
   ]
  },
  {
   "cell_type": "code",
   "execution_count": null,
   "metadata": {},
   "outputs": [],
   "source": [
    "faang.groupby([\"ticker\"])[[\"open\"]].mean()"
   ]
  },
  {
   "cell_type": "code",
   "execution_count": null,
   "metadata": {},
   "outputs": [],
   "source": [
    "faang2 = pd.merge(faang, medias, on=[\"ticker\"], how=\"outer\", indicator=True)"
   ]
  },
  {
   "cell_type": "code",
   "execution_count": null,
   "metadata": {},
   "outputs": [],
   "source": [
    "faang2[\"dist_media_2\"] = faang2[\"open\"] - faang2[\"media\"]"
   ]
  },
  {
   "cell_type": "code",
   "execution_count": null,
   "metadata": {},
   "outputs": [],
   "source": [
    "sum(faang2[\"dist_media_2\"] != faang2[\"dist_media\"])"
   ]
  },
  {
   "cell_type": "markdown",
   "metadata": {},
   "source": [
    "Calcula la normalización min-max para cada ticker de los faang"
   ]
  },
  {
   "cell_type": "code",
   "execution_count": null,
   "metadata": {},
   "outputs": [],
   "source": [
    "import pandas as pd\n",
    "faang = pd.read_csv(\"faang.csv\")\n",
    "faang[\"open_min_max\"] = faang.groupby(\"ticker\")[\"open\"].transform(lambda x: (x - x.min())/(x.max()-x.min()))"
   ]
  },
  {
   "cell_type": "code",
   "execution_count": null,
   "metadata": {},
   "outputs": [],
   "source": [
    "faang.groupby(\"ticker\")[\"open_min_max\"].describe()"
   ]
  },
  {
   "cell_type": "markdown",
   "metadata": {},
   "source": [
    "Calcula una columna que sea \"Sube\" si el valor de close era superior al de open y \"Baja\" en caso contrario"
   ]
  },
  {
   "cell_type": "code",
   "execution_count": null,
   "metadata": {},
   "outputs": [],
   "source": [
    "def genera_sube_baja(open,close):\n",
    "    if open>=close:\n",
    "        return \"Baja\"\n",
    "    else:\n",
    "        return \"Sube\"\n",
    "faang[\"sube_baja\"] = faang.apply(lambda x: genera_sube_baja(x[\"open\"], x[\"close\"]), axis = 1)"
   ]
  },
  {
   "cell_type": "code",
   "execution_count": null,
   "metadata": {},
   "outputs": [],
   "source": [
    "faang[\"sube_baja_2\"] =  faang[\"close\"] > faang[\"open\"]"
   ]
  },
  {
   "cell_type": "code",
   "execution_count": null,
   "metadata": {},
   "outputs": [],
   "source": [
    "faang[\"sube_baja_2\"] = faang[\"sube_baja_2\"].map({True: \"Sube\", False:\"Baja\"})"
   ]
  },
  {
   "cell_type": "code",
   "execution_count": null,
   "metadata": {},
   "outputs": [],
   "source": [
    "sum(faang[\"sube_baja_2\"]  != faang[\"sube_baja\"])"
   ]
  },
  {
   "cell_type": "markdown",
   "metadata": {},
   "source": [
    "2. Con faang, utilice la conversión de tipos para convertir los valores de la columna de fecha en datetime y la columna de volumen en números enteros. A continuación, ordena por fecha y ticker.\n"
   ]
  },
  {
   "cell_type": "code",
   "execution_count": 9,
   "metadata": {},
   "outputs": [],
   "source": [
    "faang = pd.read_csv(\"faang.csv\")\n",
    "faang['date'] = pd.to_datetime(faang['date'])\n",
    "faang[\"volume\"] = faang[\"volume\"].astype(int)"
   ]
  },
  {
   "cell_type": "markdown",
   "metadata": {},
   "source": [
    "El csv tipo_cambio contiene los tipos de cambio entre USD y EUR para el 2018 (datos inventados). \n",
    "Añade la fecha para cada día del año"
   ]
  },
  {
   "cell_type": "code",
   "execution_count": null,
   "metadata": {},
   "outputs": [],
   "source": [
    "tipo_cambio = pd.read_csv(\"tipo_cambio.csv\")\n",
    "tipo_cambio = tipo_cambio[[\"USD_EUR\"]]"
   ]
  },
  {
   "cell_type": "code",
   "execution_count": null,
   "metadata": {},
   "outputs": [],
   "source": [
    "tipo_cambio[\"divisa\"]  = \"$/€\""
   ]
  },
  {
   "cell_type": "code",
   "execution_count": null,
   "metadata": {},
   "outputs": [],
   "source": [
    "tipo_cambio[\"fecha\"] = pd.date_range(\"2018-01-01\", \"2018-12-31\", freq=\"D\")"
   ]
  },
  {
   "cell_type": "code",
   "execution_count": null,
   "metadata": {},
   "outputs": [],
   "source": [
    "faang.head()"
   ]
  },
  {
   "cell_type": "markdown",
   "metadata": {},
   "source": [
    "Convierte la columna low de faang a euro usando merge"
   ]
  },
  {
   "cell_type": "code",
   "execution_count": null,
   "metadata": {},
   "outputs": [],
   "source": [
    "faang_merge = pd.merge(faang, tipo_cambio, left_on=[\"date\"], right_on=[\"fecha\"], how=\"outer\", indicator=True)"
   ]
  },
  {
   "cell_type": "code",
   "execution_count": null,
   "metadata": {},
   "outputs": [],
   "source": [
    "faang_merge[\"weekday\"] = faang_merge[\"fecha\"].dt.day_name()"
   ]
  },
  {
   "cell_type": "code",
   "execution_count": null,
   "metadata": {},
   "outputs": [],
   "source": [
    "faang_merge[faang_merge[\"_merge\"]!=\"both\"].groupby([\"weekday\"])[\"weekday\"].count()"
   ]
  },
  {
   "cell_type": "code",
   "execution_count": null,
   "metadata": {},
   "outputs": [],
   "source": [
    "faang_merge[(faang_merge[\"_merge\"]!=\"both\") & (~faang_merge[\"weekday\"].isin([\"Saturday\", \"Sunday\"]))][\"fecha\"]"
   ]
  },
  {
   "cell_type": "code",
   "execution_count": null,
   "metadata": {},
   "outputs": [],
   "source": [
    "faang_ = faang.set_index(\"date\")"
   ]
  },
  {
   "cell_type": "code",
   "execution_count": null,
   "metadata": {},
   "outputs": [],
   "source": [
    "tipo_cambio_ = tipo_cambio.set_index(\"fecha\")"
   ]
  },
  {
   "cell_type": "code",
   "execution_count": null,
   "metadata": {},
   "outputs": [],
   "source": [
    "faang_merge_2 = pd.merge(faang_, tipo_cambio_, left_index=True, right_index=True, how=\"outer\", indicator=True) "
   ]
  },
  {
   "cell_type": "code",
   "execution_count": null,
   "metadata": {},
   "outputs": [],
   "source": [
    "faang_merge.dropna(inplace=True)"
   ]
  },
  {
   "cell_type": "code",
   "execution_count": null,
   "metadata": {},
   "outputs": [],
   "source": [
    "faang_merge[\"low_euro\"] = faang_merge[\"low\"]*faang_merge[\"USD_EUR\"]"
   ]
  },
  {
   "cell_type": "code",
   "execution_count": null,
   "metadata": {},
   "outputs": [],
   "source": [
    "faang_merge"
   ]
  },
  {
   "cell_type": "code",
   "execution_count": null,
   "metadata": {},
   "outputs": [],
   "source": [
    "sum(faang_merge[\"low_euro_2\"] !=faang_merge[\"low_euro\"])"
   ]
  },
  {
   "cell_type": "markdown",
   "metadata": {},
   "source": [
    "Convierte la columna low de faang a euro usando apply"
   ]
  },
  {
   "cell_type": "code",
   "execution_count": null,
   "metadata": {},
   "outputs": [],
   "source": [
    "def tipo_cambio_2(fecha, low):\n",
    "    return tipo_cambio[tipo_cambio[\"fecha\"]==fecha][\"USD_EUR\"].values[0]*low\n",
    "faang[\"low_euro_3\"] = faang[[\"date\", \"low\"]].apply(lambda x: tipo_cambio_2(x[\"date\"], x[\"low\"]), axis=1)"
   ]
  },
  {
   "cell_type": "code",
   "execution_count": null,
   "metadata": {},
   "outputs": [],
   "source": [
    "faang[\"low_euro_2\"] = faang[[\"date\", \"low\"]].apply(lambda x: tipo_cambio[tipo_cambio[\"fecha\"]==x[\"date\"]][\"USD_EUR\"].values[0]*x[\"low\"], axis=1)"
   ]
  },
  {
   "cell_type": "markdown",
   "metadata": {},
   "source": [
    "3. Encuentre las siete filas en faang con el valor más bajo para el volumen.\n"
   ]
  },
  {
   "cell_type": "code",
   "execution_count": null,
   "metadata": {},
   "outputs": [],
   "source": [
    "faang.sort_values(\"volume\", inplace=True)\n",
    "faang.head(7)"
   ]
  },
  {
   "cell_type": "markdown",
   "metadata": {},
   "source": [
    "4. El Centro Europeo para la Prevención y el Control de las Enfermedades (ECDC) proporciona un conjunto de datos abierto sobre casos de COVID-19 denominado número diario de nuevos casos notificados de COVID-19 por país en todo el mundo (https://www.ecdc.europa.eu/en/publications-data/download-todays-data-geographicdistribution-covid-19-cases-worldwide). Este conjunto de datos se actualiza diariamente, pero utilizaremos una instantánea que contiene datos desde el 1 de enero de 2020 hasta el 18 de septiembre de 2020. Limpia y pivota los datos para que estén en formato ancho:\n",
    "\n"
   ]
  },
  {
   "cell_type": "code",
   "execution_count": null,
   "metadata": {},
   "outputs": [],
   "source": [
    "#- a) Lea el archivo covid19_cases.csv.\n",
    "covid19 = pd.read_csv(\"covid19_cases.csv\")\n",
    "covid19.head()"
   ]
  },
  {
   "cell_type": "code",
   "execution_count": null,
   "metadata": {},
   "outputs": [],
   "source": [
    "#- b) Cree una columna de fecha utilizando los datos de la columna dateRep y la función pd.to_datetime().\n",
    "covid19[\"fecha\"] = pd.to_datetime(covid19[\"dateRep\"], dayfirst=True)"
   ]
  },
  {
   "cell_type": "code",
   "execution_count": 183,
   "metadata": {},
   "outputs": [],
   "source": [
    "from dateutil import parser\n",
    "covid19 = pd.read_csv(\"covid19_cases.csv\")\n",
    "covid19[\"fecha\"] = covid19[\"dateRep\"].apply(lambda x: parser.parse(x))"
   ]
  },
  {
   "cell_type": "code",
   "execution_count": 184,
   "metadata": {},
   "outputs": [],
   "source": [
    "#- c) Establece la columna de fecha como índice y ordena el índice.\n",
    "covid19.set_index(\"fecha\", inplace=True)"
   ]
  },
  {
   "cell_type": "code",
   "execution_count": 185,
   "metadata": {},
   "outputs": [],
   "source": [
    "covid19.sort_index(inplace=True)"
   ]
  },
  {
   "cell_type": "code",
   "execution_count": 186,
   "metadata": {},
   "outputs": [],
   "source": [
    "#- d) Sustituye todas las apariciones de United_States_of_America y United_Kingdom por USA y UK, respectivamente. \n",
    "# Sugerencia: el método replace() puede ejecutarse en todo el dataframe.\n",
    "covid19[\"countriesAndTerritories\"] = covid19[\"countriesAndTerritories\"].replace(\"United_States_of_America\", \"USA\")\n",
    "covid19[\"countriesAndTerritories\"] = covid19[\"countriesAndTerritories\"].replace(\"United_Kingdom\", \"UK\")"
   ]
  },
  {
   "cell_type": "code",
   "execution_count": 197,
   "metadata": {},
   "outputs": [],
   "source": [
    "#- e) Utilizando la columna countriesAndTerritories, filtre los datos de casos COVID-19 depurados hasta Argentina, Brasil, China, Colombia, India, Italia, México, Perú, Rusia, España, Turquía, Reino Unido y Estados Unidos.\n",
    "paises = \"Argentina, Brazil, China, Colombia, India, Italy, Mexico, Peru, Russia, Spain, Turkey, UK, USA\"\n",
    "lista_paises = paises.split(\", \")"
   ]
  },
  {
   "cell_type": "code",
   "execution_count": 201,
   "metadata": {},
   "outputs": [
    {
     "data": {
      "text/html": [
       "<div>\n",
       "<style scoped>\n",
       "    .dataframe tbody tr th:only-of-type {\n",
       "        vertical-align: middle;\n",
       "    }\n",
       "\n",
       "    .dataframe tbody tr th {\n",
       "        vertical-align: top;\n",
       "    }\n",
       "\n",
       "    .dataframe thead th {\n",
       "        text-align: right;\n",
       "    }\n",
       "</style>\n",
       "<table border=\"1\" class=\"dataframe\">\n",
       "  <thead>\n",
       "    <tr style=\"text-align: right;\">\n",
       "      <th></th>\n",
       "      <th>dateRep</th>\n",
       "      <th>day</th>\n",
       "      <th>month</th>\n",
       "      <th>year</th>\n",
       "      <th>cases</th>\n",
       "      <th>deaths</th>\n",
       "      <th>countriesAndTerritories</th>\n",
       "      <th>geoId</th>\n",
       "      <th>countryterritoryCode</th>\n",
       "      <th>popData2019</th>\n",
       "      <th>continentExp</th>\n",
       "      <th>Cumulative_number_for_14_days_of_COVID-19_cases_per_100000</th>\n",
       "    </tr>\n",
       "    <tr>\n",
       "      <th>fecha</th>\n",
       "      <th></th>\n",
       "      <th></th>\n",
       "      <th></th>\n",
       "      <th></th>\n",
       "      <th></th>\n",
       "      <th></th>\n",
       "      <th></th>\n",
       "      <th></th>\n",
       "      <th></th>\n",
       "      <th></th>\n",
       "      <th></th>\n",
       "      <th></th>\n",
       "    </tr>\n",
       "  </thead>\n",
       "  <tbody>\n",
       "    <tr>\n",
       "      <th>2020-01-01</th>\n",
       "      <td>01/01/2020</td>\n",
       "      <td>1</td>\n",
       "      <td>1</td>\n",
       "      <td>2020</td>\n",
       "      <td>0</td>\n",
       "      <td>0</td>\n",
       "      <td>Russia</td>\n",
       "      <td>RU</td>\n",
       "      <td>RUS</td>\n",
       "      <td>1.458723e+08</td>\n",
       "      <td>Europe</td>\n",
       "      <td>NaN</td>\n",
       "    </tr>\n",
       "    <tr>\n",
       "      <th>2020-01-01</th>\n",
       "      <td>01/01/2020</td>\n",
       "      <td>1</td>\n",
       "      <td>1</td>\n",
       "      <td>2020</td>\n",
       "      <td>0</td>\n",
       "      <td>0</td>\n",
       "      <td>UK</td>\n",
       "      <td>UK</td>\n",
       "      <td>GBR</td>\n",
       "      <td>6.664711e+07</td>\n",
       "      <td>Europe</td>\n",
       "      <td>NaN</td>\n",
       "    </tr>\n",
       "    <tr>\n",
       "      <th>2020-01-01</th>\n",
       "      <td>01/01/2020</td>\n",
       "      <td>1</td>\n",
       "      <td>1</td>\n",
       "      <td>2020</td>\n",
       "      <td>0</td>\n",
       "      <td>0</td>\n",
       "      <td>Brazil</td>\n",
       "      <td>BR</td>\n",
       "      <td>BRA</td>\n",
       "      <td>2.110495e+08</td>\n",
       "      <td>America</td>\n",
       "      <td>NaN</td>\n",
       "    </tr>\n",
       "    <tr>\n",
       "      <th>2020-01-01</th>\n",
       "      <td>01/01/2020</td>\n",
       "      <td>1</td>\n",
       "      <td>1</td>\n",
       "      <td>2020</td>\n",
       "      <td>0</td>\n",
       "      <td>0</td>\n",
       "      <td>Italy</td>\n",
       "      <td>IT</td>\n",
       "      <td>ITA</td>\n",
       "      <td>6.035955e+07</td>\n",
       "      <td>Europe</td>\n",
       "      <td>NaN</td>\n",
       "    </tr>\n",
       "    <tr>\n",
       "      <th>2020-01-01</th>\n",
       "      <td>01/01/2020</td>\n",
       "      <td>1</td>\n",
       "      <td>1</td>\n",
       "      <td>2020</td>\n",
       "      <td>0</td>\n",
       "      <td>0</td>\n",
       "      <td>India</td>\n",
       "      <td>IN</td>\n",
       "      <td>IND</td>\n",
       "      <td>1.366418e+09</td>\n",
       "      <td>Asia</td>\n",
       "      <td>NaN</td>\n",
       "    </tr>\n",
       "  </tbody>\n",
       "</table>\n",
       "</div>"
      ],
      "text/plain": [
       "               dateRep  day  month  year  cases  deaths  \\\n",
       "fecha                                                     \n",
       "2020-01-01  01/01/2020    1      1  2020      0       0   \n",
       "2020-01-01  01/01/2020    1      1  2020      0       0   \n",
       "2020-01-01  01/01/2020    1      1  2020      0       0   \n",
       "2020-01-01  01/01/2020    1      1  2020      0       0   \n",
       "2020-01-01  01/01/2020    1      1  2020      0       0   \n",
       "\n",
       "           countriesAndTerritories geoId countryterritoryCode   popData2019  \\\n",
       "fecha                                                                         \n",
       "2020-01-01                  Russia    RU                  RUS  1.458723e+08   \n",
       "2020-01-01                      UK    UK                  GBR  6.664711e+07   \n",
       "2020-01-01                  Brazil    BR                  BRA  2.110495e+08   \n",
       "2020-01-01                   Italy    IT                  ITA  6.035955e+07   \n",
       "2020-01-01                   India    IN                  IND  1.366418e+09   \n",
       "\n",
       "           continentExp  \\\n",
       "fecha                     \n",
       "2020-01-01       Europe   \n",
       "2020-01-01       Europe   \n",
       "2020-01-01      America   \n",
       "2020-01-01       Europe   \n",
       "2020-01-01         Asia   \n",
       "\n",
       "            Cumulative_number_for_14_days_of_COVID-19_cases_per_100000  \n",
       "fecha                                                                   \n",
       "2020-01-01                                                NaN           \n",
       "2020-01-01                                                NaN           \n",
       "2020-01-01                                                NaN           \n",
       "2020-01-01                                                NaN           \n",
       "2020-01-01                                                NaN           "
      ]
     },
     "execution_count": 201,
     "metadata": {},
     "output_type": "execute_result"
    }
   ],
   "source": [
    "covid19[covid19[\"countriesAndTerritories\"].isin(lista_paises)].head()"
   ]
  },
  {
   "cell_type": "code",
   "execution_count": null,
   "metadata": {},
   "outputs": [],
   "source": [
    "#- f) Pivota los datos de modo que el índice contenga las fechas, las columnas contengan los nombres de los países y los valores sean los recuentos de casos (la columna de casos). \n",
    "# Asegúrate de rellenar los valores NaN con 0."
   ]
  },
  {
   "cell_type": "markdown",
   "metadata": {},
   "source": [
    "5. Intenta obtener el csv covid19_total_cases.csv a partir de covid19_cases.csv"
   ]
  },
  {
   "cell_type": "code",
   "execution_count": 204,
   "metadata": {},
   "outputs": [
    {
     "data": {
      "text/html": [
       "<div>\n",
       "<style scoped>\n",
       "    .dataframe tbody tr th:only-of-type {\n",
       "        vertical-align: middle;\n",
       "    }\n",
       "\n",
       "    .dataframe tbody tr th {\n",
       "        vertical-align: top;\n",
       "    }\n",
       "\n",
       "    .dataframe thead th {\n",
       "        text-align: right;\n",
       "    }\n",
       "</style>\n",
       "<table border=\"1\" class=\"dataframe\">\n",
       "  <thead>\n",
       "    <tr style=\"text-align: right;\">\n",
       "      <th></th>\n",
       "      <th>index</th>\n",
       "      <th>Afghanistan</th>\n",
       "      <th>Albania</th>\n",
       "      <th>Algeria</th>\n",
       "      <th>Andorra</th>\n",
       "      <th>Angola</th>\n",
       "      <th>Anguilla</th>\n",
       "      <th>Antigua_and_Barbuda</th>\n",
       "      <th>Argentina</th>\n",
       "      <th>Armenia</th>\n",
       "      <th>...</th>\n",
       "      <th>United_Republic_of_Tanzania</th>\n",
       "      <th>United_States_Virgin_Islands</th>\n",
       "      <th>Uruguay</th>\n",
       "      <th>Uzbekistan</th>\n",
       "      <th>Venezuela</th>\n",
       "      <th>Vietnam</th>\n",
       "      <th>Western_Sahara</th>\n",
       "      <th>Yemen</th>\n",
       "      <th>Zambia</th>\n",
       "      <th>Zimbabwe</th>\n",
       "    </tr>\n",
       "  </thead>\n",
       "  <tbody>\n",
       "    <tr>\n",
       "      <th>0</th>\n",
       "      <td>cases</td>\n",
       "      <td>38919</td>\n",
       "      <td>12073</td>\n",
       "      <td>49413</td>\n",
       "      <td>1564</td>\n",
       "      <td>3789</td>\n",
       "      <td>3</td>\n",
       "      <td>95</td>\n",
       "      <td>601700</td>\n",
       "      <td>46910</td>\n",
       "      <td>...</td>\n",
       "      <td>509</td>\n",
       "      <td>1242</td>\n",
       "      <td>1890</td>\n",
       "      <td>50253</td>\n",
       "      <td>65174</td>\n",
       "      <td>1068</td>\n",
       "      <td>766</td>\n",
       "      <td>2024</td>\n",
       "      <td>14022</td>\n",
       "      <td>7647</td>\n",
       "    </tr>\n",
       "  </tbody>\n",
       "</table>\n",
       "<p>1 rows × 211 columns</p>\n",
       "</div>"
      ],
      "text/plain": [
       "   index  Afghanistan  Albania  Algeria  Andorra  Angola  Anguilla  \\\n",
       "0  cases        38919    12073    49413     1564    3789         3   \n",
       "\n",
       "   Antigua_and_Barbuda  Argentina  Armenia  ...  United_Republic_of_Tanzania  \\\n",
       "0                   95     601700    46910  ...                          509   \n",
       "\n",
       "   United_States_Virgin_Islands  Uruguay  Uzbekistan  Venezuela  Vietnam  \\\n",
       "0                          1242     1890       50253      65174     1068   \n",
       "\n",
       "   Western_Sahara  Yemen  Zambia  Zimbabwe  \n",
       "0             766   2024   14022      7647  \n",
       "\n",
       "[1 rows x 211 columns]"
      ]
     },
     "execution_count": 204,
     "metadata": {},
     "output_type": "execute_result"
    }
   ],
   "source": [
    "covid19_total = pd.read_csv(\"covid19_total_cases.csv\")\n",
    "covid19_total"
   ]
  },
  {
   "cell_type": "markdown",
   "metadata": {},
   "source": [
    "Basado en hechos reales (Iván Vallés) aunque los datos eran diferentes\n",
    "En este archivo se encuentran las medidas en kg para generar en una planta cierto producto químico \n",
    "http://www.adjoint-functors.net/su/web/314/R/NB10"
   ]
  },
  {
   "cell_type": "code",
   "execution_count": 235,
   "metadata": {},
   "outputs": [],
   "source": [
    "# analiza si es tiene las propiedades de una distribución normal\n",
    "nb10 = pd.read_csv(\"http://www.adjoint-functors.net/su/web/314/R/NB10\", header=None)"
   ]
  },
  {
   "cell_type": "code",
   "execution_count": 236,
   "metadata": {},
   "outputs": [],
   "source": [
    "nb10.columns = [\"Kg\"]"
   ]
  },
  {
   "cell_type": "code",
   "execution_count": 242,
   "metadata": {},
   "outputs": [
    {
     "data": {
      "text/html": [
       "<div>\n",
       "<style scoped>\n",
       "    .dataframe tbody tr th:only-of-type {\n",
       "        vertical-align: middle;\n",
       "    }\n",
       "\n",
       "    .dataframe tbody tr th {\n",
       "        vertical-align: top;\n",
       "    }\n",
       "\n",
       "    .dataframe thead th {\n",
       "        text-align: right;\n",
       "    }\n",
       "</style>\n",
       "<table border=\"1\" class=\"dataframe\">\n",
       "  <thead>\n",
       "    <tr style=\"text-align: right;\">\n",
       "      <th></th>\n",
       "      <th>Kg</th>\n",
       "    </tr>\n",
       "  </thead>\n",
       "  <tbody>\n",
       "    <tr>\n",
       "      <th>count</th>\n",
       "      <td>100.000000</td>\n",
       "    </tr>\n",
       "    <tr>\n",
       "      <th>mean</th>\n",
       "      <td>404.590000</td>\n",
       "    </tr>\n",
       "    <tr>\n",
       "      <th>std</th>\n",
       "      <td>6.466846</td>\n",
       "    </tr>\n",
       "    <tr>\n",
       "      <th>min</th>\n",
       "      <td>375.000000</td>\n",
       "    </tr>\n",
       "    <tr>\n",
       "      <th>25%</th>\n",
       "      <td>401.000000</td>\n",
       "    </tr>\n",
       "    <tr>\n",
       "      <th>50%</th>\n",
       "      <td>404.000000</td>\n",
       "    </tr>\n",
       "    <tr>\n",
       "      <th>75%</th>\n",
       "      <td>407.000000</td>\n",
       "    </tr>\n",
       "    <tr>\n",
       "      <th>max</th>\n",
       "      <td>437.000000</td>\n",
       "    </tr>\n",
       "  </tbody>\n",
       "</table>\n",
       "</div>"
      ],
      "text/plain": [
       "               Kg\n",
       "count  100.000000\n",
       "mean   404.590000\n",
       "std      6.466846\n",
       "min    375.000000\n",
       "25%    401.000000\n",
       "50%    404.000000\n",
       "75%    407.000000\n",
       "max    437.000000"
      ]
     },
     "execution_count": 242,
     "metadata": {},
     "output_type": "execute_result"
    }
   ],
   "source": [
    "# analiza si es tiene las propiedades de una distribución normal \n",
    "nb10.describe()"
   ]
  },
  {
   "cell_type": "code",
   "execution_count": 241,
   "metadata": {},
   "outputs": [
    {
     "data": {
      "text/html": [
       "<div>\n",
       "<style scoped>\n",
       "    .dataframe tbody tr th:only-of-type {\n",
       "        vertical-align: middle;\n",
       "    }\n",
       "\n",
       "    .dataframe tbody tr th {\n",
       "        vertical-align: top;\n",
       "    }\n",
       "\n",
       "    .dataframe thead th {\n",
       "        text-align: right;\n",
       "    }\n",
       "</style>\n",
       "<table border=\"1\" class=\"dataframe\">\n",
       "  <thead>\n",
       "    <tr style=\"text-align: right;\">\n",
       "      <th></th>\n",
       "      <th>Kg</th>\n",
       "    </tr>\n",
       "  </thead>\n",
       "  <tbody>\n",
       "    <tr>\n",
       "      <th>0</th>\n",
       "      <td>401</td>\n",
       "    </tr>\n",
       "    <tr>\n",
       "      <th>1</th>\n",
       "      <td>406</td>\n",
       "    </tr>\n",
       "  </tbody>\n",
       "</table>\n",
       "</div>"
      ],
      "text/plain": [
       "    Kg\n",
       "0  401\n",
       "1  406"
      ]
     },
     "execution_count": 241,
     "metadata": {},
     "output_type": "execute_result"
    }
   ],
   "source": [
    "nb10.mode()"
   ]
  },
  {
   "cell_type": "code",
   "execution_count": 244,
   "metadata": {},
   "outputs": [
    {
     "data": {
      "text/plain": [
       "<Axes: ylabel='Frequency'>"
      ]
     },
     "execution_count": 244,
     "metadata": {},
     "output_type": "execute_result"
    },
    {
     "data": {
      "image/png": "[encoded data removed]",
      "text/plain": [
       "<Figure size 640x480 with 1 Axes>"
      ]
     },
     "metadata": {},
     "output_type": "display_data"
    }
   ],
   "source": [
    "nb10.plot.hist()"
   ]
  },
  {
   "cell_type": "code",
   "execution_count": 245,
   "metadata": {},
   "outputs": [
    {
     "data": {
      "text/plain": [
       "<Axes: ylabel='Density'>"
      ]
     },
     "execution_count": 245,
     "metadata": {},
     "output_type": "execute_result"
    },
    {
     "data": {
      "image/png": "[encoded data removed]",
      "text/plain": [
       "<Figure size 640x480 with 1 Axes>"
      ]
     },
     "metadata": {},
     "output_type": "display_data"
    }
   ],
   "source": [
    "nb10.plot.density()"
   ]
  },
  {
   "cell_type": "code",
   "execution_count": 247,
   "metadata": {},
   "outputs": [
    {
     "data": {
      "text/plain": [
       "0.86"
      ]
     },
     "execution_count": 247,
     "metadata": {},
     "output_type": "execute_result"
    }
   ],
   "source": [
    "len(nb10[(nb10[\"Kg\"]<=nb10[\"Kg\"].mean()+nb10[\"Kg\"].std())&(nb10[\"Kg\"]>=nb10[\"Kg\"].mean()-nb10[\"Kg\"].std())])/len(nb10)"
   ]
  },
  {
   "cell_type": "code",
   "execution_count": 253,
   "metadata": {},
   "outputs": [
    {
     "data": {
      "image/png": "[encoded data removed]",
      "text/plain": [
       "<Figure size 640x480 with 1 Axes>"
      ]
     },
     "execution_count": 253,
     "metadata": {},
     "output_type": "execute_result"
    },
    {
     "data": {
      "image/png": "[encoded data removed]",
      "text/plain": [
       "<Figure size 640x480 with 1 Axes>"
      ]
     },
     "metadata": {},
     "output_type": "display_data"
    }
   ],
   "source": [
    "import statsmodels.api as sm\n",
    "sm.qqplot(nb10[\"Kg\"])"
   ]
  },
  {
   "cell_type": "code",
   "execution_count": 255,
   "metadata": {},
   "outputs": [],
   "source": [
    "# analiza si es razonable pensar que la media es de 400kg tras eliminar los outliers\n",
    "nb10 = nb10[abs(nb10[\"Kg\"]-400)<20]"
   ]
  },
  {
   "cell_type": "code",
   "execution_count": 256,
   "metadata": {},
   "outputs": [
    {
     "data": {
      "text/plain": [
       "0.711340206185567"
      ]
     },
     "execution_count": 256,
     "metadata": {},
     "output_type": "execute_result"
    }
   ],
   "source": [
    "len(nb10[(nb10[\"Kg\"]<=nb10[\"Kg\"].mean()+nb10[\"Kg\"].std())&(nb10[\"Kg\"]>=nb10[\"Kg\"].mean()-nb10[\"Kg\"].std())])/len(nb10)"
   ]
  },
  {
   "cell_type": "code",
   "execution_count": 258,
   "metadata": {},
   "outputs": [
    {
     "data": {
      "image/png": "[encoded data removed]",
      "text/plain": [
       "<Figure size 640x480 with 1 Axes>"
      ]
     },
     "metadata": {},
     "output_type": "display_data"
    }
   ],
   "source": [
    "import statsmodels.api as sm\n",
    "sm.qqplot(nb10[\"Kg\"]);"
   ]
  }
 ],
 "metadata": {
  "kernelspec": {
   "display_name": "Python 3",
   "language": "python",
   "name": "python3"
  },
  "language_info": {
   "codemirror_mode": {
    "name": "ipython",
    "version": 3
   },
   "file_extension": ".py",
   "mimetype": "text/x-python",
   "name": "python",
   "nbconvert_exporter": "python",
   "pygments_lexer": "ipython3",
   "version": "3.12.1"
  }
 },
 "nbformat": 4,
 "nbformat_minor": 2
}
