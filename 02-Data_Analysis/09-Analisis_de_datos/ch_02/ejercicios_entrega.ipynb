{
 "cells": [
  {
   "cell_type": "markdown",
   "metadata": {},
   "source": [
    "# Ejercicios para entregar\n",
    "\n",
    "Usando el archivo data/parsed.csv y el material de este capítulo, complete los siguientes ejercicios para practicar sus habilidades con pandas:\n",
    "\n",
    "https://earthquake.usgs.gov/data/comcat/index.php#mag\n",
    "\n",
    "0. Lee el fichero data/parsed.csv\n"
   ]
  },
  {
   "cell_type": "code",
   "execution_count": null,
   "metadata": {},
   "outputs": [],
   "source": []
  },
  {
   "cell_type": "markdown",
   "metadata": {},
   "source": [
    "1. Encuentre el percentil 80 de la magnitud del terremoto en Nevada usando el ml tipo de magnitud."
   ]
  },
  {
   "cell_type": "code",
   "execution_count": null,
   "metadata": {},
   "outputs": [],
   "source": []
  },
  {
   "cell_type": "markdown",
   "metadata": {},
   "source": [
    "\n",
    "2. Encuentre el percentil 80 de la magnitud del terremoto en Nevada por tipo de magnitud (magType)\n"
   ]
  },
  {
   "cell_type": "code",
   "execution_count": null,
   "metadata": {},
   "outputs": [],
   "source": []
  },
  {
   "cell_type": "markdown",
   "metadata": {},
   "source": [
    "3. Encuentra el porcentaje de terremotos en Nevada que fueron acompañados de tsunamis.\n"
   ]
  },
  {
   "cell_type": "code",
   "execution_count": null,
   "metadata": {},
   "outputs": [],
   "source": []
  },
  {
   "cell_type": "markdown",
   "metadata": {},
   "source": [
    "4. Encuentra el porcentaje de terremotos en Nevada que fueron acompañados de tsunamis por tipo de magnitud."
   ]
  },
  {
   "cell_type": "code",
   "execution_count": null,
   "metadata": {},
   "outputs": [],
   "source": []
  },
  {
   "cell_type": "markdown",
   "metadata": {},
   "source": [
    "5. ¿Cuántos países/estados/localizaciones distintas existen en la columna parsed_place? Lista los nombres y el número total de elementos distintos en dicha columna\n"
   ]
  },
  {
   "cell_type": "code",
   "execution_count": null,
   "metadata": {},
   "outputs": [],
   "source": [
    "# EXTRA no visto en clase\n",
    "# utiliza .unique() y nunique()"
   ]
  },
  {
   "cell_type": "markdown",
   "metadata": {},
   "source": [
    "5. Añade una columna indicando si el terremoto ocurrió en estado de EEUU. Utiliza Alaska, California, New Mexico, Nevada, Wyoming, Oklahoma, Tennessee, Oregon, Idaho, Arizona, Texas, North Carolina, Arkansas, South Carolina, Illinois (pronunciado Ilinuá) y Washington.\n"
   ]
  },
  {
   "cell_type": "code",
   "execution_count": null,
   "metadata": {},
   "outputs": [],
   "source": [
    "# Utilizando isin()"
   ]
  },
  {
   "cell_type": "code",
   "execution_count": null,
   "metadata": {},
   "outputs": [],
   "source": [
    "# utilizando .apply"
   ]
  },
  {
   "cell_type": "code",
   "execution_count": null,
   "metadata": {},
   "outputs": [],
   "source": [
    "# utilizando .loc"
   ]
  },
  {
   "cell_type": "markdown",
   "metadata": {},
   "source": [
    "6. Comprueba que los resultados son iguales para los tres métodos anteriores: isin, apply y loc\n"
   ]
  },
  {
   "cell_type": "code",
   "execution_count": null,
   "metadata": {},
   "outputs": [],
   "source": []
  },
  {
   "cell_type": "markdown",
   "metadata": {},
   "source": [
    "7. Crea la columna Gran_Terremoto.\n",
    "Debe ser True sí y solo sí, la magnitud del terremoto es igual o superior al  percentil 90%"
   ]
  },
  {
   "cell_type": "code",
   "execution_count": null,
   "metadata": {},
   "outputs": [],
   "source": []
  },
  {
   "cell_type": "markdown",
   "metadata": {},
   "source": [
    "8. Calcula el porcentaje de terremotos cuya magnitud es igual o superior al percentil 90%\n",
    "¿Tiene sentido?"
   ]
  },
  {
   "cell_type": "code",
   "execution_count": null,
   "metadata": {},
   "outputs": [],
   "source": []
  },
  {
   "cell_type": "markdown",
   "metadata": {},
   "source": [
    "# EXTRA visto en clase pero no obvio\n",
    "\n",
    "9. Crea una columna llamada \"Gran_Terremoto_USA\"\n",
    "\n",
    "Debe ser True sí y solo sí se cumplen estas dos condiciones\n",
    "\n",
    "* Su magnitud es igual o superior al percentil del 90% para su tipo de magnitud (magType)\n",
    "\n",
    "* Es un estado de USA\n"
   ]
  },
  {
   "cell_type": "code",
   "execution_count": null,
   "metadata": {},
   "outputs": [],
   "source": []
  },
  {
   "cell_type": "markdown",
   "metadata": {},
   "source": [
    "10. Se ha descubierto un error en los sismógrafos que miden las magnitudes en tipo \"mb\". Deberían ser un 5% más bajos.\n",
    "Actuliza el dataset para incluir dicho cambio\n"
   ]
  }
 ],
 "metadata": {
  "kernelspec": {
   "display_name": "Python 3",
   "language": "python",
   "name": "python3"
  },
  "language_info": {
   "codemirror_mode": {
    "name": "ipython",
    "version": 3
   },
   "file_extension": ".py",
   "mimetype": "text/x-python",
   "name": "python",
   "nbconvert_exporter": "python",
   "pygments_lexer": "ipython3",
   "version": "3.12.2"
  }
 },
 "nbformat": 4,
 "nbformat_minor": 2
}
