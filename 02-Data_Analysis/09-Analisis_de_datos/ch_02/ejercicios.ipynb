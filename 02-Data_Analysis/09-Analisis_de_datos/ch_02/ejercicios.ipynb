{
 "cells": [
  {
   "cell_type": "markdown",
   "metadata": {},
   "source": [
    "# Ejercicios\n",
    "\n",
    "Usando el archivo data/parsed.csv y el material de este capítulo, complete los siguientes ejercicios para practicar sus habilidades con pandas:\n",
    "\n",
    "1. Encuentre el percentil 95 de la magnitud del terremoto en Japón usando el mb tipo de magnitud.\n"
   ]
  },
  {
   "cell_type": "code",
   "execution_count": null,
   "metadata": {},
   "outputs": [],
   "source": []
  },
  {
   "cell_type": "markdown",
   "metadata": {},
   "source": [
    "2. Encuentra el porcentaje de terremotos en Indonesia que fueron acompañados de tsunamis.\n"
   ]
  },
  {
   "cell_type": "code",
   "execution_count": null,
   "metadata": {},
   "outputs": [],
   "source": []
  },
  {
   "cell_type": "markdown",
   "metadata": {},
   "source": [
    "3. Calcular las estadísticas resumidas de los terremotos en Nevada.\n"
   ]
  },
  {
   "cell_type": "code",
   "execution_count": null,
   "metadata": {},
   "outputs": [],
   "source": []
  },
  {
   "cell_type": "markdown",
   "metadata": {},
   "source": [
    "4. Añade una columna indicando si el terremoto ocurrió en un país o estado de EEUU que se encuentre en el Cinturón de Fuego. Utiliza Alaska, Antártida (busca Antarctic), Bolivia, California, Canadá, Chile, Costa Rica, Ecuador, Fiyi, Guatemala, Indonesia, Japón, Islas Kermadec, México (tenga cuidado de no seleccionar Nuevo México), Nueva Zelanda, Perú, Filipinas, Rusia, Taiwán, Tonga y Washington.\n"
   ]
  },
  {
   "cell_type": "code",
   "execution_count": 4,
   "metadata": {},
   "outputs": [],
   "source": []
  },
  {
   "cell_type": "markdown",
   "metadata": {},
   "source": [
    "5. Calcula el número de terremotos en los lugares del Cinturón de Fuego y el número fuera de ellos.\n"
   ]
  },
  {
   "cell_type": "code",
   "execution_count": null,
   "metadata": {},
   "outputs": [],
   "source": []
  },
  {
   "cell_type": "markdown",
   "metadata": {},
   "source": [
    "6. Calcula el número de tsunamis a lo largo del Cinturón de Fuego."
   ]
  },
  {
   "cell_type": "code",
   "execution_count": null,
   "metadata": {},
   "outputs": [],
   "source": []
  }
 ],
 "metadata": {
  "kernelspec": {
   "display_name": "Python 3",
   "language": "python",
   "name": "python3"
  },
  "language_info": {
   "codemirror_mode": {
    "name": "ipython",
    "version": 3
   },
   "file_extension": ".py",
   "mimetype": "text/x-python",
   "name": "python",
   "nbconvert_exporter": "python",
   "pygments_lexer": "ipython3",
   "version": "3.12.2"
  }
 },
 "nbformat": 4,
 "nbformat_minor": 2
}
