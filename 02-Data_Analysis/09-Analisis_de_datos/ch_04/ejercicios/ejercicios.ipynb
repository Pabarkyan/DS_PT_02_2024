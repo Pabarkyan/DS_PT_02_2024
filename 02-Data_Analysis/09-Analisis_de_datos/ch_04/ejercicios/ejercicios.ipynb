{
 "cells": [
  {
   "cell_type": "markdown",
   "metadata": {},
   "source": [
    "# Ejercicios\n",
    "\n",
    "\n",
    "1. Con el fichero earthquakes.csv, selecciona todos los terremotos de Japón con una magnitud de 4,9 o superior utilizando el tipo de magnitud mb.\n"
   ]
  },
  {
   "cell_type": "code",
   "execution_count": 1,
   "metadata": {},
   "outputs": [],
   "source": [
    "import pandas as pd\n",
    "\n",
    "earthquakes = pd.read_csv('earthquakes.csv')"
   ]
  },
  {
   "cell_type": "code",
   "execution_count": 3,
   "metadata": {},
   "outputs": [
    {
     "data": {
      "text/html": [
       "<div>\n",
       "<style scoped>\n",
       "    .dataframe tbody tr th:only-of-type {\n",
       "        vertical-align: middle;\n",
       "    }\n",
       "\n",
       "    .dataframe tbody tr th {\n",
       "        vertical-align: top;\n",
       "    }\n",
       "\n",
       "    .dataframe thead th {\n",
       "        text-align: right;\n",
       "    }\n",
       "</style>\n",
       "<table border=\"1\" class=\"dataframe\">\n",
       "  <thead>\n",
       "    <tr style=\"text-align: right;\">\n",
       "      <th></th>\n",
       "      <th>mag</th>\n",
       "      <th>magType</th>\n",
       "      <th>time</th>\n",
       "      <th>place</th>\n",
       "      <th>tsunami</th>\n",
       "      <th>parsed_place</th>\n",
       "    </tr>\n",
       "  </thead>\n",
       "  <tbody>\n",
       "    <tr>\n",
       "      <th>476</th>\n",
       "      <td>5.2</td>\n",
       "      <td>mww</td>\n",
       "      <td>1539317747370</td>\n",
       "      <td>7km ESE of Asahi, Japan</td>\n",
       "      <td>0</td>\n",
       "      <td>Japan</td>\n",
       "    </tr>\n",
       "    <tr>\n",
       "      <th>1563</th>\n",
       "      <td>4.9</td>\n",
       "      <td>mb</td>\n",
       "      <td>1538977532250</td>\n",
       "      <td>293km ESE of Iwo Jima, Japan</td>\n",
       "      <td>0</td>\n",
       "      <td>Japan</td>\n",
       "    </tr>\n",
       "    <tr>\n",
       "      <th>2576</th>\n",
       "      <td>5.4</td>\n",
       "      <td>mb</td>\n",
       "      <td>1538697528010</td>\n",
       "      <td>37km E of Tomakomai, Japan</td>\n",
       "      <td>0</td>\n",
       "      <td>Japan</td>\n",
       "    </tr>\n",
       "    <tr>\n",
       "      <th>2591</th>\n",
       "      <td>5.0</td>\n",
       "      <td>mww</td>\n",
       "      <td>1538693073410</td>\n",
       "      <td>144km E of Nago, Japan</td>\n",
       "      <td>0</td>\n",
       "      <td>Japan</td>\n",
       "    </tr>\n",
       "    <tr>\n",
       "      <th>3072</th>\n",
       "      <td>4.9</td>\n",
       "      <td>mb</td>\n",
       "      <td>1538579732490</td>\n",
       "      <td>15km ENE of Hasaki, Japan</td>\n",
       "      <td>0</td>\n",
       "      <td>Japan</td>\n",
       "    </tr>\n",
       "    <tr>\n",
       "      <th>3632</th>\n",
       "      <td>4.9</td>\n",
       "      <td>mb</td>\n",
       "      <td>1538450871260</td>\n",
       "      <td>53km ESE of Hitachi, Japan</td>\n",
       "      <td>0</td>\n",
       "      <td>Japan</td>\n",
       "    </tr>\n",
       "    <tr>\n",
       "      <th>4409</th>\n",
       "      <td>5.0</td>\n",
       "      <td>mww</td>\n",
       "      <td>1538297644770</td>\n",
       "      <td>33km NW of Shizunai, Japan</td>\n",
       "      <td>0</td>\n",
       "      <td>Japan</td>\n",
       "    </tr>\n",
       "    <tr>\n",
       "      <th>7832</th>\n",
       "      <td>5.3</td>\n",
       "      <td>mww</td>\n",
       "      <td>1537613881810</td>\n",
       "      <td>169km E of Nago, Japan</td>\n",
       "      <td>0</td>\n",
       "      <td>Japan</td>\n",
       "    </tr>\n",
       "    <tr>\n",
       "      <th>9083</th>\n",
       "      <td>5.1</td>\n",
       "      <td>mww</td>\n",
       "      <td>1537287709100</td>\n",
       "      <td>23km ENE of Ishinomaki, Japan</td>\n",
       "      <td>0</td>\n",
       "      <td>Japan</td>\n",
       "    </tr>\n",
       "  </tbody>\n",
       "</table>\n",
       "</div>"
      ],
      "text/plain": [
       "      mag magType           time                          place  tsunami  \\\n",
       "476   5.2     mww  1539317747370        7km ESE of Asahi, Japan        0   \n",
       "1563  4.9      mb  1538977532250   293km ESE of Iwo Jima, Japan        0   \n",
       "2576  5.4      mb  1538697528010     37km E of Tomakomai, Japan        0   \n",
       "2591  5.0     mww  1538693073410         144km E of Nago, Japan        0   \n",
       "3072  4.9      mb  1538579732490      15km ENE of Hasaki, Japan        0   \n",
       "3632  4.9      mb  1538450871260     53km ESE of Hitachi, Japan        0   \n",
       "4409  5.0     mww  1538297644770     33km NW of Shizunai, Japan        0   \n",
       "7832  5.3     mww  1537613881810         169km E of Nago, Japan        0   \n",
       "9083  5.1     mww  1537287709100  23km ENE of Ishinomaki, Japan        0   \n",
       "\n",
       "     parsed_place  \n",
       "476         Japan  \n",
       "1563        Japan  \n",
       "2576        Japan  \n",
       "2591        Japan  \n",
       "3072        Japan  \n",
       "3632        Japan  \n",
       "4409        Japan  \n",
       "7832        Japan  \n",
       "9083        Japan  "
      ]
     },
     "execution_count": 3,
     "metadata": {},
     "output_type": "execute_result"
    }
   ],
   "source": [
    "earthquakes[(earthquakes['parsed_place'] == 'Japan') & (earthquakes['mag'] >= 4.9)]"
   ]
  },
  {
   "cell_type": "markdown",
   "metadata": {},
   "source": [
    "2. Cree contenedores para cada número completo de magnitud de terremoto (por ejemplo, el primer contenedor es (0, 1], el segundo es (1, 2], etc.) con el tipo de magnitud ml y cuente cuántos hay en cada contenedor.\n"
   ]
  },
  {
   "cell_type": "code",
   "execution_count": 4,
   "metadata": {},
   "outputs": [
    {
     "data": {
      "text/html": [
       "<div>\n",
       "<style scoped>\n",
       "    .dataframe tbody tr th:only-of-type {\n",
       "        vertical-align: middle;\n",
       "    }\n",
       "\n",
       "    .dataframe tbody tr th {\n",
       "        vertical-align: top;\n",
       "    }\n",
       "\n",
       "    .dataframe thead th {\n",
       "        text-align: right;\n",
       "    }\n",
       "</style>\n",
       "<table border=\"1\" class=\"dataframe\">\n",
       "  <thead>\n",
       "    <tr style=\"text-align: right;\">\n",
       "      <th></th>\n",
       "      <th>mag</th>\n",
       "      <th>magType</th>\n",
       "      <th>time</th>\n",
       "      <th>place</th>\n",
       "      <th>tsunami</th>\n",
       "      <th>parsed_place</th>\n",
       "    </tr>\n",
       "  </thead>\n",
       "  <tbody>\n",
       "    <tr>\n",
       "      <th>0</th>\n",
       "      <td>1.35</td>\n",
       "      <td>ml</td>\n",
       "      <td>1539475168010</td>\n",
       "      <td>9km NE of Aguanga, CA</td>\n",
       "      <td>0</td>\n",
       "      <td>California</td>\n",
       "    </tr>\n",
       "    <tr>\n",
       "      <th>1</th>\n",
       "      <td>1.29</td>\n",
       "      <td>ml</td>\n",
       "      <td>1539475129610</td>\n",
       "      <td>9km NE of Aguanga, CA</td>\n",
       "      <td>0</td>\n",
       "      <td>California</td>\n",
       "    </tr>\n",
       "    <tr>\n",
       "      <th>2</th>\n",
       "      <td>3.42</td>\n",
       "      <td>ml</td>\n",
       "      <td>1539475062610</td>\n",
       "      <td>8km NE of Aguanga, CA</td>\n",
       "      <td>0</td>\n",
       "      <td>California</td>\n",
       "    </tr>\n",
       "    <tr>\n",
       "      <th>3</th>\n",
       "      <td>0.44</td>\n",
       "      <td>ml</td>\n",
       "      <td>1539474978070</td>\n",
       "      <td>9km NE of Aguanga, CA</td>\n",
       "      <td>0</td>\n",
       "      <td>California</td>\n",
       "    </tr>\n",
       "    <tr>\n",
       "      <th>6</th>\n",
       "      <td>1.70</td>\n",
       "      <td>ml</td>\n",
       "      <td>1539473176017</td>\n",
       "      <td>105km W of Talkeetna, Alaska</td>\n",
       "      <td>0</td>\n",
       "      <td>Alaska</td>\n",
       "    </tr>\n",
       "    <tr>\n",
       "      <th>...</th>\n",
       "      <td>...</td>\n",
       "      <td>...</td>\n",
       "      <td>...</td>\n",
       "      <td>...</td>\n",
       "      <td>...</td>\n",
       "      <td>...</td>\n",
       "    </tr>\n",
       "    <tr>\n",
       "      <th>9325</th>\n",
       "      <td>0.51</td>\n",
       "      <td>ml</td>\n",
       "      <td>1537230344890</td>\n",
       "      <td>4km WNW of Julian, CA</td>\n",
       "      <td>0</td>\n",
       "      <td>California</td>\n",
       "    </tr>\n",
       "    <tr>\n",
       "      <th>9326</th>\n",
       "      <td>1.82</td>\n",
       "      <td>ml</td>\n",
       "      <td>1537230230260</td>\n",
       "      <td>4km W of Julian, CA</td>\n",
       "      <td>0</td>\n",
       "      <td>California</td>\n",
       "    </tr>\n",
       "    <tr>\n",
       "      <th>9328</th>\n",
       "      <td>1.00</td>\n",
       "      <td>ml</td>\n",
       "      <td>1537230135130</td>\n",
       "      <td>3km W of Julian, CA</td>\n",
       "      <td>0</td>\n",
       "      <td>California</td>\n",
       "    </tr>\n",
       "    <tr>\n",
       "      <th>9330</th>\n",
       "      <td>1.10</td>\n",
       "      <td>ml</td>\n",
       "      <td>1537229545350</td>\n",
       "      <td>9km NE of Aguanga, CA</td>\n",
       "      <td>0</td>\n",
       "      <td>California</td>\n",
       "    </tr>\n",
       "    <tr>\n",
       "      <th>9331</th>\n",
       "      <td>0.66</td>\n",
       "      <td>ml</td>\n",
       "      <td>1537228864470</td>\n",
       "      <td>9km NE of Aguanga, CA</td>\n",
       "      <td>0</td>\n",
       "      <td>California</td>\n",
       "    </tr>\n",
       "  </tbody>\n",
       "</table>\n",
       "<p>6803 rows × 6 columns</p>\n",
       "</div>"
      ],
      "text/plain": [
       "       mag magType           time                         place  tsunami  \\\n",
       "0     1.35      ml  1539475168010         9km NE of Aguanga, CA        0   \n",
       "1     1.29      ml  1539475129610         9km NE of Aguanga, CA        0   \n",
       "2     3.42      ml  1539475062610         8km NE of Aguanga, CA        0   \n",
       "3     0.44      ml  1539474978070         9km NE of Aguanga, CA        0   \n",
       "6     1.70      ml  1539473176017  105km W of Talkeetna, Alaska        0   \n",
       "...    ...     ...            ...                           ...      ...   \n",
       "9325  0.51      ml  1537230344890         4km WNW of Julian, CA        0   \n",
       "9326  1.82      ml  1537230230260           4km W of Julian, CA        0   \n",
       "9328  1.00      ml  1537230135130           3km W of Julian, CA        0   \n",
       "9330  1.10      ml  1537229545350         9km NE of Aguanga, CA        0   \n",
       "9331  0.66      ml  1537228864470         9km NE of Aguanga, CA        0   \n",
       "\n",
       "     parsed_place  \n",
       "0      California  \n",
       "1      California  \n",
       "2      California  \n",
       "3      California  \n",
       "6          Alaska  \n",
       "...           ...  \n",
       "9325   California  \n",
       "9326   California  \n",
       "9328   California  \n",
       "9330   California  \n",
       "9331   California  \n",
       "\n",
       "[6803 rows x 6 columns]"
      ]
     },
     "execution_count": 4,
     "metadata": {},
     "output_type": "execute_result"
    }
   ],
   "source": [
    "earthquakes[earthquakes['magType'] == 'ml']"
   ]
  },
  {
   "cell_type": "code",
   "execution_count": 8,
   "metadata": {},
   "outputs": [
    {
     "data": {
      "text/html": [
       "<div>\n",
       "<style scoped>\n",
       "    .dataframe tbody tr th:only-of-type {\n",
       "        vertical-align: middle;\n",
       "    }\n",
       "\n",
       "    .dataframe tbody tr th {\n",
       "        vertical-align: top;\n",
       "    }\n",
       "\n",
       "    .dataframe thead th {\n",
       "        text-align: right;\n",
       "    }\n",
       "</style>\n",
       "<table border=\"1\" class=\"dataframe\">\n",
       "  <thead>\n",
       "    <tr style=\"text-align: right;\">\n",
       "      <th></th>\n",
       "      <th>count</th>\n",
       "    </tr>\n",
       "    <tr>\n",
       "      <th>mag</th>\n",
       "      <th></th>\n",
       "    </tr>\n",
       "  </thead>\n",
       "  <tbody>\n",
       "    <tr>\n",
       "      <th>(1, 2]</th>\n",
       "      <td>3105</td>\n",
       "    </tr>\n",
       "    <tr>\n",
       "      <th>(0, 1]</th>\n",
       "      <td>2207</td>\n",
       "    </tr>\n",
       "    <tr>\n",
       "      <th>(2, 3]</th>\n",
       "      <td>862</td>\n",
       "    </tr>\n",
       "    <tr>\n",
       "      <th>(-1, 0]</th>\n",
       "      <td>491</td>\n",
       "    </tr>\n",
       "    <tr>\n",
       "      <th>(3, 4]</th>\n",
       "      <td>122</td>\n",
       "    </tr>\n",
       "    <tr>\n",
       "      <th>(-2, -1]</th>\n",
       "      <td>13</td>\n",
       "    </tr>\n",
       "    <tr>\n",
       "      <th>(4, 5]</th>\n",
       "      <td>2</td>\n",
       "    </tr>\n",
       "    <tr>\n",
       "      <th>(5, 6]</th>\n",
       "      <td>1</td>\n",
       "    </tr>\n",
       "  </tbody>\n",
       "</table>\n",
       "</div>"
      ],
      "text/plain": [
       "          count\n",
       "mag            \n",
       "(1, 2]     3105\n",
       "(0, 1]     2207\n",
       "(2, 3]      862\n",
       "(-1, 0]     491\n",
       "(3, 4]      122\n",
       "(-2, -1]     13\n",
       "(4, 5]        2\n",
       "(5, 6]        1"
      ]
     },
     "execution_count": 8,
     "metadata": {},
     "output_type": "execute_result"
    }
   ],
   "source": [
    "pd.DataFrame(pd.cut(earthquakes[earthquakes[\"magType\"]==\"ml\"][\"mag\"], range(-2,7)).value_counts())"
   ]
  },
  {
   "cell_type": "markdown",
   "metadata": {},
   "source": [
    "3.0. Utilizando el archivo faang.csv. Realice las siguientes agregaciones:\n",
    "- a) Media del precio de apertura\n",
    "- b) Máximo del precio máximo\n",
    "- c) Mínimo del precio mínimo\n",
    "- d) Media del precio de cierre\n",
    "- e) Suma del volumen negociado\n"
   ]
  },
  {
   "cell_type": "code",
   "execution_count": 11,
   "metadata": {},
   "outputs": [
    {
     "data": {
      "text/html": [
       "<div>\n",
       "<style scoped>\n",
       "    .dataframe tbody tr th:only-of-type {\n",
       "        vertical-align: middle;\n",
       "    }\n",
       "\n",
       "    .dataframe tbody tr th {\n",
       "        vertical-align: top;\n",
       "    }\n",
       "\n",
       "    .dataframe thead th {\n",
       "        text-align: right;\n",
       "    }\n",
       "</style>\n",
       "<table border=\"1\" class=\"dataframe\">\n",
       "  <thead>\n",
       "    <tr style=\"text-align: right;\">\n",
       "      <th></th>\n",
       "      <th>ticker</th>\n",
       "      <th>date</th>\n",
       "      <th>high</th>\n",
       "      <th>low</th>\n",
       "      <th>open</th>\n",
       "      <th>close</th>\n",
       "      <th>volume</th>\n",
       "    </tr>\n",
       "  </thead>\n",
       "  <tbody>\n",
       "    <tr>\n",
       "      <th>0</th>\n",
       "      <td>FB</td>\n",
       "      <td>2018-01-02</td>\n",
       "      <td>181.580002</td>\n",
       "      <td>177.550003</td>\n",
       "      <td>177.679993</td>\n",
       "      <td>181.419998</td>\n",
       "      <td>18151900.0</td>\n",
       "    </tr>\n",
       "    <tr>\n",
       "      <th>1</th>\n",
       "      <td>FB</td>\n",
       "      <td>2018-01-03</td>\n",
       "      <td>184.779999</td>\n",
       "      <td>181.330002</td>\n",
       "      <td>181.880005</td>\n",
       "      <td>184.669998</td>\n",
       "      <td>16886600.0</td>\n",
       "    </tr>\n",
       "  </tbody>\n",
       "</table>\n",
       "</div>"
      ],
      "text/plain": [
       "  ticker        date        high         low        open       close  \\\n",
       "0     FB  2018-01-02  181.580002  177.550003  177.679993  181.419998   \n",
       "1     FB  2018-01-03  184.779999  181.330002  181.880005  184.669998   \n",
       "\n",
       "       volume  \n",
       "0  18151900.0  \n",
       "1  16886600.0  "
      ]
     },
     "execution_count": 11,
     "metadata": {},
     "output_type": "execute_result"
    }
   ],
   "source": [
    "faang = pd.read_csv('faang.csv')\n",
    "faang.head(2)"
   ]
  },
  {
   "cell_type": "code",
   "execution_count": 12,
   "metadata": {},
   "outputs": [
    {
     "data": {
      "text/plain": [
       "659.1996349836251"
      ]
     },
     "execution_count": 12,
     "metadata": {},
     "output_type": "execute_result"
    }
   ],
   "source": [
    "faang['open'].mean()"
   ]
  },
  {
   "cell_type": "code",
   "execution_count": 13,
   "metadata": {},
   "outputs": [
    {
     "data": {
      "text/plain": [
       "2050.5"
      ]
     },
     "execution_count": 13,
     "metadata": {},
     "output_type": "execute_result"
    }
   ],
   "source": [
    "faang['high'].max()"
   ]
  },
  {
   "cell_type": "code",
   "execution_count": 14,
   "metadata": {},
   "outputs": [
    {
     "data": {
      "text/plain": [
       "37.88750076293945"
      ]
     },
     "execution_count": 14,
     "metadata": {},
     "output_type": "execute_result"
    }
   ],
   "source": [
    "faang['high'].min()"
   ]
  },
  {
   "cell_type": "markdown",
   "metadata": {},
   "source": [
    "3.1. Utilizando el archivo faang.csv, agrupe por el ticker. Realice las siguientes agregaciones:\n",
    "- a) Media del precio de apertura\n",
    "- b) Máximo del precio máximo\n",
    "- c) Mínimo del precio mínimo\n",
    "- d) Media del precio de cierre\n",
    "- e) Suma del volumen negociado\n"
   ]
  },
  {
   "cell_type": "code",
   "execution_count": null,
   "metadata": {},
   "outputs": [],
   "source": []
  },
  {
   "cell_type": "markdown",
   "metadata": {},
   "source": [
    "3.2. Utilizando el archivo faang.csv, agrupe por el ticker y remuestree a frecuencia mensual. Realice las siguientes agregaciones:\n",
    "- a) Media del precio de apertura\n",
    "- b) Máximo del precio máximo\n",
    "- c) Mínimo del precio mínimo\n",
    "- d) Media del precio de cierre\n",
    "- e) Suma del volumen negociado"
   ]
  },
  {
   "cell_type": "code",
   "execution_count": null,
   "metadata": {},
   "outputs": [],
   "source": []
  },
  {
   "cell_type": "markdown",
   "metadata": {},
   "source": [
    "4. Construye una crosstab con los datos del terremoto entre la columna tsunami y la columna magType. En lugar de mostrar el recuento de frecuencias, muestra la magnitud máxima que se observó para cada combinación. Coloca el tipo de magnitud a lo largo de las columnas.\n"
   ]
  },
  {
   "cell_type": "code",
   "execution_count": null,
   "metadata": {},
   "outputs": [],
   "source": []
  },
  {
   "cell_type": "markdown",
   "metadata": {},
   "source": [
    "5. Calcule las agregaciones móviles de 60 días de los datos OHLC por ticker para los datos FAANG. Utilice las mismas agregaciones del ejercicio 3.\n"
   ]
  },
  {
   "cell_type": "code",
   "execution_count": null,
   "metadata": {},
   "outputs": [],
   "source": [
    "# pd.Grouper(freq='1M')"
   ]
  },
  {
   "cell_type": "code",
   "execution_count": null,
   "metadata": {},
   "outputs": [],
   "source": [
    "#.resample('M')"
   ]
  },
  {
   "cell_type": "markdown",
   "metadata": {},
   "source": [
    "6. Cree una tabla dinámica de los datos FAANG que compare las acciones. Ponga el ticker en las filas y muestre los promedios de los datos OHLC y volumen negociado.\n"
   ]
  },
  {
   "cell_type": "code",
   "execution_count": null,
   "metadata": {},
   "outputs": [],
   "source": []
  },
  {
   "cell_type": "markdown",
   "metadata": {},
   "source": [
    "7. Calcule las Z-score para cada columna numérica de los datos de Amazon (el ticker es AMZN) en el cuarto trimestre de 2018 utilizando apply().\n"
   ]
  },
  {
   "cell_type": "code",
   "execution_count": null,
   "metadata": {},
   "outputs": [],
   "source": []
  },
  {
   "cell_type": "markdown",
   "metadata": {},
   "source": [
    "8. Añade descripciones de eventos:\n",
    "- a) Cree un dataframe con las tres columnas siguientes: ticker, fecha y evento. Las columnas deben tener los siguientes valores:\n",
    "- i) ticker: \"FB\n",
    "- ii) date: ['2018-07-25', '2018-03-19', '2018-03-20'].\n",
    "- iii) event: ['Decepcionante crecimiento de usuarios anunciado tras el cierre.', 'Cambridge Analytica story', 'FTC investigation']\n",
    "    "
   ]
  },
  {
   "cell_type": "code",
   "execution_count": null,
   "metadata": {},
   "outputs": [],
   "source": []
  },
  {
   "cell_type": "markdown",
   "metadata": {},
   "source": [
    "    - b) Establece el índice en ['date', 'ticker'].\n"
   ]
  },
  {
   "cell_type": "code",
   "execution_count": null,
   "metadata": {},
   "outputs": [],
   "source": []
  },
  {
   "cell_type": "markdown",
   "metadata": {},
   "source": [
    "    - c) Combina estos datos con los datos de FAANG mediante una unión externa."
   ]
  }
 ],
 "metadata": {
  "kernelspec": {
   "display_name": "Python 3",
   "language": "python",
   "name": "python3"
  },
  "language_info": {
   "codemirror_mode": {
    "name": "ipython",
    "version": 3
   },
   "file_extension": ".py",
   "mimetype": "text/x-python",
   "name": "python",
   "nbconvert_exporter": "python",
   "pygments_lexer": "ipython3",
   "version": "3.12.1"
  }
 },
 "nbformat": 4,
 "nbformat_minor": 2
}
