{
 "cells": [
  {
   "cell_type": "markdown",
   "metadata": {},
   "source": [
    "<h2 style=\"color: red;\">Do it yourself</h2>\n",
    "\n",
    "Crea el siguiente gráfico\n",
    "![imagen](./img/graf1.png)\n",
    "\n",
    "\n",
    "$x∈[0,2\\pi]$ (1000 puntos)\n",
    "\n",
    "$y=e^{−\\alpha x}\\sin(\\beta x)$, donde α=0.7 y β=10.\n",
    "\n"
   ]
  },
  {
   "cell_type": "code",
   "execution_count": null,
   "metadata": {},
   "outputs": [],
   "source": []
  },
  {
   "cell_type": "markdown",
   "metadata": {},
   "source": [
    "<h2 style=\"color: red;\">Do it yourself</h2>\n",
    "\n",
    "Partiendo del fichero [tiobe-2020-clean.csv](https://aprendepython.es/_downloads/8778a635310cc21609208af23ea3211b/tiobe-2020-clean.csv) que contiene las valoraciones de los lenguajes de programación más usados durante el año 2020, crea el siguiente gráfico de barras:\n",
    "\n",
    "![imagen](./img/graf2.png)"
   ]
  },
  {
   "cell_type": "markdown",
   "metadata": {},
   "source": []
  },
  {
   "cell_type": "markdown",
   "metadata": {},
   "source": [
    "<h2 style=\"color: red;\">Do it yourself</h2>\n",
    "\n",
    "Partiendo del fichero [pokemon.csv](https://aprendepython.es/_downloads/48066928832fcc857fbf9724e3dda522/pokemon.csv) que contiene información sobre Pokemon 10, cree el siguiente histograma en el que se analiza el número de personajes «pokemons» en función de su velocidad (columna Speed):\n",
    "\n",
    "![imagen](./img/graf4.png)"
   ]
  },
  {
   "cell_type": "code",
   "execution_count": null,
   "metadata": {},
   "outputs": [],
   "source": []
  },
  {
   "cell_type": "markdown",
   "metadata": {},
   "source": [
    "<h2 style=\"color: red;\">Do it yourself</h2>\n",
    "\n",
    "Partiendo del fichero [bmw-clean.csv](https://aprendepython.es/_downloads/9be7b341c4a9dc02dfab0e9f6752f148/bmw-clean.csv) que contiene información sobre vehículos de la marca BMW, cree el siguiente gráfico de dispersión:\n",
    "\n",
    "![imagen](./img/graf3.png)\n",
    "\n",
    "El mapa de color que se ha usado es `plasma_r`\n"
   ]
  },
  {
   "cell_type": "code",
   "execution_count": null,
   "metadata": {},
   "outputs": [],
   "source": []
  },
  {
   "cell_type": "markdown",
   "metadata": {},
   "source": [
    "### Incluye soluciones\n",
    "https://aprendeconalf.es/docencia/python/ejercicios/matplotlib/"
   ]
  }
 ],
 "metadata": {
  "kernelspec": {
   "display_name": "Python 3",
   "language": "python",
   "name": "python3"
  },
  "language_info": {
   "codemirror_mode": {
    "name": "ipython",
    "version": 3
   },
   "file_extension": ".py",
   "mimetype": "text/x-python",
   "name": "python",
   "nbconvert_exporter": "python",
   "pygments_lexer": "ipython3",
   "version": "3.12.2"
  }
 },
 "nbformat": 4,
 "nbformat_minor": 2
}
