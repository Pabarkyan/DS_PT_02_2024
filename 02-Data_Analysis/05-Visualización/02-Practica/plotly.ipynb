{
 "cells": [
  {
   "cell_type": "markdown",
   "metadata": {},
   "source": [
    "https://www.kaggle.com/code/saileshpraveen/practice-exercises-on-plotly"
   ]
  },
  {
   "cell_type": "code",
   "execution_count": 7,
   "metadata": {},
   "outputs": [],
   "source": [
    "#importing essential libraries\n",
    "import numpy as np\n",
    "import pandas as pd\n",
    "import seaborn as sns\n",
    "import matplotlib.pyplot as plt\n",
    "from mpl_toolkits.mplot3d import Axes3D\n",
    "#from sklearn.preprocessing import Standard\n",
    "import os # accessing directory structure\n",
    "import plotly\n",
    "import plotly.express as px\n",
    "import warnings\n",
    "from plotly.offline import init_notebook_mode, iplot, plot\n",
    "import plotly.graph_objs as go\n",
    "\n",
    "warnings.filterwarnings(\"ignore\")"
   ]
  },
  {
   "cell_type": "markdown",
   "metadata": {},
   "source": [
    "# Ejercicio scatter\n",
    "Task 1 - Explore the IMDb dataset used in the assignment, please find the csv file download link on the platform.\n",
    "\n",
    "Plot a scatter plot using plotly to see the relationship between the 'Budget' vs 'Gross values' according to different genres. Use plotly express to quickly configure the plot - https://plotly.com/python/plotly-express/\n",
    "\n",
    "Subtasks for customizations -\n",
    "\n",
    "Subtask 1.1 - Try customizing your scatter plot with addition of marginal plots such as histogram, box plot or violin plot\n",
    "Subtask 1.2 - Try linking hover-over data and try exploring the option to choose the genres dynamically\n",
    "Your output should look like this -"
   ]
  },
  {
   "cell_type": "code",
   "execution_count": 16,
   "metadata": {},
   "outputs": [
    {
     "data": {
      "text/html": [
       "<div>\n",
       "<style scoped>\n",
       "    .dataframe tbody tr th:only-of-type {\n",
       "        vertical-align: middle;\n",
       "    }\n",
       "\n",
       "    .dataframe tbody tr th {\n",
       "        vertical-align: top;\n",
       "    }\n",
       "\n",
       "    .dataframe thead th {\n",
       "        text-align: right;\n",
       "    }\n",
       "</style>\n",
       "<table border=\"1\" class=\"dataframe\">\n",
       "  <thead>\n",
       "    <tr style=\"text-align: right;\">\n",
       "      <th></th>\n",
       "      <th>Title</th>\n",
       "      <th>title_year</th>\n",
       "      <th>budget</th>\n",
       "      <th>Gross</th>\n",
       "      <th>actor_1_name</th>\n",
       "      <th>actor_2_name</th>\n",
       "      <th>actor_3_name</th>\n",
       "      <th>actor_1_facebook_likes</th>\n",
       "      <th>actor_2_facebook_likes</th>\n",
       "      <th>actor_3_facebook_likes</th>\n",
       "      <th>...</th>\n",
       "      <th>Votes3044M</th>\n",
       "      <th>Votes3044F</th>\n",
       "      <th>Votes45A</th>\n",
       "      <th>Votes45AM</th>\n",
       "      <th>Votes45AF</th>\n",
       "      <th>Votes1000</th>\n",
       "      <th>VotesUS</th>\n",
       "      <th>VotesnUS</th>\n",
       "      <th>content_rating</th>\n",
       "      <th>Country</th>\n",
       "    </tr>\n",
       "  </thead>\n",
       "  <tbody>\n",
       "    <tr>\n",
       "      <th>0</th>\n",
       "      <td>La La Land</td>\n",
       "      <td>2016</td>\n",
       "      <td>30000000</td>\n",
       "      <td>151101803</td>\n",
       "      <td>Ryan Gosling</td>\n",
       "      <td>Emma Stone</td>\n",
       "      <td>Amiée Conn</td>\n",
       "      <td>14000</td>\n",
       "      <td>19000.0</td>\n",
       "      <td>NaN</td>\n",
       "      <td>...</td>\n",
       "      <td>7.9</td>\n",
       "      <td>7.8</td>\n",
       "      <td>7.6</td>\n",
       "      <td>7.6</td>\n",
       "      <td>7.5</td>\n",
       "      <td>7.1</td>\n",
       "      <td>8.3</td>\n",
       "      <td>8.1</td>\n",
       "      <td>PG-13</td>\n",
       "      <td>USA</td>\n",
       "    </tr>\n",
       "    <tr>\n",
       "      <th>1</th>\n",
       "      <td>Zootopia</td>\n",
       "      <td>2016</td>\n",
       "      <td>150000000</td>\n",
       "      <td>341268248</td>\n",
       "      <td>Ginnifer Goodwin</td>\n",
       "      <td>Jason Bateman</td>\n",
       "      <td>Idris Elba</td>\n",
       "      <td>2800</td>\n",
       "      <td>28000.0</td>\n",
       "      <td>27000.0</td>\n",
       "      <td>...</td>\n",
       "      <td>7.8</td>\n",
       "      <td>8.1</td>\n",
       "      <td>7.8</td>\n",
       "      <td>7.8</td>\n",
       "      <td>8.1</td>\n",
       "      <td>7.6</td>\n",
       "      <td>8.0</td>\n",
       "      <td>8.0</td>\n",
       "      <td>PG</td>\n",
       "      <td>USA</td>\n",
       "    </tr>\n",
       "    <tr>\n",
       "      <th>2</th>\n",
       "      <td>Lion</td>\n",
       "      <td>2016</td>\n",
       "      <td>12000000</td>\n",
       "      <td>51738905</td>\n",
       "      <td>Dev Patel</td>\n",
       "      <td>Nicole Kidman</td>\n",
       "      <td>Rooney Mara</td>\n",
       "      <td>33000</td>\n",
       "      <td>96000.0</td>\n",
       "      <td>9800.0</td>\n",
       "      <td>...</td>\n",
       "      <td>7.9</td>\n",
       "      <td>8.2</td>\n",
       "      <td>8.0</td>\n",
       "      <td>7.9</td>\n",
       "      <td>8.4</td>\n",
       "      <td>7.1</td>\n",
       "      <td>8.1</td>\n",
       "      <td>8.0</td>\n",
       "      <td>PG-13</td>\n",
       "      <td>Australia</td>\n",
       "    </tr>\n",
       "    <tr>\n",
       "      <th>3</th>\n",
       "      <td>Arrival</td>\n",
       "      <td>2016</td>\n",
       "      <td>47000000</td>\n",
       "      <td>100546139</td>\n",
       "      <td>Amy Adams</td>\n",
       "      <td>Jeremy Renner</td>\n",
       "      <td>Forest Whitaker</td>\n",
       "      <td>35000</td>\n",
       "      <td>5300.0</td>\n",
       "      <td>NaN</td>\n",
       "      <td>...</td>\n",
       "      <td>7.8</td>\n",
       "      <td>7.8</td>\n",
       "      <td>7.6</td>\n",
       "      <td>7.6</td>\n",
       "      <td>7.7</td>\n",
       "      <td>7.3</td>\n",
       "      <td>8.0</td>\n",
       "      <td>7.9</td>\n",
       "      <td>PG-13</td>\n",
       "      <td>USA</td>\n",
       "    </tr>\n",
       "    <tr>\n",
       "      <th>4</th>\n",
       "      <td>Manchester by the Sea</td>\n",
       "      <td>2016</td>\n",
       "      <td>9000000</td>\n",
       "      <td>47695371</td>\n",
       "      <td>Casey Affleck</td>\n",
       "      <td>Michelle Williams</td>\n",
       "      <td>Kyle Chandler</td>\n",
       "      <td>518</td>\n",
       "      <td>71000.0</td>\n",
       "      <td>3300.0</td>\n",
       "      <td>...</td>\n",
       "      <td>7.7</td>\n",
       "      <td>7.7</td>\n",
       "      <td>7.6</td>\n",
       "      <td>7.6</td>\n",
       "      <td>7.6</td>\n",
       "      <td>7.1</td>\n",
       "      <td>7.9</td>\n",
       "      <td>7.8</td>\n",
       "      <td>R</td>\n",
       "      <td>USA</td>\n",
       "    </tr>\n",
       "    <tr>\n",
       "      <th>...</th>\n",
       "      <td>...</td>\n",
       "      <td>...</td>\n",
       "      <td>...</td>\n",
       "      <td>...</td>\n",
       "      <td>...</td>\n",
       "      <td>...</td>\n",
       "      <td>...</td>\n",
       "      <td>...</td>\n",
       "      <td>...</td>\n",
       "      <td>...</td>\n",
       "      <td>...</td>\n",
       "      <td>...</td>\n",
       "      <td>...</td>\n",
       "      <td>...</td>\n",
       "      <td>...</td>\n",
       "      <td>...</td>\n",
       "      <td>...</td>\n",
       "      <td>...</td>\n",
       "      <td>...</td>\n",
       "      <td>...</td>\n",
       "      <td>...</td>\n",
       "    </tr>\n",
       "    <tr>\n",
       "      <th>95</th>\n",
       "      <td>Whiplash</td>\n",
       "      <td>2014</td>\n",
       "      <td>3300000</td>\n",
       "      <td>13092000</td>\n",
       "      <td>J.K. Simmons</td>\n",
       "      <td>Melissa Benoist</td>\n",
       "      <td>Chris Mulkey</td>\n",
       "      <td>24000</td>\n",
       "      <td>970.0</td>\n",
       "      <td>535.0</td>\n",
       "      <td>...</td>\n",
       "      <td>8.3</td>\n",
       "      <td>8.2</td>\n",
       "      <td>8.1</td>\n",
       "      <td>8.1</td>\n",
       "      <td>8.2</td>\n",
       "      <td>8.0</td>\n",
       "      <td>8.6</td>\n",
       "      <td>8.4</td>\n",
       "      <td>R</td>\n",
       "      <td>USA</td>\n",
       "    </tr>\n",
       "    <tr>\n",
       "      <th>96</th>\n",
       "      <td>Before Midnight</td>\n",
       "      <td>2013</td>\n",
       "      <td>3000000</td>\n",
       "      <td>8114507</td>\n",
       "      <td>Seamus Davey-Fitzpatrick</td>\n",
       "      <td>Ariane Labed</td>\n",
       "      <td>Athina Rachel Tsangari</td>\n",
       "      <td>140</td>\n",
       "      <td>63.0</td>\n",
       "      <td>48.0</td>\n",
       "      <td>...</td>\n",
       "      <td>7.8</td>\n",
       "      <td>7.6</td>\n",
       "      <td>7.3</td>\n",
       "      <td>7.4</td>\n",
       "      <td>7.2</td>\n",
       "      <td>7.0</td>\n",
       "      <td>8.0</td>\n",
       "      <td>7.9</td>\n",
       "      <td>R</td>\n",
       "      <td>USA</td>\n",
       "    </tr>\n",
       "    <tr>\n",
       "      <th>97</th>\n",
       "      <td>Star Wars: Episode VII - The Force Awakens</td>\n",
       "      <td>2015</td>\n",
       "      <td>245000000</td>\n",
       "      <td>936662225</td>\n",
       "      <td>Doug Walker</td>\n",
       "      <td>Rob Walker</td>\n",
       "      <td>0</td>\n",
       "      <td>131</td>\n",
       "      <td>12.0</td>\n",
       "      <td>0.0</td>\n",
       "      <td>...</td>\n",
       "      <td>7.9</td>\n",
       "      <td>8.2</td>\n",
       "      <td>7.9</td>\n",
       "      <td>7.8</td>\n",
       "      <td>8.2</td>\n",
       "      <td>7.7</td>\n",
       "      <td>8.2</td>\n",
       "      <td>7.9</td>\n",
       "      <td>PG-13</td>\n",
       "      <td>USA</td>\n",
       "    </tr>\n",
       "    <tr>\n",
       "      <th>98</th>\n",
       "      <td>Harry Potter and the Deathly Hallows: Part I</td>\n",
       "      <td>2010</td>\n",
       "      <td>150000000</td>\n",
       "      <td>296347721</td>\n",
       "      <td>Rupert Grint</td>\n",
       "      <td>Toby Jones</td>\n",
       "      <td>Alfred Enoch</td>\n",
       "      <td>10000</td>\n",
       "      <td>2000.0</td>\n",
       "      <td>1000.0</td>\n",
       "      <td>...</td>\n",
       "      <td>7.3</td>\n",
       "      <td>8.1</td>\n",
       "      <td>7.4</td>\n",
       "      <td>7.3</td>\n",
       "      <td>8.0</td>\n",
       "      <td>6.7</td>\n",
       "      <td>7.9</td>\n",
       "      <td>7.5</td>\n",
       "      <td>PG-13</td>\n",
       "      <td>UK</td>\n",
       "    </tr>\n",
       "    <tr>\n",
       "      <th>99</th>\n",
       "      <td>Tucker and Dale vs Evil</td>\n",
       "      <td>2010</td>\n",
       "      <td>5000000</td>\n",
       "      <td>223838</td>\n",
       "      <td>Katrina Bowden</td>\n",
       "      <td>Tyler Labine</td>\n",
       "      <td>Chelan Simmons</td>\n",
       "      <td>948</td>\n",
       "      <td>779.0</td>\n",
       "      <td>440.0</td>\n",
       "      <td>...</td>\n",
       "      <td>7.5</td>\n",
       "      <td>7.7</td>\n",
       "      <td>7.5</td>\n",
       "      <td>7.4</td>\n",
       "      <td>7.7</td>\n",
       "      <td>7.1</td>\n",
       "      <td>7.7</td>\n",
       "      <td>7.5</td>\n",
       "      <td>R</td>\n",
       "      <td>Canada</td>\n",
       "    </tr>\n",
       "  </tbody>\n",
       "</table>\n",
       "<p>100 rows × 62 columns</p>\n",
       "</div>"
      ],
      "text/plain": [
       "                                           Title  title_year     budget  \\\n",
       "0                                     La La Land        2016   30000000   \n",
       "1                                       Zootopia        2016  150000000   \n",
       "2                                           Lion        2016   12000000   \n",
       "3                                        Arrival        2016   47000000   \n",
       "4                          Manchester by the Sea        2016    9000000   \n",
       "..                                           ...         ...        ...   \n",
       "95                                      Whiplash        2014    3300000   \n",
       "96                               Before Midnight        2013    3000000   \n",
       "97    Star Wars: Episode VII - The Force Awakens        2015  245000000   \n",
       "98  Harry Potter and the Deathly Hallows: Part I        2010  150000000   \n",
       "99                       Tucker and Dale vs Evil        2010    5000000   \n",
       "\n",
       "        Gross              actor_1_name        actor_2_name  \\\n",
       "0   151101803              Ryan Gosling          Emma Stone   \n",
       "1   341268248          Ginnifer Goodwin       Jason Bateman   \n",
       "2    51738905                 Dev Patel       Nicole Kidman   \n",
       "3   100546139                 Amy Adams       Jeremy Renner   \n",
       "4    47695371             Casey Affleck  Michelle Williams    \n",
       "..        ...                       ...                 ...   \n",
       "95   13092000              J.K. Simmons     Melissa Benoist   \n",
       "96    8114507  Seamus Davey-Fitzpatrick        Ariane Labed   \n",
       "97  936662225               Doug Walker          Rob Walker   \n",
       "98  296347721              Rupert Grint          Toby Jones   \n",
       "99     223838            Katrina Bowden        Tyler Labine   \n",
       "\n",
       "              actor_3_name  actor_1_facebook_likes  actor_2_facebook_likes  \\\n",
       "0               Amiée Conn                   14000                 19000.0   \n",
       "1               Idris Elba                    2800                 28000.0   \n",
       "2              Rooney Mara                   33000                 96000.0   \n",
       "3          Forest Whitaker                   35000                  5300.0   \n",
       "4            Kyle Chandler                     518                 71000.0   \n",
       "..                     ...                     ...                     ...   \n",
       "95            Chris Mulkey                   24000                   970.0   \n",
       "96  Athina Rachel Tsangari                     140                    63.0   \n",
       "97                       0                     131                    12.0   \n",
       "98            Alfred Enoch                   10000                  2000.0   \n",
       "99          Chelan Simmons                     948                   779.0   \n",
       "\n",
       "    actor_3_facebook_likes  ...  Votes3044M Votes3044F Votes45A Votes45AM  \\\n",
       "0                      NaN  ...         7.9        7.8      7.6       7.6   \n",
       "1                  27000.0  ...         7.8        8.1      7.8       7.8   \n",
       "2                   9800.0  ...         7.9        8.2      8.0       7.9   \n",
       "3                      NaN  ...         7.8        7.8      7.6       7.6   \n",
       "4                   3300.0  ...         7.7        7.7      7.6       7.6   \n",
       "..                     ...  ...         ...        ...      ...       ...   \n",
       "95                   535.0  ...         8.3        8.2      8.1       8.1   \n",
       "96                    48.0  ...         7.8        7.6      7.3       7.4   \n",
       "97                     0.0  ...         7.9        8.2      7.9       7.8   \n",
       "98                  1000.0  ...         7.3        8.1      7.4       7.3   \n",
       "99                   440.0  ...         7.5        7.7      7.5       7.4   \n",
       "\n",
       "    Votes45AF  Votes1000  VotesUS  VotesnUS  content_rating    Country  \n",
       "0         7.5        7.1      8.3       8.1           PG-13        USA  \n",
       "1         8.1        7.6      8.0       8.0              PG        USA  \n",
       "2         8.4        7.1      8.1       8.0           PG-13  Australia  \n",
       "3         7.7        7.3      8.0       7.9           PG-13        USA  \n",
       "4         7.6        7.1      7.9       7.8               R        USA  \n",
       "..        ...        ...      ...       ...             ...        ...  \n",
       "95        8.2        8.0      8.6       8.4               R        USA  \n",
       "96        7.2        7.0      8.0       7.9               R        USA  \n",
       "97        8.2        7.7      8.2       7.9           PG-13        USA  \n",
       "98        8.0        6.7      7.9       7.5           PG-13         UK  \n",
       "99        7.7        7.1      7.7       7.5               R     Canada  \n",
       "\n",
       "[100 rows x 62 columns]"
      ]
     },
     "execution_count": 16,
     "metadata": {},
     "output_type": "execute_result"
    }
   ],
   "source": [
    "info = pd.read_csv('./data/IMDb.csv')\n",
    "info"
   ]
  },
  {
   "cell_type": "code",
   "execution_count": 15,
   "metadata": {},
   "outputs": [
    {
     "data": {
      "application/vnd.plotly.v1+json": {
       "config": {
        "plotlyServerURL": "https://plot.ly"
       },
       "data": [
        {
         "hovertemplate": "<b>%{hovertext}</b><br><br>genre_1=Comedy<br>Runtime=%{x}<br>IMDb_rating=%{y}<br>actor_1_facebook_likes=%{marker.size}<extra></extra>",
         "hovertext": [
          "Comedy",
          "Comedy",
          "Comedy",
          "Comedy",
          "Comedy",
          "Comedy",
          "Comedy",
          "Comedy",
          "Comedy"
         ],
         "ids": [
          "Comedy",
          "Comedy",
          "Comedy",
          "Comedy",
          "Comedy",
          "Comedy",
          "Comedy",
          "Comedy",
          "Comedy"
         ],
         "legendgroup": "Comedy",
         "marker": {
          "color": "#636efa",
          "size": [
           14000,
           34000,
           15000,
           617,
           996,
           1000,
           565,
           23000,
           948
          ],
          "sizemode": "area",
          "sizeref": 17.28395061728395,
          "symbol": "circle"
         },
         "mode": "markers",
         "name": "Comedy",
         "orientation": "v",
         "showlegend": true,
         "type": "scatter",
         "x": [
          128,
          122,
          119,
          124,
          100,
          124,
          123,
          100,
          124
         ],
         "xaxis": "x",
         "y": [
          8.2,
          7.8,
          7.8,
          7.7,
          7.9,
          7.7,
          7.8,
          7.7,
          7.6
         ],
         "yaxis": "y"
        },
        {
         "hovertemplate": "<b>%{hovertext}</b><br><br>genre_1=Animation<br>Runtime=%{x}<br>IMDb_rating=%{y}<br>actor_1_facebook_likes=%{marker.size}<extra></extra>",
         "hovertext": [
          "Animation",
          "Animation",
          "Animation",
          "Animation",
          "Animation",
          "Animation",
          "Animation",
          "Animation",
          "Animation",
          "Animation",
          "Animation"
         ],
         "ids": [
          "Animation",
          "Animation",
          "Animation",
          "Animation",
          "Animation",
          "Animation",
          "Animation",
          "Animation",
          "Animation",
          "Animation",
          "Animation"
         ],
         "legendgroup": "Animation",
         "marker": {
          "color": "#EF553B",
          "size": [
           2800,
           799,
           15000,
           1000,
           756,
           18000,
           975,
           18000,
           12000,
           7000,
           11000
          ],
          "sizemode": "area",
          "sizeref": 17.28395061728395,
          "symbol": "circle"
         },
         "mode": "markers",
         "name": "Animation",
         "orientation": "v",
         "showlegend": true,
         "type": "scatter",
         "x": [
          108,
          124,
          103,
          95,
          124,
          124,
          124,
          124,
          108,
          124,
          100
         ],
         "xaxis": "x2",
         "y": [
          8.1,
          7.8,
          8.3,
          8.2,
          7.8,
          8.1,
          7.7,
          7.9,
          7.8,
          7.7,
          7.8
         ],
         "yaxis": "y2"
        },
        {
         "hovertemplate": "<b>%{hovertext}</b><br><br>genre_1=Biography<br>Runtime=%{x}<br>IMDb_rating=%{y}<br>actor_1_facebook_likes=%{marker.size}<extra></extra>",
         "hovertext": [
          "Biography",
          "Biography",
          "Biography",
          "Biography",
          "Biography",
          "Biography",
          "Biography",
          "Biography",
          "Biography",
          "Biography",
          "Biography",
          "Biography",
          "Biography"
         ],
         "ids": [
          "Biography",
          "Biography",
          "Biography",
          "Biography",
          "Biography",
          "Biography",
          "Biography",
          "Biography",
          "Biography",
          "Biography",
          "Biography",
          "Biography",
          "Biography"
         ],
         "legendgroup": "Biography",
         "marker": {
          "color": "#00cc96",
          "size": [
           33000,
           29000,
           15000,
           22000,
           10000,
           559,
           33000,
           2000,
           14000,
           13000,
           19000,
           1000,
           11000
          ],
          "sizemode": "area",
          "sizeref": 17.28395061728395,
          "symbol": "circle"
         },
         "mode": "markers",
         "name": "Biography",
         "orientation": "v",
         "showlegend": true,
         "type": "scatter",
         "x": [
          118,
          180,
          134,
          133,
          120,
          147,
          130,
          134,
          118,
          123,
          114,
          98,
          117
         ],
         "xaxis": "x3",
         "y": [
          8.1,
          8.2,
          7.8,
          7.6,
          7.7,
          7.9,
          7.8,
          8.1,
          8,
          7.7,
          8.1,
          7.6,
          8
         ],
         "yaxis": "y3"
        },
        {
         "hovertemplate": "<b>%{hovertext}</b><br><br>genre_1=Drama<br>Runtime=%{x}<br>IMDb_rating=%{y}<br>actor_1_facebook_likes=%{marker.size}<extra></extra>",
         "hovertext": [
          "Drama",
          "Drama",
          "Drama",
          "Drama",
          "Drama",
          "Drama",
          "Drama",
          "Drama",
          "Drama",
          "Drama",
          "Drama",
          "Drama",
          "Drama",
          "Drama",
          "Drama",
          "Drama",
          "Drama",
          "Drama"
         ],
         "ids": [
          "Drama",
          "Drama",
          "Drama",
          "Drama",
          "Drama",
          "Drama",
          "Drama",
          "Drama",
          "Drama",
          "Drama",
          "Drama",
          "Drama",
          "Drama",
          "Drama",
          "Drama",
          "Drama",
          "Drama",
          "Drama"
         ],
         "legendgroup": "Drama",
         "marker": {
          "color": "#ab63fa",
          "size": [
           35000,
           518,
           39,
           29000,
           20000,
           15000,
           13000,
           15000,
           19000,
           876,
           149,
           20000,
           8000,
           8000,
           678,
           230,
           24000,
           140
          ],
          "sizemode": "area",
          "sizeref": 17.28395061728395,
          "symbol": "circle"
         },
         "mode": "markers",
         "name": "Drama",
         "orientation": "v",
         "showlegend": true,
         "type": "scatter",
         "x": [
          116,
          137,
          91,
          165,
          158,
          142,
          133,
          146,
          126,
          131,
          108,
          108,
          102,
          126,
          127,
          165,
          107,
          109
         ],
         "xaxis": "x4",
         "y": [
          8,
          7.9,
          7.8,
          8.4,
          7.6,
          7.6,
          7.6,
          8.1,
          8,
          7.6,
          7.7,
          8,
          8,
          7.8,
          7.9,
          7.9,
          8.5,
          7.9
         ],
         "yaxis": "y4"
        },
        {
         "hovertemplate": "<b>%{hovertext}</b><br><br>genre_1=Crime<br>Runtime=%{x}<br>IMDb_rating=%{y}<br>actor_1_facebook_likes=%{marker.size}<extra></extra>",
         "hovertext": [
          "Crime",
          "Crime",
          "Crime",
          "Crime",
          "Crime",
          "Crime",
          "Crime",
          "Crime",
          "Crime"
         ],
         "ids": [
          "Crime",
          "Crime",
          "Crime",
          "Crime",
          "Crime",
          "Crime",
          "Crime",
          "Crime",
          "Crime"
         ],
         "legendgroup": "Crime",
         "marker": {
          "color": "#FFA15A",
          "size": [
           19000,
           18000,
           835,
           20000,
           10000,
           745,
           33000,
           15000,
           15000
          ],
          "sizemode": "area",
          "sizeref": 17.28395061728395,
          "symbol": "circle"
         },
         "mode": "markers",
         "name": "Crime",
         "orientation": "v",
         "showlegend": true,
         "type": "scatter",
         "x": [
          102,
          158,
          149,
          153,
          125,
          128,
          100,
          118,
          109
         ],
         "xaxis": "x5",
         "y": [
          7.7,
          7.8,
          8.1,
          8.1,
          7.6,
          8.1,
          7.8,
          7.9,
          7.7
         ],
         "yaxis": "y5"
        },
        {
         "hovertemplate": "<b>%{hovertext}</b><br><br>genre_1=Action<br>Runtime=%{x}<br>IMDb_rating=%{y}<br>actor_1_facebook_likes=%{marker.size}<extra></extra>",
         "hovertext": [
          "Action",
          "Action",
          "Action",
          "Action",
          "Action",
          "Action",
          "Action",
          "Action",
          "Action",
          "Action",
          "Action",
          "Action",
          "Action",
          "Action",
          "Action",
          "Action",
          "Action",
          "Action",
          "Action",
          "Action",
          "Action",
          "Action",
          "Action",
          "Action",
          "Action",
          "Action",
          "Action"
         ],
         "ids": [
          "Action",
          "Action",
          "Action",
          "Action",
          "Action",
          "Action",
          "Action",
          "Action",
          "Action",
          "Action",
          "Action",
          "Action",
          "Action",
          "Action",
          "Action",
          "Action",
          "Action",
          "Action",
          "Action",
          "Action",
          "Action",
          "Action",
          "Action",
          "Action",
          "Action",
          "Action",
          "Action"
         ],
         "legendgroup": "Action",
         "marker": {
          "color": "#19d3f3",
          "size": [
           19000,
           27000,
           21000,
           26000,
           883,
           34000,
           19000,
           10000,
           14000,
           19000,
           10000,
           29000,
           34000,
           27000,
           34000,
           11000,
           11000,
           10000,
           16000,
           1000,
           480,
           26000,
           553,
           455,
           23000,
           27000,
           131
          ],
          "sizemode": "area",
          "sizeref": 17.28395061728395,
          "symbol": "circle"
         },
         "mode": "markers",
         "name": "Action",
         "orientation": "v",
         "showlegend": true,
         "type": "scatter",
         "x": [
          115,
          164,
          147,
          143,
          143,
          132,
          132,
          113,
          121,
          136,
          130,
          148,
          132,
          120,
          146,
          124,
          134,
          112,
          108,
          120,
          121,
          123,
          117,
          121,
          116,
          140,
          136
         ],
         "xaxis": "x6",
         "y": [
          7.6,
          8.4,
          7.9,
          8.1,
          7.8,
          8,
          7.8,
          7.9,
          8.1,
          7.8,
          7.6,
          8.8,
          7.8,
          8.1,
          7.6,
          7.6,
          7.6,
          7.5,
          8,
          7.7,
          7.5,
          8.1,
          7.7,
          7.6,
          7.8,
          8.2,
          8.1
         ],
         "yaxis": "y6"
        },
        {
         "hovertemplate": "<b>%{hovertext}</b><br><br>genre_1=Adventure<br>Runtime=%{x}<br>IMDb_rating=%{y}<br>actor_1_facebook_likes=%{marker.size}<extra></extra>",
         "hovertext": [
          "Adventure",
          "Adventure",
          "Adventure",
          "Adventure",
          "Adventure",
          "Adventure",
          "Adventure",
          "Adventure",
          "Adventure",
          "Adventure",
          "Adventure",
          "Adventure"
         ],
         "ids": [
          "Adventure",
          "Adventure",
          "Adventure",
          "Adventure",
          "Adventure",
          "Adventure",
          "Adventure",
          "Adventure",
          "Adventure",
          "Adventure",
          "Adventure",
          "Adventure"
         ],
         "legendgroup": "Adventure",
         "marker": {
          "color": "#FF6692",
          "size": [
           5000,
           5000,
           17000,
           11000,
           29000,
           13000,
           13000,
           13000,
           11000,
           13000,
           1000,
           10000
          ],
          "sizemode": "area",
          "sizeref": 17.28395061728395,
          "symbol": "circle"
         },
         "mode": "markers",
         "name": "Adventure",
         "orientation": "v",
         "showlegend": true,
         "type": "scatter",
         "x": [
          161,
          169,
          126,
          169,
          156,
          144,
          110,
          99,
          94,
          94,
          115,
          146
         ],
         "xaxis": "x7",
         "y": [
          7.9,
          7.9,
          7.5,
          8.6,
          8,
          8,
          7.6,
          8.1,
          7.6,
          7.8,
          7.7,
          7.7
         ],
         "yaxis": "y7"
        },
        {
         "hovertemplate": "<b>%{hovertext}</b><br><br>genre_1=Mystery<br>Runtime=%{x}<br>IMDb_rating=%{y}<br>actor_1_facebook_likes=%{marker.size}<extra></extra>",
         "hovertext": [
          "Mystery"
         ],
         "ids": [
          "Mystery"
         ],
         "legendgroup": "Mystery",
         "marker": {
          "color": "#B6E880",
          "size": [
           29000
          ],
          "sizemode": "area",
          "sizeref": 17.28395061728395,
          "symbol": "circle"
         },
         "mode": "markers",
         "name": "Mystery",
         "orientation": "v",
         "showlegend": true,
         "type": "scatter",
         "x": [
          138
         ],
         "xaxis": "x8",
         "y": [
          8.1
         ],
         "yaxis": "y8"
        }
       ],
       "layout": {
        "annotations": [
         {
          "font": {},
          "showarrow": false,
          "text": "genre_1=Comedy",
          "x": 0.05375,
          "xanchor": "center",
          "xref": "paper",
          "y": 1,
          "yanchor": "bottom",
          "yref": "paper"
         },
         {
          "font": {},
          "showarrow": false,
          "text": "genre_1=Animation",
          "x": 0.18125,
          "xanchor": "center",
          "xref": "paper",
          "y": 1,
          "yanchor": "bottom",
          "yref": "paper"
         },
         {
          "font": {},
          "showarrow": false,
          "text": "genre_1=Biography",
          "x": 0.30874999999999997,
          "xanchor": "center",
          "xref": "paper",
          "y": 1,
          "yanchor": "bottom",
          "yref": "paper"
         },
         {
          "font": {},
          "showarrow": false,
          "text": "genre_1=Drama",
          "x": 0.43625,
          "xanchor": "center",
          "xref": "paper",
          "y": 1,
          "yanchor": "bottom",
          "yref": "paper"
         },
         {
          "font": {},
          "showarrow": false,
          "text": "genre_1=Crime",
          "x": 0.56375,
          "xanchor": "center",
          "xref": "paper",
          "y": 1,
          "yanchor": "bottom",
          "yref": "paper"
         },
         {
          "font": {},
          "showarrow": false,
          "text": "genre_1=Action",
          "x": 0.6912499999999999,
          "xanchor": "center",
          "xref": "paper",
          "y": 1,
          "yanchor": "bottom",
          "yref": "paper"
         },
         {
          "font": {},
          "showarrow": false,
          "text": "genre_1=Adventure",
          "x": 0.8187500000000001,
          "xanchor": "center",
          "xref": "paper",
          "y": 1,
          "yanchor": "bottom",
          "yref": "paper"
         },
         {
          "font": {},
          "showarrow": false,
          "text": "genre_1=Mystery",
          "x": 0.94625,
          "xanchor": "center",
          "xref": "paper",
          "y": 1,
          "yanchor": "bottom",
          "yref": "paper"
         }
        ],
        "legend": {
         "itemsizing": "constant",
         "title": {
          "text": "genre_1"
         },
         "tracegroupgap": 0
        },
        "margin": {
         "t": 60
        },
        "template": {
         "data": {
          "bar": [
           {
            "error_x": {
             "color": "#2a3f5f"
            },
            "error_y": {
             "color": "#2a3f5f"
            },
            "marker": {
             "line": {
              "color": "#E5ECF6",
              "width": 0.5
             },
             "pattern": {
              "fillmode": "overlay",
              "size": 10,
              "solidity": 0.2
             }
            },
            "type": "bar"
           }
          ],
          "barpolar": [
           {
            "marker": {
             "line": {
              "color": "#E5ECF6",
              "width": 0.5
             },
             "pattern": {
              "fillmode": "overlay",
              "size": 10,
              "solidity": 0.2
             }
            },
            "type": "barpolar"
           }
          ],
          "carpet": [
           {
            "aaxis": {
             "endlinecolor": "#2a3f5f",
             "gridcolor": "white",
             "linecolor": "white",
             "minorgridcolor": "white",
             "startlinecolor": "#2a3f5f"
            },
            "baxis": {
             "endlinecolor": "#2a3f5f",
             "gridcolor": "white",
             "linecolor": "white",
             "minorgridcolor": "white",
             "startlinecolor": "#2a3f5f"
            },
            "type": "carpet"
           }
          ],
          "choropleth": [
           {
            "colorbar": {
             "outlinewidth": 0,
             "ticks": ""
            },
            "type": "choropleth"
           }
          ],
          "contour": [
           {
            "colorbar": {
             "outlinewidth": 0,
             "ticks": ""
            },
            "colorscale": [
             [
              0,
              "#0d0887"
             ],
             [
              0.1111111111111111,
              "#46039f"
             ],
             [
              0.2222222222222222,
              "#7201a8"
             ],
             [
              0.3333333333333333,
              "#9c179e"
             ],
             [
              0.4444444444444444,
              "#bd3786"
             ],
             [
              0.5555555555555556,
              "#d8576b"
             ],
             [
              0.6666666666666666,
              "#ed7953"
             ],
             [
              0.7777777777777778,
              "#fb9f3a"
             ],
             [
              0.8888888888888888,
              "#fdca26"
             ],
             [
              1,
              "#f0f921"
             ]
            ],
            "type": "contour"
           }
          ],
          "contourcarpet": [
           {
            "colorbar": {
             "outlinewidth": 0,
             "ticks": ""
            },
            "type": "contourcarpet"
           }
          ],
          "heatmap": [
           {
            "colorbar": {
             "outlinewidth": 0,
             "ticks": ""
            },
            "colorscale": [
             [
              0,
              "#0d0887"
             ],
             [
              0.1111111111111111,
              "#46039f"
             ],
             [
              0.2222222222222222,
              "#7201a8"
             ],
             [
              0.3333333333333333,
              "#9c179e"
             ],
             [
              0.4444444444444444,
              "#bd3786"
             ],
             [
              0.5555555555555556,
              "#d8576b"
             ],
             [
              0.6666666666666666,
              "#ed7953"
             ],
             [
              0.7777777777777778,
              "#fb9f3a"
             ],
             [
              0.8888888888888888,
              "#fdca26"
             ],
             [
              1,
              "#f0f921"
             ]
            ],
            "type": "heatmap"
           }
          ],
          "heatmapgl": [
           {
            "colorbar": {
             "outlinewidth": 0,
             "ticks": ""
            },
            "colorscale": [
             [
              0,
              "#0d0887"
             ],
             [
              0.1111111111111111,
              "#46039f"
             ],
             [
              0.2222222222222222,
              "#7201a8"
             ],
             [
              0.3333333333333333,
              "#9c179e"
             ],
             [
              0.4444444444444444,
              "#bd3786"
             ],
             [
              0.5555555555555556,
              "#d8576b"
             ],
             [
              0.6666666666666666,
              "#ed7953"
             ],
             [
              0.7777777777777778,
              "#fb9f3a"
             ],
             [
              0.8888888888888888,
              "#fdca26"
             ],
             [
              1,
              "#f0f921"
             ]
            ],
            "type": "heatmapgl"
           }
          ],
          "histogram": [
           {
            "marker": {
             "pattern": {
              "fillmode": "overlay",
              "size": 10,
              "solidity": 0.2
             }
            },
            "type": "histogram"
           }
          ],
          "histogram2d": [
           {
            "colorbar": {
             "outlinewidth": 0,
             "ticks": ""
            },
            "colorscale": [
             [
              0,
              "#0d0887"
             ],
             [
              0.1111111111111111,
              "#46039f"
             ],
             [
              0.2222222222222222,
              "#7201a8"
             ],
             [
              0.3333333333333333,
              "#9c179e"
             ],
             [
              0.4444444444444444,
              "#bd3786"
             ],
             [
              0.5555555555555556,
              "#d8576b"
             ],
             [
              0.6666666666666666,
              "#ed7953"
             ],
             [
              0.7777777777777778,
              "#fb9f3a"
             ],
             [
              0.8888888888888888,
              "#fdca26"
             ],
             [
              1,
              "#f0f921"
             ]
            ],
            "type": "histogram2d"
           }
          ],
          "histogram2dcontour": [
           {
            "colorbar": {
             "outlinewidth": 0,
             "ticks": ""
            },
            "colorscale": [
             [
              0,
              "#0d0887"
             ],
             [
              0.1111111111111111,
              "#46039f"
             ],
             [
              0.2222222222222222,
              "#7201a8"
             ],
             [
              0.3333333333333333,
              "#9c179e"
             ],
             [
              0.4444444444444444,
              "#bd3786"
             ],
             [
              0.5555555555555556,
              "#d8576b"
             ],
             [
              0.6666666666666666,
              "#ed7953"
             ],
             [
              0.7777777777777778,
              "#fb9f3a"
             ],
             [
              0.8888888888888888,
              "#fdca26"
             ],
             [
              1,
              "#f0f921"
             ]
            ],
            "type": "histogram2dcontour"
           }
          ],
          "mesh3d": [
           {
            "colorbar": {
             "outlinewidth": 0,
             "ticks": ""
            },
            "type": "mesh3d"
           }
          ],
          "parcoords": [
           {
            "line": {
             "colorbar": {
              "outlinewidth": 0,
              "ticks": ""
             }
            },
            "type": "parcoords"
           }
          ],
          "pie": [
           {
            "automargin": true,
            "type": "pie"
           }
          ],
          "scatter": [
           {
            "fillpattern": {
             "fillmode": "overlay",
             "size": 10,
             "solidity": 0.2
            },
            "type": "scatter"
           }
          ],
          "scatter3d": [
           {
            "line": {
             "colorbar": {
              "outlinewidth": 0,
              "ticks": ""
             }
            },
            "marker": {
             "colorbar": {
              "outlinewidth": 0,
              "ticks": ""
             }
            },
            "type": "scatter3d"
           }
          ],
          "scattercarpet": [
           {
            "marker": {
             "colorbar": {
              "outlinewidth": 0,
              "ticks": ""
             }
            },
            "type": "scattercarpet"
           }
          ],
          "scattergeo": [
           {
            "marker": {
             "colorbar": {
              "outlinewidth": 0,
              "ticks": ""
             }
            },
            "type": "scattergeo"
           }
          ],
          "scattergl": [
           {
            "marker": {
             "colorbar": {
              "outlinewidth": 0,
              "ticks": ""
             }
            },
            "type": "scattergl"
           }
          ],
          "scattermapbox": [
           {
            "marker": {
             "colorbar": {
              "outlinewidth": 0,
              "ticks": ""
             }
            },
            "type": "scattermapbox"
           }
          ],
          "scatterpolar": [
           {
            "marker": {
             "colorbar": {
              "outlinewidth": 0,
              "ticks": ""
             }
            },
            "type": "scatterpolar"
           }
          ],
          "scatterpolargl": [
           {
            "marker": {
             "colorbar": {
              "outlinewidth": 0,
              "ticks": ""
             }
            },
            "type": "scatterpolargl"
           }
          ],
          "scatterternary": [
           {
            "marker": {
             "colorbar": {
              "outlinewidth": 0,
              "ticks": ""
             }
            },
            "type": "scatterternary"
           }
          ],
          "surface": [
           {
            "colorbar": {
             "outlinewidth": 0,
             "ticks": ""
            },
            "colorscale": [
             [
              0,
              "#0d0887"
             ],
             [
              0.1111111111111111,
              "#46039f"
             ],
             [
              0.2222222222222222,
              "#7201a8"
             ],
             [
              0.3333333333333333,
              "#9c179e"
             ],
             [
              0.4444444444444444,
              "#bd3786"
             ],
             [
              0.5555555555555556,
              "#d8576b"
             ],
             [
              0.6666666666666666,
              "#ed7953"
             ],
             [
              0.7777777777777778,
              "#fb9f3a"
             ],
             [
              0.8888888888888888,
              "#fdca26"
             ],
             [
              1,
              "#f0f921"
             ]
            ],
            "type": "surface"
           }
          ],
          "table": [
           {
            "cells": {
             "fill": {
              "color": "#EBF0F8"
             },
             "line": {
              "color": "white"
             }
            },
            "header": {
             "fill": {
              "color": "#C8D4E3"
             },
             "line": {
              "color": "white"
             }
            },
            "type": "table"
           }
          ]
         },
         "layout": {
          "annotationdefaults": {
           "arrowcolor": "#2a3f5f",
           "arrowhead": 0,
           "arrowwidth": 1
          },
          "autotypenumbers": "strict",
          "coloraxis": {
           "colorbar": {
            "outlinewidth": 0,
            "ticks": ""
           }
          },
          "colorscale": {
           "diverging": [
            [
             0,
             "#8e0152"
            ],
            [
             0.1,
             "#c51b7d"
            ],
            [
             0.2,
             "#de77ae"
            ],
            [
             0.3,
             "#f1b6da"
            ],
            [
             0.4,
             "#fde0ef"
            ],
            [
             0.5,
             "#f7f7f7"
            ],
            [
             0.6,
             "#e6f5d0"
            ],
            [
             0.7,
             "#b8e186"
            ],
            [
             0.8,
             "#7fbc41"
            ],
            [
             0.9,
             "#4d9221"
            ],
            [
             1,
             "#276419"
            ]
           ],
           "sequential": [
            [
             0,
             "#0d0887"
            ],
            [
             0.1111111111111111,
             "#46039f"
            ],
            [
             0.2222222222222222,
             "#7201a8"
            ],
            [
             0.3333333333333333,
             "#9c179e"
            ],
            [
             0.4444444444444444,
             "#bd3786"
            ],
            [
             0.5555555555555556,
             "#d8576b"
            ],
            [
             0.6666666666666666,
             "#ed7953"
            ],
            [
             0.7777777777777778,
             "#fb9f3a"
            ],
            [
             0.8888888888888888,
             "#fdca26"
            ],
            [
             1,
             "#f0f921"
            ]
           ],
           "sequentialminus": [
            [
             0,
             "#0d0887"
            ],
            [
             0.1111111111111111,
             "#46039f"
            ],
            [
             0.2222222222222222,
             "#7201a8"
            ],
            [
             0.3333333333333333,
             "#9c179e"
            ],
            [
             0.4444444444444444,
             "#bd3786"
            ],
            [
             0.5555555555555556,
             "#d8576b"
            ],
            [
             0.6666666666666666,
             "#ed7953"
            ],
            [
             0.7777777777777778,
             "#fb9f3a"
            ],
            [
             0.8888888888888888,
             "#fdca26"
            ],
            [
             1,
             "#f0f921"
            ]
           ]
          },
          "colorway": [
           "#636efa",
           "#EF553B",
           "#00cc96",
           "#ab63fa",
           "#FFA15A",
           "#19d3f3",
           "#FF6692",
           "#B6E880",
           "#FF97FF",
           "#FECB52"
          ],
          "font": {
           "color": "#2a3f5f"
          },
          "geo": {
           "bgcolor": "white",
           "lakecolor": "white",
           "landcolor": "#E5ECF6",
           "showlakes": true,
           "showland": true,
           "subunitcolor": "white"
          },
          "hoverlabel": {
           "align": "left"
          },
          "hovermode": "closest",
          "mapbox": {
           "style": "light"
          },
          "paper_bgcolor": "white",
          "plot_bgcolor": "#E5ECF6",
          "polar": {
           "angularaxis": {
            "gridcolor": "white",
            "linecolor": "white",
            "ticks": ""
           },
           "bgcolor": "#E5ECF6",
           "radialaxis": {
            "gridcolor": "white",
            "linecolor": "white",
            "ticks": ""
           }
          },
          "scene": {
           "xaxis": {
            "backgroundcolor": "#E5ECF6",
            "gridcolor": "white",
            "gridwidth": 2,
            "linecolor": "white",
            "showbackground": true,
            "ticks": "",
            "zerolinecolor": "white"
           },
           "yaxis": {
            "backgroundcolor": "#E5ECF6",
            "gridcolor": "white",
            "gridwidth": 2,
            "linecolor": "white",
            "showbackground": true,
            "ticks": "",
            "zerolinecolor": "white"
           },
           "zaxis": {
            "backgroundcolor": "#E5ECF6",
            "gridcolor": "white",
            "gridwidth": 2,
            "linecolor": "white",
            "showbackground": true,
            "ticks": "",
            "zerolinecolor": "white"
           }
          },
          "shapedefaults": {
           "line": {
            "color": "#2a3f5f"
           }
          },
          "ternary": {
           "aaxis": {
            "gridcolor": "white",
            "linecolor": "white",
            "ticks": ""
           },
           "baxis": {
            "gridcolor": "white",
            "linecolor": "white",
            "ticks": ""
           },
           "bgcolor": "#E5ECF6",
           "caxis": {
            "gridcolor": "white",
            "linecolor": "white",
            "ticks": ""
           }
          },
          "title": {
           "x": 0.05
          },
          "xaxis": {
           "automargin": true,
           "gridcolor": "white",
           "linecolor": "white",
           "ticks": "",
           "title": {
            "standoff": 15
           },
           "zerolinecolor": "white",
           "zerolinewidth": 2
          },
          "yaxis": {
           "automargin": true,
           "gridcolor": "white",
           "linecolor": "white",
           "ticks": "",
           "title": {
            "standoff": 15
           },
           "zerolinecolor": "white",
           "zerolinewidth": 2
          }
         }
        },
        "xaxis": {
         "anchor": "y",
         "domain": [
          0,
          0.1075
         ],
         "range": [
          2,
          2.176091259055681
         ],
         "title": {
          "text": "Runtime"
         },
         "type": "log"
        },
        "xaxis2": {
         "anchor": "y2",
         "domain": [
          0.1275,
          0.235
         ],
         "matches": "x",
         "range": [
          2,
          2.176091259055681
         ],
         "title": {
          "text": "Runtime"
         },
         "type": "log"
        },
        "xaxis3": {
         "anchor": "y3",
         "domain": [
          0.255,
          0.3625
         ],
         "matches": "x",
         "range": [
          2,
          2.176091259055681
         ],
         "title": {
          "text": "Runtime"
         },
         "type": "log"
        },
        "xaxis4": {
         "anchor": "y4",
         "domain": [
          0.3825,
          0.49
         ],
         "matches": "x",
         "range": [
          2,
          2.176091259055681
         ],
         "title": {
          "text": "Runtime"
         },
         "type": "log"
        },
        "xaxis5": {
         "anchor": "y5",
         "domain": [
          0.51,
          0.6175
         ],
         "matches": "x",
         "range": [
          2,
          2.176091259055681
         ],
         "title": {
          "text": "Runtime"
         },
         "type": "log"
        },
        "xaxis6": {
         "anchor": "y6",
         "domain": [
          0.6375,
          0.745
         ],
         "matches": "x",
         "range": [
          2,
          2.176091259055681
         ],
         "title": {
          "text": "Runtime"
         },
         "type": "log"
        },
        "xaxis7": {
         "anchor": "y7",
         "domain": [
          0.765,
          0.8725
         ],
         "matches": "x",
         "range": [
          2,
          2.176091259055681
         ],
         "title": {
          "text": "Runtime"
         },
         "type": "log"
        },
        "xaxis8": {
         "anchor": "y8",
         "domain": [
          0.8925,
          1
         ],
         "matches": "x",
         "range": [
          2,
          2.176091259055681
         ],
         "title": {
          "text": "Runtime"
         },
         "type": "log"
        },
        "yaxis": {
         "anchor": "x",
         "domain": [
          0,
          1
         ],
         "range": [
          7.4,
          8.9
         ],
         "title": {
          "text": "IMDb_rating"
         }
        },
        "yaxis2": {
         "anchor": "x2",
         "domain": [
          0,
          1
         ],
         "matches": "y",
         "showticklabels": false
        },
        "yaxis3": {
         "anchor": "x3",
         "domain": [
          0,
          1
         ],
         "matches": "y",
         "showticklabels": false
        },
        "yaxis4": {
         "anchor": "x4",
         "domain": [
          0,
          1
         ],
         "matches": "y",
         "showticklabels": false
        },
        "yaxis5": {
         "anchor": "x5",
         "domain": [
          0,
          1
         ],
         "matches": "y",
         "showticklabels": false
        },
        "yaxis6": {
         "anchor": "x6",
         "domain": [
          0,
          1
         ],
         "matches": "y",
         "showticklabels": false
        },
        "yaxis7": {
         "anchor": "x7",
         "domain": [
          0,
          1
         ],
         "matches": "y",
         "showticklabels": false
        },
        "yaxis8": {
         "anchor": "x8",
         "domain": [
          0,
          1
         ],
         "matches": "y",
         "showticklabels": false
        }
       }
      }
     },
     "metadata": {},
     "output_type": "display_data"
    },
    {
     "data": {
      "text/plain": [
       "<Figure size 30000x32000 with 0 Axes>"
      ]
     },
     "metadata": {},
     "output_type": "display_data"
    }
   ],
   "source": [
    "import plotly.express as px\n",
    "plt.figure(figsize=[300,320])\n",
    "fig = px.scatter(info, x=\"Runtime\", y=\"IMDb_rating\", \n",
    "                 animation_group=\"genre_1\",size=\"actor_1_facebook_likes\",\n",
    "                 color=\"genre_1\",facet_col=\"genre_1\", \n",
    "                 hover_name=\"genre_1\",log_x=True, size_max=45, range_x=[100,150], range_y=[7.4,8.9])\n",
    "fig.show()"
   ]
  },
  {
   "cell_type": "code",
   "execution_count": 20,
   "metadata": {},
   "outputs": [
    {
     "data": {
      "application/vnd.plotly.v1+json": {
       "config": {
        "plotlyServerURL": "https://plot.ly"
       },
       "data": [
        {
         "hovertemplate": "genre_1=Comedy<br>budget=%{x}<br>Gross=%{y}<extra></extra>",
         "legendgroup": "Comedy",
         "marker": {
          "color": "#636efa",
          "symbol": "circle"
         },
         "mode": "markers",
         "name": "Comedy",
         "orientation": "v",
         "showlegend": true,
         "type": "scatter",
         "x": [
          30000000,
          21000000,
          18000000,
          17000000,
          15000000,
          14000000,
          12000000,
          8000000,
          5000000
         ],
         "xaxis": "x",
         "y": [
          151101803,
          132088910,
          42335698,
          56816662,
          44667095,
          1752214,
          15294553,
          34963967,
          223838
         ],
         "yaxis": "y"
        },
        {
         "alignmentgroup": "True",
         "bingroup": "x",
         "hovertemplate": "genre_1=Comedy<br>budget=%{x}<br>count=%{y}<extra></extra>",
         "legendgroup": "Comedy",
         "marker": {
          "color": "#636efa"
         },
         "name": "Comedy",
         "offsetgroup": "Comedy",
         "opacity": 0.5,
         "showlegend": false,
         "type": "histogram",
         "x": [
          30000000,
          21000000,
          18000000,
          17000000,
          15000000,
          14000000,
          12000000,
          8000000,
          5000000
         ],
         "xaxis": "x3",
         "yaxis": "y3"
        },
        {
         "alignmentgroup": "True",
         "boxpoints": "all",
         "fillcolor": "rgba(255,255,255,0)",
         "hoveron": "points",
         "hovertemplate": "genre_1=Comedy<br>Gross=%{y}<extra></extra>",
         "jitter": 0,
         "legendgroup": "Comedy",
         "line": {
          "color": "rgba(255,255,255,0)"
         },
         "marker": {
          "color": "#636efa",
          "symbol": "line-ew-open"
         },
         "name": "Comedy",
         "offsetgroup": "Comedy",
         "showlegend": false,
         "type": "box",
         "xaxis": "x2",
         "y": [
          151101803,
          132088910,
          42335698,
          56816662,
          44667095,
          1752214,
          15294553,
          34963967,
          223838
         ],
         "yaxis": "y2"
        },
        {
         "hovertemplate": "genre_1=Animation<br>budget=%{x}<br>Gross=%{y}<extra></extra>",
         "legendgroup": "Animation",
         "marker": {
          "color": "#EF553B",
          "symbol": "circle"
         },
         "mode": "markers",
         "name": "Animation",
         "orientation": "v",
         "showlegend": true,
         "type": "scatter",
         "x": [
          150000000,
          260000000,
          200000000,
          175000000,
          165000000,
          165000000,
          165000000,
          145000000,
          81200000,
          69000000,
          60000000
         ],
         "xaxis": "x",
         "y": [
          341268248,
          200807262,
          414984497,
          356454367,
          222487711,
          217387997,
          189412677,
          176997107,
          1339152,
          251501645,
          257756197
         ],
         "yaxis": "y"
        },
        {
         "alignmentgroup": "True",
         "bingroup": "x",
         "hovertemplate": "genre_1=Animation<br>budget=%{x}<br>count=%{y}<extra></extra>",
         "legendgroup": "Animation",
         "marker": {
          "color": "#EF553B"
         },
         "name": "Animation",
         "offsetgroup": "Animation",
         "opacity": 0.5,
         "showlegend": false,
         "type": "histogram",
         "x": [
          150000000,
          260000000,
          200000000,
          175000000,
          165000000,
          165000000,
          165000000,
          145000000,
          81200000,
          69000000,
          60000000
         ],
         "xaxis": "x3",
         "yaxis": "y3"
        },
        {
         "alignmentgroup": "True",
         "boxpoints": "all",
         "fillcolor": "rgba(255,255,255,0)",
         "hoveron": "points",
         "hovertemplate": "genre_1=Animation<br>Gross=%{y}<extra></extra>",
         "jitter": 0,
         "legendgroup": "Animation",
         "line": {
          "color": "rgba(255,255,255,0)"
         },
         "marker": {
          "color": "#EF553B",
          "symbol": "line-ew-open"
         },
         "name": "Animation",
         "offsetgroup": "Animation",
         "showlegend": false,
         "type": "box",
         "xaxis": "x2",
         "y": [
          341268248,
          200807262,
          414984497,
          356454367,
          222487711,
          217387997,
          189412677,
          176997107,
          1339152,
          251501645,
          257756197
         ],
         "yaxis": "y2"
        },
        {
         "hovertemplate": "genre_1=Biography<br>budget=%{x}<br>Gross=%{y}<extra></extra>",
         "legendgroup": "Biography",
         "marker": {
          "color": "#00cc96",
          "symbol": "circle"
         },
         "mode": "markers",
         "name": "Biography",
         "orientation": "v",
         "showlegend": true,
         "type": "scatter",
         "x": [
          12000000,
          100000000,
          55000000,
          50000000,
          40000000,
          28000000,
          28000000,
          20000000,
          15000000,
          15000000,
          14000000,
          12000000,
          5000000
         ],
         "xaxis": "x",
         "y": [
          51738905,
          116866727,
          107100855,
          75605492,
          96917897,
          161029270,
          70235322,
          56667870,
          138795342,
          35887263,
          91121452,
          37707719,
          27296514
         ],
         "yaxis": "y"
        },
        {
         "alignmentgroup": "True",
         "bingroup": "x",
         "hovertemplate": "genre_1=Biography<br>budget=%{x}<br>count=%{y}<extra></extra>",
         "legendgroup": "Biography",
         "marker": {
          "color": "#00cc96"
         },
         "name": "Biography",
         "offsetgroup": "Biography",
         "opacity": 0.5,
         "showlegend": false,
         "type": "histogram",
         "x": [
          12000000,
          100000000,
          55000000,
          50000000,
          40000000,
          28000000,
          28000000,
          20000000,
          15000000,
          15000000,
          14000000,
          12000000,
          5000000
         ],
         "xaxis": "x3",
         "yaxis": "y3"
        },
        {
         "alignmentgroup": "True",
         "boxpoints": "all",
         "fillcolor": "rgba(255,255,255,0)",
         "hoveron": "points",
         "hovertemplate": "genre_1=Biography<br>Gross=%{y}<extra></extra>",
         "jitter": 0,
         "legendgroup": "Biography",
         "line": {
          "color": "rgba(255,255,255,0)"
         },
         "marker": {
          "color": "#00cc96",
          "symbol": "line-ew-open"
         },
         "name": "Biography",
         "offsetgroup": "Biography",
         "showlegend": false,
         "type": "box",
         "xaxis": "x2",
         "y": [
          51738905,
          116866727,
          107100855,
          75605492,
          96917897,
          161029270,
          70235322,
          56667870,
          138795342,
          35887263,
          91121452,
          37707719,
          27296514
         ],
         "yaxis": "y2"
        },
        {
         "hovertemplate": "genre_1=Drama<br>budget=%{x}<br>Gross=%{y}<extra></extra>",
         "legendgroup": "Drama",
         "marker": {
          "color": "#ab63fa",
          "symbol": "circle"
         },
         "mode": "markers",
         "name": "Drama",
         "orientation": "v",
         "showlegend": true,
         "type": "scatter",
         "x": [
          47000000,
          9000000,
          100000000,
          100000000,
          61000000,
          40000000,
          35000000,
          25000000,
          23000000,
          19000000,
          15000000,
          13000000,
          13000000,
          12000000,
          8900000,
          4000000,
          3300000,
          3000000
         ],
         "xaxis": "x",
         "y": [
          100546139,
          47695371,
          274084951,
          162804648,
          148775460,
          72306065,
          109712885,
          169705587,
          25556065,
          21483154,
          25440971,
          106952327,
          17738570,
          124868837,
          225377,
          25359200,
          13092000,
          8114507
         ],
         "yaxis": "y"
        },
        {
         "alignmentgroup": "True",
         "bingroup": "x",
         "hovertemplate": "genre_1=Drama<br>budget=%{x}<br>count=%{y}<extra></extra>",
         "legendgroup": "Drama",
         "marker": {
          "color": "#ab63fa"
         },
         "name": "Drama",
         "offsetgroup": "Drama",
         "opacity": 0.5,
         "showlegend": false,
         "type": "histogram",
         "x": [
          47000000,
          9000000,
          100000000,
          100000000,
          61000000,
          40000000,
          35000000,
          25000000,
          23000000,
          19000000,
          15000000,
          13000000,
          13000000,
          12000000,
          8900000,
          4000000,
          3300000,
          3000000
         ],
         "xaxis": "x3",
         "yaxis": "y3"
        },
        {
         "alignmentgroup": "True",
         "boxpoints": "all",
         "fillcolor": "rgba(255,255,255,0)",
         "hoveron": "points",
         "hovertemplate": "genre_1=Drama<br>Gross=%{y}<extra></extra>",
         "jitter": 0,
         "legendgroup": "Drama",
         "line": {
          "color": "rgba(255,255,255,0)"
         },
         "marker": {
          "color": "#ab63fa",
          "symbol": "line-ew-open"
         },
         "name": "Drama",
         "offsetgroup": "Drama",
         "showlegend": false,
         "type": "box",
         "xaxis": "x2",
         "y": [
          100546139,
          47695371,
          274084951,
          162804648,
          148775460,
          72306065,
          109712885,
          169705587,
          25556065,
          21483154,
          25440971,
          106952327,
          17738570,
          124868837,
          225377,
          25359200,
          13092000,
          8114507
         ],
         "yaxis": "y2"
        },
        {
         "hovertemplate": "genre_1=Crime<br>budget=%{x}<br>Gross=%{y}<extra></extra>",
         "legendgroup": "Crime",
         "marker": {
          "color": "#FFA15A",
          "symbol": "circle"
         },
         "mode": "markers",
         "name": "Crime",
         "orientation": "v",
         "showlegend": true,
         "type": "scatter",
         "x": [
          12000000,
          90000000,
          61000000,
          46000000,
          37000000,
          20000000,
          15000000,
          8500000,
          7000000
         ],
         "xaxis": "x",
         "y": [
          27007844,
          102515793,
          167735396,
          60962878,
          92173235,
          44988180,
          35054909,
          32279955,
          40983001
         ],
         "yaxis": "y"
        },
        {
         "alignmentgroup": "True",
         "bingroup": "x",
         "hovertemplate": "genre_1=Crime<br>budget=%{x}<br>count=%{y}<extra></extra>",
         "legendgroup": "Crime",
         "marker": {
          "color": "#FFA15A"
         },
         "name": "Crime",
         "offsetgroup": "Crime",
         "opacity": 0.5,
         "showlegend": false,
         "type": "histogram",
         "x": [
          12000000,
          90000000,
          61000000,
          46000000,
          37000000,
          20000000,
          15000000,
          8500000,
          7000000
         ],
         "xaxis": "x3",
         "yaxis": "y3"
        },
        {
         "alignmentgroup": "True",
         "boxpoints": "all",
         "fillcolor": "rgba(255,255,255,0)",
         "hoveron": "points",
         "hovertemplate": "genre_1=Crime<br>Gross=%{y}<extra></extra>",
         "jitter": 0,
         "legendgroup": "Crime",
         "line": {
          "color": "rgba(255,255,255,0)"
         },
         "marker": {
          "color": "#FFA15A",
          "symbol": "line-ew-open"
         },
         "name": "Crime",
         "offsetgroup": "Crime",
         "showlegend": false,
         "type": "box",
         "xaxis": "x2",
         "y": [
          27007844,
          102515793,
          167735396,
          60962878,
          92173235,
          44988180,
          35054909,
          32279955,
          40983001
         ],
         "yaxis": "y2"
        },
        {
         "hovertemplate": "genre_1=Action<br>budget=%{x}<br>Gross=%{y}<extra></extra>",
         "legendgroup": "Action",
         "marker": {
          "color": "#19d3f3",
          "symbol": "circle"
         },
         "mode": "markers",
         "name": "Action",
         "orientation": "v",
         "showlegend": true,
         "type": "scatter",
         "x": [
          165000000,
          250000000,
          250000000,
          220000000,
          200000000,
          200000000,
          190000000,
          178000000,
          170000000,
          170000000,
          170000000,
          160000000,
          160000000,
          150000000,
          130000000,
          93000000,
          68000000,
          60000000,
          58000000,
          44500000,
          40000000,
          38000000,
          30000000,
          30000000,
          25000000,
          25000000,
          245000000
         ],
         "xaxis": "x",
         "y": [
          232641920,
          448130642,
          407197282,
          623279547,
          304360277,
          233914986,
          228756232,
          100189501,
          333130696,
          259746958,
          208543795,
          292568851,
          146405371,
          153629485,
          424645577,
          176740650,
          85707116,
          31494270,
          363024263,
          136019448,
          125069696,
          26903709,
          48043505,
          46875468,
          93571803,
          13651662,
          936662225
         ],
         "yaxis": "y"
        },
        {
         "alignmentgroup": "True",
         "bingroup": "x",
         "hovertemplate": "genre_1=Action<br>budget=%{x}<br>count=%{y}<extra></extra>",
         "legendgroup": "Action",
         "marker": {
          "color": "#19d3f3"
         },
         "name": "Action",
         "offsetgroup": "Action",
         "opacity": 0.5,
         "showlegend": false,
         "type": "histogram",
         "x": [
          165000000,
          250000000,
          250000000,
          220000000,
          200000000,
          200000000,
          190000000,
          178000000,
          170000000,
          170000000,
          170000000,
          160000000,
          160000000,
          150000000,
          130000000,
          93000000,
          68000000,
          60000000,
          58000000,
          44500000,
          40000000,
          38000000,
          30000000,
          30000000,
          25000000,
          25000000,
          245000000
         ],
         "xaxis": "x3",
         "yaxis": "y3"
        },
        {
         "alignmentgroup": "True",
         "boxpoints": "all",
         "fillcolor": "rgba(255,255,255,0)",
         "hoveron": "points",
         "hovertemplate": "genre_1=Action<br>Gross=%{y}<extra></extra>",
         "jitter": 0,
         "legendgroup": "Action",
         "line": {
          "color": "rgba(255,255,255,0)"
         },
         "marker": {
          "color": "#19d3f3",
          "symbol": "line-ew-open"
         },
         "name": "Action",
         "offsetgroup": "Action",
         "showlegend": false,
         "type": "box",
         "xaxis": "x2",
         "y": [
          232641920,
          448130642,
          407197282,
          623279547,
          304360277,
          233914986,
          228756232,
          100189501,
          333130696,
          259746958,
          208543795,
          292568851,
          146405371,
          153629485,
          424645577,
          176740650,
          85707116,
          31494270,
          363024263,
          136019448,
          125069696,
          26903709,
          48043505,
          46875468,
          93571803,
          13651662,
          936662225
         ],
         "yaxis": "y2"
        },
        {
         "hovertemplate": "genre_1=Adventure<br>budget=%{x}<br>Gross=%{y}<extra></extra>",
         "legendgroup": "Adventure",
         "marker": {
          "color": "#FF6692",
          "symbol": "circle"
         },
         "mode": "markers",
         "name": "Adventure",
         "orientation": "v",
         "showlegend": true,
         "type": "scatter",
         "x": [
          225000000,
          180000000,
          170000000,
          165000000,
          135000000,
          108000000,
          38000000,
          25000000,
          18000000,
          16000000,
          12000000,
          150000000
         ],
         "xaxis": "x",
         "y": [
          258355354,
          303001229,
          73820094,
          187991439,
          183635922,
          228430993,
          171031347,
          59073773,
          18329466,
          45507053,
          17613460,
          296347721
         ],
         "yaxis": "y"
        },
        {
         "alignmentgroup": "True",
         "bingroup": "x",
         "hovertemplate": "genre_1=Adventure<br>budget=%{x}<br>count=%{y}<extra></extra>",
         "legendgroup": "Adventure",
         "marker": {
          "color": "#FF6692"
         },
         "name": "Adventure",
         "offsetgroup": "Adventure",
         "opacity": 0.5,
         "showlegend": false,
         "type": "histogram",
         "x": [
          225000000,
          180000000,
          170000000,
          165000000,
          135000000,
          108000000,
          38000000,
          25000000,
          18000000,
          16000000,
          12000000,
          150000000
         ],
         "xaxis": "x3",
         "yaxis": "y3"
        },
        {
         "alignmentgroup": "True",
         "boxpoints": "all",
         "fillcolor": "rgba(255,255,255,0)",
         "hoveron": "points",
         "hovertemplate": "genre_1=Adventure<br>Gross=%{y}<extra></extra>",
         "jitter": 0,
         "legendgroup": "Adventure",
         "line": {
          "color": "rgba(255,255,255,0)"
         },
         "marker": {
          "color": "#FF6692",
          "symbol": "line-ew-open"
         },
         "name": "Adventure",
         "offsetgroup": "Adventure",
         "showlegend": false,
         "type": "box",
         "xaxis": "x2",
         "y": [
          258355354,
          303001229,
          73820094,
          187991439,
          183635922,
          228430993,
          171031347,
          59073773,
          18329466,
          45507053,
          17613460,
          296347721
         ],
         "yaxis": "y2"
        },
        {
         "hovertemplate": "genre_1=Mystery<br>budget=%{x}<br>Gross=%{y}<extra></extra>",
         "legendgroup": "Mystery",
         "marker": {
          "color": "#B6E880",
          "symbol": "circle"
         },
         "mode": "markers",
         "name": "Mystery",
         "orientation": "v",
         "showlegend": true,
         "type": "scatter",
         "x": [
          80000000
         ],
         "xaxis": "x",
         "y": [
          127968405
         ],
         "yaxis": "y"
        },
        {
         "alignmentgroup": "True",
         "bingroup": "x",
         "hovertemplate": "genre_1=Mystery<br>budget=%{x}<br>count=%{y}<extra></extra>",
         "legendgroup": "Mystery",
         "marker": {
          "color": "#B6E880"
         },
         "name": "Mystery",
         "offsetgroup": "Mystery",
         "opacity": 0.5,
         "showlegend": false,
         "type": "histogram",
         "x": [
          80000000
         ],
         "xaxis": "x3",
         "yaxis": "y3"
        },
        {
         "alignmentgroup": "True",
         "boxpoints": "all",
         "fillcolor": "rgba(255,255,255,0)",
         "hoveron": "points",
         "hovertemplate": "genre_1=Mystery<br>Gross=%{y}<extra></extra>",
         "jitter": 0,
         "legendgroup": "Mystery",
         "line": {
          "color": "rgba(255,255,255,0)"
         },
         "marker": {
          "color": "#B6E880",
          "symbol": "line-ew-open"
         },
         "name": "Mystery",
         "offsetgroup": "Mystery",
         "showlegend": false,
         "type": "box",
         "xaxis": "x2",
         "y": [
          127968405
         ],
         "yaxis": "y2"
        }
       ],
       "layout": {
        "barmode": "overlay",
        "legend": {
         "title": {
          "text": "genre_1"
         },
         "tracegroupgap": 0
        },
        "margin": {
         "t": 60
        },
        "template": {
         "data": {
          "bar": [
           {
            "error_x": {
             "color": "#2a3f5f"
            },
            "error_y": {
             "color": "#2a3f5f"
            },
            "marker": {
             "line": {
              "color": "#E5ECF6",
              "width": 0.5
             },
             "pattern": {
              "fillmode": "overlay",
              "size": 10,
              "solidity": 0.2
             }
            },
            "type": "bar"
           }
          ],
          "barpolar": [
           {
            "marker": {
             "line": {
              "color": "#E5ECF6",
              "width": 0.5
             },
             "pattern": {
              "fillmode": "overlay",
              "size": 10,
              "solidity": 0.2
             }
            },
            "type": "barpolar"
           }
          ],
          "carpet": [
           {
            "aaxis": {
             "endlinecolor": "#2a3f5f",
             "gridcolor": "white",
             "linecolor": "white",
             "minorgridcolor": "white",
             "startlinecolor": "#2a3f5f"
            },
            "baxis": {
             "endlinecolor": "#2a3f5f",
             "gridcolor": "white",
             "linecolor": "white",
             "minorgridcolor": "white",
             "startlinecolor": "#2a3f5f"
            },
            "type": "carpet"
           }
          ],
          "choropleth": [
           {
            "colorbar": {
             "outlinewidth": 0,
             "ticks": ""
            },
            "type": "choropleth"
           }
          ],
          "contour": [
           {
            "colorbar": {
             "outlinewidth": 0,
             "ticks": ""
            },
            "colorscale": [
             [
              0,
              "#0d0887"
             ],
             [
              0.1111111111111111,
              "#46039f"
             ],
             [
              0.2222222222222222,
              "#7201a8"
             ],
             [
              0.3333333333333333,
              "#9c179e"
             ],
             [
              0.4444444444444444,
              "#bd3786"
             ],
             [
              0.5555555555555556,
              "#d8576b"
             ],
             [
              0.6666666666666666,
              "#ed7953"
             ],
             [
              0.7777777777777778,
              "#fb9f3a"
             ],
             [
              0.8888888888888888,
              "#fdca26"
             ],
             [
              1,
              "#f0f921"
             ]
            ],
            "type": "contour"
           }
          ],
          "contourcarpet": [
           {
            "colorbar": {
             "outlinewidth": 0,
             "ticks": ""
            },
            "type": "contourcarpet"
           }
          ],
          "heatmap": [
           {
            "colorbar": {
             "outlinewidth": 0,
             "ticks": ""
            },
            "colorscale": [
             [
              0,
              "#0d0887"
             ],
             [
              0.1111111111111111,
              "#46039f"
             ],
             [
              0.2222222222222222,
              "#7201a8"
             ],
             [
              0.3333333333333333,
              "#9c179e"
             ],
             [
              0.4444444444444444,
              "#bd3786"
             ],
             [
              0.5555555555555556,
              "#d8576b"
             ],
             [
              0.6666666666666666,
              "#ed7953"
             ],
             [
              0.7777777777777778,
              "#fb9f3a"
             ],
             [
              0.8888888888888888,
              "#fdca26"
             ],
             [
              1,
              "#f0f921"
             ]
            ],
            "type": "heatmap"
           }
          ],
          "heatmapgl": [
           {
            "colorbar": {
             "outlinewidth": 0,
             "ticks": ""
            },
            "colorscale": [
             [
              0,
              "#0d0887"
             ],
             [
              0.1111111111111111,
              "#46039f"
             ],
             [
              0.2222222222222222,
              "#7201a8"
             ],
             [
              0.3333333333333333,
              "#9c179e"
             ],
             [
              0.4444444444444444,
              "#bd3786"
             ],
             [
              0.5555555555555556,
              "#d8576b"
             ],
             [
              0.6666666666666666,
              "#ed7953"
             ],
             [
              0.7777777777777778,
              "#fb9f3a"
             ],
             [
              0.8888888888888888,
              "#fdca26"
             ],
             [
              1,
              "#f0f921"
             ]
            ],
            "type": "heatmapgl"
           }
          ],
          "histogram": [
           {
            "marker": {
             "pattern": {
              "fillmode": "overlay",
              "size": 10,
              "solidity": 0.2
             }
            },
            "type": "histogram"
           }
          ],
          "histogram2d": [
           {
            "colorbar": {
             "outlinewidth": 0,
             "ticks": ""
            },
            "colorscale": [
             [
              0,
              "#0d0887"
             ],
             [
              0.1111111111111111,
              "#46039f"
             ],
             [
              0.2222222222222222,
              "#7201a8"
             ],
             [
              0.3333333333333333,
              "#9c179e"
             ],
             [
              0.4444444444444444,
              "#bd3786"
             ],
             [
              0.5555555555555556,
              "#d8576b"
             ],
             [
              0.6666666666666666,
              "#ed7953"
             ],
             [
              0.7777777777777778,
              "#fb9f3a"
             ],
             [
              0.8888888888888888,
              "#fdca26"
             ],
             [
              1,
              "#f0f921"
             ]
            ],
            "type": "histogram2d"
           }
          ],
          "histogram2dcontour": [
           {
            "colorbar": {
             "outlinewidth": 0,
             "ticks": ""
            },
            "colorscale": [
             [
              0,
              "#0d0887"
             ],
             [
              0.1111111111111111,
              "#46039f"
             ],
             [
              0.2222222222222222,
              "#7201a8"
             ],
             [
              0.3333333333333333,
              "#9c179e"
             ],
             [
              0.4444444444444444,
              "#bd3786"
             ],
             [
              0.5555555555555556,
              "#d8576b"
             ],
             [
              0.6666666666666666,
              "#ed7953"
             ],
             [
              0.7777777777777778,
              "#fb9f3a"
             ],
             [
              0.8888888888888888,
              "#fdca26"
             ],
             [
              1,
              "#f0f921"
             ]
            ],
            "type": "histogram2dcontour"
           }
          ],
          "mesh3d": [
           {
            "colorbar": {
             "outlinewidth": 0,
             "ticks": ""
            },
            "type": "mesh3d"
           }
          ],
          "parcoords": [
           {
            "line": {
             "colorbar": {
              "outlinewidth": 0,
              "ticks": ""
             }
            },
            "type": "parcoords"
           }
          ],
          "pie": [
           {
            "automargin": true,
            "type": "pie"
           }
          ],
          "scatter": [
           {
            "fillpattern": {
             "fillmode": "overlay",
             "size": 10,
             "solidity": 0.2
            },
            "type": "scatter"
           }
          ],
          "scatter3d": [
           {
            "line": {
             "colorbar": {
              "outlinewidth": 0,
              "ticks": ""
             }
            },
            "marker": {
             "colorbar": {
              "outlinewidth": 0,
              "ticks": ""
             }
            },
            "type": "scatter3d"
           }
          ],
          "scattercarpet": [
           {
            "marker": {
             "colorbar": {
              "outlinewidth": 0,
              "ticks": ""
             }
            },
            "type": "scattercarpet"
           }
          ],
          "scattergeo": [
           {
            "marker": {
             "colorbar": {
              "outlinewidth": 0,
              "ticks": ""
             }
            },
            "type": "scattergeo"
           }
          ],
          "scattergl": [
           {
            "marker": {
             "colorbar": {
              "outlinewidth": 0,
              "ticks": ""
             }
            },
            "type": "scattergl"
           }
          ],
          "scattermapbox": [
           {
            "marker": {
             "colorbar": {
              "outlinewidth": 0,
              "ticks": ""
             }
            },
            "type": "scattermapbox"
           }
          ],
          "scatterpolar": [
           {
            "marker": {
             "colorbar": {
              "outlinewidth": 0,
              "ticks": ""
             }
            },
            "type": "scatterpolar"
           }
          ],
          "scatterpolargl": [
           {
            "marker": {
             "colorbar": {
              "outlinewidth": 0,
              "ticks": ""
             }
            },
            "type": "scatterpolargl"
           }
          ],
          "scatterternary": [
           {
            "marker": {
             "colorbar": {
              "outlinewidth": 0,
              "ticks": ""
             }
            },
            "type": "scatterternary"
           }
          ],
          "surface": [
           {
            "colorbar": {
             "outlinewidth": 0,
             "ticks": ""
            },
            "colorscale": [
             [
              0,
              "#0d0887"
             ],
             [
              0.1111111111111111,
              "#46039f"
             ],
             [
              0.2222222222222222,
              "#7201a8"
             ],
             [
              0.3333333333333333,
              "#9c179e"
             ],
             [
              0.4444444444444444,
              "#bd3786"
             ],
             [
              0.5555555555555556,
              "#d8576b"
             ],
             [
              0.6666666666666666,
              "#ed7953"
             ],
             [
              0.7777777777777778,
              "#fb9f3a"
             ],
             [
              0.8888888888888888,
              "#fdca26"
             ],
             [
              1,
              "#f0f921"
             ]
            ],
            "type": "surface"
           }
          ],
          "table": [
           {
            "cells": {
             "fill": {
              "color": "#EBF0F8"
             },
             "line": {
              "color": "white"
             }
            },
            "header": {
             "fill": {
              "color": "#C8D4E3"
             },
             "line": {
              "color": "white"
             }
            },
            "type": "table"
           }
          ]
         },
         "layout": {
          "annotationdefaults": {
           "arrowcolor": "#2a3f5f",
           "arrowhead": 0,
           "arrowwidth": 1
          },
          "autotypenumbers": "strict",
          "coloraxis": {
           "colorbar": {
            "outlinewidth": 0,
            "ticks": ""
           }
          },
          "colorscale": {
           "diverging": [
            [
             0,
             "#8e0152"
            ],
            [
             0.1,
             "#c51b7d"
            ],
            [
             0.2,
             "#de77ae"
            ],
            [
             0.3,
             "#f1b6da"
            ],
            [
             0.4,
             "#fde0ef"
            ],
            [
             0.5,
             "#f7f7f7"
            ],
            [
             0.6,
             "#e6f5d0"
            ],
            [
             0.7,
             "#b8e186"
            ],
            [
             0.8,
             "#7fbc41"
            ],
            [
             0.9,
             "#4d9221"
            ],
            [
             1,
             "#276419"
            ]
           ],
           "sequential": [
            [
             0,
             "#0d0887"
            ],
            [
             0.1111111111111111,
             "#46039f"
            ],
            [
             0.2222222222222222,
             "#7201a8"
            ],
            [
             0.3333333333333333,
             "#9c179e"
            ],
            [
             0.4444444444444444,
             "#bd3786"
            ],
            [
             0.5555555555555556,
             "#d8576b"
            ],
            [
             0.6666666666666666,
             "#ed7953"
            ],
            [
             0.7777777777777778,
             "#fb9f3a"
            ],
            [
             0.8888888888888888,
             "#fdca26"
            ],
            [
             1,
             "#f0f921"
            ]
           ],
           "sequentialminus": [
            [
             0,
             "#0d0887"
            ],
            [
             0.1111111111111111,
             "#46039f"
            ],
            [
             0.2222222222222222,
             "#7201a8"
            ],
            [
             0.3333333333333333,
             "#9c179e"
            ],
            [
             0.4444444444444444,
             "#bd3786"
            ],
            [
             0.5555555555555556,
             "#d8576b"
            ],
            [
             0.6666666666666666,
             "#ed7953"
            ],
            [
             0.7777777777777778,
             "#fb9f3a"
            ],
            [
             0.8888888888888888,
             "#fdca26"
            ],
            [
             1,
             "#f0f921"
            ]
           ]
          },
          "colorway": [
           "#636efa",
           "#EF553B",
           "#00cc96",
           "#ab63fa",
           "#FFA15A",
           "#19d3f3",
           "#FF6692",
           "#B6E880",
           "#FF97FF",
           "#FECB52"
          ],
          "font": {
           "color": "#2a3f5f"
          },
          "geo": {
           "bgcolor": "white",
           "lakecolor": "white",
           "landcolor": "#E5ECF6",
           "showlakes": true,
           "showland": true,
           "subunitcolor": "white"
          },
          "hoverlabel": {
           "align": "left"
          },
          "hovermode": "closest",
          "mapbox": {
           "style": "light"
          },
          "paper_bgcolor": "white",
          "plot_bgcolor": "#E5ECF6",
          "polar": {
           "angularaxis": {
            "gridcolor": "white",
            "linecolor": "white",
            "ticks": ""
           },
           "bgcolor": "#E5ECF6",
           "radialaxis": {
            "gridcolor": "white",
            "linecolor": "white",
            "ticks": ""
           }
          },
          "scene": {
           "xaxis": {
            "backgroundcolor": "#E5ECF6",
            "gridcolor": "white",
            "gridwidth": 2,
            "linecolor": "white",
            "showbackground": true,
            "ticks": "",
            "zerolinecolor": "white"
           },
           "yaxis": {
            "backgroundcolor": "#E5ECF6",
            "gridcolor": "white",
            "gridwidth": 2,
            "linecolor": "white",
            "showbackground": true,
            "ticks": "",
            "zerolinecolor": "white"
           },
           "zaxis": {
            "backgroundcolor": "#E5ECF6",
            "gridcolor": "white",
            "gridwidth": 2,
            "linecolor": "white",
            "showbackground": true,
            "ticks": "",
            "zerolinecolor": "white"
           }
          },
          "shapedefaults": {
           "line": {
            "color": "#2a3f5f"
           }
          },
          "ternary": {
           "aaxis": {
            "gridcolor": "white",
            "linecolor": "white",
            "ticks": ""
           },
           "baxis": {
            "gridcolor": "white",
            "linecolor": "white",
            "ticks": ""
           },
           "bgcolor": "#E5ECF6",
           "caxis": {
            "gridcolor": "white",
            "linecolor": "white",
            "ticks": ""
           }
          },
          "title": {
           "x": 0.05
          },
          "xaxis": {
           "automargin": true,
           "gridcolor": "white",
           "linecolor": "white",
           "ticks": "",
           "title": {
            "standoff": 15
           },
           "zerolinecolor": "white",
           "zerolinewidth": 2
          },
          "yaxis": {
           "automargin": true,
           "gridcolor": "white",
           "linecolor": "white",
           "ticks": "",
           "title": {
            "standoff": 15
           },
           "zerolinecolor": "white",
           "zerolinewidth": 2
          }
         }
        },
        "xaxis": {
         "anchor": "y",
         "domain": [
          0,
          0.7363
         ],
         "title": {
          "text": "budget"
         }
        },
        "xaxis2": {
         "anchor": "y2",
         "domain": [
          0.7413,
          1
         ],
         "matches": "x2",
         "showgrid": false,
         "showline": false,
         "showticklabels": false,
         "ticks": ""
        },
        "xaxis3": {
         "anchor": "y3",
         "domain": [
          0,
          0.7363
         ],
         "matches": "x",
         "showgrid": true,
         "showticklabels": false
        },
        "xaxis4": {
         "anchor": "y4",
         "domain": [
          0.7413,
          1
         ],
         "matches": "x2",
         "showgrid": false,
         "showline": false,
         "showticklabels": false,
         "ticks": ""
        },
        "yaxis": {
         "anchor": "x",
         "domain": [
          0,
          0.7326
         ],
         "title": {
          "text": "Gross"
         }
        },
        "yaxis2": {
         "anchor": "x2",
         "domain": [
          0,
          0.7326
         ],
         "matches": "y",
         "showgrid": true,
         "showticklabels": false
        },
        "yaxis3": {
         "anchor": "x3",
         "domain": [
          0.7426,
          1
         ],
         "matches": "y3",
         "showgrid": true,
         "showline": false,
         "showticklabels": false,
         "ticks": ""
        },
        "yaxis4": {
         "anchor": "x4",
         "domain": [
          0.7426,
          1
         ],
         "matches": "y3",
         "showgrid": true,
         "showline": false,
         "showticklabels": false,
         "ticks": ""
        }
       }
      }
     },
     "metadata": {},
     "output_type": "display_data"
    }
   ],
   "source": [
    "fig = px.scatter(\n",
    "    info, x='budget', y='Gross', color='genre_1', marginal_y='rug', marginal_x='histogram'\n",
    ")\n",
    "fig"
   ]
  },
  {
   "cell_type": "code",
   "execution_count": 25,
   "metadata": {},
   "outputs": [
    {
     "data": {
      "application/vnd.plotly.v1+json": {
       "config": {
        "plotlyServerURL": "https://plot.ly"
       },
       "data": [
        {
         "hovertemplate": "<b>%{hovertext}</b><br><br>genre_1=Comedy<br>Runtime=%{x}<br>IMDb_rating=%{y}<br>actor_1_facebook_likes=%{marker.size}<extra></extra>",
         "hovertext": [
          "Comedy",
          "Comedy",
          "Comedy",
          "Comedy",
          "Comedy",
          "Comedy",
          "Comedy",
          "Comedy",
          "Comedy"
         ],
         "ids": [
          "Comedy",
          "Comedy",
          "Comedy",
          "Comedy",
          "Comedy",
          "Comedy",
          "Comedy",
          "Comedy",
          "Comedy"
         ],
         "legendgroup": "Comedy",
         "marker": {
          "color": "#636efa",
          "size": [
           14000,
           34000,
           15000,
           617,
           996,
           1000,
           565,
           23000,
           948
          ],
          "sizemode": "area",
          "sizeref": 87.5,
          "symbol": "circle"
         },
         "mode": "markers",
         "name": "Comedy",
         "orientation": "v",
         "showlegend": true,
         "type": "scatter",
         "x": [
          128,
          122,
          119,
          124,
          100,
          124,
          123,
          100,
          124
         ],
         "xaxis": "x",
         "y": [
          8.2,
          7.8,
          7.8,
          7.7,
          7.9,
          7.7,
          7.8,
          7.7,
          7.6
         ],
         "yaxis": "y"
        },
        {
         "alignmentgroup": "True",
         "bingroup": "x",
         "hovertemplate": "genre_1=Comedy<br>Runtime=%{x}<br>count=%{y}<extra></extra>",
         "legendgroup": "Comedy",
         "marker": {
          "color": "#636efa"
         },
         "name": "Comedy",
         "offsetgroup": "Comedy",
         "opacity": 0.5,
         "showlegend": false,
         "type": "histogram",
         "x": [
          128,
          122,
          119,
          124,
          100,
          124,
          123,
          100,
          124
         ],
         "xaxis": "x3",
         "yaxis": "y3"
        },
        {
         "alignmentgroup": "True",
         "hovertemplate": "<b>%{hovertext}</b><br><br>genre_1=Comedy<br>IMDb_rating=%{y}<extra></extra>",
         "hovertext": [
          "Comedy",
          "Comedy",
          "Comedy",
          "Comedy",
          "Comedy",
          "Comedy",
          "Comedy",
          "Comedy",
          "Comedy"
         ],
         "legendgroup": "Comedy",
         "marker": {
          "color": "#636efa",
          "symbol": "circle"
         },
         "name": "Comedy",
         "offsetgroup": "Comedy",
         "scalegroup": "y",
         "showlegend": false,
         "type": "violin",
         "xaxis": "x2",
         "y": [
          8.2,
          7.8,
          7.8,
          7.7,
          7.9,
          7.7,
          7.8,
          7.7,
          7.6
         ],
         "yaxis": "y2"
        },
        {
         "hovertemplate": "<b>%{hovertext}</b><br><br>genre_1=Animation<br>Runtime=%{x}<br>IMDb_rating=%{y}<br>actor_1_facebook_likes=%{marker.size}<extra></extra>",
         "hovertext": [
          "Animation",
          "Animation",
          "Animation",
          "Animation",
          "Animation",
          "Animation",
          "Animation",
          "Animation",
          "Animation",
          "Animation",
          "Animation"
         ],
         "ids": [
          "Animation",
          "Animation",
          "Animation",
          "Animation",
          "Animation",
          "Animation",
          "Animation",
          "Animation",
          "Animation",
          "Animation",
          "Animation"
         ],
         "legendgroup": "Animation",
         "marker": {
          "color": "#EF553B",
          "size": [
           2800,
           799,
           15000,
           1000,
           756,
           18000,
           975,
           18000,
           12000,
           7000,
           11000
          ],
          "sizemode": "area",
          "sizeref": 87.5,
          "symbol": "circle"
         },
         "mode": "markers",
         "name": "Animation",
         "orientation": "v",
         "showlegend": true,
         "type": "scatter",
         "x": [
          108,
          124,
          103,
          95,
          124,
          124,
          124,
          124,
          108,
          124,
          100
         ],
         "xaxis": "x",
         "y": [
          8.1,
          7.8,
          8.3,
          8.2,
          7.8,
          8.1,
          7.7,
          7.9,
          7.8,
          7.7,
          7.8
         ],
         "yaxis": "y"
        },
        {
         "alignmentgroup": "True",
         "bingroup": "x",
         "hovertemplate": "genre_1=Animation<br>Runtime=%{x}<br>count=%{y}<extra></extra>",
         "legendgroup": "Animation",
         "marker": {
          "color": "#EF553B"
         },
         "name": "Animation",
         "offsetgroup": "Animation",
         "opacity": 0.5,
         "showlegend": false,
         "type": "histogram",
         "x": [
          108,
          124,
          103,
          95,
          124,
          124,
          124,
          124,
          108,
          124,
          100
         ],
         "xaxis": "x3",
         "yaxis": "y3"
        },
        {
         "alignmentgroup": "True",
         "hovertemplate": "<b>%{hovertext}</b><br><br>genre_1=Animation<br>IMDb_rating=%{y}<extra></extra>",
         "hovertext": [
          "Animation",
          "Animation",
          "Animation",
          "Animation",
          "Animation",
          "Animation",
          "Animation",
          "Animation",
          "Animation",
          "Animation",
          "Animation"
         ],
         "legendgroup": "Animation",
         "marker": {
          "color": "#EF553B",
          "symbol": "circle"
         },
         "name": "Animation",
         "offsetgroup": "Animation",
         "scalegroup": "y",
         "showlegend": false,
         "type": "violin",
         "xaxis": "x2",
         "y": [
          8.1,
          7.8,
          8.3,
          8.2,
          7.8,
          8.1,
          7.7,
          7.9,
          7.8,
          7.7,
          7.8
         ],
         "yaxis": "y2"
        },
        {
         "hovertemplate": "<b>%{hovertext}</b><br><br>genre_1=Biography<br>Runtime=%{x}<br>IMDb_rating=%{y}<br>actor_1_facebook_likes=%{marker.size}<extra></extra>",
         "hovertext": [
          "Biography",
          "Biography",
          "Biography",
          "Biography",
          "Biography",
          "Biography",
          "Biography",
          "Biography",
          "Biography",
          "Biography",
          "Biography",
          "Biography",
          "Biography"
         ],
         "ids": [
          "Biography",
          "Biography",
          "Biography",
          "Biography",
          "Biography",
          "Biography",
          "Biography",
          "Biography",
          "Biography",
          "Biography",
          "Biography",
          "Biography",
          "Biography"
         ],
         "legendgroup": "Biography",
         "marker": {
          "color": "#00cc96",
          "size": [
           33000,
           29000,
           15000,
           22000,
           10000,
           559,
           33000,
           2000,
           14000,
           13000,
           19000,
           1000,
           11000
          ],
          "sizemode": "area",
          "sizeref": 87.5,
          "symbol": "circle"
         },
         "mode": "markers",
         "name": "Biography",
         "orientation": "v",
         "showlegend": true,
         "type": "scatter",
         "x": [
          118,
          180,
          134,
          133,
          120,
          147,
          130,
          134,
          118,
          123,
          114,
          98,
          117
         ],
         "xaxis": "x",
         "y": [
          8.1,
          8.2,
          7.8,
          7.6,
          7.7,
          7.9,
          7.8,
          8.1,
          8,
          7.7,
          8.1,
          7.6,
          8
         ],
         "yaxis": "y"
        },
        {
         "alignmentgroup": "True",
         "bingroup": "x",
         "hovertemplate": "genre_1=Biography<br>Runtime=%{x}<br>count=%{y}<extra></extra>",
         "legendgroup": "Biography",
         "marker": {
          "color": "#00cc96"
         },
         "name": "Biography",
         "offsetgroup": "Biography",
         "opacity": 0.5,
         "showlegend": false,
         "type": "histogram",
         "x": [
          118,
          180,
          134,
          133,
          120,
          147,
          130,
          134,
          118,
          123,
          114,
          98,
          117
         ],
         "xaxis": "x3",
         "yaxis": "y3"
        },
        {
         "alignmentgroup": "True",
         "hovertemplate": "<b>%{hovertext}</b><br><br>genre_1=Biography<br>IMDb_rating=%{y}<extra></extra>",
         "hovertext": [
          "Biography",
          "Biography",
          "Biography",
          "Biography",
          "Biography",
          "Biography",
          "Biography",
          "Biography",
          "Biography",
          "Biography",
          "Biography",
          "Biography",
          "Biography"
         ],
         "legendgroup": "Biography",
         "marker": {
          "color": "#00cc96",
          "symbol": "circle"
         },
         "name": "Biography",
         "offsetgroup": "Biography",
         "scalegroup": "y",
         "showlegend": false,
         "type": "violin",
         "xaxis": "x2",
         "y": [
          8.1,
          8.2,
          7.8,
          7.6,
          7.7,
          7.9,
          7.8,
          8.1,
          8,
          7.7,
          8.1,
          7.6,
          8
         ],
         "yaxis": "y2"
        },
        {
         "hovertemplate": "<b>%{hovertext}</b><br><br>genre_1=Drama<br>Runtime=%{x}<br>IMDb_rating=%{y}<br>actor_1_facebook_likes=%{marker.size}<extra></extra>",
         "hovertext": [
          "Drama",
          "Drama",
          "Drama",
          "Drama",
          "Drama",
          "Drama",
          "Drama",
          "Drama",
          "Drama",
          "Drama",
          "Drama",
          "Drama",
          "Drama",
          "Drama",
          "Drama",
          "Drama",
          "Drama",
          "Drama"
         ],
         "ids": [
          "Drama",
          "Drama",
          "Drama",
          "Drama",
          "Drama",
          "Drama",
          "Drama",
          "Drama",
          "Drama",
          "Drama",
          "Drama",
          "Drama",
          "Drama",
          "Drama",
          "Drama",
          "Drama",
          "Drama",
          "Drama"
         ],
         "legendgroup": "Drama",
         "marker": {
          "color": "#ab63fa",
          "size": [
           35000,
           518,
           39,
           29000,
           20000,
           15000,
           13000,
           15000,
           19000,
           876,
           149,
           20000,
           8000,
           8000,
           678,
           230,
           24000,
           140
          ],
          "sizemode": "area",
          "sizeref": 87.5,
          "symbol": "circle"
         },
         "mode": "markers",
         "name": "Drama",
         "orientation": "v",
         "showlegend": true,
         "type": "scatter",
         "x": [
          116,
          137,
          91,
          165,
          158,
          142,
          133,
          146,
          126,
          131,
          108,
          108,
          102,
          126,
          127,
          165,
          107,
          109
         ],
         "xaxis": "x",
         "y": [
          8,
          7.9,
          7.8,
          8.4,
          7.6,
          7.6,
          7.6,
          8.1,
          8,
          7.6,
          7.7,
          8,
          8,
          7.8,
          7.9,
          7.9,
          8.5,
          7.9
         ],
         "yaxis": "y"
        },
        {
         "alignmentgroup": "True",
         "bingroup": "x",
         "hovertemplate": "genre_1=Drama<br>Runtime=%{x}<br>count=%{y}<extra></extra>",
         "legendgroup": "Drama",
         "marker": {
          "color": "#ab63fa"
         },
         "name": "Drama",
         "offsetgroup": "Drama",
         "opacity": 0.5,
         "showlegend": false,
         "type": "histogram",
         "x": [
          116,
          137,
          91,
          165,
          158,
          142,
          133,
          146,
          126,
          131,
          108,
          108,
          102,
          126,
          127,
          165,
          107,
          109
         ],
         "xaxis": "x3",
         "yaxis": "y3"
        },
        {
         "alignmentgroup": "True",
         "hovertemplate": "<b>%{hovertext}</b><br><br>genre_1=Drama<br>IMDb_rating=%{y}<extra></extra>",
         "hovertext": [
          "Drama",
          "Drama",
          "Drama",
          "Drama",
          "Drama",
          "Drama",
          "Drama",
          "Drama",
          "Drama",
          "Drama",
          "Drama",
          "Drama",
          "Drama",
          "Drama",
          "Drama",
          "Drama",
          "Drama",
          "Drama"
         ],
         "legendgroup": "Drama",
         "marker": {
          "color": "#ab63fa",
          "symbol": "circle"
         },
         "name": "Drama",
         "offsetgroup": "Drama",
         "scalegroup": "y",
         "showlegend": false,
         "type": "violin",
         "xaxis": "x2",
         "y": [
          8,
          7.9,
          7.8,
          8.4,
          7.6,
          7.6,
          7.6,
          8.1,
          8,
          7.6,
          7.7,
          8,
          8,
          7.8,
          7.9,
          7.9,
          8.5,
          7.9
         ],
         "yaxis": "y2"
        },
        {
         "hovertemplate": "<b>%{hovertext}</b><br><br>genre_1=Crime<br>Runtime=%{x}<br>IMDb_rating=%{y}<br>actor_1_facebook_likes=%{marker.size}<extra></extra>",
         "hovertext": [
          "Crime",
          "Crime",
          "Crime",
          "Crime",
          "Crime",
          "Crime",
          "Crime",
          "Crime",
          "Crime"
         ],
         "ids": [
          "Crime",
          "Crime",
          "Crime",
          "Crime",
          "Crime",
          "Crime",
          "Crime",
          "Crime",
          "Crime"
         ],
         "legendgroup": "Crime",
         "marker": {
          "color": "#FFA15A",
          "size": [
           19000,
           18000,
           835,
           20000,
           10000,
           745,
           33000,
           15000,
           15000
          ],
          "sizemode": "area",
          "sizeref": 87.5,
          "symbol": "circle"
         },
         "mode": "markers",
         "name": "Crime",
         "orientation": "v",
         "showlegend": true,
         "type": "scatter",
         "x": [
          102,
          158,
          149,
          153,
          125,
          128,
          100,
          118,
          109
         ],
         "xaxis": "x",
         "y": [
          7.7,
          7.8,
          8.1,
          8.1,
          7.6,
          8.1,
          7.8,
          7.9,
          7.7
         ],
         "yaxis": "y"
        },
        {
         "alignmentgroup": "True",
         "bingroup": "x",
         "hovertemplate": "genre_1=Crime<br>Runtime=%{x}<br>count=%{y}<extra></extra>",
         "legendgroup": "Crime",
         "marker": {
          "color": "#FFA15A"
         },
         "name": "Crime",
         "offsetgroup": "Crime",
         "opacity": 0.5,
         "showlegend": false,
         "type": "histogram",
         "x": [
          102,
          158,
          149,
          153,
          125,
          128,
          100,
          118,
          109
         ],
         "xaxis": "x3",
         "yaxis": "y3"
        },
        {
         "alignmentgroup": "True",
         "hovertemplate": "<b>%{hovertext}</b><br><br>genre_1=Crime<br>IMDb_rating=%{y}<extra></extra>",
         "hovertext": [
          "Crime",
          "Crime",
          "Crime",
          "Crime",
          "Crime",
          "Crime",
          "Crime",
          "Crime",
          "Crime"
         ],
         "legendgroup": "Crime",
         "marker": {
          "color": "#FFA15A",
          "symbol": "circle"
         },
         "name": "Crime",
         "offsetgroup": "Crime",
         "scalegroup": "y",
         "showlegend": false,
         "type": "violin",
         "xaxis": "x2",
         "y": [
          7.7,
          7.8,
          8.1,
          8.1,
          7.6,
          8.1,
          7.8,
          7.9,
          7.7
         ],
         "yaxis": "y2"
        },
        {
         "hovertemplate": "<b>%{hovertext}</b><br><br>genre_1=Action<br>Runtime=%{x}<br>IMDb_rating=%{y}<br>actor_1_facebook_likes=%{marker.size}<extra></extra>",
         "hovertext": [
          "Action",
          "Action",
          "Action",
          "Action",
          "Action",
          "Action",
          "Action",
          "Action",
          "Action",
          "Action",
          "Action",
          "Action",
          "Action",
          "Action",
          "Action",
          "Action",
          "Action",
          "Action",
          "Action",
          "Action",
          "Action",
          "Action",
          "Action",
          "Action",
          "Action",
          "Action",
          "Action"
         ],
         "ids": [
          "Action",
          "Action",
          "Action",
          "Action",
          "Action",
          "Action",
          "Action",
          "Action",
          "Action",
          "Action",
          "Action",
          "Action",
          "Action",
          "Action",
          "Action",
          "Action",
          "Action",
          "Action",
          "Action",
          "Action",
          "Action",
          "Action",
          "Action",
          "Action",
          "Action",
          "Action",
          "Action"
         ],
         "legendgroup": "Action",
         "marker": {
          "color": "#19d3f3",
          "size": [
           19000,
           27000,
           21000,
           26000,
           883,
           34000,
           19000,
           10000,
           14000,
           19000,
           10000,
           29000,
           34000,
           27000,
           34000,
           11000,
           11000,
           10000,
           16000,
           1000,
           480,
           26000,
           553,
           455,
           23000,
           27000,
           131
          ],
          "sizemode": "area",
          "sizeref": 87.5,
          "symbol": "circle"
         },
         "mode": "markers",
         "name": "Action",
         "orientation": "v",
         "showlegend": true,
         "type": "scatter",
         "x": [
          115,
          164,
          147,
          143,
          143,
          132,
          132,
          113,
          121,
          136,
          130,
          148,
          132,
          120,
          146,
          124,
          134,
          112,
          108,
          120,
          121,
          123,
          117,
          121,
          116,
          140,
          136
         ],
         "xaxis": "x",
         "y": [
          7.6,
          8.4,
          7.9,
          8.1,
          7.8,
          8,
          7.8,
          7.9,
          8.1,
          7.8,
          7.6,
          8.8,
          7.8,
          8.1,
          7.6,
          7.6,
          7.6,
          7.5,
          8,
          7.7,
          7.5,
          8.1,
          7.7,
          7.6,
          7.8,
          8.2,
          8.1
         ],
         "yaxis": "y"
        },
        {
         "alignmentgroup": "True",
         "bingroup": "x",
         "hovertemplate": "genre_1=Action<br>Runtime=%{x}<br>count=%{y}<extra></extra>",
         "legendgroup": "Action",
         "marker": {
          "color": "#19d3f3"
         },
         "name": "Action",
         "offsetgroup": "Action",
         "opacity": 0.5,
         "showlegend": false,
         "type": "histogram",
         "x": [
          115,
          164,
          147,
          143,
          143,
          132,
          132,
          113,
          121,
          136,
          130,
          148,
          132,
          120,
          146,
          124,
          134,
          112,
          108,
          120,
          121,
          123,
          117,
          121,
          116,
          140,
          136
         ],
         "xaxis": "x3",
         "yaxis": "y3"
        },
        {
         "alignmentgroup": "True",
         "hovertemplate": "<b>%{hovertext}</b><br><br>genre_1=Action<br>IMDb_rating=%{y}<extra></extra>",
         "hovertext": [
          "Action",
          "Action",
          "Action",
          "Action",
          "Action",
          "Action",
          "Action",
          "Action",
          "Action",
          "Action",
          "Action",
          "Action",
          "Action",
          "Action",
          "Action",
          "Action",
          "Action",
          "Action",
          "Action",
          "Action",
          "Action",
          "Action",
          "Action",
          "Action",
          "Action",
          "Action",
          "Action"
         ],
         "legendgroup": "Action",
         "marker": {
          "color": "#19d3f3",
          "symbol": "circle"
         },
         "name": "Action",
         "offsetgroup": "Action",
         "scalegroup": "y",
         "showlegend": false,
         "type": "violin",
         "xaxis": "x2",
         "y": [
          7.6,
          8.4,
          7.9,
          8.1,
          7.8,
          8,
          7.8,
          7.9,
          8.1,
          7.8,
          7.6,
          8.8,
          7.8,
          8.1,
          7.6,
          7.6,
          7.6,
          7.5,
          8,
          7.7,
          7.5,
          8.1,
          7.7,
          7.6,
          7.8,
          8.2,
          8.1
         ],
         "yaxis": "y2"
        },
        {
         "hovertemplate": "<b>%{hovertext}</b><br><br>genre_1=Adventure<br>Runtime=%{x}<br>IMDb_rating=%{y}<br>actor_1_facebook_likes=%{marker.size}<extra></extra>",
         "hovertext": [
          "Adventure",
          "Adventure",
          "Adventure",
          "Adventure",
          "Adventure",
          "Adventure",
          "Adventure",
          "Adventure",
          "Adventure",
          "Adventure",
          "Adventure",
          "Adventure"
         ],
         "ids": [
          "Adventure",
          "Adventure",
          "Adventure",
          "Adventure",
          "Adventure",
          "Adventure",
          "Adventure",
          "Adventure",
          "Adventure",
          "Adventure",
          "Adventure",
          "Adventure"
         ],
         "legendgroup": "Adventure",
         "marker": {
          "color": "#FF6692",
          "size": [
           5000,
           5000,
           17000,
           11000,
           29000,
           13000,
           13000,
           13000,
           11000,
           13000,
           1000,
           10000
          ],
          "sizemode": "area",
          "sizeref": 87.5,
          "symbol": "circle"
         },
         "mode": "markers",
         "name": "Adventure",
         "orientation": "v",
         "showlegend": true,
         "type": "scatter",
         "x": [
          161,
          169,
          126,
          169,
          156,
          144,
          110,
          99,
          94,
          94,
          115,
          146
         ],
         "xaxis": "x",
         "y": [
          7.9,
          7.9,
          7.5,
          8.6,
          8,
          8,
          7.6,
          8.1,
          7.6,
          7.8,
          7.7,
          7.7
         ],
         "yaxis": "y"
        },
        {
         "alignmentgroup": "True",
         "bingroup": "x",
         "hovertemplate": "genre_1=Adventure<br>Runtime=%{x}<br>count=%{y}<extra></extra>",
         "legendgroup": "Adventure",
         "marker": {
          "color": "#FF6692"
         },
         "name": "Adventure",
         "offsetgroup": "Adventure",
         "opacity": 0.5,
         "showlegend": false,
         "type": "histogram",
         "x": [
          161,
          169,
          126,
          169,
          156,
          144,
          110,
          99,
          94,
          94,
          115,
          146
         ],
         "xaxis": "x3",
         "yaxis": "y3"
        },
        {
         "alignmentgroup": "True",
         "hovertemplate": "<b>%{hovertext}</b><br><br>genre_1=Adventure<br>IMDb_rating=%{y}<extra></extra>",
         "hovertext": [
          "Adventure",
          "Adventure",
          "Adventure",
          "Adventure",
          "Adventure",
          "Adventure",
          "Adventure",
          "Adventure",
          "Adventure",
          "Adventure",
          "Adventure",
          "Adventure"
         ],
         "legendgroup": "Adventure",
         "marker": {
          "color": "#FF6692",
          "symbol": "circle"
         },
         "name": "Adventure",
         "offsetgroup": "Adventure",
         "scalegroup": "y",
         "showlegend": false,
         "type": "violin",
         "xaxis": "x2",
         "y": [
          7.9,
          7.9,
          7.5,
          8.6,
          8,
          8,
          7.6,
          8.1,
          7.6,
          7.8,
          7.7,
          7.7
         ],
         "yaxis": "y2"
        },
        {
         "hovertemplate": "<b>%{hovertext}</b><br><br>genre_1=Mystery<br>Runtime=%{x}<br>IMDb_rating=%{y}<br>actor_1_facebook_likes=%{marker.size}<extra></extra>",
         "hovertext": [
          "Mystery"
         ],
         "ids": [
          "Mystery"
         ],
         "legendgroup": "Mystery",
         "marker": {
          "color": "#B6E880",
          "size": [
           29000
          ],
          "sizemode": "area",
          "sizeref": 87.5,
          "symbol": "circle"
         },
         "mode": "markers",
         "name": "Mystery",
         "orientation": "v",
         "showlegend": true,
         "type": "scatter",
         "x": [
          138
         ],
         "xaxis": "x",
         "y": [
          8.1
         ],
         "yaxis": "y"
        },
        {
         "alignmentgroup": "True",
         "bingroup": "x",
         "hovertemplate": "genre_1=Mystery<br>Runtime=%{x}<br>count=%{y}<extra></extra>",
         "legendgroup": "Mystery",
         "marker": {
          "color": "#B6E880"
         },
         "name": "Mystery",
         "offsetgroup": "Mystery",
         "opacity": 0.5,
         "showlegend": false,
         "type": "histogram",
         "x": [
          138
         ],
         "xaxis": "x3",
         "yaxis": "y3"
        },
        {
         "alignmentgroup": "True",
         "hovertemplate": "<b>%{hovertext}</b><br><br>genre_1=Mystery<br>IMDb_rating=%{y}<extra></extra>",
         "hovertext": [
          "Mystery"
         ],
         "legendgroup": "Mystery",
         "marker": {
          "color": "#B6E880",
          "symbol": "circle"
         },
         "name": "Mystery",
         "offsetgroup": "Mystery",
         "scalegroup": "y",
         "showlegend": false,
         "type": "violin",
         "xaxis": "x2",
         "y": [
          8.1
         ],
         "yaxis": "y2"
        }
       ],
       "layout": {
        "barmode": "overlay",
        "legend": {
         "itemsizing": "constant",
         "title": {
          "text": "genre_1"
         },
         "tracegroupgap": 0
        },
        "margin": {
         "t": 60
        },
        "template": {
         "data": {
          "bar": [
           {
            "error_x": {
             "color": "#2a3f5f"
            },
            "error_y": {
             "color": "#2a3f5f"
            },
            "marker": {
             "line": {
              "color": "#E5ECF6",
              "width": 0.5
             },
             "pattern": {
              "fillmode": "overlay",
              "size": 10,
              "solidity": 0.2
             }
            },
            "type": "bar"
           }
          ],
          "barpolar": [
           {
            "marker": {
             "line": {
              "color": "#E5ECF6",
              "width": 0.5
             },
             "pattern": {
              "fillmode": "overlay",
              "size": 10,
              "solidity": 0.2
             }
            },
            "type": "barpolar"
           }
          ],
          "carpet": [
           {
            "aaxis": {
             "endlinecolor": "#2a3f5f",
             "gridcolor": "white",
             "linecolor": "white",
             "minorgridcolor": "white",
             "startlinecolor": "#2a3f5f"
            },
            "baxis": {
             "endlinecolor": "#2a3f5f",
             "gridcolor": "white",
             "linecolor": "white",
             "minorgridcolor": "white",
             "startlinecolor": "#2a3f5f"
            },
            "type": "carpet"
           }
          ],
          "choropleth": [
           {
            "colorbar": {
             "outlinewidth": 0,
             "ticks": ""
            },
            "type": "choropleth"
           }
          ],
          "contour": [
           {
            "colorbar": {
             "outlinewidth": 0,
             "ticks": ""
            },
            "colorscale": [
             [
              0,
              "#0d0887"
             ],
             [
              0.1111111111111111,
              "#46039f"
             ],
             [
              0.2222222222222222,
              "#7201a8"
             ],
             [
              0.3333333333333333,
              "#9c179e"
             ],
             [
              0.4444444444444444,
              "#bd3786"
             ],
             [
              0.5555555555555556,
              "#d8576b"
             ],
             [
              0.6666666666666666,
              "#ed7953"
             ],
             [
              0.7777777777777778,
              "#fb9f3a"
             ],
             [
              0.8888888888888888,
              "#fdca26"
             ],
             [
              1,
              "#f0f921"
             ]
            ],
            "type": "contour"
           }
          ],
          "contourcarpet": [
           {
            "colorbar": {
             "outlinewidth": 0,
             "ticks": ""
            },
            "type": "contourcarpet"
           }
          ],
          "heatmap": [
           {
            "colorbar": {
             "outlinewidth": 0,
             "ticks": ""
            },
            "colorscale": [
             [
              0,
              "#0d0887"
             ],
             [
              0.1111111111111111,
              "#46039f"
             ],
             [
              0.2222222222222222,
              "#7201a8"
             ],
             [
              0.3333333333333333,
              "#9c179e"
             ],
             [
              0.4444444444444444,
              "#bd3786"
             ],
             [
              0.5555555555555556,
              "#d8576b"
             ],
             [
              0.6666666666666666,
              "#ed7953"
             ],
             [
              0.7777777777777778,
              "#fb9f3a"
             ],
             [
              0.8888888888888888,
              "#fdca26"
             ],
             [
              1,
              "#f0f921"
             ]
            ],
            "type": "heatmap"
           }
          ],
          "heatmapgl": [
           {
            "colorbar": {
             "outlinewidth": 0,
             "ticks": ""
            },
            "colorscale": [
             [
              0,
              "#0d0887"
             ],
             [
              0.1111111111111111,
              "#46039f"
             ],
             [
              0.2222222222222222,
              "#7201a8"
             ],
             [
              0.3333333333333333,
              "#9c179e"
             ],
             [
              0.4444444444444444,
              "#bd3786"
             ],
             [
              0.5555555555555556,
              "#d8576b"
             ],
             [
              0.6666666666666666,
              "#ed7953"
             ],
             [
              0.7777777777777778,
              "#fb9f3a"
             ],
             [
              0.8888888888888888,
              "#fdca26"
             ],
             [
              1,
              "#f0f921"
             ]
            ],
            "type": "heatmapgl"
           }
          ],
          "histogram": [
           {
            "marker": {
             "pattern": {
              "fillmode": "overlay",
              "size": 10,
              "solidity": 0.2
             }
            },
            "type": "histogram"
           }
          ],
          "histogram2d": [
           {
            "colorbar": {
             "outlinewidth": 0,
             "ticks": ""
            },
            "colorscale": [
             [
              0,
              "#0d0887"
             ],
             [
              0.1111111111111111,
              "#46039f"
             ],
             [
              0.2222222222222222,
              "#7201a8"
             ],
             [
              0.3333333333333333,
              "#9c179e"
             ],
             [
              0.4444444444444444,
              "#bd3786"
             ],
             [
              0.5555555555555556,
              "#d8576b"
             ],
             [
              0.6666666666666666,
              "#ed7953"
             ],
             [
              0.7777777777777778,
              "#fb9f3a"
             ],
             [
              0.8888888888888888,
              "#fdca26"
             ],
             [
              1,
              "#f0f921"
             ]
            ],
            "type": "histogram2d"
           }
          ],
          "histogram2dcontour": [
           {
            "colorbar": {
             "outlinewidth": 0,
             "ticks": ""
            },
            "colorscale": [
             [
              0,
              "#0d0887"
             ],
             [
              0.1111111111111111,
              "#46039f"
             ],
             [
              0.2222222222222222,
              "#7201a8"
             ],
             [
              0.3333333333333333,
              "#9c179e"
             ],
             [
              0.4444444444444444,
              "#bd3786"
             ],
             [
              0.5555555555555556,
              "#d8576b"
             ],
             [
              0.6666666666666666,
              "#ed7953"
             ],
             [
              0.7777777777777778,
              "#fb9f3a"
             ],
             [
              0.8888888888888888,
              "#fdca26"
             ],
             [
              1,
              "#f0f921"
             ]
            ],
            "type": "histogram2dcontour"
           }
          ],
          "mesh3d": [
           {
            "colorbar": {
             "outlinewidth": 0,
             "ticks": ""
            },
            "type": "mesh3d"
           }
          ],
          "parcoords": [
           {
            "line": {
             "colorbar": {
              "outlinewidth": 0,
              "ticks": ""
             }
            },
            "type": "parcoords"
           }
          ],
          "pie": [
           {
            "automargin": true,
            "type": "pie"
           }
          ],
          "scatter": [
           {
            "fillpattern": {
             "fillmode": "overlay",
             "size": 10,
             "solidity": 0.2
            },
            "type": "scatter"
           }
          ],
          "scatter3d": [
           {
            "line": {
             "colorbar": {
              "outlinewidth": 0,
              "ticks": ""
             }
            },
            "marker": {
             "colorbar": {
              "outlinewidth": 0,
              "ticks": ""
             }
            },
            "type": "scatter3d"
           }
          ],
          "scattercarpet": [
           {
            "marker": {
             "colorbar": {
              "outlinewidth": 0,
              "ticks": ""
             }
            },
            "type": "scattercarpet"
           }
          ],
          "scattergeo": [
           {
            "marker": {
             "colorbar": {
              "outlinewidth": 0,
              "ticks": ""
             }
            },
            "type": "scattergeo"
           }
          ],
          "scattergl": [
           {
            "marker": {
             "colorbar": {
              "outlinewidth": 0,
              "ticks": ""
             }
            },
            "type": "scattergl"
           }
          ],
          "scattermapbox": [
           {
            "marker": {
             "colorbar": {
              "outlinewidth": 0,
              "ticks": ""
             }
            },
            "type": "scattermapbox"
           }
          ],
          "scatterpolar": [
           {
            "marker": {
             "colorbar": {
              "outlinewidth": 0,
              "ticks": ""
             }
            },
            "type": "scatterpolar"
           }
          ],
          "scatterpolargl": [
           {
            "marker": {
             "colorbar": {
              "outlinewidth": 0,
              "ticks": ""
             }
            },
            "type": "scatterpolargl"
           }
          ],
          "scatterternary": [
           {
            "marker": {
             "colorbar": {
              "outlinewidth": 0,
              "ticks": ""
             }
            },
            "type": "scatterternary"
           }
          ],
          "surface": [
           {
            "colorbar": {
             "outlinewidth": 0,
             "ticks": ""
            },
            "colorscale": [
             [
              0,
              "#0d0887"
             ],
             [
              0.1111111111111111,
              "#46039f"
             ],
             [
              0.2222222222222222,
              "#7201a8"
             ],
             [
              0.3333333333333333,
              "#9c179e"
             ],
             [
              0.4444444444444444,
              "#bd3786"
             ],
             [
              0.5555555555555556,
              "#d8576b"
             ],
             [
              0.6666666666666666,
              "#ed7953"
             ],
             [
              0.7777777777777778,
              "#fb9f3a"
             ],
             [
              0.8888888888888888,
              "#fdca26"
             ],
             [
              1,
              "#f0f921"
             ]
            ],
            "type": "surface"
           }
          ],
          "table": [
           {
            "cells": {
             "fill": {
              "color": "#EBF0F8"
             },
             "line": {
              "color": "white"
             }
            },
            "header": {
             "fill": {
              "color": "#C8D4E3"
             },
             "line": {
              "color": "white"
             }
            },
            "type": "table"
           }
          ]
         },
         "layout": {
          "annotationdefaults": {
           "arrowcolor": "#2a3f5f",
           "arrowhead": 0,
           "arrowwidth": 1
          },
          "autotypenumbers": "strict",
          "coloraxis": {
           "colorbar": {
            "outlinewidth": 0,
            "ticks": ""
           }
          },
          "colorscale": {
           "diverging": [
            [
             0,
             "#8e0152"
            ],
            [
             0.1,
             "#c51b7d"
            ],
            [
             0.2,
             "#de77ae"
            ],
            [
             0.3,
             "#f1b6da"
            ],
            [
             0.4,
             "#fde0ef"
            ],
            [
             0.5,
             "#f7f7f7"
            ],
            [
             0.6,
             "#e6f5d0"
            ],
            [
             0.7,
             "#b8e186"
            ],
            [
             0.8,
             "#7fbc41"
            ],
            [
             0.9,
             "#4d9221"
            ],
            [
             1,
             "#276419"
            ]
           ],
           "sequential": [
            [
             0,
             "#0d0887"
            ],
            [
             0.1111111111111111,
             "#46039f"
            ],
            [
             0.2222222222222222,
             "#7201a8"
            ],
            [
             0.3333333333333333,
             "#9c179e"
            ],
            [
             0.4444444444444444,
             "#bd3786"
            ],
            [
             0.5555555555555556,
             "#d8576b"
            ],
            [
             0.6666666666666666,
             "#ed7953"
            ],
            [
             0.7777777777777778,
             "#fb9f3a"
            ],
            [
             0.8888888888888888,
             "#fdca26"
            ],
            [
             1,
             "#f0f921"
            ]
           ],
           "sequentialminus": [
            [
             0,
             "#0d0887"
            ],
            [
             0.1111111111111111,
             "#46039f"
            ],
            [
             0.2222222222222222,
             "#7201a8"
            ],
            [
             0.3333333333333333,
             "#9c179e"
            ],
            [
             0.4444444444444444,
             "#bd3786"
            ],
            [
             0.5555555555555556,
             "#d8576b"
            ],
            [
             0.6666666666666666,
             "#ed7953"
            ],
            [
             0.7777777777777778,
             "#fb9f3a"
            ],
            [
             0.8888888888888888,
             "#fdca26"
            ],
            [
             1,
             "#f0f921"
            ]
           ]
          },
          "colorway": [
           "#636efa",
           "#EF553B",
           "#00cc96",
           "#ab63fa",
           "#FFA15A",
           "#19d3f3",
           "#FF6692",
           "#B6E880",
           "#FF97FF",
           "#FECB52"
          ],
          "font": {
           "color": "#2a3f5f"
          },
          "geo": {
           "bgcolor": "white",
           "lakecolor": "white",
           "landcolor": "#E5ECF6",
           "showlakes": true,
           "showland": true,
           "subunitcolor": "white"
          },
          "hoverlabel": {
           "align": "left"
          },
          "hovermode": "closest",
          "mapbox": {
           "style": "light"
          },
          "paper_bgcolor": "white",
          "plot_bgcolor": "#E5ECF6",
          "polar": {
           "angularaxis": {
            "gridcolor": "white",
            "linecolor": "white",
            "ticks": ""
           },
           "bgcolor": "#E5ECF6",
           "radialaxis": {
            "gridcolor": "white",
            "linecolor": "white",
            "ticks": ""
           }
          },
          "scene": {
           "xaxis": {
            "backgroundcolor": "#E5ECF6",
            "gridcolor": "white",
            "gridwidth": 2,
            "linecolor": "white",
            "showbackground": true,
            "ticks": "",
            "zerolinecolor": "white"
           },
           "yaxis": {
            "backgroundcolor": "#E5ECF6",
            "gridcolor": "white",
            "gridwidth": 2,
            "linecolor": "white",
            "showbackground": true,
            "ticks": "",
            "zerolinecolor": "white"
           },
           "zaxis": {
            "backgroundcolor": "#E5ECF6",
            "gridcolor": "white",
            "gridwidth": 2,
            "linecolor": "white",
            "showbackground": true,
            "ticks": "",
            "zerolinecolor": "white"
           }
          },
          "shapedefaults": {
           "line": {
            "color": "#2a3f5f"
           }
          },
          "ternary": {
           "aaxis": {
            "gridcolor": "white",
            "linecolor": "white",
            "ticks": ""
           },
           "baxis": {
            "gridcolor": "white",
            "linecolor": "white",
            "ticks": ""
           },
           "bgcolor": "#E5ECF6",
           "caxis": {
            "gridcolor": "white",
            "linecolor": "white",
            "ticks": ""
           }
          },
          "title": {
           "x": 0.05
          },
          "xaxis": {
           "automargin": true,
           "gridcolor": "white",
           "linecolor": "white",
           "ticks": "",
           "title": {
            "standoff": 15
           },
           "zerolinecolor": "white",
           "zerolinewidth": 2
          },
          "yaxis": {
           "automargin": true,
           "gridcolor": "white",
           "linecolor": "white",
           "ticks": "",
           "title": {
            "standoff": 15
           },
           "zerolinecolor": "white",
           "zerolinewidth": 2
          }
         }
        },
        "xaxis": {
         "anchor": "y",
         "domain": [
          0,
          0.7363
         ],
         "title": {
          "text": "Runtime"
         }
        },
        "xaxis2": {
         "anchor": "y2",
         "domain": [
          0.7413,
          1
         ],
         "matches": "x2",
         "showgrid": false,
         "showline": false,
         "showticklabels": false,
         "ticks": ""
        },
        "xaxis3": {
         "anchor": "y3",
         "domain": [
          0,
          0.7363
         ],
         "matches": "x",
         "showgrid": true,
         "showticklabels": false
        },
        "xaxis4": {
         "anchor": "y4",
         "domain": [
          0.7413,
          1
         ],
         "matches": "x2",
         "showgrid": false,
         "showline": false,
         "showticklabels": false,
         "ticks": ""
        },
        "yaxis": {
         "anchor": "x",
         "domain": [
          0,
          0.7326
         ],
         "title": {
          "text": "IMDb_rating"
         }
        },
        "yaxis2": {
         "anchor": "x2",
         "domain": [
          0,
          0.7326
         ],
         "matches": "y",
         "showgrid": true,
         "showticklabels": false
        },
        "yaxis3": {
         "anchor": "x3",
         "domain": [
          0.7426,
          1
         ],
         "matches": "y3",
         "showgrid": true,
         "showline": false,
         "showticklabels": false,
         "ticks": ""
        },
        "yaxis4": {
         "anchor": "x4",
         "domain": [
          0.7426,
          1
         ],
         "matches": "y3",
         "showgrid": true,
         "showline": false,
         "showticklabels": false,
         "ticks": ""
        }
       }
      }
     },
     "metadata": {},
     "output_type": "display_data"
    },
    {
     "data": {
      "text/plain": [
       "<Figure size 30000x32000 with 0 Axes>"
      ]
     },
     "metadata": {},
     "output_type": "display_data"
    }
   ],
   "source": [
    "plt.figure(figsize=[300,320])\n",
    "fig = px.scatter(info, x=\"Runtime\", y=\"IMDb_rating\", \n",
    "                 animation_group=\"genre_1\",\n",
    "                 color=\"genre_1\", \n",
    "                 hover_name=\"genre_1\",\n",
    "                 marginal_y='violin',\n",
    "                 marginal_x='histogram',\n",
    "                 size=\"actor_1_facebook_likes\"\n",
    "    )\n",
    "fig.show()"
   ]
  },
  {
   "cell_type": "code",
   "execution_count": 27,
   "metadata": {},
   "outputs": [
    {
     "data": {
      "application/vnd.plotly.v1+json": {
       "config": {
        "plotlyServerURL": "https://plot.ly"
       },
       "data": [
        {
         "hovertemplate": "<b>%{hovertext}</b><br><br>genre_1=Comedy<br>Runtime=%{x}<br>IMDb_rating=%{y}<br>actor_1_facebook_likes=%{marker.size}<extra></extra>",
         "hovertext": [
          "Comedy",
          "Comedy",
          "Comedy",
          "Comedy",
          "Comedy",
          "Comedy",
          "Comedy",
          "Comedy",
          "Comedy"
         ],
         "ids": [
          "Comedy",
          "Comedy",
          "Comedy",
          "Comedy",
          "Comedy",
          "Comedy",
          "Comedy",
          "Comedy",
          "Comedy"
         ],
         "legendgroup": "Comedy",
         "marker": {
          "color": "#636efa",
          "size": [
           14000,
           34000,
           15000,
           617,
           996,
           1000,
           565,
           23000,
           948
          ],
          "sizemode": "area",
          "sizeref": 17.28395061728395,
          "symbol": "circle"
         },
         "mode": "markers",
         "name": "Comedy",
         "orientation": "v",
         "showlegend": true,
         "type": "scatter",
         "x": [
          128,
          122,
          119,
          124,
          100,
          124,
          123,
          100,
          124
         ],
         "xaxis": "x",
         "y": [
          8.2,
          7.8,
          7.8,
          7.7,
          7.9,
          7.7,
          7.8,
          7.7,
          7.6
         ],
         "yaxis": "y"
        },
        {
         "alignmentgroup": "True",
         "bingroup": "x",
         "hovertemplate": "genre_1=Comedy<br>Runtime=%{x}<br>count=%{y}<extra></extra>",
         "legendgroup": "Comedy",
         "marker": {
          "color": "#636efa"
         },
         "name": "Comedy",
         "offsetgroup": "Comedy",
         "opacity": 0.5,
         "showlegend": false,
         "type": "histogram",
         "x": [
          128,
          122,
          119,
          124,
          100,
          124,
          123,
          100,
          124
         ],
         "xaxis": "x3",
         "yaxis": "y3"
        },
        {
         "alignmentgroup": "True",
         "hovertemplate": "<b>%{hovertext}</b><br><br>genre_1=Comedy<br>IMDb_rating=%{y}<extra></extra>",
         "hovertext": [
          "Comedy",
          "Comedy",
          "Comedy",
          "Comedy",
          "Comedy",
          "Comedy",
          "Comedy",
          "Comedy",
          "Comedy"
         ],
         "legendgroup": "Comedy",
         "marker": {
          "color": "#636efa",
          "symbol": "circle"
         },
         "name": "Comedy",
         "offsetgroup": "Comedy",
         "scalegroup": "y",
         "showlegend": false,
         "type": "violin",
         "xaxis": "x2",
         "y": [
          8.2,
          7.8,
          7.8,
          7.7,
          7.9,
          7.7,
          7.8,
          7.7,
          7.6
         ],
         "yaxis": "y2"
        },
        {
         "hovertemplate": "<b>%{hovertext}</b><br><br>genre_1=Animation<br>Runtime=%{x}<br>IMDb_rating=%{y}<br>actor_1_facebook_likes=%{marker.size}<extra></extra>",
         "hovertext": [
          "Animation",
          "Animation",
          "Animation",
          "Animation",
          "Animation",
          "Animation",
          "Animation",
          "Animation",
          "Animation",
          "Animation",
          "Animation"
         ],
         "ids": [
          "Animation",
          "Animation",
          "Animation",
          "Animation",
          "Animation",
          "Animation",
          "Animation",
          "Animation",
          "Animation",
          "Animation",
          "Animation"
         ],
         "legendgroup": "Animation",
         "marker": {
          "color": "#EF553B",
          "size": [
           2800,
           799,
           15000,
           1000,
           756,
           18000,
           975,
           18000,
           12000,
           7000,
           11000
          ],
          "sizemode": "area",
          "sizeref": 17.28395061728395,
          "symbol": "circle"
         },
         "mode": "markers",
         "name": "Animation",
         "orientation": "v",
         "showlegend": true,
         "type": "scatter",
         "x": [
          108,
          124,
          103,
          95,
          124,
          124,
          124,
          124,
          108,
          124,
          100
         ],
         "xaxis": "x",
         "y": [
          8.1,
          7.8,
          8.3,
          8.2,
          7.8,
          8.1,
          7.7,
          7.9,
          7.8,
          7.7,
          7.8
         ],
         "yaxis": "y"
        },
        {
         "alignmentgroup": "True",
         "bingroup": "x",
         "hovertemplate": "genre_1=Animation<br>Runtime=%{x}<br>count=%{y}<extra></extra>",
         "legendgroup": "Animation",
         "marker": {
          "color": "#EF553B"
         },
         "name": "Animation",
         "offsetgroup": "Animation",
         "opacity": 0.5,
         "showlegend": false,
         "type": "histogram",
         "x": [
          108,
          124,
          103,
          95,
          124,
          124,
          124,
          124,
          108,
          124,
          100
         ],
         "xaxis": "x3",
         "yaxis": "y3"
        },
        {
         "alignmentgroup": "True",
         "hovertemplate": "<b>%{hovertext}</b><br><br>genre_1=Animation<br>IMDb_rating=%{y}<extra></extra>",
         "hovertext": [
          "Animation",
          "Animation",
          "Animation",
          "Animation",
          "Animation",
          "Animation",
          "Animation",
          "Animation",
          "Animation",
          "Animation",
          "Animation"
         ],
         "legendgroup": "Animation",
         "marker": {
          "color": "#EF553B",
          "symbol": "circle"
         },
         "name": "Animation",
         "offsetgroup": "Animation",
         "scalegroup": "y",
         "showlegend": false,
         "type": "violin",
         "xaxis": "x2",
         "y": [
          8.1,
          7.8,
          8.3,
          8.2,
          7.8,
          8.1,
          7.7,
          7.9,
          7.8,
          7.7,
          7.8
         ],
         "yaxis": "y2"
        },
        {
         "hovertemplate": "<b>%{hovertext}</b><br><br>genre_1=Biography<br>Runtime=%{x}<br>IMDb_rating=%{y}<br>actor_1_facebook_likes=%{marker.size}<extra></extra>",
         "hovertext": [
          "Biography",
          "Biography",
          "Biography",
          "Biography",
          "Biography",
          "Biography",
          "Biography",
          "Biography",
          "Biography",
          "Biography",
          "Biography",
          "Biography",
          "Biography"
         ],
         "ids": [
          "Biography",
          "Biography",
          "Biography",
          "Biography",
          "Biography",
          "Biography",
          "Biography",
          "Biography",
          "Biography",
          "Biography",
          "Biography",
          "Biography",
          "Biography"
         ],
         "legendgroup": "Biography",
         "marker": {
          "color": "#00cc96",
          "size": [
           33000,
           29000,
           15000,
           22000,
           10000,
           559,
           33000,
           2000,
           14000,
           13000,
           19000,
           1000,
           11000
          ],
          "sizemode": "area",
          "sizeref": 17.28395061728395,
          "symbol": "circle"
         },
         "mode": "markers",
         "name": "Biography",
         "orientation": "v",
         "showlegend": true,
         "type": "scatter",
         "x": [
          118,
          180,
          134,
          133,
          120,
          147,
          130,
          134,
          118,
          123,
          114,
          98,
          117
         ],
         "xaxis": "x",
         "y": [
          8.1,
          8.2,
          7.8,
          7.6,
          7.7,
          7.9,
          7.8,
          8.1,
          8,
          7.7,
          8.1,
          7.6,
          8
         ],
         "yaxis": "y"
        },
        {
         "alignmentgroup": "True",
         "bingroup": "x",
         "hovertemplate": "genre_1=Biography<br>Runtime=%{x}<br>count=%{y}<extra></extra>",
         "legendgroup": "Biography",
         "marker": {
          "color": "#00cc96"
         },
         "name": "Biography",
         "offsetgroup": "Biography",
         "opacity": 0.5,
         "showlegend": false,
         "type": "histogram",
         "x": [
          118,
          180,
          134,
          133,
          120,
          147,
          130,
          134,
          118,
          123,
          114,
          98,
          117
         ],
         "xaxis": "x3",
         "yaxis": "y3"
        },
        {
         "alignmentgroup": "True",
         "hovertemplate": "<b>%{hovertext}</b><br><br>genre_1=Biography<br>IMDb_rating=%{y}<extra></extra>",
         "hovertext": [
          "Biography",
          "Biography",
          "Biography",
          "Biography",
          "Biography",
          "Biography",
          "Biography",
          "Biography",
          "Biography",
          "Biography",
          "Biography",
          "Biography",
          "Biography"
         ],
         "legendgroup": "Biography",
         "marker": {
          "color": "#00cc96",
          "symbol": "circle"
         },
         "name": "Biography",
         "offsetgroup": "Biography",
         "scalegroup": "y",
         "showlegend": false,
         "type": "violin",
         "xaxis": "x2",
         "y": [
          8.1,
          8.2,
          7.8,
          7.6,
          7.7,
          7.9,
          7.8,
          8.1,
          8,
          7.7,
          8.1,
          7.6,
          8
         ],
         "yaxis": "y2"
        },
        {
         "hovertemplate": "<b>%{hovertext}</b><br><br>genre_1=Drama<br>Runtime=%{x}<br>IMDb_rating=%{y}<br>actor_1_facebook_likes=%{marker.size}<extra></extra>",
         "hovertext": [
          "Drama",
          "Drama",
          "Drama",
          "Drama",
          "Drama",
          "Drama",
          "Drama",
          "Drama",
          "Drama",
          "Drama",
          "Drama",
          "Drama",
          "Drama",
          "Drama",
          "Drama",
          "Drama",
          "Drama",
          "Drama"
         ],
         "ids": [
          "Drama",
          "Drama",
          "Drama",
          "Drama",
          "Drama",
          "Drama",
          "Drama",
          "Drama",
          "Drama",
          "Drama",
          "Drama",
          "Drama",
          "Drama",
          "Drama",
          "Drama",
          "Drama",
          "Drama",
          "Drama"
         ],
         "legendgroup": "Drama",
         "marker": {
          "color": "#ab63fa",
          "size": [
           35000,
           518,
           39,
           29000,
           20000,
           15000,
           13000,
           15000,
           19000,
           876,
           149,
           20000,
           8000,
           8000,
           678,
           230,
           24000,
           140
          ],
          "sizemode": "area",
          "sizeref": 17.28395061728395,
          "symbol": "circle"
         },
         "mode": "markers",
         "name": "Drama",
         "orientation": "v",
         "showlegend": true,
         "type": "scatter",
         "x": [
          116,
          137,
          91,
          165,
          158,
          142,
          133,
          146,
          126,
          131,
          108,
          108,
          102,
          126,
          127,
          165,
          107,
          109
         ],
         "xaxis": "x",
         "y": [
          8,
          7.9,
          7.8,
          8.4,
          7.6,
          7.6,
          7.6,
          8.1,
          8,
          7.6,
          7.7,
          8,
          8,
          7.8,
          7.9,
          7.9,
          8.5,
          7.9
         ],
         "yaxis": "y"
        },
        {
         "alignmentgroup": "True",
         "bingroup": "x",
         "hovertemplate": "genre_1=Drama<br>Runtime=%{x}<br>count=%{y}<extra></extra>",
         "legendgroup": "Drama",
         "marker": {
          "color": "#ab63fa"
         },
         "name": "Drama",
         "offsetgroup": "Drama",
         "opacity": 0.5,
         "showlegend": false,
         "type": "histogram",
         "x": [
          116,
          137,
          91,
          165,
          158,
          142,
          133,
          146,
          126,
          131,
          108,
          108,
          102,
          126,
          127,
          165,
          107,
          109
         ],
         "xaxis": "x3",
         "yaxis": "y3"
        },
        {
         "alignmentgroup": "True",
         "hovertemplate": "<b>%{hovertext}</b><br><br>genre_1=Drama<br>IMDb_rating=%{y}<extra></extra>",
         "hovertext": [
          "Drama",
          "Drama",
          "Drama",
          "Drama",
          "Drama",
          "Drama",
          "Drama",
          "Drama",
          "Drama",
          "Drama",
          "Drama",
          "Drama",
          "Drama",
          "Drama",
          "Drama",
          "Drama",
          "Drama",
          "Drama"
         ],
         "legendgroup": "Drama",
         "marker": {
          "color": "#ab63fa",
          "symbol": "circle"
         },
         "name": "Drama",
         "offsetgroup": "Drama",
         "scalegroup": "y",
         "showlegend": false,
         "type": "violin",
         "xaxis": "x2",
         "y": [
          8,
          7.9,
          7.8,
          8.4,
          7.6,
          7.6,
          7.6,
          8.1,
          8,
          7.6,
          7.7,
          8,
          8,
          7.8,
          7.9,
          7.9,
          8.5,
          7.9
         ],
         "yaxis": "y2"
        },
        {
         "hovertemplate": "<b>%{hovertext}</b><br><br>genre_1=Crime<br>Runtime=%{x}<br>IMDb_rating=%{y}<br>actor_1_facebook_likes=%{marker.size}<extra></extra>",
         "hovertext": [
          "Crime",
          "Crime",
          "Crime",
          "Crime",
          "Crime",
          "Crime",
          "Crime",
          "Crime",
          "Crime"
         ],
         "ids": [
          "Crime",
          "Crime",
          "Crime",
          "Crime",
          "Crime",
          "Crime",
          "Crime",
          "Crime",
          "Crime"
         ],
         "legendgroup": "Crime",
         "marker": {
          "color": "#FFA15A",
          "size": [
           19000,
           18000,
           835,
           20000,
           10000,
           745,
           33000,
           15000,
           15000
          ],
          "sizemode": "area",
          "sizeref": 17.28395061728395,
          "symbol": "circle"
         },
         "mode": "markers",
         "name": "Crime",
         "orientation": "v",
         "showlegend": true,
         "type": "scatter",
         "x": [
          102,
          158,
          149,
          153,
          125,
          128,
          100,
          118,
          109
         ],
         "xaxis": "x",
         "y": [
          7.7,
          7.8,
          8.1,
          8.1,
          7.6,
          8.1,
          7.8,
          7.9,
          7.7
         ],
         "yaxis": "y"
        },
        {
         "alignmentgroup": "True",
         "bingroup": "x",
         "hovertemplate": "genre_1=Crime<br>Runtime=%{x}<br>count=%{y}<extra></extra>",
         "legendgroup": "Crime",
         "marker": {
          "color": "#FFA15A"
         },
         "name": "Crime",
         "offsetgroup": "Crime",
         "opacity": 0.5,
         "showlegend": false,
         "type": "histogram",
         "x": [
          102,
          158,
          149,
          153,
          125,
          128,
          100,
          118,
          109
         ],
         "xaxis": "x3",
         "yaxis": "y3"
        },
        {
         "alignmentgroup": "True",
         "hovertemplate": "<b>%{hovertext}</b><br><br>genre_1=Crime<br>IMDb_rating=%{y}<extra></extra>",
         "hovertext": [
          "Crime",
          "Crime",
          "Crime",
          "Crime",
          "Crime",
          "Crime",
          "Crime",
          "Crime",
          "Crime"
         ],
         "legendgroup": "Crime",
         "marker": {
          "color": "#FFA15A",
          "symbol": "circle"
         },
         "name": "Crime",
         "offsetgroup": "Crime",
         "scalegroup": "y",
         "showlegend": false,
         "type": "violin",
         "xaxis": "x2",
         "y": [
          7.7,
          7.8,
          8.1,
          8.1,
          7.6,
          8.1,
          7.8,
          7.9,
          7.7
         ],
         "yaxis": "y2"
        },
        {
         "hovertemplate": "<b>%{hovertext}</b><br><br>genre_1=Action<br>Runtime=%{x}<br>IMDb_rating=%{y}<br>actor_1_facebook_likes=%{marker.size}<extra></extra>",
         "hovertext": [
          "Action",
          "Action",
          "Action",
          "Action",
          "Action",
          "Action",
          "Action",
          "Action",
          "Action",
          "Action",
          "Action",
          "Action",
          "Action",
          "Action",
          "Action",
          "Action",
          "Action",
          "Action",
          "Action",
          "Action",
          "Action",
          "Action",
          "Action",
          "Action",
          "Action",
          "Action",
          "Action"
         ],
         "ids": [
          "Action",
          "Action",
          "Action",
          "Action",
          "Action",
          "Action",
          "Action",
          "Action",
          "Action",
          "Action",
          "Action",
          "Action",
          "Action",
          "Action",
          "Action",
          "Action",
          "Action",
          "Action",
          "Action",
          "Action",
          "Action",
          "Action",
          "Action",
          "Action",
          "Action",
          "Action",
          "Action"
         ],
         "legendgroup": "Action",
         "marker": {
          "color": "#19d3f3",
          "size": [
           19000,
           27000,
           21000,
           26000,
           883,
           34000,
           19000,
           10000,
           14000,
           19000,
           10000,
           29000,
           34000,
           27000,
           34000,
           11000,
           11000,
           10000,
           16000,
           1000,
           480,
           26000,
           553,
           455,
           23000,
           27000,
           131
          ],
          "sizemode": "area",
          "sizeref": 17.28395061728395,
          "symbol": "circle"
         },
         "mode": "markers",
         "name": "Action",
         "orientation": "v",
         "showlegend": true,
         "type": "scatter",
         "x": [
          115,
          164,
          147,
          143,
          143,
          132,
          132,
          113,
          121,
          136,
          130,
          148,
          132,
          120,
          146,
          124,
          134,
          112,
          108,
          120,
          121,
          123,
          117,
          121,
          116,
          140,
          136
         ],
         "xaxis": "x",
         "y": [
          7.6,
          8.4,
          7.9,
          8.1,
          7.8,
          8,
          7.8,
          7.9,
          8.1,
          7.8,
          7.6,
          8.8,
          7.8,
          8.1,
          7.6,
          7.6,
          7.6,
          7.5,
          8,
          7.7,
          7.5,
          8.1,
          7.7,
          7.6,
          7.8,
          8.2,
          8.1
         ],
         "yaxis": "y"
        },
        {
         "alignmentgroup": "True",
         "bingroup": "x",
         "hovertemplate": "genre_1=Action<br>Runtime=%{x}<br>count=%{y}<extra></extra>",
         "legendgroup": "Action",
         "marker": {
          "color": "#19d3f3"
         },
         "name": "Action",
         "offsetgroup": "Action",
         "opacity": 0.5,
         "showlegend": false,
         "type": "histogram",
         "x": [
          115,
          164,
          147,
          143,
          143,
          132,
          132,
          113,
          121,
          136,
          130,
          148,
          132,
          120,
          146,
          124,
          134,
          112,
          108,
          120,
          121,
          123,
          117,
          121,
          116,
          140,
          136
         ],
         "xaxis": "x3",
         "yaxis": "y3"
        },
        {
         "alignmentgroup": "True",
         "hovertemplate": "<b>%{hovertext}</b><br><br>genre_1=Action<br>IMDb_rating=%{y}<extra></extra>",
         "hovertext": [
          "Action",
          "Action",
          "Action",
          "Action",
          "Action",
          "Action",
          "Action",
          "Action",
          "Action",
          "Action",
          "Action",
          "Action",
          "Action",
          "Action",
          "Action",
          "Action",
          "Action",
          "Action",
          "Action",
          "Action",
          "Action",
          "Action",
          "Action",
          "Action",
          "Action",
          "Action",
          "Action"
         ],
         "legendgroup": "Action",
         "marker": {
          "color": "#19d3f3",
          "symbol": "circle"
         },
         "name": "Action",
         "offsetgroup": "Action",
         "scalegroup": "y",
         "showlegend": false,
         "type": "violin",
         "xaxis": "x2",
         "y": [
          7.6,
          8.4,
          7.9,
          8.1,
          7.8,
          8,
          7.8,
          7.9,
          8.1,
          7.8,
          7.6,
          8.8,
          7.8,
          8.1,
          7.6,
          7.6,
          7.6,
          7.5,
          8,
          7.7,
          7.5,
          8.1,
          7.7,
          7.6,
          7.8,
          8.2,
          8.1
         ],
         "yaxis": "y2"
        },
        {
         "hovertemplate": "<b>%{hovertext}</b><br><br>genre_1=Adventure<br>Runtime=%{x}<br>IMDb_rating=%{y}<br>actor_1_facebook_likes=%{marker.size}<extra></extra>",
         "hovertext": [
          "Adventure",
          "Adventure",
          "Adventure",
          "Adventure",
          "Adventure",
          "Adventure",
          "Adventure",
          "Adventure",
          "Adventure",
          "Adventure",
          "Adventure",
          "Adventure"
         ],
         "ids": [
          "Adventure",
          "Adventure",
          "Adventure",
          "Adventure",
          "Adventure",
          "Adventure",
          "Adventure",
          "Adventure",
          "Adventure",
          "Adventure",
          "Adventure",
          "Adventure"
         ],
         "legendgroup": "Adventure",
         "marker": {
          "color": "#FF6692",
          "size": [
           5000,
           5000,
           17000,
           11000,
           29000,
           13000,
           13000,
           13000,
           11000,
           13000,
           1000,
           10000
          ],
          "sizemode": "area",
          "sizeref": 17.28395061728395,
          "symbol": "circle"
         },
         "mode": "markers",
         "name": "Adventure",
         "orientation": "v",
         "showlegend": true,
         "type": "scatter",
         "x": [
          161,
          169,
          126,
          169,
          156,
          144,
          110,
          99,
          94,
          94,
          115,
          146
         ],
         "xaxis": "x",
         "y": [
          7.9,
          7.9,
          7.5,
          8.6,
          8,
          8,
          7.6,
          8.1,
          7.6,
          7.8,
          7.7,
          7.7
         ],
         "yaxis": "y"
        },
        {
         "alignmentgroup": "True",
         "bingroup": "x",
         "hovertemplate": "genre_1=Adventure<br>Runtime=%{x}<br>count=%{y}<extra></extra>",
         "legendgroup": "Adventure",
         "marker": {
          "color": "#FF6692"
         },
         "name": "Adventure",
         "offsetgroup": "Adventure",
         "opacity": 0.5,
         "showlegend": false,
         "type": "histogram",
         "x": [
          161,
          169,
          126,
          169,
          156,
          144,
          110,
          99,
          94,
          94,
          115,
          146
         ],
         "xaxis": "x3",
         "yaxis": "y3"
        },
        {
         "alignmentgroup": "True",
         "hovertemplate": "<b>%{hovertext}</b><br><br>genre_1=Adventure<br>IMDb_rating=%{y}<extra></extra>",
         "hovertext": [
          "Adventure",
          "Adventure",
          "Adventure",
          "Adventure",
          "Adventure",
          "Adventure",
          "Adventure",
          "Adventure",
          "Adventure",
          "Adventure",
          "Adventure",
          "Adventure"
         ],
         "legendgroup": "Adventure",
         "marker": {
          "color": "#FF6692",
          "symbol": "circle"
         },
         "name": "Adventure",
         "offsetgroup": "Adventure",
         "scalegroup": "y",
         "showlegend": false,
         "type": "violin",
         "xaxis": "x2",
         "y": [
          7.9,
          7.9,
          7.5,
          8.6,
          8,
          8,
          7.6,
          8.1,
          7.6,
          7.8,
          7.7,
          7.7
         ],
         "yaxis": "y2"
        },
        {
         "hovertemplate": "<b>%{hovertext}</b><br><br>genre_1=Mystery<br>Runtime=%{x}<br>IMDb_rating=%{y}<br>actor_1_facebook_likes=%{marker.size}<extra></extra>",
         "hovertext": [
          "Mystery"
         ],
         "ids": [
          "Mystery"
         ],
         "legendgroup": "Mystery",
         "marker": {
          "color": "#B6E880",
          "size": [
           29000
          ],
          "sizemode": "area",
          "sizeref": 17.28395061728395,
          "symbol": "circle"
         },
         "mode": "markers",
         "name": "Mystery",
         "orientation": "v",
         "showlegend": true,
         "type": "scatter",
         "x": [
          138
         ],
         "xaxis": "x",
         "y": [
          8.1
         ],
         "yaxis": "y"
        },
        {
         "alignmentgroup": "True",
         "bingroup": "x",
         "hovertemplate": "genre_1=Mystery<br>Runtime=%{x}<br>count=%{y}<extra></extra>",
         "legendgroup": "Mystery",
         "marker": {
          "color": "#B6E880"
         },
         "name": "Mystery",
         "offsetgroup": "Mystery",
         "opacity": 0.5,
         "showlegend": false,
         "type": "histogram",
         "x": [
          138
         ],
         "xaxis": "x3",
         "yaxis": "y3"
        },
        {
         "alignmentgroup": "True",
         "hovertemplate": "<b>%{hovertext}</b><br><br>genre_1=Mystery<br>IMDb_rating=%{y}<extra></extra>",
         "hovertext": [
          "Mystery"
         ],
         "legendgroup": "Mystery",
         "marker": {
          "color": "#B6E880",
          "symbol": "circle"
         },
         "name": "Mystery",
         "offsetgroup": "Mystery",
         "scalegroup": "y",
         "showlegend": false,
         "type": "violin",
         "xaxis": "x2",
         "y": [
          8.1
         ],
         "yaxis": "y2"
        }
       ],
       "layout": {
        "barmode": "overlay",
        "legend": {
         "itemsizing": "constant",
         "title": {
          "text": "genre_1"
         },
         "tracegroupgap": 0
        },
        "margin": {
         "t": 60
        },
        "template": {
         "data": {
          "bar": [
           {
            "error_x": {
             "color": "#2a3f5f"
            },
            "error_y": {
             "color": "#2a3f5f"
            },
            "marker": {
             "line": {
              "color": "#E5ECF6",
              "width": 0.5
             },
             "pattern": {
              "fillmode": "overlay",
              "size": 10,
              "solidity": 0.2
             }
            },
            "type": "bar"
           }
          ],
          "barpolar": [
           {
            "marker": {
             "line": {
              "color": "#E5ECF6",
              "width": 0.5
             },
             "pattern": {
              "fillmode": "overlay",
              "size": 10,
              "solidity": 0.2
             }
            },
            "type": "barpolar"
           }
          ],
          "carpet": [
           {
            "aaxis": {
             "endlinecolor": "#2a3f5f",
             "gridcolor": "white",
             "linecolor": "white",
             "minorgridcolor": "white",
             "startlinecolor": "#2a3f5f"
            },
            "baxis": {
             "endlinecolor": "#2a3f5f",
             "gridcolor": "white",
             "linecolor": "white",
             "minorgridcolor": "white",
             "startlinecolor": "#2a3f5f"
            },
            "type": "carpet"
           }
          ],
          "choropleth": [
           {
            "colorbar": {
             "outlinewidth": 0,
             "ticks": ""
            },
            "type": "choropleth"
           }
          ],
          "contour": [
           {
            "colorbar": {
             "outlinewidth": 0,
             "ticks": ""
            },
            "colorscale": [
             [
              0,
              "#0d0887"
             ],
             [
              0.1111111111111111,
              "#46039f"
             ],
             [
              0.2222222222222222,
              "#7201a8"
             ],
             [
              0.3333333333333333,
              "#9c179e"
             ],
             [
              0.4444444444444444,
              "#bd3786"
             ],
             [
              0.5555555555555556,
              "#d8576b"
             ],
             [
              0.6666666666666666,
              "#ed7953"
             ],
             [
              0.7777777777777778,
              "#fb9f3a"
             ],
             [
              0.8888888888888888,
              "#fdca26"
             ],
             [
              1,
              "#f0f921"
             ]
            ],
            "type": "contour"
           }
          ],
          "contourcarpet": [
           {
            "colorbar": {
             "outlinewidth": 0,
             "ticks": ""
            },
            "type": "contourcarpet"
           }
          ],
          "heatmap": [
           {
            "colorbar": {
             "outlinewidth": 0,
             "ticks": ""
            },
            "colorscale": [
             [
              0,
              "#0d0887"
             ],
             [
              0.1111111111111111,
              "#46039f"
             ],
             [
              0.2222222222222222,
              "#7201a8"
             ],
             [
              0.3333333333333333,
              "#9c179e"
             ],
             [
              0.4444444444444444,
              "#bd3786"
             ],
             [
              0.5555555555555556,
              "#d8576b"
             ],
             [
              0.6666666666666666,
              "#ed7953"
             ],
             [
              0.7777777777777778,
              "#fb9f3a"
             ],
             [
              0.8888888888888888,
              "#fdca26"
             ],
             [
              1,
              "#f0f921"
             ]
            ],
            "type": "heatmap"
           }
          ],
          "heatmapgl": [
           {
            "colorbar": {
             "outlinewidth": 0,
             "ticks": ""
            },
            "colorscale": [
             [
              0,
              "#0d0887"
             ],
             [
              0.1111111111111111,
              "#46039f"
             ],
             [
              0.2222222222222222,
              "#7201a8"
             ],
             [
              0.3333333333333333,
              "#9c179e"
             ],
             [
              0.4444444444444444,
              "#bd3786"
             ],
             [
              0.5555555555555556,
              "#d8576b"
             ],
             [
              0.6666666666666666,
              "#ed7953"
             ],
             [
              0.7777777777777778,
              "#fb9f3a"
             ],
             [
              0.8888888888888888,
              "#fdca26"
             ],
             [
              1,
              "#f0f921"
             ]
            ],
            "type": "heatmapgl"
           }
          ],
          "histogram": [
           {
            "marker": {
             "pattern": {
              "fillmode": "overlay",
              "size": 10,
              "solidity": 0.2
             }
            },
            "type": "histogram"
           }
          ],
          "histogram2d": [
           {
            "colorbar": {
             "outlinewidth": 0,
             "ticks": ""
            },
            "colorscale": [
             [
              0,
              "#0d0887"
             ],
             [
              0.1111111111111111,
              "#46039f"
             ],
             [
              0.2222222222222222,
              "#7201a8"
             ],
             [
              0.3333333333333333,
              "#9c179e"
             ],
             [
              0.4444444444444444,
              "#bd3786"
             ],
             [
              0.5555555555555556,
              "#d8576b"
             ],
             [
              0.6666666666666666,
              "#ed7953"
             ],
             [
              0.7777777777777778,
              "#fb9f3a"
             ],
             [
              0.8888888888888888,
              "#fdca26"
             ],
             [
              1,
              "#f0f921"
             ]
            ],
            "type": "histogram2d"
           }
          ],
          "histogram2dcontour": [
           {
            "colorbar": {
             "outlinewidth": 0,
             "ticks": ""
            },
            "colorscale": [
             [
              0,
              "#0d0887"
             ],
             [
              0.1111111111111111,
              "#46039f"
             ],
             [
              0.2222222222222222,
              "#7201a8"
             ],
             [
              0.3333333333333333,
              "#9c179e"
             ],
             [
              0.4444444444444444,
              "#bd3786"
             ],
             [
              0.5555555555555556,
              "#d8576b"
             ],
             [
              0.6666666666666666,
              "#ed7953"
             ],
             [
              0.7777777777777778,
              "#fb9f3a"
             ],
             [
              0.8888888888888888,
              "#fdca26"
             ],
             [
              1,
              "#f0f921"
             ]
            ],
            "type": "histogram2dcontour"
           }
          ],
          "mesh3d": [
           {
            "colorbar": {
             "outlinewidth": 0,
             "ticks": ""
            },
            "type": "mesh3d"
           }
          ],
          "parcoords": [
           {
            "line": {
             "colorbar": {
              "outlinewidth": 0,
              "ticks": ""
             }
            },
            "type": "parcoords"
           }
          ],
          "pie": [
           {
            "automargin": true,
            "type": "pie"
           }
          ],
          "scatter": [
           {
            "fillpattern": {
             "fillmode": "overlay",
             "size": 10,
             "solidity": 0.2
            },
            "type": "scatter"
           }
          ],
          "scatter3d": [
           {
            "line": {
             "colorbar": {
              "outlinewidth": 0,
              "ticks": ""
             }
            },
            "marker": {
             "colorbar": {
              "outlinewidth": 0,
              "ticks": ""
             }
            },
            "type": "scatter3d"
           }
          ],
          "scattercarpet": [
           {
            "marker": {
             "colorbar": {
              "outlinewidth": 0,
              "ticks": ""
             }
            },
            "type": "scattercarpet"
           }
          ],
          "scattergeo": [
           {
            "marker": {
             "colorbar": {
              "outlinewidth": 0,
              "ticks": ""
             }
            },
            "type": "scattergeo"
           }
          ],
          "scattergl": [
           {
            "marker": {
             "colorbar": {
              "outlinewidth": 0,
              "ticks": ""
             }
            },
            "type": "scattergl"
           }
          ],
          "scattermapbox": [
           {
            "marker": {
             "colorbar": {
              "outlinewidth": 0,
              "ticks": ""
             }
            },
            "type": "scattermapbox"
           }
          ],
          "scatterpolar": [
           {
            "marker": {
             "colorbar": {
              "outlinewidth": 0,
              "ticks": ""
             }
            },
            "type": "scatterpolar"
           }
          ],
          "scatterpolargl": [
           {
            "marker": {
             "colorbar": {
              "outlinewidth": 0,
              "ticks": ""
             }
            },
            "type": "scatterpolargl"
           }
          ],
          "scatterternary": [
           {
            "marker": {
             "colorbar": {
              "outlinewidth": 0,
              "ticks": ""
             }
            },
            "type": "scatterternary"
           }
          ],
          "surface": [
           {
            "colorbar": {
             "outlinewidth": 0,
             "ticks": ""
            },
            "colorscale": [
             [
              0,
              "#0d0887"
             ],
             [
              0.1111111111111111,
              "#46039f"
             ],
             [
              0.2222222222222222,
              "#7201a8"
             ],
             [
              0.3333333333333333,
              "#9c179e"
             ],
             [
              0.4444444444444444,
              "#bd3786"
             ],
             [
              0.5555555555555556,
              "#d8576b"
             ],
             [
              0.6666666666666666,
              "#ed7953"
             ],
             [
              0.7777777777777778,
              "#fb9f3a"
             ],
             [
              0.8888888888888888,
              "#fdca26"
             ],
             [
              1,
              "#f0f921"
             ]
            ],
            "type": "surface"
           }
          ],
          "table": [
           {
            "cells": {
             "fill": {
              "color": "#EBF0F8"
             },
             "line": {
              "color": "white"
             }
            },
            "header": {
             "fill": {
              "color": "#C8D4E3"
             },
             "line": {
              "color": "white"
             }
            },
            "type": "table"
           }
          ]
         },
         "layout": {
          "annotationdefaults": {
           "arrowcolor": "#2a3f5f",
           "arrowhead": 0,
           "arrowwidth": 1
          },
          "autotypenumbers": "strict",
          "coloraxis": {
           "colorbar": {
            "outlinewidth": 0,
            "ticks": ""
           }
          },
          "colorscale": {
           "diverging": [
            [
             0,
             "#8e0152"
            ],
            [
             0.1,
             "#c51b7d"
            ],
            [
             0.2,
             "#de77ae"
            ],
            [
             0.3,
             "#f1b6da"
            ],
            [
             0.4,
             "#fde0ef"
            ],
            [
             0.5,
             "#f7f7f7"
            ],
            [
             0.6,
             "#e6f5d0"
            ],
            [
             0.7,
             "#b8e186"
            ],
            [
             0.8,
             "#7fbc41"
            ],
            [
             0.9,
             "#4d9221"
            ],
            [
             1,
             "#276419"
            ]
           ],
           "sequential": [
            [
             0,
             "#0d0887"
            ],
            [
             0.1111111111111111,
             "#46039f"
            ],
            [
             0.2222222222222222,
             "#7201a8"
            ],
            [
             0.3333333333333333,
             "#9c179e"
            ],
            [
             0.4444444444444444,
             "#bd3786"
            ],
            [
             0.5555555555555556,
             "#d8576b"
            ],
            [
             0.6666666666666666,
             "#ed7953"
            ],
            [
             0.7777777777777778,
             "#fb9f3a"
            ],
            [
             0.8888888888888888,
             "#fdca26"
            ],
            [
             1,
             "#f0f921"
            ]
           ],
           "sequentialminus": [
            [
             0,
             "#0d0887"
            ],
            [
             0.1111111111111111,
             "#46039f"
            ],
            [
             0.2222222222222222,
             "#7201a8"
            ],
            [
             0.3333333333333333,
             "#9c179e"
            ],
            [
             0.4444444444444444,
             "#bd3786"
            ],
            [
             0.5555555555555556,
             "#d8576b"
            ],
            [
             0.6666666666666666,
             "#ed7953"
            ],
            [
             0.7777777777777778,
             "#fb9f3a"
            ],
            [
             0.8888888888888888,
             "#fdca26"
            ],
            [
             1,
             "#f0f921"
            ]
           ]
          },
          "colorway": [
           "#636efa",
           "#EF553B",
           "#00cc96",
           "#ab63fa",
           "#FFA15A",
           "#19d3f3",
           "#FF6692",
           "#B6E880",
           "#FF97FF",
           "#FECB52"
          ],
          "font": {
           "color": "#2a3f5f"
          },
          "geo": {
           "bgcolor": "white",
           "lakecolor": "white",
           "landcolor": "#E5ECF6",
           "showlakes": true,
           "showland": true,
           "subunitcolor": "white"
          },
          "hoverlabel": {
           "align": "left"
          },
          "hovermode": "closest",
          "mapbox": {
           "style": "light"
          },
          "paper_bgcolor": "white",
          "plot_bgcolor": "#E5ECF6",
          "polar": {
           "angularaxis": {
            "gridcolor": "white",
            "linecolor": "white",
            "ticks": ""
           },
           "bgcolor": "#E5ECF6",
           "radialaxis": {
            "gridcolor": "white",
            "linecolor": "white",
            "ticks": ""
           }
          },
          "scene": {
           "xaxis": {
            "backgroundcolor": "#E5ECF6",
            "gridcolor": "white",
            "gridwidth": 2,
            "linecolor": "white",
            "showbackground": true,
            "ticks": "",
            "zerolinecolor": "white"
           },
           "yaxis": {
            "backgroundcolor": "#E5ECF6",
            "gridcolor": "white",
            "gridwidth": 2,
            "linecolor": "white",
            "showbackground": true,
            "ticks": "",
            "zerolinecolor": "white"
           },
           "zaxis": {
            "backgroundcolor": "#E5ECF6",
            "gridcolor": "white",
            "gridwidth": 2,
            "linecolor": "white",
            "showbackground": true,
            "ticks": "",
            "zerolinecolor": "white"
           }
          },
          "shapedefaults": {
           "line": {
            "color": "#2a3f5f"
           }
          },
          "ternary": {
           "aaxis": {
            "gridcolor": "white",
            "linecolor": "white",
            "ticks": ""
           },
           "baxis": {
            "gridcolor": "white",
            "linecolor": "white",
            "ticks": ""
           },
           "bgcolor": "#E5ECF6",
           "caxis": {
            "gridcolor": "white",
            "linecolor": "white",
            "ticks": ""
           }
          },
          "title": {
           "x": 0.05
          },
          "xaxis": {
           "automargin": true,
           "gridcolor": "white",
           "linecolor": "white",
           "ticks": "",
           "title": {
            "standoff": 15
           },
           "zerolinecolor": "white",
           "zerolinewidth": 2
          },
          "yaxis": {
           "automargin": true,
           "gridcolor": "white",
           "linecolor": "white",
           "ticks": "",
           "title": {
            "standoff": 15
           },
           "zerolinecolor": "white",
           "zerolinewidth": 2
          }
         }
        },
        "xaxis": {
         "anchor": "y",
         "domain": [
          0,
          0.7363
         ],
         "range": [
          2,
          2.176091259055681
         ],
         "title": {
          "text": "Runtime"
         },
         "type": "log"
        },
        "xaxis2": {
         "anchor": "y2",
         "domain": [
          0.7413,
          1
         ],
         "matches": "x2",
         "showgrid": false,
         "showline": false,
         "showticklabels": false,
         "ticks": ""
        },
        "xaxis3": {
         "anchor": "y3",
         "domain": [
          0,
          0.7363
         ],
         "matches": "x",
         "showgrid": true,
         "showticklabels": false,
         "type": "log"
        },
        "xaxis4": {
         "anchor": "y4",
         "domain": [
          0.7413,
          1
         ],
         "matches": "x2",
         "showgrid": false,
         "showline": false,
         "showticklabels": false,
         "ticks": ""
        },
        "yaxis": {
         "anchor": "x",
         "domain": [
          0,
          0.7326
         ],
         "range": [
          7.4,
          8.9
         ],
         "title": {
          "text": "IMDb_rating"
         }
        },
        "yaxis2": {
         "anchor": "x2",
         "domain": [
          0,
          0.7326
         ],
         "matches": "y",
         "showgrid": true,
         "showticklabels": false
        },
        "yaxis3": {
         "anchor": "x3",
         "domain": [
          0.7426,
          1
         ],
         "matches": "y3",
         "showgrid": true,
         "showline": false,
         "showticklabels": false,
         "ticks": ""
        },
        "yaxis4": {
         "anchor": "x4",
         "domain": [
          0.7426,
          1
         ],
         "matches": "y3",
         "showgrid": true,
         "showline": false,
         "showticklabels": false,
         "ticks": ""
        }
       }
      }
     },
     "metadata": {},
     "output_type": "display_data"
    },
    {
     "data": {
      "text/plain": [
       "<Figure size 30000x32000 with 0 Axes>"
      ]
     },
     "metadata": {},
     "output_type": "display_data"
    }
   ],
   "source": [
    "import plotly.express as px\n",
    "plt.figure(figsize=[300,320])\n",
    "fig = px.scatter(info, x=\"Runtime\", y=\"IMDb_rating\", \n",
    "                 animation_group=\"genre_1\",size=\"actor_1_facebook_likes\", \n",
    "                 color=\"genre_1\", \n",
    "                 hover_name=\"genre_1\",log_x=True, size_max=45, range_x=[100,150], range_y=[7.4,8.9],\n",
    "                 marginal_y='violin',\n",
    "                 marginal_x='histogram',\n",
    "    )\n",
    "fig.show()"
   ]
  },
  {
   "cell_type": "code",
   "execution_count": null,
   "metadata": {},
   "outputs": [],
   "source": []
  }
 ],
 "metadata": {
  "kernelspec": {
   "display_name": "Python 3",
   "language": "python",
   "name": "python3"
  },
  "language_info": {
   "codemirror_mode": {
    "name": "ipython",
    "version": 3
   },
   "file_extension": ".py",
   "mimetype": "text/x-python",
   "name": "python",
   "nbconvert_exporter": "python",
   "pygments_lexer": "ipython3",
   "version": "3.12.1"
  }
 },
 "nbformat": 4,
 "nbformat_minor": 2
}
