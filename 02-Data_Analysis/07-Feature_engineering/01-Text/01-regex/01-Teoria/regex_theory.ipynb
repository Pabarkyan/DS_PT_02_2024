{
 "cells": [
  {
   "cell_type": "markdown",
   "metadata": {},
   "source": [
    "# REGEX\n",
    "## (Regular Expressions)\n",
    "![](img/regex_cover.png)\n",
    "\n",
    "Los datos no siempre están organizados, formateados ni estructurados de forma homogénea.\n",
    "\n",
    "Una parte importante del trabajo de un _Data Scientist_ consiste en limpiar los datos **(Data Cleaning)**\n",
    "\n",
    "Para ello, existen técnicas como **Regex**\n",
    "\n",
    "Las expresiones regulares están conformadas por secuencias de caracteres que nos permiten encontrar patrones de búsqueda.\n",
    "\n",
    "# [¡VAMOS A ELLO!](https://regex101.com/)"
   ]
  },
  {
   "cell_type": "code",
   "execution_count": 60,
   "metadata": {},
   "outputs": [
    {
     "name": "stderr",
     "output_type": "stream",
     "text": [
      "<>:3: SyntaxWarning: invalid escape sequence '\\ '\n",
      "<>:3: SyntaxWarning: invalid escape sequence '\\ '\n",
      "C:\\Users\\jonat\\AppData\\Local\\Temp\\ipykernel_5492\\938535238.py:3: SyntaxWarning: invalid escape sequence '\\ '\n",
      "  text_to_search = '''\n"
     ]
    }
   ],
   "source": [
    "import re\n"
   ]
  },
  {
   "cell_type": "markdown",
   "metadata": {},
   "source": [
    "# Ejemplo"
   ]
  },
  {
   "cell_type": "code",
   "execution_count": 4,
   "metadata": {},
   "outputs": [
    {
     "data": {
      "text/plain": [
       "['jonatan.garcia', 'thebridgeschool.es']"
      ]
     },
     "execution_count": 4,
     "metadata": {},
     "output_type": "execute_result"
    }
   ],
   "source": [
    "mi_email = \"jonatan.garcia@thebridgeschool.es\"\n"
   ]
  },
  {
   "cell_type": "code",
   "execution_count": null,
   "metadata": {},
   "outputs": [],
   "source": [
    "# Separar el dominio\n",
    "mi_email.split(\"@\")"
   ]
  },
  {
   "cell_type": "code",
   "execution_count": 6,
   "metadata": {},
   "outputs": [
    {
     "data": {
      "text/plain": [
       "'es'"
      ]
     },
     "execution_count": 6,
     "metadata": {},
     "output_type": "execute_result"
    }
   ],
   "source": [
    "# Separar el dominio del \"país\"\n",
    "email = mi_email.split(\".\")\n",
    "email[len(email)-1]"
   ]
  },
  {
   "cell_type": "code",
   "execution_count": 8,
   "metadata": {},
   "outputs": [],
   "source": [
    "# ¿Qué sucede con análisis más complejos?\n",
    "# Por ejemplo, buscar el valor númerico en esta cadena\n",
    "cadena = \"El precio del pretróleo alcanzó los 100$ por barril\"\n"
   ]
  },
  {
   "cell_type": "code",
   "execution_count": 20,
   "metadata": {},
   "outputs": [
    {
     "name": "stdout",
     "output_type": "stream",
     "text": [
      "<re.Match object; span=(36, 39), match='100'>\n",
      "100\n"
     ]
    }
   ],
   "source": [
    "#https://docs.python.org/es/3/library/re.html\n",
    "# https://cheatography.com/mutanclan/cheat-sheets/python-regular-expression-regex/\n",
    "import re\n",
    "pattern = re.compile(r'[0-9]+')\n",
    "\n",
    "matches = pattern.finditer(cadena)\n",
    "for match in matches:\n",
    "    print(match)\n",
    "    print(cadena[match.start():match.end()])\n"
   ]
  },
  {
   "cell_type": "markdown",
   "metadata": {},
   "source": [
    "## Utilizamos las raw_strings para obtener la literalidad del texto:\n",
    "\n",
    "### `print(r'\\tTabulador')`"
   ]
  },
  {
   "cell_type": "code",
   "execution_count": 2,
   "metadata": {},
   "outputs": [
    {
     "name": "stdout",
     "output_type": "stream",
     "text": [
      "Tabulador sin raw string: \tTabulador\n",
      "Tabulador con raw string: \\tTabulador\n"
     ]
    }
   ],
   "source": [
    "print('Tabulador sin raw string: \\tTabulador')\n",
    "print(r'Tabulador con raw string: \\tTabulador')"
   ]
  },
  {
   "cell_type": "markdown",
   "metadata": {},
   "source": [
    "### Buscamos el patrón `abc` en el texto\n",
    "\n",
    "Para ello utilizamos:\n",
    "- `re.compile()`: para introducir el patrón que queremos buscar\n",
    "- La función `finditer()`: para buscar el patrón en nuestro texto\n",
    "- Iteramos sobre la búsqueda"
   ]
  },
  {
   "cell_type": "code",
   "execution_count": 21,
   "metadata": {},
   "outputs": [
    {
     "data": {
      "text/plain": [
       "'H'"
      ]
     },
     "execution_count": 21,
     "metadata": {},
     "output_type": "execute_result"
    }
   ],
   "source": [
    "mi_string = 'Hola mundo'\n",
    "mi_string[0]"
   ]
  },
  {
   "cell_type": "code",
   "execution_count": 24,
   "metadata": {},
   "outputs": [
    {
     "name": "stdout",
     "output_type": "stream",
     "text": [
      "<re.Match object; span=(20, 23), match='ABC'>\n",
      "ABC\n"
     ]
    }
   ],
   "source": [
    "text_to_search = \"Compra el periódico ABC, por favor. \"\n",
    "pattern = re.compile(r'ABC')\n",
    "\n",
    "matches = pattern.finditer(text_to_search)\n",
    "\n",
    "for match in matches:\n",
    "    print(match)\n",
    "    # el span es el índice de inicio y final de la coincidencia.\n",
    "    # gracias al span, podemos utilizar las técnicas de string slicing\n",
    "    # en python para localizarlo\n",
    "    print(text_to_search[match.start():match.end()])\n",
    "\n",
    "\n",
    "\n"
   ]
  },
  {
   "cell_type": "code",
   "execution_count": 25,
   "metadata": {},
   "outputs": [
    {
     "name": "stdout",
     "output_type": "stream",
     "text": [
      "<re.Match object; span=(20, 23), match='ABC'>\n",
      "ABC\n",
      "<re.Match object; span=(66, 69), match='ABC'>\n",
      "ABC\n"
     ]
    }
   ],
   "source": [
    "text_to_search = \"Compra el periódico ABC, por favor. ¿De verdad quieres comprar el ABC?\"\n",
    "pattern = re.compile(r'ABC')\n",
    "\n",
    "matches = pattern.finditer(text_to_search)\n",
    "\n",
    "for match in matches:\n",
    "    print(match)\n",
    "    # el span es el índice de inicio y final de la coincidencia.\n",
    "    # gracias al span, podemos utilizar las técnicas de string slicing\n",
    "    # en python para localizarlo\n",
    "    print(text_to_search[match.start():match.end()])\n"
   ]
  },
  {
   "cell_type": "markdown",
   "metadata": {},
   "source": [
    "### Hay que tener en cuenta que cuando específicamos el pattern, se busca la literalidad de ese patrón.\n",
    "Por ejemplo, si queremos buscar las letras en distinto orden..."
   ]
  },
  {
   "cell_type": "code",
   "execution_count": 26,
   "metadata": {},
   "outputs": [],
   "source": [
    "text_to_search = \"Compra el periódico Abc, por favor. ¿De verdad quieres comprar el abc?\"\n",
    "pattern = re.compile(r'ABC')\n",
    "\n",
    "matches = pattern.finditer(text_to_search)\n",
    "\n",
    "for match in matches:\n",
    "    print(match)\n",
    "    # el span es el índice de inicio y final de la coincidencia.\n",
    "    # gracias al span, podemos utilizar las técnicas de string slicing\n",
    "    # en python para localizarlo\n",
    "    print(text_to_search[match.start():match.end()])"
   ]
  },
  {
   "cell_type": "markdown",
   "metadata": {},
   "source": [
    "## Metacaracteres\n",
    "Son aquellos caracteres que no son alfanuméricos:\n",
    "- Signos de puntuación, exclamación y admiración\n",
    "\n",
    "Si queremos obtenerlos, tenemos que \"escaparlos\""
   ]
  },
  {
   "cell_type": "code",
   "execution_count": 29,
   "metadata": {},
   "outputs": [
    {
     "name": "stdout",
     "output_type": "stream",
     "text": [
      "<re.Match object; span=(20, 24), match='ABC,'>\n",
      "ABC,\n",
      "<re.Match object; span=(66, 70), match='ABC?'>\n",
      "ABC?\n"
     ]
    }
   ],
   "source": [
    "# Busca ABC y cualquier otro caracter que venga después\n",
    "text_to_search = \"Compra el periódico ABC, por favor. ¿De verdad quieres comprar el ABC?\"\n",
    "pattern = re.compile(r'ABC.')\n",
    "\n",
    "matches = pattern.finditer(text_to_search)\n",
    "\n",
    "for match in matches:\n",
    "    print(match)\n",
    "    # el span es el índice de inicio y final de la coincidencia.\n",
    "    # gracias al span, podemos utilizar las técnicas de string slicing\n",
    "    # en python para localizarlo\n",
    "    print(text_to_search[match.start():match.end()])"
   ]
  },
  {
   "cell_type": "code",
   "execution_count": 30,
   "metadata": {},
   "outputs": [
    {
     "name": "stdout",
     "output_type": "stream",
     "text": [
      "<re.Match object; span=(20, 24), match='ABC,'>\n",
      "ABC,\n",
      "<re.Match object; span=(66, 70), match='ABC?'>\n",
      "ABC?\n"
     ]
    }
   ],
   "source": [
    "# Busca ABC y cualquier otro caracter que venga después\n",
    "text_to_search = \"Compra el periódico ABC, por favor. ¿De verdad quieres comprar el ABC? En serio, compra el ABC\"\n",
    "pattern = re.compile(r'ABC.')\n",
    "\n",
    "matches = pattern.finditer(text_to_search)\n",
    "\n",
    "for match in matches:\n",
    "    print(match)\n",
    "    # el span es el índice de inicio y final de la coincidencia.\n",
    "    # gracias al span, podemos utilizar las técnicas de string slicing\n",
    "    # en python para localizarlo\n",
    "    print(text_to_search[match.start():match.end()])"
   ]
  },
  {
   "cell_type": "markdown",
   "metadata": {},
   "source": [
    "#### Para escaparlos, tienen que ir precedidos de la barra invertida(`\\`)"
   ]
  },
  {
   "cell_type": "code",
   "execution_count": 31,
   "metadata": {},
   "outputs": [
    {
     "name": "stdout",
     "output_type": "stream",
     "text": [
      "<re.Match object; span=(91, 95), match='ABC.'>\n",
      "ABC.\n"
     ]
    }
   ],
   "source": [
    "# Busca ABC y cualquier otro caracter que venga después\n",
    "text_to_search = \"Compra el periódico ABC, por favor. ¿De verdad quieres comprar el ABC? En serio, compra el ABC.\"\n",
    "pattern = re.compile(r'ABC\\.')\n",
    "\n",
    "matches = pattern.finditer(text_to_search)\n",
    "\n",
    "for match in matches:\n",
    "    print(match)\n",
    "    # el span es el índice de inicio y final de la coincidencia.\n",
    "    # gracias al span, podemos utilizar las técnicas de string slicing\n",
    "    # en python para localizarlo\n",
    "    print(text_to_search[match.start():match.end()])"
   ]
  },
  {
   "cell_type": "markdown",
   "metadata": {},
   "source": [
    "Para buscar una página web:"
   ]
  },
  {
   "cell_type": "code",
   "execution_count": 36,
   "metadata": {},
   "outputs": [
    {
     "name": "stdout",
     "output_type": "stream",
     "text": [
      "<re.Match object; span=(21, 27), match='abc.es'>\n",
      "abc.es\n",
      "<re.Match object; span=(47, 53), match='abc@es'>\n",
      "abc@es\n"
     ]
    }
   ],
   "source": [
    "# Te puede jugar malas pasadas!!\n",
    "text_to_search = \"Disponible en la web abc.es, pero escribenos a abc@españa.es para más información\"\n",
    "pattern = re.compile(r'abc.es')\n",
    "\n",
    "matches = pattern.finditer(text_to_search)\n",
    "\n",
    "for match in matches:\n",
    "    print(match)\n",
    "    print(text_to_search[match.start():match.end()])"
   ]
  },
  {
   "cell_type": "markdown",
   "metadata": {},
   "source": [
    "### `^` Busca solo el principio del string"
   ]
  },
  {
   "cell_type": "code",
   "execution_count": 55,
   "metadata": {},
   "outputs": [],
   "source": [
    "sentence = 'Start a sentence and then bring it to an end'"
   ]
  },
  {
   "cell_type": "code",
   "execution_count": 56,
   "metadata": {},
   "outputs": [
    {
     "name": "stdout",
     "output_type": "stream",
     "text": [
      "<re.Match object; span=(0, 5), match='Start'>\n",
      "Start\n"
     ]
    }
   ],
   "source": [
    "pattern = re.compile(r'^Start')\n",
    "\n",
    "matches = pattern.finditer(sentence)\n",
    "\n",
    "for match in matches:\n",
    "    print(match)\n",
    "    print(sentence[match.start():match.end()])"
   ]
  },
  {
   "cell_type": "code",
   "execution_count": 53,
   "metadata": {},
   "outputs": [],
   "source": [
    "sentence = ' Start a sentence and then bring it to an end'\n",
    "pattern = re.compile(r'^Start')\n",
    "\n",
    "matches = pattern.finditer(sentence)\n",
    "\n",
    "for match in matches:\n",
    "    print(match)\n",
    "    print(sentence[match.start():match.end()])"
   ]
  },
  {
   "cell_type": "markdown",
   "metadata": {},
   "source": [
    "### `$` Solo busca el final del string"
   ]
  },
  {
   "cell_type": "code",
   "execution_count": 52,
   "metadata": {},
   "outputs": [
    {
     "name": "stdout",
     "output_type": "stream",
     "text": [
      "<re.Match object; span=(41, 44), match='end'>\n",
      "end\n"
     ]
    }
   ],
   "source": [
    "sentence = 'Start a sentence and then bring it to an end'\n",
    "pattern = re.compile(r'end$')\n",
    "\n",
    "matches = pattern.finditer(sentence)\n",
    "\n",
    "for match in matches:\n",
    "    print(match)\n",
    "    print(sentence[match.start():match.end()])"
   ]
  },
  {
   "cell_type": "code",
   "execution_count": 58,
   "metadata": {},
   "outputs": [],
   "source": [
    "sentence = 'Start a sentence and then bring it to an end.'\n",
    "pattern = re.compile(r'end$')\n",
    "\n",
    "matches = pattern.finditer(sentence)\n",
    "\n",
    "for match in matches:\n",
    "    print(match)\n",
    "    print(sentence[match.start():match.end()])"
   ]
  },
  {
   "cell_type": "markdown",
   "metadata": {},
   "source": [
    "Word Boundaries `\\b`: está compuesto por los espacios, tabuladores, nuevas líneas y caracteres no alfanuméricos."
   ]
  },
  {
   "cell_type": "code",
   "execution_count": 45,
   "metadata": {},
   "outputs": [
    {
     "name": "stdout",
     "output_type": "stream",
     "text": [
      "<re.Match object; span=(0, 4), match='Kame'>\n",
      "Kame\n"
     ]
    }
   ],
   "source": [
    "text_to_search = \"KameKame-ha\"\n",
    "pattern = re.compile(r'\\bKame')\n",
    "\n",
    "matches = pattern.finditer(text_to_search)\n",
    "\n",
    "for match in matches:\n",
    "    print(match)\n",
    "    print(text_to_search[match.start():match.end()])"
   ]
  },
  {
   "cell_type": "markdown",
   "metadata": {},
   "source": [
    "No word boundaries `\\B`: lo contrario\n",
    "\n",
    "Muestra el último Ha, porque delante no tiene los boundaries"
   ]
  },
  {
   "cell_type": "code",
   "execution_count": 43,
   "metadata": {},
   "outputs": [
    {
     "name": "stdout",
     "output_type": "stream",
     "text": [
      "<re.Match object; span=(4, 8), match='Kame'>\n",
      "Kame\n"
     ]
    }
   ],
   "source": [
    "text_to_search = \"KameKame-ha\"\n",
    "pattern = re.compile(r'\\BKame')\n",
    "\n",
    "matches = pattern.finditer(text_to_search)\n",
    "\n",
    "for match in matches:\n",
    "    print(match)\n",
    "    print(text_to_search[match.start():match.end()])"
   ]
  },
  {
   "cell_type": "markdown",
   "metadata": {},
   "source": [
    "## TIME FOR ACTION\n",
    "\n",
    "A continuación, vamos a tratar de obtener los números de teléfono.\n",
    "\n",
    "Como podemos ver en el texto, el número de teléfono sigue la misma estructura: \n",
    "- 3 números\n",
    "- signo de puntuación \n",
    "- 3 números\n",
    "- signo de puntuación\n",
    "- 4 números"
   ]
  },
  {
   "cell_type": "code",
   "execution_count": 61,
   "metadata": {},
   "outputs": [
    {
     "name": "stderr",
     "output_type": "stream",
     "text": [
      "<>:1: SyntaxWarning: invalid escape sequence '\\ '\n",
      "<>:1: SyntaxWarning: invalid escape sequence '\\ '\n",
      "C:\\Users\\jonat\\AppData\\Local\\Temp\\ipykernel_5492\\2964883202.py:1: SyntaxWarning: invalid escape sequence '\\ '\n",
      "  text_to_search = '''\n"
     ]
    }
   ],
   "source": [
    "\n",
    "text_to_search = '''\n",
    "abcdefghijklmnopqurtuvwxyz\n",
    "ABCDEFGHIJKLMNOPQRSTUVWXYZ\n",
    "1234567890\n",
    "Ha HaHa ?Ha\n",
    "MetaCharacters (Need to be escaped):\n",
    ". ^ $ * + ? { } [ ] \\ | ( )\n",
    "miguelnievas*com\n",
    "miguelnievas.com\n",
    "miguelnievasocom\n",
    "321-555-4321\n",
    "123.555.1234\n",
    "123*555*1234\n",
    "800-555-1234\n",
    "900-555-1234\n",
    "Mr. Scha2fer\n",
    "Mr Smith\n",
    "Ms Davis\n",
    "Mrs. Robinson\n",
    "Mr. T\n",
    "Mr. ()\n",
    "\n",
    "cat\n",
    "mat\n",
    "pat\n",
    "bat \n",
    "at\n",
    "'''\n"
   ]
  },
  {
   "cell_type": "code",
   "execution_count": 62,
   "metadata": {},
   "outputs": [
    {
     "name": "stdout",
     "output_type": "stream",
     "text": [
      "<re.Match object; span=(194, 206), match='321-555-4321'>\n",
      "<re.Match object; span=(207, 219), match='123.555.1234'>\n",
      "<re.Match object; span=(220, 232), match='123*555*1234'>\n",
      "<re.Match object; span=(233, 245), match='800-555-1234'>\n",
      "<re.Match object; span=(246, 258), match='900-555-1234'>\n"
     ]
    }
   ],
   "source": [
    "#escribe tu código\n",
    "pattern = re.compile(r'\\d\\d\\d.\\d\\d\\d.\\d\\d\\d\\d')\n",
    "\n",
    "matches = pattern.finditer(text_to_search)\n",
    "\n",
    "for match in matches:\n",
    "    print(match)"
   ]
  },
  {
   "cell_type": "markdown",
   "metadata": {},
   "source": [
    "### Abrimos `fake_info.txt` para empezar a trabajar"
   ]
  },
  {
   "cell_type": "code",
   "execution_count": 63,
   "metadata": {},
   "outputs": [],
   "source": [
    "with open('data/fake_info.txt', 'r') as f:\n",
    "    contents = f.read()"
   ]
  },
  {
   "cell_type": "markdown",
   "metadata": {},
   "source": [
    "Como hemos visto, el código de arriba nos ha permitido encontrar la secuencia de números con cualquier signo de puntuación, pero pongamos que queremos obtener solamente los números de teléfono separados por un punto o un guion"
   ]
  },
  {
   "cell_type": "code",
   "execution_count": 64,
   "metadata": {},
   "outputs": [
    {
     "name": "stdout",
     "output_type": "stream",
     "text": [
      "<re.Match object; span=(12, 24), match='615-555-7164'>\n",
      "<re.Match object; span=(102, 114), match='800-555-5669'>\n",
      "<re.Match object; span=(191, 203), match='560-555-5153'>\n",
      "<re.Match object; span=(281, 293), match='900-555-9340'>\n",
      "<re.Match object; span=(378, 390), match='714-555-7405'>\n",
      "<re.Match object; span=(467, 479), match='800-555-6771'>\n",
      "<re.Match object; span=(557, 569), match='783-555-4799'>\n",
      "<re.Match object; span=(647, 659), match='516-555-4615'>\n",
      "<re.Match object; span=(740, 752), match='127-555-1867'>\n",
      "<re.Match object; span=(831, 843), match='608-555-4938'>\n",
      "<re.Match object; span=(917, 929), match='568-555-6051'>\n",
      "<re.Match object; span=(1005, 1017), match='292-555-1875'>\n",
      "<re.Match object; span=(1093, 1105), match='900-555-3205'>\n",
      "<re.Match object; span=(1182, 1194), match='614-555-1166'>\n",
      "<re.Match object; span=(1273, 1285), match='530-555-2676'>\n",
      "<re.Match object; span=(1359, 1371), match='470-555-2750'>\n",
      "<re.Match object; span=(1443, 1455), match='800-555-6089'>\n",
      "<re.Match object; span=(1530, 1542), match='880-555-8319'>\n",
      "<re.Match object; span=(1618, 1630), match='777-555-8378'>\n",
      "<re.Match object; span=(1701, 1713), match='998-555-7385'>\n",
      "<re.Match object; span=(1794, 1806), match='800-555-7100'>\n",
      "<re.Match object; span=(1878, 1890), match='903-555-8277'>\n",
      "<re.Match object; span=(1966, 1978), match='196-555-5674'>\n",
      "<re.Match object; span=(2055, 2067), match='900-555-5118'>\n",
      "<re.Match object; span=(2139, 2151), match='905-555-1630'>\n",
      "<re.Match object; span=(2220, 2232), match='203-555-3475'>\n",
      "<re.Match object; span=(2304, 2316), match='884-555-8444'>\n",
      "<re.Match object; span=(2391, 2403), match='904-555-8559'>\n",
      "<re.Match object; span=(2479, 2491), match='889-555-7393'>\n",
      "<re.Match object; span=(2566, 2578), match='195-555-2405'>\n",
      "<re.Match object; span=(2651, 2663), match='321-555-9053'>\n",
      "<re.Match object; span=(2738, 2750), match='133-555-1711'>\n",
      "<re.Match object; span=(2830, 2842), match='900-555-5428'>\n",
      "<re.Match object; span=(2919, 2931), match='760-555-7147'>\n",
      "<re.Match object; span=(3018, 3030), match='391-555-6621'>\n",
      "<re.Match object; span=(3109, 3121), match='932-555-7724'>\n",
      "<re.Match object; span=(3198, 3210), match='609-555-7908'>\n",
      "<re.Match object; span=(3290, 3302), match='800-555-8810'>\n",
      "<re.Match object; span=(3378, 3390), match='149-555-7657'>\n",
      "<re.Match object; span=(3458, 3470), match='130-555-9709'>\n",
      "<re.Match object; span=(3541, 3553), match='143-555-9295'>\n",
      "<re.Match object; span=(3630, 3642), match='903-555-9878'>\n",
      "<re.Match object; span=(3720, 3732), match='574-555-3194'>\n",
      "<re.Match object; span=(3808, 3820), match='496-555-7533'>\n",
      "<re.Match object; span=(3893, 3905), match='210-555-3757'>\n",
      "<re.Match object; span=(3977, 3989), match='900-555-9598'>\n",
      "<re.Match object; span=(4062, 4074), match='866-555-9844'>\n",
      "<re.Match object; span=(4146, 4158), match='669-555-7159'>\n",
      "<re.Match object; span=(4231, 4243), match='152-555-7417'>\n",
      "<re.Match object; span=(4323, 4335), match='893-555-9832'>\n",
      "<re.Match object; span=(4413, 4425), match='217-555-7123'>\n",
      "<re.Match object; span=(4504, 4516), match='786-555-6544'>\n",
      "<re.Match object; span=(4594, 4606), match='780-555-2574'>\n",
      "<re.Match object; span=(4682, 4694), match='926-555-8735'>\n",
      "<re.Match object; span=(4768, 4780), match='895-555-3539'>\n",
      "<re.Match object; span=(4865, 4877), match='874-555-3949'>\n",
      "<re.Match object; span=(4951, 4963), match='800-555-2420'>\n",
      "<re.Match object; span=(5040, 5052), match='936-555-6340'>\n",
      "<re.Match object; span=(5129, 5141), match='372-555-9809'>\n",
      "<re.Match object; span=(5216, 5228), match='890-555-5618'>\n",
      "<re.Match object; span=(5298, 5310), match='670-555-3005'>\n",
      "<re.Match object; span=(5388, 5400), match='509-555-5997'>\n",
      "<re.Match object; span=(5481, 5493), match='721-555-5632'>\n",
      "<re.Match object; span=(5572, 5584), match='900-555-3567'>\n",
      "<re.Match object; span=(5662, 5674), match='147-555-6830'>\n",
      "<re.Match object; span=(5751, 5763), match='582-555-3426'>\n",
      "<re.Match object; span=(5836, 5848), match='400-555-1706'>\n",
      "<re.Match object; span=(5927, 5939), match='525-555-1793'>\n",
      "<re.Match object; span=(6017, 6029), match='317-555-6700'>\n",
      "<re.Match object; span=(6105, 6117), match='974-555-8301'>\n",
      "<re.Match object; span=(6195, 6207), match='800-555-3216'>\n",
      "<re.Match object; span=(6281, 6293), match='746-555-4094'>\n",
      "<re.Match object; span=(6368, 6380), match='922-555-1773'>\n",
      "<re.Match object; span=(6453, 6465), match='711-555-4427'>\n",
      "<re.Match object; span=(6538, 6550), match='355-555-1872'>\n",
      "<re.Match object; span=(6627, 6639), match='852-555-6521'>\n",
      "<re.Match object; span=(6719, 6731), match='691-555-5773'>\n",
      "<re.Match object; span=(6811, 6823), match='332-555-5441'>\n",
      "<re.Match object; span=(6897, 6909), match='900-555-7755'>\n",
      "<re.Match object; span=(6979, 6991), match='379-555-3685'>\n",
      "<re.Match object; span=(7069, 7081), match='127-555-9682'>\n",
      "<re.Match object; span=(7160, 7172), match='789-555-7032'>\n",
      "<re.Match object; span=(7251, 7263), match='783-555-5135'>\n",
      "<re.Match object; span=(7344, 7356), match='315-555-6507'>\n",
      "<re.Match object; span=(7435, 7447), match='481-555-5835'>\n",
      "<re.Match object; span=(7523, 7535), match='365-555-8287'>\n",
      "<re.Match object; span=(7615, 7627), match='911-555-7535'>\n",
      "<re.Match object; span=(7701, 7713), match='681-555-2460'>\n",
      "<re.Match object; span=(7787, 7799), match='274-555-9800'>\n",
      "<re.Match object; span=(7872, 7884), match='800-555-1372'>\n",
      "<re.Match object; span=(7961, 7973), match='300-555-7821'>\n",
      "<re.Match object; span=(8051, 8063), match='133-555-3889'>\n",
      "<re.Match object; span=(8139, 8151), match='705-555-6863'>\n",
      "<re.Match object; span=(8228, 8240), match='215-555-9449'>\n",
      "<re.Match object; span=(8319, 8331), match='988-555-6112'>\n",
      "<re.Match object; span=(8405, 8417), match='623-555-3006'>\n",
      "<re.Match object; span=(8489, 8501), match='192-555-4977'>\n",
      "<re.Match object; span=(8574, 8586), match='178-555-4899'>\n",
      "<re.Match object; span=(8658, 8670), match='952-555-3089'>\n",
      "<re.Match object; span=(8751, 8763), match='900-555-6426'>\n"
     ]
    }
   ],
   "source": [
    "#escribe tu código\n",
    "pattern = re.compile(r'\\d\\d\\d[-\\.]\\d\\d\\d[-\\.]\\d\\d\\d\\d')\n",
    "\n",
    "matches = pattern.finditer(contents)\n",
    "\n",
    "for match in matches:\n",
    "    print(match)"
   ]
  },
  {
   "cell_type": "markdown",
   "metadata": {},
   "source": [
    "## Character sets\n",
    "Sirven para concretar nuestra búsqueda.\n"
   ]
  },
  {
   "cell_type": "code",
   "execution_count": 66,
   "metadata": {},
   "outputs": [
    {
     "name": "stdout",
     "output_type": "stream",
     "text": [
      "<re.Match object; span=(233, 245), match='800-555-1234'>\n",
      "<re.Match object; span=(246, 258), match='900-555-1234'>\n"
     ]
    }
   ],
   "source": [
    "# Para encontrar todos los números que empiecen por centenas:\n",
    "# 800 - 900\n",
    "\n",
    "pattern = re.compile(r'[89]00[-.]\\d\\d\\d[-.]\\d\\d\\d\\d')\n",
    "\n",
    "matches = pattern.finditer(text_to_search)\n",
    "\n",
    "for match in matches:\n",
    "    print(match)"
   ]
  },
  {
   "cell_type": "markdown",
   "metadata": {},
   "source": [
    "## Los guiones no solamente sirven para encontrar ese caracter especial, sino que además nos permiten establecer rangos\n",
    "\n",
    "Por ejemplo, para mostrar los números entre el 1 y el 5 de todo el texto"
   ]
  },
  {
   "cell_type": "code",
   "execution_count": 67,
   "metadata": {},
   "outputs": [
    {
     "name": "stdout",
     "output_type": "stream",
     "text": [
      "<re.Match object; span=(3, 4), match='1'>\n",
      "<re.Match object; span=(10, 11), match='3'>\n",
      "<re.Match object; span=(28, 29), match='4'>\n"
     ]
    }
   ],
   "source": [
    "text = \"El 1 y el 3 si, el 6 no. El 4 también\"\n",
    "pattern = re.compile(r'[1-5]')\n",
    "\n",
    "matches = pattern.finditer(text)\n",
    "\n",
    "for match in matches:\n",
    "    print(match)"
   ]
  },
  {
   "cell_type": "markdown",
   "metadata": {},
   "source": [
    "### Para Mostrar letras mayúsculas y minúsculas, basta con poner los rangos juntos.\n"
   ]
  },
  {
   "cell_type": "code",
   "execution_count": 70,
   "metadata": {},
   "outputs": [
    {
     "name": "stdout",
     "output_type": "stream",
     "text": [
      "<re.Match object; span=(0, 1), match='E'>\n",
      "<re.Match object; span=(1, 2), match='l'>\n",
      "<re.Match object; span=(5, 6), match='y'>\n",
      "<re.Match object; span=(7, 8), match='e'>\n",
      "<re.Match object; span=(8, 9), match='l'>\n",
      "<re.Match object; span=(12, 13), match='s'>\n",
      "<re.Match object; span=(13, 14), match='i'>\n",
      "<re.Match object; span=(16, 17), match='e'>\n",
      "<re.Match object; span=(17, 18), match='l'>\n",
      "<re.Match object; span=(21, 22), match='n'>\n",
      "<re.Match object; span=(22, 23), match='o'>\n",
      "<re.Match object; span=(25, 26), match='E'>\n",
      "<re.Match object; span=(26, 27), match='l'>\n",
      "<re.Match object; span=(30, 31), match='t'>\n",
      "<re.Match object; span=(31, 32), match='a'>\n",
      "<re.Match object; span=(32, 33), match='m'>\n",
      "<re.Match object; span=(33, 34), match='b'>\n",
      "<re.Match object; span=(34, 35), match='i'>\n",
      "<re.Match object; span=(36, 37), match='n'>\n"
     ]
    }
   ],
   "source": [
    "text = \"El 1 y el 3 si, el 6 no. El 4 también\"\n",
    "pattern = re.compile(r'[a-zA-Z]')\n",
    "\n",
    "matches = pattern.finditer(text)\n",
    "\n",
    "for match in matches:\n",
    "    print(match)"
   ]
  },
  {
   "cell_type": "markdown",
   "metadata": {},
   "source": [
    "## Importante \n",
    "Al poner el símbolo `^` dentro de los corchetes `[]`, significa que **NO** queremos lo que está dentro de él.\n",
    "\n",
    "En este caso, al ejecutar, se muestran solo los caracteres numéricos, los espacios en blanco, los saltos de línea y los caracteres numéricos.\n",
    "\n",
    "**Se niega el set**"
   ]
  },
  {
   "cell_type": "code",
   "execution_count": 72,
   "metadata": {},
   "outputs": [
    {
     "name": "stdout",
     "output_type": "stream",
     "text": [
      "<re.Match object; span=(2, 3), match=' '>\n",
      "<re.Match object; span=(3, 4), match='1'>\n",
      "<re.Match object; span=(4, 5), match=' '>\n",
      "<re.Match object; span=(6, 7), match=' '>\n",
      "<re.Match object; span=(9, 10), match=' '>\n",
      "<re.Match object; span=(10, 11), match='3'>\n",
      "<re.Match object; span=(11, 12), match=' '>\n",
      "<re.Match object; span=(14, 15), match=','>\n",
      "<re.Match object; span=(15, 16), match=' '>\n",
      "<re.Match object; span=(18, 19), match=' '>\n",
      "<re.Match object; span=(19, 20), match='6'>\n",
      "<re.Match object; span=(20, 21), match=' '>\n",
      "<re.Match object; span=(23, 24), match='.'>\n",
      "<re.Match object; span=(24, 25), match=' '>\n",
      "<re.Match object; span=(27, 28), match=' '>\n",
      "<re.Match object; span=(28, 29), match='4'>\n",
      "<re.Match object; span=(29, 30), match=' '>\n",
      "<re.Match object; span=(35, 36), match='é'>\n"
     ]
    }
   ],
   "source": [
    "text = \"El 1 y el 3 si, el 6 no. El 4 también\"\n",
    "pattern = re.compile(r'[^a-zA-Z]')\n",
    "\n",
    "matches = pattern.finditer(text)\n",
    "\n",
    "for match in matches:\n",
    "    print(match)"
   ]
  },
  {
   "cell_type": "markdown",
   "metadata": {},
   "source": [
    "## Búsquedas de patrones en los textos \n",
    "Pongamos que queremos recoger palabras terminadas en at, excepto **bat**\n",
    "Especificamos que no queremos los valores que empiecen por b"
   ]
  },
  {
   "cell_type": "code",
   "execution_count": 2,
   "metadata": {},
   "outputs": [
    {
     "name": "stdout",
     "output_type": "stream",
     "text": [
      "<re.Match object; span=(0, 3), match='Cat'>\n",
      "<re.Match object; span=(9, 12), match='mat'>\n"
     ]
    }
   ],
   "source": [
    "texto = \"Cataluña matojo batidora\"\n",
    "pattern = re.compile(r'[^b]at')\n",
    "\n",
    "matches = pattern.finditer(texto)\n",
    "\n",
    "for match in matches:\n",
    "    print(match)"
   ]
  },
  {
   "cell_type": "markdown",
   "metadata": {},
   "source": [
    "## Rangos `{}`\n",
    "Como vemos en snippets.txt, las llaves nos permiten establecer rangos. \n",
    "\n",
    "Volviendo al ejemplo de los números de teléfono, otra forma de obtener los patrones"
   ]
  },
  {
   "cell_type": "code",
   "execution_count": 4,
   "metadata": {},
   "outputs": [
    {
     "name": "stdout",
     "output_type": "stream",
     "text": [
      "<re.Match object; span=(0, 11), match='900-800-600'>\n",
      "<re.Match object; span=(12, 23), match='900*800*600'>\n"
     ]
    }
   ],
   "source": [
    "texto = \"900-800-600 900*800*600 900800600\"\n",
    "pattern = re.compile(r'\\d{3}.\\d{3}.\\d{3}')\n",
    "\n",
    "matches = pattern.finditer(texto)\n",
    "\n",
    "for match in matches:\n",
    "    print(match)"
   ]
  },
  {
   "cell_type": "code",
   "execution_count": 11,
   "metadata": {},
   "outputs": [
    {
     "name": "stdout",
     "output_type": "stream",
     "text": [
      "<re.Match object; span=(6, 12), match='8 años'>\n",
      "<re.Match object; span=(14, 21), match='39 años'>\n"
     ]
    }
   ],
   "source": [
    "texto = \"Tiene 8 años, 39 años. Son 1000 euros\"\n",
    "pattern = re.compile(r'\\d{1,2} años')\n",
    "\n",
    "matches = pattern.finditer(texto)\n",
    "\n",
    "for match in matches:\n",
    "    print(match)"
   ]
  },
  {
   "cell_type": "markdown",
   "metadata": {},
   "source": [
    "## Operador `?` \n",
    "Nos sirve para añadir 0 o 1 a nuestra selección. Así se va a contemplar lo que hay un espacio después"
   ]
  },
  {
   "cell_type": "code",
   "execution_count": 12,
   "metadata": {},
   "outputs": [
    {
     "name": "stdout",
     "output_type": "stream",
     "text": [
      "<re.Match object; span=(12, 15), match='Mr.'>\n",
      "<re.Match object; span=(32, 34), match='Mr'>\n"
     ]
    }
   ],
   "source": [
    "# Aquí sí aparecen todos los Mr. independientemente de que tengan punto o no\n",
    "texto = \"Le esperaba Mr. Bond. Yo no soy Mr Bond\"\n",
    "pattern2 = re.compile(r'Mr\\.?')\n",
    "\n",
    "matches = pattern2.finditer(texto)\n",
    "\n",
    "for match in matches:\n",
    "    print(match)"
   ]
  },
  {
   "cell_type": "code",
   "execution_count": 13,
   "metadata": {},
   "outputs": [
    {
     "name": "stdout",
     "output_type": "stream",
     "text": [
      "<re.Match object; span=(3, 6), match='Dr.'>\n",
      "<re.Match object; span=(20, 24), match='Dra.'>\n"
     ]
    }
   ],
   "source": [
    "# Aquí sí aparecen todos los Mr. independientemente de que tengan punto o no\n",
    "texto = \"El Dr. Cavadas y la Dra. Goldin\"\n",
    "pattern2 = re.compile(r'Dra?\\.')\n",
    "\n",
    "matches = pattern2.finditer(texto)\n",
    "\n",
    "for match in matches:\n",
    "    print(match)"
   ]
  },
  {
   "cell_type": "code",
   "execution_count": 26,
   "metadata": {},
   "outputs": [
    {
     "name": "stdout",
     "output_type": "stream",
     "text": [
      "<re.Match object; span=(3, 14), match='Dr. Cavadas'>\n",
      "<re.Match object; span=(20, 31), match='Dra. Goldin'>\n"
     ]
    }
   ],
   "source": [
    "# Aquí sí aparecen todos los Mr. independientemente de que tengan punto o no\n",
    "texto = '''El Dr. Cavadas y la Dra. Goldin y otro Dr. \n",
    "        Todos doctores'''\n",
    "pattern3 = re.compile(r'Dra?\\.\\s\\w+') # El operador + muestra si hay 1 elemento o más a la derecha de la selección\n",
    "\n",
    "matches = pattern3.finditer(texto)\n",
    "\n",
    "for match in matches:\n",
    "    print(match)\n",
    "\n",
    "# Por eso no se imprime Mr. T"
   ]
  },
  {
   "cell_type": "markdown",
   "metadata": {},
   "source": [
    "## Ahora sí que sí\n",
    "para mostrarlo todo , utilizaremos el cuantificador `*`"
   ]
  },
  {
   "cell_type": "code",
   "execution_count": 27,
   "metadata": {},
   "outputs": [
    {
     "name": "stdout",
     "output_type": "stream",
     "text": [
      "<re.Match object; span=(3, 14), match='Dr. Cavadas'>\n",
      "<re.Match object; span=(20, 31), match='Dra. Goldin'>\n",
      "<re.Match object; span=(39, 43), match='Dr. '>\n"
     ]
    }
   ],
   "source": [
    "texto = '''El Dr. Cavadas y la Dra. Goldin y otro Dr. \n",
    "        Todos doctores'''\n",
    "pattern4 = re.compile(r'Dra?\\.\\s\\w*')\n",
    "\n",
    "matches = pattern4.finditer(texto)\n",
    "\n",
    "for match in matches:\n",
    "    print(match)"
   ]
  },
  {
   "cell_type": "markdown",
   "metadata": {},
   "source": [
    "## Grouping `()`\n",
    "Siguiendo con el ejemplo, para ver todos los Mr, Ms y Mrs, podemos utilizar el operador | (or)"
   ]
  },
  {
   "cell_type": "code",
   "execution_count": 38,
   "metadata": {},
   "outputs": [
    {
     "name": "stdout",
     "output_type": "stream",
     "text": [
      "<re.Match object; span=(1, 13), match='Mr. Scha2fer'>\n",
      "<re.Match object; span=(14, 22), match='Mr Smith'>\n",
      "<re.Match object; span=(23, 31), match='Ms Davis'>\n",
      "<re.Match object; span=(32, 45), match='Mrs. Robinson'>\n",
      "<re.Match object; span=(46, 51), match='Mr. T'>\n",
      "<re.Match object; span=(52, 56), match='Mr. '>\n",
      "****************************************************************************************************************************************************************************************************************************************************************************************************************************************************************************************************************************************************************************************************************************************************************************************************************************************************************************************************************************************************************************************************************************************************************************************************************************************************************************************************************************************\n",
      "<re.Match object; span=(1, 13), match='Mr. Scha2fer'>\n",
      "<re.Match object; span=(14, 22), match='Mr Smith'>\n",
      "<re.Match object; span=(23, 31), match='Ms Davis'>\n",
      "<re.Match object; span=(32, 45), match='Mrs. Robinson'>\n",
      "<re.Match object; span=(46, 51), match='Mr. T'>\n",
      "<re.Match object; span=(52, 58), match='Mr. ()'>\n"
     ]
    }
   ],
   "source": [
    "text_to_search = '''\n",
    "Mr. Scha2fer\n",
    "Mr Smith\n",
    "Ms Davis\n",
    "Mrs. Robinson\n",
    "Mr. T\n",
    "Mr. ()\n",
    "'''\n",
    "pattern4 = re.compile(r'(Mr|Ms|Mrs)\\.?\\s\\w*')\n",
    "\n",
    "matches = pattern4.finditer(text_to_search)\n",
    "\n",
    "for match in matches:\n",
    "    print(match)\n",
    "print(\"*\"*1000)\n",
    "pattern5 = re.compile(r'(Mr|Ms|Mrs)\\.?\\s.*')\n",
    "\n",
    "matches = pattern5.finditer(text_to_search)\n",
    "\n",
    "for match in matches:\n",
    "    print(match)"
   ]
  }
 ],
 "metadata": {
  "interpreter": {
   "hash": "1baa965d5efe3ac65b79dfc60c0d706280b1da80fedb7760faf2759126c4f253"
  },
  "kernelspec": {
   "display_name": "Python 3.8.8 64-bit",
   "name": "python3"
  },
  "language_info": {
   "codemirror_mode": {
    "name": "ipython",
    "version": 3
   },
   "file_extension": ".py",
   "mimetype": "text/x-python",
   "name": "python",
   "nbconvert_exporter": "python",
   "pygments_lexer": "ipython3",
   "version": "3.12.2"
  },
  "orig_nbformat": 4
 },
 "nbformat": 4,
 "nbformat_minor": 2
}
