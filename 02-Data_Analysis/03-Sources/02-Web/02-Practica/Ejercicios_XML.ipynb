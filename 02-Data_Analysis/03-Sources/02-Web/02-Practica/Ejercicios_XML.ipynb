{
 "cells": [
  {
   "cell_type": "markdown",
   "metadata": {},
   "source": [
    "### XML\n",
    "#### Incluye respuestas\n",
    "https://github.com/josedom24/ejercicios_python_xml_json?tab=readme-ov-file"
   ]
  }
 ],
 "metadata": {
  "language_info": {
   "name": "python"
  }
 },
 "nbformat": 4,
 "nbformat_minor": 2
}
