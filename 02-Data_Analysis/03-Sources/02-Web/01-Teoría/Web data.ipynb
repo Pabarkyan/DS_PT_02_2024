{
 "cells": [
  {
   "cell_type": "markdown",
   "metadata": {},
   "source": [
    "![imagen](./img/python.jpg)\n",
    "\n",
    "# Lectura Escritura\n",
    "\n",
    "En este módulo vas a ver diferentes maneras de leer y escribir datos desde archivos locales. \n",
    "\n",
    "Rara vez trabajarás únicamente con los datos que genere tu programa de Python, sino que lo normal será acudir a una fuente de datos, o leer de algún archivo.\n",
    "\n",
    "Más adelante veremos la integración Python + BBDD\n"
   ]
  },
  {
   "cell_type": "markdown",
   "metadata": {},
   "source": [
    "### Los formatos más utilizados son JSON (que ya estudiamos) y XML (que estudiaremos a continuación)"
   ]
  },
  {
   "cell_type": "markdown",
   "metadata": {},
   "source": [
    "### XML\n",
    "El formato **XML** (eXtensible Markup Language) es parecido al HTML, pero es más estructurado.\n",
    "\n",
    "<img src=\"https://docs.adaptive-vision.com/current/studio/img/manual/XmlDescription.png\">"
   ]
  },
  {
   "cell_type": "markdown",
   "metadata": {},
   "source": [
    "Los archivos XML forman una estructura de tipo árbol y tienen cierto parentesco con los diccionarios (modelo clave/valor)\n",
    "\n",
    "<img src=\"https://www.cdn.geeksforgeeks.org/wp-content/uploads/parsing-XML.gif\">\n",
    "\n"
   ]
  },
  {
   "cell_type": "markdown",
   "metadata": {},
   "source": [
    "Vamos a leer el archivo XML cd_catalog con la librería `ElementTree`\n",
    "Un XML está compuesto de tags y atributos y es posible leer desde un archivo local, aunque también aparecen mucho en páginas web, bases de datos..."
   ]
  },
  {
   "cell_type": "code",
   "execution_count": 20,
   "metadata": {},
   "outputs": [
    {
     "name": "stdout",
     "output_type": "stream",
     "text": [
      "<class 'xml.etree.ElementTree.ElementTree'>\n"
     ]
    },
    {
     "data": {
      "text/plain": [
       "<Element 'data' at 0x000001EF46E3DAD0>"
      ]
     },
     "execution_count": 20,
     "metadata": {},
     "output_type": "execute_result"
    }
   ],
   "source": [
    "import xml.etree.ElementTree as ET\n",
    "tree = ET.parse('data/ejemplo.xml')\n",
    "print(type(tree))\n",
    "root = tree.getroot()\n",
    "root"
   ]
  },
  {
   "cell_type": "markdown",
   "metadata": {},
   "source": [
    "Dentro de root, hay n elementos, considerados como los *children* de root. Cada elemento del XML tiene un *tag* y varios atributos en formato clave-valor."
   ]
  },
  {
   "cell_type": "code",
   "execution_count": 2,
   "metadata": {},
   "outputs": [
    {
     "name": "stdout",
     "output_type": "stream",
     "text": [
      "country\n",
      "{'name': 'Liechtenstein'}\n",
      "Liechtenstein\n",
      "\n",
      "country\n",
      "{'name': 'Singapore'}\n",
      "Singapore\n",
      "\n",
      "country\n",
      "{'name': 'Panama'}\n",
      "Panama\n",
      "\n",
      "country\n",
      "{'name': 'Kiribati'}\n",
      "Kiribati\n",
      "\n"
     ]
    }
   ],
   "source": [
    "for child in root:\n",
    "    print(child.tag)\n",
    "    print(child.attrib)\n",
    "    print(child.attrib.get('name') + '\\n')"
   ]
  },
  {
   "cell_type": "markdown",
   "metadata": {},
   "source": [
    "Para obtener los children de cada línea:"
   ]
  },
  {
   "cell_type": "code",
   "execution_count": 3,
   "metadata": {},
   "outputs": [
    {
     "name": "stdout",
     "output_type": "stream",
     "text": [
      "data\n",
      "country\n",
      "rank\n",
      "year\n",
      "gdppc\n",
      "neighbor\n",
      "rank\n",
      "year\n",
      "gdppc\n",
      "neighbor\n",
      "rank\n",
      "year\n",
      "gdppc\n",
      "country\n",
      "rank\n",
      "year\n",
      "gdppc\n",
      "neighbor\n",
      "country\n",
      "country\n",
      "rank\n",
      "year\n",
      "gdppc\n",
      "neighbor\n",
      "neighbor\n",
      "country\n",
      "rank\n",
      "year\n",
      "gdppc\n"
     ]
    }
   ],
   "source": [
    "for node in root.iter():\n",
    "    print(node.tag)"
   ]
  },
  {
   "cell_type": "markdown",
   "metadata": {},
   "source": [
    "Los elementos van ordenados, por lo que podremos acceder a los mismos mediante su orden siguiendo reglas muy similares a cuando utilizamos listas\n",
    "\n",
    "Si queremos acceder a lo que hay dentro de los tags: `.text`. Devuelve un String (como `input`), aunque estemos hablando de un número."
   ]
  },
  {
   "cell_type": "code",
   "execution_count": 4,
   "metadata": {},
   "outputs": [
    {
     "name": "stdout",
     "output_type": "stream",
     "text": [
      "<Element 'year' at 0x000001EF46426200>\n",
      "2011\n"
     ]
    }
   ],
   "source": [
    "print(root[1][1])\n",
    "print(root[1][1].text)"
   ]
  },
  {
   "cell_type": "markdown",
   "metadata": {},
   "source": [
    "Para iterar sobre unos elementos concretos. \n",
    "Podría haber atributos que se llamen igual en diferentes puntos del XML (es más, es lo habitual), y quizá ese no siempre deseamos acceder a todos."
   ]
  },
  {
   "cell_type": "code",
   "execution_count": 5,
   "metadata": {},
   "outputs": [
    {
     "name": "stdout",
     "output_type": "stream",
     "text": [
      "<class 'xml.etree.ElementTree.Element'>\n",
      "{'name': 'Austria', 'direction': 'E'}\n",
      "Austria\n",
      "<class 'xml.etree.ElementTree.Element'>\n",
      "{'name': 'Switzerland', 'direction': 'W'}\n",
      "Switzerland\n",
      "<class 'xml.etree.ElementTree.Element'>\n",
      "{'name': 'Malaysia', 'direction': 'N'}\n",
      "Malaysia\n",
      "<class 'xml.etree.ElementTree.Element'>\n",
      "{'name': 'Costa Rica', 'direction': 'W'}\n",
      "Costa Rica\n",
      "<class 'xml.etree.ElementTree.Element'>\n",
      "{'name': 'Colombia', 'direction': 'E'}\n",
      "Colombia\n"
     ]
    }
   ],
   "source": [
    "for neighbor in root.iter('neighbor'):\n",
    "    print(type(neighbor))\n",
    "    print(neighbor.attrib)\n",
    "    print(neighbor.attrib['name'])"
   ]
  },
  {
   "cell_type": "markdown",
   "metadata": {},
   "source": [
    "1. `find` para buscar el primer tag dentro del árbol inmediato, y no de sus hijos. \n",
    "*   Devuelve un elemento\n",
    "2. `findall` para buscar solo elementos hijos directos del elemento actual con un tag determinado\n",
    "*   Devuelve un iterable o None\n",
    "3. `iter` para buscar un tag dentro de todo un árbol, incluidos sus hijos. \n",
    "*   Devuelve un iterable o None\n",
    "4. `get` para conseguir el valor de un atributo (atributo != text)\n",
    "*   Devuelve un str o error\n"
   ]
  },
  {
   "cell_type": "code",
   "execution_count": 26,
   "metadata": {},
   "outputs": [
    {
     "name": "stdout",
     "output_type": "stream",
     "text": [
      "Liechtenstein 1\n",
      "Singapore 4\n",
      "Panama 68\n",
      "Kiribati 140\n"
     ]
    }
   ],
   "source": [
    "for country in root.findall('country'):\n",
    "    rank = country.find('rank').text\n",
    "    name = country.get('name')\n",
    "    print(name, rank)"
   ]
  },
  {
   "cell_type": "code",
   "execution_count": 47,
   "metadata": {},
   "outputs": [
    {
     "name": "stdout",
     "output_type": "stream",
     "text": [
      "Liechtenstein Austria\n",
      "Singapore Malaysia\n",
      "Panama Costa Rica\n",
      "Kiribati Sin vecinos\n"
     ]
    }
   ],
   "source": [
    "# Solo un país vecino\n",
    "for country in root.findall('country'):\n",
    "    neighbor = country.find('neighbor')\n",
    "    if neighbor != None:\n",
    "        neighbor_text = neighbor.get('name')\n",
    "    else:\n",
    "        neighbor_text = 'Sin vecinos'\n",
    "    name = country.get('name')\n",
    "    print(name, neighbor_text)"
   ]
  },
  {
   "cell_type": "code",
   "execution_count": 50,
   "metadata": {},
   "outputs": [
    {
     "name": "stdout",
     "output_type": "stream",
     "text": [
      "Liechtenstein Austria\n",
      "Liechtenstein Switzerland\n",
      "Singapore Malaysia\n",
      "Panama Costa Rica\n",
      "Panama Colombia\n"
     ]
    }
   ],
   "source": [
    "# Todos los paises vecinos\n",
    "for country in root.findall('country'):\n",
    "    for neighbor in country.findall('neighbor'):\n",
    "        if neighbor != None:\n",
    "            neighbor_text = neighbor.get('name')\n",
    "        else:\n",
    "            neighbor_text = 'Sin vecinos'\n",
    "        name = country.get('name')\n",
    "        print(name, neighbor_text)"
   ]
  },
  {
   "cell_type": "code",
   "execution_count": 51,
   "metadata": {},
   "outputs": [
    {
     "name": "stdout",
     "output_type": "stream",
     "text": [
      "Liechtenstein Austria\n",
      "Liechtenstein Switzerland\n",
      "Singapore Malaysia\n",
      "Panama Costa Rica\n",
      "Panama Colombia\n"
     ]
    }
   ],
   "source": [
    "# Equivalente pero más \"arriegado\" y lento, ya que busca posibles etiquetas 'neighbor' de forma recursiva\n",
    "for country in root.findall('country'):\n",
    "    for neighbor in country.iter('neighbor'):\n",
    "        if neighbor != None:\n",
    "            neighbor_text = neighbor.get('name')\n",
    "        else:\n",
    "            neighbor_text = 'Sin vecinos'\n",
    "        name = country.get('name')\n",
    "        print(name, neighbor_text)"
   ]
  },
  {
   "cell_type": "code",
   "execution_count": 41,
   "metadata": {},
   "outputs": [
    {
     "name": "stdout",
     "output_type": "stream",
     "text": [
      "Liechtenstein 1\n",
      "Liechtenstein 38\n",
      "Liechtenstein 3\n",
      "Singapore 4\n",
      "Panama 68\n",
      "Kiribati 140\n"
     ]
    }
   ],
   "source": [
    "# Iter busca dentro de los hijos, puede no tener sentido!\n",
    "for country in root.findall('country'):\n",
    "    for rank in country.iter('rank'):\n",
    "        if rank != None:\n",
    "            rank_text = rank.text\n",
    "        else:\n",
    "            rank_text = 'Sin ranking'\n",
    "        name = country.get('name')\n",
    "        print(name, rank_text)"
   ]
  },
  {
   "cell_type": "markdown",
   "metadata": {},
   "source": [
    "También podríamos modificarlo"
   ]
  },
  {
   "cell_type": "code",
   "execution_count": 100,
   "metadata": {},
   "outputs": [
    {
     "name": "stdout",
     "output_type": "stream",
     "text": [
      "<class 'xml.etree.ElementTree.ElementTree'>\n"
     ]
    }
   ],
   "source": [
    "import xml.etree.ElementTree as ET\n",
    "tree = ET.parse('data/ejemplo.xml')\n",
    "print(type(tree))\n",
    "root = tree.getroot()"
   ]
  },
  {
   "cell_type": "code",
   "execution_count": 101,
   "metadata": {},
   "outputs": [],
   "source": [
    "for rank in root.iter('rank'):\n",
    "    new_rank = int(rank.text)+1 \n",
    "    rank.text = str(new_rank)\n",
    "    rank.set('updated', 'yes')"
   ]
  },
  {
   "cell_type": "code",
   "execution_count": 102,
   "metadata": {},
   "outputs": [
    {
     "name": "stdout",
     "output_type": "stream",
     "text": [
      "Liechtenstein 2\n",
      "Singapore 5\n",
      "Panama 66\n",
      "Kiribati 141\n"
     ]
    }
   ],
   "source": [
    "for country in root.findall('country'):\n",
    "    rank = country.find('rank').text \n",
    "    name = country.get('name') \n",
    "    print(name, rank)"
   ]
  },
  {
   "cell_type": "code",
   "execution_count": 103,
   "metadata": {},
   "outputs": [],
   "source": [
    "tree.write('ejemplo_rank_add_1_iter.xml')"
   ]
  },
  {
   "cell_type": "code",
   "execution_count": 106,
   "metadata": {},
   "outputs": [
    {
     "name": "stdout",
     "output_type": "stream",
     "text": [
      "<class 'xml.etree.ElementTree.ElementTree'>\n"
     ]
    }
   ],
   "source": [
    "import xml.etree.ElementTree as ET\n",
    "tree = ET.parse('data/ejemplo.xml')\n",
    "print(type(tree))\n",
    "root = tree.getroot()"
   ]
  },
  {
   "cell_type": "code",
   "execution_count": 107,
   "metadata": {},
   "outputs": [],
   "source": [
    "for country in root.findall('country'):\n",
    "    rank = country.find('rank')\n",
    "    new_rank = int(rank.text)+1 \n",
    "    rank.text = str(new_rank)\n",
    "    rank.set('updated', 'yes')"
   ]
  },
  {
   "cell_type": "code",
   "execution_count": 108,
   "metadata": {},
   "outputs": [
    {
     "name": "stdout",
     "output_type": "stream",
     "text": [
      "Liechtenstein 2\n",
      "Singapore 5\n",
      "Panama 66\n",
      "Kiribati 141\n"
     ]
    }
   ],
   "source": [
    "for country in root.findall('country'):\n",
    "    rank = country.find('rank').text \n",
    "    name = country.get('name') \n",
    "    print(name, rank)"
   ]
  },
  {
   "cell_type": "code",
   "execution_count": 109,
   "metadata": {},
   "outputs": [],
   "source": [
    "tree.write('ejemplo_rank_add_1_find.xml')"
   ]
  },
  {
   "cell_type": "markdown",
   "metadata": {},
   "source": [
    "O eliminar elementos"
   ]
  },
  {
   "cell_type": "code",
   "execution_count": 110,
   "metadata": {},
   "outputs": [],
   "source": [
    "for country in root.findall('country'):\n",
    "    rank = int(country.find('rank').text)\n",
    "    if rank > 50:\n",
    "        root.remove(country)\n",
    "tree.write('ejemplo_remove_rand_over_50.xml')"
   ]
  },
  {
   "cell_type": "code",
   "execution_count": 111,
   "metadata": {},
   "outputs": [],
   "source": [
    "for country in root.findall('country'):\n",
    "    rank = int(country.find('rank').text)\n",
    "    if rank > 30:\n",
    "        root.remove(country)\n",
    "tree.write('ejemplo_remove_rand_over_30.xml')"
   ]
  },
  {
   "cell_type": "markdown",
   "metadata": {},
   "source": [
    "Cada elemento que encuentra `findall()` o `iter()` es un `Element`, sobre el que podemos acceder a sus datos gracias a atributos como como `tag` o `attrib`.\n",
    "\n",
    "Acceso mediante XPath. Ya que la estructura de los XML es un árbol de tags, podremos acceder a los elementos mediante la ruta relativa de los tags."
   ]
  },
  {
   "cell_type": "code",
   "execution_count": 121,
   "metadata": {},
   "outputs": [
    {
     "name": "stdout",
     "output_type": "stream",
     "text": [
      "<class 'xml.etree.ElementTree.ElementTree'>\n"
     ]
    }
   ],
   "source": [
    "import xml.etree.ElementTree as ET\n",
    "tree = ET.parse('data/ejemplo.xml')\n",
    "print(type(tree))\n",
    "root = tree.getroot()"
   ]
  },
  {
   "cell_type": "code",
   "execution_count": 122,
   "metadata": {},
   "outputs": [
    {
     "name": "stdout",
     "output_type": "stream",
     "text": [
      "[<Element 'neighbor' at 0x000001EF46E6A5C0>, <Element 'neighbor' at 0x000001EF46E6A480>, <Element 'neighbor' at 0x000001EF46E6A200>, <Element 'neighbor' at 0x000001EF46E6A020>, <Element 'neighbor' at 0x000001EF46E69FD0>]\n"
     ]
    }
   ],
   "source": [
    "print(root.findall('./country/neighbor'))"
   ]
  },
  {
   "cell_type": "code",
   "execution_count": 123,
   "metadata": {},
   "outputs": [
    {
     "name": "stdout",
     "output_type": "stream",
     "text": [
      "Austria\n",
      "Switzerland\n",
      "Malaysia\n",
      "Costa Rica\n",
      "Colombia\n"
     ]
    }
   ],
   "source": [
    "for n in root.findall('./country/neighbor'):\n",
    "    print(n.get('name'))"
   ]
  },
  {
   "cell_type": "code",
   "execution_count": 127,
   "metadata": {},
   "outputs": [
    {
     "name": "stdout",
     "output_type": "stream",
     "text": [
      "<Element 'neighbor' at 0x000001EF46E6A5C0>\n"
     ]
    }
   ],
   "source": [
    "print(root.find('./country/neighbor'))"
   ]
  },
  {
   "cell_type": "code",
   "execution_count": 128,
   "metadata": {},
   "outputs": [],
   "source": [
    "for n in root.find('./country/neighbor'):\n",
    "    print(n.get('name'))"
   ]
  },
  {
   "cell_type": "code",
   "execution_count": 130,
   "metadata": {},
   "outputs": [
    {
     "data": {
      "text/plain": [
       "'Austria'"
      ]
     },
     "execution_count": 130,
     "metadata": {},
     "output_type": "execute_result"
    }
   ],
   "source": [
    "root.find('./country/neighbor').get('name')"
   ]
  },
  {
   "cell_type": "markdown",
   "metadata": {},
   "source": [
    "# XML con RSS\n",
    "RSS es una manera que tienen las páginas web de publicar su contenido. En este caso no es un HTML, ni un CSS como se hace habitualmente, sino que será un XML, con un árbol de tags y distinta información. \n",
    "\n",
    "Páginas que utilizan esto son periódicos, foros o blogs. Permite acceder a los titulares de noticias, tanto de las generales, como de las secciones del periódico, de tal manera que puedas monitorizarlos en una aplicación. Los datos son abiertos y el formato de publicación es XML.\n",
    "\n",
    "En nuestro caso vamos a desarrollar un programa mediante el que recogeremos el RSS del periódico *El Pais* y montaremos una tabla con las principales noticias."
   ]
  },
  {
   "cell_type": "code",
   "execution_count": 131,
   "metadata": {},
   "outputs": [
    {
     "name": "stdout",
     "output_type": "stream",
     "text": [
      "Un periodista que viajó a Milán para cubrir el Valencia-Atalanta, positivo por coronavirus Thu, 27 Feb 2020 17:13:44 +0200 https://elpais.com/sociedad/2020/02/27/actualidad/1582795523_075914.html#?ref=rss&format=simple&link=link\n",
      "Mapa de la expansión y claves para entender el coronavirus de Wuhan Sun, 1 Mar 2020 15:16:43 +0200 https://elpais.com/sociedad/2020/02/26/actualidad/1582712658_011286.html#?ref=rss&format=simple&link=link\n",
      "El turismo italiano se resiente; España mira expectante Thu, 27 Feb 2020 15:26:25 +0200 https://elpais.com/sociedad/2020/02/26/actualidad/1582751511_964259.html#?ref=rss&format=simple&link=link\n",
      "“La magnitud del problema del coronavirus no será diferente a una gripe” Thu, 27 Feb 2020 19:26:43 +0200 https://elpais.com/sociedad/2020/02/26/actualidad/1582744701_468958.html#?ref=rss&format=simple&link=link\n",
      "Seis italianos encerrados por partida doble Thu, 27 Feb 2020 13:36:34 +0200 https://elpais.com/sociedad/2020/02/26/actualidad/1582745125_354016.html#?ref=rss&format=simple&link=link\n",
      "Trump nombra al vicepresidente Pence a cargo de la crisis del coronavirus Thu, 27 Feb 2020 19:26:58 +0200 https://elpais.com/sociedad/2020/02/27/actualidad/1582762594_400436.html#?ref=rss&format=simple&link=link\n",
      "El coronavirus de Wuhan | Japón cerrará todos sus centros escolares hasta fin de marzo Thu, 27 Feb 2020 15:08:21 +0200 https://elpais.com/sociedad/2020/02/27/actualidad/1582772469_101682.html#?ref=rss&format=simple&link=link\n",
      "El Gobierno salva el primer escollo de los Presupuestos gracias a ERC Fri, 28 Feb 2020 08:19:36 +0200 https://elpais.com/politica/2020/02/27/actualidad/1582790343_062149.html#?ref=rss&format=simple&link=link\n",
      "La mesa de diálogo se reunirá mensualmente y los acuerdos serán “en el marco de la seguridad jurídica” Thu, 27 Feb 2020 11:31:31 +0200 https://elpais.com/politica/2020/02/26/actualidad/1582729437_069559.html#?ref=rss&format=simple&link=link\n",
      "Así avanzan las encuestas en Galicia y País Vasco Thu, 27 Feb 2020 11:00:21 +0200 https://elpais.com/politica/2020/02/26/actualidad/1582705222_037590.html#?ref=rss&format=simple&link=link\n",
      "Ciudadanos pagaba un sueldo a un vocal de la Junta Electoral Central que resolvió recursos del partido Thu, 27 Feb 2020 17:13:35 +0200 https://elpais.com/politica/2020/02/27/actualidad/1582796971_717381.html#?ref=rss&format=simple&link=link\n",
      "50 antiguos ministros y dirigentes europeos se pronuncian contra el plan de Trump para Palestina Thu, 27 Feb 2020 13:42:56 +0200 https://elpais.com/internacional/2020/02/26/actualidad/1582750435_447092.html#?ref=rss&format=simple&link=link\n",
      "Plácido Domingo anula sus representaciones en el Real antes de que el teatro las cancelara Fri, 28 Feb 2020 09:33:16 +0200 https://elpais.com/cultura/2020/02/27/actualidad/1582789321_585769.html#?ref=rss&format=simple&link=link\n",
      "Así gestionan nuestros vecinos europeos la expansión de Airbnb Wed, 26 Feb 2020 20:05:03 +0200 https://elpais.com/internacional/2020/02/21/sonar_europe/1582302332_702790.html#?ref=rss&format=simple&link=link\n",
      "La Fiscalía se querella contra una mujer por tuitear un vídeo falso de menores migrantes Thu, 27 Feb 2020 13:21:28 +0200 https://elpais.com/ccaa/2020/02/27/catalunya/1582793229_305704.html#?ref=rss&format=simple&link=link\n",
      "China desvela de qué está hecha la cara oculta de la Luna Thu, 27 Feb 2020 11:43:38 +0200 https://elpais.com/elpais/2020/02/25/ciencia/1582651238_235155.html#?ref=rss&format=simple&link=link\n",
      "Especial EL PAÍS en Arco | Muntadas: “La sociedad ha degradado las palabras” Thu, 27 Feb 2020 12:49:20 +0200 https://elpais.com/elpais/2020/02/27/actualidad/1582803771_531979.html#?ref=rss&format=simple&link=link\n",
      "La historia de Duralex, una vajilla tan irrompible como nuestra nostalgia Thu, 27 Feb 2020 08:27:18 +0200 https://elpais.com/verne/2020/02/25/articulo/1582628993_071991.html#?ref=rss&format=simple&link=link\n",
      "¿Por qué los mosquitos se ceban con nuestros tobillos? Thu, 27 Feb 2020 14:25:21 +0200 https://elpais.com/elpais/2020/02/27/ciencia/1582797400_512615.html#?ref=rss&format=simple&link=link\n",
      "Consumo da la razón a los clientes de Fnac que compraron un móvil 575 euros más barato por un error Thu, 27 Feb 2020 17:15:33 +0200 https://elpais.com/sociedad/2020/02/27/actualidad/1582796975_880373.html#?ref=rss&format=simple&link=link\n",
      "Javier Bardem: “Hoy hay algún Hernán Cortés en el Congreso” Thu, 27 Feb 2020 10:30:32 +0200 https://elpais.com/cultura/2020/02/26/actualidad/1582734306_817032.html#?ref=rss&format=simple&link=link\n"
     ]
    }
   ],
   "source": [
    "from urllib.request import urlopen\n",
    "from xml.etree.ElementTree import parse\n",
    "\n",
    "var_url = urlopen('https://elpais.com/rss/elpais/portada.xml')\n",
    "xmldoc = parse(var_url)\n",
    "\n",
    "for item in xmldoc.findall('./channel/item'):\n",
    "    title = item.findtext('title')\n",
    "    date = item.findtext('pubDate')\n",
    "    link = item.findtext('link')\n",
    "    \n",
    "    print(title, date, link)"
   ]
  },
  {
   "cell_type": "markdown",
   "metadata": {},
   "source": [
    "# SFTP"
   ]
  },
  {
   "cell_type": "markdown",
   "metadata": {},
   "source": [
    "[S]FTP (*[Secure] File Transfer Protocol*) es un protocolo que permite mover archivos online. \n",
    "\n",
    "En Python, podemos utilizar SFTP con la librería `paramiko`. Vamos a conectarnos a un servidor SFTP \n",
    "\n",
    "https://docs.paramiko.org/en/latest/api/sftp.html"
   ]
  },
  {
   "cell_type": "code",
   "execution_count": 145,
   "metadata": {},
   "outputs": [],
   "source": [
    "import paramiko\n",
    "paramiko.util.log_to_file(\"paramiko.log\")\n",
    "\n",
    "# Open a transport\n",
    "host,port = \"access994526291.webspace-data.io\",22\n",
    "transport = paramiko.Transport((host,port))\n",
    "\n",
    "# Auth    \n",
    "username,password = \"acc1635317943\",\"BootcampFeb24\"\n",
    "transport.connect(None,username,password)\n",
    "\n",
    "# Go!    \n",
    "sftp = paramiko.SFTPClient.from_transport(transport)\n",
    "\n",
    "\n"
   ]
  },
  {
   "cell_type": "code",
   "execution_count": null,
   "metadata": {},
   "outputs": [],
   "source": [
    "\n",
    "# Download\n",
    "filepath = \"texto_plano.txt\"\n",
    "localpath = \"texto_plano.txt\"\n",
    "sftp.get(filepath,localpath)\n",
    "\n",
    "filepath = \"subcarpeta/mlp.zip\"\n",
    "localpath = \"deep.zip\"\n",
    "sftp.get(filepath,localpath)"
   ]
  },
  {
   "cell_type": "code",
   "execution_count": 146,
   "metadata": {},
   "outputs": [
    {
     "data": {
      "text/plain": [
       "<SFTPAttributes: [ size=64560 uid=10028756 gid=600 mode=0o100604 atime=1711095829 mtime=1711095829 ]>"
      ]
     },
     "execution_count": 146,
     "metadata": {},
     "output_type": "execute_result"
    }
   ],
   "source": [
    "#Upload\n",
    "filepath = \"/subcarpeta/paramiko.log\"\n",
    "localpath = \"paramiko.log\"\n",
    "sftp.put(localpath,filepath)\n"
   ]
  },
  {
   "cell_type": "code",
   "execution_count": null,
   "metadata": {},
   "outputs": [],
   "source": [
    "\n",
    "# Close\n",
    "if sftp: sftp.close()\n",
    "if transport: transport.close()"
   ]
  },
  {
   "cell_type": "markdown",
   "metadata": {
    "colab_type": "text",
    "id": "G8fjA0nyhonR"
   },
   "source": [
    "## Bajar datos de Bicimad"
   ]
  },
  {
   "cell_type": "code",
   "execution_count": 148,
   "metadata": {
    "colab": {},
    "colab_type": "code",
    "id": "4xGwVDZxhonR"
   },
   "outputs": [],
   "source": [
    "# Importamos librerias\n",
    "import requests\n",
    "import zipfile\n",
    "import pandas as pd"
   ]
  },
  {
   "cell_type": "code",
   "execution_count": 149,
   "metadata": {},
   "outputs": [],
   "source": [
    "url = \"https://pbs.twimg.com/profile_images/616689518968762368/rkhjKqNb.jpg\"\n",
    "image = requests.get(url)"
   ]
  },
  {
   "cell_type": "code",
   "execution_count": 150,
   "metadata": {},
   "outputs": [
    {
     "data": {
      "text/plain": [
       "<Response [200]>"
      ]
     },
     "execution_count": 150,
     "metadata": {},
     "output_type": "execute_result"
    }
   ],
   "source": [
    "image"
   ]
  },
  {
   "cell_type": "code",
   "execution_count": 151,
   "metadata": {},
   "outputs": [],
   "source": [
    "with open(\"mutenrroy.jpg\", 'wb') as f:\n",
    "    f.write(image.content)"
   ]
  },
  {
   "cell_type": "code",
   "execution_count": 153,
   "metadata": {
    "tags": []
   },
   "outputs": [],
   "source": [
    "# https://opendata.emtmadrid.es/getattachment/037ee8a5-b824-43b1-ac7b-76225c783993/201810_Usage_Bicimad.aspx\n",
    "url = 'https://opendata.emtmadrid.es/getattachment/7a88cb04-9007-4520-88c5-a94c71a0b925/trips_23_02_February-csv.aspx'\n",
    "r = requests.get(url)"
   ]
  },
  {
   "cell_type": "code",
   "execution_count": 154,
   "metadata": {},
   "outputs": [],
   "source": [
    "# Guardamos el zip\n",
    "filename = 'bicis.zip'\n",
    "with open(filename, 'wb') as f:\n",
    "   f.write(r.content)"
   ]
  },
  {
   "cell_type": "code",
   "execution_count": 155,
   "metadata": {
    "colab": {},
    "colab_type": "code",
    "id": "uVRFbVZrhonV"
   },
   "outputs": [],
   "source": [
    "# Extraemos lo que hay dentro\n",
    "filename = 'bicis.zip'\n",
    "with zipfile.ZipFile(filename, 'r') as zip_ref:\n",
    "    zip_ref.extractall(\".\")"
   ]
  },
  {
   "cell_type": "code",
   "execution_count": 162,
   "metadata": {
    "colab": {},
    "colab_type": "code",
    "id": "uNGffwephonX"
   },
   "outputs": [],
   "source": [
    "# Leemos los datos\n",
    "datos_bicis = pd.read_csv('trips_23_02_February.csv', nrows=10000, sep=\";\")"
   ]
  },
  {
   "cell_type": "code",
   "execution_count": 163,
   "metadata": {
    "colab": {
     "base_uri": "https://localhost:8080/",
     "height": 309
    },
    "colab_type": "code",
    "id": "CF9u6xluhonZ",
    "outputId": "2e4e08fe-735e-4d35-ced1-2c83fc2fc743"
   },
   "outputs": [
    {
     "data": {
      "text/html": [
       "<div>\n",
       "<style scoped>\n",
       "    .dataframe tbody tr th:only-of-type {\n",
       "        vertical-align: middle;\n",
       "    }\n",
       "\n",
       "    .dataframe tbody tr th {\n",
       "        vertical-align: top;\n",
       "    }\n",
       "\n",
       "    .dataframe thead th {\n",
       "        text-align: right;\n",
       "    }\n",
       "</style>\n",
       "<table border=\"1\" class=\"dataframe\">\n",
       "  <thead>\n",
       "    <tr style=\"text-align: right;\">\n",
       "      <th></th>\n",
       "      <th>fecha</th>\n",
       "      <th>idBike</th>\n",
       "      <th>fleet</th>\n",
       "      <th>trip_minutes</th>\n",
       "      <th>geolocation_unlock</th>\n",
       "      <th>address_unlock</th>\n",
       "      <th>unlock_date</th>\n",
       "      <th>locktype</th>\n",
       "      <th>unlocktype</th>\n",
       "      <th>geolocation_lock</th>\n",
       "      <th>address_lock</th>\n",
       "      <th>lock_date</th>\n",
       "      <th>station_unlock</th>\n",
       "      <th>dock_unlock</th>\n",
       "      <th>unlock_station_name</th>\n",
       "      <th>station_lock</th>\n",
       "      <th>dock_lock</th>\n",
       "      <th>lock_station_name</th>\n",
       "    </tr>\n",
       "  </thead>\n",
       "  <tbody>\n",
       "    <tr>\n",
       "      <th>0</th>\n",
       "      <td>NaN</td>\n",
       "      <td>NaN</td>\n",
       "      <td>NaN</td>\n",
       "      <td>NaN</td>\n",
       "      <td>NaN</td>\n",
       "      <td>NaN</td>\n",
       "      <td>NaN</td>\n",
       "      <td>NaN</td>\n",
       "      <td>NaN</td>\n",
       "      <td>NaN</td>\n",
       "      <td>NaN</td>\n",
       "      <td>NaN</td>\n",
       "      <td>NaN</td>\n",
       "      <td>NaN</td>\n",
       "      <td>NaN</td>\n",
       "      <td>NaN</td>\n",
       "      <td>NaN</td>\n",
       "      <td>NaN</td>\n",
       "    </tr>\n",
       "    <tr>\n",
       "      <th>1</th>\n",
       "      <td>2023-02-01</td>\n",
       "      <td>7337.0</td>\n",
       "      <td>1.0</td>\n",
       "      <td>5.52</td>\n",
       "      <td>{'type': 'Point', 'coordinates': [-3.6956178, ...</td>\n",
       "      <td>'Calle Jesús nº 1'</td>\n",
       "      <td>2023-02-01T00:00:10</td>\n",
       "      <td>STATION</td>\n",
       "      <td>STATION</td>\n",
       "      <td>{'type': 'Point', 'coordinates': [-3.7088337, ...</td>\n",
       "      <td>'Plaza de la Cebada nº 16 '</td>\n",
       "      <td>2023-02-01T00:05:41</td>\n",
       "      <td>31.0</td>\n",
       "      <td>3.0</td>\n",
       "      <td>27 - Huertas</td>\n",
       "      <td>43.0</td>\n",
       "      <td>3.0</td>\n",
       "      <td>39 - Plaza de la Cebada</td>\n",
       "    </tr>\n",
       "    <tr>\n",
       "      <th>2</th>\n",
       "      <td>NaN</td>\n",
       "      <td>NaN</td>\n",
       "      <td>NaN</td>\n",
       "      <td>NaN</td>\n",
       "      <td>NaN</td>\n",
       "      <td>NaN</td>\n",
       "      <td>NaN</td>\n",
       "      <td>NaN</td>\n",
       "      <td>NaN</td>\n",
       "      <td>NaN</td>\n",
       "      <td>NaN</td>\n",
       "      <td>NaN</td>\n",
       "      <td>NaN</td>\n",
       "      <td>NaN</td>\n",
       "      <td>NaN</td>\n",
       "      <td>NaN</td>\n",
       "      <td>NaN</td>\n",
       "      <td>NaN</td>\n",
       "    </tr>\n",
       "    <tr>\n",
       "      <th>3</th>\n",
       "      <td>2023-02-01</td>\n",
       "      <td>5098.0</td>\n",
       "      <td>1.0</td>\n",
       "      <td>0.32</td>\n",
       "      <td>{'type': 'Point', 'coordinates': [-3.7022591, ...</td>\n",
       "      <td>'Glorieta de Embajadores nº 2'</td>\n",
       "      <td>2023-02-01T00:00:25</td>\n",
       "      <td>STATION</td>\n",
       "      <td>STATION</td>\n",
       "      <td>{'type': 'Point', 'coordinates': [-3.7022591, ...</td>\n",
       "      <td>'Glorieta de Embajadores nº 2'</td>\n",
       "      <td>2023-02-01T00:00:44</td>\n",
       "      <td>52.0</td>\n",
       "      <td>22.0</td>\n",
       "      <td>48 - Embajadores 2</td>\n",
       "      <td>52.0</td>\n",
       "      <td>22.0</td>\n",
       "      <td>48 - Embajadores 2</td>\n",
       "    </tr>\n",
       "    <tr>\n",
       "      <th>4</th>\n",
       "      <td>NaN</td>\n",
       "      <td>NaN</td>\n",
       "      <td>NaN</td>\n",
       "      <td>NaN</td>\n",
       "      <td>NaN</td>\n",
       "      <td>NaN</td>\n",
       "      <td>NaN</td>\n",
       "      <td>NaN</td>\n",
       "      <td>NaN</td>\n",
       "      <td>NaN</td>\n",
       "      <td>NaN</td>\n",
       "      <td>NaN</td>\n",
       "      <td>NaN</td>\n",
       "      <td>NaN</td>\n",
       "      <td>NaN</td>\n",
       "      <td>NaN</td>\n",
       "      <td>NaN</td>\n",
       "      <td>NaN</td>\n",
       "    </tr>\n",
       "  </tbody>\n",
       "</table>\n",
       "</div>"
      ],
      "text/plain": [
       "        fecha  idBike  fleet  trip_minutes  \\\n",
       "0         NaN     NaN    NaN           NaN   \n",
       "1  2023-02-01  7337.0    1.0          5.52   \n",
       "2         NaN     NaN    NaN           NaN   \n",
       "3  2023-02-01  5098.0    1.0          0.32   \n",
       "4         NaN     NaN    NaN           NaN   \n",
       "\n",
       "                                  geolocation_unlock  \\\n",
       "0                                                NaN   \n",
       "1  {'type': 'Point', 'coordinates': [-3.6956178, ...   \n",
       "2                                                NaN   \n",
       "3  {'type': 'Point', 'coordinates': [-3.7022591, ...   \n",
       "4                                                NaN   \n",
       "\n",
       "                   address_unlock          unlock_date locktype unlocktype  \\\n",
       "0                             NaN                  NaN      NaN        NaN   \n",
       "1              'Calle Jesús nº 1'  2023-02-01T00:00:10  STATION    STATION   \n",
       "2                             NaN                  NaN      NaN        NaN   \n",
       "3  'Glorieta de Embajadores nº 2'  2023-02-01T00:00:25  STATION    STATION   \n",
       "4                             NaN                  NaN      NaN        NaN   \n",
       "\n",
       "                                    geolocation_lock  \\\n",
       "0                                                NaN   \n",
       "1  {'type': 'Point', 'coordinates': [-3.7088337, ...   \n",
       "2                                                NaN   \n",
       "3  {'type': 'Point', 'coordinates': [-3.7022591, ...   \n",
       "4                                                NaN   \n",
       "\n",
       "                     address_lock            lock_date  station_unlock  \\\n",
       "0                             NaN                  NaN             NaN   \n",
       "1     'Plaza de la Cebada nº 16 '  2023-02-01T00:05:41            31.0   \n",
       "2                             NaN                  NaN             NaN   \n",
       "3  'Glorieta de Embajadores nº 2'  2023-02-01T00:00:44            52.0   \n",
       "4                             NaN                  NaN             NaN   \n",
       "\n",
       "   dock_unlock unlock_station_name  station_lock  dock_lock  \\\n",
       "0          NaN                 NaN           NaN        NaN   \n",
       "1          3.0        27 - Huertas          43.0        3.0   \n",
       "2          NaN                 NaN           NaN        NaN   \n",
       "3         22.0  48 - Embajadores 2          52.0       22.0   \n",
       "4          NaN                 NaN           NaN        NaN   \n",
       "\n",
       "         lock_station_name  \n",
       "0                      NaN  \n",
       "1  39 - Plaza de la Cebada  \n",
       "2                      NaN  \n",
       "3       48 - Embajadores 2  \n",
       "4                      NaN  "
      ]
     },
     "execution_count": 163,
     "metadata": {},
     "output_type": "execute_result"
    }
   ],
   "source": [
    "# Vemos qué pinta tienen\n",
    "datos_bicis.head()"
   ]
  },
  {
   "cell_type": "code",
   "execution_count": 164,
   "metadata": {},
   "outputs": [
    {
     "data": {
      "text/plain": [
       "0                                  NaN\n",
       "1          'Plaza de la Cebada nº 16 '\n",
       "2                                  NaN\n",
       "3       'Glorieta de Embajadores nº 2'\n",
       "4                                  NaN\n",
       "                     ...              \n",
       "9995    'Calle General Pardiñas nº 56'\n",
       "9996                               NaN\n",
       "9997            'Paseo Imperial nº 20'\n",
       "9998                               NaN\n",
       "9999              'Calle Orense nº 12'\n",
       "Name: address_lock, Length: 10000, dtype: object"
      ]
     },
     "execution_count": 164,
     "metadata": {},
     "output_type": "execute_result"
    }
   ],
   "source": [
    "datos_bicis['address_lock']"
   ]
  },
  {
   "cell_type": "markdown",
   "metadata": {},
   "source": [
    "# Acceso a archivos de la pagina de datos.gob.es\n",
    "Uno de los mayores catálogos de información pública descargable en España"
   ]
  },
  {
   "cell_type": "code",
   "execution_count": 179,
   "metadata": {
    "collapsed": true,
    "jupyter": {
     "outputs_hidden": true
    },
    "tags": []
   },
   "outputs": [
    {
     "data": {
      "text/html": [
       "<div>\n",
       "<style scoped>\n",
       "    .dataframe tbody tr th:only-of-type {\n",
       "        vertical-align: middle;\n",
       "    }\n",
       "\n",
       "    .dataframe tbody tr th {\n",
       "        vertical-align: top;\n",
       "    }\n",
       "\n",
       "    .dataframe thead th {\n",
       "        text-align: right;\n",
       "    }\n",
       "</style>\n",
       "<table border=\"1\" class=\"dataframe\">\n",
       "  <thead>\n",
       "    <tr style=\"text-align: right;\">\n",
       "      <th></th>\n",
       "      <th>Año</th>\n",
       "      <th>Consumo de agua (m3)</th>\n",
       "      <th>Aceites/grasas  (kg)</th>\n",
       "      <th>Pinturas (kg)</th>\n",
       "    </tr>\n",
       "  </thead>\n",
       "  <tbody>\n",
       "    <tr>\n",
       "      <th>0</th>\n",
       "      <td>2019</td>\n",
       "      <td>903240</td>\n",
       "      <td>540511</td>\n",
       "      <td>88537</td>\n",
       "    </tr>\n",
       "    <tr>\n",
       "      <th>1</th>\n",
       "      <td>2018</td>\n",
       "      <td>917605</td>\n",
       "      <td>446983</td>\n",
       "      <td>116778</td>\n",
       "    </tr>\n",
       "    <tr>\n",
       "      <th>2</th>\n",
       "      <td>2017</td>\n",
       "      <td>923881</td>\n",
       "      <td>452534</td>\n",
       "      <td>96362</td>\n",
       "    </tr>\n",
       "    <tr>\n",
       "      <th>3</th>\n",
       "      <td>2016</td>\n",
       "      <td>952455</td>\n",
       "      <td>302202</td>\n",
       "      <td>125304</td>\n",
       "    </tr>\n",
       "    <tr>\n",
       "      <th>4</th>\n",
       "      <td>2015</td>\n",
       "      <td>941651</td>\n",
       "      <td>315302</td>\n",
       "      <td>130003</td>\n",
       "    </tr>\n",
       "    <tr>\n",
       "      <th>5</th>\n",
       "      <td>2014</td>\n",
       "      <td>1023534</td>\n",
       "      <td>319674</td>\n",
       "      <td>125448</td>\n",
       "    </tr>\n",
       "    <tr>\n",
       "      <th>6</th>\n",
       "      <td>2013</td>\n",
       "      <td>905703</td>\n",
       "      <td>308904</td>\n",
       "      <td>96946</td>\n",
       "    </tr>\n",
       "  </tbody>\n",
       "</table>\n",
       "</div>"
      ],
      "text/plain": [
       "    Año  Consumo de agua (m3)  Aceites/grasas  (kg)  Pinturas (kg)\n",
       "0  2019                903240                540511          88537\n",
       "1  2018                917605                446983         116778\n",
       "2  2017                923881                452534          96362\n",
       "3  2016                952455                302202         125304\n",
       "4  2015                941651                315302         130003\n",
       "5  2014               1023534                319674         125448\n",
       "6  2013                905703                308904          96946"
      ]
     },
     "execution_count": 179,
     "metadata": {},
     "output_type": "execute_result"
    }
   ],
   "source": [
    "# https://datos.gob.es/es/catalogo/ea0003337-principales-indicadores-de-sostenibilidad1\n",
    "\n",
    "url = \"https://data.renfe.com/dataset/928d911e-00ca-437b-be3f-068fc1f97800/resource/63d285e8-9f52-410b-8412-8a8c26f5ddb3/download/consumo-de-agua-y-materiales.csv\"\n",
    "\n",
    "datos = pd.read_csv(url, sep = ';')\n",
    "datos"
   ]
  },
  {
   "cell_type": "code",
   "execution_count": 10,
   "metadata": {},
   "outputs": [
    {
     "data": {
      "text/plain": [
       "Index(['Año', 'Consumo de agua (m3)', 'Aceites/grasas  (kg)', 'Pinturas (kg)'], dtype='object')"
      ]
     },
     "execution_count": 10,
     "metadata": {},
     "output_type": "execute_result"
    }
   ],
   "source": [
    "datos.columns"
   ]
  },
  {
   "cell_type": "code",
   "execution_count": 176,
   "metadata": {},
   "outputs": [
    {
     "data": {
      "text/html": [
       "<div>\n",
       "<style scoped>\n",
       "    .dataframe tbody tr th:only-of-type {\n",
       "        vertical-align: middle;\n",
       "    }\n",
       "\n",
       "    .dataframe tbody tr th {\n",
       "        vertical-align: top;\n",
       "    }\n",
       "\n",
       "    .dataframe thead th {\n",
       "        text-align: right;\n",
       "    }\n",
       "</style>\n",
       "<table border=\"1\" class=\"dataframe\">\n",
       "  <thead>\n",
       "    <tr style=\"text-align: right;\">\n",
       "      <th></th>\n",
       "      <th>Unnamed: 0</th>\n",
       "      <th>Abs.</th>\n",
       "      <th>Abs..1</th>\n",
       "      <th>Abs..2</th>\n",
       "      <th>Abs..3</th>\n",
       "      <th>% ver</th>\n",
       "      <th>% ver.1</th>\n",
       "      <th>% ver.2</th>\n",
       "      <th>% ver.3</th>\n",
       "      <th>%</th>\n",
       "    </tr>\n",
       "  </thead>\n",
       "  <tbody>\n",
       "    <tr>\n",
       "      <th>0</th>\n",
       "      <td>Centros residenciales</td>\n",
       "      <td>208.0</td>\n",
       "      <td>87.0</td>\n",
       "      <td>91.0</td>\n",
       "      <td>126.0</td>\n",
       "      <td>1.458523</td>\n",
       "      <td>0.593452</td>\n",
       "      <td>0.605496</td>\n",
       "      <td>0.805781</td>\n",
       "      <td>38.461538</td>\n",
       "    </tr>\n",
       "    <tr>\n",
       "      <th>1</th>\n",
       "      <td>Servicios de respiro y apoyo</td>\n",
       "      <td>122.0</td>\n",
       "      <td>92.0</td>\n",
       "      <td>92.0</td>\n",
       "      <td>122.0</td>\n",
       "      <td>0.855480</td>\n",
       "      <td>0.627558</td>\n",
       "      <td>0.612150</td>\n",
       "      <td>0.780201</td>\n",
       "      <td>32.608696</td>\n",
       "    </tr>\n",
       "    <tr>\n",
       "      <th>2</th>\n",
       "      <td>Centros de día asistenciales</td>\n",
       "      <td>4414.0</td>\n",
       "      <td>4464.0</td>\n",
       "      <td>4452.0</td>\n",
       "      <td>4529.0</td>\n",
       "      <td>30.951546</td>\n",
       "      <td>30.450205</td>\n",
       "      <td>29.622729</td>\n",
       "      <td>28.963356</td>\n",
       "      <td>1.729560</td>\n",
       "    </tr>\n",
       "    <tr>\n",
       "      <th>3</th>\n",
       "      <td>Comedores</td>\n",
       "      <td>558.0</td>\n",
       "      <td>658.0</td>\n",
       "      <td>763.0</td>\n",
       "      <td>896.0</td>\n",
       "      <td>3.912769</td>\n",
       "      <td>4.488404</td>\n",
       "      <td>5.076851</td>\n",
       "      <td>5.729999</td>\n",
       "      <td>17.431193</td>\n",
       "    </tr>\n",
       "    <tr>\n",
       "      <th>4</th>\n",
       "      <td>Otros centros no residenciales</td>\n",
       "      <td>138.0</td>\n",
       "      <td>155.0</td>\n",
       "      <td>179.0</td>\n",
       "      <td>174.0</td>\n",
       "      <td>0.967674</td>\n",
       "      <td>1.057299</td>\n",
       "      <td>1.191031</td>\n",
       "      <td>1.112745</td>\n",
       "      <td>-2.793296</td>\n",
       "    </tr>\n",
       "    <tr>\n",
       "      <th>5</th>\n",
       "      <td>TOTAL PERSONAS MAYORES</td>\n",
       "      <td>5440.0</td>\n",
       "      <td>5456.0</td>\n",
       "      <td>5577.0</td>\n",
       "      <td>5847.0</td>\n",
       "      <td>38.145993</td>\n",
       "      <td>37.216917</td>\n",
       "      <td>37.108257</td>\n",
       "      <td>37.392083</td>\n",
       "      <td>4.841313</td>\n",
       "    </tr>\n",
       "    <tr>\n",
       "      <th>6</th>\n",
       "      <td>Centros residenciales</td>\n",
       "      <td>19.0</td>\n",
       "      <td>14.0</td>\n",
       "      <td>8.0</td>\n",
       "      <td>9.0</td>\n",
       "      <td>0.133230</td>\n",
       "      <td>0.095498</td>\n",
       "      <td>0.053230</td>\n",
       "      <td>0.057556</td>\n",
       "      <td>12.500000</td>\n",
       "    </tr>\n",
       "    <tr>\n",
       "      <th>7</th>\n",
       "      <td>Servicio de respiro y apoyo</td>\n",
       "      <td>NaN</td>\n",
       "      <td>NaN</td>\n",
       "      <td>NaN</td>\n",
       "      <td>NaN</td>\n",
       "      <td>0.000000</td>\n",
       "      <td>0.000000</td>\n",
       "      <td>0.000000</td>\n",
       "      <td>0.000000</td>\n",
       "      <td>NaN</td>\n",
       "    </tr>\n",
       "    <tr>\n",
       "      <th>8</th>\n",
       "      <td>Centros de día</td>\n",
       "      <td>2150.0</td>\n",
       "      <td>2106.0</td>\n",
       "      <td>2188.0</td>\n",
       "      <td>2212.0</td>\n",
       "      <td>15.076082</td>\n",
       "      <td>14.365621</td>\n",
       "      <td>14.558520</td>\n",
       "      <td>14.145936</td>\n",
       "      <td>1.096892</td>\n",
       "    </tr>\n",
       "    <tr>\n",
       "      <th>9</th>\n",
       "      <td>Centros de recuperación y atención</td>\n",
       "      <td>821.0</td>\n",
       "      <td>765.0</td>\n",
       "      <td>778.0</td>\n",
       "      <td>805.0</td>\n",
       "      <td>5.756960</td>\n",
       "      <td>5.218281</td>\n",
       "      <td>5.176658</td>\n",
       "      <td>5.148046</td>\n",
       "      <td>3.470437</td>\n",
       "    </tr>\n",
       "    <tr>\n",
       "      <th>10</th>\n",
       "      <td>Centros de día y ocupacionales</td>\n",
       "      <td>2755.0</td>\n",
       "      <td>2803.0</td>\n",
       "      <td>2955.0</td>\n",
       "      <td>2926.0</td>\n",
       "      <td>19.318421</td>\n",
       "      <td>19.120055</td>\n",
       "      <td>19.661987</td>\n",
       "      <td>18.712029</td>\n",
       "      <td>-0.981387</td>\n",
       "    </tr>\n",
       "    <tr>\n",
       "      <th>11</th>\n",
       "      <td>Centros de inserción laboral</td>\n",
       "      <td>1057.0</td>\n",
       "      <td>1368.0</td>\n",
       "      <td>1183.0</td>\n",
       "      <td>1138.0</td>\n",
       "      <td>7.411822</td>\n",
       "      <td>9.331514</td>\n",
       "      <td>7.871449</td>\n",
       "      <td>7.277611</td>\n",
       "      <td>-3.803888</td>\n",
       "    </tr>\n",
       "    <tr>\n",
       "      <th>12</th>\n",
       "      <td>TOTAL DISCAPACIDAD/ENFERMEDAD</td>\n",
       "      <td>6802.0</td>\n",
       "      <td>7056.0</td>\n",
       "      <td>7112.0</td>\n",
       "      <td>7090.0</td>\n",
       "      <td>47.696515</td>\n",
       "      <td>48.130969</td>\n",
       "      <td>47.321844</td>\n",
       "      <td>45.341178</td>\n",
       "      <td>-0.309336</td>\n",
       "    </tr>\n",
       "    <tr>\n",
       "      <th>13</th>\n",
       "      <td>Centros residenciales menores/familia</td>\n",
       "      <td>NaN</td>\n",
       "      <td>4.0</td>\n",
       "      <td>4.0</td>\n",
       "      <td>4.0</td>\n",
       "      <td>0.000000</td>\n",
       "      <td>0.027285</td>\n",
       "      <td>0.026615</td>\n",
       "      <td>0.025580</td>\n",
       "      <td>NaN</td>\n",
       "    </tr>\n",
       "    <tr>\n",
       "      <th>14</th>\n",
       "      <td>Atención diurna para menores/familia</td>\n",
       "      <td>324.0</td>\n",
       "      <td>364.0</td>\n",
       "      <td>427.0</td>\n",
       "      <td>538.0</td>\n",
       "      <td>2.271930</td>\n",
       "      <td>2.482947</td>\n",
       "      <td>2.841174</td>\n",
       "      <td>3.440558</td>\n",
       "      <td>25.995316</td>\n",
       "    </tr>\n",
       "    <tr>\n",
       "      <th>15</th>\n",
       "      <td>TOTAL MENORES/FAMILIAS</td>\n",
       "      <td>324.0</td>\n",
       "      <td>368.0</td>\n",
       "      <td>431.0</td>\n",
       "      <td>542.0</td>\n",
       "      <td>2.271930</td>\n",
       "      <td>2.510232</td>\n",
       "      <td>2.867789</td>\n",
       "      <td>3.466138</td>\n",
       "      <td>25.754060</td>\n",
       "    </tr>\n",
       "    <tr>\n",
       "      <th>16</th>\n",
       "      <td>Alojamiento y centros residenciales</td>\n",
       "      <td>25.0</td>\n",
       "      <td>23.0</td>\n",
       "      <td>23.0</td>\n",
       "      <td>22.0</td>\n",
       "      <td>0.175303</td>\n",
       "      <td>0.156889</td>\n",
       "      <td>0.153037</td>\n",
       "      <td>0.140692</td>\n",
       "      <td>-4.347826</td>\n",
       "    </tr>\n",
       "    <tr>\n",
       "      <th>17</th>\n",
       "      <td>Centros de día</td>\n",
       "      <td>1197.0</td>\n",
       "      <td>1114.0</td>\n",
       "      <td>1233.0</td>\n",
       "      <td>1328.0</td>\n",
       "      <td>8.393521</td>\n",
       "      <td>7.598909</td>\n",
       "      <td>8.204139</td>\n",
       "      <td>8.492678</td>\n",
       "      <td>7.704785</td>\n",
       "    </tr>\n",
       "    <tr>\n",
       "      <th>18</th>\n",
       "      <td>Comedores sociales</td>\n",
       "      <td>473.0</td>\n",
       "      <td>643.0</td>\n",
       "      <td>653.0</td>\n",
       "      <td>808.0</td>\n",
       "      <td>3.316738</td>\n",
       "      <td>4.386085</td>\n",
       "      <td>4.344933</td>\n",
       "      <td>5.167232</td>\n",
       "      <td>23.736600</td>\n",
       "    </tr>\n",
       "    <tr>\n",
       "      <th>19</th>\n",
       "      <td>TOTAL EXCLUSIÓN</td>\n",
       "      <td>1695.0</td>\n",
       "      <td>1780.0</td>\n",
       "      <td>1909.0</td>\n",
       "      <td>2158.0</td>\n",
       "      <td>11.885562</td>\n",
       "      <td>12.141883</td>\n",
       "      <td>12.702109</td>\n",
       "      <td>13.800601</td>\n",
       "      <td>13.043478</td>\n",
       "    </tr>\n",
       "    <tr>\n",
       "      <th>20</th>\n",
       "      <td>TOTAL</td>\n",
       "      <td>14261.0</td>\n",
       "      <td>14660.0</td>\n",
       "      <td>15029.0</td>\n",
       "      <td>15637.0</td>\n",
       "      <td>100.000000</td>\n",
       "      <td>100.000000</td>\n",
       "      <td>100.000000</td>\n",
       "      <td>100.000000</td>\n",
       "      <td>4.045512</td>\n",
       "    </tr>\n",
       "    <tr>\n",
       "      <th>21</th>\n",
       "      <td>Fuente: OEE DIJPS. Estadística de Servicios So...</td>\n",
       "      <td>NaN</td>\n",
       "      <td>NaN</td>\n",
       "      <td>NaN</td>\n",
       "      <td>NaN</td>\n",
       "      <td>NaN</td>\n",
       "      <td>NaN</td>\n",
       "      <td>NaN</td>\n",
       "      <td>NaN</td>\n",
       "      <td>NaN</td>\n",
       "    </tr>\n",
       "  </tbody>\n",
       "</table>\n",
       "</div>"
      ],
      "text/plain": [
       "                                           Unnamed: 0     Abs.   Abs..1  \\\n",
       "0                               Centros residenciales    208.0     87.0   \n",
       "1                        Servicios de respiro y apoyo    122.0     92.0   \n",
       "2                        Centros de día asistenciales   4414.0   4464.0   \n",
       "3                                           Comedores    558.0    658.0   \n",
       "4                      Otros centros no residenciales    138.0    155.0   \n",
       "5                              TOTAL PERSONAS MAYORES   5440.0   5456.0   \n",
       "6                               Centros residenciales     19.0     14.0   \n",
       "7                         Servicio de respiro y apoyo      NaN      NaN   \n",
       "8                                      Centros de día   2150.0   2106.0   \n",
       "9                  Centros de recuperación y atención    821.0    765.0   \n",
       "10                     Centros de día y ocupacionales   2755.0   2803.0   \n",
       "11                       Centros de inserción laboral   1057.0   1368.0   \n",
       "12                      TOTAL DISCAPACIDAD/ENFERMEDAD   6802.0   7056.0   \n",
       "13              Centros residenciales menores/familia      NaN      4.0   \n",
       "14               Atención diurna para menores/familia    324.0    364.0   \n",
       "15                             TOTAL MENORES/FAMILIAS    324.0    368.0   \n",
       "16                Alojamiento y centros residenciales     25.0     23.0   \n",
       "17                                     Centros de día   1197.0   1114.0   \n",
       "18                                 Comedores sociales    473.0    643.0   \n",
       "19                                    TOTAL EXCLUSIÓN   1695.0   1780.0   \n",
       "20                                              TOTAL  14261.0  14660.0   \n",
       "21  Fuente: OEE DIJPS. Estadística de Servicios So...      NaN      NaN   \n",
       "\n",
       "     Abs..2   Abs..3       % ver     % ver.1     % ver.2     % ver.3  \\\n",
       "0      91.0    126.0    1.458523    0.593452    0.605496    0.805781   \n",
       "1      92.0    122.0    0.855480    0.627558    0.612150    0.780201   \n",
       "2    4452.0   4529.0   30.951546   30.450205   29.622729   28.963356   \n",
       "3     763.0    896.0    3.912769    4.488404    5.076851    5.729999   \n",
       "4     179.0    174.0    0.967674    1.057299    1.191031    1.112745   \n",
       "5    5577.0   5847.0   38.145993   37.216917   37.108257   37.392083   \n",
       "6       8.0      9.0    0.133230    0.095498    0.053230    0.057556   \n",
       "7       NaN      NaN    0.000000    0.000000    0.000000    0.000000   \n",
       "8    2188.0   2212.0   15.076082   14.365621   14.558520   14.145936   \n",
       "9     778.0    805.0    5.756960    5.218281    5.176658    5.148046   \n",
       "10   2955.0   2926.0   19.318421   19.120055   19.661987   18.712029   \n",
       "11   1183.0   1138.0    7.411822    9.331514    7.871449    7.277611   \n",
       "12   7112.0   7090.0   47.696515   48.130969   47.321844   45.341178   \n",
       "13      4.0      4.0    0.000000    0.027285    0.026615    0.025580   \n",
       "14    427.0    538.0    2.271930    2.482947    2.841174    3.440558   \n",
       "15    431.0    542.0    2.271930    2.510232    2.867789    3.466138   \n",
       "16     23.0     22.0    0.175303    0.156889    0.153037    0.140692   \n",
       "17   1233.0   1328.0    8.393521    7.598909    8.204139    8.492678   \n",
       "18    653.0    808.0    3.316738    4.386085    4.344933    5.167232   \n",
       "19   1909.0   2158.0   11.885562   12.141883   12.702109   13.800601   \n",
       "20  15029.0  15637.0  100.000000  100.000000  100.000000  100.000000   \n",
       "21      NaN      NaN         NaN         NaN         NaN         NaN   \n",
       "\n",
       "            %  \n",
       "0   38.461538  \n",
       "1   32.608696  \n",
       "2    1.729560  \n",
       "3   17.431193  \n",
       "4   -2.793296  \n",
       "5    4.841313  \n",
       "6   12.500000  \n",
       "7         NaN  \n",
       "8    1.096892  \n",
       "9    3.470437  \n",
       "10  -0.981387  \n",
       "11  -3.803888  \n",
       "12  -0.309336  \n",
       "13        NaN  \n",
       "14  25.995316  \n",
       "15  25.754060  \n",
       "16  -4.347826  \n",
       "17   7.704785  \n",
       "18  23.736600  \n",
       "19  13.043478  \n",
       "20   4.045512  \n",
       "21        NaN  "
      ]
     },
     "execution_count": 176,
     "metadata": {},
     "output_type": "execute_result"
    }
   ],
   "source": [
    "url = 'https://opendata.euskadi.eus/contenidos/estadistica/tablas_essec_2020/es_tblestad/data/2016-2019_Tablas_es-.xlsx'\n",
    "datos_pvasco = pd.read_excel(url, sheet_name='P3', header=2)\n",
    "datos_pvasco"
   ]
  },
  {
   "cell_type": "code",
   "execution_count": 177,
   "metadata": {},
   "outputs": [],
   "source": [
    "lista_hojas = ['P1','P2','P3']\n",
    "\n",
    "for hoja in lista_hojas:\n",
    "    datos_pvasco = pd.read_excel(url, sheet_name=hoja, header=2)\n",
    "    datos_pvasco.to_csv('Pais_vasco_hoja_' + str(hoja) + '.csv')"
   ]
  },
  {
   "cell_type": "code",
   "execution_count": 181,
   "metadata": {
    "collapsed": true,
    "jupyter": {
     "outputs_hidden": true
    },
    "tags": []
   },
   "outputs": [
    {
     "data": {
      "text/plain": [
       "<Axes: xlabel='Año', ylabel='Aceites/grasas  (kg)'>"
      ]
     },
     "execution_count": 181,
     "metadata": {},
     "output_type": "execute_result"
    },
    {
     "data": {
      "image/png": "[encoded data removed]",
      "text/plain": [
       "<Figure size 640x480 with 1 Axes>"
      ]
     },
     "metadata": {},
     "output_type": "display_data"
    }
   ],
   "source": [
    "import seaborn as sns\n",
    "sns.barplot(data = datos, x = 'Año', y = 'Aceites/grasas  (kg)')"
   ]
  },
  {
   "cell_type": "markdown",
   "metadata": {
    "colab_type": "text",
    "id": "GnScDfXghonv"
   },
   "source": [
    "## Bajando datos de la calidad del aire"
   ]
  },
  {
   "cell_type": "markdown",
   "metadata": {
    "colab_type": "text",
    "id": "oQL_gonKhonw",
    "tags": []
   },
   "source": [
    "También existe un dataset en Kaggle, pero vamos a ver un ejemplo"
   ]
  },
  {
   "cell_type": "code",
   "execution_count": 188,
   "metadata": {
    "colab": {},
    "colab_type": "code",
    "id": "OPyVBu24honw"
   },
   "outputs": [],
   "source": [
    "import pandas as pd\n",
    "\n",
    "url2 = \"https://datos.madrid.es/egob/catalogo/201410-10306621-calidad-aire-diario.csv\"\n",
    "\n",
    "datos=pd.read_csv(url2, sep=\";\")\n"
   ]
  },
  {
   "cell_type": "code",
   "execution_count": 189,
   "metadata": {
    "colab": {},
    "colab_type": "code",
    "collapsed": true,
    "id": "GTd8NHDLhony",
    "jupyter": {
     "outputs_hidden": true
    },
    "outputId": "bc75b9c6-cd36-4c39-ab2a-63dca3342e7a",
    "tags": []
   },
   "outputs": [
    {
     "data": {
      "text/html": [
       "<div>\n",
       "<style scoped>\n",
       "    .dataframe tbody tr th:only-of-type {\n",
       "        vertical-align: middle;\n",
       "    }\n",
       "\n",
       "    .dataframe tbody tr th {\n",
       "        vertical-align: top;\n",
       "    }\n",
       "\n",
       "    .dataframe thead th {\n",
       "        text-align: right;\n",
       "    }\n",
       "</style>\n",
       "<table border=\"1\" class=\"dataframe\">\n",
       "  <thead>\n",
       "    <tr style=\"text-align: right;\">\n",
       "      <th></th>\n",
       "      <th>PROVINCIA</th>\n",
       "      <th>MUNICIPIO</th>\n",
       "      <th>ESTACION</th>\n",
       "      <th>MAGNITUD</th>\n",
       "      <th>PUNTO_MUESTREO</th>\n",
       "      <th>ANO</th>\n",
       "      <th>MES</th>\n",
       "      <th>D01</th>\n",
       "      <th>V01</th>\n",
       "      <th>D02</th>\n",
       "      <th>...</th>\n",
       "      <th>D27</th>\n",
       "      <th>V27</th>\n",
       "      <th>D28</th>\n",
       "      <th>V28</th>\n",
       "      <th>D29</th>\n",
       "      <th>V29</th>\n",
       "      <th>D30</th>\n",
       "      <th>V30</th>\n",
       "      <th>D31</th>\n",
       "      <th>V31</th>\n",
       "    </tr>\n",
       "  </thead>\n",
       "  <tbody>\n",
       "    <tr>\n",
       "      <th>0</th>\n",
       "      <td>28</td>\n",
       "      <td>79</td>\n",
       "      <td>4</td>\n",
       "      <td>1</td>\n",
       "      <td>28079004_1_38</td>\n",
       "      <td>2024</td>\n",
       "      <td>2</td>\n",
       "      <td>3.0</td>\n",
       "      <td>V</td>\n",
       "      <td>2.0</td>\n",
       "      <td>...</td>\n",
       "      <td>2.0</td>\n",
       "      <td>V</td>\n",
       "      <td>2.0</td>\n",
       "      <td>V</td>\n",
       "      <td>2.0</td>\n",
       "      <td>V</td>\n",
       "      <td>0</td>\n",
       "      <td>N</td>\n",
       "      <td>0</td>\n",
       "      <td>N</td>\n",
       "    </tr>\n",
       "    <tr>\n",
       "      <th>1</th>\n",
       "      <td>28</td>\n",
       "      <td>79</td>\n",
       "      <td>4</td>\n",
       "      <td>6</td>\n",
       "      <td>28079004_6_48</td>\n",
       "      <td>2024</td>\n",
       "      <td>2</td>\n",
       "      <td>0.6</td>\n",
       "      <td>V</td>\n",
       "      <td>0.5</td>\n",
       "      <td>...</td>\n",
       "      <td>0.4</td>\n",
       "      <td>V</td>\n",
       "      <td>0.5</td>\n",
       "      <td>V</td>\n",
       "      <td>0.5</td>\n",
       "      <td>V</td>\n",
       "      <td>0</td>\n",
       "      <td>N</td>\n",
       "      <td>0</td>\n",
       "      <td>N</td>\n",
       "    </tr>\n",
       "    <tr>\n",
       "      <th>2</th>\n",
       "      <td>28</td>\n",
       "      <td>79</td>\n",
       "      <td>4</td>\n",
       "      <td>7</td>\n",
       "      <td>28079004_7_8</td>\n",
       "      <td>2024</td>\n",
       "      <td>2</td>\n",
       "      <td>59.0</td>\n",
       "      <td>V</td>\n",
       "      <td>36.0</td>\n",
       "      <td>...</td>\n",
       "      <td>5.0</td>\n",
       "      <td>V</td>\n",
       "      <td>10.0</td>\n",
       "      <td>V</td>\n",
       "      <td>21.0</td>\n",
       "      <td>V</td>\n",
       "      <td>0</td>\n",
       "      <td>N</td>\n",
       "      <td>0</td>\n",
       "      <td>N</td>\n",
       "    </tr>\n",
       "    <tr>\n",
       "      <th>3</th>\n",
       "      <td>28</td>\n",
       "      <td>79</td>\n",
       "      <td>4</td>\n",
       "      <td>8</td>\n",
       "      <td>28079004_8_8</td>\n",
       "      <td>2024</td>\n",
       "      <td>2</td>\n",
       "      <td>41.0</td>\n",
       "      <td>V</td>\n",
       "      <td>33.0</td>\n",
       "      <td>...</td>\n",
       "      <td>21.0</td>\n",
       "      <td>V</td>\n",
       "      <td>35.0</td>\n",
       "      <td>V</td>\n",
       "      <td>29.0</td>\n",
       "      <td>V</td>\n",
       "      <td>0</td>\n",
       "      <td>N</td>\n",
       "      <td>0</td>\n",
       "      <td>N</td>\n",
       "    </tr>\n",
       "    <tr>\n",
       "      <th>4</th>\n",
       "      <td>28</td>\n",
       "      <td>79</td>\n",
       "      <td>4</td>\n",
       "      <td>12</td>\n",
       "      <td>28079004_12_8</td>\n",
       "      <td>2024</td>\n",
       "      <td>2</td>\n",
       "      <td>132.0</td>\n",
       "      <td>V</td>\n",
       "      <td>88.0</td>\n",
       "      <td>...</td>\n",
       "      <td>28.0</td>\n",
       "      <td>V</td>\n",
       "      <td>51.0</td>\n",
       "      <td>V</td>\n",
       "      <td>62.0</td>\n",
       "      <td>V</td>\n",
       "      <td>0</td>\n",
       "      <td>N</td>\n",
       "      <td>0</td>\n",
       "      <td>N</td>\n",
       "    </tr>\n",
       "    <tr>\n",
       "      <th>...</th>\n",
       "      <td>...</td>\n",
       "      <td>...</td>\n",
       "      <td>...</td>\n",
       "      <td>...</td>\n",
       "      <td>...</td>\n",
       "      <td>...</td>\n",
       "      <td>...</td>\n",
       "      <td>...</td>\n",
       "      <td>...</td>\n",
       "      <td>...</td>\n",
       "      <td>...</td>\n",
       "      <td>...</td>\n",
       "      <td>...</td>\n",
       "      <td>...</td>\n",
       "      <td>...</td>\n",
       "      <td>...</td>\n",
       "      <td>...</td>\n",
       "      <td>...</td>\n",
       "      <td>...</td>\n",
       "      <td>...</td>\n",
       "      <td>...</td>\n",
       "    </tr>\n",
       "    <tr>\n",
       "      <th>124</th>\n",
       "      <td>28</td>\n",
       "      <td>79</td>\n",
       "      <td>60</td>\n",
       "      <td>7</td>\n",
       "      <td>28079060_7_8</td>\n",
       "      <td>2024</td>\n",
       "      <td>2</td>\n",
       "      <td>20.0</td>\n",
       "      <td>V</td>\n",
       "      <td>23.0</td>\n",
       "      <td>...</td>\n",
       "      <td>3.0</td>\n",
       "      <td>V</td>\n",
       "      <td>4.0</td>\n",
       "      <td>V</td>\n",
       "      <td>15.0</td>\n",
       "      <td>V</td>\n",
       "      <td>0</td>\n",
       "      <td>N</td>\n",
       "      <td>0</td>\n",
       "      <td>N</td>\n",
       "    </tr>\n",
       "    <tr>\n",
       "      <th>125</th>\n",
       "      <td>28</td>\n",
       "      <td>79</td>\n",
       "      <td>60</td>\n",
       "      <td>8</td>\n",
       "      <td>28079060_8_8</td>\n",
       "      <td>2024</td>\n",
       "      <td>2</td>\n",
       "      <td>43.0</td>\n",
       "      <td>V</td>\n",
       "      <td>41.0</td>\n",
       "      <td>...</td>\n",
       "      <td>9.0</td>\n",
       "      <td>V</td>\n",
       "      <td>20.0</td>\n",
       "      <td>V</td>\n",
       "      <td>29.0</td>\n",
       "      <td>V</td>\n",
       "      <td>0</td>\n",
       "      <td>N</td>\n",
       "      <td>0</td>\n",
       "      <td>N</td>\n",
       "    </tr>\n",
       "    <tr>\n",
       "      <th>126</th>\n",
       "      <td>28</td>\n",
       "      <td>79</td>\n",
       "      <td>60</td>\n",
       "      <td>10</td>\n",
       "      <td>28079060_10_47</td>\n",
       "      <td>2024</td>\n",
       "      <td>2</td>\n",
       "      <td>33.0</td>\n",
       "      <td>V</td>\n",
       "      <td>30.0</td>\n",
       "      <td>...</td>\n",
       "      <td>6.0</td>\n",
       "      <td>V</td>\n",
       "      <td>8.0</td>\n",
       "      <td>V</td>\n",
       "      <td>9.0</td>\n",
       "      <td>V</td>\n",
       "      <td>0</td>\n",
       "      <td>N</td>\n",
       "      <td>0</td>\n",
       "      <td>N</td>\n",
       "    </tr>\n",
       "    <tr>\n",
       "      <th>127</th>\n",
       "      <td>28</td>\n",
       "      <td>79</td>\n",
       "      <td>60</td>\n",
       "      <td>12</td>\n",
       "      <td>28079060_12_8</td>\n",
       "      <td>2024</td>\n",
       "      <td>2</td>\n",
       "      <td>73.0</td>\n",
       "      <td>V</td>\n",
       "      <td>76.0</td>\n",
       "      <td>...</td>\n",
       "      <td>14.0</td>\n",
       "      <td>V</td>\n",
       "      <td>27.0</td>\n",
       "      <td>V</td>\n",
       "      <td>52.0</td>\n",
       "      <td>V</td>\n",
       "      <td>0</td>\n",
       "      <td>N</td>\n",
       "      <td>0</td>\n",
       "      <td>N</td>\n",
       "    </tr>\n",
       "    <tr>\n",
       "      <th>128</th>\n",
       "      <td>28</td>\n",
       "      <td>79</td>\n",
       "      <td>60</td>\n",
       "      <td>14</td>\n",
       "      <td>28079060_14_6</td>\n",
       "      <td>2024</td>\n",
       "      <td>2</td>\n",
       "      <td>25.0</td>\n",
       "      <td>V</td>\n",
       "      <td>32.0</td>\n",
       "      <td>...</td>\n",
       "      <td>77.0</td>\n",
       "      <td>V</td>\n",
       "      <td>69.0</td>\n",
       "      <td>V</td>\n",
       "      <td>49.0</td>\n",
       "      <td>V</td>\n",
       "      <td>0</td>\n",
       "      <td>N</td>\n",
       "      <td>0</td>\n",
       "      <td>N</td>\n",
       "    </tr>\n",
       "  </tbody>\n",
       "</table>\n",
       "<p>129 rows × 69 columns</p>\n",
       "</div>"
      ],
      "text/plain": [
       "     PROVINCIA  MUNICIPIO  ESTACION  MAGNITUD  PUNTO_MUESTREO   ANO  MES  \\\n",
       "0           28         79         4         1   28079004_1_38  2024    2   \n",
       "1           28         79         4         6   28079004_6_48  2024    2   \n",
       "2           28         79         4         7    28079004_7_8  2024    2   \n",
       "3           28         79         4         8    28079004_8_8  2024    2   \n",
       "4           28         79         4        12   28079004_12_8  2024    2   \n",
       "..         ...        ...       ...       ...             ...   ...  ...   \n",
       "124         28         79        60         7    28079060_7_8  2024    2   \n",
       "125         28         79        60         8    28079060_8_8  2024    2   \n",
       "126         28         79        60        10  28079060_10_47  2024    2   \n",
       "127         28         79        60        12   28079060_12_8  2024    2   \n",
       "128         28         79        60        14   28079060_14_6  2024    2   \n",
       "\n",
       "       D01 V01   D02  ...   D27  V27   D28  V28   D29  V29 D30  V30 D31  V31  \n",
       "0      3.0   V   2.0  ...   2.0    V   2.0    V   2.0    V   0    N   0    N  \n",
       "1      0.6   V   0.5  ...   0.4    V   0.5    V   0.5    V   0    N   0    N  \n",
       "2     59.0   V  36.0  ...   5.0    V  10.0    V  21.0    V   0    N   0    N  \n",
       "3     41.0   V  33.0  ...  21.0    V  35.0    V  29.0    V   0    N   0    N  \n",
       "4    132.0   V  88.0  ...  28.0    V  51.0    V  62.0    V   0    N   0    N  \n",
       "..     ...  ..   ...  ...   ...  ...   ...  ...   ...  ...  ..  ...  ..  ...  \n",
       "124   20.0   V  23.0  ...   3.0    V   4.0    V  15.0    V   0    N   0    N  \n",
       "125   43.0   V  41.0  ...   9.0    V  20.0    V  29.0    V   0    N   0    N  \n",
       "126   33.0   V  30.0  ...   6.0    V   8.0    V   9.0    V   0    N   0    N  \n",
       "127   73.0   V  76.0  ...  14.0    V  27.0    V  52.0    V   0    N   0    N  \n",
       "128   25.0   V  32.0  ...  77.0    V  69.0    V  49.0    V   0    N   0    N  \n",
       "\n",
       "[129 rows x 69 columns]"
      ]
     },
     "execution_count": 189,
     "metadata": {},
     "output_type": "execute_result"
    }
   ],
   "source": [
    "datos"
   ]
  },
  {
   "cell_type": "markdown",
   "metadata": {},
   "source": [
    "# OpenStreetMap"
   ]
  },
  {
   "cell_type": "code",
   "execution_count": 190,
   "metadata": {},
   "outputs": [
    {
     "name": "stdout",
     "output_type": "stream",
     "text": [
      "<Response [200]>\n"
     ]
    }
   ],
   "source": [
    "# Amenities\n",
    "# https://wiki.openstreetmap.org/wiki/Key:amenity\n",
    "\n",
    "import requests\n",
    "import json\n",
    "import pandas as pd\n",
    "overpass_url = \"http://overpass-api.de/api/interpreter\"\n",
    "\n",
    "overpass_query = \"\"\"\n",
    "[out:json];\n",
    "node[\"amenity\"=\"cafe\"]\n",
    "  (40.420801, -3.694702,40.423754, -3.688167); \n",
    "out;\n",
    "\"\"\"\n",
    "response = requests.get(overpass_url, \n",
    "                        params={'data': overpass_query})\n",
    "print(response)\n",
    "data = response.json()"
   ]
  },
  {
   "cell_type": "code",
   "execution_count": 191,
   "metadata": {
    "collapsed": true,
    "jupyter": {
     "outputs_hidden": true
    },
    "tags": []
   },
   "outputs": [
    {
     "data": {
      "text/plain": [
       "{'version': 0.6,\n",
       " 'generator': 'Overpass API 0.7.62 7c32a7d5',\n",
       " 'osm3s': {'timestamp_osm_base': '2024-03-22T13:49:03Z',\n",
       "  'copyright': 'The data included in this document is from www.openstreetmap.org. The data is made available under ODbL.'},\n",
       " 'elements': [{'type': 'node',\n",
       "   'id': 2977298934,\n",
       "   'lat': 40.4210523,\n",
       "   'lon': -3.689841,\n",
       "   'tags': {'addr:city': 'Madrid',\n",
       "    'addr:housenumber': '4',\n",
       "    'addr:street': 'Calle de Villalar',\n",
       "    'amenity': 'cafe',\n",
       "    'cuisine': 'regional',\n",
       "    'internet_access': 'yes',\n",
       "    'name': 'Café Villalar',\n",
       "    'phone': '+34 914358937',\n",
       "    'website': 'https://cafeteriavillalar.eatbu.com/'}},\n",
       "  {'type': 'node',\n",
       "   'id': 3426617375,\n",
       "   'lat': 40.4221948,\n",
       "   'lon': -3.6923421,\n",
       "   'tags': {'amenity': 'cafe',\n",
       "    'name': 'Gran Café Gijón',\n",
       "    'phone': '+34 915 215 425',\n",
       "    'website': 'https://cafegijon.com/',\n",
       "    'wikidata': 'Q1025608',\n",
       "    'wikipedia': 'es:Café Gijón'}},\n",
       "  {'type': 'node',\n",
       "   'id': 4703448419,\n",
       "   'lat': 40.4229908,\n",
       "   'lon': -3.6936524,\n",
       "   'tags': {'addr:city': 'Madrid',\n",
       "    'addr:housenumber': '6',\n",
       "    'addr:postcode': '28004',\n",
       "    'addr:street': 'Calle del Marqués de Monasterio',\n",
       "    'amenity': 'cafe',\n",
       "    'contact:facebook': 'https://www.facebook.com/hermanasae',\n",
       "    'contact:instagram': 'https://www.instagram.com/hermanasarce/',\n",
       "    'cuisine': 'cake',\n",
       "    'disused:amenity': 'restaurant',\n",
       "    'name': 'Hermanas Arce',\n",
       "    'old_name': 'Noteolvides',\n",
       "    'opening_hours': 'Tu-Fr 09:00-17:00; Sa 09:30-17:30'}},\n",
       "  {'type': 'node',\n",
       "   'id': 4778747544,\n",
       "   'lat': 40.4223247,\n",
       "   'lon': -3.6909735,\n",
       "   'tags': {'addr:city': 'Madrid',\n",
       "    'addr:housenumber': '1',\n",
       "    'addr:postcode': '28001',\n",
       "    'addr:street': 'Calle de Recoletos',\n",
       "    'amenity': 'cafe',\n",
       "    'brand': 'Santagloria',\n",
       "    'brand:wikidata': 'Q54606497',\n",
       "    'contact:phone': '+34 914319000',\n",
       "    'contact:website': 'https://www.santagloria.com',\n",
       "    'name': 'Santagloria',\n",
       "    'shop': 'bakery'}},\n",
       "  {'type': 'node',\n",
       "   'id': 9207850217,\n",
       "   'lat': 40.4218751,\n",
       "   'lon': -3.6901227,\n",
       "   'tags': {'amenity': 'cafe', 'name': 'masticar'}}]}"
      ]
     },
     "execution_count": 191,
     "metadata": {},
     "output_type": "execute_result"
    }
   ],
   "source": [
    "data"
   ]
  },
  {
   "cell_type": "code",
   "execution_count": 15,
   "metadata": {},
   "outputs": [
    {
     "data": {
      "text/plain": [
       "dict_keys(['version', 'generator', 'osm3s', 'elements'])"
      ]
     },
     "execution_count": 15,
     "metadata": {},
     "output_type": "execute_result"
    }
   ],
   "source": [
    "data.keys()"
   ]
  },
  {
   "cell_type": "code",
   "execution_count": 192,
   "metadata": {},
   "outputs": [
    {
     "data": {
      "text/plain": [
       "{'timestamp_osm_base': '2024-03-22T13:49:03Z',\n",
       " 'copyright': 'The data included in this document is from www.openstreetmap.org. The data is made available under ODbL.'}"
      ]
     },
     "execution_count": 192,
     "metadata": {},
     "output_type": "execute_result"
    }
   ],
   "source": [
    "data.get('osm3s')"
   ]
  },
  {
   "cell_type": "code",
   "execution_count": 193,
   "metadata": {},
   "outputs": [
    {
     "data": {
      "text/plain": [
       "{'timestamp_osm_base': '2024-03-22T13:49:03Z',\n",
       " 'copyright': 'The data included in this document is from www.openstreetmap.org. The data is made available under ODbL.'}"
      ]
     },
     "execution_count": 193,
     "metadata": {},
     "output_type": "execute_result"
    }
   ],
   "source": [
    "data['osm3s']"
   ]
  },
  {
   "cell_type": "code",
   "execution_count": 194,
   "metadata": {},
   "outputs": [
    {
     "data": {
      "text/plain": [
       "'The data included in this document is from www.openstreetmap.org. The data is made available under ODbL.'"
      ]
     },
     "execution_count": 194,
     "metadata": {},
     "output_type": "execute_result"
    }
   ],
   "source": [
    "data['osm3s']['copyright']"
   ]
  },
  {
   "cell_type": "code",
   "execution_count": 195,
   "metadata": {},
   "outputs": [
    {
     "data": {
      "text/plain": [
       "'Calle de Villalar'"
      ]
     },
     "execution_count": 195,
     "metadata": {},
     "output_type": "execute_result"
    }
   ],
   "source": [
    "data['elements'][0].get('tags').get('addr:street', 34)"
   ]
  },
  {
   "cell_type": "code",
   "execution_count": 196,
   "metadata": {},
   "outputs": [
    {
     "name": "stdout",
     "output_type": "stream",
     "text": [
      "{'type': 'node', 'id': 2977298934, 'lat': 40.4210523, 'lon': -3.689841, 'tags': {'addr:city': 'Madrid', 'addr:housenumber': '4', 'addr:street': 'Calle de Villalar', 'amenity': 'cafe', 'cuisine': 'regional', 'internet_access': 'yes', 'name': 'Café Villalar', 'phone': '+34 914358937', 'website': 'https://cafeteriavillalar.eatbu.com/'}}\n",
      "{'type': 'node', 'id': 3426617375, 'lat': 40.4221948, 'lon': -3.6923421, 'tags': {'amenity': 'cafe', 'name': 'Gran Café Gijón', 'phone': '+34 915 215 425', 'website': 'https://cafegijon.com/', 'wikidata': 'Q1025608', 'wikipedia': 'es:Café Gijón'}}\n",
      "{'type': 'node', 'id': 4703448419, 'lat': 40.4229908, 'lon': -3.6936524, 'tags': {'addr:city': 'Madrid', 'addr:housenumber': '6', 'addr:postcode': '28004', 'addr:street': 'Calle del Marqués de Monasterio', 'amenity': 'cafe', 'contact:facebook': 'https://www.facebook.com/hermanasae', 'contact:instagram': 'https://www.instagram.com/hermanasarce/', 'cuisine': 'cake', 'disused:amenity': 'restaurant', 'name': 'Hermanas Arce', 'old_name': 'Noteolvides', 'opening_hours': 'Tu-Fr 09:00-17:00; Sa 09:30-17:30'}}\n",
      "{'type': 'node', 'id': 4778747544, 'lat': 40.4223247, 'lon': -3.6909735, 'tags': {'addr:city': 'Madrid', 'addr:housenumber': '1', 'addr:postcode': '28001', 'addr:street': 'Calle de Recoletos', 'amenity': 'cafe', 'brand': 'Santagloria', 'brand:wikidata': 'Q54606497', 'contact:phone': '+34 914319000', 'contact:website': 'https://www.santagloria.com', 'name': 'Santagloria', 'shop': 'bakery'}}\n",
      "{'type': 'node', 'id': 9207850217, 'lat': 40.4218751, 'lon': -3.6901227, 'tags': {'amenity': 'cafe', 'name': 'masticar'}}\n"
     ]
    }
   ],
   "source": [
    "for element in data['elements']:\n",
    "    print(element)"
   ]
  },
  {
   "cell_type": "code",
   "execution_count": 197,
   "metadata": {
    "collapsed": true,
    "jupyter": {
     "outputs_hidden": true
    },
    "tags": []
   },
   "outputs": [],
   "source": [
    "def json_to_dataframe(data_entrada):\n",
    "    elements = data_entrada['elements']\n",
    "    places = {'lat': [], 'lon': [], 'name': [], 'address': []}\n",
    "\n",
    "    for i in elements:\n",
    "        lalitude = i['lat']\n",
    "        longitude = i['lon']\n",
    "        name = i['tags'].get('name')\n",
    "        street = i['tags'].get('addr:street', 'Calle x')\n",
    "        number = i['tags'].get('addr:housenumber', 999)\n",
    "        \n",
    "        places['lat'].append(lalitude)\n",
    "        places['lon'].append(longitude)\n",
    "        places['name'].append(name)\n",
    "        places['address'].append(str(street) + ' ' + str(number))\n",
    "\n",
    "    df = pd.DataFrame(places)\n",
    "    return df"
   ]
  },
  {
   "cell_type": "code",
   "execution_count": 203,
   "metadata": {},
   "outputs": [],
   "source": [
    "sitios = json_to_dataframe(data)"
   ]
  },
  {
   "cell_type": "code",
   "execution_count": 204,
   "metadata": {},
   "outputs": [
    {
     "data": {
      "text/html": [
       "<div>\n",
       "<style scoped>\n",
       "    .dataframe tbody tr th:only-of-type {\n",
       "        vertical-align: middle;\n",
       "    }\n",
       "\n",
       "    .dataframe tbody tr th {\n",
       "        vertical-align: top;\n",
       "    }\n",
       "\n",
       "    .dataframe thead th {\n",
       "        text-align: right;\n",
       "    }\n",
       "</style>\n",
       "<table border=\"1\" class=\"dataframe\">\n",
       "  <thead>\n",
       "    <tr style=\"text-align: right;\">\n",
       "      <th></th>\n",
       "      <th>lat</th>\n",
       "      <th>lon</th>\n",
       "      <th>name</th>\n",
       "      <th>address</th>\n",
       "    </tr>\n",
       "  </thead>\n",
       "  <tbody>\n",
       "    <tr>\n",
       "      <th>0</th>\n",
       "      <td>40.421052</td>\n",
       "      <td>-3.689841</td>\n",
       "      <td>Café Villalar</td>\n",
       "      <td>Calle de Villalar 4</td>\n",
       "    </tr>\n",
       "    <tr>\n",
       "      <th>1</th>\n",
       "      <td>40.422195</td>\n",
       "      <td>-3.692342</td>\n",
       "      <td>Gran Café Gijón</td>\n",
       "      <td>Calle x 999</td>\n",
       "    </tr>\n",
       "    <tr>\n",
       "      <th>2</th>\n",
       "      <td>40.422991</td>\n",
       "      <td>-3.693652</td>\n",
       "      <td>Hermanas Arce</td>\n",
       "      <td>Calle del Marqués de Monasterio 6</td>\n",
       "    </tr>\n",
       "    <tr>\n",
       "      <th>3</th>\n",
       "      <td>40.422325</td>\n",
       "      <td>-3.690974</td>\n",
       "      <td>Santagloria</td>\n",
       "      <td>Calle de Recoletos 1</td>\n",
       "    </tr>\n",
       "    <tr>\n",
       "      <th>4</th>\n",
       "      <td>40.421875</td>\n",
       "      <td>-3.690123</td>\n",
       "      <td>masticar</td>\n",
       "      <td>Calle x 999</td>\n",
       "    </tr>\n",
       "  </tbody>\n",
       "</table>\n",
       "</div>"
      ],
      "text/plain": [
       "         lat       lon             name                            address\n",
       "0  40.421052 -3.689841    Café Villalar                Calle de Villalar 4\n",
       "1  40.422195 -3.692342  Gran Café Gijón                        Calle x 999\n",
       "2  40.422991 -3.693652    Hermanas Arce  Calle del Marqués de Monasterio 6\n",
       "3  40.422325 -3.690974      Santagloria               Calle de Recoletos 1\n",
       "4  40.421875 -3.690123         masticar                        Calle x 999"
      ]
     },
     "execution_count": 204,
     "metadata": {},
     "output_type": "execute_result"
    }
   ],
   "source": [
    "sitios"
   ]
  },
  {
   "cell_type": "code",
   "execution_count": 214,
   "metadata": {},
   "outputs": [],
   "source": [
    "import folium\n",
    "map = folium.Map(location=[40.420801, -3.694702], zoom_start=15)\n",
    "for point in range(0, len(sitios)):\n",
    "    folium.Marker((sitios.iloc[point][\"lat\"], sitios.iloc[point][\"lon\"]), popup=sitios.iloc[point]['name']).add_to(map)"
   ]
  },
  {
   "cell_type": "code",
   "execution_count": 216,
   "metadata": {},
   "outputs": [
    {
     "data": {
      "text/html": [
       "<div style=\"width:100%;\"><div style=\"position:relative;width:100%;height:0;padding-bottom:60%;\"><span style=\"color:#565656\">Make this Notebook Trusted to load map: File -> Trust Notebook</span><iframe srcdoc=\"&lt;!DOCTYPE html&gt;\n",
       "&lt;html&gt;\n",
       "&lt;head&gt;\n",
       "    \n",
       "    &lt;meta http-equiv=&quot;content-type&quot; content=&quot;text/html; charset=UTF-8&quot; /&gt;\n",
       "    \n",
       "        &lt;script&gt;\n",
       "            L_NO_TOUCH = false;\n",
       "            L_DISABLE_3D = false;\n",
       "        &lt;/script&gt;\n",
       "    \n",
       "    &lt;style&gt;html, body {width: 100%;height: 100%;margin: 0;padding: 0;}&lt;/style&gt;\n",
       "    &lt;style&gt;#map {position:absolute;top:0;bottom:0;right:0;left:0;}&lt;/style&gt;\n",
       "    &lt;script src=&quot;https://cdn.jsdelivr.net/npm/leaflet@1.9.3/dist/leaflet.js&quot;&gt;&lt;/script&gt;\n",
       "    &lt;script src=&quot;https://code.jquery.com/jquery-3.7.1.min.js&quot;&gt;&lt;/script&gt;\n",
       "    &lt;script src=&quot;https://cdn.jsdelivr.net/npm/bootstrap@5.2.2/dist/js/bootstrap.bundle.min.js&quot;&gt;&lt;/script&gt;\n",
       "    &lt;script src=&quot;https://cdnjs.cloudflare.com/ajax/libs/Leaflet.awesome-markers/2.0.2/leaflet.awesome-markers.js&quot;&gt;&lt;/script&gt;\n",
       "    &lt;link rel=&quot;stylesheet&quot; href=&quot;https://cdn.jsdelivr.net/npm/leaflet@1.9.3/dist/leaflet.css&quot;/&gt;\n",
       "    &lt;link rel=&quot;stylesheet&quot; href=&quot;https://cdn.jsdelivr.net/npm/bootstrap@5.2.2/dist/css/bootstrap.min.css&quot;/&gt;\n",
       "    &lt;link rel=&quot;stylesheet&quot; href=&quot;https://netdna.bootstrapcdn.com/bootstrap/3.0.0/css/bootstrap.min.css&quot;/&gt;\n",
       "    &lt;link rel=&quot;stylesheet&quot; href=&quot;https://cdn.jsdelivr.net/npm/@fortawesome/fontawesome-free@6.2.0/css/all.min.css&quot;/&gt;\n",
       "    &lt;link rel=&quot;stylesheet&quot; href=&quot;https://cdnjs.cloudflare.com/ajax/libs/Leaflet.awesome-markers/2.0.2/leaflet.awesome-markers.css&quot;/&gt;\n",
       "    &lt;link rel=&quot;stylesheet&quot; href=&quot;https://cdn.jsdelivr.net/gh/python-visualization/folium/folium/templates/leaflet.awesome.rotate.min.css&quot;/&gt;\n",
       "    \n",
       "            &lt;meta name=&quot;viewport&quot; content=&quot;width=device-width,\n",
       "                initial-scale=1.0, maximum-scale=1.0, user-scalable=no&quot; /&gt;\n",
       "            &lt;style&gt;\n",
       "                #map_d3a6f190766368b5c2ea28479a9a7884 {\n",
       "                    position: relative;\n",
       "                    width: 100.0%;\n",
       "                    height: 100.0%;\n",
       "                    left: 0.0%;\n",
       "                    top: 0.0%;\n",
       "                }\n",
       "                .leaflet-container { font-size: 1rem; }\n",
       "            &lt;/style&gt;\n",
       "        \n",
       "&lt;/head&gt;\n",
       "&lt;body&gt;\n",
       "    \n",
       "    \n",
       "            &lt;div class=&quot;folium-map&quot; id=&quot;map_d3a6f190766368b5c2ea28479a9a7884&quot; &gt;&lt;/div&gt;\n",
       "        \n",
       "&lt;/body&gt;\n",
       "&lt;script&gt;\n",
       "    \n",
       "    \n",
       "            var map_d3a6f190766368b5c2ea28479a9a7884 = L.map(\n",
       "                &quot;map_d3a6f190766368b5c2ea28479a9a7884&quot;,\n",
       "                {\n",
       "                    center: [40.420801, -3.694702],\n",
       "                    crs: L.CRS.EPSG3857,\n",
       "                    zoom: 15,\n",
       "                    zoomControl: true,\n",
       "                    preferCanvas: false,\n",
       "                }\n",
       "            );\n",
       "\n",
       "            \n",
       "\n",
       "        \n",
       "    \n",
       "            var tile_layer_10671a6935dc332b1994a016123f70ce = L.tileLayer(\n",
       "                &quot;https://tile.openstreetmap.org/{z}/{x}/{y}.png&quot;,\n",
       "                {&quot;attribution&quot;: &quot;\\u0026copy; \\u003ca href=\\&quot;https://www.openstreetmap.org/copyright\\&quot;\\u003eOpenStreetMap\\u003c/a\\u003e contributors&quot;, &quot;detectRetina&quot;: false, &quot;maxNativeZoom&quot;: 19, &quot;maxZoom&quot;: 19, &quot;minZoom&quot;: 0, &quot;noWrap&quot;: false, &quot;opacity&quot;: 1, &quot;subdomains&quot;: &quot;abc&quot;, &quot;tms&quot;: false}\n",
       "            );\n",
       "        \n",
       "    \n",
       "            tile_layer_10671a6935dc332b1994a016123f70ce.addTo(map_d3a6f190766368b5c2ea28479a9a7884);\n",
       "        \n",
       "    \n",
       "            var marker_7141d95894cc55323e7d7105d3ff63c6 = L.marker(\n",
       "                [40.4210523, -3.689841],\n",
       "                {}\n",
       "            ).addTo(map_d3a6f190766368b5c2ea28479a9a7884);\n",
       "        \n",
       "    \n",
       "        var popup_4c3ab058459bd3ce7f976a121267f05a = L.popup({&quot;maxWidth&quot;: &quot;100%&quot;});\n",
       "\n",
       "        \n",
       "            \n",
       "                var html_a0ec0d2e749dc4c11d93cd0a9aa2456b = $(`&lt;div id=&quot;html_a0ec0d2e749dc4c11d93cd0a9aa2456b&quot; style=&quot;width: 100.0%; height: 100.0%;&quot;&gt;Café Villalar&lt;/div&gt;`)[0];\n",
       "                popup_4c3ab058459bd3ce7f976a121267f05a.setContent(html_a0ec0d2e749dc4c11d93cd0a9aa2456b);\n",
       "            \n",
       "        \n",
       "\n",
       "        marker_7141d95894cc55323e7d7105d3ff63c6.bindPopup(popup_4c3ab058459bd3ce7f976a121267f05a)\n",
       "        ;\n",
       "\n",
       "        \n",
       "    \n",
       "    \n",
       "            var marker_e574c733330f01e290fa08fc3e65a85c = L.marker(\n",
       "                [40.4221948, -3.6923421],\n",
       "                {}\n",
       "            ).addTo(map_d3a6f190766368b5c2ea28479a9a7884);\n",
       "        \n",
       "    \n",
       "        var popup_f4a1f836f5c10578e5fe71dbd96f6511 = L.popup({&quot;maxWidth&quot;: &quot;100%&quot;});\n",
       "\n",
       "        \n",
       "            \n",
       "                var html_eb3bdb3a3eb152d0e1e67cd44dcbb567 = $(`&lt;div id=&quot;html_eb3bdb3a3eb152d0e1e67cd44dcbb567&quot; style=&quot;width: 100.0%; height: 100.0%;&quot;&gt;Gran Café Gijón&lt;/div&gt;`)[0];\n",
       "                popup_f4a1f836f5c10578e5fe71dbd96f6511.setContent(html_eb3bdb3a3eb152d0e1e67cd44dcbb567);\n",
       "            \n",
       "        \n",
       "\n",
       "        marker_e574c733330f01e290fa08fc3e65a85c.bindPopup(popup_f4a1f836f5c10578e5fe71dbd96f6511)\n",
       "        ;\n",
       "\n",
       "        \n",
       "    \n",
       "    \n",
       "            var marker_c6db25d4910bb83b6ec048a6b84bc439 = L.marker(\n",
       "                [40.4229908, -3.6936524],\n",
       "                {}\n",
       "            ).addTo(map_d3a6f190766368b5c2ea28479a9a7884);\n",
       "        \n",
       "    \n",
       "        var popup_3cd6327efdb281ae047849f9cd57962d = L.popup({&quot;maxWidth&quot;: &quot;100%&quot;});\n",
       "\n",
       "        \n",
       "            \n",
       "                var html_ff36fa97292042e74c385779120c942a = $(`&lt;div id=&quot;html_ff36fa97292042e74c385779120c942a&quot; style=&quot;width: 100.0%; height: 100.0%;&quot;&gt;Hermanas Arce&lt;/div&gt;`)[0];\n",
       "                popup_3cd6327efdb281ae047849f9cd57962d.setContent(html_ff36fa97292042e74c385779120c942a);\n",
       "            \n",
       "        \n",
       "\n",
       "        marker_c6db25d4910bb83b6ec048a6b84bc439.bindPopup(popup_3cd6327efdb281ae047849f9cd57962d)\n",
       "        ;\n",
       "\n",
       "        \n",
       "    \n",
       "    \n",
       "            var marker_c7ae5557b87a65fb312abf42617b8e7d = L.marker(\n",
       "                [40.4223247, -3.6909735],\n",
       "                {}\n",
       "            ).addTo(map_d3a6f190766368b5c2ea28479a9a7884);\n",
       "        \n",
       "    \n",
       "        var popup_036fac859854b95e0650d50801b7e55e = L.popup({&quot;maxWidth&quot;: &quot;100%&quot;});\n",
       "\n",
       "        \n",
       "            \n",
       "                var html_632038b49b5789cb27ef1198d353c4bb = $(`&lt;div id=&quot;html_632038b49b5789cb27ef1198d353c4bb&quot; style=&quot;width: 100.0%; height: 100.0%;&quot;&gt;Santagloria&lt;/div&gt;`)[0];\n",
       "                popup_036fac859854b95e0650d50801b7e55e.setContent(html_632038b49b5789cb27ef1198d353c4bb);\n",
       "            \n",
       "        \n",
       "\n",
       "        marker_c7ae5557b87a65fb312abf42617b8e7d.bindPopup(popup_036fac859854b95e0650d50801b7e55e)\n",
       "        ;\n",
       "\n",
       "        \n",
       "    \n",
       "    \n",
       "            var marker_a59b225b73b82ecb6db6404c36803325 = L.marker(\n",
       "                [40.4218751, -3.6901227],\n",
       "                {}\n",
       "            ).addTo(map_d3a6f190766368b5c2ea28479a9a7884);\n",
       "        \n",
       "    \n",
       "        var popup_9a73287385f551cb3ffd54be5ace1996 = L.popup({&quot;maxWidth&quot;: &quot;100%&quot;});\n",
       "\n",
       "        \n",
       "            \n",
       "                var html_8e06c466d7db274222c8302d58e4c391 = $(`&lt;div id=&quot;html_8e06c466d7db274222c8302d58e4c391&quot; style=&quot;width: 100.0%; height: 100.0%;&quot;&gt;masticar&lt;/div&gt;`)[0];\n",
       "                popup_9a73287385f551cb3ffd54be5ace1996.setContent(html_8e06c466d7db274222c8302d58e4c391);\n",
       "            \n",
       "        \n",
       "\n",
       "        marker_a59b225b73b82ecb6db6404c36803325.bindPopup(popup_9a73287385f551cb3ffd54be5ace1996)\n",
       "        ;\n",
       "\n",
       "        \n",
       "    \n",
       "    \n",
       "            tile_layer_10671a6935dc332b1994a016123f70ce.addTo(map_d3a6f190766368b5c2ea28479a9a7884);\n",
       "        \n",
       "&lt;/script&gt;\n",
       "&lt;/html&gt;\" style=\"position:absolute;width:100%;height:100%;left:0;top:0;border:none !important;\" allowfullscreen webkitallowfullscreen mozallowfullscreen></iframe></div></div>"
      ],
      "text/plain": [
       "<folium.folium.Map at 0x1ef7a3ebe00>"
      ]
     },
     "execution_count": 216,
     "metadata": {},
     "output_type": "execute_result"
    }
   ],
   "source": [
    "map"
   ]
  },
  {
   "cell_type": "markdown",
   "metadata": {},
   "source": [
    "## Datos del espacio"
   ]
  },
  {
   "cell_type": "code",
   "execution_count": 9,
   "metadata": {
    "tags": []
   },
   "outputs": [],
   "source": [
    "'''\n",
    "https://thespacedevs.com/llapi\n",
    "https://ll.thespacedevs.com/2.2.0/swagger\n",
    "'''\n",
    "space_url = \"http://ll.thespacedevs.com/2.2.0\"\n",
    "\n",
    "path = \"/astronaut\"\n",
    "\n",
    "url_total = space_url + path\n",
    "\n",
    "response = requests.get(url_total)"
   ]
  },
  {
   "cell_type": "code",
   "execution_count": 10,
   "metadata": {
    "collapsed": true,
    "jupyter": {
     "outputs_hidden": true
    },
    "tags": []
   },
   "outputs": [
    {
     "name": "stdout",
     "output_type": "stream",
     "text": [
      "200\n"
     ]
    },
    {
     "data": {
      "text/plain": [
       "{'count': 758,\n",
       " 'next': 'https://ll.thespacedevs.com/2.2.0/astronaut/?limit=10&offset=10',\n",
       " 'previous': None,\n",
       " 'results': [{'id': 1,\n",
       "   'url': 'https://ll.thespacedevs.com/2.2.0/astronaut/1/',\n",
       "   'name': 'Thomas Pesquet',\n",
       "   'status': {'id': 1, 'name': 'Active'},\n",
       "   'type': {'id': 2, 'name': 'Government'},\n",
       "   'in_space': False,\n",
       "   'time_in_space': 'P396DT11H33M45S',\n",
       "   'eva_time': 'P1DT15H54M',\n",
       "   'age': 46,\n",
       "   'date_of_birth': '1978-02-27',\n",
       "   'date_of_death': None,\n",
       "   'nationality': 'French',\n",
       "   'bio': 'Thomas Gautier Pesquet is a French aerospace engineer, pilot, and European Space Agency astronaut. Pesquet was selected by ESA as a candidate in May 2009, and he successfully completed his basic training in November 2010. From November 2016 to June 2017, Pesquet was part of Expeditions 50 and 51 on the International Space Station as a flight engineer.',\n",
       "   'twitter': 'https://twitter.com/Thom_astro',\n",
       "   'instagram': 'https://instagram.com/thom_astro',\n",
       "   'wiki': 'https://en.wikipedia.org/wiki/Thomas_Pesquet',\n",
       "   'agency': {'id': 27,\n",
       "    'url': 'https://ll.thespacedevs.com/2.2.0/agencies/27/',\n",
       "    'name': 'European Space Agency',\n",
       "    'featured': False,\n",
       "    'type': 'Multinational',\n",
       "    'country_code': 'AUT,BEL,CZE,DNK,FIN,FRA,DEU,GRC,IRE,ITA,LUZ,NLD,NOR,POL,PRT,ROU,ESP,SWE,CHE,GBR',\n",
       "    'abbrev': 'ESA',\n",
       "    'description': \"The European Space Agency is an intergovernmental organisation of 22 member states. Established in 1975 and headquartered in Paris, France, ESA has a worldwide staff of about 2,000 employees.\\r\\n\\r\\nESA's space flight programme includes human spaceflight (mainly through participation in the International Space Station program); the launch and operation of unmanned exploration missions to other planets and the Moon; Earth observation, science and telecommunication; designing launch vehicles; and maintaining a major spaceport, the Guiana Space Centre at Kourou, French Guiana.\",\n",
       "    'administrator': 'Director General: Josef Aschbacher',\n",
       "    'founding_year': '1975',\n",
       "    'launchers': '',\n",
       "    'spacecraft': '',\n",
       "    'parent': None,\n",
       "    'image_url': None,\n",
       "    'logo_url': 'https://spacelaunchnow-prod-east.nyc3.digitaloceanspaces.com/media/logo/european2520space2520agency_logo_20221130101442.png'},\n",
       "   'profile_image': 'https://spacelaunchnow-prod-east.nyc3.digitaloceanspaces.com/media/images/thomas2520pesquet_image_20200102120546.jpeg',\n",
       "   'profile_image_thumbnail': 'https://spacelaunchnow-prod-east.nyc3.digitaloceanspaces.com/media/images/255bauto255d__image_thumbnail_20240305190357.jpeg',\n",
       "   'flights_count': 2,\n",
       "   'landings_count': 2,\n",
       "   'spacewalks_count': 6,\n",
       "   'last_flight': '2021-04-23T09:49:02Z',\n",
       "   'first_flight': '2016-11-17T20:20:13Z'},\n",
       "  {'id': 2,\n",
       "   'url': 'https://ll.thespacedevs.com/2.2.0/astronaut/2/',\n",
       "   'name': 'Claude Nicollier',\n",
       "   'status': {'id': 2, 'name': 'Retired'},\n",
       "   'type': {'id': 2, 'name': 'Government'},\n",
       "   'in_space': False,\n",
       "   'time_in_space': 'P42DT12H3M12S',\n",
       "   'eva_time': 'PT8H10M',\n",
       "   'age': 79,\n",
       "   'date_of_birth': '1944-09-02',\n",
       "   'date_of_death': None,\n",
       "   'nationality': 'Swiss',\n",
       "   'bio': 'Claude Nicollier is the first astronaut from Switzerland. He has flown on four Space Shuttle missions. His first spaceflight (STS-46) was in 1992, and his final spaceflight (STS-103) was in 1999. He took part in two servicing missions to the Hubble Space Telescope (called STS-61 and STS-103). During his final spaceflight he participated in a spacewalk, becoming the first European Space Agency astronaut to do so during a Space Shuttle mission. In 2000 he was assigned to the Astronaut Office Extravehicular Activity Branch, while maintaining a position as Lead ESA Astronaut in Houston. Nicollier retired from ESA in April 2007.',\n",
       "   'twitter': 'https://twitter.com/Astroclaude',\n",
       "   'instagram': None,\n",
       "   'wiki': 'https://en.wikipedia.org/wiki/Claude_Nicollier',\n",
       "   'agency': {'id': 27,\n",
       "    'url': 'https://ll.thespacedevs.com/2.2.0/agencies/27/',\n",
       "    'name': 'European Space Agency',\n",
       "    'featured': False,\n",
       "    'type': 'Multinational',\n",
       "    'country_code': 'AUT,BEL,CZE,DNK,FIN,FRA,DEU,GRC,IRE,ITA,LUZ,NLD,NOR,POL,PRT,ROU,ESP,SWE,CHE,GBR',\n",
       "    'abbrev': 'ESA',\n",
       "    'description': \"The European Space Agency is an intergovernmental organisation of 22 member states. Established in 1975 and headquartered in Paris, France, ESA has a worldwide staff of about 2,000 employees.\\r\\n\\r\\nESA's space flight programme includes human spaceflight (mainly through participation in the International Space Station program); the launch and operation of unmanned exploration missions to other planets and the Moon; Earth observation, science and telecommunication; designing launch vehicles; and maintaining a major spaceport, the Guiana Space Centre at Kourou, French Guiana.\",\n",
       "    'administrator': 'Director General: Josef Aschbacher',\n",
       "    'founding_year': '1975',\n",
       "    'launchers': '',\n",
       "    'spacecraft': '',\n",
       "    'parent': None,\n",
       "    'image_url': None,\n",
       "    'logo_url': 'https://spacelaunchnow-prod-east.nyc3.digitaloceanspaces.com/media/logo/european2520space2520agency_logo_20221130101442.png'},\n",
       "   'profile_image': 'https://spacelaunchnow-prod-east.nyc3.digitaloceanspaces.com/media/images/claude2520nicollier_image_20181127203218.jpg',\n",
       "   'profile_image_thumbnail': 'https://spacelaunchnow-prod-east.nyc3.digitaloceanspaces.com/media/images/255bauto255d__image_thumbnail_20240305185551.jpeg',\n",
       "   'flights_count': 4,\n",
       "   'landings_count': 4,\n",
       "   'spacewalks_count': 1,\n",
       "   'last_flight': '1999-12-20T00:50:00Z',\n",
       "   'first_flight': '1992-07-31T13:56:48Z'},\n",
       "  {'id': 3,\n",
       "   'url': 'https://ll.thespacedevs.com/2.2.0/astronaut/3/',\n",
       "   'name': 'Tim Peake',\n",
       "   'status': {'id': 2, 'name': 'Retired'},\n",
       "   'type': {'id': 2, 'name': 'Government'},\n",
       "   'in_space': False,\n",
       "   'time_in_space': 'P185DT22H11M51S',\n",
       "   'eva_time': 'PT4H43M',\n",
       "   'age': 51,\n",
       "   'date_of_birth': '1972-04-07',\n",
       "   'date_of_death': None,\n",
       "   'nationality': 'British',\n",
       "   'bio': \"Major Timothy Nigel Peake CMG is a British Army Air Corps officer, former European Space Agency astronaut and International Space Station (ISS) crew member.  He is the first British ESA astronaut, the second astronaut to bear a flag of the United Kingdom patch, the sixth person born in the United Kingdom to go on board the International Space Station and the seventh UK-born person in space. He began the ESA's intensive astronaut basic training course in September 2009 and graduated on 22 November 2010\",\n",
       "   'twitter': 'https://twitter.com/astro_timpeake',\n",
       "   'instagram': 'https://www.instagram.com/astro_timpeake/',\n",
       "   'wiki': 'https://en.wikipedia.org/wiki/Tim_Peake',\n",
       "   'agency': {'id': 27,\n",
       "    'url': 'https://ll.thespacedevs.com/2.2.0/agencies/27/',\n",
       "    'name': 'European Space Agency',\n",
       "    'featured': False,\n",
       "    'type': 'Multinational',\n",
       "    'country_code': 'AUT,BEL,CZE,DNK,FIN,FRA,DEU,GRC,IRE,ITA,LUZ,NLD,NOR,POL,PRT,ROU,ESP,SWE,CHE,GBR',\n",
       "    'abbrev': 'ESA',\n",
       "    'description': \"The European Space Agency is an intergovernmental organisation of 22 member states. Established in 1975 and headquartered in Paris, France, ESA has a worldwide staff of about 2,000 employees.\\r\\n\\r\\nESA's space flight programme includes human spaceflight (mainly through participation in the International Space Station program); the launch and operation of unmanned exploration missions to other planets and the Moon; Earth observation, science and telecommunication; designing launch vehicles; and maintaining a major spaceport, the Guiana Space Centre at Kourou, French Guiana.\",\n",
       "    'administrator': 'Director General: Josef Aschbacher',\n",
       "    'founding_year': '1975',\n",
       "    'launchers': '',\n",
       "    'spacecraft': '',\n",
       "    'parent': None,\n",
       "    'image_url': None,\n",
       "    'logo_url': 'https://spacelaunchnow-prod-east.nyc3.digitaloceanspaces.com/media/logo/european2520space2520agency_logo_20221130101442.png'},\n",
       "   'profile_image': 'https://spacelaunchnow-prod-east.nyc3.digitaloceanspaces.com/media/images/tim_peake_image_20230120154350.jpg',\n",
       "   'profile_image_thumbnail': 'https://spacelaunchnow-prod-east.nyc3.digitaloceanspaces.com/media/images/255bauto255d__image_thumbnail_20240305185843.jpeg',\n",
       "   'flights_count': 1,\n",
       "   'landings_count': 1,\n",
       "   'spacewalks_count': 1,\n",
       "   'last_flight': '2015-12-15T11:03:09Z',\n",
       "   'first_flight': '2015-12-15T11:03:09Z'},\n",
       "  {'id': 4,\n",
       "   'url': 'https://ll.thespacedevs.com/2.2.0/astronaut/4/',\n",
       "   'name': 'Buzz Aldrin',\n",
       "   'status': {'id': 2, 'name': 'Retired'},\n",
       "   'type': {'id': 2, 'name': 'Government'},\n",
       "   'in_space': False,\n",
       "   'time_in_space': 'P12DT1H52M27S',\n",
       "   'eva_time': 'PT8H1M40S',\n",
       "   'age': 94,\n",
       "   'date_of_birth': '1930-01-20',\n",
       "   'date_of_death': None,\n",
       "   'nationality': 'American',\n",
       "   'bio': 'Buzz Aldrin; born Edwin Eugene Aldrin Jr.; is an American engineer, former astronaut, and fighter pilot.\\r\\nAs Lunar Module Pilot on the Apollo 11 mission, he and mission commander Neil Armstrong were the first two humans to land on the Moon.',\n",
       "   'twitter': 'https://twitter.com/TheRealBuzz',\n",
       "   'instagram': 'https://www.instagram.com/drbuzzaldrin/',\n",
       "   'wiki': 'https://en.wikipedia.org/wiki/Buzz_Aldrin',\n",
       "   'agency': {'id': 44,\n",
       "    'url': 'https://ll.thespacedevs.com/2.2.0/agencies/44/',\n",
       "    'name': 'National Aeronautics and Space Administration',\n",
       "    'featured': True,\n",
       "    'type': 'Government',\n",
       "    'country_code': 'USA',\n",
       "    'abbrev': 'NASA',\n",
       "    'description': 'The National Aeronautics and Space Administration is an independent agency of the executive branch of the United States federal government responsible for the civilian space program, as well as aeronautics and aerospace research. NASA have many launch facilities but most are inactive. The most commonly used pad will be LC-39B at Kennedy Space Center in Florida.',\n",
       "    'administrator': 'Administrator: Bill Nelson',\n",
       "    'founding_year': '1958',\n",
       "    'launchers': 'Space Shuttle | SLS',\n",
       "    'spacecraft': 'Orion',\n",
       "    'parent': None,\n",
       "    'image_url': 'https://spacelaunchnow-prod-east.nyc3.digitaloceanspaces.com/media/images/national2520aeronautics2520and2520space2520administration_image_20190207032448.jpeg',\n",
       "    'logo_url': 'https://spacelaunchnow-prod-east.nyc3.digitaloceanspaces.com/media/logo/national2520aeronautics2520and2520space2520administration_logo_20190207032448.png'},\n",
       "   'profile_image': 'https://spacelaunchnow-prod-east.nyc3.digitaloceanspaces.com/media/images/buzz_aldrin_image_20220911034547.jpeg',\n",
       "   'profile_image_thumbnail': 'https://spacelaunchnow-prod-east.nyc3.digitaloceanspaces.com/media/images/255bauto255d__image_thumbnail_20240305185225.jpeg',\n",
       "   'flights_count': 2,\n",
       "   'landings_count': 2,\n",
       "   'spacewalks_count': 4,\n",
       "   'last_flight': '1969-07-16T13:32:00Z',\n",
       "   'first_flight': '1966-11-11T20:46:33Z'},\n",
       "  {'id': 5,\n",
       "   'url': 'https://ll.thespacedevs.com/2.2.0/astronaut/5/',\n",
       "   'name': 'Chris Hadfield',\n",
       "   'status': {'id': 2, 'name': 'Retired'},\n",
       "   'type': {'id': 2, 'name': 'Government'},\n",
       "   'in_space': False,\n",
       "   'time_in_space': 'P165DT16H19M',\n",
       "   'eva_time': 'PT14H50M',\n",
       "   'age': 64,\n",
       "   'date_of_birth': '1959-08-29',\n",
       "   'date_of_death': None,\n",
       "   'nationality': 'Canadian',\n",
       "   'bio': 'Chris Austin Hadfield is a Canadian retired astronaut, engineer, and former Royal Canadian Air Force fighter pilot.\\r\\nThe first Canadian to walk in space, Hadfield has flown two space shuttle missions and served as commander of the International Space Station.',\n",
       "   'twitter': 'https://twitter.com/Cmdr_Hadfield',\n",
       "   'instagram': 'https://www.instagram.com/colchrishadfield/',\n",
       "   'wiki': 'https://en.wikipedia.org/wiki/Chris_Hadfield',\n",
       "   'agency': {'id': 16,\n",
       "    'url': 'https://ll.thespacedevs.com/2.2.0/agencies/16/',\n",
       "    'name': 'Canadian Space Agency',\n",
       "    'featured': False,\n",
       "    'type': 'Government',\n",
       "    'country_code': 'CAN',\n",
       "    'abbrev': 'CSA',\n",
       "    'description': 'The Canadian Space Agency was established by the Canadian Space Agency Act which received Royal Assent on May 10, 1990. \\r\\n\\r\\nThe Canadian space program is administered by the Canadian Space Agency. Canada has contributed technology, expertise and personnel to the world space effort, especially in collaboration with ESA and NASA. In addition to its astronauts and satellites, some of the most notable Canadian technological contributions to space exploration include the Canadarm on the Space Shuttle and Canadarm2 on the International Space Station.',\n",
       "    'administrator': 'President: Lisa Campbell',\n",
       "    'founding_year': '1990',\n",
       "    'launchers': '',\n",
       "    'spacecraft': '',\n",
       "    'parent': None,\n",
       "    'image_url': None,\n",
       "    'logo_url': 'https://spacelaunchnow-prod-east.nyc3.digitaloceanspaces.com/media/logo/canadian2520space2520agency_logo_20231122160211.png'},\n",
       "   'profile_image': 'https://spacelaunchnow-prod-east.nyc3.digitaloceanspaces.com/media/images/chris_hadfield_image_20220911034200.jpeg',\n",
       "   'profile_image_thumbnail': 'https://spacelaunchnow-prod-east.nyc3.digitaloceanspaces.com/media/images/255bauto255d__image_thumbnail_20240305190208.jpeg',\n",
       "   'flights_count': 3,\n",
       "   'landings_count': 3,\n",
       "   'spacewalks_count': 2,\n",
       "   'last_flight': '2012-12-19T12:12:35Z',\n",
       "   'first_flight': '1995-11-12T12:30:43Z'},\n",
       "  {'id': 6,\n",
       "   'url': 'https://ll.thespacedevs.com/2.2.0/astronaut/6/',\n",
       "   'name': 'David Saint-Jacques',\n",
       "   'status': {'id': 1, 'name': 'Active'},\n",
       "   'type': {'id': 2, 'name': 'Government'},\n",
       "   'in_space': False,\n",
       "   'time_in_space': 'P203DT12H28M8S',\n",
       "   'eva_time': 'PT6H29M',\n",
       "   'age': 54,\n",
       "   'date_of_birth': '1970-01-06',\n",
       "   'date_of_death': None,\n",
       "   'nationality': 'Canadian',\n",
       "   'bio': 'David Saint-Jacques is a Canadian astronaut with the Canadian Space Agency (CSA).\\r\\nHe was also an engineer, an astrophysicist, and a physician prior to joining the CSA.\\r\\nHe was selected to join the CSA in the 2009 CSA selection along with Jeremy Hansen.',\n",
       "   'twitter': 'https://twitter.com/Astro_DavidS',\n",
       "   'instagram': 'https://www.instagram.com/astrodavids/',\n",
       "   'wiki': 'https://en.wikipedia.org/wiki/David_Saint-Jacques',\n",
       "   'agency': {'id': 16,\n",
       "    'url': 'https://ll.thespacedevs.com/2.2.0/agencies/16/',\n",
       "    'name': 'Canadian Space Agency',\n",
       "    'featured': False,\n",
       "    'type': 'Government',\n",
       "    'country_code': 'CAN',\n",
       "    'abbrev': 'CSA',\n",
       "    'description': 'The Canadian Space Agency was established by the Canadian Space Agency Act which received Royal Assent on May 10, 1990. \\r\\n\\r\\nThe Canadian space program is administered by the Canadian Space Agency. Canada has contributed technology, expertise and personnel to the world space effort, especially in collaboration with ESA and NASA. In addition to its astronauts and satellites, some of the most notable Canadian technological contributions to space exploration include the Canadarm on the Space Shuttle and Canadarm2 on the International Space Station.',\n",
       "    'administrator': 'President: Lisa Campbell',\n",
       "    'founding_year': '1990',\n",
       "    'launchers': '',\n",
       "    'spacecraft': '',\n",
       "    'parent': None,\n",
       "    'image_url': None,\n",
       "    'logo_url': 'https://spacelaunchnow-prod-east.nyc3.digitaloceanspaces.com/media/logo/canadian2520space2520agency_logo_20231122160211.png'},\n",
       "   'profile_image': 'https://spacelaunchnow-prod-east.nyc3.digitaloceanspaces.com/media/images/david_saint-jac_image_20220911034207.jpeg',\n",
       "   'profile_image_thumbnail': 'https://spacelaunchnow-prod-east.nyc3.digitaloceanspaces.com/media/images/255bauto255d__image_thumbnail_20240305191004.jpeg',\n",
       "   'flights_count': 1,\n",
       "   'landings_count': 1,\n",
       "   'spacewalks_count': 1,\n",
       "   'last_flight': '2018-12-03T11:31:52Z',\n",
       "   'first_flight': '2018-12-03T11:31:52Z'},\n",
       "  {'id': 7,\n",
       "   'url': 'https://ll.thespacedevs.com/2.2.0/astronaut/7/',\n",
       "   'name': 'Anne McClain',\n",
       "   'status': {'id': 1, 'name': 'Active'},\n",
       "   'type': {'id': 2, 'name': 'Government'},\n",
       "   'in_space': False,\n",
       "   'time_in_space': 'P203DT12H28M8S',\n",
       "   'eva_time': 'PT13H8M',\n",
       "   'age': 44,\n",
       "   'date_of_birth': '1979-06-07',\n",
       "   'date_of_death': None,\n",
       "   'nationality': 'American',\n",
       "   'bio': 'Anne Charlotte McClain is a lieutenant colonel in the U.S. Army currently assigned to NASA Astronaut Group 21.',\n",
       "   'twitter': 'https://twitter.com/AstroAnnimal',\n",
       "   'instagram': None,\n",
       "   'wiki': 'https://en.wikipedia.org/wiki/Anne_McClain',\n",
       "   'agency': {'id': 44,\n",
       "    'url': 'https://ll.thespacedevs.com/2.2.0/agencies/44/',\n",
       "    'name': 'National Aeronautics and Space Administration',\n",
       "    'featured': True,\n",
       "    'type': 'Government',\n",
       "    'country_code': 'USA',\n",
       "    'abbrev': 'NASA',\n",
       "    'description': 'The National Aeronautics and Space Administration is an independent agency of the executive branch of the United States federal government responsible for the civilian space program, as well as aeronautics and aerospace research. NASA have many launch facilities but most are inactive. The most commonly used pad will be LC-39B at Kennedy Space Center in Florida.',\n",
       "    'administrator': 'Administrator: Bill Nelson',\n",
       "    'founding_year': '1958',\n",
       "    'launchers': 'Space Shuttle | SLS',\n",
       "    'spacecraft': 'Orion',\n",
       "    'parent': None,\n",
       "    'image_url': 'https://spacelaunchnow-prod-east.nyc3.digitaloceanspaces.com/media/images/national2520aeronautics2520and2520space2520administration_image_20190207032448.jpeg',\n",
       "    'logo_url': 'https://spacelaunchnow-prod-east.nyc3.digitaloceanspaces.com/media/logo/national2520aeronautics2520and2520space2520administration_logo_20190207032448.png'},\n",
       "   'profile_image': 'https://spacelaunchnow-prod-east.nyc3.digitaloceanspaces.com/media/images/anne2520mcclain_image_20181127210625.jpg',\n",
       "   'profile_image_thumbnail': 'https://spacelaunchnow-prod-east.nyc3.digitaloceanspaces.com/media/images/255bauto255d__image_thumbnail_20240305185442.jpeg',\n",
       "   'flights_count': 1,\n",
       "   'landings_count': 1,\n",
       "   'spacewalks_count': 2,\n",
       "   'last_flight': '2018-12-03T11:31:52Z',\n",
       "   'first_flight': '2018-12-03T11:31:52Z'},\n",
       "  {'id': 8,\n",
       "   'url': 'https://ll.thespacedevs.com/2.2.0/astronaut/8/',\n",
       "   'name': 'Andrew R. Morgan',\n",
       "   'status': {'id': 1, 'name': 'Active'},\n",
       "   'type': {'id': 2, 'name': 'Government'},\n",
       "   'in_space': False,\n",
       "   'time_in_space': 'P271DT12H48M22S',\n",
       "   'eva_time': 'P1DT21H48M',\n",
       "   'age': 48,\n",
       "   'date_of_birth': '1976-02-05',\n",
       "   'date_of_death': None,\n",
       "   'nationality': 'American',\n",
       "   'bio': 'Andrew Richard \"Drew\" Morgan is a NASA astronaut from the class of 2013.',\n",
       "   'twitter': 'https://twitter.com/AstroDrewMorgan',\n",
       "   'instagram': 'https://www.instagram.com/astrodrewmorgan/',\n",
       "   'wiki': 'https://en.wikipedia.org/wiki/Andrew_R._Morgan',\n",
       "   'agency': {'id': 44,\n",
       "    'url': 'https://ll.thespacedevs.com/2.2.0/agencies/44/',\n",
       "    'name': 'National Aeronautics and Space Administration',\n",
       "    'featured': True,\n",
       "    'type': 'Government',\n",
       "    'country_code': 'USA',\n",
       "    'abbrev': 'NASA',\n",
       "    'description': 'The National Aeronautics and Space Administration is an independent agency of the executive branch of the United States federal government responsible for the civilian space program, as well as aeronautics and aerospace research. NASA have many launch facilities but most are inactive. The most commonly used pad will be LC-39B at Kennedy Space Center in Florida.',\n",
       "    'administrator': 'Administrator: Bill Nelson',\n",
       "    'founding_year': '1958',\n",
       "    'launchers': 'Space Shuttle | SLS',\n",
       "    'spacecraft': 'Orion',\n",
       "    'parent': None,\n",
       "    'image_url': 'https://spacelaunchnow-prod-east.nyc3.digitaloceanspaces.com/media/images/national2520aeronautics2520and2520space2520administration_image_20190207032448.jpeg',\n",
       "    'logo_url': 'https://spacelaunchnow-prod-east.nyc3.digitaloceanspaces.com/media/logo/national2520aeronautics2520and2520space2520administration_logo_20190207032448.png'},\n",
       "   'profile_image': 'https://spacelaunchnow-prod-east.nyc3.digitaloceanspaces.com/media/images/andrew_r._morga_image_20220911034204.jpeg',\n",
       "   'profile_image_thumbnail': 'https://spacelaunchnow-prod-east.nyc3.digitaloceanspaces.com/media/images/255bauto255d__image_thumbnail_20240305185549.jpeg',\n",
       "   'flights_count': 1,\n",
       "   'landings_count': 1,\n",
       "   'spacewalks_count': 7,\n",
       "   'last_flight': '2019-07-20T16:28:21Z',\n",
       "   'first_flight': '2019-07-20T16:28:21Z'},\n",
       "  {'id': 9,\n",
       "   'url': 'https://ll.thespacedevs.com/2.2.0/astronaut/9/',\n",
       "   'name': 'Nick Hague',\n",
       "   'status': {'id': 1, 'name': 'Active'},\n",
       "   'type': {'id': 2, 'name': 'Government'},\n",
       "   'in_space': False,\n",
       "   'time_in_space': 'P202DT16H3M37S',\n",
       "   'eva_time': 'PT19H56M',\n",
       "   'age': 48,\n",
       "   'date_of_birth': '1975-09-24',\n",
       "   'date_of_death': None,\n",
       "   'nationality': 'American',\n",
       "   'bio': 'Tyler Nicklaus Hague is an American Flight Test Engineer and a NASA astronaut of the class of 2013.\\r\\nSelected to be a flight engineer of Expedition 57 / 58 to the International Space Station, he launched on board Soyuz MS-10, which aborted shortly after launch on October 11, 2018.',\n",
       "   'twitter': 'https://twitter.com/AstroHague',\n",
       "   'instagram': 'https://www.instagram.com/astrohague/',\n",
       "   'wiki': 'https://en.wikipedia.org/wiki/Nick_Hague',\n",
       "   'agency': {'id': 44,\n",
       "    'url': 'https://ll.thespacedevs.com/2.2.0/agencies/44/',\n",
       "    'name': 'National Aeronautics and Space Administration',\n",
       "    'featured': True,\n",
       "    'type': 'Government',\n",
       "    'country_code': 'USA',\n",
       "    'abbrev': 'NASA',\n",
       "    'description': 'The National Aeronautics and Space Administration is an independent agency of the executive branch of the United States federal government responsible for the civilian space program, as well as aeronautics and aerospace research. NASA have many launch facilities but most are inactive. The most commonly used pad will be LC-39B at Kennedy Space Center in Florida.',\n",
       "    'administrator': 'Administrator: Bill Nelson',\n",
       "    'founding_year': '1958',\n",
       "    'launchers': 'Space Shuttle | SLS',\n",
       "    'spacecraft': 'Orion',\n",
       "    'parent': None,\n",
       "    'image_url': 'https://spacelaunchnow-prod-east.nyc3.digitaloceanspaces.com/media/images/national2520aeronautics2520and2520space2520administration_image_20190207032448.jpeg',\n",
       "    'logo_url': 'https://spacelaunchnow-prod-east.nyc3.digitaloceanspaces.com/media/logo/national2520aeronautics2520and2520space2520administration_logo_20190207032448.png'},\n",
       "   'profile_image': 'https://spacelaunchnow-prod-east.nyc3.digitaloceanspaces.com/media/images/nick_hague_image_20220911034312.jpeg',\n",
       "   'profile_image_thumbnail': 'https://spacelaunchnow-prod-east.nyc3.digitaloceanspaces.com/media/images/255bauto255d__image_thumbnail_20240305190648.jpeg',\n",
       "   'flights_count': 2,\n",
       "   'landings_count': 2,\n",
       "   'spacewalks_count': 3,\n",
       "   'last_flight': '2019-03-14T19:14:08Z',\n",
       "   'first_flight': '2018-10-11T08:40:15Z'},\n",
       "  {'id': 10,\n",
       "   'url': 'https://ll.thespacedevs.com/2.2.0/astronaut/10/',\n",
       "   'name': 'Terry W. Virts',\n",
       "   'status': {'id': 2, 'name': 'Retired'},\n",
       "   'type': {'id': 2, 'name': 'Government'},\n",
       "   'in_space': False,\n",
       "   'time_in_space': 'P213DT10H50M46S',\n",
       "   'eva_time': 'PT19H2M',\n",
       "   'age': 56,\n",
       "   'date_of_birth': '1967-12-01',\n",
       "   'date_of_death': None,\n",
       "   'nationality': 'American',\n",
       "   'bio': 'Terry W. Virts Jr. is a former NASA astronaut, and Colonel in the United States Air Force.',\n",
       "   'twitter': 'https://twitter.com/AstroTerry',\n",
       "   'instagram': 'https://www.instagram.com/astro_terry/',\n",
       "   'wiki': 'https://en.wikipedia.org/wiki/Terry_W._Virts',\n",
       "   'agency': {'id': 44,\n",
       "    'url': 'https://ll.thespacedevs.com/2.2.0/agencies/44/',\n",
       "    'name': 'National Aeronautics and Space Administration',\n",
       "    'featured': True,\n",
       "    'type': 'Government',\n",
       "    'country_code': 'USA',\n",
       "    'abbrev': 'NASA',\n",
       "    'description': 'The National Aeronautics and Space Administration is an independent agency of the executive branch of the United States federal government responsible for the civilian space program, as well as aeronautics and aerospace research. NASA have many launch facilities but most are inactive. The most commonly used pad will be LC-39B at Kennedy Space Center in Florida.',\n",
       "    'administrator': 'Administrator: Bill Nelson',\n",
       "    'founding_year': '1958',\n",
       "    'launchers': 'Space Shuttle | SLS',\n",
       "    'spacecraft': 'Orion',\n",
       "    'parent': None,\n",
       "    'image_url': 'https://spacelaunchnow-prod-east.nyc3.digitaloceanspaces.com/media/images/national2520aeronautics2520and2520space2520administration_image_20190207032448.jpeg',\n",
       "    'logo_url': 'https://spacelaunchnow-prod-east.nyc3.digitaloceanspaces.com/media/logo/national2520aeronautics2520and2520space2520administration_logo_20190207032448.png'},\n",
       "   'profile_image': 'https://spacelaunchnow-prod-east.nyc3.digitaloceanspaces.com/media/images/terry_w._virts_image_20220911033815.jpeg',\n",
       "   'profile_image_thumbnail': 'https://spacelaunchnow-prod-east.nyc3.digitaloceanspaces.com/media/images/255bauto255d__image_thumbnail_20240305190900.jpeg',\n",
       "   'flights_count': 2,\n",
       "   'landings_count': 2,\n",
       "   'spacewalks_count': 3,\n",
       "   'last_flight': '2014-11-23T21:01:14Z',\n",
       "   'first_flight': '2010-02-08T09:14:00Z'}]}"
      ]
     },
     "execution_count": 10,
     "metadata": {},
     "output_type": "execute_result"
    }
   ],
   "source": [
    "print(response.status_code)\n",
    "type(response.content)\n",
    "response.json()"
   ]
  },
  {
   "cell_type": "code",
   "execution_count": 11,
   "metadata": {},
   "outputs": [],
   "source": [
    "url_total = space_url + path + \"/?nationality=Cuban\"\n",
    "\n",
    "response = requests.get(url_total)"
   ]
  },
  {
   "cell_type": "code",
   "execution_count": 12,
   "metadata": {},
   "outputs": [
    {
     "data": {
      "text/plain": [
       "'http://ll.thespacedevs.com/2.2.0/astronaut/?nationality=Cuban'"
      ]
     },
     "execution_count": 12,
     "metadata": {},
     "output_type": "execute_result"
    }
   ],
   "source": [
    "url_total"
   ]
  },
  {
   "cell_type": "code",
   "execution_count": 29,
   "metadata": {
    "tags": []
   },
   "outputs": [
    {
     "data": {
      "text/plain": [
       "{'count': 1,\n",
       " 'next': None,\n",
       " 'previous': None,\n",
       " 'results': [{'id': 261,\n",
       "   'url': 'https://ll.thespacedevs.com/2.2.0/astronaut/261/',\n",
       "   'name': 'Arnaldo Tamayo Méndez',\n",
       "   'status': {'id': 2, 'name': 'Retired'},\n",
       "   'type': {'id': 2, 'name': 'Government'},\n",
       "   'date_of_birth': '1942-01-29',\n",
       "   'date_of_death': None,\n",
       "   'nationality': 'Cuban',\n",
       "   'bio': 'Arnaldo Tamayo Méndez (born January 29, 1942) is a Cuban military officer, legislator, and former cosmonaut and the first person of African heritage in space. As a member of the crew of Soyuz 38, he became the first Cuban citizen and the first person from a country in the Western Hemisphere other than the United States to travel into Earth orbit.',\n",
       "   'twitter': None,\n",
       "   'instagram': None,\n",
       "   'wiki': 'https://en.wikipedia.org/wiki/Arnaldo_Tamayo_M%C3%A9ndez',\n",
       "   'agency': {'id': 63,\n",
       "    'url': 'https://ll.thespacedevs.com/2.2.0/agencies/63/',\n",
       "    'name': 'Russian Federal Space Agency (ROSCOSMOS)',\n",
       "    'featured': True,\n",
       "    'type': 'Government',\n",
       "    'country_code': 'RUS',\n",
       "    'abbrev': 'RFSA',\n",
       "    'description': 'The Roscosmos State Corporation for Space Activities, commonly known as Roscosmos, is the governmental body responsible for the space science program of the Russian Federation and general aerospace research. Soyuz has many launch locations the Russian sites are Baikonur, Plesetsk and Vostochny however Ariane also purchases the vehicle and launches it from French Guiana.',\n",
       "    'administrator': 'Administrator: Dmitry Rogozin',\n",
       "    'founding_year': '1992',\n",
       "    'launchers': 'Soyuz',\n",
       "    'spacecraft': 'Soyuz',\n",
       "    'parent': None,\n",
       "    'image_url': 'https://spacelaunchnow-prod-east.nyc3.digitaloceanspaces.com/media/agency_images/russian2520federal2520space2520agency25202528roscosmos2529_image_20190207032459.jpeg'},\n",
       "   'profile_image': 'https://spacelaunchnow-prod-east.nyc3.digitaloceanspaces.com/media/astronaut_images/arnaldo2520tamayo2520m25c325a9ndez_image_20181201221921.jpg',\n",
       "   'profile_image_thumbnail': 'https://spacelaunchnow-prod-east.nyc3.digitaloceanspaces.com/media/default/cache/dd/3d/dd3db7e6be3efdaa729bd1eab39ba872.jpg',\n",
       "   'last_flight': '1980-09-18T19:11:03Z',\n",
       "   'first_flight': '1980-09-18T19:11:03Z'}]}"
      ]
     },
     "execution_count": 29,
     "metadata": {},
     "output_type": "execute_result"
    }
   ],
   "source": [
    "response.json()"
   ]
  },
  {
   "cell_type": "code",
   "execution_count": null,
   "metadata": {},
   "outputs": [],
   "source": []
  }
 ],
 "metadata": {
  "colab": {
   "name": "1-DataAccess.ipynb",
   "provenance": []
  },
  "interpreter": {
   "hash": "7c77fdb427e7cbc9bc1367dd530fc2b36aacdbbde1ac83c85833b10dfa8b831c"
  },
  "kernelspec": {
   "display_name": "Python 3.7.4 64-bit",
   "name": "python3"
  },
  "language_info": {
   "codemirror_mode": {
    "name": "ipython",
    "version": 3
   },
   "file_extension": ".py",
   "mimetype": "text/x-python",
   "name": "python",
   "nbconvert_exporter": "python",
   "pygments_lexer": "ipython3",
   "version": "3.12.2"
  }
 },
 "nbformat": 4,
 "nbformat_minor": 4
}
