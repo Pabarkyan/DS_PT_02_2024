{
 "cells": [
  {
   "cell_type": "markdown",
   "id": "alike-moderator",
   "metadata": {},
   "source": [
    "# Ejercicio 1\n",
    "\n",
    "<img src ='https://estaticos-cdn.prensaiberica.es/clip/23bf0054-14a8-40d0-8700-dc653638d702_16-9-discover-aspect-ratio_default_0.jpg' width=300>\n",
    "\n",
    "Rafa, Nacho y Clara quieren comprar palmeras, donuts, hojaldres y tartas. Cada uno necesita diferentes cantidades y pueden elegir dos tiendas: *Manolo Bakes* y *Starbucks*. \n",
    "\n",
    "Las siguiente tablas muestran, respectivamente, la cantidad que cada uno necesita, y los precios en cada una de las tiendas\n",
    "\n",
    "<table><thead><tr><th></th><th>Palmeras</th><th>Donuts</th><th>Hojaldres</th><th>Tartas</th></tr></thead><tbody><tr><td>Rafa</td><td>6</td><td>5</td><td>3</td><td>1</td></tr><tr><td>Nacho</td><td>3</td><td>6</td><td>2</td><td>2</td></tr><tr><td>Clara</td><td>3</td><td>4</td><td>3</td><td>1</td></tr></tbody></table>\n",
    "\n",
    "<table><thead><tr><th></th><th>Manolo Bakes</th><th>Starbucks</th></tr></thead><tbody><tr><td>Palmera</td><td>1.50</td><td>1.00</td></tr><tr><td>Donut</td><td>2.00</td><td>2.50</td></tr><tr><td>Hojaldre</td><td>5.00</td><td>4.50</td></tr><tr><td>Tarta</td><td>16.00</td><td>17.00</td></tr></tbody></table>\n",
    "\n",
    "Por ejemplo, si Rafa compra en *Manolo Bakes* gastaría:  \n",
    "\n",
    "$6\\cdot1.50+5\\cdot2+3\\cdot5+1\\cdot16=50$  \n",
    "\n",
    "y si compra en *Starbucks* gastaría:  \n",
    "\n",
    "$6\\cdot1+5\\cdot2.50+3\\cdot4.50+1\\cdot17=49$  \n",
    "\n",
    "**SE PIDE**: Genera la matriz que exprese la cantidad que cada persona gastaría en cada tienda, y recomienda a cada uno dónde debería hacer sus compras"
   ]
  },
  {
   "cell_type": "code",
   "execution_count": 8,
   "id": "435e6d30",
   "metadata": {},
   "outputs": [],
   "source": [
    "import numpy as np"
   ]
  },
  {
   "cell_type": "code",
   "execution_count": 19,
   "id": "7539ef0d",
   "metadata": {},
   "outputs": [
    {
     "name": "stdout",
     "output_type": "stream",
     "text": [
      "[[50.  49. ]\n",
      " [58.5 61. ]\n",
      " [43.5 43.5]]\n",
      "[1 0 0]\n",
      "Rafa debe comprar en Starbucks\n",
      "Nacho debe comprar en Manolo Bakes\n",
      "Clara debe comprar en Manolo Bakes\n"
     ]
    }
   ],
   "source": [
    "A = np.array([[6, 5, 3, 1],\n",
    "             [3, 6, 2, 2],\n",
    "             [3, 4, 3, 1]])\n",
    "\n",
    "B = np.array ([[1.5, 1],\n",
    "              [2, 2.5],\n",
    "              [5, 4.5],\n",
    "              [16, 17]])\n",
    "\n",
    "R = A.dot(B)\n",
    "print(R)\n",
    "\n",
    "recom = R.argmin(axis = 1) # método para calcular min por filas en matrices. Así obtengo el índice de cada uno\n",
    "print(recom)\n",
    "\n",
    "tiendas = [\"Manolo Bakes\", \"Starbucks\"]\n",
    "personas = [\"Rafa\", \"Nacho\", \"Clara\"]\n",
    "\n",
    "for index, persona in enumerate(personas):\n",
    "    print(persona, \"debe comprar en\", tiendas[recom[index]])\n"
   ]
  },
  {
   "cell_type": "code",
   "execution_count": null,
   "id": "eb151681",
   "metadata": {},
   "outputs": [],
   "source": [
    "result = []\n",
    "for el in R:\n",
    "    result.append(el)\n",
    "    i = 0\n",
    "    j = 0\n",
    "    for i,j in result:\n",
    "        if result[i] > result[j+1]:\n",
    "            print(\"Te recominedo que compres en Starbucks\")\n",
    "        elif result[i] < result[j+1]:\n",
    "            print(\"Te recoiendo que compres en Manolo Bakes\")\n",
    "        else:\n",
    "            print(\"Compra donde quieras, no hay diferencia\")\n",
    "    "
   ]
  },
  {
   "cell_type": "markdown",
   "id": "computational-federation",
   "metadata": {},
   "source": [
    "# Ejercicio 2\n",
    "<img src='https://i0.wp.com/contraste.info/desarrollo/wp-content/uploads/2015/04/Marsattacks_FichaCine_5566706.jpg?fit=260%2C180&ssl=1' width=\"300\">\n",
    "                                                                                                \n",
    "Hemos sido invadidos por los extraterrestres. El Gobierno ha prohibido toda comunicación escrita en castellano. Para poder comunicarnos, debemos generar mensajes de hasta 9 letras, codificados conforme al siguiente diccionario:\n",
    "\n",
    "```Python\n",
    "{'A':8,\n",
    " 'B':7,\n",
    " 'C':5,\n",
    " 'D':13,\n",
    " 'E':9,\n",
    " 'F':16,\n",
    " 'G':18,\n",
    " 'H':22,\n",
    " 'I':4,\n",
    " 'J':23,\n",
    " 'K':11,\n",
    " 'L':3,\n",
    " 'M':21,\n",
    " 'N':1,\n",
    " 'O':6,\n",
    " 'P':15,\n",
    " 'Q':12,\n",
    " 'R':19,\n",
    " 'S':2,\n",
    " 'T':14,\n",
    " 'U':17,\n",
    " 'V':20,\n",
    " 'W':25,\n",
    " 'X':24,\n",
    " 'Y':10,\n",
    " 'Z':26\n",
    "}\n",
    " \n",
    "```\n",
    "\n",
    "Por ejemplo, el mensaje \"MARCIANOS\" lo codificaríamos como \"21 8 19 5 4 8 1 6 2\"\n",
    "\n",
    "Para poder enviar mensajes, debemos introducir los dígitos en una matriz 3x3. En este ejemplo, la matriz sería:\n",
    "\n",
    "$$A=\\begin{bmatrix}21 & 8 & 19 \\\\ 5 & 4 & 8 \\\\ 1 & 6 & 2\\end{bmatrix}$$\n",
    "\n",
    "A continuación, hay que multiplicar por la izquierda esta matriz por otra proporcionada por el Gobierno:\n",
    "\n",
    "$$C=\\begin{bmatrix}2 & 0 & 1 \\\\ 1 & 0 & 1 \\\\ 0 & 1 & 0\\end{bmatrix}$$\n",
    "\n",
    "Por tanto, el mensaje resultante sería:\n",
    "\n",
    "$$Z = CA=\\begin{bmatrix}2 & 0 & 1 \\\\ 1 & 0 & 1 \\\\ 0 & 1 & 0\\end{bmatrix}\\begin{bmatrix}21 & 8 & 19 \\\\ 5 & 4 & 8 \\\\ 1 & 6 & 2\\end{bmatrix}=\\begin{bmatrix}43 & 22 & 40 \\\\ 22 & 14 & 21 \\\\ 5 & 4 & 8\\end{bmatrix}$$\n",
    "\n",
    "El receptor del mensaje deberá decodificarlo multiplicando la matriz $Z$ por la matriz $C^{-1}$ (por la izquierda):\n",
    "\n",
    "$$C^{-1}Z=A$$\n",
    "\n",
    "**SE PIDE:**\n",
    "1. Implementa una función para enviar mensajes de 9 letras codificados\n",
    "> 1.1 Genera los dígitos correspondientes al mensaje a partir del diccionario y guárdalo en una lista  \n",
    "> 1.2 Haz un reshape de la lista para transformarlo en un array de numpy 3x3  \n",
    "> 1.3 Genera la matriz $Z=CA$, que será el output de la función\n",
    "2. Implementa una función para decodificar mensajes de 9 letras\n",
    "> 2.1 Crea un nuevo diccionario, donde se inviertan las claves y los valores del original  \n",
    "> 2.2 Realiza la operación $C^{-1}Z=A$ y convierte la matriz a un vector con el método `flatten()`  \n",
    "> 2.3 Recorre los elementos del vector para generar el mensaje decodificado usando el diccionario creado en 2.1\n",
    "\n",
    "Consejo: Antes de implementar la función, reproduce el ejemplo del enunciado. Cuando te funcione, encapsula tu código en funciones"
   ]
  },
  {
   "cell_type": "code",
   "execution_count": 32,
   "id": "sixth-fighter",
   "metadata": {},
   "outputs": [
    {
     "data": {
      "text/plain": [
       "array([[21,  8, 42],\n",
       "       [17,  7, 22],\n",
       "       [ 8, 13,  4]])"
      ]
     },
     "execution_count": 32,
     "metadata": {},
     "output_type": "execute_result"
    }
   ],
   "source": [
    "dicc_claves = {'A':8,\n",
    "               'B':7,\n",
    "               'C':5,\n",
    "               'D':13,\n",
    "               'E':9,\n",
    "               'F':16,\n",
    "               'G':18,\n",
    "               'H':22,\n",
    "               'I':4,\n",
    "               'J':23,\n",
    "               'K':11,\n",
    "               'L':3,\n",
    "               'M':21,\n",
    "               'N':1,\n",
    "               'O':6,\n",
    "               'P':15,\n",
    "               'Q':12,\n",
    "               'R':19,\n",
    "               'S':2,\n",
    "               'T':14,\n",
    "               'U':17,\n",
    "               'V':20,\n",
    "               'W':25,\n",
    "               'X':24,\n",
    "               'Y':10,\n",
    "               'Z':26\n",
    "              }\n",
    "\n",
    "#mensaje = [4, 1, 20, 8, 13, 4, 13, 6, 2]\n",
    "#invadidos\n",
    "\n",
    "def enviar_mensaje(mensaje, C): # tb matriz C porque puede cambiar\n",
    "    M = []\n",
    "    for letra in mensaje:\n",
    "        M.append(dicc_claves[letra])\n",
    "    #print(M)\n",
    "\n",
    "    A = np.array([M]).reshape(3, 3)\n",
    "   \n",
    "    Z = C.dot(A)\n",
    "    return Z\n",
    "\n",
    "C = np.array([[2, 0, 1],\n",
    "             [1, 0, 1],\n",
    "             [0, 1, 0]])    \n",
    "    \n",
    "Z = enviar_mensaje(\"INVADIDOS\", C) # guardar en variable proque si no no lo reconoce después en 2ª parte \n",
    "Z"
   ]
  },
  {
   "cell_type": "code",
   "execution_count": 34,
   "id": "2be8ee76",
   "metadata": {},
   "outputs": [
    {
     "data": {
      "text/plain": [
       "'INVADIDOS'"
      ]
     },
     "execution_count": 34,
     "metadata": {},
     "output_type": "execute_result"
    }
   ],
   "source": [
    "dicc_inv = {v: k for k, v in dicc_claves.items()} \n",
    "# print(dicc_inv)\n",
    "# para invertir el dicc por método clásico:\n",
    "# for key, value in dicc_claves.items():\n",
    "    # dicc_inv[value] = key\n",
    "\n",
    "C = np.array([[2, 0, 1],\n",
    "              [1, 0, 1],\n",
    "              [0, 1, 0]])\n",
    "Z\n",
    "\n",
    "def decod(Z, C):\n",
    "    C_inv = np.linalg.inv(C)\n",
    "    M2 = C_inv.dot(Z)\n",
    "    A2 = M2.flatten()\n",
    "    # print(A)\n",
    "    D = \"\" # yo lo había hecho con lista D=[], mejor str\n",
    "    for num in A2:\n",
    "        D += dicc_inv[num] # D.append(dicc_inv[num])\n",
    "    \n",
    "    return D\n",
    "\n",
    "mensaje = decod(Z, C)\n",
    "mensaje"
   ]
  },
  {
   "cell_type": "code",
   "execution_count": 21,
   "id": "0db982ec",
   "metadata": {},
   "outputs": [
    {
     "name": "stdout",
     "output_type": "stream",
     "text": [
      "[21, 8, 19, 5, 4, 8, 1, 6, 2]\n"
     ]
    }
   ],
   "source": [
    "M = []\n",
    "mensaje = \"MARCIANOS\"\n",
    "for letra in mensaje:\n",
    "    M.append(dicc_claves[letra]) # así puedo acceder a los valores del diccionario\n",
    "print(M)"
   ]
  },
  {
   "cell_type": "markdown",
   "id": "personalized-prisoner",
   "metadata": {},
   "source": [
    "# Ejercicio 3 "
   ]
  },
  {
   "cell_type": "markdown",
   "id": "domestic-suicide",
   "metadata": {},
   "source": [
    "En el álgebra de matrices, existen tres tipos de matrices de especial interés:\n",
    "\n",
    "1. **Matriz diagonal**: Todos los elementos son 0 excepto los de la diagonal\n",
    "<img src='./img/diagonal.png' width = 200>\n",
    "\n",
    "2. **Triangular superior**: Todos los elementos por encima de la diagonal son 0\n",
    "<img src='./img/upper.png' width = 200>\n",
    "\n",
    "3. **Triangular inferior**: Todos los elementos por debajo de la diagonal son 0\n",
    "<img src='./img/lower.png' width = 200>\n",
    "\n",
    "En numpy, las funciones `diag()`, `triu()` y `tril()` permiten hacer transformaciones de una matriz a cualquiera de las 3 anteriores\n",
    "\n",
    "**CASO DE USO**\n",
    "\n",
    "\n",
    "<img src='./img/bets.jpg' width=400>\n",
    "\n",
    "\n",
    "En LaLiga se generan matrices como la siguiente, que indican la probabilidad estimada de cada resultado en un determinado partido:  \n",
    "\n",
    "![SegmentLocal](./img/match_matrix.gif \"segment\")\n",
    "\n",
    "Por ejemplo, la probabilidad estimada de que acaben 1-2 es del 3.37%  \n",
    "La probabilidad de que acaben en empate sería la suma de la diagonal: $(0.0373+0.078+0.0409+0.0095+0.0012+0.0001)=16.7\\%$\n",
    "\n",
    "**SE PIDE**: \n",
    "\n",
    "1. Implementa una función que reciba una matriz cuadrada nxn y devuelva un diccionario con la probabilidad de empate, victoria local y victoria visitante. Asegúrate de que la suma de estas tres probabilidades es próxima a 1.\n",
    "\n",
    "2. Implementa otra función que transforme el diccionario con las probabilidades a un diccionario de cuotas redondeado a 2 decimales (la cuota la calculamos como la inversa de la probabilidad)\n",
    "\n",
    "Prueba con esta matriz\n",
    "$$ P=\\begin{bmatrix}0.0373 & 0.082 & 0.013 & 0.004\\\\ 0.1504 & 0.098 & 0.0337 & 0.0097 \\\\\n",
    "0.121 & 0.194 & 0.04 & 0.0118 \\\\ 0.088 &  0.076 & 0.032 & 0.0091\\end{bmatrix}$$"
   ]
  },
  {
   "cell_type": "code",
   "execution_count": 41,
   "id": "competitive-russian",
   "metadata": {},
   "outputs": [
    {
     "name": "stdout",
     "output_type": "stream",
     "text": [
      "1.0\n"
     ]
    }
   ],
   "source": [
    "import numpy as np\n",
    "probs = np.array([[0.0373, 0.082, 0.013, 0.004],\n",
    "                  [0.1504, 0.098, 0.0337, 0.0097],\n",
    "                  [0.121, 0.194, 0.04, 0.0118],\n",
    "                  [0.088, 0.076, 0.032, 0.0091]\n",
    "                 ])\n",
    "print(np.sum(probs)) # me aseguro de que suma 1"
   ]
  },
  {
   "cell_type": "code",
   "execution_count": 46,
   "id": "presidential-toddler",
   "metadata": {},
   "outputs": [
    {
     "name": "stdout",
     "output_type": "stream",
     "text": [
      "[0.0373 0.098  0.04   0.0091]\n",
      "[[0.     0.082  0.013  0.004 ]\n",
      " [0.     0.     0.0337 0.0097]\n",
      " [0.     0.     0.     0.0118]\n",
      " [0.     0.     0.     0.    ]]\n",
      "[[0.     0.     0.     0.    ]\n",
      " [0.1504 0.     0.     0.    ]\n",
      " [0.121  0.194  0.     0.    ]\n",
      " [0.088  0.076  0.032  0.    ]]\n"
     ]
    }
   ],
   "source": [
    "#1)\n",
    "emp = np.diag(probs)\n",
    "print(emp)\n",
    "\n",
    "home = np.triu(probs, k = 1) # para que la diagonal = 0, k=1\n",
    "print(home)\n",
    "\n",
    "away = np.tril(probs, k = -1) # diagonal = 0, k = -1\n",
    "print(away)"
   ]
  },
  {
   "cell_type": "code",
   "execution_count": 48,
   "id": "af3c381b",
   "metadata": {},
   "outputs": [
    {
     "name": "stdout",
     "output_type": "stream",
     "text": [
      "0.1844 0.1542 0.6614\n"
     ]
    }
   ],
   "source": [
    "empate = np.sum(emp)\n",
    "local = np.sum(home)\n",
    "vis = np.sum(away)\n",
    "print(empate, local, vis)"
   ]
  },
  {
   "cell_type": "code",
   "execution_count": 54,
   "id": "cb6c7d7c",
   "metadata": {},
   "outputs": [
    {
     "data": {
      "text/plain": [
       "{'Prob empate': 0.1844, 'Prob local': 0.1542, 'Prob vis': 0.6614}"
      ]
     },
     "execution_count": 54,
     "metadata": {},
     "output_type": "execute_result"
    }
   ],
   "source": [
    "def prob1x2(matriz):\n",
    "    empate = np.sum(np.diag(matriz))\n",
    "    local = np.sum(np.triu(matriz, k = 1))\n",
    "    vis = np.sum(np.tril(matriz, k = -1))\n",
    "    \n",
    "    return {\"Prob empate\":empate, \"Prob local\":local, \"Prob vis\":vis}\n",
    "\n",
    "res = prob1x2(probs)    \n",
    "res"
   ]
  },
  {
   "cell_type": "code",
   "execution_count": 55,
   "id": "32584932",
   "metadata": {},
   "outputs": [
    {
     "name": "stdout",
     "output_type": "stream",
     "text": [
      "5.42 6.49 1.51\n"
     ]
    }
   ],
   "source": [
    "#2)\n",
    "cuota1 = round(1/res[\"Prob empate\"], 2)\n",
    "cuota2 = round(1/res[\"Prob local\"], 2)\n",
    "cuota3 = round(1/res[\"Prob vis\"], 2)\n",
    "print(cuota1, cuota2, cuota3)"
   ]
  },
  {
   "cell_type": "code",
   "execution_count": 60,
   "id": "8a1cf340",
   "metadata": {},
   "outputs": [
    {
     "data": {
      "text/plain": [
       "{'Empate': 5.42, 'Local': 6.49, 'Vis': 1.51}"
      ]
     },
     "execution_count": 60,
     "metadata": {},
     "output_type": "execute_result"
    }
   ],
   "source": [
    "def cuotas(diccionario):\n",
    "    cuota1 = round(1/res[\"Prob empate\"], 2)\n",
    "    cuota2 = round(1/res[\"Prob local\"], 2)\n",
    "    cuota3 = round(1/res[\"Prob vis\"], 2)\n",
    "    \n",
    "    return {\"Empate\":cuota1, \"Local\":cuota2, \"Vis\":cuota3}\n",
    "\n",
    "cuotas(prob1x2(probs))    "
   ]
  }
 ],
 "metadata": {
  "kernelspec": {
   "display_name": "Python 3 (ipykernel)",
   "language": "python",
   "name": "python3"
  },
  "language_info": {
   "codemirror_mode": {
    "name": "ipython",
    "version": 3
   },
   "file_extension": ".py",
   "mimetype": "text/x-python",
   "name": "python",
   "nbconvert_exporter": "python",
   "pygments_lexer": "ipython3",
   "version": "3.10.4"
  }
 },
 "nbformat": 4,
 "nbformat_minor": 5
}
