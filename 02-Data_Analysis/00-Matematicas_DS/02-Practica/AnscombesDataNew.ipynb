{
 "cells": [
  {
   "cell_type": "markdown",
   "metadata": {},
   "source": [
    "# Fundamentals of Data Analysis Assignment\n",
    "By Simona Vasiliauskaite G00263352"
   ]
  },
  {
   "cell_type": "markdown",
   "metadata": {},
   "source": [
    "## Analysis of Anscombe's Quartet Dataset"
   ]
  },
  {
   "cell_type": "markdown",
   "metadata": {},
   "source": [
    "**Objectives**\n",
    " 1. Explain the background to the dataset.\n",
    " 2. Calculate the descriptive statistics of the variables in the dataset.\n",
    " 3. Plot the interesting aspects of the dataset.\n",
    " 4. Explain why the dataset is interesting, referring to the plots and statistics above."
   ]
  },
  {
   "cell_type": "markdown",
   "metadata": {},
   "source": [
    "## 1. Background\n",
    "\n",
    "Anscombe’s quartet is the name for a famous data set created by **Frank Anscombe** in 1973 to illustrate the importance of plotting data. Mr. Anscombe was a pioneer in the application of computers to the statistical analysis of data. A classic paper showed that one equation could fit four very different data sets, illustrating the importance of graphing data before analyzing it and the effect of outliers on statistical properties. This particular data set shows that for x-y measurement data, the marginal distributions and Pearson correlation are not sufficient to describe the association between x and y, and that scatterplots are needed as well.\n",
    "\n",
    "Anscombe published 50 research articles and one book, “Computing in Statistical Science through APL” (1981) [Source](https://news.yale.edu/2001/10/23/memoriam-professor-francis-john-anscombe)\n"
   ]
  },
  {
   "cell_type": "markdown",
   "metadata": {},
   "source": [
    "# 2. Descriptive Statistics"
   ]
  },
  {
   "cell_type": "markdown",
   "metadata": {},
   "source": [
    "### 2.1 Importing Libraries"
   ]
  },
  {
   "cell_type": "code",
   "execution_count": 21,
   "metadata": {
    "collapsed": true
   },
   "outputs": [],
   "source": [
    "# Import pandas package\n",
    "# Import matplotlib.pyplot\n",
    "# Import seasborn\n",
    "%matplotlib inline\n",
    "\n",
    "import pandas as pd\n",
    "import matplotlib.pyplot as plt\n",
    "import seaborn as sns\n",
    "\n",
    "# Load the Anscombe's data set from my GitHub file\n",
    "\n",
    "anscombe = pd.read_csv(\"https://goo.gl/uKtZqx\")"
   ]
  },
  {
   "cell_type": "code",
   "execution_count": 22,
   "metadata": {},
   "outputs": [
    {
     "data": {
      "text/html": [
       "<div>\n",
       "<style scoped>\n",
       "    .dataframe tbody tr th:only-of-type {\n",
       "        vertical-align: middle;\n",
       "    }\n",
       "\n",
       "    .dataframe tbody tr th {\n",
       "        vertical-align: top;\n",
       "    }\n",
       "\n",
       "    .dataframe thead th {\n",
       "        text-align: right;\n",
       "    }\n",
       "</style>\n",
       "<table border=\"1\" class=\"dataframe\">\n",
       "  <thead>\n",
       "    <tr style=\"text-align: right;\">\n",
       "      <th></th>\n",
       "      <th>X1</th>\n",
       "      <th>X2</th>\n",
       "      <th>X3</th>\n",
       "      <th>X4</th>\n",
       "      <th>Y1</th>\n",
       "      <th>Y2</th>\n",
       "      <th>Y3</th>\n",
       "      <th>Y4</th>\n",
       "    </tr>\n",
       "  </thead>\n",
       "  <tbody>\n",
       "    <tr>\n",
       "      <th>0</th>\n",
       "      <td>10</td>\n",
       "      <td>10</td>\n",
       "      <td>10</td>\n",
       "      <td>8</td>\n",
       "      <td>8.04</td>\n",
       "      <td>9.14</td>\n",
       "      <td>7.46</td>\n",
       "      <td>6.58</td>\n",
       "    </tr>\n",
       "    <tr>\n",
       "      <th>1</th>\n",
       "      <td>8</td>\n",
       "      <td>8</td>\n",
       "      <td>8</td>\n",
       "      <td>8</td>\n",
       "      <td>6.95</td>\n",
       "      <td>8.14</td>\n",
       "      <td>6.77</td>\n",
       "      <td>5.76</td>\n",
       "    </tr>\n",
       "    <tr>\n",
       "      <th>2</th>\n",
       "      <td>13</td>\n",
       "      <td>13</td>\n",
       "      <td>13</td>\n",
       "      <td>8</td>\n",
       "      <td>7.58</td>\n",
       "      <td>8.74</td>\n",
       "      <td>12.74</td>\n",
       "      <td>7.71</td>\n",
       "    </tr>\n",
       "    <tr>\n",
       "      <th>3</th>\n",
       "      <td>9</td>\n",
       "      <td>9</td>\n",
       "      <td>9</td>\n",
       "      <td>8</td>\n",
       "      <td>8.81</td>\n",
       "      <td>8.77</td>\n",
       "      <td>7.11</td>\n",
       "      <td>8.84</td>\n",
       "    </tr>\n",
       "    <tr>\n",
       "      <th>4</th>\n",
       "      <td>11</td>\n",
       "      <td>11</td>\n",
       "      <td>11</td>\n",
       "      <td>8</td>\n",
       "      <td>8.33</td>\n",
       "      <td>9.26</td>\n",
       "      <td>7.81</td>\n",
       "      <td>8.47</td>\n",
       "    </tr>\n",
       "    <tr>\n",
       "      <th>5</th>\n",
       "      <td>14</td>\n",
       "      <td>14</td>\n",
       "      <td>14</td>\n",
       "      <td>8</td>\n",
       "      <td>9.96</td>\n",
       "      <td>8.10</td>\n",
       "      <td>8.84</td>\n",
       "      <td>7.04</td>\n",
       "    </tr>\n",
       "    <tr>\n",
       "      <th>6</th>\n",
       "      <td>6</td>\n",
       "      <td>6</td>\n",
       "      <td>6</td>\n",
       "      <td>8</td>\n",
       "      <td>7.24</td>\n",
       "      <td>6.13</td>\n",
       "      <td>6.08</td>\n",
       "      <td>5.25</td>\n",
       "    </tr>\n",
       "    <tr>\n",
       "      <th>7</th>\n",
       "      <td>4</td>\n",
       "      <td>4</td>\n",
       "      <td>4</td>\n",
       "      <td>19</td>\n",
       "      <td>4.26</td>\n",
       "      <td>3.10</td>\n",
       "      <td>5.39</td>\n",
       "      <td>12.50</td>\n",
       "    </tr>\n",
       "    <tr>\n",
       "      <th>8</th>\n",
       "      <td>12</td>\n",
       "      <td>12</td>\n",
       "      <td>12</td>\n",
       "      <td>8</td>\n",
       "      <td>10.84</td>\n",
       "      <td>9.13</td>\n",
       "      <td>8.15</td>\n",
       "      <td>5.56</td>\n",
       "    </tr>\n",
       "    <tr>\n",
       "      <th>9</th>\n",
       "      <td>7</td>\n",
       "      <td>7</td>\n",
       "      <td>7</td>\n",
       "      <td>8</td>\n",
       "      <td>4.82</td>\n",
       "      <td>7.26</td>\n",
       "      <td>6.42</td>\n",
       "      <td>7.91</td>\n",
       "    </tr>\n",
       "    <tr>\n",
       "      <th>10</th>\n",
       "      <td>5</td>\n",
       "      <td>5</td>\n",
       "      <td>5</td>\n",
       "      <td>8</td>\n",
       "      <td>5.68</td>\n",
       "      <td>4.74</td>\n",
       "      <td>5.73</td>\n",
       "      <td>6.89</td>\n",
       "    </tr>\n",
       "  </tbody>\n",
       "</table>\n",
       "</div>"
      ],
      "text/plain": [
       "    X1  X2  X3  X4     Y1    Y2     Y3     Y4\n",
       "0   10  10  10   8   8.04  9.14   7.46   6.58\n",
       "1    8   8   8   8   6.95  8.14   6.77   5.76\n",
       "2   13  13  13   8   7.58  8.74  12.74   7.71\n",
       "3    9   9   9   8   8.81  8.77   7.11   8.84\n",
       "4   11  11  11   8   8.33  9.26   7.81   8.47\n",
       "5   14  14  14   8   9.96  8.10   8.84   7.04\n",
       "6    6   6   6   8   7.24  6.13   6.08   5.25\n",
       "7    4   4   4  19   4.26  3.10   5.39  12.50\n",
       "8   12  12  12   8  10.84  9.13   8.15   5.56\n",
       "9    7   7   7   8   4.82  7.26   6.42   7.91\n",
       "10   5   5   5   8   5.68  4.74   5.73   6.89"
      ]
     },
     "execution_count": 22,
     "metadata": {},
     "output_type": "execute_result"
    }
   ],
   "source": [
    "anscombe # Print the items of this data set"
   ]
  },
  {
   "cell_type": "markdown",
   "metadata": {},
   "source": [
    "Looking at the data from table above, each set appears relatively similar."
   ]
  },
  {
   "cell_type": "markdown",
   "metadata": {},
   "source": [
    "### 2.2 Summary Statistics"
   ]
  },
  {
   "cell_type": "code",
   "execution_count": 3,
   "metadata": {},
   "outputs": [
    {
     "data": {
      "text/html": [
       "<div>\n",
       "<style>\n",
       "    .dataframe thead tr:only-child th {\n",
       "        text-align: right;\n",
       "    }\n",
       "\n",
       "    .dataframe thead th {\n",
       "        text-align: left;\n",
       "    }\n",
       "\n",
       "    .dataframe tbody tr th {\n",
       "        vertical-align: top;\n",
       "    }\n",
       "</style>\n",
       "<table border=\"1\" class=\"dataframe\">\n",
       "  <thead>\n",
       "    <tr style=\"text-align: right;\">\n",
       "      <th></th>\n",
       "      <th>X1</th>\n",
       "      <th>X2</th>\n",
       "      <th>X3</th>\n",
       "      <th>X4</th>\n",
       "      <th>Y1</th>\n",
       "      <th>Y2</th>\n",
       "      <th>Y3</th>\n",
       "      <th>Y4</th>\n",
       "    </tr>\n",
       "  </thead>\n",
       "  <tbody>\n",
       "    <tr>\n",
       "      <th>0</th>\n",
       "      <td>10</td>\n",
       "      <td>10</td>\n",
       "      <td>10</td>\n",
       "      <td>8</td>\n",
       "      <td>8.04</td>\n",
       "      <td>9.14</td>\n",
       "      <td>7.46</td>\n",
       "      <td>6.58</td>\n",
       "    </tr>\n",
       "    <tr>\n",
       "      <th>1</th>\n",
       "      <td>8</td>\n",
       "      <td>8</td>\n",
       "      <td>8</td>\n",
       "      <td>8</td>\n",
       "      <td>6.95</td>\n",
       "      <td>8.14</td>\n",
       "      <td>6.77</td>\n",
       "      <td>5.76</td>\n",
       "    </tr>\n",
       "    <tr>\n",
       "      <th>2</th>\n",
       "      <td>13</td>\n",
       "      <td>13</td>\n",
       "      <td>13</td>\n",
       "      <td>8</td>\n",
       "      <td>7.58</td>\n",
       "      <td>8.74</td>\n",
       "      <td>12.74</td>\n",
       "      <td>7.71</td>\n",
       "    </tr>\n",
       "    <tr>\n",
       "      <th>3</th>\n",
       "      <td>9</td>\n",
       "      <td>9</td>\n",
       "      <td>9</td>\n",
       "      <td>8</td>\n",
       "      <td>8.81</td>\n",
       "      <td>8.77</td>\n",
       "      <td>7.11</td>\n",
       "      <td>8.84</td>\n",
       "    </tr>\n",
       "    <tr>\n",
       "      <th>4</th>\n",
       "      <td>11</td>\n",
       "      <td>11</td>\n",
       "      <td>11</td>\n",
       "      <td>8</td>\n",
       "      <td>8.33</td>\n",
       "      <td>9.26</td>\n",
       "      <td>7.81</td>\n",
       "      <td>8.47</td>\n",
       "    </tr>\n",
       "  </tbody>\n",
       "</table>\n",
       "</div>"
      ],
      "text/plain": [
       "   X1  X2  X3  X4    Y1    Y2     Y3    Y4\n",
       "0  10  10  10   8  8.04  9.14   7.46  6.58\n",
       "1   8   8   8   8  6.95  8.14   6.77  5.76\n",
       "2  13  13  13   8  7.58  8.74  12.74  7.71\n",
       "3   9   9   9   8  8.81  8.77   7.11  8.84\n",
       "4  11  11  11   8  8.33  9.26   7.81  8.47"
      ]
     },
     "execution_count": 3,
     "metadata": {},
     "output_type": "execute_result"
    }
   ],
   "source": [
    "anscombe.head() # Check first 5 rows of data"
   ]
  },
  {
   "cell_type": "code",
   "execution_count": 4,
   "metadata": {},
   "outputs": [
    {
     "data": {
      "text/html": [
       "<div>\n",
       "<style>\n",
       "    .dataframe thead tr:only-child th {\n",
       "        text-align: right;\n",
       "    }\n",
       "\n",
       "    .dataframe thead th {\n",
       "        text-align: left;\n",
       "    }\n",
       "\n",
       "    .dataframe tbody tr th {\n",
       "        vertical-align: top;\n",
       "    }\n",
       "</style>\n",
       "<table border=\"1\" class=\"dataframe\">\n",
       "  <thead>\n",
       "    <tr style=\"text-align: right;\">\n",
       "      <th></th>\n",
       "      <th>X1</th>\n",
       "      <th>X2</th>\n",
       "      <th>X3</th>\n",
       "      <th>X4</th>\n",
       "      <th>Y1</th>\n",
       "      <th>Y2</th>\n",
       "      <th>Y3</th>\n",
       "      <th>Y4</th>\n",
       "    </tr>\n",
       "  </thead>\n",
       "  <tbody>\n",
       "    <tr>\n",
       "      <th>6</th>\n",
       "      <td>6</td>\n",
       "      <td>6</td>\n",
       "      <td>6</td>\n",
       "      <td>8</td>\n",
       "      <td>7.24</td>\n",
       "      <td>6.13</td>\n",
       "      <td>6.08</td>\n",
       "      <td>5.25</td>\n",
       "    </tr>\n",
       "    <tr>\n",
       "      <th>7</th>\n",
       "      <td>4</td>\n",
       "      <td>4</td>\n",
       "      <td>4</td>\n",
       "      <td>19</td>\n",
       "      <td>4.26</td>\n",
       "      <td>3.10</td>\n",
       "      <td>5.39</td>\n",
       "      <td>12.50</td>\n",
       "    </tr>\n",
       "    <tr>\n",
       "      <th>8</th>\n",
       "      <td>12</td>\n",
       "      <td>12</td>\n",
       "      <td>12</td>\n",
       "      <td>8</td>\n",
       "      <td>10.84</td>\n",
       "      <td>9.13</td>\n",
       "      <td>8.15</td>\n",
       "      <td>5.56</td>\n",
       "    </tr>\n",
       "    <tr>\n",
       "      <th>9</th>\n",
       "      <td>7</td>\n",
       "      <td>7</td>\n",
       "      <td>7</td>\n",
       "      <td>8</td>\n",
       "      <td>4.82</td>\n",
       "      <td>7.26</td>\n",
       "      <td>6.42</td>\n",
       "      <td>7.91</td>\n",
       "    </tr>\n",
       "    <tr>\n",
       "      <th>10</th>\n",
       "      <td>5</td>\n",
       "      <td>5</td>\n",
       "      <td>5</td>\n",
       "      <td>8</td>\n",
       "      <td>5.68</td>\n",
       "      <td>4.74</td>\n",
       "      <td>5.73</td>\n",
       "      <td>6.89</td>\n",
       "    </tr>\n",
       "  </tbody>\n",
       "</table>\n",
       "</div>"
      ],
      "text/plain": [
       "    X1  X2  X3  X4     Y1    Y2    Y3     Y4\n",
       "6    6   6   6   8   7.24  6.13  6.08   5.25\n",
       "7    4   4   4  19   4.26  3.10  5.39  12.50\n",
       "8   12  12  12   8  10.84  9.13  8.15   5.56\n",
       "9    7   7   7   8   4.82  7.26  6.42   7.91\n",
       "10   5   5   5   8   5.68  4.74  5.73   6.89"
      ]
     },
     "execution_count": 4,
     "metadata": {},
     "output_type": "execute_result"
    }
   ],
   "source": [
    "anscombe.tail() # Check last 5 rows of data and total number of rows"
   ]
  },
  {
   "cell_type": "code",
   "execution_count": 5,
   "metadata": {},
   "outputs": [
    {
     "data": {
      "text/html": [
       "<div>\n",
       "<style>\n",
       "    .dataframe thead tr:only-child th {\n",
       "        text-align: right;\n",
       "    }\n",
       "\n",
       "    .dataframe thead th {\n",
       "        text-align: left;\n",
       "    }\n",
       "\n",
       "    .dataframe tbody tr th {\n",
       "        vertical-align: top;\n",
       "    }\n",
       "</style>\n",
       "<table border=\"1\" class=\"dataframe\">\n",
       "  <thead>\n",
       "    <tr style=\"text-align: right;\">\n",
       "      <th></th>\n",
       "      <th>X1</th>\n",
       "      <th>X2</th>\n",
       "      <th>X3</th>\n",
       "      <th>X4</th>\n",
       "      <th>Y1</th>\n",
       "      <th>Y2</th>\n",
       "      <th>Y3</th>\n",
       "      <th>Y4</th>\n",
       "    </tr>\n",
       "  </thead>\n",
       "  <tbody>\n",
       "    <tr>\n",
       "      <th>count</th>\n",
       "      <td>11.000000</td>\n",
       "      <td>11.000000</td>\n",
       "      <td>11.000000</td>\n",
       "      <td>11.000000</td>\n",
       "      <td>11.000000</td>\n",
       "      <td>11.000000</td>\n",
       "      <td>11.000000</td>\n",
       "      <td>11.000000</td>\n",
       "    </tr>\n",
       "    <tr>\n",
       "      <th>mean</th>\n",
       "      <td>9.000000</td>\n",
       "      <td>9.000000</td>\n",
       "      <td>9.000000</td>\n",
       "      <td>9.000000</td>\n",
       "      <td>7.500909</td>\n",
       "      <td>7.500909</td>\n",
       "      <td>7.500000</td>\n",
       "      <td>7.500909</td>\n",
       "    </tr>\n",
       "    <tr>\n",
       "      <th>std</th>\n",
       "      <td>3.316625</td>\n",
       "      <td>3.316625</td>\n",
       "      <td>3.316625</td>\n",
       "      <td>3.316625</td>\n",
       "      <td>2.031568</td>\n",
       "      <td>2.031657</td>\n",
       "      <td>2.030424</td>\n",
       "      <td>2.030579</td>\n",
       "    </tr>\n",
       "    <tr>\n",
       "      <th>min</th>\n",
       "      <td>4.000000</td>\n",
       "      <td>4.000000</td>\n",
       "      <td>4.000000</td>\n",
       "      <td>8.000000</td>\n",
       "      <td>4.260000</td>\n",
       "      <td>3.100000</td>\n",
       "      <td>5.390000</td>\n",
       "      <td>5.250000</td>\n",
       "    </tr>\n",
       "    <tr>\n",
       "      <th>25%</th>\n",
       "      <td>6.500000</td>\n",
       "      <td>6.500000</td>\n",
       "      <td>6.500000</td>\n",
       "      <td>8.000000</td>\n",
       "      <td>6.315000</td>\n",
       "      <td>6.695000</td>\n",
       "      <td>6.250000</td>\n",
       "      <td>6.170000</td>\n",
       "    </tr>\n",
       "    <tr>\n",
       "      <th>50%</th>\n",
       "      <td>9.000000</td>\n",
       "      <td>9.000000</td>\n",
       "      <td>9.000000</td>\n",
       "      <td>8.000000</td>\n",
       "      <td>7.580000</td>\n",
       "      <td>8.140000</td>\n",
       "      <td>7.110000</td>\n",
       "      <td>7.040000</td>\n",
       "    </tr>\n",
       "    <tr>\n",
       "      <th>75%</th>\n",
       "      <td>11.500000</td>\n",
       "      <td>11.500000</td>\n",
       "      <td>11.500000</td>\n",
       "      <td>8.000000</td>\n",
       "      <td>8.570000</td>\n",
       "      <td>8.950000</td>\n",
       "      <td>7.980000</td>\n",
       "      <td>8.190000</td>\n",
       "    </tr>\n",
       "    <tr>\n",
       "      <th>max</th>\n",
       "      <td>14.000000</td>\n",
       "      <td>14.000000</td>\n",
       "      <td>14.000000</td>\n",
       "      <td>19.000000</td>\n",
       "      <td>10.840000</td>\n",
       "      <td>9.260000</td>\n",
       "      <td>12.740000</td>\n",
       "      <td>12.500000</td>\n",
       "    </tr>\n",
       "  </tbody>\n",
       "</table>\n",
       "</div>"
      ],
      "text/plain": [
       "              X1         X2         X3         X4         Y1         Y2  \\\n",
       "count  11.000000  11.000000  11.000000  11.000000  11.000000  11.000000   \n",
       "mean    9.000000   9.000000   9.000000   9.000000   7.500909   7.500909   \n",
       "std     3.316625   3.316625   3.316625   3.316625   2.031568   2.031657   \n",
       "min     4.000000   4.000000   4.000000   8.000000   4.260000   3.100000   \n",
       "25%     6.500000   6.500000   6.500000   8.000000   6.315000   6.695000   \n",
       "50%     9.000000   9.000000   9.000000   8.000000   7.580000   8.140000   \n",
       "75%    11.500000  11.500000  11.500000   8.000000   8.570000   8.950000   \n",
       "max    14.000000  14.000000  14.000000  19.000000  10.840000   9.260000   \n",
       "\n",
       "              Y3         Y4  \n",
       "count  11.000000  11.000000  \n",
       "mean    7.500000   7.500909  \n",
       "std     2.030424   2.030579  \n",
       "min     5.390000   5.250000  \n",
       "25%     6.250000   6.170000  \n",
       "50%     7.110000   7.040000  \n",
       "75%     7.980000   8.190000  \n",
       "max    12.740000  12.500000  "
      ]
     },
     "execution_count": 5,
     "metadata": {},
     "output_type": "execute_result"
    }
   ],
   "source": [
    "anscombe.describe() # Pull up descriptive stats of the data set including mean, standard deiation and count"
   ]
  },
  {
   "cell_type": "markdown",
   "metadata": {},
   "source": [
    "After running some summary statistics I can see that that the x values for all four datasets have a mean equal to 9.0, a median of 6.5, standard deviation of 3.316 with all but one having a minimum value of 4 and maximum value of 14. The y values have similar summary statistics as well but not identical."
   ]
  },
  {
   "cell_type": "code",
   "execution_count": 27,
   "metadata": {},
   "outputs": [
    {
     "data": {
      "text/html": [
       "<style type=\"text/css\">\n",
       "#T_83168_row2_col6, #T_83168_row4_col5, #T_83168_row5_col0, #T_83168_row5_col1, #T_83168_row5_col2, #T_83168_row7_col3, #T_83168_row7_col7, #T_83168_row8_col4 {\n",
       "  background-color: red;\n",
       "}\n",
       "</style>\n",
       "<table id=\"T_83168\">\n",
       "  <thead>\n",
       "    <tr>\n",
       "      <th class=\"blank level0\" >&nbsp;</th>\n",
       "      <th id=\"T_83168_level0_col0\" class=\"col_heading level0 col0\" >X1</th>\n",
       "      <th id=\"T_83168_level0_col1\" class=\"col_heading level0 col1\" >X2</th>\n",
       "      <th id=\"T_83168_level0_col2\" class=\"col_heading level0 col2\" >X3</th>\n",
       "      <th id=\"T_83168_level0_col3\" class=\"col_heading level0 col3\" >X4</th>\n",
       "      <th id=\"T_83168_level0_col4\" class=\"col_heading level0 col4\" >Y1</th>\n",
       "      <th id=\"T_83168_level0_col5\" class=\"col_heading level0 col5\" >Y2</th>\n",
       "      <th id=\"T_83168_level0_col6\" class=\"col_heading level0 col6\" >Y3</th>\n",
       "      <th id=\"T_83168_level0_col7\" class=\"col_heading level0 col7\" >Y4</th>\n",
       "    </tr>\n",
       "  </thead>\n",
       "  <tbody>\n",
       "    <tr>\n",
       "      <th id=\"T_83168_level0_row0\" class=\"row_heading level0 row0\" >0</th>\n",
       "      <td id=\"T_83168_row0_col0\" class=\"data row0 col0\" >10</td>\n",
       "      <td id=\"T_83168_row0_col1\" class=\"data row0 col1\" >10</td>\n",
       "      <td id=\"T_83168_row0_col2\" class=\"data row0 col2\" >10</td>\n",
       "      <td id=\"T_83168_row0_col3\" class=\"data row0 col3\" >8</td>\n",
       "      <td id=\"T_83168_row0_col4\" class=\"data row0 col4\" >8.040000</td>\n",
       "      <td id=\"T_83168_row0_col5\" class=\"data row0 col5\" >9.140000</td>\n",
       "      <td id=\"T_83168_row0_col6\" class=\"data row0 col6\" >7.460000</td>\n",
       "      <td id=\"T_83168_row0_col7\" class=\"data row0 col7\" >6.580000</td>\n",
       "    </tr>\n",
       "    <tr>\n",
       "      <th id=\"T_83168_level0_row1\" class=\"row_heading level0 row1\" >1</th>\n",
       "      <td id=\"T_83168_row1_col0\" class=\"data row1 col0\" >8</td>\n",
       "      <td id=\"T_83168_row1_col1\" class=\"data row1 col1\" >8</td>\n",
       "      <td id=\"T_83168_row1_col2\" class=\"data row1 col2\" >8</td>\n",
       "      <td id=\"T_83168_row1_col3\" class=\"data row1 col3\" >8</td>\n",
       "      <td id=\"T_83168_row1_col4\" class=\"data row1 col4\" >6.950000</td>\n",
       "      <td id=\"T_83168_row1_col5\" class=\"data row1 col5\" >8.140000</td>\n",
       "      <td id=\"T_83168_row1_col6\" class=\"data row1 col6\" >6.770000</td>\n",
       "      <td id=\"T_83168_row1_col7\" class=\"data row1 col7\" >5.760000</td>\n",
       "    </tr>\n",
       "    <tr>\n",
       "      <th id=\"T_83168_level0_row2\" class=\"row_heading level0 row2\" >2</th>\n",
       "      <td id=\"T_83168_row2_col0\" class=\"data row2 col0\" >13</td>\n",
       "      <td id=\"T_83168_row2_col1\" class=\"data row2 col1\" >13</td>\n",
       "      <td id=\"T_83168_row2_col2\" class=\"data row2 col2\" >13</td>\n",
       "      <td id=\"T_83168_row2_col3\" class=\"data row2 col3\" >8</td>\n",
       "      <td id=\"T_83168_row2_col4\" class=\"data row2 col4\" >7.580000</td>\n",
       "      <td id=\"T_83168_row2_col5\" class=\"data row2 col5\" >8.740000</td>\n",
       "      <td id=\"T_83168_row2_col6\" class=\"data row2 col6\" >12.740000</td>\n",
       "      <td id=\"T_83168_row2_col7\" class=\"data row2 col7\" >7.710000</td>\n",
       "    </tr>\n",
       "    <tr>\n",
       "      <th id=\"T_83168_level0_row3\" class=\"row_heading level0 row3\" >3</th>\n",
       "      <td id=\"T_83168_row3_col0\" class=\"data row3 col0\" >9</td>\n",
       "      <td id=\"T_83168_row3_col1\" class=\"data row3 col1\" >9</td>\n",
       "      <td id=\"T_83168_row3_col2\" class=\"data row3 col2\" >9</td>\n",
       "      <td id=\"T_83168_row3_col3\" class=\"data row3 col3\" >8</td>\n",
       "      <td id=\"T_83168_row3_col4\" class=\"data row3 col4\" >8.810000</td>\n",
       "      <td id=\"T_83168_row3_col5\" class=\"data row3 col5\" >8.770000</td>\n",
       "      <td id=\"T_83168_row3_col6\" class=\"data row3 col6\" >7.110000</td>\n",
       "      <td id=\"T_83168_row3_col7\" class=\"data row3 col7\" >8.840000</td>\n",
       "    </tr>\n",
       "    <tr>\n",
       "      <th id=\"T_83168_level0_row4\" class=\"row_heading level0 row4\" >4</th>\n",
       "      <td id=\"T_83168_row4_col0\" class=\"data row4 col0\" >11</td>\n",
       "      <td id=\"T_83168_row4_col1\" class=\"data row4 col1\" >11</td>\n",
       "      <td id=\"T_83168_row4_col2\" class=\"data row4 col2\" >11</td>\n",
       "      <td id=\"T_83168_row4_col3\" class=\"data row4 col3\" >8</td>\n",
       "      <td id=\"T_83168_row4_col4\" class=\"data row4 col4\" >8.330000</td>\n",
       "      <td id=\"T_83168_row4_col5\" class=\"data row4 col5\" >9.260000</td>\n",
       "      <td id=\"T_83168_row4_col6\" class=\"data row4 col6\" >7.810000</td>\n",
       "      <td id=\"T_83168_row4_col7\" class=\"data row4 col7\" >8.470000</td>\n",
       "    </tr>\n",
       "    <tr>\n",
       "      <th id=\"T_83168_level0_row5\" class=\"row_heading level0 row5\" >5</th>\n",
       "      <td id=\"T_83168_row5_col0\" class=\"data row5 col0\" >14</td>\n",
       "      <td id=\"T_83168_row5_col1\" class=\"data row5 col1\" >14</td>\n",
       "      <td id=\"T_83168_row5_col2\" class=\"data row5 col2\" >14</td>\n",
       "      <td id=\"T_83168_row5_col3\" class=\"data row5 col3\" >8</td>\n",
       "      <td id=\"T_83168_row5_col4\" class=\"data row5 col4\" >9.960000</td>\n",
       "      <td id=\"T_83168_row5_col5\" class=\"data row5 col5\" >8.100000</td>\n",
       "      <td id=\"T_83168_row5_col6\" class=\"data row5 col6\" >8.840000</td>\n",
       "      <td id=\"T_83168_row5_col7\" class=\"data row5 col7\" >7.040000</td>\n",
       "    </tr>\n",
       "    <tr>\n",
       "      <th id=\"T_83168_level0_row6\" class=\"row_heading level0 row6\" >6</th>\n",
       "      <td id=\"T_83168_row6_col0\" class=\"data row6 col0\" >6</td>\n",
       "      <td id=\"T_83168_row6_col1\" class=\"data row6 col1\" >6</td>\n",
       "      <td id=\"T_83168_row6_col2\" class=\"data row6 col2\" >6</td>\n",
       "      <td id=\"T_83168_row6_col3\" class=\"data row6 col3\" >8</td>\n",
       "      <td id=\"T_83168_row6_col4\" class=\"data row6 col4\" >7.240000</td>\n",
       "      <td id=\"T_83168_row6_col5\" class=\"data row6 col5\" >6.130000</td>\n",
       "      <td id=\"T_83168_row6_col6\" class=\"data row6 col6\" >6.080000</td>\n",
       "      <td id=\"T_83168_row6_col7\" class=\"data row6 col7\" >5.250000</td>\n",
       "    </tr>\n",
       "    <tr>\n",
       "      <th id=\"T_83168_level0_row7\" class=\"row_heading level0 row7\" >7</th>\n",
       "      <td id=\"T_83168_row7_col0\" class=\"data row7 col0\" >4</td>\n",
       "      <td id=\"T_83168_row7_col1\" class=\"data row7 col1\" >4</td>\n",
       "      <td id=\"T_83168_row7_col2\" class=\"data row7 col2\" >4</td>\n",
       "      <td id=\"T_83168_row7_col3\" class=\"data row7 col3\" >19</td>\n",
       "      <td id=\"T_83168_row7_col4\" class=\"data row7 col4\" >4.260000</td>\n",
       "      <td id=\"T_83168_row7_col5\" class=\"data row7 col5\" >3.100000</td>\n",
       "      <td id=\"T_83168_row7_col6\" class=\"data row7 col6\" >5.390000</td>\n",
       "      <td id=\"T_83168_row7_col7\" class=\"data row7 col7\" >12.500000</td>\n",
       "    </tr>\n",
       "    <tr>\n",
       "      <th id=\"T_83168_level0_row8\" class=\"row_heading level0 row8\" >8</th>\n",
       "      <td id=\"T_83168_row8_col0\" class=\"data row8 col0\" >12</td>\n",
       "      <td id=\"T_83168_row8_col1\" class=\"data row8 col1\" >12</td>\n",
       "      <td id=\"T_83168_row8_col2\" class=\"data row8 col2\" >12</td>\n",
       "      <td id=\"T_83168_row8_col3\" class=\"data row8 col3\" >8</td>\n",
       "      <td id=\"T_83168_row8_col4\" class=\"data row8 col4\" >10.840000</td>\n",
       "      <td id=\"T_83168_row8_col5\" class=\"data row8 col5\" >9.130000</td>\n",
       "      <td id=\"T_83168_row8_col6\" class=\"data row8 col6\" >8.150000</td>\n",
       "      <td id=\"T_83168_row8_col7\" class=\"data row8 col7\" >5.560000</td>\n",
       "    </tr>\n",
       "    <tr>\n",
       "      <th id=\"T_83168_level0_row9\" class=\"row_heading level0 row9\" >9</th>\n",
       "      <td id=\"T_83168_row9_col0\" class=\"data row9 col0\" >7</td>\n",
       "      <td id=\"T_83168_row9_col1\" class=\"data row9 col1\" >7</td>\n",
       "      <td id=\"T_83168_row9_col2\" class=\"data row9 col2\" >7</td>\n",
       "      <td id=\"T_83168_row9_col3\" class=\"data row9 col3\" >8</td>\n",
       "      <td id=\"T_83168_row9_col4\" class=\"data row9 col4\" >4.820000</td>\n",
       "      <td id=\"T_83168_row9_col5\" class=\"data row9 col5\" >7.260000</td>\n",
       "      <td id=\"T_83168_row9_col6\" class=\"data row9 col6\" >6.420000</td>\n",
       "      <td id=\"T_83168_row9_col7\" class=\"data row9 col7\" >7.910000</td>\n",
       "    </tr>\n",
       "    <tr>\n",
       "      <th id=\"T_83168_level0_row10\" class=\"row_heading level0 row10\" >10</th>\n",
       "      <td id=\"T_83168_row10_col0\" class=\"data row10 col0\" >5</td>\n",
       "      <td id=\"T_83168_row10_col1\" class=\"data row10 col1\" >5</td>\n",
       "      <td id=\"T_83168_row10_col2\" class=\"data row10 col2\" >5</td>\n",
       "      <td id=\"T_83168_row10_col3\" class=\"data row10 col3\" >8</td>\n",
       "      <td id=\"T_83168_row10_col4\" class=\"data row10 col4\" >5.680000</td>\n",
       "      <td id=\"T_83168_row10_col5\" class=\"data row10 col5\" >4.740000</td>\n",
       "      <td id=\"T_83168_row10_col6\" class=\"data row10 col6\" >5.730000</td>\n",
       "      <td id=\"T_83168_row10_col7\" class=\"data row10 col7\" >6.890000</td>\n",
       "    </tr>\n",
       "  </tbody>\n",
       "</table>\n"
      ],
      "text/plain": [
       "<pandas.io.formats.style.Styler at 0x222afada180>"
      ]
     },
     "execution_count": 27,
     "metadata": {},
     "output_type": "execute_result"
    }
   ],
   "source": [
    "def highlight_max(s): # Highlight the maximum in a series yellow\n",
    "\n",
    "    is_max = s == s.max()\n",
    "    return ['background-color: red' if v else '' for v in is_max]\n",
    "\n",
    "anscombe.style.apply(highlight_max)"
   ]
  },
  {
   "cell_type": "markdown",
   "metadata": {},
   "source": [
    "# 3. Dataset Analysis"
   ]
  },
  {
   "cell_type": "markdown",
   "metadata": {},
   "source": [
    "### Plotting Data"
   ]
  },
  {
   "cell_type": "markdown",
   "metadata": {
    "collapsed": true
   },
   "source": [
    "The following graphs below show a scatterplot of each dataset along with their linear regression lines."
   ]
  },
  {
   "cell_type": "code",
   "execution_count": 28,
   "metadata": {
    "collapsed": true
   },
   "outputs": [],
   "source": [
    "anscombe = sns.load_dataset(\"anscombe\") # Load the dataset"
   ]
  },
  {
   "cell_type": "code",
   "execution_count": 29,
   "metadata": {},
   "outputs": [
    {
     "data": {
      "text/html": [
       "<div>\n",
       "<style scoped>\n",
       "    .dataframe tbody tr th:only-of-type {\n",
       "        vertical-align: middle;\n",
       "    }\n",
       "\n",
       "    .dataframe tbody tr th {\n",
       "        vertical-align: top;\n",
       "    }\n",
       "\n",
       "    .dataframe thead th {\n",
       "        text-align: right;\n",
       "    }\n",
       "</style>\n",
       "<table border=\"1\" class=\"dataframe\">\n",
       "  <thead>\n",
       "    <tr style=\"text-align: right;\">\n",
       "      <th></th>\n",
       "      <th>dataset</th>\n",
       "      <th>x</th>\n",
       "      <th>y</th>\n",
       "    </tr>\n",
       "  </thead>\n",
       "  <tbody>\n",
       "    <tr>\n",
       "      <th>0</th>\n",
       "      <td>I</td>\n",
       "      <td>10.0</td>\n",
       "      <td>8.04</td>\n",
       "    </tr>\n",
       "    <tr>\n",
       "      <th>1</th>\n",
       "      <td>I</td>\n",
       "      <td>8.0</td>\n",
       "      <td>6.95</td>\n",
       "    </tr>\n",
       "    <tr>\n",
       "      <th>2</th>\n",
       "      <td>I</td>\n",
       "      <td>13.0</td>\n",
       "      <td>7.58</td>\n",
       "    </tr>\n",
       "    <tr>\n",
       "      <th>3</th>\n",
       "      <td>I</td>\n",
       "      <td>9.0</td>\n",
       "      <td>8.81</td>\n",
       "    </tr>\n",
       "    <tr>\n",
       "      <th>4</th>\n",
       "      <td>I</td>\n",
       "      <td>11.0</td>\n",
       "      <td>8.33</td>\n",
       "    </tr>\n",
       "  </tbody>\n",
       "</table>\n",
       "</div>"
      ],
      "text/plain": [
       "  dataset     x     y\n",
       "0       I  10.0  8.04\n",
       "1       I   8.0  6.95\n",
       "2       I  13.0  7.58\n",
       "3       I   9.0  8.81\n",
       "4       I  11.0  8.33"
      ]
     },
     "execution_count": 29,
     "metadata": {},
     "output_type": "execute_result"
    }
   ],
   "source": [
    "anscombe.head()"
   ]
  },
  {
   "cell_type": "code",
   "execution_count": 30,
   "metadata": {},
   "outputs": [
    {
     "name": "stdout",
     "output_type": "stream",
     "text": [
      "dataset: I 0.8164205163448399\n",
      "dataset: II 0.8162365060002427\n",
      "dataset: III 0.8162867394895984\n",
      "dataset: IV 0.8165214368885028\n"
     ]
    }
   ],
   "source": [
    "for i in anscombe[\"dataset\"].unique():\n",
    "    print(\"dataset:\",i,anscombe[anscombe['dataset'] == i][[\"x\", \"y\"]].corr()['y']['x'])"
   ]
  },
  {
   "cell_type": "code",
   "execution_count": 31,
   "metadata": {},
   "outputs": [
    {
     "data": {
      "image/png": "[encoded data removed]",
      "text/plain": [
       "<Figure size 500x500 with 1 Axes>"
      ]
     },
     "metadata": {},
     "output_type": "display_data"
    }
   ],
   "source": [
    "sns.lmplot(x=\"x\", y=\"y\", data=anscombe.query(\"dataset == 'I'\"),\n",
    "           ci=None, scatter_kws={\"s\": 80}); # Plot data and regression model\n",
    "\n",
    "plt.title(\"Dataset I\") # Add title to the scatterplot\n",
    "\n",
    "plt.show() # Show the graph"
   ]
  },
  {
   "cell_type": "code",
   "execution_count": 32,
   "metadata": {},
   "outputs": [
    {
     "data": {
      "image/png": "[encoded data removed]",
      "text/plain": [
       "<Figure size 500x500 with 1 Axes>"
      ]
     },
     "metadata": {},
     "output_type": "display_data"
    }
   ],
   "source": [
    "sns.lmplot(x=\"x\", y=\"y\", data=anscombe.query(\"dataset == 'II'\"),\n",
    "           ci=None, scatter_kws={\"s\": 80}); # Plot data and regression model\n",
    "\n",
    "plt.title(\"Dataset II\")\n",
    "\n",
    "plt.show() # Show the graph"
   ]
  },
  {
   "cell_type": "code",
   "execution_count": 33,
   "metadata": {},
   "outputs": [
    {
     "data": {
      "image/png": "[encoded data removed]",
      "text/plain": [
       "<Figure size 500x500 with 1 Axes>"
      ]
     },
     "metadata": {},
     "output_type": "display_data"
    }
   ],
   "source": [
    "sns.lmplot(x=\"x\", y=\"y\", data=anscombe.query(\"dataset == 'III'\"),\n",
    "           ci=None, scatter_kws={\"s\": 80}); # Plot data and regression model\n",
    "\n",
    "plt.title(\"Dataset III\") # Add title to the scatterplot\n",
    "\n",
    "plt.show() # Show the graph"
   ]
  },
  {
   "cell_type": "code",
   "execution_count": 34,
   "metadata": {},
   "outputs": [
    {
     "data": {
      "image/png": "[encoded data removed]",
      "text/plain": [
       "<Figure size 500x500 with 1 Axes>"
      ]
     },
     "metadata": {},
     "output_type": "display_data"
    }
   ],
   "source": [
    "sns.lmplot(x=\"x\", y=\"y\", data=anscombe.query(\"dataset == 'IV'\"),\n",
    "           ci=None, scatter_kws={\"s\": 80}); # Plot data and regression model\n",
    "\n",
    "plt.title(\"Dataset IV\") # Add title to the scatterplot\n",
    "\n",
    "plt.show() # Show the graph"
   ]
  },
  {
   "cell_type": "markdown",
   "metadata": {},
   "source": [
    "# Conclusion"
   ]
  },
  {
   "cell_type": "markdown",
   "metadata": {},
   "source": [
    "After plotting same figures on scatterplot graphs, the result is not what I would have expected from just looking at summary statistics. \n",
    "\n",
    "**Dataset I** consists of a set of points that appear to follow a rough linear relationship with some variance.\n",
    "\n",
    "**Dataset II** outputs a curve which doesn’t follow a linear relationship.\n",
    "\n",
    "**Dataset III** looks like a tight linear relationship between x and y, except for one large outlier.\n",
    "\n",
    "**Dataset IV** looks like x remains constant, except for one outlier as well.\n",
    "\n",
    "Looking at these graphs I can see why it’s important to visualize the data to get a clear picture of what’s going on and it's a way of discovering different structures in data. It is clear that summary measures alone cannot adequately characterize a univariate or bivariate data distribution. Calculating summary stats should only be one piece of data analysis. \n",
    "\n",
    "To conclude, I think graphical methods are an important aspect when decision making to obtain true meaning of the data."
   ]
  }
 ],
 "metadata": {
  "kernelspec": {
   "display_name": "Python 3",
   "language": "python",
   "name": "python3"
  },
  "language_info": {
   "codemirror_mode": {
    "name": "ipython",
    "version": 3
   },
   "file_extension": ".py",
   "mimetype": "text/x-python",
   "name": "python",
   "nbconvert_exporter": "python",
   "pygments_lexer": "ipython3",
   "version": "3.12.1"
  }
 },
 "nbformat": 4,
 "nbformat_minor": 2
}
