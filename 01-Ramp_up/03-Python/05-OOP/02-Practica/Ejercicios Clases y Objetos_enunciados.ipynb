{
 "cells": [
  {
   "cell_type": "markdown",
   "metadata": {},
   "source": [
    "![imagen](./img/espectadores.jpg)\n",
    "\n",
    "# Ejercicios Clases y Objetos"
   ]
  },
  {
   "cell_type": "markdown",
   "metadata": {},
   "source": [
    "<table align=\"left\">\n",
    " <tr><td width=\"80\"><img src=\"./img/ejercicio.png\" style=\"width:auto;height:auto\"></td>\n",
    "     <td style=\"text-align:left\">\n",
    "         <h3>Ejercicio. Crea tu clase coche</h3>\n",
    "\n",
    "Crea tu propia clase coche a partir de la que acabamos de ver. La clase coche tiene que llevar un par de atributos comunes a todos los coches, y otros tres que los introduciremos mediante el constructor.\n",
    "         \n",
    " </td></tr>\n",
    "</table>"
   ]
  },
  {
   "cell_type": "code",
   "execution_count": 1,
   "metadata": {},
   "outputs": [],
   "source": [
    "# Usa esta celda para tu respuesta"
   ]
  },
  {
   "cell_type": "markdown",
   "metadata": {},
   "source": [
    "<table align=\"left\">\n",
    " <tr><td width=\"80\"><img src=\"./img/ejercicio.png\" style=\"width:auto;height:auto\"></td>\n",
    "     <td style=\"text-align:left\">\n",
    "         <h3>Ejercicio. Crea nuevos métodos</h3>\n",
    "\n",
    "Crea lo siguiente en la clase coche.\n",
    "<ol>\n",
    "    <li>Introduce dos atributos nuevos en el constructor: Años desde su compra, y precio de compra.</li>\n",
    "    <li>Crea un método nuevo que calcule su precio actual. Si el coche tiene 5 años o menos, su precio será del 50% del precio de compra, en caso de que sean más años, será de un 30%</li>\n",
    "\n",
    "</ol>\n",
    " \n",
    " </td></tr>\n",
    "</table>"
   ]
  },
  {
   "cell_type": "code",
   "execution_count": null,
   "metadata": {},
   "outputs": [],
   "source": [
    "# Usa esta celda para tu respuesta"
   ]
  },
  {
   "cell_type": "markdown",
   "metadata": {},
   "source": [
    "## Ejercicio 1\n",
    "Somos una empresa que tiene varias tiendas de electrodomesticos. Necesitamos un programa para manejar las tiendas, ver las ventas que han tenido, cuántos empleados hay, etc... Para ello vamos a modelizar la tienda en una clase, que tendrá las siguientes características:\n",
    "* Nombre clase: \"Tienda\"\n",
    "* Atributos comunes:\n",
    "    * Tipo: \"Electrodomésticos\"\n",
    "    * Abierta: True\n",
    "* Atributos propios de cada tienda:\n",
    "    * Nombre - String\n",
    "    * Dirección - String\n",
    "    * Número de empleados - int\n",
    "    * Ventas ultimos 3 meses - Lista de 3 numeros\n",
    "* Método para calcular las ventas de todos los meses, que devuelva un numero con todas las ventas.\n",
    "* Método que calcula la media de ventas de los ultimos meses, por empleado\n",
    "* Método que devuelve en un string el nombre de la tienda, junto con su dirección.\n",
    "* Método que obtiene las ventas del último mes.\n",
    "* Método para dar una proyección de las ventas en caso de haber invertido X dinero en marketing en esa tienda. Siendo X el parámetro de entrada. Si X es menor de 1000, las ventas de los ultimos 3 meses hubiesen sido de (1.2 x ventas), si es mayor o igual de 1000, las ventas hubiesen sido de (1.5 x venta). El método reescribe el atributo de ventas en los últimos 3 meses, y además devuelve las ventas con el aumento.\n",
    "\n",
    "Se pide:\n",
    "1. Implementar la clase \"Tienda\"\n",
    "2. Crear tres tiendas con datos inventados\n",
    "3. Comprueba en al menos una de ellas, todo lo implementado en la clase tienda (sus atributos, media de ventas, ventas/empleado...)\n",
    "3. Calcular las ventas del último mes de todas las tiendas. Para ello usa el bucle `for`\n",
    "4. Imprime por pantalla los nombres de las tiendas cuya dirección lleve el string \"Avenida\"\n",
    "5. Seguro que ya has hecho este apartado... Documenta la clase :)"
   ]
  },
  {
   "cell_type": "code",
   "execution_count": 3,
   "metadata": {},
   "outputs": [],
   "source": [
    "from functools import reduce  \n",
    "\n",
    "class Tienda:\n",
    "    def __init__(self, nombre:str, direccion:str, empleados:int, ventas:list):\n",
    "        self.tipo = \"Electrodomesticos\"\n",
    "        self.abierta = True\n",
    "        self.nombre = nombre\n",
    "        self.direccion = direccion\n",
    "        self.empleados = empleados\n",
    "        self.ventas = ventas\n",
    "\n",
    "    def ventas_totales(self):\n",
    "        return reduce(lambda primero, segundo: primero + segundo, self.ventas)\n",
    "\n",
    "    def ventas_por_empleado(self):\n",
    "        return reduce(lambda primero, segundo: primero + segundo, self.ventas)/self.empleados\n",
    "    \n",
    "    def informacion_general(self):\n",
    "        return f'La tienda \"{self.nombre}\" esta situada en {self.direccion}'\n",
    "    \n",
    "    def ventas_ultimo_mes(self):\n",
    "        return self.ventas[-1]\n",
    "    \n",
    "    def marketing(self, X):\n",
    "        if X < 1000:\n",
    "            for indice, venta in enumerate(self.ventas):\n",
    "                self.ventas[indice] = venta * 1.2\n",
    "        elif X >= 1000:\n",
    "            for indice, venta in enumerate(self.ventas):\n",
    "                self.ventas[indice] = venta * 1.5\n",
    "        return self.ventas\n",
    "            \n",
    "      \n",
    "\n"
   ]
  },
  {
   "cell_type": "code",
   "execution_count": 2,
   "metadata": {},
   "outputs": [
    {
     "name": "stdout",
     "output_type": "stream",
     "text": [
      "[100, 200, 203]\n"
     ]
    }
   ],
   "source": [
    "tienda1 = Tienda(\"Electrodomesticos Pedro\", \"Calle tienda 1\", 24, [120, 420, 20])\n",
    "tienda2 = Tienda(\"Electrodomesticos & company\", \"avenida tienda 2\", 24, [110, 320, 220])\n",
    "tienda3 = Tienda(\"Electrodomesticos SL\", \"Calle tienda 3\", 24, [190, 48, 11])\n"
   ]
  },
  {
   "cell_type": "code",
   "execution_count": null,
   "metadata": {},
   "outputs": [],
   "source": [
    "print(tienda1.tipo, tienda1.abierta ,tienda1.nombre, tienda1.direccion, tienda1.empleados, tienda1.ventas)\n",
    "print(tienda1.informacion_general(), tienda1.ventas_totales(), tienda1.ventas_por_empleado(), tienda1.ventas_ultimo_mes(), tienda1.marketing(999))"
   ]
  },
  {
   "cell_type": "code",
   "execution_count": 4,
   "metadata": {},
   "outputs": [],
   "source": [
    "tiendas = [tienda1, tienda2, tienda3]\n",
    "\n",
    "def ultimo_mes(tiendas):\n",
    "    for i in tiendas:\n",
    "        print(f'Las ventas de la tienda {i.nombre} han sido de {i.ventas_ultimo_mes()}€')\n",
    "\n",
    "ultimo_mes(tiendas)"
   ]
  },
  {
   "cell_type": "code",
   "execution_count": 5,
   "metadata": {},
   "outputs": [],
   "source": [
    "import re\n",
    "\n",
    "def tiendas_avenidas(tiendas):\n",
    "    for k in tiendas:\n",
    "        if len(re.findall(\"avenida\", k.direccion, re.I)) > 0:\n",
    "            print(f'La tienda \"{k.nombre}\" se encuentra en una avenida')\n",
    "\n",
    "tiendas_avenidas(tiendas)\n"
   ]
  },
  {
   "cell_type": "code",
   "execution_count": null,
   "metadata": {},
   "outputs": [],
   "source": []
  },
  {
   "cell_type": "code",
   "execution_count": null,
   "metadata": {},
   "outputs": [],
   "source": []
  },
  {
   "cell_type": "code",
   "execution_count": null,
   "metadata": {},
   "outputs": [],
   "source": []
  },
  {
   "cell_type": "markdown",
   "metadata": {},
   "source": [
    "## Ejercicio 2\n",
    "En este ejercicio vamos a implementar una clase *Perro* en Python. La clase tiene las siguientes características:\n",
    "* Cosas que sabemos seguro que tiene un perro\n",
    "    * Tiene 4 patas\n",
    "    * 2 orejas\n",
    "    * 2 ojos\n",
    "    * Una velocidad de 0. Por defecto, el perro está parado\n",
    "* Cuando se inicialice:\n",
    "    * El perro será de una determinada raza\n",
    "    * Por defecto tendrá pelo \"Marrón\", a no ser que se diga lo contrario.\n",
    "    * Por defecto no tendrá dueño, a no ser que se diga lo contrario.\n",
    "    \n",
    "* Dispondrá también de un método llamado andar, que tiene un argumento de entrada (aumento_velocidad). Este valor se le sumará a la velocidad que ya llevaba el perro.\n",
    "* Necesita otro método (parar), donde pondremos la velocidad a 0.\n",
    "* Otro método llamado \"ladrar\", que tendrá un argumento de entrada, y la salida será el siguiente string: \"GUAU!\" + el argumento de entrada.\n",
    "\n",
    "\n",
    "Se pide:\n",
    "* Implementa la clase *Perro*\n",
    "* Crea un objeto de tipo *Perro*, sin dueño\n",
    "* Comprueba que están bien todos sus atributos\n",
    "* Prueba que ande, y comprueba su velocidad\n",
    "* Páralo\n",
    "* Documenta la clase *Perro*"
   ]
  },
  {
   "cell_type": "code",
   "execution_count": null,
   "metadata": {},
   "outputs": [],
   "source": [
    "class Perro:\n",
    "    def __init__(self, raza, pelo = \"Marron\", dueño = None, velocidad = 0):\n",
    "        self.patas = 4\n",
    "        self.orejas = 2\n",
    "        self.ojos = 2\n",
    "        self.raza = raza\n",
    "        self.pelo = pelo\n",
    "        self.dueño = dueño\n",
    "        self.velocidad = velocidad\n",
    "\n",
    "    def andar(self, aumento_velocidad):\n",
    "        self.velocidad = self.velocidad + aumento_velocidad\n",
    "        return self.velocidad\n",
    "\n",
    "    def parar(self):\n",
    "        self.velocidad = 0\n",
    "        return self.velocidad\n",
    "    \n",
    "    def ladrar(self, comentario):\n",
    "        return f'GUAU! {comentario}'\n",
    "\n",
    "\n",
    "\n",
    "labrador = Perro(\"labrador\", \"Blanco\")\n",
    "print(labrador.patas, labrador.orejas, labrador.ojos, labrador.raza, labrador.pelo, labrador.dueño, labrador.velocidad)\n",
    "print(labrador.andar(12))\n",
    "print(labrador.parar())\n",
    "print(labrador.ladrar(\"HOLA\"))"
   ]
  },
  {
   "cell_type": "code",
   "execution_count": null,
   "metadata": {},
   "outputs": [],
   "source": []
  },
  {
   "cell_type": "code",
   "execution_count": null,
   "metadata": {},
   "outputs": [],
   "source": []
  },
  {
   "cell_type": "code",
   "execution_count": null,
   "metadata": {},
   "outputs": [],
   "source": []
  }
 ],
 "metadata": {
  "kernelspec": {
   "display_name": "Python 3",
   "language": "python",
   "name": "python3"
  },
  "language_info": {
   "codemirror_mode": {
    "name": "ipython",
    "version": 3
   },
   "file_extension": ".py",
   "mimetype": "text/x-python",
   "name": "python",
   "nbconvert_exporter": "python",
   "pygments_lexer": "ipython3",
   "version": "3.12.1"
  }
 },
 "nbformat": 4,
 "nbformat_minor": 4
}
