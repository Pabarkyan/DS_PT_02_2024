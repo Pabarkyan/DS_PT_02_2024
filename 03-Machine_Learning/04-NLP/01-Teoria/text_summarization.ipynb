{
 "cells": [
  {
   "cell_type": "markdown",
   "metadata": {},
   "source": [
    "# RESUMEN EXTRACTIVO DE TEXTOS"
   ]
  },
  {
   "cell_type": "markdown",
   "metadata": {},
   "source": [
    "Cargamos un documento"
   ]
  },
  {
   "cell_type": "code",
   "execution_count": 5,
   "metadata": {},
   "outputs": [],
   "source": [
    "DOCUMENT = \"\"\"Del tirón y sin dar opción a su rival a comenzar. \n",
    "La victoria de Rafa Castaño (Sevilla, 32 años) en Pasapalabra fue singular por muchos motivos. \n",
    "Él ha sido el ganador del mayor bote entregado en la historia del programa: 2.272.000 euros. \n",
    "Su enfrentamiento con Orestes Barbero, a lo largo de 197 emisiones en la etapa reciente, a las \n",
    "que habría que sumar las 41 ocasiones en las que ya se midieron en Telecinco, es también historia\n",
    "de los concursos televisivos españoles. Este jueves, en un programa emitido en horario de máxima \n",
    "audiencia y que fue seguido por 4.578.000 espectadores (un espectacular 37,4% de cuota de pantalla), \n",
    "los espectadores de Pasapalabra pudieron ver cómo el sevillano completaba las 25 palabras del \n",
    "Rosco del tirón, de la A a la Z, sin pasar ni una sola vez y sin apenas dudar.\n",
    "\n",
    "“Concentrado estaba como todos los días”, decía este viernes Rafa Castaño a EL PAÍS. \n",
    "Entonces, ¿qué cree que marcó la diferencia para que hiciera esa hazaña nunca vista, resolver todo \n",
    "el Rosco del tirón? “Creo que fue más la dinámica de los Roscos de las últimas semanas, \n",
    "donde de vez en cuando los términos enciclopédicos quizá eran más accesibles. Estudié y \n",
    "repasé muy bien esas últimas semanas algunas listas que tenía de palabras de diccionario \n",
    "y palabras enciclopédicas, y tuve la suerte de atinar con ese estudio”, reflexiona ahora con más calma.\n",
    "Castaño ya es un clásico de los concursos televisivos. Hace 13 años comenzó a probar suerte en ellos \n",
    "en el programa de Canal Sur Adivina quién es quién. Entre 2014 y 2015 participó en el decano de \n",
    "los concursos españoles, Saber y ganar. Allí alcanzó los 100 programas en dos tandas y fue \n",
    "nombrado Supermagnífico al vencer en el torneo de Magníficos (los concursantes que superan los \n",
    "7.000 euros acumulados de premio) de su año. A Pasapalabra llegó cuando todavía se emitía en Telecinco \n",
    "y lo presentaba Christian Gálvez. Allí se le pudo ver en tres ocasiones: en 2015, 2017 y 2019. \n",
    "En esta última etapa fue cuando coincidió con Orestes Barbero por primera vez, y con él \n",
    "compitió en 41 programas, hasta que una sentencia obligó a Telecinco a dejar de emitir el \n",
    "programa. Barbero y Castaño fueron entonces los primeros concursantes de El tirón, \n",
    "el espacio de preguntas y respuestas con el que el canal llenó el hueco dejado por Pasapalabra. \n",
    "Ya en Antena 3, y con Roberto Leal como presentador, Rafa Castaño regresó al concurso el 1 de junio de 2022.\n",
    "\n",
    "Sumando sus participaciones en Antena 3 y en Telecinco, Orestes y Rafa se han enfrentado en 238 tardes \n",
    "en Pasapalabra. La victoria del segundo de este jueves supone la eliminación del programa del primero, \n",
    "según las normas del espacio. Por eso, este colofón tuvo un sabor agridulce para la audiencia, y también \n",
    "para el propio ganador. Sus primeros pensamientos cuando Leal dijo que la última respuesta era correcta \n",
    "fueron para su oponente: “En ese momento se me pasa todo el rato por la cabeza Orestes, la verdad; \n",
    "de ahí mi reacción tan aparentemente fría. No es que estuviera en shock, aunque imagino que también \n",
    "un poquito, sino que sentía algo de tristeza porque no se llevara lo que él también se merecía”, \n",
    "explica el sevillano.\n",
    "\n",
    "La competencia sana y la amistad forjada en estos meses entre el sevillano y el burgalés ha sido \n",
    "patente en pantalla. Por eso, cuando Castaño ganó, pidió disculpas a Barbero. “Sé que para él \n",
    "era un trago muy difícil. Le dije que deseaba de corazón que en unos años volviera a \n",
    "Pasapalabra con un bote bastante alto y se lo llevara, porque es de justicia que se lleve su Rosco. \n",
    "Me parece el mejor concursante de la historia de Pasapalabra, y espero que la vida le premie \n",
    "como se merece”, dice Rafa Castaño. Tras la victoria de su oponente, Orestes, el concursante \n",
    "que acumula más participaciones en el programa, felicitó al ganador y pidió a los espectadores \n",
    "que no sintieran pena por él, que se llevó de premio lo que había acumulado hasta el momento, 215.400 euros.\n",
    "\n",
    "El enfrentamiento entre Orestes y Rafa se ha vivido con especial intensidad en Twitter, donde \n",
    "decenas de seguidores de cada uno se daban cita cada tarde para comentar sus jugadas. \n",
    "Como ha ocurrido en otras ocasiones, algunos de esos comentarios aseguraban que los roscos \n",
    "de los últimos tiempos eran algo más sencillos para Castaño que para Barbero. “A los comentarios \n",
    "hay que hacerle un caso relativo. Estoy seguro de que mucha de las personas que escriben \n",
    "eso realmente no se sabían esas palabras, y si las sabían, les invito a presentarse al \n",
    "programa porque están perdiendo una oportunidad de oro para ganar dinero”, responde el \n",
    "ganador a las acusaciones de favoritismo y de tongo.\n",
    "\n",
    "Rafa Castaño se ha sumado así al selecto grupo de ganadores de Pasapalabra. En esta segunda etapa \n",
    "del concurso en Antena 3, solo tres concursantes han logrado completar el Rosco: Pablo Díaz (1.828.000 euros), \n",
    "Sofía Álvarez (466.000 euros) y Castaño. Otros icónicos ganadores del concurso fueron \n",
    "Fran González (1.542.000 euros), Paz Herrera (1.310.000 euros), David Leo (1.866.000), \n",
    "Antonio Ruiz (1.164.000), Lilit Manukyan (318.000), César Garrido (1.524.000) y \n",
    "Eduardo Benito, que en 2006 y con Jaime Cantizano como presentador, era hasta ahora el \n",
    "ganador del mayor bote del programa, 2.190.000 euros.\n",
    "\n",
    "Castaño había logrado 127.000 euros en esta participación en Pasapalabra. Sin embargo, \n",
    "al ganar el bote, ese dinero no irá a su bolsillo. Tampoco le llegarán los 2.272.000 \n",
    "euros que ha ganado, sino que una parte importante tendrá que destinarla a impuestos. \n",
    "Por un lado, la Agencia Tributaria retiene un 26% del premio, que es reservado directamente \n",
    "por la productora. El resto del dinero tributa en función de la Comunidad Autónoma \n",
    "del declarante, en este caso, Andalucía, con un tipo de IRPF del 23,7%, el máximo allí. \n",
    "Es decir, una vez descontadas las retenciones correspondientes, a Rafa Castaño le quedarán \n",
    "1.212.816 euros del bote de Pasapalabra.\n",
    "\"\"\""
   ]
  },
  {
   "cell_type": "markdown",
   "metadata": {},
   "source": [
    "# Text Wrangling"
   ]
  },
  {
   "cell_type": "markdown",
   "metadata": {},
   "source": [
    "Primero preparamos el texto para su vectorización y obtención de una matriz de características."
   ]
  },
  {
   "cell_type": "code",
   "execution_count": 13,
   "metadata": {},
   "outputs": [],
   "source": [
    "import re\n",
    "\n",
    "DOCUMENT = re.sub(r'\\n|\\r', ' ', DOCUMENT)\n",
    "DOCUMENT = re.sub(r' +', ' ', DOCUMENT)\n",
    "DOCUMENT = DOCUMENT.strip()"
   ]
  },
  {
   "cell_type": "code",
   "execution_count": 14,
   "metadata": {},
   "outputs": [
    {
     "data": {
      "text/plain": [
       "41"
      ]
     },
     "execution_count": 14,
     "metadata": {},
     "output_type": "execute_result"
    }
   ],
   "source": [
    "import nltk\n",
    "\n",
    "sentences = nltk.sent_tokenize(DOCUMENT)\n",
    "len(sentences)"
   ]
  },
  {
   "cell_type": "code",
   "execution_count": 15,
   "metadata": {},
   "outputs": [],
   "source": [
    "import numpy as np\n",
    "import re\n",
    "\n",
    "stop_words = nltk.corpus.stopwords.words('spanish')\n",
    "\n",
    "\n",
    "\n",
    "def normalize_document(doc):\n",
    "    # lower case and remove special characters\\whitespaces\n",
    "    doc = re.sub(r'[^a-zA-ZáéíóúñÁÉÍÓÚ\\s]', '', doc, re.I|re.A)\n",
    "    doc = doc.lower()\n",
    "    doc = doc.strip()\n",
    "    # tokenize document\n",
    "    tokens = nltk.word_tokenize(doc)\n",
    "    # filter stopwords out of document\n",
    "    filtered_tokens = [token for token in tokens if token not in stop_words]\n",
    "    # re-create document from filtered tokens\n",
    "    doc = ' '.join(filtered_tokens)\n",
    "    return doc\n",
    "\n",
    "normalize_corpus = np.vectorize(normalize_document)"
   ]
  },
  {
   "cell_type": "code",
   "execution_count": 16,
   "metadata": {},
   "outputs": [
    {
     "data": {
      "text/plain": [
       "array(['tirón dar opción rival comenzar',\n",
       "       'victoria rafa castaño sevilla años pasapalabra singular motivos',\n",
       "       'sido ganador mayor bote entregado historia programa euros'],\n",
       "      dtype='<U240')"
      ]
     },
     "execution_count": 16,
     "metadata": {},
     "output_type": "execute_result"
    }
   ],
   "source": [
    "norm_sentences = normalize_corpus(sentences)\n",
    "norm_sentences[:3]"
   ]
  },
  {
   "cell_type": "markdown",
   "metadata": {},
   "source": [
    "# Text Representation with Feature Engineering"
   ]
  },
  {
   "cell_type": "code",
   "execution_count": 50,
   "metadata": {
    "scrolled": true
   },
   "outputs": [
    {
     "name": "stdout",
     "output_type": "stream",
     "text": [
      "(325, 41)\n",
      "tam vocab: 325\n"
     ]
    },
    {
     "data": {
      "text/html": [
       "<div>\n",
       "<style scoped>\n",
       "    .dataframe tbody tr th:only-of-type {\n",
       "        vertical-align: middle;\n",
       "    }\n",
       "\n",
       "    .dataframe tbody tr th {\n",
       "        vertical-align: top;\n",
       "    }\n",
       "\n",
       "    .dataframe thead th {\n",
       "        text-align: right;\n",
       "    }\n",
       "</style>\n",
       "<table border=\"1\" class=\"dataframe\">\n",
       "  <thead>\n",
       "    <tr style=\"text-align: right;\">\n",
       "      <th></th>\n",
       "      <th>0</th>\n",
       "      <th>1</th>\n",
       "      <th>2</th>\n",
       "      <th>3</th>\n",
       "      <th>4</th>\n",
       "      <th>5</th>\n",
       "      <th>6</th>\n",
       "      <th>7</th>\n",
       "      <th>8</th>\n",
       "      <th>9</th>\n",
       "      <th>...</th>\n",
       "      <th>31</th>\n",
       "      <th>32</th>\n",
       "      <th>33</th>\n",
       "      <th>34</th>\n",
       "      <th>35</th>\n",
       "      <th>36</th>\n",
       "      <th>37</th>\n",
       "      <th>38</th>\n",
       "      <th>39</th>\n",
       "      <th>40</th>\n",
       "    </tr>\n",
       "  </thead>\n",
       "  <tbody>\n",
       "    <tr>\n",
       "      <th>accesibles</th>\n",
       "      <td>0.0</td>\n",
       "      <td>0.0</td>\n",
       "      <td>0.0</td>\n",
       "      <td>0.0</td>\n",
       "      <td>0.0</td>\n",
       "      <td>0.0</td>\n",
       "      <td>0.0</td>\n",
       "      <td>0.33</td>\n",
       "      <td>0.00</td>\n",
       "      <td>0.0</td>\n",
       "      <td>...</td>\n",
       "      <td>0.0</td>\n",
       "      <td>0.00</td>\n",
       "      <td>0.0</td>\n",
       "      <td>0.00</td>\n",
       "      <td>0.0</td>\n",
       "      <td>0.0</td>\n",
       "      <td>0.0</td>\n",
       "      <td>0.00</td>\n",
       "      <td>0.0</td>\n",
       "      <td>0.0</td>\n",
       "    </tr>\n",
       "    <tr>\n",
       "      <th>acumula</th>\n",
       "      <td>0.0</td>\n",
       "      <td>0.0</td>\n",
       "      <td>0.0</td>\n",
       "      <td>0.0</td>\n",
       "      <td>0.0</td>\n",
       "      <td>0.0</td>\n",
       "      <td>0.0</td>\n",
       "      <td>0.00</td>\n",
       "      <td>0.00</td>\n",
       "      <td>0.0</td>\n",
       "      <td>...</td>\n",
       "      <td>0.0</td>\n",
       "      <td>0.00</td>\n",
       "      <td>0.0</td>\n",
       "      <td>0.00</td>\n",
       "      <td>0.0</td>\n",
       "      <td>0.0</td>\n",
       "      <td>0.0</td>\n",
       "      <td>0.00</td>\n",
       "      <td>0.0</td>\n",
       "      <td>0.0</td>\n",
       "    </tr>\n",
       "    <tr>\n",
       "      <th>acumulado</th>\n",
       "      <td>0.0</td>\n",
       "      <td>0.0</td>\n",
       "      <td>0.0</td>\n",
       "      <td>0.0</td>\n",
       "      <td>0.0</td>\n",
       "      <td>0.0</td>\n",
       "      <td>0.0</td>\n",
       "      <td>0.00</td>\n",
       "      <td>0.00</td>\n",
       "      <td>0.0</td>\n",
       "      <td>...</td>\n",
       "      <td>0.0</td>\n",
       "      <td>0.00</td>\n",
       "      <td>0.0</td>\n",
       "      <td>0.00</td>\n",
       "      <td>0.0</td>\n",
       "      <td>0.0</td>\n",
       "      <td>0.0</td>\n",
       "      <td>0.00</td>\n",
       "      <td>0.0</td>\n",
       "      <td>0.0</td>\n",
       "    </tr>\n",
       "    <tr>\n",
       "      <th>acumulados</th>\n",
       "      <td>0.0</td>\n",
       "      <td>0.0</td>\n",
       "      <td>0.0</td>\n",
       "      <td>0.0</td>\n",
       "      <td>0.0</td>\n",
       "      <td>0.0</td>\n",
       "      <td>0.0</td>\n",
       "      <td>0.00</td>\n",
       "      <td>0.00</td>\n",
       "      <td>0.0</td>\n",
       "      <td>...</td>\n",
       "      <td>0.0</td>\n",
       "      <td>0.00</td>\n",
       "      <td>0.0</td>\n",
       "      <td>0.00</td>\n",
       "      <td>0.0</td>\n",
       "      <td>0.0</td>\n",
       "      <td>0.0</td>\n",
       "      <td>0.00</td>\n",
       "      <td>0.0</td>\n",
       "      <td>0.0</td>\n",
       "    </tr>\n",
       "    <tr>\n",
       "      <th>acusaciones</th>\n",
       "      <td>0.0</td>\n",
       "      <td>0.0</td>\n",
       "      <td>0.0</td>\n",
       "      <td>0.0</td>\n",
       "      <td>0.0</td>\n",
       "      <td>0.0</td>\n",
       "      <td>0.0</td>\n",
       "      <td>0.00</td>\n",
       "      <td>0.00</td>\n",
       "      <td>0.0</td>\n",
       "      <td>...</td>\n",
       "      <td>0.0</td>\n",
       "      <td>0.19</td>\n",
       "      <td>0.0</td>\n",
       "      <td>0.00</td>\n",
       "      <td>0.0</td>\n",
       "      <td>0.0</td>\n",
       "      <td>0.0</td>\n",
       "      <td>0.00</td>\n",
       "      <td>0.0</td>\n",
       "      <td>0.0</td>\n",
       "    </tr>\n",
       "    <tr>\n",
       "      <th>adivina</th>\n",
       "      <td>0.0</td>\n",
       "      <td>0.0</td>\n",
       "      <td>0.0</td>\n",
       "      <td>0.0</td>\n",
       "      <td>0.0</td>\n",
       "      <td>0.0</td>\n",
       "      <td>0.0</td>\n",
       "      <td>0.00</td>\n",
       "      <td>0.00</td>\n",
       "      <td>0.0</td>\n",
       "      <td>...</td>\n",
       "      <td>0.0</td>\n",
       "      <td>0.00</td>\n",
       "      <td>0.0</td>\n",
       "      <td>0.00</td>\n",
       "      <td>0.0</td>\n",
       "      <td>0.0</td>\n",
       "      <td>0.0</td>\n",
       "      <td>0.00</td>\n",
       "      <td>0.0</td>\n",
       "      <td>0.0</td>\n",
       "    </tr>\n",
       "    <tr>\n",
       "      <th>agencia</th>\n",
       "      <td>0.0</td>\n",
       "      <td>0.0</td>\n",
       "      <td>0.0</td>\n",
       "      <td>0.0</td>\n",
       "      <td>0.0</td>\n",
       "      <td>0.0</td>\n",
       "      <td>0.0</td>\n",
       "      <td>0.00</td>\n",
       "      <td>0.00</td>\n",
       "      <td>0.0</td>\n",
       "      <td>...</td>\n",
       "      <td>0.0</td>\n",
       "      <td>0.00</td>\n",
       "      <td>0.0</td>\n",
       "      <td>0.00</td>\n",
       "      <td>0.0</td>\n",
       "      <td>0.0</td>\n",
       "      <td>0.0</td>\n",
       "      <td>0.36</td>\n",
       "      <td>0.0</td>\n",
       "      <td>0.0</td>\n",
       "    </tr>\n",
       "    <tr>\n",
       "      <th>agridulce</th>\n",
       "      <td>0.0</td>\n",
       "      <td>0.0</td>\n",
       "      <td>0.0</td>\n",
       "      <td>0.0</td>\n",
       "      <td>0.0</td>\n",
       "      <td>0.0</td>\n",
       "      <td>0.0</td>\n",
       "      <td>0.00</td>\n",
       "      <td>0.00</td>\n",
       "      <td>0.0</td>\n",
       "      <td>...</td>\n",
       "      <td>0.0</td>\n",
       "      <td>0.00</td>\n",
       "      <td>0.0</td>\n",
       "      <td>0.00</td>\n",
       "      <td>0.0</td>\n",
       "      <td>0.0</td>\n",
       "      <td>0.0</td>\n",
       "      <td>0.00</td>\n",
       "      <td>0.0</td>\n",
       "      <td>0.0</td>\n",
       "    </tr>\n",
       "    <tr>\n",
       "      <th>ahora</th>\n",
       "      <td>0.0</td>\n",
       "      <td>0.0</td>\n",
       "      <td>0.0</td>\n",
       "      <td>0.0</td>\n",
       "      <td>0.0</td>\n",
       "      <td>0.0</td>\n",
       "      <td>0.0</td>\n",
       "      <td>0.00</td>\n",
       "      <td>0.23</td>\n",
       "      <td>0.0</td>\n",
       "      <td>...</td>\n",
       "      <td>0.0</td>\n",
       "      <td>0.00</td>\n",
       "      <td>0.0</td>\n",
       "      <td>0.18</td>\n",
       "      <td>0.0</td>\n",
       "      <td>0.0</td>\n",
       "      <td>0.0</td>\n",
       "      <td>0.00</td>\n",
       "      <td>0.0</td>\n",
       "      <td>0.0</td>\n",
       "    </tr>\n",
       "    <tr>\n",
       "      <th>ahí</th>\n",
       "      <td>0.0</td>\n",
       "      <td>0.0</td>\n",
       "      <td>0.0</td>\n",
       "      <td>0.0</td>\n",
       "      <td>0.0</td>\n",
       "      <td>0.0</td>\n",
       "      <td>0.0</td>\n",
       "      <td>0.00</td>\n",
       "      <td>0.00</td>\n",
       "      <td>0.0</td>\n",
       "      <td>...</td>\n",
       "      <td>0.0</td>\n",
       "      <td>0.00</td>\n",
       "      <td>0.0</td>\n",
       "      <td>0.00</td>\n",
       "      <td>0.0</td>\n",
       "      <td>0.0</td>\n",
       "      <td>0.0</td>\n",
       "      <td>0.00</td>\n",
       "      <td>0.0</td>\n",
       "      <td>0.0</td>\n",
       "    </tr>\n",
       "  </tbody>\n",
       "</table>\n",
       "<p>10 rows × 41 columns</p>\n",
       "</div>"
      ],
      "text/plain": [
       "              0    1    2    3    4    5    6     7     8    9   ...   31  \\\n",
       "accesibles   0.0  0.0  0.0  0.0  0.0  0.0  0.0  0.33  0.00  0.0  ...  0.0   \n",
       "acumula      0.0  0.0  0.0  0.0  0.0  0.0  0.0  0.00  0.00  0.0  ...  0.0   \n",
       "acumulado    0.0  0.0  0.0  0.0  0.0  0.0  0.0  0.00  0.00  0.0  ...  0.0   \n",
       "acumulados   0.0  0.0  0.0  0.0  0.0  0.0  0.0  0.00  0.00  0.0  ...  0.0   \n",
       "acusaciones  0.0  0.0  0.0  0.0  0.0  0.0  0.0  0.00  0.00  0.0  ...  0.0   \n",
       "adivina      0.0  0.0  0.0  0.0  0.0  0.0  0.0  0.00  0.00  0.0  ...  0.0   \n",
       "agencia      0.0  0.0  0.0  0.0  0.0  0.0  0.0  0.00  0.00  0.0  ...  0.0   \n",
       "agridulce    0.0  0.0  0.0  0.0  0.0  0.0  0.0  0.00  0.00  0.0  ...  0.0   \n",
       "ahora        0.0  0.0  0.0  0.0  0.0  0.0  0.0  0.00  0.23  0.0  ...  0.0   \n",
       "ahí          0.0  0.0  0.0  0.0  0.0  0.0  0.0  0.00  0.00  0.0  ...  0.0   \n",
       "\n",
       "               32   33    34   35   36   37    38   39   40  \n",
       "accesibles   0.00  0.0  0.00  0.0  0.0  0.0  0.00  0.0  0.0  \n",
       "acumula      0.00  0.0  0.00  0.0  0.0  0.0  0.00  0.0  0.0  \n",
       "acumulado    0.00  0.0  0.00  0.0  0.0  0.0  0.00  0.0  0.0  \n",
       "acumulados   0.00  0.0  0.00  0.0  0.0  0.0  0.00  0.0  0.0  \n",
       "acusaciones  0.19  0.0  0.00  0.0  0.0  0.0  0.00  0.0  0.0  \n",
       "adivina      0.00  0.0  0.00  0.0  0.0  0.0  0.00  0.0  0.0  \n",
       "agencia      0.00  0.0  0.00  0.0  0.0  0.0  0.36  0.0  0.0  \n",
       "agridulce    0.00  0.0  0.00  0.0  0.0  0.0  0.00  0.0  0.0  \n",
       "ahora        0.00  0.0  0.18  0.0  0.0  0.0  0.00  0.0  0.0  \n",
       "ahí          0.00  0.0  0.00  0.0  0.0  0.0  0.00  0.0  0.0  \n",
       "\n",
       "[10 rows x 41 columns]"
      ]
     },
     "execution_count": 50,
     "metadata": {},
     "output_type": "execute_result"
    }
   ],
   "source": [
    "from sklearn.feature_extraction.text import TfidfVectorizer\n",
    "import pandas as pd\n",
    "\n",
    "tv = TfidfVectorizer(min_df=0., max_df=1., use_idf=True)\n",
    "dt_matrix = tv.fit_transform(norm_sentences)\n",
    "dt_matrix = dt_matrix.toarray()\n",
    "\n",
    "vocab = tv.get_feature_names_out()\n",
    "td_matrix = dt_matrix.T\n",
    "print(td_matrix.shape)\n",
    "print(\"tam vocab: %d\" %(len(vocab)))\n",
    "pd.DataFrame(np.round(td_matrix, 2), index=vocab).head(10)"
   ]
  },
  {
   "cell_type": "code",
   "execution_count": null,
   "metadata": {},
   "outputs": [],
   "source": []
  },
  {
   "cell_type": "markdown",
   "metadata": {},
   "source": [
    "Vamos a obtener el resumen extractivo (seleccionando frases existentes) a través de dos formas \"tradicionales\" (sin redes, ni modelos preentrenados)                            \n",
    "1. Análisis de Semantica Latente (proyección de los vectores similar a la utilizada en la PCA)\n",
    "2. Aplicando un algoritmo similar al pagerank pero para ordenar por importancia las frases de un texto: TextRank"
   ]
  },
  {
   "cell_type": "markdown",
   "metadata": {},
   "source": [
    "# Latent Semantic Analysis"
   ]
  },
  {
   "cell_type": "markdown",
   "metadata": {},
   "source": [
    "Básicamente hacemos una proyección a un espacio k-dimensional de cada sentencia usando descomposición matemática en valores sencillos, de forma muy parecida a como haríamos una PCA (Convertimos el vector sentencia con n dimensiones, siendo n el tamaño del vocabulario extraído por el vectorizer, en un vector con k dimensiones). \n",
    "\n",
    "Y luego nos quedamos con las sentecias cuyo vector proyectado tiene mayor módulo."
   ]
  },
  {
   "cell_type": "code",
   "execution_count": 51,
   "metadata": {},
   "outputs": [],
   "source": [
    "from scipy.sparse.linalg import svds # Hecho utilizando scipy\n",
    "    \n",
    "def low_rank_svd(matrix, singular_count=2):\n",
    "    u, s, vt = svds(matrix, k=singular_count)\n",
    "    return u, s, vt"
   ]
  },
  {
   "cell_type": "code",
   "execution_count": 52,
   "metadata": {},
   "outputs": [],
   "source": [
    "from numpy.linalg import svd # Hecho utilizando numpy\n",
    "\n",
    "def low_rank_svd_np(matrix, singular_count = 2):\n",
    "    u, s, vt = svd(matrix)\n",
    "    u_ = u[:,:singular_count]\n",
    "    s_ = s[:singular_count]\n",
    "    vt_ = vt[:singular_count,:]\n",
    "    return u_, s_, vt_"
   ]
  },
  {
   "cell_type": "code",
   "execution_count": 59,
   "metadata": {},
   "outputs": [
    {
     "name": "stdout",
     "output_type": "stream",
     "text": [
      "(325, 6) (6,) (6, 41)\n"
     ]
    }
   ],
   "source": [
    "num_sentences = 10\n",
    "num_topics = 6\n",
    "\n",
    "u, s, vt = low_rank_svd(td_matrix, singular_count=num_topics)  \n",
    "print(u.shape, s.shape, vt.shape)\n",
    "term_topic_mat, singular_values, topic_document_mat = u, s, vt"
   ]
  },
  {
   "cell_type": "code",
   "execution_count": 60,
   "metadata": {},
   "outputs": [],
   "source": [
    "# remove singular values below threshold                                         \n",
    "sv_threshold = 0.2\n",
    "min_sigma_value = max(singular_values) * sv_threshold\n",
    "singular_values[singular_values < min_sigma_value] = 0"
   ]
  },
  {
   "cell_type": "code",
   "execution_count": 61,
   "metadata": {},
   "outputs": [
    {
     "data": {
      "text/plain": [
       "array([3.02255591e-01, 6.22625329e-01, 6.95310637e-01, 7.59078387e-01,\n",
       "       5.66839513e-01, 4.43783188e-01, 3.98525384e-01, 2.37461803e-01,\n",
       "       2.71927986e-01, 6.24629550e-01, 3.12833079e-01, 6.47459224e-01,\n",
       "       4.33828649e-01, 3.03634676e-01, 4.59652414e-01, 5.82740016e-01,\n",
       "       5.59713705e-01, 4.97917519e-01, 6.17973936e-01, 3.67392763e-01,\n",
       "       2.78400140e-01, 4.09609720e-01, 1.55190623e-01, 2.56066675e-01,\n",
       "       4.23424742e-01, 2.82174043e-16, 4.13690845e-01, 4.39013871e-01,\n",
       "       5.88233278e-01, 3.21297178e-01, 5.71112904e-01, 2.99681284e-01,\n",
       "       4.51554657e-01, 6.62039889e-01, 6.58784119e-01, 6.51784534e-01,\n",
       "       5.53537880e-01, 3.22698001e-01, 1.38155521e-01, 2.77898834e-01,\n",
       "       5.54575799e-01])"
      ]
     },
     "execution_count": 61,
     "metadata": {},
     "output_type": "execute_result"
    }
   ],
   "source": [
    "salience_scores = np.sqrt(np.dot(np.square(singular_values), \n",
    "                                 np.square(topic_document_mat)))\n",
    "salience_scores"
   ]
  },
  {
   "cell_type": "code",
   "execution_count": 62,
   "metadata": {},
   "outputs": [],
   "source": [
    "top_sentence_indices = (-salience_scores).argsort()[:num_sentences]\n",
    "top_sentence_indices.sort()"
   ]
  },
  {
   "cell_type": "code",
   "execution_count": 63,
   "metadata": {},
   "outputs": [
    {
     "name": "stdout",
     "output_type": "stream",
     "text": [
      "La victoria de Rafa Castaño (Sevilla, 32 años) en Pasapalabra fue singular por muchos motivos.\n",
      "Él ha sido el ganador del mayor bote entregado en la historia del programa: 2.272.000 euros.\n",
      "Su enfrentamiento con Orestes Barbero, a lo largo de 197 emisiones en la etapa reciente, a las que habría que sumar las 41 ocasiones en las que ya se midieron en Telecinco, es también historia de los concursos televisivos españoles.\n",
      "Castaño ya es un clásico de los concursos televisivos.\n",
      "Entre 2014 y 2015 participó en el decano de los concursos españoles, Saber y ganar.\n",
      "Sumando sus participaciones en Antena 3 y en Telecinco, Orestes y Rafa se han enfrentado en 238 tardes en Pasapalabra.\n",
      "Tras la victoria de su oponente, Orestes, el concursante que acumula más participaciones en el programa, felicitó al ganador y pidió a los espectadores que no sintieran pena por él, que se llevó de premio lo que había acumulado hasta el momento, 215.400 euros.\n",
      "En esta segunda etapa del concurso en Antena 3, solo tres concursantes han logrado completar el Rosco: Pablo Díaz (1.828.000 euros), Sofía Álvarez (466.000 euros) y Castaño.\n",
      "Otros icónicos ganadores del concurso fueron Fran González (1.542.000 euros), Paz Herrera (1.310.000 euros), David Leo (1.866.000), Antonio Ruiz (1.164.000), Lilit Manukyan (318.000), César Garrido (1.524.000) y Eduardo Benito, que en 2006 y con Jaime Cantizano como presentador, era hasta ahora el ganador del mayor bote del programa, 2.190.000 euros.\n",
      "Castaño había logrado 127.000 euros en esta participación en Pasapalabra.\n"
     ]
    }
   ],
   "source": [
    "print('\\n'.join(np.array(sentences)[top_sentence_indices]))"
   ]
  },
  {
   "cell_type": "markdown",
   "metadata": {},
   "source": [
    "# TextRank"
   ]
  },
  {
   "cell_type": "code",
   "execution_count": 68,
   "metadata": {},
   "outputs": [
    {
     "name": "stdout",
     "output_type": "stream",
     "text": [
      "(41, 41)\n"
     ]
    },
    {
     "data": {
      "text/plain": [
       "array([[1.   , 0.   , 0.   , ..., 0.   , 0.   , 0.   ],\n",
       "       [0.   , 1.   , 0.   , ..., 0.   , 0.   , 0.16 ],\n",
       "       [0.   , 0.   , 1.   , ..., 0.   , 0.   , 0.148],\n",
       "       ...,\n",
       "       [0.   , 0.   , 0.   , ..., 1.   , 0.   , 0.   ],\n",
       "       [0.   , 0.   , 0.   , ..., 0.   , 1.   , 0.   ],\n",
       "       [0.   , 0.16 , 0.148, ..., 0.   , 0.   , 1.   ]])"
      ]
     },
     "execution_count": 68,
     "metadata": {},
     "output_type": "execute_result"
    }
   ],
   "source": [
    "similarity_matrix = np.matmul(dt_matrix, dt_matrix.T)\n",
    "print(similarity_matrix.shape)\n",
    "np.round(similarity_matrix, 3)"
   ]
  },
  {
   "cell_type": "code",
   "execution_count": 69,
   "metadata": {},
   "outputs": [
    {
     "data": {
      "text/plain": [
       "<networkx.classes.graph.Graph at 0x1237f7208>"
      ]
     },
     "execution_count": 69,
     "metadata": {},
     "output_type": "execute_result"
    }
   ],
   "source": [
    "import networkx\n",
    "\n",
    "similarity_graph = networkx.from_numpy_array(similarity_matrix)\n",
    "similarity_graph"
   ]
  },
  {
   "cell_type": "code",
   "execution_count": 70,
   "metadata": {},
   "outputs": [
    {
     "data": {
      "image/png": "[encoded data removed]",
      "text/plain": [
       "<Figure size 864x432 with 1 Axes>"
      ]
     },
     "metadata": {},
     "output_type": "display_data"
    }
   ],
   "source": [
    "import matplotlib.pyplot as plt\n",
    "%matplotlib inline\n",
    "\n",
    "plt.figure(figsize=(12, 6))\n",
    "networkx.draw_networkx(similarity_graph, node_color='lime')"
   ]
  },
  {
   "cell_type": "code",
   "execution_count": 71,
   "metadata": {},
   "outputs": [
    {
     "data": {
      "text/plain": [
       "'“Sé que para él era un trago muy difícil.'"
      ]
     },
     "execution_count": 71,
     "metadata": {},
     "output_type": "execute_result"
    }
   ],
   "source": [
    "sentences[25]"
   ]
  },
  {
   "cell_type": "code",
   "execution_count": 91,
   "metadata": {
    "scrolled": false
   },
   "outputs": [
    {
     "data": {
      "text/plain": [
       "[(0.03390345087210479, 40),\n",
       " (0.03351581048160777, 35),\n",
       " (0.03181077201620076, 2),\n",
       " (0.031165263089103366, 33),\n",
       " (0.03053845706078777, 1),\n",
       " (0.030097866812611406, 28),\n",
       " (0.02998003976758232, 16),\n",
       " (0.029578041615230245, 3),\n",
       " (0.028919663590837762, 4),\n",
       " (0.028535931395325082, 18)]"
      ]
     },
     "execution_count": 91,
     "metadata": {},
     "output_type": "execute_result"
    }
   ],
   "source": [
    "scores = networkx.pagerank(similarity_graph)\n",
    "ranked_sentences = sorted(((score, index) for index, score \n",
    "                                            in scores.items()), \n",
    "                          reverse=True)\n",
    "ranked_sentences[:10]"
   ]
  },
  {
   "cell_type": "code",
   "execution_count": 95,
   "metadata": {},
   "outputs": [],
   "source": [
    "top_sentence_indices = [ranked_sentences[index][1] \n",
    "                        for index in range(num_sentences)]\n",
    "top_sentence_indices.sort()"
   ]
  },
  {
   "cell_type": "code",
   "execution_count": 96,
   "metadata": {},
   "outputs": [
    {
     "name": "stdout",
     "output_type": "stream",
     "text": [
      "La victoria de Rafa Castaño (Sevilla, 32 años) en Pasapalabra fue singular por muchos motivos.\n",
      "Él ha sido el ganador del mayor bote entregado en la historia del programa: 2.272.000 euros.\n",
      "Su enfrentamiento con Orestes Barbero, a lo largo de 197 emisiones en la etapa reciente, a las que habría que sumar las 41 ocasiones en las que ya se midieron en Telecinco, es también historia de los concursos televisivos españoles.\n",
      "Este jueves, en un programa emitido en horario de máxima audiencia y que fue seguido por 4.578.000 espectadores (un espectacular 37,4% de cuota de pantalla), los espectadores de Pasapalabra pudieron ver cómo el sevillano completaba las 25 palabras del Rosco del tirón, de la A a la Z, sin pasar ni una sola vez y sin apenas dudar.\n",
      "Barbero y Castaño fueron entonces los primeros concursantes de El tirón, el espacio de preguntas y respuestas con el que el canal llenó el hueco dejado por Pasapalabra.\n",
      "Sumando sus participaciones en Antena 3 y en Telecinco, Orestes y Rafa se han enfrentado en 238 tardes en Pasapalabra.\n",
      "Tras la victoria de su oponente, Orestes, el concursante que acumula más participaciones en el programa, felicitó al ganador y pidió a los espectadores que no sintieran pena por él, que se llevó de premio lo que había acumulado hasta el momento, 215.400 euros.\n",
      "En esta segunda etapa del concurso en Antena 3, solo tres concursantes han logrado completar el Rosco: Pablo Díaz (1.828.000 euros), Sofía Álvarez (466.000 euros) y Castaño.\n",
      "Castaño había logrado 127.000 euros en esta participación en Pasapalabra.\n",
      "Es decir, una vez descontadas las retenciones correspondientes, a Rafa Castaño le quedarán 1.212.816 euros del bote de Pasapalabra.\n"
     ]
    }
   ],
   "source": [
    "print('\\n'.join(np.array(sentences)[top_sentence_indices]))"
   ]
  }
 ],
 "metadata": {
  "kernelspec": {
   "display_name": "Python 3",
   "language": "python",
   "name": "python3"
  },
  "language_info": {
   "codemirror_mode": {
    "name": "ipython",
    "version": 3
   },
   "file_extension": ".py",
   "mimetype": "text/x-python",
   "name": "python",
   "nbconvert_exporter": "python",
   "pygments_lexer": "ipython3",
   "version": "3.7.2"
  }
 },
 "nbformat": 4,
 "nbformat_minor": 2
}
