{
 "cells": [
  {
   "cell_type": "markdown",
   "metadata": {},
   "source": [
    "### AJUSTANDO REDES DL PARA NLP DE CLASIFICACION"
   ]
  },
  {
   "cell_type": "markdown",
   "metadata": {},
   "source": [
    "Descarga la información de reviews de IMDB tal y como hemos hecho en clase."
   ]
  },
  {
   "cell_type": "code",
   "execution_count": null,
   "metadata": {},
   "outputs": [],
   "source": []
  },
  {
   "attachments": {},
   "cell_type": "markdown",
   "metadata": {},
   "source": [
    "Construye los datasets de train, validation y test igual que en clase"
   ]
  },
  {
   "cell_type": "markdown",
   "metadata": {},
   "source": []
  },
  {
   "attachments": {},
   "cell_type": "markdown",
   "metadata": {},
   "source": [
    "Construye la capa de vectorización para que ahora extraiga ella el tamaño de la secuencia a partir del dataset de entrada.\n",
    "Adaptala al dataset de entrada, recuerda que tienes que crearte otro que no tenga el target incluido (en el notebook de clase tienes cómo hacerlo con una función lambda)"
   ]
  },
  {
   "cell_type": "markdown",
   "metadata": {},
   "source": []
  },
  {
   "cell_type": "markdown",
   "metadata": {},
   "source": [
    "Construye el modelo sin recurrentes que vimos en clase, pero haz que el número de neuronas de la capa densa que hace la regresión dependa de una variable (por ejemplo num_dense_neurons). Inicializa esta variable igualandola al número de dimensiones del embedding. "
   ]
  },
  {
   "cell_type": "code",
   "execution_count": null,
   "metadata": {},
   "outputs": [],
   "source": []
  },
  {
   "attachments": {},
   "cell_type": "markdown",
   "metadata": {},
   "source": [
    "Compila y entrena con la misma configuración de dimensiones de embedding y tamaño de vocabulario que en clase (10000), y el mismo número de épocas (15)"
   ]
  },
  {
   "cell_type": "code",
   "execution_count": null,
   "metadata": {},
   "outputs": [],
   "source": []
  },
  {
   "cell_type": "markdown",
   "metadata": {},
   "source": [
    "Evalua el modelo"
   ]
  },
  {
   "cell_type": "code",
   "execution_count": null,
   "metadata": {},
   "outputs": [],
   "source": []
  },
  {
   "cell_type": "markdown",
   "metadata": {},
   "source": [
    "Ahora juega con las dimensiones de salida de la capa de embedding y con el número de neuronas de la capa densa (siempre como un factor de las dimensiones de emmbeding) y logra que el modelo tenga una accuracy superior al 85% en validación. NO JUEGUES CON LAS EPOCAS, todavía"
   ]
  },
  {
   "cell_type": "code",
   "execution_count": null,
   "metadata": {},
   "outputs": [],
   "source": []
  },
  {
   "cell_type": "markdown",
   "metadata": {},
   "source": [
    "Aumenta el número de épocas hasta conseguir la mejor accuracy posible con la configuración de embeddings y neuronas del paso anterior. Hazlo en un solo entrenamiento (pista, tendrás que usar un callback)"
   ]
  },
  {
   "cell_type": "code",
   "execution_count": null,
   "metadata": {},
   "outputs": [],
   "source": []
  },
  {
   "cell_type": "markdown",
   "metadata": {},
   "source": [
    "Evalúalo contra test"
   ]
  },
  {
   "cell_type": "code",
   "execution_count": null,
   "metadata": {},
   "outputs": [],
   "source": []
  },
  {
   "cell_type": "markdown",
   "metadata": {},
   "source": [
    "### VOLUNTARIO\n",
    "Haz el mismo ejercicio utilizando una red recurrente"
   ]
  },
  {
   "cell_type": "code",
   "execution_count": null,
   "metadata": {},
   "outputs": [],
   "source": []
  }
 ],
 "metadata": {
  "language_info": {
   "name": "python"
  },
  "orig_nbformat": 4
 },
 "nbformat": 4,
 "nbformat_minor": 2
}
