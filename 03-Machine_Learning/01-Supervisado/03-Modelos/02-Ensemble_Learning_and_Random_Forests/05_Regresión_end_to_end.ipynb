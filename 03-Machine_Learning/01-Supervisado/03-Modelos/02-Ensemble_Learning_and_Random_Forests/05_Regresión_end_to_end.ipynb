{
 "cells": [
  {
   "cell_type": "markdown",
   "metadata": {},
   "source": [
    "# Modelos de Regresión. End to End\n",
    "## Predecir la calidad del vino\n",
    "## data/winequality-red\n"
   ]
  },
  {
   "cell_type": "code",
   "execution_count": null,
   "metadata": {},
   "outputs": [],
   "source": [
    "# Decision Tree, Bagging, Pasting, RandomForest, ExtraTrees y AdaBoost"
   ]
  }
 ],
 "metadata": {
  "kernelspec": {
   "display_name": "Python 3",
   "language": "python",
   "name": "python3"
  },
  "language_info": {
   "name": "python",
   "version": "3.12.1"
  }
 },
 "nbformat": 4,
 "nbformat_minor": 2
}
