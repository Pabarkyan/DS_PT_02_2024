{
 "cells": [
  {
   "cell_type": "markdown",
   "metadata": {},
   "source": [
    "# Introducción al ensamblado de modelos"
   ]
  },
  {
   "cell_type": "code",
   "execution_count": 2,
   "metadata": {},
   "outputs": [],
   "source": [
    "# vamos a repasar Programación Orientada a Objetos\n",
    "# Crear la clase Modelo que se inicializa con se inicializa con un atributo\n",
    "# Tiene la función es_leche que recibe un parámetro\n",
    "# Devuelve True si ese parámetro coincide con el atributo inicial\n",
    "# Devuelve False en caso contrario\n",
    "# Ejemplo:\n",
    "# modelo = Modelo(\"lactosa\")\n",
    "# modelo.es_leche(\"lactosa\") <-- True\n",
    "# modelo.es_leche(\"fructosa\") <-- False\n",
    "class Modelo:\n",
    "    def __init__(self, atr):\n",
    "        self.atributo = atr\n",
    "\n",
    "    def es_leche(self, caracteritica):\n",
    "        return self.atributo == caracteritica"
   ]
  },
  {
   "cell_type": "code",
   "execution_count": 3,
   "metadata": {},
   "outputs": [],
   "source": [
    "# Todo lo que es blanco, es leche\n",
    "modelo_1 = Modelo(\"blanco\")\n",
    "# Todo lo que es líquido, es leche\n",
    "modelo_2 = Modelo(\"líquido\")\n",
    "# Todo lo que es de origen animal, es leche\n",
    "modelo_3 = Modelo(\"animal\")"
   ]
  },
  {
   "cell_type": "code",
   "execution_count": 4,
   "metadata": {},
   "outputs": [],
   "source": [
    "# predecir para zumo de naranja, azúcar, chorizo y leche\n",
    "# Lista de atributos: \n",
    "# 0: color\n",
    "# 1: estado\n",
    "# 2: origen\n",
    "zumo_naranja = [\"naranja\", \"líquido\", \"vegetal\"]\n",
    "azucar = [\"blanco\", \"sólido\", \"vegetal\"]\n",
    "chorizo = [\"rojo\", \"solido\", \"animal\"]\n",
    "leche = [\"blanco\", \"líquido\", \"animal\"]\n"
   ]
  },
  {
   "cell_type": "code",
   "execution_count": 6,
   "metadata": {},
   "outputs": [
    {
     "name": "stdout",
     "output_type": "stream",
     "text": [
      "False\n",
      "True\n",
      "False\n",
      "True\n",
      "accuracy 0.75\n"
     ]
    }
   ],
   "source": [
    "# Calcular accuracy y matriz de confusión\n",
    "print(modelo_1.es_leche(zumo_naranja[0]))\n",
    "print(modelo_1.es_leche(azucar[0]))\n",
    "print(modelo_1.es_leche(chorizo[0]))\n",
    "print(modelo_1.es_leche(leche[0]))\n",
    "print(\"accuracy\", 3/4)"
   ]
  },
  {
   "cell_type": "code",
   "execution_count": 9,
   "metadata": {},
   "outputs": [
    {
     "name": "stdout",
     "output_type": "stream",
     "text": [
      "True\n",
      "False\n",
      "False\n",
      "True\n"
     ]
    }
   ],
   "source": [
    "# Similar para modelo_2\n",
    "# Calcular accuracy y matriz de confusión\n",
    "print(modelo_2.es_leche(zumo_naranja[1]))\n",
    "print(modelo_2.es_leche(azucar[1]))\n",
    "print(modelo_2.es_leche(chorizo[1]))\n",
    "print(modelo_2.es_leche(leche[1]))"
   ]
  },
  {
   "cell_type": "code",
   "execution_count": 11,
   "metadata": {},
   "outputs": [
    {
     "name": "stdout",
     "output_type": "stream",
     "text": [
      "False\n",
      "False\n",
      "True\n",
      "True\n"
     ]
    }
   ],
   "source": [
    "# Similar para modelo_3\n",
    "# Calcular accuracy y matriz de confusión\n",
    "print(modelo_3.es_leche(zumo_naranja[2]))\n",
    "print(modelo_3.es_leche(azucar[2]))\n",
    "print(modelo_3.es_leche(chorizo[2]))\n",
    "print(modelo_3.es_leche(leche[2]))"
   ]
  },
  {
   "cell_type": "markdown",
   "metadata": {},
   "source": [
    "Los tres modelos son bastante malos... por separado.\n",
    "\n",
    "¿Qué sucedería si damos un voto a cada modelo y solo si el objeto (zumo, azucar, chorizo, leche) obtiene la mayoría de votos decimos que pertenece a la categoría leche?"
   ]
  },
  {
   "cell_type": "code",
   "execution_count": 13,
   "metadata": {},
   "outputs": [],
   "source": [
    "# Repetir para azucar, chorizo y leche\n",
    "votos_zumo = modelo_1.es_leche(zumo_naranja[0]) + modelo_2.es_leche(zumo_naranja[1]) + modelo_3.es_leche(zumo_naranja[2])"
   ]
  },
  {
   "cell_type": "code",
   "execution_count": 14,
   "metadata": {},
   "outputs": [],
   "source": [
    "votos_chorizo = modelo_1.es_leche(chorizo[0]) + modelo_2.es_leche(chorizo[1]) + modelo_3.es_leche(chorizo[2])"
   ]
  },
  {
   "cell_type": "code",
   "execution_count": 16,
   "metadata": {},
   "outputs": [],
   "source": [
    "votos_leche = modelo_1.es_leche(leche[0]) + modelo_2.es_leche(leche[1]) + modelo_3.es_leche(leche[2])"
   ]
  },
  {
   "cell_type": "code",
   "execution_count": 17,
   "metadata": {},
   "outputs": [],
   "source": [
    "votos_azucar = modelo_1.es_leche(azucar[0]) + modelo_2.es_leche(azucar[1]) + modelo_3.es_leche(azucar[2])"
   ]
  },
  {
   "cell_type": "markdown",
   "metadata": {},
   "source": [
    "# Ahora con Árboles de Decisión"
   ]
  },
  {
   "cell_type": "code",
   "execution_count": 44,
   "metadata": {},
   "outputs": [],
   "source": [
    "# https://www.kaggle.com/code/caesarlupum/modeling-give-me-some-credit\n",
    "import pandas as pd\n",
    "data = pd.read_csv(\"data/train.csv\")"
   ]
  },
  {
   "cell_type": "code",
   "execution_count": 20,
   "metadata": {},
   "outputs": [
    {
     "name": "stdout",
     "output_type": "stream",
     "text": [
      "<class 'pandas.core.frame.DataFrame'>\n",
      "RangeIndex: 73363 entries, 0 to 73362\n",
      "Data columns (total 12 columns):\n",
      " #   Column                                Non-Null Count  Dtype  \n",
      "---  ------                                --------------  -----  \n",
      " 0   Id                                    73363 non-null  int64  \n",
      " 1   target                                73363 non-null  int64  \n",
      " 2   RevolvingUtilizationOfUnsecuredLines  73363 non-null  float64\n",
      " 3   age                                   73363 non-null  object \n",
      " 4   NumberOfTime30-59DaysPastDueNotWorse  73363 non-null  int64  \n",
      " 5   DebtRatio                             73363 non-null  float64\n",
      " 6   MonthlyIncome                         58796 non-null  float64\n",
      " 7   NumberOfOpenCreditLinesAndLoans       73363 non-null  int64  \n",
      " 8   NumberOfTimes90DaysLate               73363 non-null  int64  \n",
      " 9   NumberRealEstateLoansOrLines          73363 non-null  int64  \n",
      " 10  NumberOfTime60-89DaysPastDueNotWorse  73363 non-null  int64  \n",
      " 11  NumberOfDependents                    71421 non-null  float64\n",
      "dtypes: float64(4), int64(7), object(1)\n",
      "memory usage: 6.7+ MB\n"
     ]
    }
   ],
   "source": [
    "# Info y describe dataset\n",
    "data.info()"
   ]
  },
  {
   "cell_type": "code",
   "execution_count": 51,
   "metadata": {},
   "outputs": [
    {
     "data": {
      "text/html": [
       "<div>\n",
       "<style scoped>\n",
       "    .dataframe tbody tr th:only-of-type {\n",
       "        vertical-align: middle;\n",
       "    }\n",
       "\n",
       "    .dataframe tbody tr th {\n",
       "        vertical-align: top;\n",
       "    }\n",
       "\n",
       "    .dataframe thead th {\n",
       "        text-align: right;\n",
       "    }\n",
       "</style>\n",
       "<table border=\"1\" class=\"dataframe\">\n",
       "  <thead>\n",
       "    <tr style=\"text-align: right;\">\n",
       "      <th></th>\n",
       "      <th>target</th>\n",
       "      <th>RevolvingUtilizationOfUnsecuredLines</th>\n",
       "      <th>age</th>\n",
       "      <th>NumberOfTime30-59DaysPastDueNotWorse</th>\n",
       "      <th>DebtRatio</th>\n",
       "      <th>MonthlyIncome</th>\n",
       "      <th>NumberOfOpenCreditLinesAndLoans</th>\n",
       "      <th>NumberOfTimes90DaysLate</th>\n",
       "      <th>NumberRealEstateLoansOrLines</th>\n",
       "      <th>NumberOfTime60-89DaysPastDueNotWorse</th>\n",
       "      <th>NumberOfDependents</th>\n",
       "    </tr>\n",
       "  </thead>\n",
       "  <tbody>\n",
       "    <tr>\n",
       "      <th>count</th>\n",
       "      <td>73363.000000</td>\n",
       "      <td>73363.000000</td>\n",
       "      <td>73363.000000</td>\n",
       "      <td>73363.000000</td>\n",
       "      <td>73363.000000</td>\n",
       "      <td>5.879600e+04</td>\n",
       "      <td>73363.000000</td>\n",
       "      <td>73363.000000</td>\n",
       "      <td>73363.000000</td>\n",
       "      <td>73363.000000</td>\n",
       "      <td>71421.000000</td>\n",
       "    </tr>\n",
       "    <tr>\n",
       "      <th>mean</th>\n",
       "      <td>0.065919</td>\n",
       "      <td>5.884904</td>\n",
       "      <td>52.362908</td>\n",
       "      <td>0.410507</td>\n",
       "      <td>359.752537</td>\n",
       "      <td>6.649145e+03</td>\n",
       "      <td>8.443916</td>\n",
       "      <td>0.256546</td>\n",
       "      <td>1.019928</td>\n",
       "      <td>0.231847</td>\n",
       "      <td>0.755506</td>\n",
       "    </tr>\n",
       "    <tr>\n",
       "      <th>std</th>\n",
       "      <td>0.248142</td>\n",
       "      <td>235.508449</td>\n",
       "      <td>14.781089</td>\n",
       "      <td>4.090014</td>\n",
       "      <td>2477.648064</td>\n",
       "      <td>1.046163e+04</td>\n",
       "      <td>5.142232</td>\n",
       "      <td>4.066573</td>\n",
       "      <td>1.136357</td>\n",
       "      <td>4.052280</td>\n",
       "      <td>1.111715</td>\n",
       "    </tr>\n",
       "    <tr>\n",
       "      <th>min</th>\n",
       "      <td>0.000000</td>\n",
       "      <td>0.000000</td>\n",
       "      <td>0.000000</td>\n",
       "      <td>0.000000</td>\n",
       "      <td>0.000000</td>\n",
       "      <td>0.000000e+00</td>\n",
       "      <td>0.000000</td>\n",
       "      <td>0.000000</td>\n",
       "      <td>0.000000</td>\n",
       "      <td>0.000000</td>\n",
       "      <td>0.000000</td>\n",
       "    </tr>\n",
       "    <tr>\n",
       "      <th>25%</th>\n",
       "      <td>0.000000</td>\n",
       "      <td>0.029752</td>\n",
       "      <td>41.000000</td>\n",
       "      <td>0.000000</td>\n",
       "      <td>0.173446</td>\n",
       "      <td>3.400000e+03</td>\n",
       "      <td>5.000000</td>\n",
       "      <td>0.000000</td>\n",
       "      <td>0.000000</td>\n",
       "      <td>0.000000</td>\n",
       "      <td>0.000000</td>\n",
       "    </tr>\n",
       "    <tr>\n",
       "      <th>50%</th>\n",
       "      <td>0.000000</td>\n",
       "      <td>0.154688</td>\n",
       "      <td>52.000000</td>\n",
       "      <td>0.000000</td>\n",
       "      <td>0.365737</td>\n",
       "      <td>5.400000e+03</td>\n",
       "      <td>8.000000</td>\n",
       "      <td>0.000000</td>\n",
       "      <td>1.000000</td>\n",
       "      <td>0.000000</td>\n",
       "      <td>0.000000</td>\n",
       "    </tr>\n",
       "    <tr>\n",
       "      <th>75%</th>\n",
       "      <td>0.000000</td>\n",
       "      <td>0.558686</td>\n",
       "      <td>63.000000</td>\n",
       "      <td>0.000000</td>\n",
       "      <td>0.863514</td>\n",
       "      <td>8.300000e+03</td>\n",
       "      <td>11.000000</td>\n",
       "      <td>0.000000</td>\n",
       "      <td>2.000000</td>\n",
       "      <td>0.000000</td>\n",
       "      <td>1.000000</td>\n",
       "    </tr>\n",
       "    <tr>\n",
       "      <th>max</th>\n",
       "      <td>1.000000</td>\n",
       "      <td>29110.000000</td>\n",
       "      <td>105.000000</td>\n",
       "      <td>98.000000</td>\n",
       "      <td>329664.000000</td>\n",
       "      <td>1.560100e+06</td>\n",
       "      <td>57.000000</td>\n",
       "      <td>98.000000</td>\n",
       "      <td>32.000000</td>\n",
       "      <td>98.000000</td>\n",
       "      <td>13.000000</td>\n",
       "    </tr>\n",
       "  </tbody>\n",
       "</table>\n",
       "</div>"
      ],
      "text/plain": [
       "             target  RevolvingUtilizationOfUnsecuredLines           age  \\\n",
       "count  73363.000000                          73363.000000  73363.000000   \n",
       "mean       0.065919                              5.884904     52.362908   \n",
       "std        0.248142                            235.508449     14.781089   \n",
       "min        0.000000                              0.000000      0.000000   \n",
       "25%        0.000000                              0.029752     41.000000   \n",
       "50%        0.000000                              0.154688     52.000000   \n",
       "75%        0.000000                              0.558686     63.000000   \n",
       "max        1.000000                          29110.000000    105.000000   \n",
       "\n",
       "       NumberOfTime30-59DaysPastDueNotWorse      DebtRatio  MonthlyIncome  \\\n",
       "count                          73363.000000   73363.000000   5.879600e+04   \n",
       "mean                               0.410507     359.752537   6.649145e+03   \n",
       "std                                4.090014    2477.648064   1.046163e+04   \n",
       "min                                0.000000       0.000000   0.000000e+00   \n",
       "25%                                0.000000       0.173446   3.400000e+03   \n",
       "50%                                0.000000       0.365737   5.400000e+03   \n",
       "75%                                0.000000       0.863514   8.300000e+03   \n",
       "max                               98.000000  329664.000000   1.560100e+06   \n",
       "\n",
       "       NumberOfOpenCreditLinesAndLoans  NumberOfTimes90DaysLate  \\\n",
       "count                     73363.000000             73363.000000   \n",
       "mean                          8.443916                 0.256546   \n",
       "std                           5.142232                 4.066573   \n",
       "min                           0.000000                 0.000000   \n",
       "25%                           5.000000                 0.000000   \n",
       "50%                           8.000000                 0.000000   \n",
       "75%                          11.000000                 0.000000   \n",
       "max                          57.000000                98.000000   \n",
       "\n",
       "       NumberRealEstateLoansOrLines  NumberOfTime60-89DaysPastDueNotWorse  \\\n",
       "count                  73363.000000                          73363.000000   \n",
       "mean                       1.019928                              0.231847   \n",
       "std                        1.136357                              4.052280   \n",
       "min                        0.000000                              0.000000   \n",
       "25%                        0.000000                              0.000000   \n",
       "50%                        1.000000                              0.000000   \n",
       "75%                        2.000000                              0.000000   \n",
       "max                       32.000000                             98.000000   \n",
       "\n",
       "       NumberOfDependents  \n",
       "count        71421.000000  \n",
       "mean             0.755506  \n",
       "std              1.111715  \n",
       "min              0.000000  \n",
       "25%              0.000000  \n",
       "50%              0.000000  \n",
       "75%              1.000000  \n",
       "max             13.000000  "
      ]
     },
     "execution_count": 51,
     "metadata": {},
     "output_type": "execute_result"
    }
   ],
   "source": [
    "data.describe()"
   ]
  },
  {
   "cell_type": "code",
   "execution_count": 22,
   "metadata": {},
   "outputs": [
    {
     "data": {
      "text/html": [
       "<div>\n",
       "<style scoped>\n",
       "    .dataframe tbody tr th:only-of-type {\n",
       "        vertical-align: middle;\n",
       "    }\n",
       "\n",
       "    .dataframe tbody tr th {\n",
       "        vertical-align: top;\n",
       "    }\n",
       "\n",
       "    .dataframe thead th {\n",
       "        text-align: right;\n",
       "    }\n",
       "</style>\n",
       "<table border=\"1\" class=\"dataframe\">\n",
       "  <thead>\n",
       "    <tr style=\"text-align: right;\">\n",
       "      <th></th>\n",
       "      <th>Id</th>\n",
       "      <th>target</th>\n",
       "      <th>RevolvingUtilizationOfUnsecuredLines</th>\n",
       "      <th>age</th>\n",
       "      <th>NumberOfTime30-59DaysPastDueNotWorse</th>\n",
       "      <th>DebtRatio</th>\n",
       "      <th>MonthlyIncome</th>\n",
       "      <th>NumberOfOpenCreditLinesAndLoans</th>\n",
       "      <th>NumberOfTimes90DaysLate</th>\n",
       "      <th>NumberRealEstateLoansOrLines</th>\n",
       "      <th>NumberOfTime60-89DaysPastDueNotWorse</th>\n",
       "      <th>NumberOfDependents</th>\n",
       "    </tr>\n",
       "  </thead>\n",
       "  <tbody>\n",
       "    <tr>\n",
       "      <th>0</th>\n",
       "      <td>44164</td>\n",
       "      <td>0</td>\n",
       "      <td>0.768219</td>\n",
       "      <td>68y</td>\n",
       "      <td>1</td>\n",
       "      <td>0.687930</td>\n",
       "      <td>2178.0</td>\n",
       "      <td>12</td>\n",
       "      <td>0</td>\n",
       "      <td>1</td>\n",
       "      <td>0</td>\n",
       "      <td>0.0</td>\n",
       "    </tr>\n",
       "    <tr>\n",
       "      <th>1</th>\n",
       "      <td>95356</td>\n",
       "      <td>0</td>\n",
       "      <td>0.289873</td>\n",
       "      <td>52y</td>\n",
       "      <td>0</td>\n",
       "      <td>0.385497</td>\n",
       "      <td>3750.0</td>\n",
       "      <td>16</td>\n",
       "      <td>0</td>\n",
       "      <td>1</td>\n",
       "      <td>0</td>\n",
       "      <td>1.0</td>\n",
       "    </tr>\n",
       "    <tr>\n",
       "      <th>2</th>\n",
       "      <td>108917</td>\n",
       "      <td>0</td>\n",
       "      <td>0.000000</td>\n",
       "      <td>54y</td>\n",
       "      <td>0</td>\n",
       "      <td>0.346503</td>\n",
       "      <td>6833.0</td>\n",
       "      <td>8</td>\n",
       "      <td>0</td>\n",
       "      <td>1</td>\n",
       "      <td>0</td>\n",
       "      <td>0.0</td>\n",
       "    </tr>\n",
       "    <tr>\n",
       "      <th>3</th>\n",
       "      <td>99039</td>\n",
       "      <td>0</td>\n",
       "      <td>0.046064</td>\n",
       "      <td>66y</td>\n",
       "      <td>1</td>\n",
       "      <td>0.407614</td>\n",
       "      <td>5200.0</td>\n",
       "      <td>6</td>\n",
       "      <td>0</td>\n",
       "      <td>1</td>\n",
       "      <td>0</td>\n",
       "      <td>1.0</td>\n",
       "    </tr>\n",
       "    <tr>\n",
       "      <th>4</th>\n",
       "      <td>116168</td>\n",
       "      <td>0</td>\n",
       "      <td>0.168771</td>\n",
       "      <td>45y</td>\n",
       "      <td>0</td>\n",
       "      <td>4702.000000</td>\n",
       "      <td>NaN</td>\n",
       "      <td>10</td>\n",
       "      <td>0</td>\n",
       "      <td>3</td>\n",
       "      <td>0</td>\n",
       "      <td>1.0</td>\n",
       "    </tr>\n",
       "  </tbody>\n",
       "</table>\n",
       "</div>"
      ],
      "text/plain": [
       "       Id  target  RevolvingUtilizationOfUnsecuredLines  age  \\\n",
       "0   44164       0                              0.768219  68y   \n",
       "1   95356       0                              0.289873  52y   \n",
       "2  108917       0                              0.000000  54y   \n",
       "3   99039       0                              0.046064  66y   \n",
       "4  116168       0                              0.168771  45y   \n",
       "\n",
       "   NumberOfTime30-59DaysPastDueNotWorse    DebtRatio  MonthlyIncome  \\\n",
       "0                                     1     0.687930         2178.0   \n",
       "1                                     0     0.385497         3750.0   \n",
       "2                                     0     0.346503         6833.0   \n",
       "3                                     1     0.407614         5200.0   \n",
       "4                                     0  4702.000000            NaN   \n",
       "\n",
       "   NumberOfOpenCreditLinesAndLoans  NumberOfTimes90DaysLate  \\\n",
       "0                               12                        0   \n",
       "1                               16                        0   \n",
       "2                                8                        0   \n",
       "3                                6                        0   \n",
       "4                               10                        0   \n",
       "\n",
       "   NumberRealEstateLoansOrLines  NumberOfTime60-89DaysPastDueNotWorse  \\\n",
       "0                             1                                     0   \n",
       "1                             1                                     0   \n",
       "2                             1                                     0   \n",
       "3                             1                                     0   \n",
       "4                             3                                     0   \n",
       "\n",
       "   NumberOfDependents  \n",
       "0                 0.0  \n",
       "1                 1.0  \n",
       "2                 0.0  \n",
       "3                 1.0  \n",
       "4                 1.0  "
      ]
     },
     "execution_count": 22,
     "metadata": {},
     "output_type": "execute_result"
    }
   ],
   "source": [
    "data.head()"
   ]
  },
  {
   "cell_type": "code",
   "execution_count": 25,
   "metadata": {},
   "outputs": [
    {
     "data": {
      "text/plain": [
       "0"
      ]
     },
     "execution_count": 25,
     "metadata": {},
     "output_type": "execute_result"
    }
   ],
   "source": [
    "data['Id'].duplicated().sum() # Es unico"
   ]
  },
  {
   "cell_type": "code",
   "execution_count": 26,
   "metadata": {},
   "outputs": [
    {
     "data": {
      "text/plain": [
       "target\n",
       "0    0.934081\n",
       "1    0.065919\n",
       "Name: proportion, dtype: float64"
      ]
     },
     "execution_count": 26,
     "metadata": {},
     "output_type": "execute_result"
    }
   ],
   "source": [
    "data['target'].value_counts(normalize=True)"
   ]
  },
  {
   "cell_type": "code",
   "execution_count": 45,
   "metadata": {},
   "outputs": [
    {
     "data": {
      "text/plain": [
       "1.316257683430009"
      ]
     },
     "execution_count": 45,
     "metadata": {},
     "output_type": "execute_result"
    }
   ],
   "source": [
    "data['RevolvingUtilizationOfUnsecuredLines'].quantile(0.995)"
   ]
  },
  {
   "cell_type": "code",
   "execution_count": 46,
   "metadata": {},
   "outputs": [],
   "source": [
    "data['age'] = data['age'].apply(lambda x: int(x.replace(\"y\", \"\")))"
   ]
  },
  {
   "cell_type": "code",
   "execution_count": 48,
   "metadata": {},
   "outputs": [],
   "source": [
    "data.drop([\"Id\"], axis=1, inplace=True, errors=\"ignore\")"
   ]
  },
  {
   "cell_type": "code",
   "execution_count": 50,
   "metadata": {},
   "outputs": [
    {
     "data": {
      "text/html": [
       "<div>\n",
       "<style scoped>\n",
       "    .dataframe tbody tr th:only-of-type {\n",
       "        vertical-align: middle;\n",
       "    }\n",
       "\n",
       "    .dataframe tbody tr th {\n",
       "        vertical-align: top;\n",
       "    }\n",
       "\n",
       "    .dataframe thead th {\n",
       "        text-align: right;\n",
       "    }\n",
       "</style>\n",
       "<table border=\"1\" class=\"dataframe\">\n",
       "  <thead>\n",
       "    <tr style=\"text-align: right;\">\n",
       "      <th></th>\n",
       "      <th>target</th>\n",
       "      <th>RevolvingUtilizationOfUnsecuredLines</th>\n",
       "      <th>age</th>\n",
       "      <th>NumberOfTime30-59DaysPastDueNotWorse</th>\n",
       "      <th>DebtRatio</th>\n",
       "      <th>MonthlyIncome</th>\n",
       "      <th>NumberOfOpenCreditLinesAndLoans</th>\n",
       "      <th>NumberOfTimes90DaysLate</th>\n",
       "      <th>NumberRealEstateLoansOrLines</th>\n",
       "      <th>NumberOfTime60-89DaysPastDueNotWorse</th>\n",
       "      <th>NumberOfDependents</th>\n",
       "    </tr>\n",
       "  </thead>\n",
       "  <tbody>\n",
       "    <tr>\n",
       "      <th>0</th>\n",
       "      <td>0</td>\n",
       "      <td>0.768219</td>\n",
       "      <td>68</td>\n",
       "      <td>1</td>\n",
       "      <td>0.687930</td>\n",
       "      <td>2178.0</td>\n",
       "      <td>12</td>\n",
       "      <td>0</td>\n",
       "      <td>1</td>\n",
       "      <td>0</td>\n",
       "      <td>0.0</td>\n",
       "    </tr>\n",
       "    <tr>\n",
       "      <th>1</th>\n",
       "      <td>0</td>\n",
       "      <td>0.289873</td>\n",
       "      <td>52</td>\n",
       "      <td>0</td>\n",
       "      <td>0.385497</td>\n",
       "      <td>3750.0</td>\n",
       "      <td>16</td>\n",
       "      <td>0</td>\n",
       "      <td>1</td>\n",
       "      <td>0</td>\n",
       "      <td>1.0</td>\n",
       "    </tr>\n",
       "    <tr>\n",
       "      <th>2</th>\n",
       "      <td>0</td>\n",
       "      <td>0.000000</td>\n",
       "      <td>54</td>\n",
       "      <td>0</td>\n",
       "      <td>0.346503</td>\n",
       "      <td>6833.0</td>\n",
       "      <td>8</td>\n",
       "      <td>0</td>\n",
       "      <td>1</td>\n",
       "      <td>0</td>\n",
       "      <td>0.0</td>\n",
       "    </tr>\n",
       "    <tr>\n",
       "      <th>3</th>\n",
       "      <td>0</td>\n",
       "      <td>0.046064</td>\n",
       "      <td>66</td>\n",
       "      <td>1</td>\n",
       "      <td>0.407614</td>\n",
       "      <td>5200.0</td>\n",
       "      <td>6</td>\n",
       "      <td>0</td>\n",
       "      <td>1</td>\n",
       "      <td>0</td>\n",
       "      <td>1.0</td>\n",
       "    </tr>\n",
       "    <tr>\n",
       "      <th>4</th>\n",
       "      <td>0</td>\n",
       "      <td>0.168771</td>\n",
       "      <td>45</td>\n",
       "      <td>0</td>\n",
       "      <td>4702.000000</td>\n",
       "      <td>NaN</td>\n",
       "      <td>10</td>\n",
       "      <td>0</td>\n",
       "      <td>3</td>\n",
       "      <td>0</td>\n",
       "      <td>1.0</td>\n",
       "    </tr>\n",
       "  </tbody>\n",
       "</table>\n",
       "</div>"
      ],
      "text/plain": [
       "   target  RevolvingUtilizationOfUnsecuredLines  age  \\\n",
       "0       0                              0.768219   68   \n",
       "1       0                              0.289873   52   \n",
       "2       0                              0.000000   54   \n",
       "3       0                              0.046064   66   \n",
       "4       0                              0.168771   45   \n",
       "\n",
       "   NumberOfTime30-59DaysPastDueNotWorse    DebtRatio  MonthlyIncome  \\\n",
       "0                                     1     0.687930         2178.0   \n",
       "1                                     0     0.385497         3750.0   \n",
       "2                                     0     0.346503         6833.0   \n",
       "3                                     1     0.407614         5200.0   \n",
       "4                                     0  4702.000000            NaN   \n",
       "\n",
       "   NumberOfOpenCreditLinesAndLoans  NumberOfTimes90DaysLate  \\\n",
       "0                               12                        0   \n",
       "1                               16                        0   \n",
       "2                                8                        0   \n",
       "3                                6                        0   \n",
       "4                               10                        0   \n",
       "\n",
       "   NumberRealEstateLoansOrLines  NumberOfTime60-89DaysPastDueNotWorse  \\\n",
       "0                             1                                     0   \n",
       "1                             1                                     0   \n",
       "2                             1                                     0   \n",
       "3                             1                                     0   \n",
       "4                             3                                     0   \n",
       "\n",
       "   NumberOfDependents  \n",
       "0                 0.0  \n",
       "1                 1.0  \n",
       "2                 0.0  \n",
       "3                 1.0  \n",
       "4                 1.0  "
      ]
     },
     "execution_count": 50,
     "metadata": {},
     "output_type": "execute_result"
    }
   ],
   "source": [
    "# Transformaciones necesarias\n",
    "data.head()"
   ]
  },
  {
   "cell_type": "code",
   "execution_count": 53,
   "metadata": {},
   "outputs": [
    {
     "data": {
      "text/plain": [
       "target                                  1.000000\n",
       "RevolvingUtilizationOfUnsecuredLines   -0.000057\n",
       "age                                    -0.113796\n",
       "NumberOfTime30-59DaysPastDueNotWorse    0.118269\n",
       "DebtRatio                              -0.007099\n",
       "MonthlyIncome                          -0.026549\n",
       "NumberOfOpenCreditLinesAndLoans        -0.025422\n",
       "NumberOfTimes90DaysLate                 0.110286\n",
       "NumberRealEstateLoansOrLines           -0.001227\n",
       "NumberOfTime60-89DaysPastDueNotWorse    0.094685\n",
       "NumberOfDependents                      0.042542\n",
       "Name: target, dtype: float64"
      ]
     },
     "execution_count": 53,
     "metadata": {},
     "output_type": "execute_result"
    }
   ],
   "source": [
    "data.corr()['target']"
   ]
  },
  {
   "cell_type": "code",
   "execution_count": null,
   "metadata": {},
   "outputs": [],
   "source": [
    "X = \n",
    "y = \n",
    "\n"
   ]
  },
  {
   "cell_type": "code",
   "execution_count": null,
   "metadata": {},
   "outputs": [],
   "source": [
    "# Hacer una función con todo y probar diversos arboles StratifiedShuffleSplit\n",
    "from sklearn.model_selection import StratifiedShuffleSplit\n",
    "\n",
    "split = StratifiedShuffleSplit(n_splits=1, test_size=0.2, random_state=1453)"
   ]
  },
  {
   "cell_type": "code",
   "execution_count": null,
   "metadata": {},
   "outputs": [],
   "source": [
    "# Creamos y entrenamos el modelo\n",
    "from sklearn.tree import DecisionTreeClassifier\n",
    "tree_1 = DecisionTreeClassifier(max_depth=3, min_samples_leaf=18, random_state=42, splitter=\"random\")\n",
    "tree_1.fit(strat_train_set, strat_train_y_set)\n",
    "\n",
    "tree_2 = DecisionTreeClassifier(max_depth=4, min_samples_leaf=15, random_state=9, splitter=\"random\")\n",
    "tree_2.fit(strat_train_set, strat_train_y_set)\n",
    "\n",
    "tree_3 = DecisionTreeClassifier(max_depth=7, min_samples_leaf=10, random_state=77, splitter=\"random\")\n",
    "tree_3.fit(strat_train_set, strat_train_y_set)\n",
    "\n",
    "tree_3 = DecisionTreeClassifier(max_depth=12, min_samples_leaf=23, random_state=12, splitter=\"random\")\n",
    "tree_3.fit(strat_train_set, strat_train_y_set)\n",
    "\n",
    "tree_4 = DecisionTreeClassifier(max_depth=9, min_samples_leaf=11, random_state=7, splitter=\"random\")\n",
    "tree_4.fit(strat_train_set, strat_train_y_set)\n",
    "\n",
    "tree_5 = DecisionTreeClassifier(max_depth=4, min_samples_leaf=10, random_state=0, splitter=\"random\")\n",
    "tree_5.fit(strat_train_set, strat_train_y_set)\n",
    "\n",
    "tree_6 = DecisionTreeClassifier(max_depth=5, min_samples_leaf=20, random_state=9, splitter=\"random\")\n",
    "tree_6.fit(strat_train_set, strat_train_y_set)\n",
    "\n",
    "tree_7 = DecisionTreeClassifier(max_depth=9, min_samples_leaf=20, random_state=770, splitter=\"random\")\n",
    "tree_7.fit(strat_train_set, strat_train_y_set)\n",
    "\n",
    "tree_8 = DecisionTreeClassifier(max_depth=6, min_samples_leaf=15, random_state=27, splitter=\"random\")\n",
    "tree_8.fit(strat_train_set, strat_train_y_set)\n",
    "\n",
    "tree_9 = DecisionTreeClassifier(max_depth=5, min_samples_leaf=13, random_state=177, splitter=\"random\")\n",
    "tree_9.fit(strat_train_set, strat_train_y_set)\n",
    "\n",
    "tree_10 = DecisionTreeClassifier(max_depth=2, min_samples_leaf=24, random_state=377, splitter=\"random\")\n",
    "tree_10.fit(strat_train_set, strat_train_y_set)\n",
    "\n",
    "tree_11 = DecisionTreeClassifier(max_depth=6, min_samples_leaf=30, random_state=99, splitter=\"random\")\n",
    "tree_11.fit(strat_train_set, strat_train_y_set)\n",
    "\n",
    "tree_12 = DecisionTreeClassifier(max_depth=4, min_samples_leaf=20, random_state=42, splitter=\"random\")\n",
    "tree_12.fit(strat_train_set, strat_train_y_set)\n",
    "\n",
    "tree_13 = DecisionTreeClassifier(max_depth=9, min_samples_leaf=9, random_state=99, splitter=\"random\")\n",
    "tree_13.fit(strat_train_set, strat_train_y_set)"
   ]
  },
  {
   "cell_type": "code",
   "execution_count": null,
   "metadata": {},
   "outputs": [],
   "source": [
    "from sklearn.metrics import accuracy_score\n",
    "accuracy_score(strat_test_y_set, tree_1.predict(strat_test_set))"
   ]
  },
  {
   "cell_type": "code",
   "execution_count": null,
   "metadata": {},
   "outputs": [],
   "source": [
    "accuracy_score(strat_test_y_set, tree_2.predict(strat_test_set))"
   ]
  },
  {
   "cell_type": "code",
   "execution_count": null,
   "metadata": {},
   "outputs": [],
   "source": [
    "accuracy_score(strat_test_y_set, tree_3.predict(strat_test_set))"
   ]
  },
  {
   "cell_type": "code",
   "execution_count": null,
   "metadata": {},
   "outputs": [],
   "source": [
    "accuracy_score(strat_test_y_set, tree_4.predict(strat_test_set))"
   ]
  },
  {
   "cell_type": "code",
   "execution_count": null,
   "metadata": {},
   "outputs": [],
   "source": [
    "accuracy_score(strat_test_y_set, tree_5.predict(strat_test_set))"
   ]
  },
  {
   "cell_type": "code",
   "execution_count": null,
   "metadata": {},
   "outputs": [],
   "source": [
    "accuracy_score(strat_test_y_set, tree_6.predict(strat_test_set))"
   ]
  },
  {
   "cell_type": "code",
   "execution_count": null,
   "metadata": {},
   "outputs": [],
   "source": [
    "accuracy_score(strat_test_y_set, tree_7.predict(strat_test_set))"
   ]
  },
  {
   "cell_type": "code",
   "execution_count": null,
   "metadata": {},
   "outputs": [],
   "source": [
    "accuracy_score(strat_test_y_set, tree_8.predict(strat_test_set))"
   ]
  },
  {
   "cell_type": "code",
   "execution_count": null,
   "metadata": {},
   "outputs": [],
   "source": [
    "accuracy_score(strat_test_y_set, tree_9.predict(strat_test_set))"
   ]
  },
  {
   "cell_type": "code",
   "execution_count": null,
   "metadata": {},
   "outputs": [],
   "source": [
    "accuracy_score(strat_test_y_set, tree_10.predict(strat_test_set))"
   ]
  },
  {
   "cell_type": "code",
   "execution_count": null,
   "metadata": {},
   "outputs": [],
   "source": [
    "accuracy_score(strat_test_y_set, tree_11.predict(strat_test_set))"
   ]
  },
  {
   "cell_type": "code",
   "execution_count": null,
   "metadata": {},
   "outputs": [],
   "source": [
    "accuracy_score(strat_test_y_set, tree_12.predict(strat_test_set))"
   ]
  },
  {
   "cell_type": "code",
   "execution_count": null,
   "metadata": {},
   "outputs": [],
   "source": [
    "accuracy_score(strat_test_y_set, tree_13.predict(strat_test_set))"
   ]
  },
  {
   "cell_type": "code",
   "execution_count": null,
   "metadata": {},
   "outputs": [],
   "source": [
    "votos = pd.DataFrame()\n",
    "votos[\"tree_1\"] = tree_1.predict(strat_test_set)\n",
    "votos[\"tree_2\"] = tree_2.predict(strat_test_set)\n",
    "votos[\"tree_3\"] = tree_3.predict(strat_test_set)\n",
    "votos[\"tree_4\"] = tree_4.predict(strat_test_set)\n",
    "votos[\"tree_5\"] = tree_5.predict(strat_test_set)\n",
    "votos[\"tree_6\"] = tree_6.predict(strat_test_set)\n",
    "votos[\"tree_7\"] = tree_7.predict(strat_test_set)\n",
    "votos[\"tree_8\"] = tree_8.predict(strat_test_set)\n",
    "votos[\"tree_9\"] = tree_9.predict(strat_test_set)\n",
    "votos[\"tree_10\"] = tree_10.predict(strat_test_set)\n",
    "votos[\"tree_11\"] = tree_11.predict(strat_test_set)\n",
    "votos[\"tree_12\"] = tree_12.predict(strat_test_set)\n",
    "votos[\"tree_13\"] = tree_13.predict(strat_test_set)\n",
    "votos[\"real\"] = strat_test_y_set.values"
   ]
  },
  {
   "cell_type": "code",
   "execution_count": null,
   "metadata": {},
   "outputs": [],
   "source": [
    "t  = [f\"tree_{x}\" for x in range(1,14)]"
   ]
  },
  {
   "cell_type": "code",
   "execution_count": null,
   "metadata": {},
   "outputs": [],
   "source": [
    "t"
   ]
  },
  {
   "cell_type": "code",
   "execution_count": null,
   "metadata": {},
   "outputs": [],
   "source": [
    "votos"
   ]
  },
  {
   "cell_type": "code",
   "execution_count": null,
   "metadata": {},
   "outputs": [],
   "source": [
    "votos[\"moda\"] = votos[t].mode(axis=1)[0]"
   ]
  },
  {
   "cell_type": "code",
   "execution_count": null,
   "metadata": {},
   "outputs": [],
   "source": [
    "accuracy_score(strat_test_y_set, votos[\"moda\"])"
   ]
  },
  {
   "cell_type": "markdown",
   "metadata": {},
   "source": [
    "# Comparar con un árbol solitario"
   ]
  },
  {
   "cell_type": "code",
   "execution_count": null,
   "metadata": {},
   "outputs": [],
   "source": [
    "tree = DecisionTreeClassifier( random_state=42)\n",
    "tree.fit(strat_train_set, strat_train_y_set)"
   ]
  },
  {
   "cell_type": "code",
   "execution_count": null,
   "metadata": {},
   "outputs": [],
   "source": [
    "accuracy_score(strat_test_y_set, tree.predict(strat_test_set))"
   ]
  },
  {
   "cell_type": "markdown",
   "metadata": {},
   "source": [
    "# Comparar con el mejor árbol posible"
   ]
  },
  {
   "cell_type": "code",
   "execution_count": null,
   "metadata": {},
   "outputs": [],
   "source": [
    "from sklearn.model_selection import GridSearchCV\n",
    "tree_rd = DecisionTreeClassifier(random_state=42)\n",
    "\n",
    "param_grid = {\n",
    "    'max_depth': range(2,13),\n",
    "    'min_samples_leaf': range(1,31)\n",
    "}\n",
    "\n",
    "grid_search = GridSearchCV(tree_rd, # El modelo que quiero entrenar\n",
    "                                   param_grid, # El grid de parámetros\n",
    "                                   cv=5, # Folds del cross validation\n",
    "                                   scoring=\"accuracy\", # Métrica que quiero optimizar\n",
    "                                   n_jobs = -1 # Paralelizar\n",
    "                                  )\n",
    "\n",
    "grid_search.fit(strat_train_set, strat_train_y_set)"
   ]
  },
  {
   "cell_type": "code",
   "execution_count": null,
   "metadata": {},
   "outputs": [],
   "source": [
    "grid_search.best_params_"
   ]
  },
  {
   "cell_type": "code",
   "execution_count": null,
   "metadata": {},
   "outputs": [],
   "source": [
    "# Mejor árbol\n",
    "accuracy_score(strat_test_y_set, grid_search.predict(strat_test_set))"
   ]
  },
  {
   "cell_type": "code",
   "execution_count": null,
   "metadata": {},
   "outputs": [],
   "source": [
    "# Bosque\n",
    "accuracy_score(strat_test_y_set, votos[\"moda\"])"
   ]
  },
  {
   "cell_type": "code",
   "execution_count": null,
   "metadata": {},
   "outputs": [],
   "source": [
    "# ¿Merece la pena?\n",
    "# Pensemos en tiempo\n",
    "# Pensemos en aciertos"
   ]
  },
  {
   "cell_type": "markdown",
   "metadata": {},
   "source": [
    "# Refactorizar código"
   ]
  },
  {
   "cell_type": "code",
   "execution_count": null,
   "metadata": {},
   "outputs": [],
   "source": []
  }
 ],
 "metadata": {
  "kernelspec": {
   "display_name": "Python 3",
   "language": "python",
   "name": "python3"
  },
  "language_info": {
   "codemirror_mode": {
    "name": "ipython",
    "version": 3
   },
   "file_extension": ".py",
   "mimetype": "text/x-python",
   "name": "python",
   "nbconvert_exporter": "python",
   "pygments_lexer": "ipython3",
   "version": "3.12.1"
  }
 },
 "nbformat": 4,
 "nbformat_minor": 2
}
