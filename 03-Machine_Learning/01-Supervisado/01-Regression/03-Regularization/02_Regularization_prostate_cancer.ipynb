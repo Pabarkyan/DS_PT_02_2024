{
 "cells": [
  {
   "cell_type": "markdown",
   "metadata": {},
   "source": [
    "# Prostate cancer prediction \n",
    "\n",
    "#### Data\n",
    "\n",
    "We consider a medical study conducted on 97 men with prostate cancer.\n",
    "The focus is on the relationship between the prostate specific antigen (psa), which is elevated in men with prostate cancer, and others clinical measures. \n",
    "The others clinical measures are the predictors variables, gathered in a medical examination, and the amount of expression of the antigen associated with the cancer detection is the response variable (lpsa).\n",
    "\n",
    "Thus the data frame is made of 97 observations on 9 variables:\n",
    "* lcavol: log cancer volume\n",
    "* lweight: log prostate weight\n",
    "* age: patient age in years\n",
    "* lbph: log amount of benign prostatic hyperplasia\n",
    "* svi: seminal vesicle invasion\n",
    "* lcp: log of capsular penetration\n",
    "* gleason: Gleason score\n",
    "* pgg45: percent of Gleason score 4 or 5\n",
    "* lpsa: log prostate specific antigen\n",
    "\n",
    "The goal is to find models predicting the response lpsa.\n",
    "\n",
    "#### Models\n",
    "\n",
    "The data are represented by $n$ points in $p$ dimensions, thus the predictor variable is written $X\\in\\mathbb{R}^{n\\times p}$ and the response variable is $y\\in\\mathbb{R}^n$.\n",
    "\n",
    "In this work, we're insterested in the relationship between the predictor $X$ and the response $y$.\n",
    "To determine this relationship, we adopt regression models.\n",
    "The standard baseline is achieved with linear regression and we compare results for regularized regressions: **Ridge regression**, **Lasso** and **Elastic Net**."
   ]
  },
  {
   "cell_type": "code",
   "execution_count": 11,
   "metadata": {},
   "outputs": [],
   "source": [
    "import numpy as np\n",
    "import pandas as pd\n",
    "from sklearn import linear_model, metrics, model_selection\n",
    "from sklearn.linear_model import ElasticNet\n",
    "import matplotlib.pyplot as plt\n",
    "from sklearn.linear_model import Ridge\n",
    "import seaborn as sns\n",
    "import statsmodels.api as sm"
   ]
  },
  {
   "cell_type": "markdown",
   "metadata": {},
   "source": [
    "## Data exploration"
   ]
  },
  {
   "cell_type": "code",
   "execution_count": 12,
   "metadata": {},
   "outputs": [],
   "source": [
    "lpsa_data = pd.read_csv('data/prostate_dataset.txt', delimiter='\\t')\n",
    "lpsa_data.drop(columns=['col'], inplace=True)"
   ]
  },
  {
   "cell_type": "code",
   "execution_count": 13,
   "metadata": {},
   "outputs": [
    {
     "data": {
      "text/html": [
       "<div>\n",
       "<style scoped>\n",
       "    .dataframe tbody tr th:only-of-type {\n",
       "        vertical-align: middle;\n",
       "    }\n",
       "\n",
       "    .dataframe tbody tr th {\n",
       "        vertical-align: top;\n",
       "    }\n",
       "\n",
       "    .dataframe thead th {\n",
       "        text-align: right;\n",
       "    }\n",
       "</style>\n",
       "<table border=\"1\" class=\"dataframe\">\n",
       "  <thead>\n",
       "    <tr style=\"text-align: right;\">\n",
       "      <th></th>\n",
       "      <th>lcavol</th>\n",
       "      <th>lweight</th>\n",
       "      <th>age</th>\n",
       "      <th>lbph</th>\n",
       "      <th>svi</th>\n",
       "      <th>lcp</th>\n",
       "      <th>gleason</th>\n",
       "      <th>pgg45</th>\n",
       "      <th>lpsa</th>\n",
       "    </tr>\n",
       "  </thead>\n",
       "  <tbody>\n",
       "    <tr>\n",
       "      <th>0</th>\n",
       "      <td>-0.579818</td>\n",
       "      <td>2.769459</td>\n",
       "      <td>50</td>\n",
       "      <td>-1.386294</td>\n",
       "      <td>0</td>\n",
       "      <td>-1.386294</td>\n",
       "      <td>6</td>\n",
       "      <td>0</td>\n",
       "      <td>-0.430783</td>\n",
       "    </tr>\n",
       "    <tr>\n",
       "      <th>1</th>\n",
       "      <td>-0.994252</td>\n",
       "      <td>3.319626</td>\n",
       "      <td>58</td>\n",
       "      <td>-1.386294</td>\n",
       "      <td>0</td>\n",
       "      <td>-1.386294</td>\n",
       "      <td>6</td>\n",
       "      <td>0</td>\n",
       "      <td>-0.162519</td>\n",
       "    </tr>\n",
       "    <tr>\n",
       "      <th>2</th>\n",
       "      <td>-0.510826</td>\n",
       "      <td>2.691243</td>\n",
       "      <td>74</td>\n",
       "      <td>-1.386294</td>\n",
       "      <td>0</td>\n",
       "      <td>-1.386294</td>\n",
       "      <td>7</td>\n",
       "      <td>20</td>\n",
       "      <td>-0.162519</td>\n",
       "    </tr>\n",
       "    <tr>\n",
       "      <th>3</th>\n",
       "      <td>-1.203973</td>\n",
       "      <td>3.282789</td>\n",
       "      <td>58</td>\n",
       "      <td>-1.386294</td>\n",
       "      <td>0</td>\n",
       "      <td>-1.386294</td>\n",
       "      <td>6</td>\n",
       "      <td>0</td>\n",
       "      <td>-0.162519</td>\n",
       "    </tr>\n",
       "    <tr>\n",
       "      <th>4</th>\n",
       "      <td>0.751416</td>\n",
       "      <td>3.432373</td>\n",
       "      <td>62</td>\n",
       "      <td>-1.386294</td>\n",
       "      <td>0</td>\n",
       "      <td>-1.386294</td>\n",
       "      <td>6</td>\n",
       "      <td>0</td>\n",
       "      <td>0.371564</td>\n",
       "    </tr>\n",
       "  </tbody>\n",
       "</table>\n",
       "</div>"
      ],
      "text/plain": [
       "     lcavol   lweight  age      lbph  svi       lcp  gleason  pgg45      lpsa\n",
       "0 -0.579818  2.769459   50 -1.386294    0 -1.386294        6      0 -0.430783\n",
       "1 -0.994252  3.319626   58 -1.386294    0 -1.386294        6      0 -0.162519\n",
       "2 -0.510826  2.691243   74 -1.386294    0 -1.386294        7     20 -0.162519\n",
       "3 -1.203973  3.282789   58 -1.386294    0 -1.386294        6      0 -0.162519\n",
       "4  0.751416  3.432373   62 -1.386294    0 -1.386294        6      0  0.371564"
      ]
     },
     "execution_count": 13,
     "metadata": {},
     "output_type": "execute_result"
    }
   ],
   "source": [
    "lpsa_data.head()"
   ]
  },
  {
   "cell_type": "code",
   "execution_count": 14,
   "metadata": {},
   "outputs": [
    {
     "data": {
      "text/html": [
       "<div>\n",
       "<style scoped>\n",
       "    .dataframe tbody tr th:only-of-type {\n",
       "        vertical-align: middle;\n",
       "    }\n",
       "\n",
       "    .dataframe tbody tr th {\n",
       "        vertical-align: top;\n",
       "    }\n",
       "\n",
       "    .dataframe thead th {\n",
       "        text-align: right;\n",
       "    }\n",
       "</style>\n",
       "<table border=\"1\" class=\"dataframe\">\n",
       "  <thead>\n",
       "    <tr style=\"text-align: right;\">\n",
       "      <th></th>\n",
       "      <th>lcavol</th>\n",
       "      <th>lweight</th>\n",
       "      <th>age</th>\n",
       "      <th>lbph</th>\n",
       "      <th>svi</th>\n",
       "      <th>lcp</th>\n",
       "      <th>gleason</th>\n",
       "      <th>pgg45</th>\n",
       "      <th>lpsa</th>\n",
       "    </tr>\n",
       "  </thead>\n",
       "  <tbody>\n",
       "    <tr>\n",
       "      <th>lcavol</th>\n",
       "      <td>1.000000</td>\n",
       "      <td>0.280521</td>\n",
       "      <td>0.225000</td>\n",
       "      <td>0.027350</td>\n",
       "      <td>0.538845</td>\n",
       "      <td>0.675310</td>\n",
       "      <td>0.432417</td>\n",
       "      <td>0.433652</td>\n",
       "      <td>0.734460</td>\n",
       "    </tr>\n",
       "    <tr>\n",
       "      <th>lweight</th>\n",
       "      <td>0.280521</td>\n",
       "      <td>1.000000</td>\n",
       "      <td>0.347969</td>\n",
       "      <td>0.442264</td>\n",
       "      <td>0.155385</td>\n",
       "      <td>0.164537</td>\n",
       "      <td>0.056882</td>\n",
       "      <td>0.107354</td>\n",
       "      <td>0.433319</td>\n",
       "    </tr>\n",
       "    <tr>\n",
       "      <th>age</th>\n",
       "      <td>0.225000</td>\n",
       "      <td>0.347969</td>\n",
       "      <td>1.000000</td>\n",
       "      <td>0.350186</td>\n",
       "      <td>0.117658</td>\n",
       "      <td>0.127668</td>\n",
       "      <td>0.268892</td>\n",
       "      <td>0.276112</td>\n",
       "      <td>0.169593</td>\n",
       "    </tr>\n",
       "    <tr>\n",
       "      <th>lbph</th>\n",
       "      <td>0.027350</td>\n",
       "      <td>0.442264</td>\n",
       "      <td>0.350186</td>\n",
       "      <td>1.000000</td>\n",
       "      <td>-0.085843</td>\n",
       "      <td>-0.006999</td>\n",
       "      <td>0.077820</td>\n",
       "      <td>0.078460</td>\n",
       "      <td>0.179809</td>\n",
       "    </tr>\n",
       "    <tr>\n",
       "      <th>svi</th>\n",
       "      <td>0.538845</td>\n",
       "      <td>0.155385</td>\n",
       "      <td>0.117658</td>\n",
       "      <td>-0.085843</td>\n",
       "      <td>1.000000</td>\n",
       "      <td>0.673111</td>\n",
       "      <td>0.320412</td>\n",
       "      <td>0.457648</td>\n",
       "      <td>0.566218</td>\n",
       "    </tr>\n",
       "    <tr>\n",
       "      <th>lcp</th>\n",
       "      <td>0.675310</td>\n",
       "      <td>0.164537</td>\n",
       "      <td>0.127668</td>\n",
       "      <td>-0.006999</td>\n",
       "      <td>0.673111</td>\n",
       "      <td>1.000000</td>\n",
       "      <td>0.514830</td>\n",
       "      <td>0.631528</td>\n",
       "      <td>0.548813</td>\n",
       "    </tr>\n",
       "    <tr>\n",
       "      <th>gleason</th>\n",
       "      <td>0.432417</td>\n",
       "      <td>0.056882</td>\n",
       "      <td>0.268892</td>\n",
       "      <td>0.077820</td>\n",
       "      <td>0.320412</td>\n",
       "      <td>0.514830</td>\n",
       "      <td>1.000000</td>\n",
       "      <td>0.751905</td>\n",
       "      <td>0.368987</td>\n",
       "    </tr>\n",
       "    <tr>\n",
       "      <th>pgg45</th>\n",
       "      <td>0.433652</td>\n",
       "      <td>0.107354</td>\n",
       "      <td>0.276112</td>\n",
       "      <td>0.078460</td>\n",
       "      <td>0.457648</td>\n",
       "      <td>0.631528</td>\n",
       "      <td>0.751905</td>\n",
       "      <td>1.000000</td>\n",
       "      <td>0.422316</td>\n",
       "    </tr>\n",
       "    <tr>\n",
       "      <th>lpsa</th>\n",
       "      <td>0.734460</td>\n",
       "      <td>0.433319</td>\n",
       "      <td>0.169593</td>\n",
       "      <td>0.179809</td>\n",
       "      <td>0.566218</td>\n",
       "      <td>0.548813</td>\n",
       "      <td>0.368987</td>\n",
       "      <td>0.422316</td>\n",
       "      <td>1.000000</td>\n",
       "    </tr>\n",
       "  </tbody>\n",
       "</table>\n",
       "</div>"
      ],
      "text/plain": [
       "           lcavol   lweight       age      lbph       svi       lcp   gleason  \\\n",
       "lcavol   1.000000  0.280521  0.225000  0.027350  0.538845  0.675310  0.432417   \n",
       "lweight  0.280521  1.000000  0.347969  0.442264  0.155385  0.164537  0.056882   \n",
       "age      0.225000  0.347969  1.000000  0.350186  0.117658  0.127668  0.268892   \n",
       "lbph     0.027350  0.442264  0.350186  1.000000 -0.085843 -0.006999  0.077820   \n",
       "svi      0.538845  0.155385  0.117658 -0.085843  1.000000  0.673111  0.320412   \n",
       "lcp      0.675310  0.164537  0.127668 -0.006999  0.673111  1.000000  0.514830   \n",
       "gleason  0.432417  0.056882  0.268892  0.077820  0.320412  0.514830  1.000000   \n",
       "pgg45    0.433652  0.107354  0.276112  0.078460  0.457648  0.631528  0.751905   \n",
       "lpsa     0.734460  0.433319  0.169593  0.179809  0.566218  0.548813  0.368987   \n",
       "\n",
       "            pgg45      lpsa  \n",
       "lcavol   0.433652  0.734460  \n",
       "lweight  0.107354  0.433319  \n",
       "age      0.276112  0.169593  \n",
       "lbph     0.078460  0.179809  \n",
       "svi      0.457648  0.566218  \n",
       "lcp      0.631528  0.548813  \n",
       "gleason  0.751905  0.368987  \n",
       "pgg45    1.000000  0.422316  \n",
       "lpsa     0.422316  1.000000  "
      ]
     },
     "execution_count": 14,
     "metadata": {},
     "output_type": "execute_result"
    }
   ],
   "source": [
    "lpsa_data.corr()"
   ]
  },
  {
   "cell_type": "markdown",
   "metadata": {},
   "source": [
    "* The more correlated variable with the response lpsa is lcavol.\n",
    "  Thus in a data analysis, the lcavol variable must be included as a predictor.\n",
    "\n",
    "* The correlation matrix shows that gleason and pgg45 are actually correlated. \n",
    "  Indeed, the variable pgg45 measures the percentage of 4 or 5 Gleason scores that were recorded before the final current Gleason score.\n",
    "\n",
    "Let plot the relationship between the response lpsa and the lcavol feature."
   ]
  },
  {
   "cell_type": "code",
   "execution_count": 15,
   "metadata": {},
   "outputs": [
    {
     "data": {
      "image/png": "[encoded data removed]",
      "text/plain": [
       "<Figure size 640x480 with 1 Axes>"
      ]
     },
     "metadata": {},
     "output_type": "display_data"
    }
   ],
   "source": [
    "plt.scatter(lpsa_data['lcavol'], lpsa_data['lpsa'])\n",
    "plt.xlabel('lcavol', fontsize=16)\n",
    "plt.ylabel('lpsa', fontsize=16)\n",
    "plt.title(\"Relationship between lpsa and lcavol\", fontsize=14)\n",
    "plt.show()"
   ]
  },
  {
   "cell_type": "markdown",
   "metadata": {},
   "source": [
    "There is a pretty clear linear relationship with positive correlation, as seen on the correlation matrix."
   ]
  },
  {
   "cell_type": "markdown",
   "metadata": {},
   "source": [
    "### Data train/test splitting"
   ]
  },
  {
   "cell_type": "code",
   "execution_count": 16,
   "metadata": {},
   "outputs": [
    {
     "data": {
      "text/html": [
       "<div>\n",
       "<style scoped>\n",
       "    .dataframe tbody tr th:only-of-type {\n",
       "        vertical-align: middle;\n",
       "    }\n",
       "\n",
       "    .dataframe tbody tr th {\n",
       "        vertical-align: top;\n",
       "    }\n",
       "\n",
       "    .dataframe thead th {\n",
       "        text-align: right;\n",
       "    }\n",
       "</style>\n",
       "<table border=\"1\" class=\"dataframe\">\n",
       "  <thead>\n",
       "    <tr style=\"text-align: right;\">\n",
       "      <th></th>\n",
       "      <th>lcavol</th>\n",
       "      <th>lweight</th>\n",
       "      <th>age</th>\n",
       "      <th>lbph</th>\n",
       "      <th>svi</th>\n",
       "      <th>lcp</th>\n",
       "      <th>gleason</th>\n",
       "      <th>pgg45</th>\n",
       "      <th>lpsa</th>\n",
       "    </tr>\n",
       "  </thead>\n",
       "  <tbody>\n",
       "    <tr>\n",
       "      <th>count</th>\n",
       "      <td>97.000000</td>\n",
       "      <td>97.000000</td>\n",
       "      <td>97.000000</td>\n",
       "      <td>97.000000</td>\n",
       "      <td>97.000000</td>\n",
       "      <td>97.000000</td>\n",
       "      <td>97.000000</td>\n",
       "      <td>97.000000</td>\n",
       "      <td>97.000000</td>\n",
       "    </tr>\n",
       "    <tr>\n",
       "      <th>mean</th>\n",
       "      <td>1.350010</td>\n",
       "      <td>3.628943</td>\n",
       "      <td>63.865979</td>\n",
       "      <td>0.100356</td>\n",
       "      <td>0.216495</td>\n",
       "      <td>-0.179366</td>\n",
       "      <td>6.752577</td>\n",
       "      <td>24.381443</td>\n",
       "      <td>2.478387</td>\n",
       "    </tr>\n",
       "    <tr>\n",
       "      <th>std</th>\n",
       "      <td>1.178625</td>\n",
       "      <td>0.428411</td>\n",
       "      <td>7.445117</td>\n",
       "      <td>1.450807</td>\n",
       "      <td>0.413995</td>\n",
       "      <td>1.398250</td>\n",
       "      <td>0.722134</td>\n",
       "      <td>28.204035</td>\n",
       "      <td>1.154329</td>\n",
       "    </tr>\n",
       "    <tr>\n",
       "      <th>min</th>\n",
       "      <td>-1.347074</td>\n",
       "      <td>2.374906</td>\n",
       "      <td>41.000000</td>\n",
       "      <td>-1.386294</td>\n",
       "      <td>0.000000</td>\n",
       "      <td>-1.386294</td>\n",
       "      <td>6.000000</td>\n",
       "      <td>0.000000</td>\n",
       "      <td>-0.430783</td>\n",
       "    </tr>\n",
       "    <tr>\n",
       "      <th>25%</th>\n",
       "      <td>0.512824</td>\n",
       "      <td>3.375880</td>\n",
       "      <td>60.000000</td>\n",
       "      <td>-1.386294</td>\n",
       "      <td>0.000000</td>\n",
       "      <td>-1.386294</td>\n",
       "      <td>6.000000</td>\n",
       "      <td>0.000000</td>\n",
       "      <td>1.731656</td>\n",
       "    </tr>\n",
       "    <tr>\n",
       "      <th>50%</th>\n",
       "      <td>1.446919</td>\n",
       "      <td>3.623007</td>\n",
       "      <td>65.000000</td>\n",
       "      <td>0.300105</td>\n",
       "      <td>0.000000</td>\n",
       "      <td>-0.798508</td>\n",
       "      <td>7.000000</td>\n",
       "      <td>15.000000</td>\n",
       "      <td>2.591516</td>\n",
       "    </tr>\n",
       "    <tr>\n",
       "      <th>75%</th>\n",
       "      <td>2.127041</td>\n",
       "      <td>3.876396</td>\n",
       "      <td>68.000000</td>\n",
       "      <td>1.558145</td>\n",
       "      <td>0.000000</td>\n",
       "      <td>1.178655</td>\n",
       "      <td>7.000000</td>\n",
       "      <td>40.000000</td>\n",
       "      <td>3.056357</td>\n",
       "    </tr>\n",
       "    <tr>\n",
       "      <th>max</th>\n",
       "      <td>3.821004</td>\n",
       "      <td>4.780383</td>\n",
       "      <td>79.000000</td>\n",
       "      <td>2.326302</td>\n",
       "      <td>1.000000</td>\n",
       "      <td>2.904165</td>\n",
       "      <td>9.000000</td>\n",
       "      <td>100.000000</td>\n",
       "      <td>5.582932</td>\n",
       "    </tr>\n",
       "  </tbody>\n",
       "</table>\n",
       "</div>"
      ],
      "text/plain": [
       "          lcavol    lweight        age       lbph        svi        lcp  \\\n",
       "count  97.000000  97.000000  97.000000  97.000000  97.000000  97.000000   \n",
       "mean    1.350010   3.628943  63.865979   0.100356   0.216495  -0.179366   \n",
       "std     1.178625   0.428411   7.445117   1.450807   0.413995   1.398250   \n",
       "min    -1.347074   2.374906  41.000000  -1.386294   0.000000  -1.386294   \n",
       "25%     0.512824   3.375880  60.000000  -1.386294   0.000000  -1.386294   \n",
       "50%     1.446919   3.623007  65.000000   0.300105   0.000000  -0.798508   \n",
       "75%     2.127041   3.876396  68.000000   1.558145   0.000000   1.178655   \n",
       "max     3.821004   4.780383  79.000000   2.326302   1.000000   2.904165   \n",
       "\n",
       "         gleason       pgg45       lpsa  \n",
       "count  97.000000   97.000000  97.000000  \n",
       "mean    6.752577   24.381443   2.478387  \n",
       "std     0.722134   28.204035   1.154329  \n",
       "min     6.000000    0.000000  -0.430783  \n",
       "25%     6.000000    0.000000   1.731656  \n",
       "50%     7.000000   15.000000   2.591516  \n",
       "75%     7.000000   40.000000   3.056357  \n",
       "max     9.000000  100.000000   5.582932  "
      ]
     },
     "execution_count": 16,
     "metadata": {},
     "output_type": "execute_result"
    }
   ],
   "source": [
    "lpsa_data.describe()"
   ]
  },
  {
   "cell_type": "markdown",
   "metadata": {},
   "source": [
    "#### Como tenemos únicamente 97 observaciones, vamos a separar 60/37 para intentar tener volumen en train y test.\n",
    "\n",
    "###### PD. Sale mal"
   ]
  },
  {
   "cell_type": "code",
   "execution_count": 17,
   "metadata": {},
   "outputs": [],
   "source": [
    "# train : the first rows \n",
    "# test : the last rows \n",
    "n_split = 60\n",
    "train = lpsa_data.iloc[:60]\n",
    "test = lpsa_data.iloc[60:]"
   ]
  },
  {
   "cell_type": "code",
   "execution_count": 19,
   "metadata": {},
   "outputs": [],
   "source": [
    "X_test = test.drop(columns=['lpsa'])\n",
    "y_test = test['lpsa']"
   ]
  },
  {
   "cell_type": "code",
   "execution_count": 20,
   "metadata": {},
   "outputs": [],
   "source": [
    "X_train = train.drop(columns=['lpsa'])\n",
    "y_train = train['lpsa']"
   ]
  },
  {
   "cell_type": "code",
   "execution_count": 21,
   "metadata": {},
   "outputs": [],
   "source": [
    "lr = linear_model.LinearRegression()\n",
    "\n",
    "lr.fit(X_train, y_train)\n",
    "\n",
    "y_pred = lr.predict(X_test)"
   ]
  },
  {
   "cell_type": "code",
   "execution_count": 22,
   "metadata": {},
   "outputs": [
    {
     "name": "stdout",
     "output_type": "stream",
     "text": [
      "Train MSE: 0.286522449705847\n",
      "Train RMSE: 0.5352779181937612\n",
      "Test MSE: 2.820838873794865\n",
      "Test RMSE: 1.6795353148400498\n"
     ]
    }
   ],
   "source": [
    "print(\"Train MSE:\", metrics.mean_squared_error(y_train, lr.predict(X_train)))\n",
    "print(\"Train RMSE:\", np.sqrt(metrics.mean_squared_error(y_train, lr.predict(X_train))))\n",
    "print(\"Test MSE:\", metrics.mean_squared_error(y_test, lr.predict(X_test)))\n",
    "print(\"Test RMSE:\", np.sqrt(metrics.mean_squared_error(y_test, lr.predict(X_test))))"
   ]
  },
  {
   "attachments": {
    "Sin título.png": {
     "image/png": "[encoded data removed]"
    }
   },
   "cell_type": "markdown",
   "metadata": {},
   "source": [
    "![Sin título.png](<attachment:Sin título.png>)"
   ]
  },
  {
   "cell_type": "markdown",
   "metadata": {},
   "source": [
    "#### Ahora, lo haremos aleatoriamente"
   ]
  },
  {
   "cell_type": "code",
   "execution_count": 25,
   "metadata": {},
   "outputs": [],
   "source": [
    "# train : the first rows \n",
    "# test : the last rows \n",
    "from sklearn.model_selection import train_test_split\n",
    "\n",
    "# Esta vez, nuestro modelo serán el 80% de los datos y el test el 20% de los datos\n",
    "X_train, X_test, y_train, y_test = train_test_split(lpsa_data.drop(columns=[\"lpsa\"]), lpsa_data[\"lpsa\"], test_size = 0.38, random_state = 42)"
   ]
  },
  {
   "cell_type": "code",
   "execution_count": 26,
   "metadata": {},
   "outputs": [
    {
     "name": "stdout",
     "output_type": "stream",
     "text": [
      "(60, 8)\n",
      "(37, 8)\n",
      "(60,)\n",
      "(37,)\n"
     ]
    }
   ],
   "source": [
    "print(X_train.shape)\n",
    "print(X_test.shape)\n",
    "print(y_train.shape)\n",
    "print(y_test.shape)"
   ]
  },
  {
   "cell_type": "code",
   "execution_count": 27,
   "metadata": {},
   "outputs": [],
   "source": [
    "lr = linear_model.LinearRegression()\n",
    "\n",
    "lr.fit(X_train, y_train)\n",
    "\n",
    "y_pred = lr.predict(X_test)"
   ]
  },
  {
   "cell_type": "code",
   "execution_count": 29,
   "metadata": {},
   "outputs": [],
   "source": [
    "# prediccion Train y test\n",
    "lr = linear_model.LinearRegression()\n",
    "\n",
    "lr.fit(X_train, y_train)\n",
    "\n",
    "y_pred_T = lr.predict(X_train)"
   ]
  },
  {
   "cell_type": "code",
   "execution_count": 30,
   "metadata": {},
   "outputs": [
    {
     "name": "stdout",
     "output_type": "stream",
     "text": [
      "Train MSE: 0.46641709886601684\n",
      "Train RMSE: 0.6829473617095367\n",
      "Test MSE: 0.4556378245771581\n",
      "Test RMSE: 0.6750094996199373\n"
     ]
    }
   ],
   "source": [
    "print(\"Train MSE:\", metrics.mean_squared_error(y_train, lr.predict(X_train)))\n",
    "print(\"Train RMSE:\", np.sqrt(metrics.mean_squared_error(y_train, lr.predict(X_train))))\n",
    "print(\"Test MSE:\", metrics.mean_squared_error(y_test, lr.predict(X_test)))\n",
    "print(\"Test RMSE:\", np.sqrt(metrics.mean_squared_error(y_test, lr.predict(X_test))))"
   ]
  },
  {
   "cell_type": "code",
   "execution_count": null,
   "metadata": {},
   "outputs": [],
   "source": [
    "# X_train y X_test... son realmente iguales?"
   ]
  },
  {
   "cell_type": "code",
   "execution_count": null,
   "metadata": {},
   "outputs": [],
   "source": [
    "lpsa_data[\"lcavol_s\"] = lpsa_data[\"lcavol\"].astype(int)\n",
    "from sklearn.model_selection import StratifiedShuffleSplit\n",
    "split = StratifiedShuffleSplit(n_splits=1, test_size=0.5, random_state=42)\n",
    "for train_index, test_index in split.split(lpsa_data, lpsa_data[\"lcavol_s\"]):\n",
    "    X_train = lpsa_data.iloc[train_index]\n",
    "    X_test = lpsa_data.iloc[test_index]"
   ]
  },
  {
   "cell_type": "code",
   "execution_count": null,
   "metadata": {},
   "outputs": [],
   "source": [
    "X_train.describe()"
   ]
  },
  {
   "cell_type": "code",
   "execution_count": null,
   "metadata": {},
   "outputs": [],
   "source": [
    "X_test.describe()"
   ]
  },
  {
   "cell_type": "code",
   "execution_count": null,
   "metadata": {},
   "outputs": [],
   "source": [
    "lpsa_data.drop(columns=[\"col\"], inplace=True)"
   ]
  },
  {
   "cell_type": "code",
   "execution_count": null,
   "metadata": {},
   "outputs": [],
   "source": [
    "y_train = X_train[\"lpsa\"]\n",
    "X_train.drop(columns=[\"lpsa\", \"lcavol_s\"], inplace=True)"
   ]
  },
  {
   "cell_type": "code",
   "execution_count": null,
   "metadata": {},
   "outputs": [],
   "source": [
    "y_test = X_test[\"lpsa\"]\n",
    "X_test.drop(columns=[\"lpsa\", \"lcavol_s\"], inplace=True)"
   ]
  },
  {
   "cell_type": "code",
   "execution_count": null,
   "metadata": {},
   "outputs": [],
   "source": [
    "X_train"
   ]
  },
  {
   "cell_type": "markdown",
   "metadata": {},
   "source": [
    "# Learning models\n",
    "\n",
    "\n",
    "# 1) Linear regression baseline\n",
    "\n",
    "The linear regression attemps to model the relationship between the predictors variables $X$ and the response variable $y$.\n",
    "It consists in finding a linear function $f:\\mathbb{R}^p \\to \\mathbb{R}$ which predicts the response $y_i$ from the predictors $X_{i1},...,X_{ip}$ given $n$ observations for $i=1,...,n$.\n",
    "\n",
    "In Python, the linear regression is implemented as  [LinearRegression](https://scikit-learn.org/stable/modules/generated/sklearn.linear_model.LinearRegression.html) in the linear_model module of scikit-learn."
   ]
  },
  {
   "cell_type": "code",
   "execution_count": null,
   "metadata": {},
   "outputs": [],
   "source": [
    "lr = linear_model.LinearRegression()\n",
    "\n",
    "lr.fit(X_train, y_train)\n",
    "\n",
    "y_pred = lr.predict(X_test)\n",
    "baseline_error = metrics.mean_squared_error(y_test, y_pred)\n",
    "\n",
    "print(\"Train MSE:\", metrics.mean_squared_error(y_train, lr.predict(X_train)))\n",
    "print(\"Train RMSE:\", np.sqrt(metrics.mean_squared_error(y_train, lr.predict(X_train))))\n",
    "print(\"Test MSE:\", metrics.mean_squared_error(y_test, lr.predict(X_test)))\n",
    "print(\"Test RMSE:\", np.sqrt(metrics.mean_squared_error(y_test, lr.predict(X_test))))"
   ]
  },
  {
   "cell_type": "markdown",
   "metadata": {},
   "source": [
    "# 2) Regularization\n",
    "\n",
    "In order to avoid over-learning, the regularization method allows to control the model complexity.\n",
    "The model minimizes the error plus a regularization term $\\lambda Reg(\\beta)$ measuring the complexity, where $Reg(\\beta)$ is a penalty term and $\\lambda$ is an hyper-parameter.\n",
    "The hyper-parameter controls the relative influence of the error term and the amount of regularization.\n",
    "The optimal value of $\\lambda$ can be found by cross validation (see repository [cross-validation](https://github.com/christelle-git/cross-validation/)). \n",
    "\n",
    "## 2.1) Ridge regression \n",
    "\n",
    "In the Ridge regression, the regularization term is $Reg(\\beta) = ||\\beta||_2^2$.\n",
    "The Ridge regression allows to reduce the magnitude of the weights $\\beta_i$ of the linear regression, and thus avoid over-learning.\n",
    "The Ridge regression has a grouped selection effect: the correlated variables have the same weights."
   ]
  },
  {
   "cell_type": "code",
   "execution_count": null,
   "metadata": {},
   "outputs": [],
   "source": [
    "from sklearn.linear_model import Ridge\n",
    "\n",
    "ridgeR = Ridge(alpha =,)\n",
    "ridgeR.fit(X_train, y_train)\n",
    "\n",
    "print(\"Train MSE sin regularización:\", round(metrics.mean_squared_error(y_train, lr.predict(X_train)),5))\n",
    "print(\"Test MSE sin regularización:\", round(metrics.mean_squared_error(y_test, lr.predict(X_test)),5))\n",
    "\n",
    "print(\"Train MSE:\", round(metrics.mean_squared_error(y_train, ridgeR.predict(X_train)),5))\n",
    "print(\"Test MSE:\", round(metrics.mean_squared_error(y_test, ridgeR.predict(X_test)),5))\n",
    "print(\"Test RMSE:\", np.sqrt(metrics.mean_squared_error(y_test, ridgeR.predict(X_test))))"
   ]
  },
  {
   "cell_type": "markdown",
   "metadata": {},
   "source": [
    "## 2.2) Least Absolute Shrinkage and Selection Operator\n",
    "\n",
    "The following method goes further by selecting some variables to be removed from the Ridge regression, thus reducing the dimension.\n",
    "The method is called Least Absolute Shrinkage and Selection Operator (Lasso) and the resulting simplified model is a **sparse model** or parsimonious model.\n",
    "In the Lasso, the regularization term is defined by $Reg(\\beta) = ||\\beta||_1$.\n",
    "\n",
    "The Lasso performs a model's feature selection: for correlated variables, it retains only one variable and sets other correlated variables to zero.\n",
    "The counterpart is that it obviously induces a loss of information resulting in lower accuracy."
   ]
  },
  {
   "cell_type": "code",
   "execution_count": null,
   "metadata": {},
   "outputs": [],
   "source": [
    "from sklearn.linear_model import Lasso\n",
    "\n",
    "lassoR = Lasso(alpha=)\n",
    "lassoR.fit(X_train, y_train)\n",
    "\n",
    "print(\"Train MSE sin regularización:\", round(metrics.mean_squared_error(y_train, lr.predict(X_train)),4))\n",
    "print(\"Test MSE sin regularización:\", round(metrics.mean_squared_error(y_test, lr.predict(X_test)),4))\n",
    "\n",
    "print(\"Train MSE: %0.4f\" % metrics.mean_squared_error(y_train, lassoR.predict(X_train)))\n",
    "print(\"Test MSE: %0.4f\" % metrics.mean_squared_error(y_test, lassoR.predict(X_test)))"
   ]
  },
  {
   "cell_type": "markdown",
   "metadata": {},
   "source": [
    "## 2.3) Elastic net\n",
    "\n",
    "The Elastic Net method is a hybrid of the Ridge regression and the Lasso, thus overcomes the issue of losing information.\n",
    "The regularization term combines both the $L_1$ and the $L_2$ regularizations.\n",
    "More precisely, the regularisation term is set to $Reg(\\beta) = \\lambda((1-\\alpha)||\\beta||_1+\\alpha||\\beta||_2^2)$ where $\\alpha$ is an additional parameter to fit.\n",
    "\n",
    "The Elastic net has a selecting effect on variables as Lasso but keep correlated variables as Ridge regression.\n",
    "Thus the Elastic net model is less sparse than the Lasso, keeping more information. \n",
    "However the model is more demanding in computational resources.\n",
    "\n",
    "In what follows we present results for $\\alpha=0.5$."
   ]
  },
  {
   "cell_type": "code",
   "execution_count": null,
   "metadata": {},
   "outputs": [],
   "source": [
    "from sklearn.linear_model import ElasticNet\n",
    "\n",
    "elastic_net = ElasticNet(alpha = , l1_ratio = )\n",
    "elastic_net.fit(X_train, y_train)\n",
    "\n",
    "print(\"Train MSE: %0.4f\" % metrics.mean_squared_error(y_train, elastic_net.predict(X_train)))\n",
    "print(\"Test MSE: %0.4f\" % metrics.mean_squared_error(y_test, elastic_net.predict(X_test)))"
   ]
  },
  {
   "cell_type": "markdown",
   "metadata": {},
   "source": [
    "\n",
    "<br>\n",
    "\n",
    "# Model selection "
   ]
  },
  {
   "cell_type": "code",
   "execution_count": null,
   "metadata": {},
   "outputs": [],
   "source": []
  },
  {
   "cell_type": "markdown",
   "metadata": {},
   "source": [
    "* The Lasso performs better than others methods (Elastic net: $\\alpha=0.5$). \n",
    "* The Lasso is more parsimonious but there is likely to be a loss of accuracy.\n",
    "* The Elastic net performs better than the Ridge regression (with $\\alpha=0.5$).\n",
    "* The Elastic net can be tuned to outperform Lasso but it is more demanding in computational resources.\n",
    "\n",
    "**=> The Elastic net is a good trade-off for accuracy and computational cost balance between the Ridge regression and the Lasso**.\n",
    "\n",
    "\n",
    "In order to optimize the model by fitting the optimal parameters, a cross validation can be performed.\n",
    "The functions sklearn.linear_model.RidgeCV, sklearn.linear_model.LassoCV and sklearn.linear_model.ElasticNetCV in Python perform an automatic tunning of hyperparameters for the Rigde regression, the Lasso and the Elastic Net respectively."
   ]
  }
 ],
 "metadata": {
  "interpreter": {
   "hash": "7c77fdb427e7cbc9bc1367dd530fc2b36aacdbbde1ac83c85833b10dfa8b831c"
  },
  "kernelspec": {
   "display_name": "Python 3.7.4 64-bit",
   "name": "python3"
  },
  "language_info": {
   "codemirror_mode": {
    "name": "ipython",
    "version": 3
   },
   "file_extension": ".py",
   "mimetype": "text/x-python",
   "name": "python",
   "nbconvert_exporter": "python",
   "pygments_lexer": "ipython3",
   "version": "3.12.1"
  }
 },
 "nbformat": 4,
 "nbformat_minor": 4
}
