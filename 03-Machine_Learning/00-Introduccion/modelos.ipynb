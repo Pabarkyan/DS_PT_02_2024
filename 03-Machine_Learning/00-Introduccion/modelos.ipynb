{
 "cells": [
  {
   "cell_type": "markdown",
   "metadata": {},
   "source": [
    "Machine Learning es la ciencia (y el arte) de programar computadores para que aprendan de los datos -- Aurélien Géron en Hands-ON Machine Learning with Scikit-Learn, Keras & TensorFlow\n"
   ]
  },
  {
   "cell_type": "markdown",
   "metadata": {},
   "source": [
    "Podemos decir que un programa de computador aprende de los datos si a medida que introducimos nuevos datos realiza una determinada tarea cada vez mejor, según una determinada medida de rendimiento -- Tom Michell, 1997. Traducción aproximada"
   ]
  },
  {
   "cell_type": "markdown",
   "metadata": {},
   "source": [
    "Necesitamos tres elementos:\n",
    "\n",
    "1. Tarea a realizar por nuestro programa\n",
    "2. Datos \n",
    "3. Medida de rendimiento (o error)\n",
    "\n",
    "Resultado: Mejora del rendimiento (3) al realizar la tarea (1) cuando introducimos nuevos datos (2) "
   ]
  },
  {
   "cell_type": "markdown",
   "metadata": {},
   "source": [
    "Todos los modelos son erróneos, pero algunos son útiles -- George Edward Pelham Box"
   ]
  },
  {
   "cell_type": "code",
   "execution_count": 1,
   "metadata": {},
   "outputs": [],
   "source": [
    "import pandas as pd"
   ]
  },
  {
   "cell_type": "code",
   "execution_count": 2,
   "metadata": {},
   "outputs": [],
   "source": [
    "import pandas as pd\n",
    "dt_small = pd.DataFrame([279, 280, 277, 279, 282, 277, 283, 279, 280, 270, 281, 278, 272, 276, 288, 268, 266, 278, 278, 279, 277])\n",
    "dt_small.columns = [\"dur_embarazo\"]"
   ]
  },
  {
   "cell_type": "markdown",
   "metadata": {},
   "source": [
    "### Task: acertar la duración del embarazo\n",
    "## Error/Rendimiento\n",
    "* Sumar: 1 si no es exactamente el mismo día, 0 si es el mismo día\n",
    "* Sumar: diferencia absoluta entre lo predicho y lo real\n",
    "* Sumar: diferencia al cuadrado entre lo predicho y lo real\n",
    "* Sumar y hacer raíz cuadrada: diferencia al cuadrado entre lo predicho y lo real\n",
    "## Modelo\n",
    "* Siempre es 276/277/279\n",
    "* Moda/Media/Mediana"
   ]
  },
  {
   "cell_type": "code",
   "execution_count": 9,
   "metadata": {},
   "outputs": [],
   "source": [
    "dt_small['modelo_276'] = 276\n",
    "dt_small['modelo_279'] = 279\n",
    "dt_small['modelo_277'] = 277\n",
    "dt_small['modelo_moda'] = dt_small['dur_embarazo'].mode().iloc[0] # Porque la moda te devuelve un dataframe\n",
    "dt_small['modelo_media'] = dt_small['dur_embarazo'].mean()\n",
    "dt_small['modelo_mediana'] = dt_small['dur_embarazo'].median()\n"
   ]
  },
  {
   "cell_type": "code",
   "execution_count": 10,
   "metadata": {},
   "outputs": [],
   "source": [
    "dt_small[\"aciertos_276\"] = dt_small[\"dur_embarazo\"] == dt_small[\"modelo_276\"] \n",
    "dt_small[\"aciertos_277\"] = dt_small[\"dur_embarazo\"] == dt_small[\"modelo_277\"] \n",
    "dt_small[\"aciertos_279\"] = dt_small[\"dur_embarazo\"] == dt_small[\"modelo_279\"] \n",
    "dt_small[\"aciertos_mediana\"] = dt_small[\"dur_embarazo\"] == dt_small[\"modelo_mediana\"] "
   ]
  },
  {
   "cell_type": "code",
   "execution_count": 11,
   "metadata": {},
   "outputs": [
    {
     "data": {
      "text/plain": [
       "aciertos_276        0.047619\n",
       "aciertos_277        0.142857\n",
       "aciertos_279        0.190476\n",
       "aciertos_mediana    0.142857\n",
       "dtype: float64"
      ]
     },
     "execution_count": 11,
     "metadata": {},
     "output_type": "execute_result"
    }
   ],
   "source": [
    "dt_small[['aciertos_276', 'aciertos_277', 'aciertos_279', 'aciertos_mediana']].mean()"
   ]
  },
  {
   "cell_type": "markdown",
   "metadata": {},
   "source": [
    " ### Task: minimizar que la madre no esté preparada"
   ]
  },
  {
   "cell_type": "code",
   "execution_count": 97,
   "metadata": {},
   "outputs": [
    {
     "data": {
      "text/html": [
       "<div>\n",
       "<style scoped>\n",
       "    .dataframe tbody tr th:only-of-type {\n",
       "        vertical-align: middle;\n",
       "    }\n",
       "\n",
       "    .dataframe tbody tr th {\n",
       "        vertical-align: top;\n",
       "    }\n",
       "\n",
       "    .dataframe thead th {\n",
       "        text-align: right;\n",
       "    }\n",
       "</style>\n",
       "<table border=\"1\" class=\"dataframe\">\n",
       "  <thead>\n",
       "    <tr style=\"text-align: right;\">\n",
       "      <th></th>\n",
       "      <th>dur_embarazo</th>\n",
       "    </tr>\n",
       "  </thead>\n",
       "  <tbody>\n",
       "    <tr>\n",
       "      <th>0</th>\n",
       "      <td>279</td>\n",
       "    </tr>\n",
       "  </tbody>\n",
       "</table>\n",
       "</div>"
      ],
      "text/plain": [
       "   dur_embarazo\n",
       "0           279"
      ]
     },
     "execution_count": 97,
     "metadata": {},
     "output_type": "execute_result"
    }
   ],
   "source": []
  },
  {
   "cell_type": "markdown",
   "metadata": {},
   "source": [
    "### ¿Qué es mejorar el rendimiento al introducir más datos?"
   ]
  },
  {
   "cell_type": "code",
   "execution_count": 12,
   "metadata": {},
   "outputs": [],
   "source": [
    "import pandas as pd\n",
    "dt_emb = pd.read_csv(\"dur_emb.csv\")"
   ]
  },
  {
   "cell_type": "code",
   "execution_count": 39,
   "metadata": {},
   "outputs": [],
   "source": [
    "dt_emb[\"modelo_276\"] = 276\n",
    "dt_emb[\"modelo_277\"] = 277\n",
    "dt_emb[\"modelo_279\"] = 279\n",
    "dt_emb[\"modelo_moda\"] = dt_emb[\"dur_embarazo\"].mode().iloc[0]\n",
    "dt_emb[\"modelo_media\"] = dt_emb[\"dur_embarazo\"].mean()\n",
    "dt_emb[\"modelo_mediana\"] = dt_emb[\"dur_embarazo\"].median()"
   ]
  },
  {
   "cell_type": "code",
   "execution_count": 40,
   "metadata": {},
   "outputs": [],
   "source": [
    "dt_emb[\"aciertos_276\"] = dt_emb[\"dur_embarazo\"] == dt_emb[\"modelo_276\"] \n",
    "dt_emb[\"aciertos_277\"] = dt_emb[\"dur_embarazo\"] == dt_emb[\"modelo_277\"] \n",
    "dt_emb[\"aciertos_279\"] = dt_emb[\"dur_embarazo\"] == dt_emb[\"modelo_279\"] \n",
    "dt_emb[\"aciertos_moda\"] = dt_emb[\"dur_embarazo\"] == dt_emb[\"modelo_moda\"] \n",
    "dt_emb[\"aciertos_mediana\"] = dt_emb[\"dur_embarazo\"] == dt_emb[\"modelo_mediana\"] "
   ]
  },
  {
   "cell_type": "code",
   "execution_count": 41,
   "metadata": {},
   "outputs": [
    {
     "data": {
      "text/plain": [
       "aciertos_276        0.029091\n",
       "aciertos_277        0.032727\n",
       "aciertos_279        0.029091\n",
       "aciertos_mediana    0.029091\n",
       "aciertos_moda       0.044545\n",
       "dtype: float64"
      ]
     },
     "execution_count": 41,
     "metadata": {},
     "output_type": "execute_result"
    }
   ],
   "source": [
    "dt_emb[[\"aciertos_276\", \"aciertos_277\", \"aciertos_279\", \"aciertos_mediana\", \"aciertos_moda\"]].mean()"
   ]
  },
  {
   "cell_type": "code",
   "execution_count": 43,
   "metadata": {},
   "outputs": [],
   "source": [
    "dt_emb[\"error_abs_276\"] = abs(dt_emb[\"dur_embarazo\"] - dt_emb[\"modelo_276\"]) \n",
    "dt_emb[\"error_abs_277\"] = abs(dt_emb[\"dur_embarazo\"] - dt_emb[\"modelo_277\"])\n",
    "dt_emb[\"error_abs_279\"] = abs(dt_emb[\"dur_embarazo\"] - dt_emb[\"modelo_279\"]) \n",
    "dt_emb[\"error_abs_mediana\"] = abs(dt_emb[\"dur_embarazo\"] - dt_emb[\"modelo_mediana\"]) \n",
    "dt_emb[\"error_abs_media\"] = abs(dt_emb[\"dur_embarazo\"] - dt_emb[\"modelo_media\"]) \n",
    "dt_emb[\"error_abs_moda\"] = abs(dt_emb[\"dur_embarazo\"] - dt_emb[\"modelo_moda\"]) "
   ]
  },
  {
   "cell_type": "code",
   "execution_count": 44,
   "metadata": {},
   "outputs": [
    {
     "data": {
      "text/plain": [
       "error_abs_276        12474.000000\n",
       "error_abs_277        12292.000000\n",
       "error_abs_279        12146.000000\n",
       "error_abs_mediana    12146.000000\n",
       "error_abs_media      12401.530909\n",
       "error_abs_moda       12174.000000\n",
       "dtype: float64"
      ]
     },
     "execution_count": 44,
     "metadata": {},
     "output_type": "execute_result"
    }
   ],
   "source": [
    "dt_emb[dt_emb.columns[dt_emb.columns.str.startswith(\"error_abs\")]].sum()"
   ]
  },
  {
   "cell_type": "code",
   "execution_count": 58,
   "metadata": {},
   "outputs": [
    {
     "data": {
      "text/plain": [
       "error_abs_276        11.340000\n",
       "error_abs_277        11.174545\n",
       "error_abs_279        11.041818\n",
       "error_abs_mediana    11.041818\n",
       "error_abs_media      11.274119\n",
       "error_abs_moda       11.067273\n",
       "dtype: float64"
      ]
     },
     "execution_count": 58,
     "metadata": {},
     "output_type": "execute_result"
    }
   ],
   "source": [
    "dt_emb[dt_emb.columns[dt_emb.columns.str.startswith(\"error_abs\")]].mean()"
   ]
  },
  {
   "cell_type": "code",
   "execution_count": 59,
   "metadata": {},
   "outputs": [
    {
     "data": {
      "text/plain": [
       "error_abs_276        8.000000\n",
       "error_abs_277        8.000000\n",
       "error_abs_279        8.000000\n",
       "error_abs_mediana    8.000000\n",
       "error_abs_media      8.398182\n",
       "error_abs_moda       8.000000\n",
       "dtype: float64"
      ]
     },
     "execution_count": 59,
     "metadata": {},
     "output_type": "execute_result"
    }
   ],
   "source": [
    "dt_emb[dt_emb.columns[dt_emb.columns.str.startswith(\"error_abs\")]].median()"
   ]
  },
  {
   "cell_type": "code",
   "execution_count": 46,
   "metadata": {},
   "outputs": [],
   "source": [
    "dt_emb[\"error_sqrt_276\"] = abs(dt_emb[\"dur_embarazo\"] - dt_emb[\"modelo_276\"])**2 \n",
    "dt_emb[\"error_sqrt_277\"] = abs(dt_emb[\"dur_embarazo\"] - dt_emb[\"modelo_277\"])**2\n",
    "dt_emb[\"error_sqrt_279\"] = abs(dt_emb[\"dur_embarazo\"] - dt_emb[\"modelo_279\"])**2 \n",
    "dt_emb[\"error_sqrt_mediana\"] = abs(dt_emb[\"dur_embarazo\"] - dt_emb[\"modelo_mediana\"])**2 \n",
    "dt_emb[\"error_sqrt_media\"] = abs(dt_emb[\"dur_embarazo\"] - dt_emb[\"modelo_media\"])**2 \n",
    "dt_emb[\"error_sqrt_moda\"] = abs(dt_emb[\"dur_embarazo\"] - dt_emb[\"modelo_moda\"])**2 "
   ]
  },
  {
   "cell_type": "code",
   "execution_count": 47,
   "metadata": {},
   "outputs": [
    {
     "data": {
      "text/plain": [
       "error_sqrt_276        259592.000000\n",
       "error_sqrt_277        259816.000000\n",
       "error_sqrt_279        266864.000000\n",
       "error_sqrt_mediana    266864.000000\n",
       "error_sqrt_media      259417.596364\n",
       "error_sqrt_moda       273688.000000\n",
       "dtype: float64"
      ]
     },
     "execution_count": 47,
     "metadata": {},
     "output_type": "execute_result"
    }
   ],
   "source": [
    "dt_emb[dt_emb.columns[dt_emb.columns.str.startswith(\"error_sqrt\")]].sum()"
   ]
  },
  {
   "cell_type": "code",
   "execution_count": 60,
   "metadata": {},
   "outputs": [
    {
     "data": {
      "text/html": [
       "<div>\n",
       "<style scoped>\n",
       "    .dataframe tbody tr th:only-of-type {\n",
       "        vertical-align: middle;\n",
       "    }\n",
       "\n",
       "    .dataframe tbody tr th {\n",
       "        vertical-align: top;\n",
       "    }\n",
       "\n",
       "    .dataframe thead th {\n",
       "        text-align: right;\n",
       "    }\n",
       "</style>\n",
       "<table border=\"1\" class=\"dataframe\">\n",
       "  <thead>\n",
       "    <tr style=\"text-align: right;\">\n",
       "      <th></th>\n",
       "      <th>dur_embarazo</th>\n",
       "      <th>modelo_276</th>\n",
       "      <th>modelo_277</th>\n",
       "      <th>modelo_279</th>\n",
       "      <th>modelo_moda</th>\n",
       "      <th>modelo_media</th>\n",
       "      <th>modelo_mediana</th>\n",
       "      <th>aciertos_276</th>\n",
       "      <th>aciertos_277</th>\n",
       "      <th>aciertos_279</th>\n",
       "      <th>...</th>\n",
       "      <th>error_abs_279</th>\n",
       "      <th>error_abs_mediana</th>\n",
       "      <th>error_abs_media</th>\n",
       "      <th>error_abs_moda</th>\n",
       "      <th>error_sqrt_276</th>\n",
       "      <th>error_sqrt_277</th>\n",
       "      <th>error_sqrt_279</th>\n",
       "      <th>error_sqrt_mediana</th>\n",
       "      <th>error_sqrt_media</th>\n",
       "      <th>error_sqrt_moda</th>\n",
       "    </tr>\n",
       "  </thead>\n",
       "  <tbody>\n",
       "    <tr>\n",
       "      <th>0</th>\n",
       "      <td>293.0</td>\n",
       "      <td>276</td>\n",
       "      <td>277</td>\n",
       "      <td>279</td>\n",
       "      <td>280.0</td>\n",
       "      <td>276.398182</td>\n",
       "      <td>279.0</td>\n",
       "      <td>False</td>\n",
       "      <td>False</td>\n",
       "      <td>False</td>\n",
       "      <td>...</td>\n",
       "      <td>14.0</td>\n",
       "      <td>14.0</td>\n",
       "      <td>16.601818</td>\n",
       "      <td>13.0</td>\n",
       "      <td>289.0</td>\n",
       "      <td>256.0</td>\n",
       "      <td>196.0</td>\n",
       "      <td>196.0</td>\n",
       "      <td>275.620367</td>\n",
       "      <td>169.0</td>\n",
       "    </tr>\n",
       "    <tr>\n",
       "      <th>1</th>\n",
       "      <td>267.0</td>\n",
       "      <td>276</td>\n",
       "      <td>277</td>\n",
       "      <td>279</td>\n",
       "      <td>280.0</td>\n",
       "      <td>276.398182</td>\n",
       "      <td>279.0</td>\n",
       "      <td>False</td>\n",
       "      <td>False</td>\n",
       "      <td>False</td>\n",
       "      <td>...</td>\n",
       "      <td>12.0</td>\n",
       "      <td>12.0</td>\n",
       "      <td>9.398182</td>\n",
       "      <td>13.0</td>\n",
       "      <td>81.0</td>\n",
       "      <td>100.0</td>\n",
       "      <td>144.0</td>\n",
       "      <td>144.0</td>\n",
       "      <td>88.325821</td>\n",
       "      <td>169.0</td>\n",
       "    </tr>\n",
       "    <tr>\n",
       "      <th>2</th>\n",
       "      <td>283.0</td>\n",
       "      <td>276</td>\n",
       "      <td>277</td>\n",
       "      <td>279</td>\n",
       "      <td>280.0</td>\n",
       "      <td>276.398182</td>\n",
       "      <td>279.0</td>\n",
       "      <td>False</td>\n",
       "      <td>False</td>\n",
       "      <td>False</td>\n",
       "      <td>...</td>\n",
       "      <td>4.0</td>\n",
       "      <td>4.0</td>\n",
       "      <td>6.601818</td>\n",
       "      <td>3.0</td>\n",
       "      <td>49.0</td>\n",
       "      <td>36.0</td>\n",
       "      <td>16.0</td>\n",
       "      <td>16.0</td>\n",
       "      <td>43.584003</td>\n",
       "      <td>9.0</td>\n",
       "    </tr>\n",
       "    <tr>\n",
       "      <th>3</th>\n",
       "      <td>294.0</td>\n",
       "      <td>276</td>\n",
       "      <td>277</td>\n",
       "      <td>279</td>\n",
       "      <td>280.0</td>\n",
       "      <td>276.398182</td>\n",
       "      <td>279.0</td>\n",
       "      <td>False</td>\n",
       "      <td>False</td>\n",
       "      <td>False</td>\n",
       "      <td>...</td>\n",
       "      <td>15.0</td>\n",
       "      <td>15.0</td>\n",
       "      <td>17.601818</td>\n",
       "      <td>14.0</td>\n",
       "      <td>324.0</td>\n",
       "      <td>289.0</td>\n",
       "      <td>225.0</td>\n",
       "      <td>225.0</td>\n",
       "      <td>309.824003</td>\n",
       "      <td>196.0</td>\n",
       "    </tr>\n",
       "    <tr>\n",
       "      <th>4</th>\n",
       "      <td>271.0</td>\n",
       "      <td>276</td>\n",
       "      <td>277</td>\n",
       "      <td>279</td>\n",
       "      <td>280.0</td>\n",
       "      <td>276.398182</td>\n",
       "      <td>279.0</td>\n",
       "      <td>False</td>\n",
       "      <td>False</td>\n",
       "      <td>False</td>\n",
       "      <td>...</td>\n",
       "      <td>8.0</td>\n",
       "      <td>8.0</td>\n",
       "      <td>5.398182</td>\n",
       "      <td>9.0</td>\n",
       "      <td>25.0</td>\n",
       "      <td>36.0</td>\n",
       "      <td>64.0</td>\n",
       "      <td>64.0</td>\n",
       "      <td>29.140367</td>\n",
       "      <td>81.0</td>\n",
       "    </tr>\n",
       "    <tr>\n",
       "      <th>...</th>\n",
       "      <td>...</td>\n",
       "      <td>...</td>\n",
       "      <td>...</td>\n",
       "      <td>...</td>\n",
       "      <td>...</td>\n",
       "      <td>...</td>\n",
       "      <td>...</td>\n",
       "      <td>...</td>\n",
       "      <td>...</td>\n",
       "      <td>...</td>\n",
       "      <td>...</td>\n",
       "      <td>...</td>\n",
       "      <td>...</td>\n",
       "      <td>...</td>\n",
       "      <td>...</td>\n",
       "      <td>...</td>\n",
       "      <td>...</td>\n",
       "      <td>...</td>\n",
       "      <td>...</td>\n",
       "      <td>...</td>\n",
       "      <td>...</td>\n",
       "    </tr>\n",
       "    <tr>\n",
       "      <th>1095</th>\n",
       "      <td>246.0</td>\n",
       "      <td>276</td>\n",
       "      <td>277</td>\n",
       "      <td>279</td>\n",
       "      <td>280.0</td>\n",
       "      <td>276.398182</td>\n",
       "      <td>279.0</td>\n",
       "      <td>False</td>\n",
       "      <td>False</td>\n",
       "      <td>False</td>\n",
       "      <td>...</td>\n",
       "      <td>33.0</td>\n",
       "      <td>33.0</td>\n",
       "      <td>30.398182</td>\n",
       "      <td>34.0</td>\n",
       "      <td>900.0</td>\n",
       "      <td>961.0</td>\n",
       "      <td>1089.0</td>\n",
       "      <td>1089.0</td>\n",
       "      <td>924.049458</td>\n",
       "      <td>1156.0</td>\n",
       "    </tr>\n",
       "    <tr>\n",
       "      <th>1096</th>\n",
       "      <td>236.0</td>\n",
       "      <td>276</td>\n",
       "      <td>277</td>\n",
       "      <td>279</td>\n",
       "      <td>280.0</td>\n",
       "      <td>276.398182</td>\n",
       "      <td>279.0</td>\n",
       "      <td>False</td>\n",
       "      <td>False</td>\n",
       "      <td>False</td>\n",
       "      <td>...</td>\n",
       "      <td>43.0</td>\n",
       "      <td>43.0</td>\n",
       "      <td>40.398182</td>\n",
       "      <td>44.0</td>\n",
       "      <td>1600.0</td>\n",
       "      <td>1681.0</td>\n",
       "      <td>1849.0</td>\n",
       "      <td>1849.0</td>\n",
       "      <td>1632.013094</td>\n",
       "      <td>1936.0</td>\n",
       "    </tr>\n",
       "    <tr>\n",
       "      <th>1097</th>\n",
       "      <td>239.0</td>\n",
       "      <td>276</td>\n",
       "      <td>277</td>\n",
       "      <td>279</td>\n",
       "      <td>280.0</td>\n",
       "      <td>276.398182</td>\n",
       "      <td>279.0</td>\n",
       "      <td>False</td>\n",
       "      <td>False</td>\n",
       "      <td>False</td>\n",
       "      <td>...</td>\n",
       "      <td>40.0</td>\n",
       "      <td>40.0</td>\n",
       "      <td>37.398182</td>\n",
       "      <td>41.0</td>\n",
       "      <td>1369.0</td>\n",
       "      <td>1444.0</td>\n",
       "      <td>1600.0</td>\n",
       "      <td>1600.0</td>\n",
       "      <td>1398.624003</td>\n",
       "      <td>1681.0</td>\n",
       "    </tr>\n",
       "    <tr>\n",
       "      <th>1098</th>\n",
       "      <td>249.0</td>\n",
       "      <td>276</td>\n",
       "      <td>277</td>\n",
       "      <td>279</td>\n",
       "      <td>280.0</td>\n",
       "      <td>276.398182</td>\n",
       "      <td>279.0</td>\n",
       "      <td>False</td>\n",
       "      <td>False</td>\n",
       "      <td>False</td>\n",
       "      <td>...</td>\n",
       "      <td>30.0</td>\n",
       "      <td>30.0</td>\n",
       "      <td>27.398182</td>\n",
       "      <td>31.0</td>\n",
       "      <td>729.0</td>\n",
       "      <td>784.0</td>\n",
       "      <td>900.0</td>\n",
       "      <td>900.0</td>\n",
       "      <td>750.660367</td>\n",
       "      <td>961.0</td>\n",
       "    </tr>\n",
       "    <tr>\n",
       "      <th>1099</th>\n",
       "      <td>252.0</td>\n",
       "      <td>276</td>\n",
       "      <td>277</td>\n",
       "      <td>279</td>\n",
       "      <td>280.0</td>\n",
       "      <td>276.398182</td>\n",
       "      <td>279.0</td>\n",
       "      <td>False</td>\n",
       "      <td>False</td>\n",
       "      <td>False</td>\n",
       "      <td>...</td>\n",
       "      <td>27.0</td>\n",
       "      <td>27.0</td>\n",
       "      <td>24.398182</td>\n",
       "      <td>28.0</td>\n",
       "      <td>576.0</td>\n",
       "      <td>625.0</td>\n",
       "      <td>729.0</td>\n",
       "      <td>729.0</td>\n",
       "      <td>595.271276</td>\n",
       "      <td>784.0</td>\n",
       "    </tr>\n",
       "  </tbody>\n",
       "</table>\n",
       "<p>1100 rows × 24 columns</p>\n",
       "</div>"
      ],
      "text/plain": [
       "      dur_embarazo  modelo_276  modelo_277  modelo_279  modelo_moda  \\\n",
       "0            293.0         276         277         279        280.0   \n",
       "1            267.0         276         277         279        280.0   \n",
       "2            283.0         276         277         279        280.0   \n",
       "3            294.0         276         277         279        280.0   \n",
       "4            271.0         276         277         279        280.0   \n",
       "...            ...         ...         ...         ...          ...   \n",
       "1095         246.0         276         277         279        280.0   \n",
       "1096         236.0         276         277         279        280.0   \n",
       "1097         239.0         276         277         279        280.0   \n",
       "1098         249.0         276         277         279        280.0   \n",
       "1099         252.0         276         277         279        280.0   \n",
       "\n",
       "      modelo_media  modelo_mediana  aciertos_276  aciertos_277  aciertos_279  \\\n",
       "0       276.398182           279.0         False         False         False   \n",
       "1       276.398182           279.0         False         False         False   \n",
       "2       276.398182           279.0         False         False         False   \n",
       "3       276.398182           279.0         False         False         False   \n",
       "4       276.398182           279.0         False         False         False   \n",
       "...            ...             ...           ...           ...           ...   \n",
       "1095    276.398182           279.0         False         False         False   \n",
       "1096    276.398182           279.0         False         False         False   \n",
       "1097    276.398182           279.0         False         False         False   \n",
       "1098    276.398182           279.0         False         False         False   \n",
       "1099    276.398182           279.0         False         False         False   \n",
       "\n",
       "      ...  error_abs_279  error_abs_mediana  error_abs_media  error_abs_moda  \\\n",
       "0     ...           14.0               14.0        16.601818            13.0   \n",
       "1     ...           12.0               12.0         9.398182            13.0   \n",
       "2     ...            4.0                4.0         6.601818             3.0   \n",
       "3     ...           15.0               15.0        17.601818            14.0   \n",
       "4     ...            8.0                8.0         5.398182             9.0   \n",
       "...   ...            ...                ...              ...             ...   \n",
       "1095  ...           33.0               33.0        30.398182            34.0   \n",
       "1096  ...           43.0               43.0        40.398182            44.0   \n",
       "1097  ...           40.0               40.0        37.398182            41.0   \n",
       "1098  ...           30.0               30.0        27.398182            31.0   \n",
       "1099  ...           27.0               27.0        24.398182            28.0   \n",
       "\n",
       "      error_sqrt_276  error_sqrt_277  error_sqrt_279  error_sqrt_mediana  \\\n",
       "0              289.0           256.0           196.0               196.0   \n",
       "1               81.0           100.0           144.0               144.0   \n",
       "2               49.0            36.0            16.0                16.0   \n",
       "3              324.0           289.0           225.0               225.0   \n",
       "4               25.0            36.0            64.0                64.0   \n",
       "...              ...             ...             ...                 ...   \n",
       "1095           900.0           961.0          1089.0              1089.0   \n",
       "1096          1600.0          1681.0          1849.0              1849.0   \n",
       "1097          1369.0          1444.0          1600.0              1600.0   \n",
       "1098           729.0           784.0           900.0               900.0   \n",
       "1099           576.0           625.0           729.0               729.0   \n",
       "\n",
       "      error_sqrt_media  error_sqrt_moda  \n",
       "0           275.620367            169.0  \n",
       "1            88.325821            169.0  \n",
       "2            43.584003              9.0  \n",
       "3           309.824003            196.0  \n",
       "4            29.140367             81.0  \n",
       "...                ...              ...  \n",
       "1095        924.049458           1156.0  \n",
       "1096       1632.013094           1936.0  \n",
       "1097       1398.624003           1681.0  \n",
       "1098        750.660367            961.0  \n",
       "1099        595.271276            784.0  \n",
       "\n",
       "[1100 rows x 24 columns]"
      ]
     },
     "execution_count": 60,
     "metadata": {},
     "output_type": "execute_result"
    }
   ],
   "source": [
    "dt_emb"
   ]
  },
  {
   "cell_type": "code",
   "execution_count": 64,
   "metadata": {},
   "outputs": [
    {
     "data": {
      "text/plain": [
       "error_sqrt_276        259592.000000\n",
       "error_sqrt_277        259816.000000\n",
       "error_sqrt_279        266864.000000\n",
       "error_sqrt_mediana    266864.000000\n",
       "error_sqrt_media      259417.596364\n",
       "error_sqrt_moda       273688.000000\n",
       "dtype: float64"
      ]
     },
     "execution_count": 64,
     "metadata": {},
     "output_type": "execute_result"
    }
   ],
   "source": [
    "import math\n",
    "dt_emb[dt_emb.columns[dt_emb.columns.str.startswith(\"error_sqrt\")]].sum()"
   ]
  },
  {
   "cell_type": "code",
   "execution_count": 63,
   "metadata": {},
   "outputs": [
    {
     "data": {
      "text/plain": [
       "15.35689351764857"
      ]
     },
     "execution_count": 63,
     "metadata": {},
     "output_type": "execute_result"
    }
   ],
   "source": [
    "math.sqrt(dt_emb[\"error_sqrt_media\"].mean())"
   ]
  },
  {
   "cell_type": "code",
   "execution_count": 66,
   "metadata": {},
   "outputs": [
    {
     "data": {
      "text/plain": [
       "<Axes: ylabel='Frequency'>"
      ]
     },
     "execution_count": 66,
     "metadata": {},
     "output_type": "execute_result"
    },
    {
     "data": {
      "image/png": "[encoded data removed]",
      "text/plain": [
       "<Figure size 640x480 with 1 Axes>"
      ]
     },
     "metadata": {},
     "output_type": "display_data"
    }
   ],
   "source": [
    "dt_emb[\"dur_embarazo\"].plot.hist()"
   ]
  }
 ],
 "metadata": {
  "kernelspec": {
   "display_name": "Python 3",
   "language": "python",
   "name": "python3"
  },
  "language_info": {
   "codemirror_mode": {
    "name": "ipython",
    "version": 3
   },
   "file_extension": ".py",
   "mimetype": "text/x-python",
   "name": "python",
   "nbconvert_exporter": "python",
   "pygments_lexer": "ipython3",
   "version": "3.12.1"
  }
 },
 "nbformat": 4,
 "nbformat_minor": 2
}
