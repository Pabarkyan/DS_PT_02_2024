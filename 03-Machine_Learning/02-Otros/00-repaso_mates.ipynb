{
 "cells": [
  {
   "cell_type": "markdown",
   "metadata": {},
   "source": [
    "# Algunas operaciones con trampa"
   ]
  },
  {
   "cell_type": "code",
   "execution_count": 1,
   "metadata": {},
   "outputs": [
    {
     "name": "stdout",
     "output_type": "stream",
     "text": [
      "40\n",
      "40\n"
     ]
    }
   ],
   "source": [
    "# Si bien esto lo podemos hacer (se llama propiedad distributiva):\n",
    "print(4*(3+7)) \n",
    "print(4*3 + 4*7)"
   ]
  },
  {
   "cell_type": "code",
   "execution_count": 2,
   "metadata": {},
   "outputs": [
    {
     "name": "stdout",
     "output_type": "stream",
     "text": [
      "60\n",
      "50\n"
     ]
    }
   ],
   "source": [
    "# Esto no es igual\n",
    "print(2*3*(3+7)) \n",
    "print(2*3 + 2*7 +3*3 + 3*7)"
   ]
  },
  {
   "cell_type": "code",
   "execution_count": 3,
   "metadata": {},
   "outputs": [
    {
     "name": "stdout",
     "output_type": "stream",
     "text": [
      "60\n"
     ]
    }
   ],
   "source": [
    "print(6*3 + 6*7)"
   ]
  },
  {
   "cell_type": "code",
   "execution_count": 4,
   "metadata": {},
   "outputs": [
    {
     "name": "stdout",
     "output_type": "stream",
     "text": [
      "9.5\n",
      "9.5\n",
      "9.5\n"
     ]
    }
   ],
   "source": [
    "# Esto está bien\n",
    "print(19/2) \n",
    "print(18/2 + 1/2)\n",
    "print(14/2 + 5/2)\n"
   ]
  },
  {
   "cell_type": "code",
   "execution_count": 5,
   "metadata": {},
   "outputs": [
    {
     "name": "stdout",
     "output_type": "stream",
     "text": [
      "3.8\n",
      "15.833333333333332\n",
      "7.166666666666667\n"
     ]
    }
   ],
   "source": [
    "# Esto no está bien\n",
    "print(19/5) \n",
    "print(19/3 + 19/2)\n",
    "print(14/3 + 5/2)"
   ]
  },
  {
   "cell_type": "code",
   "execution_count": 6,
   "metadata": {},
   "outputs": [
    {
     "name": "stdout",
     "output_type": "stream",
     "text": [
      "30.0\n",
      "30.0\n"
     ]
    }
   ],
   "source": [
    "# Esto está bien\n",
    "from math import sqrt\n",
    "print(sqrt(25*36)) \n",
    "print(sqrt(25)*sqrt(36))\n"
   ]
  },
  {
   "cell_type": "code",
   "execution_count": 8,
   "metadata": {},
   "outputs": [
    {
     "name": "stdout",
     "output_type": "stream",
     "text": [
      "7.810249675906654\n",
      "11.0\n"
     ]
    }
   ],
   "source": [
    "# Esto no está bien\n",
    "from math import sqrt\n",
    "print(sqrt(25+36)) \n",
    "print(sqrt(25)+sqrt(36))\n"
   ]
  },
  {
   "cell_type": "code",
   "execution_count": 9,
   "metadata": {},
   "outputs": [
    {
     "name": "stdout",
     "output_type": "stream",
     "text": [
      "810000\n",
      "810000\n"
     ]
    }
   ],
   "source": [
    "# Esto está bien\n",
    "from math import sqrt\n",
    "print((25*36)**2) \n",
    "print(25**2*36**2)"
   ]
  },
  {
   "cell_type": "code",
   "execution_count": 10,
   "metadata": {},
   "outputs": [
    {
     "name": "stdout",
     "output_type": "stream",
     "text": [
      "3721\n",
      "1921\n"
     ]
    }
   ],
   "source": [
    "# Esto no está bien\n",
    "from math import sqrt\n",
    "print((25+36)**2) \n",
    "print(25**2+36**2)"
   ]
  },
  {
   "cell_type": "code",
   "execution_count": 11,
   "metadata": {},
   "outputs": [
    {
     "name": "stdout",
     "output_type": "stream",
     "text": [
      "25.000000000000004\n",
      "25.0\n",
      "25.000000000000007\n"
     ]
    }
   ],
   "source": [
    "# Esto está bien\n",
    "from math import sqrt\n",
    "print(sqrt(5)**4)\n",
    "print(sqrt(5**4))\n",
    "print(sqrt(5)*sqrt(5)*sqrt(5)*sqrt(5))"
   ]
  },
  {
   "cell_type": "code",
   "execution_count": 12,
   "metadata": {},
   "outputs": [
    {
     "name": "stdout",
     "output_type": "stream",
     "text": [
      "5.0\n",
      "11.180339887498949\n"
     ]
    }
   ],
   "source": [
    "# Esto no está bien\n",
    "from math import sqrt\n",
    "print(sqrt(5*5))\n",
    "print(5*sqrt(5))"
   ]
  },
  {
   "cell_type": "code",
   "execution_count": 13,
   "metadata": {},
   "outputs": [
    {
     "name": "stdout",
     "output_type": "stream",
     "text": [
      "11.180339887498949\n",
      "11.18033988749895\n",
      "11.180339887498949\n"
     ]
    }
   ],
   "source": [
    "# Equivalente\n",
    "print(sqrt(5**3))\n",
    "print(sqrt(5)**3)\n",
    "print(5**(3/2))"
   ]
  },
  {
   "cell_type": "code",
   "execution_count": 14,
   "metadata": {},
   "outputs": [
    {
     "name": "stdout",
     "output_type": "stream",
     "text": [
      "11.180339887498949\n",
      "62.5\n"
     ]
    }
   ],
   "source": [
    "# Esto no está bien\n",
    "print(sqrt(5**3))\n",
    "print(5**3/2) # Orden paréntesis"
   ]
  },
  {
   "cell_type": "code",
   "execution_count": 15,
   "metadata": {},
   "outputs": [
    {
     "name": "stdout",
     "output_type": "stream",
     "text": [
      "7.0\n",
      "10.5\n"
     ]
    }
   ],
   "source": [
    "# Sobre la media!\n",
    "print((6+7+8)/3)\n",
    "print((11+10)/2)"
   ]
  },
  {
   "cell_type": "code",
   "execution_count": 27,
   "metadata": {},
   "outputs": [
    {
     "name": "stdout",
     "output_type": "stream",
     "text": [
      "8.75\n",
      "8.4\n"
     ]
    }
   ],
   "source": [
    "# Media de las medias vs media de todo:\n",
    "print((7 + 10.5)/2)\n",
    "print((6+7+8+11+10)/5)"
   ]
  },
  {
   "cell_type": "code",
   "execution_count": 20,
   "metadata": {},
   "outputs": [
    {
     "name": "stdout",
     "output_type": "stream",
     "text": [
      "8.4\n"
     ]
    }
   ],
   "source": [
    "# Es correcto si hacemos la media ponderada\n",
    "print((7*3 + 10.5*2)/(3+2))"
   ]
  },
  {
   "cell_type": "code",
   "execution_count": 21,
   "metadata": {},
   "outputs": [
    {
     "name": "stdout",
     "output_type": "stream",
     "text": [
      "7.0\n",
      "11.333333333333334\n"
     ]
    }
   ],
   "source": [
    "# Sobre la media!\n",
    "print((6+7+8)/3)\n",
    "print((11+10+13)/3)"
   ]
  },
  {
   "cell_type": "code",
   "execution_count": 19,
   "metadata": {},
   "outputs": [
    {
     "name": "stdout",
     "output_type": "stream",
     "text": [
      "9.166666666666668\n",
      "9.166666666666666\n"
     ]
    }
   ],
   "source": [
    "print((7 + 11.333333333333334)/2)\n",
    "print((6+7+8+11+10+13)/6)"
   ]
  },
  {
   "cell_type": "code",
   "execution_count": 28,
   "metadata": {},
   "outputs": [
    {
     "name": "stdout",
     "output_type": "stream",
     "text": [
      "8.4\n"
     ]
    }
   ],
   "source": []
  },
  {
   "cell_type": "code",
   "execution_count": 32,
   "metadata": {},
   "outputs": [
    {
     "name": "stdout",
     "output_type": "stream",
     "text": [
      "7.0\n",
      "10.5\n"
     ]
    }
   ],
   "source": [
    "# Es correcto si las muestras son del mismo tamaño\n",
    "print((6+8)/2)\n",
    "print((11+10)/2)\n"
   ]
  },
  {
   "cell_type": "code",
   "execution_count": 33,
   "metadata": {},
   "outputs": [
    {
     "name": "stdout",
     "output_type": "stream",
     "text": [
      "8.75\n",
      "8.75\n"
     ]
    }
   ],
   "source": [
    "# Es correcto si las muestras son del mismo tamaño\n",
    "print((6+8+11+10)/4)\n",
    "print((7 + 10.5)/2)"
   ]
  },
  {
   "cell_type": "markdown",
   "metadata": {},
   "source": [
    "# Exponenciales"
   ]
  },
  {
   "cell_type": "code",
   "execution_count": 22,
   "metadata": {},
   "outputs": [
    {
     "name": "stdout",
     "output_type": "stream",
     "text": [
      "9\n",
      "27\n",
      "81\n"
     ]
    }
   ],
   "source": [
    "print(3**2)\n",
    "print(3**3)\n",
    "print(3**4)"
   ]
  },
  {
   "cell_type": "code",
   "execution_count": 23,
   "metadata": {},
   "outputs": [
    {
     "name": "stdout",
     "output_type": "stream",
     "text": [
      "10.240000000000002\n",
      "32.76800000000001\n",
      "104.85760000000002\n"
     ]
    }
   ],
   "source": [
    "print(3.2**2)\n",
    "print(3.2**3)\n",
    "print(3.2**4)"
   ]
  },
  {
   "cell_type": "code",
   "execution_count": 26,
   "metadata": {},
   "outputs": [
    {
     "name": "stdout",
     "output_type": "stream",
     "text": [
      "9\n",
      "-27\n",
      "81\n"
     ]
    }
   ],
   "source": [
    "#Si el número es negativo, pera exponente par es positivo, para exponente impar es negativo\n",
    "#Cuidado con los paréntesis\n",
    "print((-3)**2)\n",
    "print((-3)**3)\n",
    "print((-3)**4)"
   ]
  },
  {
   "cell_type": "code",
   "execution_count": 27,
   "metadata": {},
   "outputs": [
    {
     "name": "stdout",
     "output_type": "stream",
     "text": [
      "1\n",
      "1\n",
      "1\n",
      "1.0\n"
     ]
    }
   ],
   "source": [
    "# Todo número positivo elevado a 0 es 1\n",
    "print(1**0)\n",
    "print(2**0)\n",
    "print(999999**0)\n",
    "print(0.6**0)"
   ]
  },
  {
   "cell_type": "code",
   "execution_count": 29,
   "metadata": {},
   "outputs": [
    {
     "name": "stdout",
     "output_type": "stream",
     "text": [
      "1\n",
      "1\n",
      "1\n",
      "1.0\n"
     ]
    }
   ],
   "source": [
    "# Todo número negativo elevado a 0 es 1\n",
    "print((-1)**0)\n",
    "print((-2)**0)\n",
    "print((-999999)**0)\n",
    "print((-0.6)**0)"
   ]
  },
  {
   "cell_type": "code",
   "execution_count": 30,
   "metadata": {},
   "outputs": [
    {
     "name": "stdout",
     "output_type": "stream",
     "text": [
      "1\n",
      "2\n",
      "999999\n",
      "0.6\n"
     ]
    }
   ],
   "source": [
    "# Todo número positivo elevado a 1 es ese número \n",
    "print(1**1)\n",
    "print(2**1)\n",
    "print(999999**1)\n",
    "print(0.6**1)"
   ]
  },
  {
   "cell_type": "code",
   "execution_count": 31,
   "metadata": {},
   "outputs": [
    {
     "name": "stdout",
     "output_type": "stream",
     "text": [
      "1.0\n",
      "0.5\n",
      "0.01\n",
      "1.6666666666666667\n"
     ]
    }
   ],
   "source": [
    "# Todo número positivo elevado a -1 es la inversa de ese número \n",
    "print(1**-1)\n",
    "print(2**-1)\n",
    "print(100**-1)\n",
    "print(0.6**(-1))"
   ]
  },
  {
   "cell_type": "code",
   "execution_count": 17,
   "metadata": {},
   "outputs": [
    {
     "ename": "ZeroDivisionError",
     "evalue": "0.0 cannot be raised to a negative power",
     "output_type": "error",
     "traceback": [
      "\u001b[1;31m---------------------------------------------------------------------------\u001b[0m",
      "\u001b[1;31mZeroDivisionError\u001b[0m                         Traceback (most recent call last)",
      "Cell \u001b[1;32mIn[17], line 1\u001b[0m\n\u001b[1;32m----> 1\u001b[0m \u001b[38;5;28mprint\u001b[39m(\u001b[38;5;241;43m0\u001b[39;49m\u001b[38;5;241;43m*\u001b[39;49m\u001b[38;5;241;43m*\u001b[39;49m\u001b[38;5;241;43m-\u001b[39;49m\u001b[38;5;241;43m1\u001b[39;49m)\n",
      "\u001b[1;31mZeroDivisionError\u001b[0m: 0.0 cannot be raised to a negative power"
     ]
    }
   ],
   "source": [
    "# Por la tanto 0 no puede ser elevado a -1 (ni a ningún número negativo)\n",
    "print(0**-1)"
   ]
  },
  {
   "cell_type": "code",
   "execution_count": 32,
   "metadata": {},
   "outputs": [
    {
     "name": "stdout",
     "output_type": "stream",
     "text": [
      "0.1111111111111111\n",
      "0.1111111111111111\n"
     ]
    }
   ],
   "source": [
    "# Elevar a un número negativo es como hacer la inversa de elevar a ese número positivo\n",
    "print(3**-2)\n",
    "print(1/(3**2))"
   ]
  },
  {
   "cell_type": "code",
   "execution_count": 21,
   "metadata": {},
   "outputs": [
    {
     "name": "stdout",
     "output_type": "stream",
     "text": [
      "2187\n",
      "2187\n"
     ]
    }
   ],
   "source": [
    "# Multiplicar dos potencias con la misma base es como sumar los exponentes\n",
    "print(3**4*3**3)\n",
    "print(3**7)"
   ]
  },
  {
   "cell_type": "code",
   "execution_count": 33,
   "metadata": {},
   "outputs": [
    {
     "name": "stdout",
     "output_type": "stream",
     "text": [
      "531441\n",
      "531441\n"
     ]
    }
   ],
   "source": [
    "print((3**3)**4)\n",
    "print(3**12)"
   ]
  },
  {
   "cell_type": "code",
   "execution_count": 34,
   "metadata": {},
   "outputs": [
    {
     "name": "stdout",
     "output_type": "stream",
     "text": [
      "9.0\n",
      "9\n"
     ]
    }
   ],
   "source": [
    "# Dividir dos potencias con la misma base es como restar los exponentes\n",
    "print(3**5/3**3)\n",
    "print(3**2)"
   ]
  },
  {
   "cell_type": "markdown",
   "metadata": {},
   "source": [
    "# Propiedad interesante del log"
   ]
  },
  {
   "cell_type": "code",
   "execution_count": 35,
   "metadata": {},
   "outputs": [
    {
     "data": {
      "text/plain": [
       "2.0"
      ]
     },
     "execution_count": 35,
     "metadata": {},
     "output_type": "execute_result"
    }
   ],
   "source": [
    "# Log es la inversa de la potencia\n",
    "import math\n",
    "# A que número tengo que elevar 10 para obtener 100?\n",
    "math.log10(100)"
   ]
  },
  {
   "cell_type": "code",
   "execution_count": 33,
   "metadata": {},
   "outputs": [
    {
     "data": {
      "text/plain": [
       "100"
      ]
     },
     "execution_count": 33,
     "metadata": {},
     "output_type": "execute_result"
    }
   ],
   "source": [
    "10**2"
   ]
  },
  {
   "cell_type": "code",
   "execution_count": 32,
   "metadata": {},
   "outputs": [
    {
     "data": {
      "text/plain": [
       "6.0"
      ]
     },
     "execution_count": 32,
     "metadata": {},
     "output_type": "execute_result"
    }
   ],
   "source": [
    "# A que número tengo que elevar 2 para obtener 64?\n",
    "math.log2(64)"
   ]
  },
  {
   "cell_type": "code",
   "execution_count": 34,
   "metadata": {},
   "outputs": [
    {
     "data": {
      "text/plain": [
       "64"
      ]
     },
     "execution_count": 34,
     "metadata": {},
     "output_type": "execute_result"
    }
   ],
   "source": [
    "2**6"
   ]
  },
  {
   "cell_type": "code",
   "execution_count": 36,
   "metadata": {},
   "outputs": [
    {
     "name": "stdout",
     "output_type": "stream",
     "text": [
      "9.230142999272363\n",
      "9.230142999272362\n"
     ]
    }
   ],
   "source": [
    "import math\n",
    "# Sumar es multiplicar\n",
    "print(math.log(102)+math.log(100))\n",
    "print(math.log(102*100))"
   ]
  },
  {
   "cell_type": "code",
   "execution_count": 21,
   "metadata": {},
   "outputs": [
    {
     "name": "stdout",
     "output_type": "stream",
     "text": [
      "0.019802627296178876\n",
      "0.01980262729617973\n"
     ]
    }
   ],
   "source": [
    "import math\n",
    "# Restar es dividir\n",
    "print(math.log(102)-math.log(100))\n",
    "print(math.log(102/100))"
   ]
  },
  {
   "cell_type": "code",
   "execution_count": 37,
   "metadata": {},
   "outputs": [
    {
     "name": "stdout",
     "output_type": "stream",
     "text": [
      "0.019802627296178876\n",
      "0.01980262729617973\n",
      "0.02\n"
     ]
    }
   ],
   "source": [
    "# Restar logs es parecido a calcular porcentajes de incremento/decremento\n",
    "print(math.log(102)-math.log(100))\n",
    "print(math.log(102/100))\n",
    "print((102-100)/100)"
   ]
  },
  {
   "cell_type": "markdown",
   "metadata": {},
   "source": [
    "# Funciones\n",
    "\n",
    "### Dominio e Imagen"
   ]
  },
  {
   "cell_type": "markdown",
   "metadata": {},
   "source": [
    "**Dominio**: \"la entrada de la función\", convencionalmente *X*\n",
    "\n",
    "**Imagen**: \"la salida de la función\", convencionalmente *Y*\n",
    "\n",
    "Ejemplo: $f(x) = x^2 - 1$\n",
    "\n",
    "$f(2) = 4 - 1 = 3$\n",
    "\n",
    "* Dominio son los valores que puede tomar *x* (en este caso 2). En este caso es cualquier número\n",
    "\n",
    "* Imagen son los valores que toma la salida *y* (en este caso 3). En este caso es cualquier número\n",
    "\n"
   ]
  },
  {
   "cell_type": "markdown",
   "metadata": {},
   "source": [
    "Ejemplo: $f(x) = abs(x)$\n",
    "\n",
    "* El dominio son todos los números\n",
    "\n",
    "* En este caso la imagen son  son los números positivos y el 0, puesto que el valor absoluto nunca puede ser menor que 0"
   ]
  },
  {
   "cell_type": "markdown",
   "metadata": {},
   "source": [
    "Ejemplo: $f(x) = 1/x$\n",
    "\n",
    "* El dominio son todos los números excepto el 0\n",
    "\n",
    "* La imagen es cualquier número excepto el 0"
   ]
  },
  {
   "cell_type": "markdown",
   "metadata": {},
   "source": [
    "### Inyectiva, sobreyectiva y biyectiva"
   ]
  },
  {
   "cell_type": "markdown",
   "metadata": {},
   "source": [
    "Una función es **inyectiva** cuando no hay dos elementos del dominio que tengan la misma imagen\n",
    "\n",
    " $f(x) = abs(x)$ no es inyectiva porque $abs(-2) = abs(2)$"
   ]
  },
  {
   "cell_type": "markdown",
   "metadata": {},
   "source": [
    "Una función es **sobreyectiva**, también llamada **suprayectiva o exhaustiva**, cuando el dominio y la imagen coinciden.\n",
    "\n",
    "$f(x) = x**2 - 1$ no es sobreyectiva porque el f(-2) existe pero el -2 no está en la imagen"
   ]
  },
  {
   "cell_type": "markdown",
   "metadata": {},
   "source": [
    "Una función es **biyectiva**, cuando es **inyectiva** y **sobreyectiva** al mismo tiempo"
   ]
  },
  {
   "cell_type": "markdown",
   "metadata": {},
   "source": [
    "#### Conclusión\n",
    "\n",
    "No hace falta memorizar estas definiciones, pero es importante notar la importancia de que una función sea **inyectiva** o no: si una función no es inyectiva, significa que varias entradas pueden producir la misma salida. A varias *X* les corresponde la misma *Y* y por lo tanto, hay cierta \"pérdida de información\" en el sentido que la *Y* reduce la información de *X* \n",
    "\n",
    "Esto puede llegar a presentar incluso una distorsión, como por ejemplo el PIB per cápita.\n",
    "\n",
    "Ejemplo: la media:"
   ]
  },
  {
   "cell_type": "code",
   "execution_count": 38,
   "metadata": {},
   "outputs": [],
   "source": [
    "import numpy as np\n",
    "datos1 = np.array([98, 101, 99, 102])\n",
    "datos2 = np.array([-124, 2000, -823, -653])"
   ]
  },
  {
   "cell_type": "code",
   "execution_count": 39,
   "metadata": {},
   "outputs": [
    {
     "name": "stdout",
     "output_type": "stream",
     "text": [
      "100.0\n",
      "100.0\n"
     ]
    }
   ],
   "source": [
    "print(datos1.mean())\n",
    "print(datos2.mean())"
   ]
  },
  {
   "cell_type": "markdown",
   "metadata": {},
   "source": [
    "### Función monótona creciente o decreciente\n",
    "\n",
    "[Wikipedia](https://es.wikipedia.org/wiki/Funci%C3%B3n_mon%C3%B3tona)"
   ]
  },
  {
   "attachments": {
    "image.png": {
     "image/png": "[encoded data removed]"
    }
   },
   "cell_type": "markdown",
   "metadata": {},
   "source": [
    "![image.png](attachment:image.png)"
   ]
  },
  {
   "cell_type": "markdown",
   "metadata": {},
   "source": [
    "La monotonía es esencial cuándo nos importa preservar el orden. \n",
    "\n",
    "Por ejemplo, si entendemos como una función el impuesto del IVA, no se preserva el orden ya que dos productos de 11 y 10 euros antes de IVA pueden tener precios de 11.44 y 12.1 euros tras aplicar un IVA del 4% y 21% respectivamente"
   ]
  },
  {
   "cell_type": "code",
   "execution_count": 40,
   "metadata": {},
   "outputs": [
    {
     "name": "stdout",
     "output_type": "stream",
     "text": [
      "11.440000000000001\n",
      "12.1\n"
     ]
    }
   ],
   "source": [
    "precio1_pre= 11\n",
    "precios2_pre= 10\n",
    "\n",
    "print(11*1.04)\n",
    "print(10*1.21)\n"
   ]
  },
  {
   "cell_type": "markdown",
   "metadata": {},
   "source": [
    "Pero la monotonía no es condición suficiente para preservar el orden: si entendemos el IRPF como una función con salario como entrada y porcentaje de impuestos como salida, existe monotonía (en bruto, antes de deducciones, reducciones, bondificaciones...) pero no se conserva el orden porque dos personas en el mismo tramo, pagan el mismo % de IRPF aunque no ganen lo mismo"
   ]
  },
  {
   "cell_type": "markdown",
   "metadata": {},
   "source": [
    "### Aplicación lineal\n",
    "\n",
    "\n",
    "[Wikipedia](https://es.wikipedia.org/wiki/Aplicaci%C3%B3n_lineal)"
   ]
  },
  {
   "cell_type": "markdown",
   "metadata": {},
   "source": [
    "De forma técnica, una aplicación lineal es una aplicación entre dos espacios vectoriales, que preserva las operaciones de adición de vectores y multiplicación por un escalar. \n",
    "\n",
    "A efectos de nuestro interés, serán importantes cuando veamos su efecto en matrices (y los problemas de colinealidad y correlación entre predictores en la regresión lineal)\n",
    "\n",
    "Podemos interpretar una aplicación lineal como un \"cambio de unidades\" que no añade nada nuevo a la información que ya tienes: por ejemplo:\n",
    "\n",
    "* El tiempo en años y en meses: 20 años o 144 meses\n",
    "\n",
    "* El precio en euros o en dólares tras el tipo de cambio fijo\n",
    "\n",
    "* La fecha de la Revolución de Octubre en el calendario Ruso, Gregoriano, Juliano o desde la Hégira."
   ]
  },
  {
   "cell_type": "code",
   "execution_count": 41,
   "metadata": {},
   "outputs": [
    {
     "data": {
      "text/plain": [
       "array([[1., 1., 1., 1.],\n",
       "       [1., 1., 1., 1.],\n",
       "       [1., 1., 1., 1.],\n",
       "       [1., 1., 1., 1.]])"
      ]
     },
     "execution_count": 41,
     "metadata": {},
     "output_type": "execute_result"
    }
   ],
   "source": [
    "datos1 = np.array([98, 101, 99, 102])\n",
    "datos2 = datos1*1.21\n",
    "datos3 = datos1 + 20\n",
    "datos4 = datos2 + datos3\n",
    "# Tienen la misma correlación!\n",
    "np.corrcoef([datos1, datos2, datos3, datos4])"
   ]
  },
  {
   "cell_type": "markdown",
   "metadata": {},
   "source": [
    "### Ecuaciones de primer grado"
   ]
  },
  {
   "cell_type": "markdown",
   "metadata": {},
   "source": [
    "Imaginemos ecuación de primer grado con una incógnita, con solo múltiplicaciones/divisiones, sumas y restas:\n",
    "\n",
    "$3x + 5 = 11$\n",
    "\n",
    "Solo tenemos una solución: $x = 2$"
   ]
  },
  {
   "cell_type": "markdown",
   "metadata": {},
   "source": [
    "Imaginemos ecuación de primer grado con dos incógnitas, con solo múltiplicaciones/divisiones, sumas y restas:\n",
    "\n",
    "$3x + y = 11$\n",
    "\n",
    "Tenemos infinitas soluciones: si fijamos el valor de una incóngita, podemos despejar la otra:\n",
    "\n",
    "* Fijamos *x*, despejamos *y*:\n",
    "\n",
    "$x = 1, y = 8$\n",
    "\n",
    "$x = 2, y = 5$\n",
    "\n",
    "* Fijamos *y*, despejamos *x*:\n",
    "\n",
    "$y = 1, x = 10/3$\n",
    "\n",
    "$y = 2, x = 3$"
   ]
  },
  {
   "cell_type": "markdown",
   "metadata": {},
   "source": [
    "Si tuvieramos dos ecuaciones de primer grado con dos incónitas (también llamado sistema de ecuaciones): ¿volvemos a tener una única solución?\n",
    "\n",
    "\n",
    "$3x + y = 11$\n",
    "\n",
    "$2x - y = 4$\n",
    "\n",
    "La única solución posible es siempre: \n",
    "\n",
    "$x = 3, y = 2$\n",
    "\n",
    "Pero: \n",
    "\n",
    "$3x + y = 11$\n",
    "\n",
    "$3x + y = 10$\n",
    "\n",
    "No tiene solución posible. Está claro por las propias ecuaciones que existe una contradicción, son incompatibles, ya que $3x + y$ no puede ser 11 y 10 a la vez.\n",
    "\n",
    "Tenemos también el caso:\n",
    "\n",
    "$3x + y = 11$\n",
    "\n",
    "$6x + 2y = 22$\n",
    "\n",
    "Volvemos a tener infinitas soluciones: si fijamos el valor de una incóngita, podemos despejar la otra:\n",
    "\n",
    "* Fijamos *x*, despejamos *y*:\n",
    "\n",
    "$x = 1, y = 8$\n",
    "\n",
    "$x = 2, y = 5$\n",
    "\n",
    "* Fijamos *y*, despejamos *x*:\n",
    "\n",
    "$y = 1, x = 10/3$\n",
    "\n",
    "$y = 2, x = 3$\n",
    "\n",
    "Cuándo no había ninguna solución, deciamos que existía una contradicción o incompatibilidad entre las ecuaciones. Ahora existe una **transformación lineal**, es decir, una ecuación es una combinación de múltipicación/división/suma/resta de otras ecuaciones del mismo sistema.\n",
    "\n",
    "En este caso, $6x + 2y = 22 == 2*(3x + y = 11)$"
   ]
  },
  {
   "cell_type": "markdown",
   "metadata": {},
   "source": [
    "La regresión lineal requiere, por la matemática de matrices que hay detrás del modelo, que no exista colinealidad.\n",
    "Si existe colinealidad, al despejar cada incógnita se encontrá con más incógnitas que relaciones lineales por lo que existirán infinitas soluciones, lo cuál inválida el presupuesto determinista de este modelo"
   ]
  },
  {
   "cell_type": "markdown",
   "metadata": {},
   "source": []
  },
  {
   "cell_type": "code",
   "execution_count": 16,
   "metadata": {},
   "outputs": [
    {
     "data": {
      "text/plain": [
       "0.019802627296178876"
      ]
     },
     "execution_count": 16,
     "metadata": {},
     "output_type": "execute_result"
    }
   ],
   "source": []
  }
 ],
 "metadata": {
  "kernelspec": {
   "display_name": "Python 3",
   "language": "python",
   "name": "python3"
  },
  "language_info": {
   "codemirror_mode": {
    "name": "ipython",
    "version": 3
   },
   "file_extension": ".py",
   "mimetype": "text/x-python",
   "name": "python",
   "nbconvert_exporter": "python",
   "pygments_lexer": "ipython3",
   "version": "3.12.1"
  }
 },
 "nbformat": 4,
 "nbformat_minor": 2
}
