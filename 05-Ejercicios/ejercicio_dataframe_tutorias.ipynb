{
 "cells": [
  {
   "cell_type": "markdown",
   "metadata": {},
   "source": [
    "https://www.kaggle.com/datasets/shriyashjagtap/fraudulent-e-commerce-transactions"
   ]
  },
  {
   "cell_type": "code",
   "execution_count": 4,
   "metadata": {},
   "outputs": [],
   "source": [
    "import pandas as pd"
   ]
  },
  {
   "cell_type": "code",
   "execution_count": 6,
   "metadata": {},
   "outputs": [],
   "source": [
    "fraude = pd.read_csv(\"data/fraude.csv\")"
   ]
  },
  {
   "cell_type": "code",
   "execution_count": 7,
   "metadata": {},
   "outputs": [
    {
     "name": "stdout",
     "output_type": "stream",
     "text": [
      "<class 'pandas.core.frame.DataFrame'>\n",
      "RangeIndex: 1472952 entries, 0 to 1472951\n",
      "Data columns (total 16 columns):\n",
      " #   Column              Non-Null Count    Dtype  \n",
      "---  ------              --------------    -----  \n",
      " 0   Transaction ID      1472952 non-null  object \n",
      " 1   Customer ID         1472952 non-null  object \n",
      " 2   Transaction Amount  1472952 non-null  float64\n",
      " 3   Transaction Date    1472952 non-null  object \n",
      " 4   Payment Method      1472952 non-null  object \n",
      " 5   Product Category    1472952 non-null  object \n",
      " 6   Quantity            1472952 non-null  int64  \n",
      " 7   Customer Age        1472952 non-null  int64  \n",
      " 8   Customer Location   1472952 non-null  object \n",
      " 9   Device Used         1472952 non-null  object \n",
      " 10  IP Address          1472952 non-null  object \n",
      " 11  Shipping Address    1472952 non-null  object \n",
      " 12  Billing Address     1472952 non-null  object \n",
      " 13  Is Fraudulent       1472952 non-null  int64  \n",
      " 14  Account Age Days    1472952 non-null  int64  \n",
      " 15  Transaction Hour    1472952 non-null  int64  \n",
      "dtypes: float64(1), int64(5), object(10)\n",
      "memory usage: 179.8+ MB\n"
     ]
    }
   ],
   "source": [
    "fraude.info()"
   ]
  },
  {
   "cell_type": "code",
   "execution_count": 8,
   "metadata": {},
   "outputs": [],
   "source": [
    "# Minúsculas y borrar espacios, caracteres raros\n",
    "fraude.columns = [x.lower().replace(\" \", \"_\") for x in fraude.columns]"
   ]
  },
  {
   "cell_type": "code",
   "execution_count": 10,
   "metadata": {},
   "outputs": [],
   "source": [
    "# cambios de tipo de datos\n",
    "fraude[\"transaction_date\"] = pd.to_datetime(fraude[\"transaction_date\"])"
   ]
  },
  {
   "cell_type": "code",
   "execution_count": 12,
   "metadata": {},
   "outputs": [
    {
     "name": "stdout",
     "output_type": "stream",
     "text": [
      "<class 'pandas.core.frame.DataFrame'>\n",
      "RangeIndex: 1472952 entries, 0 to 1472951\n",
      "Data columns (total 16 columns):\n",
      " #   Column              Non-Null Count    Dtype         \n",
      "---  ------              --------------    -----         \n",
      " 0   transaction_id      1472952 non-null  object        \n",
      " 1   customer_id         1472952 non-null  object        \n",
      " 2   transaction_amount  1472952 non-null  float64       \n",
      " 3   transaction_date    1472952 non-null  datetime64[ns]\n",
      " 4   payment_method      1472952 non-null  object        \n",
      " 5   product_category    1472952 non-null  object        \n",
      " 6   quantity            1472952 non-null  int64         \n",
      " 7   customer_age        1472952 non-null  int64         \n",
      " 8   customer_location   1472952 non-null  object        \n",
      " 9   device_used         1472952 non-null  object        \n",
      " 10  ip_address          1472952 non-null  object        \n",
      " 11  shipping_address    1472952 non-null  object        \n",
      " 12  billing_address     1472952 non-null  object        \n",
      " 13  is_fraudulent       1472952 non-null  int64         \n",
      " 14  account_age_days    1472952 non-null  int64         \n",
      " 15  transaction_hour    1472952 non-null  int64         \n",
      "dtypes: datetime64[ns](1), float64(1), int64(5), object(9)\n",
      "memory usage: 179.8+ MB\n"
     ]
    }
   ],
   "source": [
    "fraude.info()"
   ]
  },
  {
   "cell_type": "code",
   "execution_count": 13,
   "metadata": {},
   "outputs": [],
   "source": [
    "fraude[\"customer_age\"] = fraude[\"customer_age\"].astype(\"int8\")"
   ]
  },
  {
   "cell_type": "code",
   "execution_count": 15,
   "metadata": {},
   "outputs": [],
   "source": [
    "fraude[\"transaction_hour\"]  = fraude[\"transaction_hour\"].astype(\"int8\")"
   ]
  },
  {
   "cell_type": "code",
   "execution_count": 16,
   "metadata": {},
   "outputs": [
    {
     "name": "stdout",
     "output_type": "stream",
     "text": [
      "<class 'pandas.core.frame.DataFrame'>\n",
      "RangeIndex: 1472952 entries, 0 to 1472951\n",
      "Data columns (total 16 columns):\n",
      " #   Column              Non-Null Count    Dtype         \n",
      "---  ------              --------------    -----         \n",
      " 0   transaction_id      1472952 non-null  object        \n",
      " 1   customer_id         1472952 non-null  object        \n",
      " 2   transaction_amount  1472952 non-null  float64       \n",
      " 3   transaction_date    1472952 non-null  datetime64[ns]\n",
      " 4   payment_method      1472952 non-null  object        \n",
      " 5   product_category    1472952 non-null  object        \n",
      " 6   quantity            1472952 non-null  int64         \n",
      " 7   customer_age        1472952 non-null  int8          \n",
      " 8   customer_location   1472952 non-null  object        \n",
      " 9   device_used         1472952 non-null  object        \n",
      " 10  ip_address          1472952 non-null  object        \n",
      " 11  shipping_address    1472952 non-null  object        \n",
      " 12  billing_address     1472952 non-null  object        \n",
      " 13  is_fraudulent       1472952 non-null  int64         \n",
      " 14  account_age_days    1472952 non-null  int64         \n",
      " 15  transaction_hour    1472952 non-null  int8          \n",
      "dtypes: datetime64[ns](1), float64(1), int64(3), int8(2), object(9)\n",
      "memory usage: 160.1+ MB\n"
     ]
    }
   ],
   "source": [
    "fraude.info()"
   ]
  },
  {
   "cell_type": "code",
   "execution_count": 18,
   "metadata": {},
   "outputs": [],
   "source": [
    "fraude[\"is_fraudulent\"] = fraude[\"is_fraudulent\"].astype(bool)"
   ]
  },
  {
   "cell_type": "code",
   "execution_count": 19,
   "metadata": {},
   "outputs": [
    {
     "name": "stdout",
     "output_type": "stream",
     "text": [
      "<class 'pandas.core.frame.DataFrame'>\n",
      "RangeIndex: 1472952 entries, 0 to 1472951\n",
      "Data columns (total 16 columns):\n",
      " #   Column              Non-Null Count    Dtype         \n",
      "---  ------              --------------    -----         \n",
      " 0   transaction_id      1472952 non-null  object        \n",
      " 1   customer_id         1472952 non-null  object        \n",
      " 2   transaction_amount  1472952 non-null  float64       \n",
      " 3   transaction_date    1472952 non-null  datetime64[ns]\n",
      " 4   payment_method      1472952 non-null  object        \n",
      " 5   product_category    1472952 non-null  object        \n",
      " 6   quantity            1472952 non-null  int64         \n",
      " 7   customer_age        1472952 non-null  int8          \n",
      " 8   customer_location   1472952 non-null  object        \n",
      " 9   device_used         1472952 non-null  object        \n",
      " 10  ip_address          1472952 non-null  object        \n",
      " 11  shipping_address    1472952 non-null  object        \n",
      " 12  billing_address     1472952 non-null  object        \n",
      " 13  is_fraudulent       1472952 non-null  bool          \n",
      " 14  account_age_days    1472952 non-null  int64         \n",
      " 15  transaction_hour    1472952 non-null  int8          \n",
      "dtypes: bool(1), datetime64[ns](1), float64(1), int64(2), int8(2), object(9)\n",
      "memory usage: 150.3+ MB\n"
     ]
    }
   ],
   "source": [
    "fraude.info()"
   ]
  },
  {
   "cell_type": "code",
   "execution_count": 20,
   "metadata": {},
   "outputs": [
    {
     "data": {
      "text/html": [
       "<div>\n",
       "<style scoped>\n",
       "    .dataframe tbody tr th:only-of-type {\n",
       "        vertical-align: middle;\n",
       "    }\n",
       "\n",
       "    .dataframe tbody tr th {\n",
       "        vertical-align: top;\n",
       "    }\n",
       "\n",
       "    .dataframe thead th {\n",
       "        text-align: right;\n",
       "    }\n",
       "</style>\n",
       "<table border=\"1\" class=\"dataframe\">\n",
       "  <thead>\n",
       "    <tr style=\"text-align: right;\">\n",
       "      <th></th>\n",
       "      <th>transaction_amount</th>\n",
       "      <th>quantity</th>\n",
       "      <th>customer_age</th>\n",
       "      <th>account_age_days</th>\n",
       "      <th>transaction_hour</th>\n",
       "    </tr>\n",
       "  </thead>\n",
       "  <tbody>\n",
       "    <tr>\n",
       "      <th>count</th>\n",
       "      <td>1.472952e+06</td>\n",
       "      <td>1.472952e+06</td>\n",
       "      <td>1.472952e+06</td>\n",
       "      <td>1.472952e+06</td>\n",
       "      <td>1.472952e+06</td>\n",
       "    </tr>\n",
       "    <tr>\n",
       "      <th>mean</th>\n",
       "      <td>2.267683e+02</td>\n",
       "      <td>3.000230e+00</td>\n",
       "      <td>3.451208e+01</td>\n",
       "      <td>1.796464e+02</td>\n",
       "      <td>1.128696e+01</td>\n",
       "    </tr>\n",
       "    <tr>\n",
       "      <th>std</th>\n",
       "      <td>2.703951e+02</td>\n",
       "      <td>1.414736e+00</td>\n",
       "      <td>1.000313e+01</td>\n",
       "      <td>1.068642e+02</td>\n",
       "      <td>6.975995e+00</td>\n",
       "    </tr>\n",
       "    <tr>\n",
       "      <th>min</th>\n",
       "      <td>1.000000e+01</td>\n",
       "      <td>1.000000e+00</td>\n",
       "      <td>-1.600000e+01</td>\n",
       "      <td>1.000000e+00</td>\n",
       "      <td>0.000000e+00</td>\n",
       "    </tr>\n",
       "    <tr>\n",
       "      <th>25%</th>\n",
       "      <td>6.861000e+01</td>\n",
       "      <td>2.000000e+00</td>\n",
       "      <td>2.800000e+01</td>\n",
       "      <td>8.600000e+01</td>\n",
       "      <td>5.000000e+00</td>\n",
       "    </tr>\n",
       "    <tr>\n",
       "      <th>50%</th>\n",
       "      <td>1.517600e+02</td>\n",
       "      <td>3.000000e+00</td>\n",
       "      <td>3.500000e+01</td>\n",
       "      <td>1.790000e+02</td>\n",
       "      <td>1.100000e+01</td>\n",
       "    </tr>\n",
       "    <tr>\n",
       "      <th>75%</th>\n",
       "      <td>2.960500e+02</td>\n",
       "      <td>4.000000e+00</td>\n",
       "      <td>4.100000e+01</td>\n",
       "      <td>2.720000e+02</td>\n",
       "      <td>1.700000e+01</td>\n",
       "    </tr>\n",
       "    <tr>\n",
       "      <th>max</th>\n",
       "      <td>1.270175e+04</td>\n",
       "      <td>5.000000e+00</td>\n",
       "      <td>8.600000e+01</td>\n",
       "      <td>3.650000e+02</td>\n",
       "      <td>2.300000e+01</td>\n",
       "    </tr>\n",
       "  </tbody>\n",
       "</table>\n",
       "</div>"
      ],
      "text/plain": [
       "       transaction_amount      quantity  customer_age  account_age_days  \\\n",
       "count        1.472952e+06  1.472952e+06  1.472952e+06      1.472952e+06   \n",
       "mean         2.267683e+02  3.000230e+00  3.451208e+01      1.796464e+02   \n",
       "std          2.703951e+02  1.414736e+00  1.000313e+01      1.068642e+02   \n",
       "min          1.000000e+01  1.000000e+00 -1.600000e+01      1.000000e+00   \n",
       "25%          6.861000e+01  2.000000e+00  2.800000e+01      8.600000e+01   \n",
       "50%          1.517600e+02  3.000000e+00  3.500000e+01      1.790000e+02   \n",
       "75%          2.960500e+02  4.000000e+00  4.100000e+01      2.720000e+02   \n",
       "max          1.270175e+04  5.000000e+00  8.600000e+01      3.650000e+02   \n",
       "\n",
       "       transaction_hour  \n",
       "count      1.472952e+06  \n",
       "mean       1.128696e+01  \n",
       "std        6.975995e+00  \n",
       "min        0.000000e+00  \n",
       "25%        5.000000e+00  \n",
       "50%        1.100000e+01  \n",
       "75%        1.700000e+01  \n",
       "max        2.300000e+01  "
      ]
     },
     "execution_count": 20,
     "metadata": {},
     "output_type": "execute_result"
    }
   ],
   "source": [
    "fraude.describe()"
   ]
  },
  {
   "cell_type": "code",
   "execution_count": 21,
   "metadata": {},
   "outputs": [
    {
     "name": "stderr",
     "output_type": "stream",
     "text": [
      "C:\\Users\\jonat\\AppData\\Local\\Temp\\ipykernel_12460\\2025385579.py:1: FutureWarning: Treating datetime data as categorical rather than numeric in `.describe` is deprecated and will be removed in a future version of pandas. Specify `datetime_is_numeric=True` to silence this warning and adopt the future behavior now.\n",
      "  fraude.describe(include=\"all\")\n"
     ]
    },
    {
     "data": {
      "text/html": [
       "<div>\n",
       "<style scoped>\n",
       "    .dataframe tbody tr th:only-of-type {\n",
       "        vertical-align: middle;\n",
       "    }\n",
       "\n",
       "    .dataframe tbody tr th {\n",
       "        vertical-align: top;\n",
       "    }\n",
       "\n",
       "    .dataframe thead th {\n",
       "        text-align: right;\n",
       "    }\n",
       "</style>\n",
       "<table border=\"1\" class=\"dataframe\">\n",
       "  <thead>\n",
       "    <tr style=\"text-align: right;\">\n",
       "      <th></th>\n",
       "      <th>transaction_id</th>\n",
       "      <th>customer_id</th>\n",
       "      <th>transaction_amount</th>\n",
       "      <th>transaction_date</th>\n",
       "      <th>payment_method</th>\n",
       "      <th>product_category</th>\n",
       "      <th>quantity</th>\n",
       "      <th>customer_age</th>\n",
       "      <th>customer_location</th>\n",
       "      <th>device_used</th>\n",
       "      <th>ip_address</th>\n",
       "      <th>shipping_address</th>\n",
       "      <th>billing_address</th>\n",
       "      <th>is_fraudulent</th>\n",
       "      <th>account_age_days</th>\n",
       "      <th>transaction_hour</th>\n",
       "    </tr>\n",
       "  </thead>\n",
       "  <tbody>\n",
       "    <tr>\n",
       "      <th>count</th>\n",
       "      <td>1472952</td>\n",
       "      <td>1472952</td>\n",
       "      <td>1.472952e+06</td>\n",
       "      <td>1472952</td>\n",
       "      <td>1472952</td>\n",
       "      <td>1472952</td>\n",
       "      <td>1.472952e+06</td>\n",
       "      <td>1.472952e+06</td>\n",
       "      <td>1472952</td>\n",
       "      <td>1472952</td>\n",
       "      <td>1472952</td>\n",
       "      <td>1472952</td>\n",
       "      <td>1472952</td>\n",
       "      <td>1472952</td>\n",
       "      <td>1.472952e+06</td>\n",
       "      <td>1.472952e+06</td>\n",
       "    </tr>\n",
       "    <tr>\n",
       "      <th>unique</th>\n",
       "      <td>1472952</td>\n",
       "      <td>1472952</td>\n",
       "      <td>NaN</td>\n",
       "      <td>1346684</td>\n",
       "      <td>4</td>\n",
       "      <td>5</td>\n",
       "      <td>NaN</td>\n",
       "      <td>NaN</td>\n",
       "      <td>99135</td>\n",
       "      <td>3</td>\n",
       "      <td>1472651</td>\n",
       "      <td>1472948</td>\n",
       "      <td>1472949</td>\n",
       "      <td>2</td>\n",
       "      <td>NaN</td>\n",
       "      <td>NaN</td>\n",
       "    </tr>\n",
       "    <tr>\n",
       "      <th>top</th>\n",
       "      <td>15d2e414-8735-46fc-9e02-80b472b2580f</td>\n",
       "      <td>d1b87f62-51b2-493b-ad6a-77e0fe13e785</td>\n",
       "      <td>NaN</td>\n",
       "      <td>2024-01-27 04:00:16</td>\n",
       "      <td>credit card</td>\n",
       "      <td>health &amp; beauty</td>\n",
       "      <td>NaN</td>\n",
       "      <td>NaN</td>\n",
       "      <td>New Michael</td>\n",
       "      <td>mobile</td>\n",
       "      <td>170.118.178.249</td>\n",
       "      <td>USS Sanchez\\nFPO AE 14652</td>\n",
       "      <td>USCGC Holmes\\nFPO AA 56289</td>\n",
       "      <td>False</td>\n",
       "      <td>NaN</td>\n",
       "      <td>NaN</td>\n",
       "    </tr>\n",
       "    <tr>\n",
       "      <th>freq</th>\n",
       "      <td>1</td>\n",
       "      <td>1</td>\n",
       "      <td>NaN</td>\n",
       "      <td>6</td>\n",
       "      <td>368429</td>\n",
       "      <td>295367</td>\n",
       "      <td>NaN</td>\n",
       "      <td>NaN</td>\n",
       "      <td>1258</td>\n",
       "      <td>491743</td>\n",
       "      <td>2</td>\n",
       "      <td>2</td>\n",
       "      <td>2</td>\n",
       "      <td>1399114</td>\n",
       "      <td>NaN</td>\n",
       "      <td>NaN</td>\n",
       "    </tr>\n",
       "    <tr>\n",
       "      <th>first</th>\n",
       "      <td>NaN</td>\n",
       "      <td>NaN</td>\n",
       "      <td>NaN</td>\n",
       "      <td>2024-01-01 00:00:00</td>\n",
       "      <td>NaN</td>\n",
       "      <td>NaN</td>\n",
       "      <td>NaN</td>\n",
       "      <td>NaN</td>\n",
       "      <td>NaN</td>\n",
       "      <td>NaN</td>\n",
       "      <td>NaN</td>\n",
       "      <td>NaN</td>\n",
       "      <td>NaN</td>\n",
       "      <td>NaN</td>\n",
       "      <td>NaN</td>\n",
       "      <td>NaN</td>\n",
       "    </tr>\n",
       "    <tr>\n",
       "      <th>last</th>\n",
       "      <td>NaN</td>\n",
       "      <td>NaN</td>\n",
       "      <td>NaN</td>\n",
       "      <td>2024-04-03 08:13:56</td>\n",
       "      <td>NaN</td>\n",
       "      <td>NaN</td>\n",
       "      <td>NaN</td>\n",
       "      <td>NaN</td>\n",
       "      <td>NaN</td>\n",
       "      <td>NaN</td>\n",
       "      <td>NaN</td>\n",
       "      <td>NaN</td>\n",
       "      <td>NaN</td>\n",
       "      <td>NaN</td>\n",
       "      <td>NaN</td>\n",
       "      <td>NaN</td>\n",
       "    </tr>\n",
       "    <tr>\n",
       "      <th>mean</th>\n",
       "      <td>NaN</td>\n",
       "      <td>NaN</td>\n",
       "      <td>2.267683e+02</td>\n",
       "      <td>NaN</td>\n",
       "      <td>NaN</td>\n",
       "      <td>NaN</td>\n",
       "      <td>3.000230e+00</td>\n",
       "      <td>3.451208e+01</td>\n",
       "      <td>NaN</td>\n",
       "      <td>NaN</td>\n",
       "      <td>NaN</td>\n",
       "      <td>NaN</td>\n",
       "      <td>NaN</td>\n",
       "      <td>NaN</td>\n",
       "      <td>1.796464e+02</td>\n",
       "      <td>1.128696e+01</td>\n",
       "    </tr>\n",
       "    <tr>\n",
       "      <th>std</th>\n",
       "      <td>NaN</td>\n",
       "      <td>NaN</td>\n",
       "      <td>2.703951e+02</td>\n",
       "      <td>NaN</td>\n",
       "      <td>NaN</td>\n",
       "      <td>NaN</td>\n",
       "      <td>1.414736e+00</td>\n",
       "      <td>1.000313e+01</td>\n",
       "      <td>NaN</td>\n",
       "      <td>NaN</td>\n",
       "      <td>NaN</td>\n",
       "      <td>NaN</td>\n",
       "      <td>NaN</td>\n",
       "      <td>NaN</td>\n",
       "      <td>1.068642e+02</td>\n",
       "      <td>6.975995e+00</td>\n",
       "    </tr>\n",
       "    <tr>\n",
       "      <th>min</th>\n",
       "      <td>NaN</td>\n",
       "      <td>NaN</td>\n",
       "      <td>1.000000e+01</td>\n",
       "      <td>NaN</td>\n",
       "      <td>NaN</td>\n",
       "      <td>NaN</td>\n",
       "      <td>1.000000e+00</td>\n",
       "      <td>-1.600000e+01</td>\n",
       "      <td>NaN</td>\n",
       "      <td>NaN</td>\n",
       "      <td>NaN</td>\n",
       "      <td>NaN</td>\n",
       "      <td>NaN</td>\n",
       "      <td>NaN</td>\n",
       "      <td>1.000000e+00</td>\n",
       "      <td>0.000000e+00</td>\n",
       "    </tr>\n",
       "    <tr>\n",
       "      <th>25%</th>\n",
       "      <td>NaN</td>\n",
       "      <td>NaN</td>\n",
       "      <td>6.861000e+01</td>\n",
       "      <td>NaN</td>\n",
       "      <td>NaN</td>\n",
       "      <td>NaN</td>\n",
       "      <td>2.000000e+00</td>\n",
       "      <td>2.800000e+01</td>\n",
       "      <td>NaN</td>\n",
       "      <td>NaN</td>\n",
       "      <td>NaN</td>\n",
       "      <td>NaN</td>\n",
       "      <td>NaN</td>\n",
       "      <td>NaN</td>\n",
       "      <td>8.600000e+01</td>\n",
       "      <td>5.000000e+00</td>\n",
       "    </tr>\n",
       "    <tr>\n",
       "      <th>50%</th>\n",
       "      <td>NaN</td>\n",
       "      <td>NaN</td>\n",
       "      <td>1.517600e+02</td>\n",
       "      <td>NaN</td>\n",
       "      <td>NaN</td>\n",
       "      <td>NaN</td>\n",
       "      <td>3.000000e+00</td>\n",
       "      <td>3.500000e+01</td>\n",
       "      <td>NaN</td>\n",
       "      <td>NaN</td>\n",
       "      <td>NaN</td>\n",
       "      <td>NaN</td>\n",
       "      <td>NaN</td>\n",
       "      <td>NaN</td>\n",
       "      <td>1.790000e+02</td>\n",
       "      <td>1.100000e+01</td>\n",
       "    </tr>\n",
       "    <tr>\n",
       "      <th>75%</th>\n",
       "      <td>NaN</td>\n",
       "      <td>NaN</td>\n",
       "      <td>2.960500e+02</td>\n",
       "      <td>NaN</td>\n",
       "      <td>NaN</td>\n",
       "      <td>NaN</td>\n",
       "      <td>4.000000e+00</td>\n",
       "      <td>4.100000e+01</td>\n",
       "      <td>NaN</td>\n",
       "      <td>NaN</td>\n",
       "      <td>NaN</td>\n",
       "      <td>NaN</td>\n",
       "      <td>NaN</td>\n",
       "      <td>NaN</td>\n",
       "      <td>2.720000e+02</td>\n",
       "      <td>1.700000e+01</td>\n",
       "    </tr>\n",
       "    <tr>\n",
       "      <th>max</th>\n",
       "      <td>NaN</td>\n",
       "      <td>NaN</td>\n",
       "      <td>1.270175e+04</td>\n",
       "      <td>NaN</td>\n",
       "      <td>NaN</td>\n",
       "      <td>NaN</td>\n",
       "      <td>5.000000e+00</td>\n",
       "      <td>8.600000e+01</td>\n",
       "      <td>NaN</td>\n",
       "      <td>NaN</td>\n",
       "      <td>NaN</td>\n",
       "      <td>NaN</td>\n",
       "      <td>NaN</td>\n",
       "      <td>NaN</td>\n",
       "      <td>3.650000e+02</td>\n",
       "      <td>2.300000e+01</td>\n",
       "    </tr>\n",
       "  </tbody>\n",
       "</table>\n",
       "</div>"
      ],
      "text/plain": [
       "                              transaction_id  \\\n",
       "count                                1472952   \n",
       "unique                               1472952   \n",
       "top     15d2e414-8735-46fc-9e02-80b472b2580f   \n",
       "freq                                       1   \n",
       "first                                    NaN   \n",
       "last                                     NaN   \n",
       "mean                                     NaN   \n",
       "std                                      NaN   \n",
       "min                                      NaN   \n",
       "25%                                      NaN   \n",
       "50%                                      NaN   \n",
       "75%                                      NaN   \n",
       "max                                      NaN   \n",
       "\n",
       "                                 customer_id  transaction_amount  \\\n",
       "count                                1472952        1.472952e+06   \n",
       "unique                               1472952                 NaN   \n",
       "top     d1b87f62-51b2-493b-ad6a-77e0fe13e785                 NaN   \n",
       "freq                                       1                 NaN   \n",
       "first                                    NaN                 NaN   \n",
       "last                                     NaN                 NaN   \n",
       "mean                                     NaN        2.267683e+02   \n",
       "std                                      NaN        2.703951e+02   \n",
       "min                                      NaN        1.000000e+01   \n",
       "25%                                      NaN        6.861000e+01   \n",
       "50%                                      NaN        1.517600e+02   \n",
       "75%                                      NaN        2.960500e+02   \n",
       "max                                      NaN        1.270175e+04   \n",
       "\n",
       "           transaction_date payment_method product_category      quantity  \\\n",
       "count               1472952        1472952          1472952  1.472952e+06   \n",
       "unique              1346684              4                5           NaN   \n",
       "top     2024-01-27 04:00:16    credit card  health & beauty           NaN   \n",
       "freq                      6         368429           295367           NaN   \n",
       "first   2024-01-01 00:00:00            NaN              NaN           NaN   \n",
       "last    2024-04-03 08:13:56            NaN              NaN           NaN   \n",
       "mean                    NaN            NaN              NaN  3.000230e+00   \n",
       "std                     NaN            NaN              NaN  1.414736e+00   \n",
       "min                     NaN            NaN              NaN  1.000000e+00   \n",
       "25%                     NaN            NaN              NaN  2.000000e+00   \n",
       "50%                     NaN            NaN              NaN  3.000000e+00   \n",
       "75%                     NaN            NaN              NaN  4.000000e+00   \n",
       "max                     NaN            NaN              NaN  5.000000e+00   \n",
       "\n",
       "        customer_age customer_location device_used       ip_address  \\\n",
       "count   1.472952e+06           1472952     1472952          1472952   \n",
       "unique           NaN             99135           3          1472651   \n",
       "top              NaN       New Michael      mobile  170.118.178.249   \n",
       "freq             NaN              1258      491743                2   \n",
       "first            NaN               NaN         NaN              NaN   \n",
       "last             NaN               NaN         NaN              NaN   \n",
       "mean    3.451208e+01               NaN         NaN              NaN   \n",
       "std     1.000313e+01               NaN         NaN              NaN   \n",
       "min    -1.600000e+01               NaN         NaN              NaN   \n",
       "25%     2.800000e+01               NaN         NaN              NaN   \n",
       "50%     3.500000e+01               NaN         NaN              NaN   \n",
       "75%     4.100000e+01               NaN         NaN              NaN   \n",
       "max     8.600000e+01               NaN         NaN              NaN   \n",
       "\n",
       "                 shipping_address             billing_address is_fraudulent  \\\n",
       "count                     1472952                     1472952       1472952   \n",
       "unique                    1472948                     1472949             2   \n",
       "top     USS Sanchez\\nFPO AE 14652  USCGC Holmes\\nFPO AA 56289         False   \n",
       "freq                            2                           2       1399114   \n",
       "first                         NaN                         NaN           NaN   \n",
       "last                          NaN                         NaN           NaN   \n",
       "mean                          NaN                         NaN           NaN   \n",
       "std                           NaN                         NaN           NaN   \n",
       "min                           NaN                         NaN           NaN   \n",
       "25%                           NaN                         NaN           NaN   \n",
       "50%                           NaN                         NaN           NaN   \n",
       "75%                           NaN                         NaN           NaN   \n",
       "max                           NaN                         NaN           NaN   \n",
       "\n",
       "        account_age_days  transaction_hour  \n",
       "count       1.472952e+06      1.472952e+06  \n",
       "unique               NaN               NaN  \n",
       "top                  NaN               NaN  \n",
       "freq                 NaN               NaN  \n",
       "first                NaN               NaN  \n",
       "last                 NaN               NaN  \n",
       "mean        1.796464e+02      1.128696e+01  \n",
       "std         1.068642e+02      6.975995e+00  \n",
       "min         1.000000e+00      0.000000e+00  \n",
       "25%         8.600000e+01      5.000000e+00  \n",
       "50%         1.790000e+02      1.100000e+01  \n",
       "75%         2.720000e+02      1.700000e+01  \n",
       "max         3.650000e+02      2.300000e+01  "
      ]
     },
     "execution_count": 21,
     "metadata": {},
     "output_type": "execute_result"
    }
   ],
   "source": [
    "fraude.describe(include=\"all\")"
   ]
  },
  {
   "cell_type": "code",
   "execution_count": 22,
   "metadata": {},
   "outputs": [
    {
     "data": {
      "text/plain": [
       "payment_method\n",
       "PayPal           367968\n",
       "bank transfer    368278\n",
       "credit card      368429\n",
       "debit card       368277\n",
       "Name: payment_method, dtype: int64"
      ]
     },
     "execution_count": 22,
     "metadata": {},
     "output_type": "execute_result"
    }
   ],
   "source": [
    "fraude.groupby(\"payment_method\")[\"payment_method\"].count()"
   ]
  },
  {
   "cell_type": "code",
   "execution_count": 23,
   "metadata": {},
   "outputs": [
    {
     "data": {
      "text/plain": [
       "device_used\n",
       "desktop    490271\n",
       "mobile     491743\n",
       "tablet     490938\n",
       "Name: device_used, dtype: int64"
      ]
     },
     "execution_count": 23,
     "metadata": {},
     "output_type": "execute_result"
    }
   ],
   "source": [
    "fraude.groupby(\"device_used\")[\"device_used\"].count()"
   ]
  },
  {
   "cell_type": "code",
   "execution_count": 24,
   "metadata": {},
   "outputs": [
    {
     "data": {
      "text/plain": [
       "is_fraudulent\n",
       "False    1399114\n",
       "True       73838\n",
       "Name: is_fraudulent, dtype: int64"
      ]
     },
     "execution_count": 24,
     "metadata": {},
     "output_type": "execute_result"
    }
   ],
   "source": [
    "fraude.groupby(\"is_fraudulent\")[\"is_fraudulent\"].count()"
   ]
  },
  {
   "cell_type": "code",
   "execution_count": 26,
   "metadata": {},
   "outputs": [
    {
     "data": {
      "text/plain": [
       "0.05012926422585393"
      ]
     },
     "execution_count": 26,
     "metadata": {},
     "output_type": "execute_result"
    }
   ],
   "source": [
    "fraude[\"is_fraudulent\"].mean()"
   ]
  },
  {
   "cell_type": "code",
   "execution_count": 30,
   "metadata": {},
   "outputs": [
    {
     "data": {
      "text/plain": [
       "is_fraudulent\n",
       "False    6549\n",
       "True      330\n",
       "Name: is_fraudulent, dtype: int64"
      ]
     },
     "execution_count": 30,
     "metadata": {},
     "output_type": "execute_result"
    }
   ],
   "source": [
    "fraude[fraude['customer_age']<=8].groupby(\"is_fraudulent\")[\"is_fraudulent\"].count()"
   ]
  },
  {
   "cell_type": "code",
   "execution_count": 31,
   "metadata": {},
   "outputs": [
    {
     "data": {
      "text/plain": [
       "is_fraudulent\n",
       "False    246\n",
       "True      12\n",
       "Name: is_fraudulent, dtype: int64"
      ]
     },
     "execution_count": 31,
     "metadata": {},
     "output_type": "execute_result"
    }
   ],
   "source": [
    "fraude[fraude['customer_age']<0].groupby(\"is_fraudulent\")[\"is_fraudulent\"].count()"
   ]
  },
  {
   "cell_type": "code",
   "execution_count": 34,
   "metadata": {},
   "outputs": [
    {
     "data": {
      "text/html": [
       "<div>\n",
       "<style scoped>\n",
       "    .dataframe tbody tr th:only-of-type {\n",
       "        vertical-align: middle;\n",
       "    }\n",
       "\n",
       "    .dataframe tbody tr th {\n",
       "        vertical-align: top;\n",
       "    }\n",
       "\n",
       "    .dataframe thead th {\n",
       "        text-align: right;\n",
       "    }\n",
       "</style>\n",
       "<table border=\"1\" class=\"dataframe\">\n",
       "  <thead>\n",
       "    <tr style=\"text-align: right;\">\n",
       "      <th></th>\n",
       "      <th>transaction_amount</th>\n",
       "      <th>quantity</th>\n",
       "      <th>customer_age</th>\n",
       "      <th>account_age_days</th>\n",
       "      <th>transaction_hour</th>\n",
       "    </tr>\n",
       "  </thead>\n",
       "  <tbody>\n",
       "    <tr>\n",
       "      <th>count</th>\n",
       "      <td>1.472952e+06</td>\n",
       "      <td>1.472952e+06</td>\n",
       "      <td>1.472952e+06</td>\n",
       "      <td>1.472952e+06</td>\n",
       "      <td>1.472952e+06</td>\n",
       "    </tr>\n",
       "    <tr>\n",
       "      <th>mean</th>\n",
       "      <td>2.267683e+02</td>\n",
       "      <td>3.000230e+00</td>\n",
       "      <td>3.451208e+01</td>\n",
       "      <td>1.796464e+02</td>\n",
       "      <td>1.128696e+01</td>\n",
       "    </tr>\n",
       "    <tr>\n",
       "      <th>std</th>\n",
       "      <td>2.703951e+02</td>\n",
       "      <td>1.414736e+00</td>\n",
       "      <td>1.000313e+01</td>\n",
       "      <td>1.068642e+02</td>\n",
       "      <td>6.975995e+00</td>\n",
       "    </tr>\n",
       "    <tr>\n",
       "      <th>min</th>\n",
       "      <td>1.000000e+01</td>\n",
       "      <td>1.000000e+00</td>\n",
       "      <td>-1.600000e+01</td>\n",
       "      <td>1.000000e+00</td>\n",
       "      <td>0.000000e+00</td>\n",
       "    </tr>\n",
       "    <tr>\n",
       "      <th>25%</th>\n",
       "      <td>6.861000e+01</td>\n",
       "      <td>2.000000e+00</td>\n",
       "      <td>2.800000e+01</td>\n",
       "      <td>8.600000e+01</td>\n",
       "      <td>5.000000e+00</td>\n",
       "    </tr>\n",
       "    <tr>\n",
       "      <th>50%</th>\n",
       "      <td>1.517600e+02</td>\n",
       "      <td>3.000000e+00</td>\n",
       "      <td>3.500000e+01</td>\n",
       "      <td>1.790000e+02</td>\n",
       "      <td>1.100000e+01</td>\n",
       "    </tr>\n",
       "    <tr>\n",
       "      <th>75%</th>\n",
       "      <td>2.960500e+02</td>\n",
       "      <td>4.000000e+00</td>\n",
       "      <td>4.100000e+01</td>\n",
       "      <td>2.720000e+02</td>\n",
       "      <td>1.700000e+01</td>\n",
       "    </tr>\n",
       "    <tr>\n",
       "      <th>max</th>\n",
       "      <td>1.270175e+04</td>\n",
       "      <td>5.000000e+00</td>\n",
       "      <td>8.600000e+01</td>\n",
       "      <td>3.650000e+02</td>\n",
       "      <td>2.300000e+01</td>\n",
       "    </tr>\n",
       "  </tbody>\n",
       "</table>\n",
       "</div>"
      ],
      "text/plain": [
       "       transaction_amount      quantity  customer_age  account_age_days  \\\n",
       "count        1.472952e+06  1.472952e+06  1.472952e+06      1.472952e+06   \n",
       "mean         2.267683e+02  3.000230e+00  3.451208e+01      1.796464e+02   \n",
       "std          2.703951e+02  1.414736e+00  1.000313e+01      1.068642e+02   \n",
       "min          1.000000e+01  1.000000e+00 -1.600000e+01      1.000000e+00   \n",
       "25%          6.861000e+01  2.000000e+00  2.800000e+01      8.600000e+01   \n",
       "50%          1.517600e+02  3.000000e+00  3.500000e+01      1.790000e+02   \n",
       "75%          2.960500e+02  4.000000e+00  4.100000e+01      2.720000e+02   \n",
       "max          1.270175e+04  5.000000e+00  8.600000e+01      3.650000e+02   \n",
       "\n",
       "       transaction_hour  \n",
       "count      1.472952e+06  \n",
       "mean       1.128696e+01  \n",
       "std        6.975995e+00  \n",
       "min        0.000000e+00  \n",
       "25%        5.000000e+00  \n",
       "50%        1.100000e+01  \n",
       "75%        1.700000e+01  \n",
       "max        2.300000e+01  "
      ]
     },
     "execution_count": 34,
     "metadata": {},
     "output_type": "execute_result"
    }
   ],
   "source": [
    "fraude.describe()"
   ]
  },
  {
   "cell_type": "code",
   "execution_count": 39,
   "metadata": {},
   "outputs": [],
   "source": [
    "fraude_dt = fraude.drop(columns=[\"transaction_id\", \"customer_id\"])"
   ]
  },
  {
   "cell_type": "code",
   "execution_count": 41,
   "metadata": {},
   "outputs": [],
   "source": [
    "fraude_dt[\"weekday\"] = fraude_dt[\"transaction_date\"].dt.day_name()"
   ]
  },
  {
   "cell_type": "code",
   "execution_count": 45,
   "metadata": {},
   "outputs": [
    {
     "data": {
      "text/plain": [
       "weekday\n",
       "Friday       0.049954\n",
       "Monday       0.050590\n",
       "Saturday     0.050173\n",
       "Sunday       0.049918\n",
       "Thursday     0.050199\n",
       "Tuesday      0.050192\n",
       "Wednesday    0.049850\n",
       "Name: is_fraudulent, dtype: float64"
      ]
     },
     "execution_count": 45,
     "metadata": {},
     "output_type": "execute_result"
    }
   ],
   "source": [
    "fraude_dt.groupby([\"weekday\"])[\"is_fraudulent\"].mean()"
   ]
  },
  {
   "cell_type": "code",
   "execution_count": 48,
   "metadata": {},
   "outputs": [
    {
     "data": {
      "text/html": [
       "<div>\n",
       "<style scoped>\n",
       "    .dataframe tbody tr th:only-of-type {\n",
       "        vertical-align: middle;\n",
       "    }\n",
       "\n",
       "    .dataframe tbody tr th {\n",
       "        vertical-align: top;\n",
       "    }\n",
       "\n",
       "    .dataframe thead th {\n",
       "        text-align: right;\n",
       "    }\n",
       "</style>\n",
       "<table border=\"1\" class=\"dataframe\">\n",
       "  <thead>\n",
       "    <tr style=\"text-align: right;\">\n",
       "      <th></th>\n",
       "      <th>transaction_hour</th>\n",
       "      <th>is_fraudulent</th>\n",
       "    </tr>\n",
       "  </thead>\n",
       "  <tbody>\n",
       "    <tr>\n",
       "      <th>0</th>\n",
       "      <td>0</td>\n",
       "      <td>0.103212</td>\n",
       "    </tr>\n",
       "    <tr>\n",
       "      <th>1</th>\n",
       "      <td>1</td>\n",
       "      <td>0.104307</td>\n",
       "    </tr>\n",
       "    <tr>\n",
       "      <th>2</th>\n",
       "      <td>2</td>\n",
       "      <td>0.104334</td>\n",
       "    </tr>\n",
       "    <tr>\n",
       "      <th>3</th>\n",
       "      <td>3</td>\n",
       "      <td>0.102191</td>\n",
       "    </tr>\n",
       "    <tr>\n",
       "      <th>4</th>\n",
       "      <td>4</td>\n",
       "      <td>0.103376</td>\n",
       "    </tr>\n",
       "    <tr>\n",
       "      <th>5</th>\n",
       "      <td>5</td>\n",
       "      <td>0.104671</td>\n",
       "    </tr>\n",
       "    <tr>\n",
       "      <th>6</th>\n",
       "      <td>6</td>\n",
       "      <td>0.030688</td>\n",
       "    </tr>\n",
       "    <tr>\n",
       "      <th>7</th>\n",
       "      <td>7</td>\n",
       "      <td>0.030314</td>\n",
       "    </tr>\n",
       "    <tr>\n",
       "      <th>8</th>\n",
       "      <td>8</td>\n",
       "      <td>0.031368</td>\n",
       "    </tr>\n",
       "    <tr>\n",
       "      <th>9</th>\n",
       "      <td>9</td>\n",
       "      <td>0.030573</td>\n",
       "    </tr>\n",
       "    <tr>\n",
       "      <th>10</th>\n",
       "      <td>10</td>\n",
       "      <td>0.031342</td>\n",
       "    </tr>\n",
       "    <tr>\n",
       "      <th>11</th>\n",
       "      <td>11</td>\n",
       "      <td>0.029893</td>\n",
       "    </tr>\n",
       "    <tr>\n",
       "      <th>12</th>\n",
       "      <td>12</td>\n",
       "      <td>0.029721</td>\n",
       "    </tr>\n",
       "    <tr>\n",
       "      <th>13</th>\n",
       "      <td>13</td>\n",
       "      <td>0.031934</td>\n",
       "    </tr>\n",
       "    <tr>\n",
       "      <th>14</th>\n",
       "      <td>14</td>\n",
       "      <td>0.030967</td>\n",
       "    </tr>\n",
       "    <tr>\n",
       "      <th>15</th>\n",
       "      <td>15</td>\n",
       "      <td>0.030498</td>\n",
       "    </tr>\n",
       "    <tr>\n",
       "      <th>16</th>\n",
       "      <td>16</td>\n",
       "      <td>0.030100</td>\n",
       "    </tr>\n",
       "    <tr>\n",
       "      <th>17</th>\n",
       "      <td>17</td>\n",
       "      <td>0.029845</td>\n",
       "    </tr>\n",
       "    <tr>\n",
       "      <th>18</th>\n",
       "      <td>18</td>\n",
       "      <td>0.031111</td>\n",
       "    </tr>\n",
       "    <tr>\n",
       "      <th>19</th>\n",
       "      <td>19</td>\n",
       "      <td>0.031081</td>\n",
       "    </tr>\n",
       "    <tr>\n",
       "      <th>20</th>\n",
       "      <td>20</td>\n",
       "      <td>0.029747</td>\n",
       "    </tr>\n",
       "    <tr>\n",
       "      <th>21</th>\n",
       "      <td>21</td>\n",
       "      <td>0.030393</td>\n",
       "    </tr>\n",
       "    <tr>\n",
       "      <th>22</th>\n",
       "      <td>22</td>\n",
       "      <td>0.030877</td>\n",
       "    </tr>\n",
       "    <tr>\n",
       "      <th>23</th>\n",
       "      <td>23</td>\n",
       "      <td>0.030552</td>\n",
       "    </tr>\n",
       "  </tbody>\n",
       "</table>\n",
       "</div>"
      ],
      "text/plain": [
       "    transaction_hour  is_fraudulent\n",
       "0                  0       0.103212\n",
       "1                  1       0.104307\n",
       "2                  2       0.104334\n",
       "3                  3       0.102191\n",
       "4                  4       0.103376\n",
       "5                  5       0.104671\n",
       "6                  6       0.030688\n",
       "7                  7       0.030314\n",
       "8                  8       0.031368\n",
       "9                  9       0.030573\n",
       "10                10       0.031342\n",
       "11                11       0.029893\n",
       "12                12       0.029721\n",
       "13                13       0.031934\n",
       "14                14       0.030967\n",
       "15                15       0.030498\n",
       "16                16       0.030100\n",
       "17                17       0.029845\n",
       "18                18       0.031111\n",
       "19                19       0.031081\n",
       "20                20       0.029747\n",
       "21                21       0.030393\n",
       "22                22       0.030877\n",
       "23                23       0.030552"
      ]
     },
     "execution_count": 48,
     "metadata": {},
     "output_type": "execute_result"
    }
   ],
   "source": [
    "fraude_dt.groupby([\"transaction_hour\"], as_index=False)[\"is_fraudulent\"].mean()"
   ]
  },
  {
   "cell_type": "code",
   "execution_count": 50,
   "metadata": {},
   "outputs": [],
   "source": [
    "fraude_dt[\"is_unit_box\"] = fraude_dt[\"shipping_address\"].str.startswith(\"Unit\")"
   ]
  },
  {
   "cell_type": "code",
   "execution_count": 52,
   "metadata": {},
   "outputs": [
    {
     "data": {
      "text/html": [
       "<div>\n",
       "<style scoped>\n",
       "    .dataframe tbody tr th:only-of-type {\n",
       "        vertical-align: middle;\n",
       "    }\n",
       "\n",
       "    .dataframe tbody tr th {\n",
       "        vertical-align: top;\n",
       "    }\n",
       "\n",
       "    .dataframe thead th {\n",
       "        text-align: right;\n",
       "    }\n",
       "</style>\n",
       "<table border=\"1\" class=\"dataframe\">\n",
       "  <thead>\n",
       "    <tr style=\"text-align: right;\">\n",
       "      <th></th>\n",
       "      <th>is_unit_box</th>\n",
       "      <th>is_fraudulent</th>\n",
       "    </tr>\n",
       "  </thead>\n",
       "  <tbody>\n",
       "    <tr>\n",
       "      <th>0</th>\n",
       "      <td>False</td>\n",
       "      <td>0.050154</td>\n",
       "    </tr>\n",
       "    <tr>\n",
       "      <th>1</th>\n",
       "      <td>True</td>\n",
       "      <td>0.049458</td>\n",
       "    </tr>\n",
       "  </tbody>\n",
       "</table>\n",
       "</div>"
      ],
      "text/plain": [
       "   is_unit_box  is_fraudulent\n",
       "0        False       0.050154\n",
       "1         True       0.049458"
      ]
     },
     "execution_count": 52,
     "metadata": {},
     "output_type": "execute_result"
    }
   ],
   "source": [
    "fraude_dt.groupby([\"is_unit_box\"], as_index=False)[\"is_fraudulent\"].mean()"
   ]
  },
  {
   "cell_type": "code",
   "execution_count": 56,
   "metadata": {},
   "outputs": [],
   "source": [
    "fraude_dt[\"anti_cuenta\"] = pd.cut(fraude_dt[\"account_age_days\"], [0, 1, 2, 3, 4, 5, 10, 15, 20,25, 30, 40, 5000])"
   ]
  },
  {
   "cell_type": "code",
   "execution_count": 58,
   "metadata": {},
   "outputs": [
    {
     "data": {
      "text/html": [
       "<div>\n",
       "<style scoped>\n",
       "    .dataframe tbody tr th:only-of-type {\n",
       "        vertical-align: middle;\n",
       "    }\n",
       "\n",
       "    .dataframe tbody tr th {\n",
       "        vertical-align: top;\n",
       "    }\n",
       "\n",
       "    .dataframe thead th {\n",
       "        text-align: right;\n",
       "    }\n",
       "</style>\n",
       "<table border=\"1\" class=\"dataframe\">\n",
       "  <thead>\n",
       "    <tr style=\"text-align: right;\">\n",
       "      <th></th>\n",
       "      <th>anti_cuenta</th>\n",
       "      <th>is_fraudulent</th>\n",
       "    </tr>\n",
       "  </thead>\n",
       "  <tbody>\n",
       "    <tr>\n",
       "      <th>0</th>\n",
       "      <td>(0, 1]</td>\n",
       "      <td>0.217108</td>\n",
       "    </tr>\n",
       "    <tr>\n",
       "      <th>1</th>\n",
       "      <td>(1, 2]</td>\n",
       "      <td>0.219756</td>\n",
       "    </tr>\n",
       "    <tr>\n",
       "      <th>2</th>\n",
       "      <td>(2, 3]</td>\n",
       "      <td>0.221629</td>\n",
       "    </tr>\n",
       "    <tr>\n",
       "      <th>3</th>\n",
       "      <td>(3, 4]</td>\n",
       "      <td>0.224658</td>\n",
       "    </tr>\n",
       "    <tr>\n",
       "      <th>4</th>\n",
       "      <td>(4, 5]</td>\n",
       "      <td>0.226552</td>\n",
       "    </tr>\n",
       "    <tr>\n",
       "      <th>5</th>\n",
       "      <td>(5, 10]</td>\n",
       "      <td>0.222693</td>\n",
       "    </tr>\n",
       "    <tr>\n",
       "      <th>6</th>\n",
       "      <td>(10, 15]</td>\n",
       "      <td>0.226769</td>\n",
       "    </tr>\n",
       "    <tr>\n",
       "      <th>7</th>\n",
       "      <td>(15, 20]</td>\n",
       "      <td>0.227354</td>\n",
       "    </tr>\n",
       "    <tr>\n",
       "      <th>8</th>\n",
       "      <td>(20, 25]</td>\n",
       "      <td>0.222362</td>\n",
       "    </tr>\n",
       "    <tr>\n",
       "      <th>9</th>\n",
       "      <td>(25, 30]</td>\n",
       "      <td>0.221765</td>\n",
       "    </tr>\n",
       "    <tr>\n",
       "      <th>10</th>\n",
       "      <td>(30, 40]</td>\n",
       "      <td>0.031171</td>\n",
       "    </tr>\n",
       "    <tr>\n",
       "      <th>11</th>\n",
       "      <td>(40, 5000]</td>\n",
       "      <td>0.030685</td>\n",
       "    </tr>\n",
       "  </tbody>\n",
       "</table>\n",
       "</div>"
      ],
      "text/plain": [
       "   anti_cuenta  is_fraudulent\n",
       "0       (0, 1]       0.217108\n",
       "1       (1, 2]       0.219756\n",
       "2       (2, 3]       0.221629\n",
       "3       (3, 4]       0.224658\n",
       "4       (4, 5]       0.226552\n",
       "5      (5, 10]       0.222693\n",
       "6     (10, 15]       0.226769\n",
       "7     (15, 20]       0.227354\n",
       "8     (20, 25]       0.222362\n",
       "9     (25, 30]       0.221765\n",
       "10    (30, 40]       0.031171\n",
       "11  (40, 5000]       0.030685"
      ]
     },
     "execution_count": 58,
     "metadata": {},
     "output_type": "execute_result"
    }
   ],
   "source": [
    "fraude_dt.groupby([\"anti_cuenta\"], as_index=False)[\"is_fraudulent\"].mean()"
   ]
  },
  {
   "cell_type": "code",
   "execution_count": 61,
   "metadata": {},
   "outputs": [],
   "source": [
    "fraude_fraudulentas = fraude_dt[fraude_dt[\"is_fraudulent\"]==1]"
   ]
  },
  {
   "cell_type": "code",
   "execution_count": 63,
   "metadata": {},
   "outputs": [],
   "source": [
    "import matplotlib.pyplot as plt\n",
    "import seaborn as sns "
   ]
  },
  {
   "cell_type": "code",
   "execution_count": null,
   "metadata": {},
   "outputs": [
    {
     "data": {
      "text/html": [
       "<div>\n",
       "<style scoped>\n",
       "    .dataframe tbody tr th:only-of-type {\n",
       "        vertical-align: middle;\n",
       "    }\n",
       "\n",
       "    .dataframe tbody tr th {\n",
       "        vertical-align: top;\n",
       "    }\n",
       "\n",
       "    .dataframe thead th {\n",
       "        text-align: right;\n",
       "    }\n",
       "</style>\n",
       "<table border=\"1\" class=\"dataframe\">\n",
       "  <thead>\n",
       "    <tr style=\"text-align: right;\">\n",
       "      <th></th>\n",
       "      <th>transaction_amount</th>\n",
       "      <th>transaction_date</th>\n",
       "      <th>payment_method</th>\n",
       "      <th>product_category</th>\n",
       "      <th>quantity</th>\n",
       "      <th>customer_age</th>\n",
       "      <th>customer_location</th>\n",
       "      <th>device_used</th>\n",
       "      <th>ip_address</th>\n",
       "      <th>shipping_address</th>\n",
       "      <th>billing_address</th>\n",
       "      <th>is_fraudulent</th>\n",
       "      <th>account_age_days</th>\n",
       "      <th>transaction_hour</th>\n",
       "      <th>weekday</th>\n",
       "      <th>is_unit_box</th>\n",
       "      <th>anti_cuenta</th>\n",
       "    </tr>\n",
       "  </thead>\n",
       "  <tbody>\n",
       "    <tr>\n",
       "      <th>0</th>\n",
       "      <td>58.09</td>\n",
       "      <td>2024-02-20 05:58:41</td>\n",
       "      <td>bank transfer</td>\n",
       "      <td>electronics</td>\n",
       "      <td>1</td>\n",
       "      <td>17</td>\n",
       "      <td>Amandaborough</td>\n",
       "      <td>tablet</td>\n",
       "      <td>212.195.49.198</td>\n",
       "      <td>Unit 8934 Box 0058\\nDPO AA 05437</td>\n",
       "      <td>Unit 8934 Box 0058\\nDPO AA 05437</td>\n",
       "      <td>False</td>\n",
       "      <td>30</td>\n",
       "      <td>5</td>\n",
       "      <td>Tuesday</td>\n",
       "      <td>True</td>\n",
       "      <td>(25, 30]</td>\n",
       "    </tr>\n",
       "    <tr>\n",
       "      <th>1</th>\n",
       "      <td>389.96</td>\n",
       "      <td>2024-02-25 08:09:45</td>\n",
       "      <td>debit card</td>\n",
       "      <td>electronics</td>\n",
       "      <td>2</td>\n",
       "      <td>40</td>\n",
       "      <td>East Timothy</td>\n",
       "      <td>desktop</td>\n",
       "      <td>208.106.249.121</td>\n",
       "      <td>634 May Keys\\nPort Cherylview, NV 75063</td>\n",
       "      <td>634 May Keys\\nPort Cherylview, NV 75063</td>\n",
       "      <td>False</td>\n",
       "      <td>72</td>\n",
       "      <td>8</td>\n",
       "      <td>Sunday</td>\n",
       "      <td>False</td>\n",
       "      <td>(40, 5000]</td>\n",
       "    </tr>\n",
       "    <tr>\n",
       "      <th>2</th>\n",
       "      <td>134.19</td>\n",
       "      <td>2024-03-18 03:42:55</td>\n",
       "      <td>PayPal</td>\n",
       "      <td>home &amp; garden</td>\n",
       "      <td>2</td>\n",
       "      <td>22</td>\n",
       "      <td>Davismouth</td>\n",
       "      <td>tablet</td>\n",
       "      <td>76.63.88.212</td>\n",
       "      <td>16282 Dana Falls Suite 790\\nRothhaven, IL 15564</td>\n",
       "      <td>16282 Dana Falls Suite 790\\nRothhaven, IL 15564</td>\n",
       "      <td>False</td>\n",
       "      <td>63</td>\n",
       "      <td>3</td>\n",
       "      <td>Monday</td>\n",
       "      <td>False</td>\n",
       "      <td>(40, 5000]</td>\n",
       "    </tr>\n",
       "    <tr>\n",
       "      <th>3</th>\n",
       "      <td>226.17</td>\n",
       "      <td>2024-03-16 20:41:31</td>\n",
       "      <td>bank transfer</td>\n",
       "      <td>clothing</td>\n",
       "      <td>5</td>\n",
       "      <td>31</td>\n",
       "      <td>Lynnberg</td>\n",
       "      <td>desktop</td>\n",
       "      <td>207.208.171.73</td>\n",
       "      <td>828 Strong Loaf Apt. 646\\nNew Joshua, UT 84798</td>\n",
       "      <td>828 Strong Loaf Apt. 646\\nNew Joshua, UT 84798</td>\n",
       "      <td>False</td>\n",
       "      <td>124</td>\n",
       "      <td>20</td>\n",
       "      <td>Saturday</td>\n",
       "      <td>False</td>\n",
       "      <td>(40, 5000]</td>\n",
       "    </tr>\n",
       "    <tr>\n",
       "      <th>4</th>\n",
       "      <td>121.53</td>\n",
       "      <td>2024-01-15 05:08:17</td>\n",
       "      <td>bank transfer</td>\n",
       "      <td>clothing</td>\n",
       "      <td>2</td>\n",
       "      <td>51</td>\n",
       "      <td>South Nicole</td>\n",
       "      <td>tablet</td>\n",
       "      <td>190.172.14.169</td>\n",
       "      <td>29799 Jason Hills Apt. 439\\nWest Richardtown, ...</td>\n",
       "      <td>29799 Jason Hills Apt. 439\\nWest Richardtown, ...</td>\n",
       "      <td>False</td>\n",
       "      <td>158</td>\n",
       "      <td>5</td>\n",
       "      <td>Monday</td>\n",
       "      <td>False</td>\n",
       "      <td>(40, 5000]</td>\n",
       "    </tr>\n",
       "  </tbody>\n",
       "</table>\n",
       "</div>"
      ],
      "text/plain": [
       "   transaction_amount    transaction_date payment_method product_category  \\\n",
       "0               58.09 2024-02-20 05:58:41  bank transfer      electronics   \n",
       "1              389.96 2024-02-25 08:09:45     debit card      electronics   \n",
       "2              134.19 2024-03-18 03:42:55         PayPal    home & garden   \n",
       "3              226.17 2024-03-16 20:41:31  bank transfer         clothing   \n",
       "4              121.53 2024-01-15 05:08:17  bank transfer         clothing   \n",
       "\n",
       "   quantity  customer_age customer_location device_used       ip_address  \\\n",
       "0         1            17     Amandaborough      tablet   212.195.49.198   \n",
       "1         2            40      East Timothy     desktop  208.106.249.121   \n",
       "2         2            22        Davismouth      tablet     76.63.88.212   \n",
       "3         5            31          Lynnberg     desktop   207.208.171.73   \n",
       "4         2            51      South Nicole      tablet   190.172.14.169   \n",
       "\n",
       "                                    shipping_address  \\\n",
       "0                   Unit 8934 Box 0058\\nDPO AA 05437   \n",
       "1            634 May Keys\\nPort Cherylview, NV 75063   \n",
       "2    16282 Dana Falls Suite 790\\nRothhaven, IL 15564   \n",
       "3     828 Strong Loaf Apt. 646\\nNew Joshua, UT 84798   \n",
       "4  29799 Jason Hills Apt. 439\\nWest Richardtown, ...   \n",
       "\n",
       "                                     billing_address  is_fraudulent  \\\n",
       "0                   Unit 8934 Box 0058\\nDPO AA 05437          False   \n",
       "1            634 May Keys\\nPort Cherylview, NV 75063          False   \n",
       "2    16282 Dana Falls Suite 790\\nRothhaven, IL 15564          False   \n",
       "3     828 Strong Loaf Apt. 646\\nNew Joshua, UT 84798          False   \n",
       "4  29799 Jason Hills Apt. 439\\nWest Richardtown, ...          False   \n",
       "\n",
       "   account_age_days  transaction_hour   weekday  is_unit_box anti_cuenta  \n",
       "0                30                 5   Tuesday         True    (25, 30]  \n",
       "1                72                 8    Sunday        False  (40, 5000]  \n",
       "2                63                 3    Monday        False  (40, 5000]  \n",
       "3               124                20  Saturday        False  (40, 5000]  \n",
       "4               158                 5    Monday        False  (40, 5000]  "
      ]
     },
     "execution_count": 66,
     "metadata": {},
     "output_type": "execute_result"
    }
   ],
   "source": [
    "fraude_dt.head()"
   ]
  },
  {
   "cell_type": "code",
   "execution_count": 80,
   "metadata": {},
   "outputs": [
    {
     "data": {
      "text/plain": [
       "<Axes: xlabel='customer_age', ylabel='Count'>"
      ]
     },
     "execution_count": 80,
     "metadata": {},
     "output_type": "execute_result"
    },
    {
     "data": {
      "image/png": "[encoded data removed]",
      "text/plain": [
       "<Figure size 640x480 with 1 Axes>"
      ]
     },
     "metadata": {},
     "output_type": "display_data"
    }
   ],
   "source": [
    "sns.histplot(x=fraude_dt[\"customer_age\"], hue=fraude_dt[\"is_fraudulent\"], bins=10)"
   ]
  },
  {
   "cell_type": "code",
   "execution_count": 81,
   "metadata": {},
   "outputs": [
    {
     "data": {
      "text/plain": [
       "<Axes: xlabel='customer_age', ylabel='Density'>"
      ]
     },
     "execution_count": 81,
     "metadata": {},
     "output_type": "execute_result"
    },
    {
     "data": {
      "image/png": "[encoded data removed]",
      "text/plain": [
       "<Figure size 640x480 with 1 Axes>"
      ]
     },
     "metadata": {},
     "output_type": "display_data"
    }
   ],
   "source": [
    "sns.kdeplot(x=fraude_dt[\"customer_age\"], hue=fraude_dt[\"is_fraudulent\"])"
   ]
  },
  {
   "cell_type": "code",
   "execution_count": 82,
   "metadata": {},
   "outputs": [
    {
     "data": {
      "text/plain": [
       "<Axes: xlabel='transaction_amount', ylabel='Count'>"
      ]
     },
     "execution_count": 82,
     "metadata": {},
     "output_type": "execute_result"
    },
    {
     "data": {
      "image/png": "[encoded data removed]",
      "text/plain": [
       "<Figure size 640x480 with 1 Axes>"
      ]
     },
     "metadata": {},
     "output_type": "display_data"
    }
   ],
   "source": [
    "sns.histplot(x=fraude_dt[\"transaction_amount\"], hue=fraude_dt[\"is_fraudulent\"], bins=10)"
   ]
  },
  {
   "cell_type": "code",
   "execution_count": 84,
   "metadata": {},
   "outputs": [
    {
     "data": {
      "text/plain": [
       "<Axes: xlabel='transaction_amount', ylabel='Count'>"
      ]
     },
     "execution_count": 84,
     "metadata": {},
     "output_type": "execute_result"
    },
    {
     "data": {
      "image/png": "[encoded data removed]",
      "text/plain": [
       "<Figure size 640x480 with 1 Axes>"
      ]
     },
     "metadata": {},
     "output_type": "display_data"
    }
   ],
   "source": [
    "fraude_dt_bajas = fraude_dt[fraude_dt[\"transaction_amount\"]<1000]\n",
    "sns.histplot(x=fraude_dt_bajas[\"transaction_amount\"], hue=fraude_dt_bajas[\"is_fraudulent\"])"
   ]
  },
  {
   "cell_type": "code",
   "execution_count": 85,
   "metadata": {},
   "outputs": [
    {
     "data": {
      "text/plain": [
       "<Axes: xlabel='transaction_amount', ylabel='Count'>"
      ]
     },
     "execution_count": 85,
     "metadata": {},
     "output_type": "execute_result"
    },
    {
     "data": {
      "image/png": "[encoded data removed]",
      "text/plain": [
       "<Figure size 640x480 with 1 Axes>"
      ]
     },
     "metadata": {},
     "output_type": "display_data"
    }
   ],
   "source": [
    "fraude_dt_altas = fraude_dt[fraude_dt[\"transaction_amount\"]>1000]\n",
    "sns.histplot(x=fraude_dt_altas[\"transaction_amount\"], hue=fraude_dt_altas[\"is_fraudulent\"])"
   ]
  },
  {
   "cell_type": "code",
   "execution_count": 86,
   "metadata": {},
   "outputs": [
    {
     "data": {
      "text/plain": [
       "0.966129927817879"
      ]
     },
     "execution_count": 86,
     "metadata": {},
     "output_type": "execute_result"
    }
   ],
   "source": [
    "fraude_dt[fraude_dt[\"transaction_amount\"]>1800][\"is_fraudulent\"].mean()"
   ]
  },
  {
   "cell_type": "code",
   "execution_count": 89,
   "metadata": {},
   "outputs": [
    {
     "data": {
      "text/plain": [
       "1.0"
      ]
     },
     "execution_count": 89,
     "metadata": {},
     "output_type": "execute_result"
    }
   ],
   "source": [
    "fraude_dt[fraude_dt[\"transaction_amount\"]>4000][\"is_fraudulent\"].mean()"
   ]
  }
 ],
 "metadata": {
  "kernelspec": {
   "display_name": "Python 3",
   "language": "python",
   "name": "python3"
  },
  "language_info": {
   "codemirror_mode": {
    "name": "ipython",
    "version": 3
   },
   "file_extension": ".py",
   "mimetype": "text/x-python",
   "name": "python",
   "nbconvert_exporter": "python",
   "pygments_lexer": "ipython3",
   "version": "3.12.2"
  }
 },
 "nbformat": 4,
 "nbformat_minor": 2
}
