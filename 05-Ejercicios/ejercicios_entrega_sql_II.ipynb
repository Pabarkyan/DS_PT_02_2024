{
 "cells": [
  {
   "cell_type": "markdown",
   "metadata": {},
   "source": [
    "![imagen](./img/hr.png)"
   ]
  },
  {
   "cell_type": "code",
   "execution_count": null,
   "metadata": {},
   "outputs": [],
   "source": [
    "# https://www.sqltutorial.org/\n",
    "# Ejemply pymsql + aws + pandas\n",
    "import pymysql\n",
    "import pandas as pd\n",
    "ENDPOINT=\"hrdb.cn2cwau8envf.eu-north-1.rds.amazonaws.com\"\n",
    "PORT=3306\n",
    "USER=\"admin\"\n",
    "REGION=\"eu-north-1b\"\n",
    "DBNAME=\"hrdb\"\n",
    "conn =  pymysql.connect(host=ENDPOINT, user=USER, passwd=\"BootcampDSPT24$\", port=PORT)\n",
    "# Obtenemos un cursor que utilizaremos para hacer las queries\n",
    "crsr = conn.cursor()"
   ]
  },
  {
   "cell_type": "code",
   "execution_count": null,
   "metadata": {},
   "outputs": [],
   "source": [
    "# Con esta función leemos los datos y lo pasamos a un DataFrame de Pandas\n",
    "def sql_query(query):\n",
    "\n",
    "    # Ejecuta la query\n",
    "    crsr.execute(query)\n",
    "\n",
    "    # Almacena los datos de la query \n",
    "    ans = crsr.fetchall()\n",
    "\n",
    "    # Obtenemos los nombres de las columnas de la tabla\n",
    "    names = [description[0] for description in crsr.description]\n",
    "\n",
    "    return pd.DataFrame(ans,columns=names)"
   ]
  },
  {
   "cell_type": "code",
   "execution_count": null,
   "metadata": {},
   "outputs": [],
   "source": [
    "# Determinar que schema (colección de tablas) queremos usar\n",
    "crsr.execute(\"USE HHRR_Jony;\")"
   ]
  },
  {
   "cell_type": "markdown",
   "metadata": {},
   "source": [
    "Cuenta el número de personas con distinto first_name por departamento"
   ]
  },
  {
   "cell_type": "code",
   "execution_count": null,
   "metadata": {},
   "outputs": [],
   "source": []
  },
  {
   "cell_type": "markdown",
   "metadata": {},
   "source": [
    "Cuenta el número de personas con igual first_name por departamento"
   ]
  },
  {
   "cell_type": "code",
   "execution_count": null,
   "metadata": {},
   "outputs": [],
   "source": []
  },
  {
   "cell_type": "markdown",
   "metadata": {},
   "source": [
    "Selecciona la personas con salario entre 5.000 y 15.000 y con número de teléfono nulo"
   ]
  },
  {
   "cell_type": "code",
   "execution_count": null,
   "metadata": {},
   "outputs": [],
   "source": [
    "\n"
   ]
  },
  {
   "cell_type": "markdown",
   "metadata": {},
   "source": [
    "Usa CASE-WHEN-THEN-END para crear la columna \"ANTES_96\" que sea \"SÍ\" para contratados antes del año 1996 y \"NO\" para contratados desde el año 1996 en adelante."
   ]
  },
  {
   "cell_type": "code",
   "execution_count": null,
   "metadata": {},
   "outputs": [],
   "source": []
  },
  {
   "cell_type": "markdown",
   "metadata": {},
   "source": [
    "Usa CASE-WHEN-THEN-ELSE-END para repetir el ejercicio anterior pero con ELSE para los contratados desd el año 1996 en adelante"
   ]
  },
  {
   "cell_type": "code",
   "execution_count": null,
   "metadata": {},
   "outputs": [],
   "source": []
  },
  {
   "cell_type": "markdown",
   "metadata": {},
   "source": [
    "Cuenta el número de employees por cada manager (incluyendo el nombre en texto del manager, no solo el código ID) de mayor número de employees a menor"
   ]
  },
  {
   "cell_type": "code",
   "execution_count": null,
   "metadata": {},
   "outputs": [],
   "source": []
  },
  {
   "cell_type": "markdown",
   "metadata": {},
   "source": [
    "Selecciona la persona con menor salario cuyo manager es Neena\n",
    "1. Busca el employee_id de Neena\n",
    "2. Calcula el salario mínimo de aquellos que tienen el manager_id de Neena usando WHERE y el número de employee_id de Neena obtenido en la query anterior"
   ]
  },
  {
   "cell_type": "code",
   "execution_count": null,
   "metadata": {},
   "outputs": [],
   "source": []
  },
  {
   "cell_type": "markdown",
   "metadata": {},
   "source": [
    "Selecciona la persona con menor salario cuyo manager es Neena\n",
    "1. Copia la query 2 del ejercicio anterior y sustituye el employee_id de Neena en la clausula where por la query que hiciste en el punto 1 del ejercicio anterior."
   ]
  },
  {
   "cell_type": "markdown",
   "metadata": {},
   "source": [
    "Cálcula los costes de salario por cada departamento con su nombre de departamento para aquellos departamentos que tengan unos costes de salario superiores a 10.000. Resuelvelo con HAVING y subqueries "
   ]
  },
  {
   "cell_type": "code",
   "execution_count": null,
   "metadata": {},
   "outputs": [],
   "source": []
  },
  {
   "cell_type": "markdown",
   "metadata": {},
   "source": [
    "Cuenta el número de employees por cada departamento y puesto de trabajo (incluyendo el nombre en texto del departamento y puesto, no solo el código) para departamentos/empleos con más de 3 empleados. Resuelvelo con subqueries y HAVING"
   ]
  },
  {
   "cell_type": "code",
   "execution_count": null,
   "metadata": {},
   "outputs": [],
   "source": []
  },
  {
   "cell_type": "markdown",
   "metadata": {},
   "source": [
    "Calcula el número de employees para los departamentos que empiezan por la letra A. \n",
    "Resuelvelo con JOIN y con SUBQUERIES"
   ]
  },
  {
   "cell_type": "markdown",
   "metadata": {},
   "source": [
    "Calcula el salario máximo, mínimo y medio por cada departamento"
   ]
  },
  {
   "cell_type": "code",
   "execution_count": null,
   "metadata": {},
   "outputs": [],
   "source": [
    "query = ''' \n",
    "SELECT department_name, MIN(salary) AS salario_min, MAX(salary) AS salario_max, AVG(salary) as salario_avg\n",
    "FROM employees AS e\n",
    "INNER JOIN departments AS d\n",
    "ON e.department_id = d.department_id  \n",
    "GROUP BY e.department_id \n",
    "'''\n",
    "sql_query(query)"
   ]
  },
  {
   "cell_type": "markdown",
   "metadata": {},
   "source": [
    "Calcula la persona con salario mínimo por departamento\n",
    "Debes mostrar el nombre y apellido de la persona, el nombre del departamento y su salario"
   ]
  },
  {
   "cell_type": "code",
   "execution_count": null,
   "metadata": {},
   "outputs": [],
   "source": []
  },
  {
   "cell_type": "markdown",
   "metadata": {},
   "source": [
    "Cuenta el número de employees por cada departamento (incluyendo el nombre en texto del departamento, no solo el código) con 2, 4 0 6 empleoyeess (probar WHERE y HAVING)"
   ]
  },
  {
   "cell_type": "markdown",
   "metadata": {},
   "source": [
    "Muestra el nombre y apellido de las personas que son el único empleado para ese departamento y tipo de trabajo"
   ]
  },
  {
   "cell_type": "code",
   "execution_count": null,
   "metadata": {},
   "outputs": [],
   "source": []
  },
  {
   "cell_type": "markdown",
   "metadata": {},
   "source": [
    "Actualiza el apellido de employee_id 190 a \"López\""
   ]
  },
  {
   "cell_type": "code",
   "execution_count": null,
   "metadata": {},
   "outputs": [],
   "source": [
    "#No olvides el commit al final!\n",
    "#crsr.execute(\"COMMIT;\")"
   ]
  },
  {
   "cell_type": "markdown",
   "metadata": {},
   "source": [
    "Incrementa el salario en un 2% de todos los empleados cuyo manager es Neena"
   ]
  },
  {
   "cell_type": "code",
   "execution_count": null,
   "metadata": {},
   "outputs": [],
   "source": [
    "#No olvides el commit al final!\n",
    "#crsr.execute(\"COMMIT;\")"
   ]
  },
  {
   "cell_type": "markdown",
   "metadata": {},
   "source": [
    "Crea la tabla \n",
    "\n",
    "CREATE TABLE courses_XX (\n",
    "    course_id INT AUTO_INCREMENT PRIMARY KEY,\n",
    "    course_name VARCHAR(256) NOT NULL\n",
    ");\n",
    "EN XX pon tu nombre"
   ]
  },
  {
   "cell_type": "code",
   "execution_count": null,
   "metadata": {},
   "outputs": [],
   "source": [
    "#No olvides el commit al final!\n",
    "#crsr.execute(\"COMMIT;\")"
   ]
  },
  {
   "cell_type": "markdown",
   "metadata": {},
   "source": [
    "Añade a la tabla courses:\n",
    "\n",
    "INSERT INTO courses(course_name) VALUES ('Python');\n",
    "\n",
    "INSERT INTO courses(course_name) VALUES ('SQL');\n",
    "\n",
    "INSERT INTO courses(course_name) VALUES ('Introducción a la Fenomenología del Espíritu de Hegel para no hegelianos');\n",
    "\n",
    "Selecciona la tabla courses tras los INSERT"
   ]
  },
  {
   "cell_type": "code",
   "execution_count": null,
   "metadata": {},
   "outputs": [],
   "source": [
    "#No olvides el commit al final!\n",
    "#crsr.execute(\"COMMIT;\")"
   ]
  },
  {
   "cell_type": "markdown",
   "metadata": {},
   "source": [
    "Prueba: INSERT INTO courses(course_id, course_name) VALUES (3, 'Hegel');"
   ]
  },
  {
   "cell_type": "code",
   "execution_count": null,
   "metadata": {},
   "outputs": [],
   "source": []
  },
  {
   "cell_type": "markdown",
   "metadata": {},
   "source": [
    "Pide al usuario que introduzca un nombre de empleado con input y muestra su Nombre, apellido, nombre de departamento, job title y salario"
   ]
  }
 ],
 "metadata": {
  "kernelspec": {
   "display_name": "Python 3",
   "language": "python",
   "name": "python3"
  },
  "language_info": {
   "codemirror_mode": {
    "name": "ipython",
    "version": 3
   },
   "file_extension": ".py",
   "mimetype": "text/x-python",
   "name": "python",
   "nbconvert_exporter": "python",
   "pygments_lexer": "ipython3",
   "version": "3.12.1"
  }
 },
 "nbformat": 4,
 "nbformat_minor": 2
}
