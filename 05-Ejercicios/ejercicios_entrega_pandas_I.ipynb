{
 "cells": [
  {
   "cell_type": "markdown",
   "metadata": {},
   "source": [
    "# Ejercicios de codificación\n",
    "\n",
    "## Ejercicio 0: organizar carpetas"
   ]
  },
  {
   "cell_type": "code",
   "execution_count": null,
   "metadata": {},
   "outputs": [],
   "source": [
    "import os \n",
    "import shutil\n",
    "# Crear carperta galton\n",
    "# Crear carpeta input en galton\n",
    "# Crear carpeta output en galton\n",
    "# Crear carpeta src en galton\n"
   ]
  },
  {
   "cell_type": "code",
   "execution_count": null,
   "metadata": {},
   "outputs": [],
   "source": [
    "# EXTRA NO VISTO EN CLASE\n",
    "### Utiliza os.rename() para cambiar el nombre de Galton_s_dataset_of_parent_and_child_heights_1276_68.csv a galton.csv\n"
   ]
  },
  {
   "cell_type": "code",
   "execution_count": null,
   "metadata": {},
   "outputs": [],
   "source": [
    "# Mueve galton.csv a la carpeta galton/input"
   ]
  },
  {
   "cell_type": "code",
   "execution_count": null,
   "metadata": {},
   "outputs": [],
   "source": [
    "# Crea un archivo resultados.txt en galton/output en modo append"
   ]
  },
  {
   "cell_type": "markdown",
   "metadata": {},
   "source": [
    "## Ejercicio 1: Genera los datos ejecutando esta celda\n",
    "Esto te dará una lista de números con los que trabajar en los ejercicios restantes."
   ]
  },
  {
   "cell_type": "code",
   "execution_count": null,
   "metadata": {},
   "outputs": [],
   "source": [
    "# Leer galton.csv desde galton/input"
   ]
  },
  {
   "cell_type": "code",
   "execution_count": null,
   "metadata": {},
   "outputs": [],
   "source": [
    "# EXTRA NO HECHO EN CLASE\n",
    "# 1. Seleccionar sólo las hijas (sex == 'F') \n",
    "# 2. Eliminar todas las columnas salvo \"mother\" y \"height\""
   ]
  },
  {
   "cell_type": "markdown",
   "metadata": {},
   "source": [
    "## Ejercicio 2: Cálculo de estadísticas y verificación\n",
    "### media"
   ]
  },
  {
   "cell_type": "code",
   "execution_count": null,
   "metadata": {},
   "outputs": [],
   "source": [
    "# Calcula la media\n",
    "# EXTRA NO VISTO EN CLASE\n",
    "# Usa file.write() para guardar la cadena \"La altura media de las madres es de X\\n\" en el fichero resultados\n",
    "# Recuerda sustituir X por el valor de la media de las madres\n",
    "# Recuerda para que sirve \\n\n",
    "  "
   ]
  },
  {
   "cell_type": "code",
   "execution_count": null,
   "metadata": {},
   "outputs": [],
   "source": [
    "# Calcula la media de las hijas usando un bucle for usando el atributo values"
   ]
  },
  {
   "cell_type": "code",
   "execution_count": null,
   "metadata": {},
   "outputs": [],
   "source": [
    "# Calcula la media de las madres usando un bucle for e iterrows()\n"
   ]
  },
  {
   "cell_type": "markdown",
   "metadata": {},
   "source": [
    "### mediana"
   ]
  },
  {
   "cell_type": "code",
   "execution_count": null,
   "metadata": {},
   "outputs": [],
   "source": [
    "# Calcula la mediana\n",
    "# EXTRA NO VISTO EN CLASE\n",
    "# Usa file.write() para guardar la cadena \"La altura mediana de las hijas es de X\\n\" en el fichero resultados\n",
    "# Recuerda sustituir X por el valor de la mediana de las hijas\n"
   ]
  },
  {
   "cell_type": "code",
   "execution_count": null,
   "metadata": {},
   "outputs": [],
   "source": [
    "# Calcula la mediana de la altura de las madres accediendo al valor/es en la mitad de la columna de alturas de las hijas con iloc\n",
    "# Recuerda:\n",
    "# 1. Ordenar por altura de las hijas\n",
    "# 2. Reiniciar el index"
   ]
  },
  {
   "cell_type": "markdown",
   "metadata": {},
   "source": [
    "### moda"
   ]
  },
  {
   "cell_type": "code",
   "execution_count": null,
   "metadata": {},
   "outputs": [],
   "source": [
    "# Calcula la moda\n",
    "# EXTRA NO VISTO EN CLASE\n",
    "# Usa file.write() para guardar la moda de madres e hijas\n",
    "# Recuerda sustituir X por el valor de la moda\n",
    "# Si existe más de una moda para madres o hijas, utiliza un bucle FOR"
   ]
  },
  {
   "cell_type": "code",
   "execution_count": null,
   "metadata": {},
   "outputs": [],
   "source": [
    "# Comprueba que el resultado de la moda es correcta para madres e hijas usando .values_counts()"
   ]
  },
  {
   "cell_type": "markdown",
   "metadata": {},
   "source": [
    "### Cerrar el archivo!"
   ]
  },
  {
   "cell_type": "code",
   "execution_count": null,
   "metadata": {},
   "outputs": [],
   "source": [
    "# EXTRA NO VISTO EN CLASE\n",
    "# comprueba si se ha escrito algo en resultados.txt\n",
    "# utiliza file.close() para cerrar resultados.txt\n",
    "# comprueba si se ha escrito algo en resultados.txt"
   ]
  },
  {
   "cell_type": "markdown",
   "metadata": {},
   "source": [
    "### varianza de la muestra\n",
    "Recuerde utilizar la corrección de Bessel."
   ]
  },
  {
   "cell_type": "code",
   "execution_count": null,
   "metadata": {},
   "outputs": [],
   "source": [
    "## Calcula la varianza"
   ]
  },
  {
   "cell_type": "code",
   "execution_count": null,
   "metadata": {},
   "outputs": [],
   "source": [
    "# Calcula la varianza con N en lugar de N-1"
   ]
  },
  {
   "cell_type": "markdown",
   "metadata": {},
   "source": [
    "### desviación típica de la muestra\n",
    "Recuerde utilizar la corrección de Bessel."
   ]
  },
  {
   "cell_type": "code",
   "execution_count": null,
   "metadata": {},
   "outputs": [],
   "source": [
    "# Calcula la desviación típica"
   ]
  },
  {
   "cell_type": "code",
   "execution_count": null,
   "metadata": {},
   "outputs": [],
   "source": [
    "# Calcula la desviación típica con N en lugar de N-1"
   ]
  },
  {
   "cell_type": "code",
   "execution_count": null,
   "metadata": {},
   "outputs": [],
   "source": [
    "# Comprueba el % de valores a 1 desviación típica de distancia ¿Está próximo al 68%?"
   ]
  },
  {
   "cell_type": "code",
   "execution_count": null,
   "metadata": {},
   "outputs": [],
   "source": [
    "# Comprueba el % de valores a 2 desviación típica de distancia ¿Está próximo al 95.5%?"
   ]
  },
  {
   "cell_type": "code",
   "execution_count": null,
   "metadata": {},
   "outputs": [],
   "source": [
    "# Comprueba el % de valores a 3 desviación típica de distancia ¿Está próximo al 99.7%?"
   ]
  },
  {
   "cell_type": "markdown",
   "metadata": {},
   "source": [
    "## Ejercicio 3: Calcular más estadísticas\n",
    "### rango"
   ]
  },
  {
   "cell_type": "code",
   "execution_count": null,
   "metadata": {},
   "outputs": [],
   "source": [
    "# Calcula el rango"
   ]
  },
  {
   "cell_type": "markdown",
   "metadata": {},
   "source": [
    "### coeficiente de variación\n",
    "Asegúrese de utilizar la desviación típica de la muestra."
   ]
  },
  {
   "cell_type": "code",
   "execution_count": null,
   "metadata": {},
   "outputs": [],
   "source": [
    "# Calcula el coeficiente de variación"
   ]
  },
  {
   "cell_type": "markdown",
   "metadata": {},
   "source": [
    "### rango intercuartílico"
   ]
  },
  {
   "cell_type": "code",
   "execution_count": null,
   "metadata": {},
   "outputs": [],
   "source": [
    "# Calcula el rango intercuartílico"
   ]
  },
  {
   "cell_type": "code",
   "execution_count": null,
   "metadata": {},
   "outputs": [],
   "source": [
    "# Calcula el percentil 50%.\n",
    "# Interpreta el percentil 50%\n",
    "# ¿Cuál es la diferencia entre el percentil 50% y la mediana?"
   ]
  },
  {
   "cell_type": "markdown",
   "metadata": {},
   "source": [
    "### coeficiente de dispersión por cuartiles"
   ]
  },
  {
   "cell_type": "code",
   "execution_count": null,
   "metadata": {},
   "outputs": [],
   "source": [
    "# Calcula el Coeficiente de Dispersión por Cuartiles"
   ]
  },
  {
   "cell_type": "markdown",
   "metadata": {},
   "source": [
    "## Ejercicio 4: Escalado de datos\n",
    "### escalado min-max"
   ]
  },
  {
   "cell_type": "code",
   "execution_count": null,
   "metadata": {},
   "outputs": [],
   "source": [
    "# Calcula el escalado min-max "
   ]
  },
  {
   "cell_type": "code",
   "execution_count": null,
   "metadata": {},
   "outputs": [],
   "source": [
    "# Comprueba que para cada columna el mínimo es 0 y el máximo es 1"
   ]
  },
  {
   "cell_type": "markdown",
   "metadata": {},
   "source": [
    "### normalización"
   ]
  },
  {
   "cell_type": "code",
   "execution_count": null,
   "metadata": {},
   "outputs": [],
   "source": [
    "# Utiliza preprocessing.StandardScaler().fit() para normalizar el dataframe\n",
    "from sklearn import preprocessing\n"
   ]
  },
  {
   "cell_type": "code",
   "execution_count": null,
   "metadata": {},
   "outputs": [],
   "source": [
    "# Comprueba que la media es aproximadamente 0 y la desviación típica aproximadamente 1"
   ]
  },
  {
   "cell_type": "markdown",
   "metadata": {},
   "source": [
    "## Ejercicio 5: Cálculo de covarianza y correlación\n",
    "### covarianza"
   ]
  },
  {
   "cell_type": "code",
   "execution_count": null,
   "metadata": {},
   "outputs": [],
   "source": [
    "# Calcula la covarianza"
   ]
  },
  {
   "cell_type": "markdown",
   "metadata": {},
   "source": [
    "### Coeficiente de correlación de Pearson ($\\rho$)"
   ]
  },
  {
   "cell_type": "code",
   "execution_count": null,
   "metadata": {},
   "outputs": [],
   "source": [
    "# Calcula la correlación"
   ]
  },
  {
   "cell_type": "code",
   "execution_count": null,
   "metadata": {},
   "outputs": [],
   "source": [
    "# Calcula la correlacion para el escalado min-max\n",
    "# EXTRA no visto en clase\n",
    "# Calcula la covarianza para el escalado min-max"
   ]
  },
  {
   "cell_type": "code",
   "execution_count": null,
   "metadata": {},
   "outputs": [],
   "source": [
    "# Calcula la correlacion para la normalización\n",
    "# EXTRA no visto en clase\n",
    "# Calcula la covarianza para la normalización"
   ]
  },
  {
   "cell_type": "code",
   "execution_count": null,
   "metadata": {},
   "outputs": [],
   "source": [
    "# Calcula la correlacion para los datos convertidos de pulgadas a metros\n",
    "# EXTRA no visto en clase\n",
    "# Calcula la covarianza para los datos convertidos de pulgadas a metros"
   ]
  },
  {
   "cell_type": "code",
   "execution_count": null,
   "metadata": {},
   "outputs": [],
   "source": [
    "# Calcula la correlacion para los datos de las hijas convertidos de pulgadas a metros y de las madre habiendo restado 20\n",
    "# EXTRA no visto en clase\n",
    "# Calcula la covarianza para los datos convertidos de las hijas convertidos de pulgadas a metros y de las madre habiendo restado 20"
   ]
  },
  {
   "cell_type": "code",
   "execution_count": null,
   "metadata": {},
   "outputs": [],
   "source": [
    "# Interpreta: tanto la covarianza como la correlación miden la intensidad de la relación lineal entre dos variables\n",
    "# ¿Qué ventaja tiene la correlación sobre la covarianza?"
   ]
  },
  {
   "cell_type": "code",
   "execution_count": null,
   "metadata": {},
   "outputs": [],
   "source": [
    "# EXTRA NO VISTO EN CLASE\n",
    "# Las siguientes listas muestran el nivel de picante de unos tacos y las unidades vendidas apra ese nivel de picante\n",
    "# Esto es, para un nivel de picante 6 se vendieron 613 tacos\n",
    "picante = [4,5,6,7,8,9,10,11,12,13,14]\n",
    "ventas = [310,474,613,726,814,877,914,926,913,874,810]\n",
    "# Convierte ambas listas en un dataframe llamado df"
   ]
  },
  {
   "cell_type": "code",
   "execution_count": null,
   "metadata": {},
   "outputs": [],
   "source": [
    "# Calcula la correlación entre el nivel de picor y las ventas\n"
   ]
  },
  {
   "cell_type": "code",
   "execution_count": null,
   "metadata": {},
   "outputs": [],
   "source": [
    "# Ejecuta el siguiente código\n",
    "import seaborn as sns\n",
    "sns.scatterplot(df, x=\"picante\", y=\"ventas\")\n",
    "# La correlación es una relación lineal, es decir, debe asemejarse a una línea recta\n",
    "# ¿Se parece el gráfico a una línea recta? Si no se parece, no puedes usar la correlación calculada!"
   ]
  },
  {
   "cell_type": "code",
   "execution_count": null,
   "metadata": {},
   "outputs": [],
   "source": [
    "# EXTRA NO VISTO EN CLASE\n",
    "# Las siguientes listas muestran la longitud milimetros de un componente electrónico para ser insertado en un procesador y el número de procesadores que funcionan \n",
    "# correctamente sobre 400 probadas. \n",
    "# Esto es, para una longitud de 0.0007 milimetros funcionan correctamente 395 procesadores de las 400 probadas\n",
    "milimetros = [0.0004,0.0005,0.0006,0.0007,0.0008,0.0009,0.0010,0.0011,0.0012,0.0013,0.0014,0.0015, 0.0016]\n",
    "procesadores = [400,398,396,395,394,393,394,392,393,391,27,5,0]\n",
    "# Convierte ambas listas en un dataframe llamado df2"
   ]
  },
  {
   "cell_type": "code",
   "execution_count": null,
   "metadata": {},
   "outputs": [],
   "source": [
    "# Calcula la correlación entre ambas variables"
   ]
  },
  {
   "cell_type": "code",
   "execution_count": null,
   "metadata": {},
   "outputs": [],
   "source": [
    "# Realiza un gráfico con seaborn similar al del ejercicio anterior siendo x milimetros e y piezas\n",
    "# ¿Te parece que realmente existe una correlación líneal negativa entre ambas?"
   ]
  },
  {
   "cell_type": "code",
   "execution_count": null,
   "metadata": {},
   "outputs": [],
   "source": [
    "# Ejecuta este código para ver dibujada también la recta de regresión\n",
    "# ¿Crees que es correcta?\n",
    "sns.lmplot(x=\"milimetros\", y=\"procesadores\", data=df2,ci=None, scatter_kws={\"s\": 80});"
   ]
  },
  {
   "cell_type": "markdown",
   "metadata": {},
   "source": [
    "<hr>\n",
    "<div style=\"overflow: hidden; margin-bottom: 10px;\">\n",
    "    <div style=\"float: left;\">\n",
    "        <a href=\"./python_101.ipynb\">\n",
    "            <button>Python 101</button>\n",
    "        </a>\n",
    "    </div>\n",
    "    <div style=\"float: right;\">\n",
    "        <a href=\"../solutions/ch_01/solutions.ipynb\">\n",
    "            <button>Soluciones</button>\n",
    "        </a>\n",
    "        <a href=\"../ch_02/1-pandas_data_structures.ipynb\">\n",
    "            <button>Capítulo 2 &#8594;</button>\n",
    "        </a>\n",
    "    </div>\n",
    "</div>\n",
    "<hr>"
   ]
  }
 ],
 "metadata": {
  "kernelspec": {
   "display_name": "Python 3",
   "language": "python",
   "name": "python3"
  },
  "language_info": {
   "codemirror_mode": {
    "name": "ipython",
    "version": 3
   },
   "file_extension": ".py",
   "mimetype": "text/x-python",
   "name": "python",
   "nbconvert_exporter": "python",
   "pygments_lexer": "ipython3",
   "version": "3.12.2"
  }
 },
 "nbformat": 4,
 "nbformat_minor": 4
}
