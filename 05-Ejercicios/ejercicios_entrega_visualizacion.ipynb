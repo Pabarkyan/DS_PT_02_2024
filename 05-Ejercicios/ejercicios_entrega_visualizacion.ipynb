{
 "cells": [
  {
   "cell_type": "markdown",
   "metadata": {},
   "source": [
    "# Ejercicios visualización (y más)"
   ]
  },
  {
   "cell_type": "code",
   "execution_count": null,
   "metadata": {},
   "outputs": [],
   "source": [
    "# Crea la ruta de carpetas data/educacion"
   ]
  },
  {
   "cell_type": "code",
   "execution_count": null,
   "metadata": {},
   "outputs": [],
   "source": [
    "# mueve los .csv de eso, fp, grado, master y phd a data/educacion"
   ]
  },
  {
   "cell_type": "code",
   "execution_count": null,
   "metadata": {},
   "outputs": [],
   "source": [
    "# lee el fichero grado.csv y comprueba si cumple las propiedades de la curva normal:\n",
    "# media = moda = mediana\n",
    "# 68% - 95% - 99.7% en 1, 2 y 3 desviaciones típicas"
   ]
  },
  {
   "cell_type": "code",
   "execution_count": null,
   "metadata": {},
   "outputs": [],
   "source": [
    "# haz el histograma con linea de densidad\n",
    "# añade la linea recta vertical para la media y media +/- 1,2,3 desviaciones tipicias"
   ]
  },
  {
   "cell_type": "code",
   "execution_count": null,
   "metadata": {},
   "outputs": [],
   "source": [
    "# escala los datos usando min-max y score-z \n",
    "# repite el grafico anterior para cada tipo de escalado"
   ]
  },
  {
   "cell_type": "code",
   "execution_count": null,
   "metadata": {},
   "outputs": [],
   "source": [
    "# lee los citados csv con un bucle for, uniéndolos en un único dataframe con la columna nivel_edu que sea:\n",
    "# eso para eso.csv, fp para fp.csv"
   ]
  },
  {
   "cell_type": "code",
   "execution_count": null,
   "metadata": {},
   "outputs": [],
   "source": [
    "# ¿existe alguien con estudios de ESO que tenga un salario mayor que un PhD?"
   ]
  },
  {
   "cell_type": "code",
   "execution_count": null,
   "metadata": {},
   "outputs": [],
   "source": [
    "# redondea los datos: no queremos decimales"
   ]
  },
  {
   "cell_type": "code",
   "execution_count": null,
   "metadata": {},
   "outputs": [],
   "source": [
    "# grafica cada histograma por nivel de educación (5 histogramas en 1 gráfico)"
   ]
  },
  {
   "cell_type": "code",
   "execution_count": null,
   "metadata": {},
   "outputs": [],
   "source": [
    "# grafica las medias por nivel de educación\n",
    "# añade la recta horizontal con el máximo, mínimo y la media de las medias"
   ]
  },
  {
   "cell_type": "code",
   "execution_count": null,
   "metadata": {},
   "outputs": [],
   "source": [
    "# grafica las medianas por nivel de educación\n",
    "# añade la recta horizontal con el máximo, mínimo y la mediana de las medianas"
   ]
  },
  {
   "cell_type": "code",
   "execution_count": null,
   "metadata": {},
   "outputs": [],
   "source": [
    "# grafica las std por nivel de educación\n",
    "# añade la recta horizontal con el máximo, mínimo y la std de las stds"
   ]
  },
  {
   "cell_type": "code",
   "execution_count": null,
   "metadata": {},
   "outputs": [],
   "source": [
    "# ¿Habrían bastado con una muestra de 25 personas por cada nivel de eduación?\n",
    "# usando como semilla el número 732 (año de las batalla de Poiters) obten una muestra de 25 personas para cada nivel de eduación\n",
    "# calcula la media de la muestra y compara con la media de la totalidad. \n",
    "# ¿Existe mucha diferencia entre ambas medias?"
   ]
  },
  {
   "cell_type": "code",
   "execution_count": null,
   "metadata": {},
   "outputs": [],
   "source": [
    "# ¿Habrían bastado con una muestra de 25 personas por cada nivel de eduación?\n",
    "# usando como semilla el número 732 (año de las batalla de Poiters) obten una muestra de 25 personas para cada nivel de eduación\n",
    "# calcula la media de la muestra y compara con la media de la totalidad. \n",
    "# ¿Existe mucha diferencia entre ambas medias?"
   ]
  },
  {
   "cell_type": "code",
   "execution_count": null,
   "metadata": {},
   "outputs": [],
   "source": [
    "# ¿Habrían bastado con una muestra de 25 personas por cada nivel de eduación?\n",
    "# usando como semilla el número 1465 (año de la desparición del Principado de Teodoro) obten una muestra de 25 personas para cada nivel de eduación\n",
    "# calcula la varianza de la muestra con ddof=0 y ddof=1 y compara con la media de la totalidad. \n",
    "# ¿Existe mucha diferencia entre ambas varianzas? ¿se acerca más usar ddof=0 o ddof=1?"
   ]
  },
  {
   "cell_type": "code",
   "execution_count": null,
   "metadata": {},
   "outputs": [],
   "source": [
    "# crea una nueva columna llamada nivel_edu_int que sea: ç\n",
    "# 1 para ESO, 2 para FP, 3 para grado...\n",
    "# Prueba a hacerlo usando map, apply, loc y merge (crea una tabla intermedia con dos columnas nivel_edu y nivel_edu_int)"
   ]
  },
  {
   "cell_type": "code",
   "execution_count": null,
   "metadata": {},
   "outputs": [],
   "source": [
    "# utiliza transform para crear una variable que sea \"sueldo_alto\" que sea True si el sueldo esta 2 desviaciones típicas por encima de la media \n",
    "# para su nivel de educación"
   ]
  },
  {
   "cell_type": "code",
   "execution_count": null,
   "metadata": {},
   "outputs": [],
   "source": [
    "# calcula la correlación entre el sueldo y nivel_edu_int \n",
    "# ¿Tiene sentido?"
   ]
  },
  {
   "cell_type": "code",
   "execution_count": null,
   "metadata": {},
   "outputs": [],
   "source": [
    "# Calcula la media por nivel de educacion por nivel_edu_int\n",
    "# Guardalo en un dataframe nuevo\n",
    "# Calcula la correlacion entre dicha media de sueldos y nivel_edu_int\n",
    "# ¿Qué observas?\n",
    "# Esto recibe el nombre de \"falacia ecológica\""
   ]
  },
  {
   "cell_type": "markdown",
   "metadata": {},
   "source": [
    "BONUS TRACK"
   ]
  },
  {
   "cell_type": "code",
   "execution_count": null,
   "metadata": {},
   "outputs": [],
   "source": [
    "# crea 5 columnas \"sobre_eso\", \"sobre_fp\", \"sobre_grado\", \"sobre_master\" y \"sobre_phd\"\n",
    "# debe ser True si el sueldo esta por encima de la media de ese nivel de educación\n",
    "# prueba diversas formas de resolverlo: loc, merge, apply, transform... \n",
    "# Algunas son más eficientes y limpias que otras, pero es un buen ejercicio técnico"
   ]
  },
  {
   "cell_type": "code",
   "execution_count": null,
   "metadata": {},
   "outputs": [],
   "source": [
    "# cálcula y visualiza la media de cada una de las cinco variables de todo el dataset"
   ]
  },
  {
   "cell_type": "code",
   "execution_count": null,
   "metadata": {},
   "outputs": [],
   "source": [
    "# cálcula y visualiza la media de cada una de las cinco variables por nivel de educación"
   ]
  }
 ],
 "metadata": {
  "language_info": {
   "name": "python"
  }
 },
 "nbformat": 4,
 "nbformat_minor": 2
}
