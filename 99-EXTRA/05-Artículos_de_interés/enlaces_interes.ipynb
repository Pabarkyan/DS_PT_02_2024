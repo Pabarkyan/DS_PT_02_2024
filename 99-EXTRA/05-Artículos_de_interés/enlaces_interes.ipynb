{
 "cells": [
  {
   "cell_type": "markdown",
   "metadata": {},
   "source": [
    "# Visualización\n",
    "https://www.albertocairo.com/"
   ]
  },
  {
   "cell_type": "markdown",
   "metadata": {},
   "source": [
    "# Estadísticas\n",
    "https://ec.europa.eu/eurostat\n",
    "https://statistics.cepal.org/portal/cepalstat/index.html?lang=es\n",
    "https://stats.oecd.org/\n",
    "https://www.imf.org/en/Data\n",
    "https://datos.bancomundial.org/\n",
    "https://unstats.un.org/UNSDWebsite/\n",
    "https://datos.gob.es/es"
   ]
  },
  {
   "cell_type": "markdown",
   "metadata": {},
   "source": [
    "# Libros gratis y legales"
   ]
  },
  {
   "cell_type": "markdown",
   "metadata": {},
   "source": [
    "https://www.openintro.org\n",
    "\n",
    "https://www.statlearning.com/"
   ]
  },
  {
   "cell_type": "markdown",
   "metadata": {},
   "source": [
    "# Videos"
   ]
  },
  {
   "cell_type": "markdown",
   "metadata": {},
   "source": [
    "https://www.youtube.com/watch?v=FwFduRA_L6Q"
   ]
  }
 ],
 "metadata": {
  "language_info": {
   "name": "python"
  }
 },
 "nbformat": 4,
 "nbformat_minor": 2
}
