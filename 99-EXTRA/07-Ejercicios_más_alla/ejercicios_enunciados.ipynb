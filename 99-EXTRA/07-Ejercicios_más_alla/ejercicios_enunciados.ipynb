{
 "cells": [
  {
   "cell_type": "code",
   "execution_count": null,
   "metadata": {},
   "outputs": [],
   "source": [
    "## Crea una tabla en una BBDD con un campo de caracteres de longitud 25. \n",
    "## Inserta valores de longitud mayor a 25 y comprueba"
   ]
  },
  {
   "cell_type": "code",
   "execution_count": 11,
   "metadata": {},
   "outputs": [],
   "source": [
    "### El fichero pokemon_roto.csv está corrupto!\n",
    "### Observa a Charmander e intenta transformar en entero la columna #\n",
    "### ¿Puedes arreglarlo?"
   ]
  },
  {
   "cell_type": "code",
   "execution_count": null,
   "metadata": {},
   "outputs": [],
   "source": [
    "### ¿Puedes localizar aproximadamente el círculo con el mayor entero (25 en esta imagen) sin necesidad de usar ML?\n",
    "### ¿Puedes analizar si se superpone al círculo azul?"
   ]
  },
  {
   "cell_type": "code",
   "execution_count": null,
   "metadata": {},
   "outputs": [],
   "source": [
    "#### Utiliza la API de Custon Search de Google para encontrar la palabra con más referencias en internet\n",
    "[\"Miguel Psellos\", \"Miguell Sellos\", \"Miguel Selos\"]"
   ]
  },
  {
   "cell_type": "code",
   "execution_count": null,
   "metadata": {},
   "outputs": [],
   "source": [
    "#### Utiliza la libreria PaddleOCR para intentar identificar las palabras en frame_265.jpg\n",
    "#### Intenta partir la imagen en trozos más pequeños para intentar mejorar los resultados"
   ]
  }
 ],
 "metadata": {
  "kernelspec": {
   "display_name": "Python 3",
   "language": "python",
   "name": "python3"
  },
  "language_info": {
   "codemirror_mode": {
    "name": "ipython",
    "version": 3
   },
   "file_extension": ".py",
   "mimetype": "text/x-python",
   "name": "python",
   "nbconvert_exporter": "python",
   "pygments_lexer": "ipython3",
   "version": "3.12.2"
  }
 },
 "nbformat": 4,
 "nbformat_minor": 2
}
