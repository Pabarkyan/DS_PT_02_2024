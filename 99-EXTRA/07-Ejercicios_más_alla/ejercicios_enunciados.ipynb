{
 "cells": [
  {
   "cell_type": "code",
   "execution_count": null,
   "metadata": {},
   "outputs": [],
   "source": [
    "## Crea una tabla en una BBDD con un campo de caracteres de longitud 25. \n",
    "## Inserta valores de longitud mayor a 25 y comprueba"
   ]
  },
  {
   "cell_type": "code",
   "execution_count": 54,
   "metadata": {},
   "outputs": [],
   "source": [
    "import pandas as pd\n",
    "### El fichero pokemon_roto.csv está corrupto!\n",
    "### Observa a Charmander e intenta transformar en entero la columna #\n",
    "### ¿Puedes arreglarlo?\n",
    "pokemon = pd.read_csv('pokemon_roto.csv')\n",
    "pokemon[pokemon['Name'] == 'Charmander']['#'].astype(int) # parece que esto funciona\n",
    "# pokemon['#'] = pokemon['#'].astype(int) # Nos da error: invalid literal for int() with base 10: 'Ampharos'\n",
    "pokemon[pokemon['#'] == 'Ampharos'] # Parece que hay un error y pone 'Ampharos' en lugar de un numero y obervamos que es el indice 195\n",
    "pokemon.iloc[190:200] # Aqui observamos que Ampharos esta entre 180 y 181 asi q le ponemos 180\n",
    "# pokemon['#'][195] = 180 # salta un warning y nos recomienda remplazar la linea por la siguiente:\n",
    "pokemon.loc[195, \"#\"] = '180'\n",
    "# pokemon['#'] = pokemon['#'].astype(int) # vuelve a dar error por lo que podemos intuir que no es algo muy puntual y no sabemos cuantos puede haber\n",
    "\n",
    "errores = []\n",
    "for j, i in enumerate(pokemon['#']): # ¿Bucle for puede llegar a ser muy lento, que otra forma existiria?\n",
    "    try:\n",
    "        int(i)\n",
    "    except:\n",
    "        pokemon.loc[j, \"#\"] = pokemon.loc[j - 1, \"#\"] # sabemos que en la posicion 0 no hay error\n",
    "        # le estamos dando el valor del anterior # donde esta el error\n",
    "\n",
    "pokemon['#'] = pokemon['#'].astype(int) # Conseguido\n"
   ]
  },
  {
   "cell_type": "code",
   "execution_count": 67,
   "metadata": {},
   "outputs": [],
   "source": [
    "### ¿Puedes localizar aproximadamente el círculo con el mayor entero (25 en esta imagen) sin necesidad de usar ML?\n",
    "### ¿Puedes analizar si se superpone al círculo azul?"
   ]
  },
  {
   "cell_type": "code",
   "execution_count": null,
   "metadata": {},
   "outputs": [],
   "source": [
    "#### Utiliza la API de Custon Search de Google para encontrar la palabra con más referencias en internet\n",
    "[\"Miguel Psellos\", \"Miguell Sellos\", \"Miguel Selos\"]"
   ]
  },
  {
   "cell_type": "code",
   "execution_count": null,
   "metadata": {},
   "outputs": [],
   "source": [
    "#### Utiliza la libreria PaddleOCR para intentar identificar las palabras en frame_265.jpg\n",
    "#### Intenta partir la imagen en trozos más pequeños para intentar mejorar los resultados"
   ]
  }
 ],
 "metadata": {
  "kernelspec": {
   "display_name": "Python 3",
   "language": "python",
   "name": "python3"
  },
  "language_info": {
   "codemirror_mode": {
    "name": "ipython",
    "version": 3
   },
   "file_extension": ".py",
   "mimetype": "text/x-python",
   "name": "python",
   "nbconvert_exporter": "python",
   "pygments_lexer": "ipython3",
   "version": "3.12.1"
  }
 },
 "nbformat": 4,
 "nbformat_minor": 2
}
