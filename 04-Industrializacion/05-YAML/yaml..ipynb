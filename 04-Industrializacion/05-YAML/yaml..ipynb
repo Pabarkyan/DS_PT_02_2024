{
 "cells": [
  {
   "cell_type": "markdown",
   "metadata": {},
   "source": [
    "# YAML\n",
    "\n",
    "Diccionarios para configurar tus scripts"
   ]
  },
  {
   "cell_type": "code",
   "execution_count": 1,
   "metadata": {},
   "outputs": [
    {
     "name": "stdout",
     "output_type": "stream",
     "text": [
      "Requirement already satisfied: pyyaml in c:\\users\\jonatan\\appdata\\local\\programs\\python\\python312\\lib\\site-packages (6.0.1)\n"
     ]
    },
    {
     "name": "stderr",
     "output_type": "stream",
     "text": [
      "\n",
      "[notice] A new release of pip is available: 24.0 -> 24.1.2\n",
      "[notice] To update, run: python.exe -m pip install --upgrade pip\n"
     ]
    }
   ],
   "source": [
    "!pip install pyyaml"
   ]
  },
  {
   "cell_type": "code",
   "execution_count": 4,
   "metadata": {},
   "outputs": [
    {
     "data": {
      "text/plain": [
       "{'rest': {'url': 'https://example.org/primenumbers/v1', 'port': 8443},\n",
       " 'prime_numbers': [2, 3, 5, 7, 11, 13, 17, 19],\n",
       " 'names': ['Yon',\n",
       "  'Jon',\n",
       "  'Joni',\n",
       "  'Yoni',\n",
       "  'Jonatan',\n",
       "  'Jonathan',\n",
       "  'Yonatan',\n",
       "  'Yonathan']}"
      ]
     },
     "execution_count": 4,
     "metadata": {},
     "output_type": "execute_result"
    }
   ],
   "source": [
    "# https://pyyaml.org/wiki/PyYAMLDocumentation\n",
    "import yaml\n",
    "\n",
    "with open('config.yml', 'r') as file:\n",
    "    prime_service = yaml.safe_load(file)\n",
    "\n",
    "prime_service"
   ]
  },
  {
   "cell_type": "code",
   "execution_count": 5,
   "metadata": {},
   "outputs": [
    {
     "data": {
      "text/plain": [
       "['Yon', 'Jon', 'Joni', 'Yoni', 'Jonatan', 'Jonathan', 'Yonatan', 'Yonathan']"
      ]
     },
     "execution_count": 5,
     "metadata": {},
     "output_type": "execute_result"
    }
   ],
   "source": [
    "# Ejemplo: claves para acceder s3, bucket y fichero!"
   ]
  }
 ],
 "metadata": {
  "kernelspec": {
   "display_name": "Python 3",
   "language": "python",
   "name": "python3"
  },
  "language_info": {
   "codemirror_mode": {
    "name": "ipython",
    "version": 3
   },
   "file_extension": ".py",
   "mimetype": "text/x-python",
   "name": "python",
   "nbconvert_exporter": "python",
   "pygments_lexer": "ipython3",
   "version": "3.12.1"
  }
 },
 "nbformat": 4,
 "nbformat_minor": 2
}
