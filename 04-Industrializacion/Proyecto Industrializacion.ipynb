{
 "cells": [
  {
   "cell_type": "markdown",
   "metadata": {},
   "source": [
    "# Proyecto Industrialización\n",
    "Para el tercer módulo del bootcamp de Data Science tendrás que desarrollar un modelo de machine learning con los datos obtenidos en la etapa de Data Analysis (o con datos nuevos).\n",
    "\n",
    "* **Miembros**: El proyecto es individual\n",
    "* **Datos**: Los del ML\n",
    "* **Fechas**: Las presentaciones se realizarán el lunes 29 de julio. La presentación es necesariamente ese día. Todas las prácticas deberían estar entregadas la primera semana de agosto. **Hard Deadline**\n",
    "## Objetivo\n",
    "El objetivo de este proyecto es programar una api que permita obtener los datos usados por tu modelo así como predicciones.\n",
    "Consistirá en una API de Flask con los siguientes endpoints:\n",
    "* Todos los datos \n",
    "* Solo el train\n",
    "* Solo el test\n",
    "* La observación n de tu dataset\n",
    "* Una query (filtro de tus datos)\n",
    "* Predicciones\n",
    "\n",
    "\n",
    "## Evaluación\n",
    "**Presentación (80%) no más de 5 minutos donde expondrás tu caso. 10 minutos en total con las preguntas.**\n",
    "\n",
    "Código (10%) hay que entregar todo el código desarrollado.\n",
    "\n",
    "Subir el proyecto a tu GitHub personal. (10%) Este gran esfuerzo tiene que ser compartido y te recomiendo que te crees un repositorio en GitHub para ir añadiendo tus proyectos personales.\n",
    "\n",
    "## Entregable\n",
    "Consistirá en un .zip que habrá que subir a Google Classroom. En el zip debe constar:\n",
    "\n",
    "Presentación\n",
    "Código\n",
    "Documentación utilizada\n",
    "Archivo .txt con el enlace al repositorio de GitHub.\n",
    "\n",
    "\n",
    "## Presentación\n",
    "Similar a la del proyecto anterior: más bien técnica. \n",
    "Mostrar un pantallazo donde has podido aplicar el API desde otro notebook\n",
    "\n",
    "\n",
    "\n"
   ]
  }
 ],
 "metadata": {
  "kernelspec": {
   "display_name": "Python 3 (ipykernel)",
   "language": "python",
   "name": "python3"
  },
  "language_info": {
   "codemirror_mode": {
    "name": "ipython",
    "version": 3
   },
   "file_extension": ".py",
   "mimetype": "text/x-python",
   "name": "python",
   "nbconvert_exporter": "python",
   "pygments_lexer": "ipython3",
   "version": "3.10.8"
  }
 },
 "nbformat": 4,
 "nbformat_minor": 4
}
