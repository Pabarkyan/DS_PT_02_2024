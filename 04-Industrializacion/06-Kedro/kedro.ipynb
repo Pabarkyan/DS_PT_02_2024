{
 "cells": [
  {
   "cell_type": "code",
   "execution_count": 1,
   "metadata": {},
   "outputs": [
    {
     "name": "stdout",
     "output_type": "stream",
     "text": [
      "Collecting kedro\n",
      "  Downloading kedro-0.19.6-py3-none-any.whl.metadata (13 kB)\n",
      "Requirement already satisfied: attrs>=21.3 in c:\\users\\jonatan\\appdata\\local\\programs\\python\\python312\\lib\\site-packages (from kedro) (23.2.0)\n",
      "Collecting build>=0.7.0 (from kedro)\n",
      "  Downloading build-1.2.1-py3-none-any.whl.metadata (4.3 kB)\n",
      "Requirement already satisfied: cachetools>=4.1 in c:\\users\\jonatan\\appdata\\local\\programs\\python\\python312\\lib\\site-packages (from kedro) (5.3.3)\n",
      "Requirement already satisfied: click>=4.0 in c:\\users\\jonatan\\appdata\\local\\programs\\python\\python312\\lib\\site-packages (from kedro) (8.1.7)\n",
      "Collecting cookiecutter<3.0,>=2.1.1 (from kedro)\n",
      "  Downloading cookiecutter-2.6.0-py3-none-any.whl.metadata (7.3 kB)\n",
      "Collecting dynaconf<4.0,>=3.1.2 (from kedro)\n",
      "  Downloading dynaconf-3.2.5-py2.py3-none-any.whl.metadata (9.1 kB)\n",
      "Requirement already satisfied: fsspec>=2021.4 in c:\\users\\jonatan\\appdata\\local\\programs\\python\\python312\\lib\\site-packages (from kedro) (2024.6.1)\n",
      "Requirement already satisfied: gitpython>=3.0 in c:\\users\\jonatan\\appdata\\local\\programs\\python\\python312\\lib\\site-packages (from kedro) (3.1.43)\n",
      "Collecting importlib-resources<7.0,>=1.3 (from kedro)\n",
      "  Downloading importlib_resources-6.4.0-py3-none-any.whl.metadata (3.9 kB)\n",
      "Collecting more-itertools>=8.14.0 (from kedro)\n",
      "  Downloading more_itertools-10.3.0-py3-none-any.whl.metadata (36 kB)\n",
      "Collecting omegaconf>=2.1.1 (from kedro)\n",
      "  Downloading omegaconf-2.3.0-py3-none-any.whl.metadata (3.9 kB)\n",
      "Collecting parse>=1.19.0 (from kedro)\n",
      "  Downloading parse-1.20.2-py2.py3-none-any.whl.metadata (22 kB)\n",
      "Collecting pluggy>=1.0 (from kedro)\n",
      "  Downloading pluggy-1.5.0-py3-none-any.whl.metadata (4.8 kB)\n",
      "Collecting pre-commit-hooks (from kedro)\n",
      "  Downloading pre_commit_hooks-4.6.0-py2.py3-none-any.whl.metadata (10 kB)\n",
      "Requirement already satisfied: PyYAML<7.0,>=4.2 in c:\\users\\jonatan\\appdata\\local\\programs\\python\\python312\\lib\\site-packages (from kedro) (6.0.1)\n",
      "Requirement already satisfied: rich<14.0,>=12.0 in c:\\users\\jonatan\\appdata\\local\\programs\\python\\python312\\lib\\site-packages (from kedro) (13.7.1)\n",
      "Collecting rope<2.0,>=0.21 (from kedro)\n",
      "  Downloading rope-1.13.0-py3-none-any.whl.metadata (6.6 kB)\n",
      "Requirement already satisfied: toml>=0.10.0 in c:\\users\\jonatan\\appdata\\local\\programs\\python\\python312\\lib\\site-packages (from kedro) (0.10.2)\n",
      "Collecting importlib-metadata<8.0,>=3.6 (from kedro)\n",
      "  Downloading importlib_metadata-7.2.1-py3-none-any.whl.metadata (4.6 kB)\n",
      "Requirement already satisfied: packaging>=19.1 in c:\\users\\jonatan\\appdata\\roaming\\python\\python312\\site-packages (from build>=0.7.0->kedro) (23.2)\n",
      "Collecting pyproject_hooks (from build>=0.7.0->kedro)\n",
      "  Downloading pyproject_hooks-1.1.0-py3-none-any.whl.metadata (1.3 kB)\n",
      "Requirement already satisfied: colorama in c:\\users\\jonatan\\appdata\\roaming\\python\\python312\\site-packages (from build>=0.7.0->kedro) (0.4.6)\n",
      "Collecting binaryornot>=0.4.4 (from cookiecutter<3.0,>=2.1.1->kedro)\n",
      "  Downloading binaryornot-0.4.4-py2.py3-none-any.whl.metadata (6.0 kB)\n",
      "Requirement already satisfied: Jinja2<4.0.0,>=2.7 in c:\\users\\jonatan\\appdata\\local\\programs\\python\\python312\\lib\\site-packages (from cookiecutter<3.0,>=2.1.1->kedro) (3.1.3)\n",
      "Collecting python-slugify>=4.0.0 (from cookiecutter<3.0,>=2.1.1->kedro)\n",
      "  Downloading python_slugify-8.0.4-py2.py3-none-any.whl.metadata (8.5 kB)\n",
      "Requirement already satisfied: requests>=2.23.0 in c:\\users\\jonatan\\appdata\\local\\programs\\python\\python312\\lib\\site-packages (from cookiecutter<3.0,>=2.1.1->kedro) (2.31.0)\n",
      "Collecting arrow (from cookiecutter<3.0,>=2.1.1->kedro)\n",
      "  Downloading arrow-1.3.0-py3-none-any.whl.metadata (7.5 kB)\n",
      "Requirement already satisfied: gitdb<5,>=4.0.1 in c:\\users\\jonatan\\appdata\\local\\programs\\python\\python312\\lib\\site-packages (from gitpython>=3.0->kedro) (4.0.11)\n",
      "Collecting zipp>=0.5 (from importlib-metadata<8.0,>=3.6->kedro)\n",
      "  Downloading zipp-3.19.2-py3-none-any.whl.metadata (3.6 kB)\n",
      "Collecting antlr4-python3-runtime==4.9.* (from omegaconf>=2.1.1->kedro)\n",
      "  Downloading antlr4-python3-runtime-4.9.3.tar.gz (117 kB)\n",
      "     ---------------------------------------- 0.0/117.0 kB ? eta -:--:--\n",
      "     ---------------------------------------- 117.0/117.0 kB ? eta 0:00:00\n",
      "  Preparing metadata (setup.py): started\n",
      "  Preparing metadata (setup.py): finished with status 'done'\n",
      "Requirement already satisfied: markdown-it-py>=2.2.0 in c:\\users\\jonatan\\appdata\\local\\programs\\python\\python312\\lib\\site-packages (from rich<14.0,>=12.0->kedro) (3.0.0)\n",
      "Requirement already satisfied: pygments<3.0.0,>=2.13.0 in c:\\users\\jonatan\\appdata\\roaming\\python\\python312\\site-packages (from rich<14.0,>=12.0->kedro) (2.17.2)\n",
      "Collecting pytoolconfig>=1.2.2 (from pytoolconfig[global]>=1.2.2->rope<2.0,>=0.21->kedro)\n",
      "  Downloading pytoolconfig-1.3.1-py3-none-any.whl.metadata (1.4 kB)\n",
      "Collecting ruamel.yaml>=0.15 (from pre-commit-hooks->kedro)\n",
      "  Downloading ruamel.yaml-0.18.6-py3-none-any.whl.metadata (23 kB)\n",
      "Collecting chardet>=3.0.2 (from binaryornot>=0.4.4->cookiecutter<3.0,>=2.1.1->kedro)\n",
      "  Downloading chardet-5.2.0-py3-none-any.whl.metadata (3.4 kB)\n",
      "Requirement already satisfied: smmap<6,>=3.0.1 in c:\\users\\jonatan\\appdata\\local\\programs\\python\\python312\\lib\\site-packages (from gitdb<5,>=4.0.1->gitpython>=3.0->kedro) (5.0.1)\n",
      "Requirement already satisfied: MarkupSafe>=2.0 in c:\\users\\jonatan\\appdata\\local\\programs\\python\\python312\\lib\\site-packages (from Jinja2<4.0.0,>=2.7->cookiecutter<3.0,>=2.1.1->kedro) (2.1.5)\n",
      "Requirement already satisfied: mdurl~=0.1 in c:\\users\\jonatan\\appdata\\local\\programs\\python\\python312\\lib\\site-packages (from markdown-it-py>=2.2.0->rich<14.0,>=12.0->kedro) (0.1.2)\n",
      "Collecting text-unidecode>=1.3 (from python-slugify>=4.0.0->cookiecutter<3.0,>=2.1.1->kedro)\n",
      "  Downloading text_unidecode-1.3-py2.py3-none-any.whl.metadata (2.4 kB)\n",
      "Requirement already satisfied: platformdirs>=3.11.0 in c:\\users\\jonatan\\appdata\\roaming\\python\\python312\\site-packages (from pytoolconfig[global]>=1.2.2->rope<2.0,>=0.21->kedro) (4.2.0)\n",
      "Requirement already satisfied: charset-normalizer<4,>=2 in c:\\users\\jonatan\\appdata\\local\\programs\\python\\python312\\lib\\site-packages (from requests>=2.23.0->cookiecutter<3.0,>=2.1.1->kedro) (3.3.2)\n",
      "Requirement already satisfied: idna<4,>=2.5 in c:\\users\\jonatan\\appdata\\local\\programs\\python\\python312\\lib\\site-packages (from requests>=2.23.0->cookiecutter<3.0,>=2.1.1->kedro) (3.6)\n",
      "Requirement already satisfied: urllib3<3,>=1.21.1 in c:\\users\\jonatan\\appdata\\local\\programs\\python\\python312\\lib\\site-packages (from requests>=2.23.0->cookiecutter<3.0,>=2.1.1->kedro) (2.2.1)\n",
      "Requirement already satisfied: certifi>=2017.4.17 in c:\\users\\jonatan\\appdata\\local\\programs\\python\\python312\\lib\\site-packages (from requests>=2.23.0->cookiecutter<3.0,>=2.1.1->kedro) (2024.2.2)\n",
      "Collecting ruamel.yaml.clib>=0.2.7 (from ruamel.yaml>=0.15->pre-commit-hooks->kedro)\n",
      "  Downloading ruamel.yaml.clib-0.2.8-cp312-cp312-win_amd64.whl.metadata (2.3 kB)\n",
      "Requirement already satisfied: python-dateutil>=2.7.0 in c:\\users\\jonatan\\appdata\\roaming\\python\\python312\\site-packages (from arrow->cookiecutter<3.0,>=2.1.1->kedro) (2.8.2)\n",
      "Collecting types-python-dateutil>=2.8.10 (from arrow->cookiecutter<3.0,>=2.1.1->kedro)\n",
      "  Downloading types_python_dateutil-2.9.0.20240316-py3-none-any.whl.metadata (1.8 kB)\n",
      "Requirement already satisfied: six>=1.5 in c:\\users\\jonatan\\appdata\\roaming\\python\\python312\\site-packages (from python-dateutil>=2.7.0->arrow->cookiecutter<3.0,>=2.1.1->kedro) (1.16.0)\n",
      "Downloading kedro-0.19.6-py3-none-any.whl (170 kB)\n",
      "   ---------------------------------------- 0.0/170.1 kB ? eta -:--:--\n",
      "   --------------------------------------- 170.1/170.1 kB 10.7 MB/s eta 0:00:00\n",
      "Downloading build-1.2.1-py3-none-any.whl (21 kB)\n",
      "Downloading cookiecutter-2.6.0-py3-none-any.whl (39 kB)\n",
      "Downloading dynaconf-3.2.5-py2.py3-none-any.whl (230 kB)\n",
      "   ---------------------------------------- 0.0/230.8 kB ? eta -:--:--\n",
      "   --------------------------------------- 230.8/230.8 kB 14.7 MB/s eta 0:00:00\n",
      "Downloading importlib_metadata-7.2.1-py3-none-any.whl (25 kB)\n",
      "Downloading importlib_resources-6.4.0-py3-none-any.whl (38 kB)\n",
      "Downloading more_itertools-10.3.0-py3-none-any.whl (59 kB)\n",
      "   ---------------------------------------- 0.0/59.2 kB ? eta -:--:--\n",
      "   ---------------------------------------- 59.2/59.2 kB ? eta 0:00:00\n",
      "Downloading omegaconf-2.3.0-py3-none-any.whl (79 kB)\n",
      "   ---------------------------------------- 0.0/79.5 kB ? eta -:--:--\n",
      "   ---------------------------------------- 79.5/79.5 kB ? eta 0:00:00\n",
      "Downloading parse-1.20.2-py2.py3-none-any.whl (20 kB)\n",
      "Downloading pluggy-1.5.0-py3-none-any.whl (20 kB)\n",
      "Downloading rope-1.13.0-py3-none-any.whl (206 kB)\n",
      "   ---------------------------------------- 0.0/206.5 kB ? eta -:--:--\n",
      "   ---------------------------------------- 206.5/206.5 kB ? eta 0:00:00\n",
      "Downloading pre_commit_hooks-4.6.0-py2.py3-none-any.whl (41 kB)\n",
      "   ---------------------------------------- 0.0/41.2 kB ? eta -:--:--\n",
      "   ---------------------------------------- 41.2/41.2 kB ? eta 0:00:00\n",
      "Downloading binaryornot-0.4.4-py2.py3-none-any.whl (9.0 kB)\n",
      "Downloading python_slugify-8.0.4-py2.py3-none-any.whl (10 kB)\n",
      "Downloading pytoolconfig-1.3.1-py3-none-any.whl (17 kB)\n",
      "Downloading ruamel.yaml-0.18.6-py3-none-any.whl (117 kB)\n",
      "   ---------------------------------------- 0.0/117.8 kB ? eta -:--:--\n",
      "   ---------------------------------------- 117.8/117.8 kB 6.7 MB/s eta 0:00:00\n",
      "Downloading zipp-3.19.2-py3-none-any.whl (9.0 kB)\n",
      "Downloading arrow-1.3.0-py3-none-any.whl (66 kB)\n",
      "   ---------------------------------------- 0.0/66.4 kB ? eta -:--:--\n",
      "   ---------------------------------------- 66.4/66.4 kB ? eta 0:00:00\n",
      "Downloading pyproject_hooks-1.1.0-py3-none-any.whl (9.2 kB)\n",
      "Downloading chardet-5.2.0-py3-none-any.whl (199 kB)\n",
      "   ---------------------------------------- 0.0/199.4 kB ? eta -:--:--\n",
      "   --------------------------------------- 199.4/199.4 kB 12.6 MB/s eta 0:00:00\n",
      "Downloading ruamel.yaml.clib-0.2.8-cp312-cp312-win_amd64.whl (115 kB)\n",
      "   ---------------------------------------- 0.0/115.3 kB ? eta -:--:--\n",
      "   ---------------------------------------- 115.3/115.3 kB ? eta 0:00:00\n",
      "Downloading text_unidecode-1.3-py2.py3-none-any.whl (78 kB)\n",
      "   ---------------------------------------- 0.0/78.2 kB ? eta -:--:--\n",
      "   ---------------------------------------- 78.2/78.2 kB 4.5 MB/s eta 0:00:00\n",
      "Downloading types_python_dateutil-2.9.0.20240316-py3-none-any.whl (9.7 kB)\n",
      "Building wheels for collected packages: antlr4-python3-runtime\n",
      "  Building wheel for antlr4-python3-runtime (setup.py): started\n",
      "  Building wheel for antlr4-python3-runtime (setup.py): finished with status 'done'\n",
      "  Created wheel for antlr4-python3-runtime: filename=antlr4_python3_runtime-4.9.3-py3-none-any.whl size=144578 sha256=c4dbbac45a47d5310b2f0b045bbae621e7714b32c704b356c884bca8071dac6b\n",
      "  Stored in directory: c:\\users\\jonatan\\appdata\\local\\pip\\cache\\wheels\\1f\\be\\48\\13754633f1d08d1fbfc60d5e80ae1e5d7329500477685286cd\n",
      "Successfully built antlr4-python3-runtime\n",
      "Installing collected packages: text-unidecode, parse, antlr4-python3-runtime, zipp, types-python-dateutil, ruamel.yaml.clib, pytoolconfig, python-slugify, pyproject_hooks, pluggy, omegaconf, more-itertools, importlib-resources, dynaconf, chardet, ruamel.yaml, importlib-metadata, build, binaryornot, arrow, rope, pre-commit-hooks, cookiecutter, kedro\n",
      "Successfully installed antlr4-python3-runtime-4.9.3 arrow-1.3.0 binaryornot-0.4.4 build-1.2.1 chardet-5.2.0 cookiecutter-2.6.0 dynaconf-3.2.5 importlib-metadata-7.2.1 importlib-resources-6.4.0 kedro-0.19.6 more-itertools-10.3.0 omegaconf-2.3.0 parse-1.20.2 pluggy-1.5.0 pre-commit-hooks-4.6.0 pyproject_hooks-1.1.0 python-slugify-8.0.4 pytoolconfig-1.3.1 rope-1.13.0 ruamel.yaml-0.18.6 ruamel.yaml.clib-0.2.8 text-unidecode-1.3 types-python-dateutil-2.9.0.20240316 zipp-3.19.2\n"
     ]
    },
    {
     "name": "stderr",
     "output_type": "stream",
     "text": [
      "\n",
      "[notice] A new release of pip is available: 24.0 -> 24.1.2\n",
      "[notice] To update, run: python.exe -m pip install --upgrade pip\n"
     ]
    }
   ],
   "source": [
    "!pip install kedro"
   ]
  },
  {
   "cell_type": "code",
   "execution_count": null,
   "metadata": {},
   "outputs": [],
   "source": [
    "!pip install kedro-viz\n",
    "#kedro viz run"
   ]
  },
  {
   "cell_type": "code",
   "execution_count": null,
   "metadata": {},
   "outputs": [],
   "source": []
  },
  {
   "cell_type": "code",
   "execution_count": 3,
   "metadata": {},
   "outputs": [
    {
     "name": "stdout",
     "output_type": "stream",
     "text": [
      "[07/22/24 19:06:48] WARNING  C:\\Users\\Jonatan\\AppData\\Local\\Pro warnings.py:109\n",
      "                             grams\\Python\\Python312\\Lib\\site-pa                \n",
      "                             ckages\\kedro_viz\\__init__.py:13:                  \n",
      "                             KedroVizPythonVersionWarning:                     \n",
      "                             Please be advised that Kedro Viz                  \n",
      "                             is not yet fully                                  \n",
      "                                     compatible with the Python                \n",
      "                             version you are currently using.                  \n",
      "                               warnings.warn(                                  \n",
      "                                                                               \n",
      "kedro, version 0.19.6\n"
     ]
    }
   ],
   "source": [
    "!kedro --version"
   ]
  },
  {
   "cell_type": "markdown",
   "metadata": {},
   "source": [
    "# En consola\n",
    "kedro new --starter=spaceflights-pandas\n",
    "\n",
    "pip install -r requirements.txt\n",
    "\n",
    "#kedro run"
   ]
  }
 ],
 "metadata": {
  "kernelspec": {
   "display_name": "Python 3",
   "language": "python",
   "name": "python3"
  },
  "language_info": {
   "codemirror_mode": {
    "name": "ipython",
    "version": 3
   },
   "file_extension": ".py",
   "mimetype": "text/x-python",
   "name": "python",
   "nbconvert_exporter": "python",
   "pygments_lexer": "ipython3",
   "version": "3.12.1"
  }
 },
 "nbformat": 4,
 "nbformat_minor": 2
}
