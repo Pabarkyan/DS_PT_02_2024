{
 "cells": [
  {
   "cell_type": "code",
   "execution_count": 8,
   "metadata": {},
   "outputs": [],
   "source": [
    "from flask import Flask, request, jsonify"
   ]
  },
  {
   "cell_type": "code",
   "execution_count": 9,
   "metadata": {},
   "outputs": [],
   "source": [
    "app = Flask(__name__)\n",
    "app.config['DEBUG'] = False"
   ]
  },
  {
   "cell_type": "code",
   "execution_count": 10,
   "metadata": {},
   "outputs": [],
   "source": [
    "\n",
    "books = [ \n",
    "            {'id': 0, \n",
    "            'title': 'A Fire Upon the Deep', \n",
    "            'author': 'VernorVinge', \n",
    "            'first_sentence': 'The coldsleep itself was dreamless.', \n",
    "            'published': '1992'},\n",
    "            \n",
    "            {'id': 1, \n",
    "            'title': 'The Ones Who Walk Away From Omelas', \n",
    "            'author': 'Ursula K. Le Guin', \n",
    "            'first_sentence': 'With a clamor of bells that set the swallows soaring, the Festival of Summer came to the city Omelas, bright-towered by the sea.', \n",
    "            'published': '1973'},\n",
    "\n",
    "            {'id': 2, \n",
    "            'title': 'Dhalgren', \n",
    "            'author': 'Samuel R. Delany', \n",
    "            'first_sentence': 'to wound the autumnal city.', \n",
    "            'published': '1975'} \n",
    "        ]\n",
    "\n"
   ]
  },
  {
   "cell_type": "code",
   "execution_count": 11,
   "metadata": {},
   "outputs": [],
   "source": [
    "import pandas as pd\n",
    "import sqlite3\n",
    "books = pd.read_csv(\"books.csv\")\n",
    "books[\"published\"] = books[\"published\"].astype(int)"
   ]
  },
  {
   "cell_type": "code",
   "execution_count": 12,
   "metadata": {},
   "outputs": [
    {
     "name": "stdout",
     "output_type": "stream",
     "text": [
      " * Serving Flask app '__main__'\n",
      " * Debug mode: off\n"
     ]
    },
    {
     "name": "stderr",
     "output_type": "stream",
     "text": [
      "WARNING: This is a development server. Do not use it in a production deployment. Use a production WSGI server instead.\n",
      " * Running on http://127.0.0.1:5000\n",
      "Press CTRL+C to quit\n",
      "127.0.0.1 - - [28/Jul/2024 12:33:48] \"GET /api/v1/resources/books/all HTTP/1.1\" 200 -\n",
      "127.0.0.1 - - [28/Jul/2024 14:14:03] \"GET /api/v1/resources/books?id=1 HTTP/1.1\" 200 -\n",
      "127.0.0.1 - - [28/Jul/2024 14:14:29] \"GET /api/v1/resources/books?id=1&author=Ursula%20K.%20Le%20Guin HTTP/1.1\" 200 -\n"
     ]
    }
   ],
   "source": [
    "@app.route('/', methods=['GET'])\n",
    "def home():\n",
    "\treturn \"<h1>La Enciclopedia de Hari Seldon</h1><p>This site is a prototype API for distant reading of science fiction novels.</p>\"\n",
    "\n",
    "\n",
    "# GET Display all the books\n",
    "#@app.route('/api/v1/resources/books/all', methods=['GET']) \n",
    "#def api_all():\n",
    "#    return jsonify(books.to_dict(orient=\"records\"))\n",
    "    #return books\n",
    "@app.route('/api/v1/resources/books/all', methods=['GET']) \n",
    "def get_all(): \n",
    "    connection = sqlite3.connect('data/books.db') \n",
    "    cursor = connection.cursor() \n",
    " \n",
    "    select_books = \"SELECT * FROM books\" \n",
    " \n",
    "    result = cursor.execute(select_books).fetchall() \n",
    " \n",
    "    connection.close() \n",
    " \n",
    "    return {'books': result} \n",
    "\n",
    "@app.route('/api/v1/resources/books/1', methods=['GET']) \n",
    "def api_1():\n",
    "    return jsonify(books.iloc[0].to_dict())\n",
    "\n",
    "@app.route('/api/v1/resources/books/2', methods=['GET']) \n",
    "def api_2():\n",
    "    return jsonify(books.iloc[1].to_dict())\n",
    "\n",
    "@app.route('/api/v1/resources/books/3', methods=['GET']) \n",
    "def api_3():\n",
    "    return jsonify(books.iloc[2].to_dict())\n",
    "\n",
    "@app.route('/api/v1/resources/books', methods=['GET']) \n",
    "def api_id(): \n",
    " \n",
    "    if 'id' in request.args: \n",
    "        id = int(request.args['id']) \n",
    "        results = books[books[\"id\"]==id]\n",
    "    elif 'author' in request.args: \n",
    "        author = request.args['author']\n",
    "        results = books[books[\"author\"]==author]\n",
    "    else: \n",
    "        return \"Error: No id field provided. Please specify an id.\" \n",
    "    \n",
    " \n",
    "    return jsonify(results.to_dict())\n",
    "\n",
    "@app.route('/api/v1/resources/query', methods=['GET']) \n",
    "def api_query():\n",
    "    from_ = int(request.args[\"from\"])\n",
    "    to_ =  int(request.args[\"to\"])\n",
    "    #results = books[(books[\"published\"]>=from_) & (books[\"published\"]<=to_)]\n",
    "    connection = sqlite3.connect('data/books.db') \n",
    "    cursor = connection.cursor() \n",
    " \n",
    "    select_books = \"SELECT * FROM books WHERE published>=? AND published<=?\" \n",
    " \n",
    "    result = cursor.execute(select_books, (from_, to_)).fetchall() \n",
    " \n",
    "    connection.close() \n",
    " \n",
    "    return {'books': result} \n",
    "    return jsonify(results.to_dict(orient=\"records\"))\n",
    "\n",
    "@app.route('/api/v1/resources/books/save', methods=['GET']) \n",
    "def api_save(): \n",
    " \n",
    "    books.to_csv(\"books.csv\")\n",
    " \n",
    "    return jsonify(\"Se ha guardado\")\n",
    "\n",
    "\n",
    "\n",
    "\n",
    "app.run(port=5000)"
   ]
  },
  {
   "cell_type": "code",
   "execution_count": null,
   "metadata": {},
   "outputs": [],
   "source": []
  }
 ],
 "metadata": {
  "kernelspec": {
   "display_name": "Python 3",
   "language": "python",
   "name": "python3"
  },
  "language_info": {
   "codemirror_mode": {
    "name": "ipython",
    "version": 3
   },
   "file_extension": ".py",
   "mimetype": "text/x-python",
   "name": "python",
   "nbconvert_exporter": "python",
   "pygments_lexer": "ipython3",
   "version": "3.12.1"
  }
 },
 "nbformat": 4,
 "nbformat_minor": 2
}
