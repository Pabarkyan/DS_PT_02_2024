{
 "cells": [
  {
   "cell_type": "markdown",
   "metadata": {},
   "source": [
    "### Ahora vamos a unir EC2 con S3\n",
    "1. Lanzar una máquina virtual EC2 con IAM acceso a s3 (seguridad)\n",
    "2. Modificar archivo en S3 para que la propiedad sea pública\n",
    "3. Usar wget para descargar el archivo"
   ]
  },
  {
   "cell_type": "code",
   "execution_count": null,
   "metadata": {
    "vscode": {
     "languageId": "plaintext"
    }
   },
   "outputs": [],
   "source": [
    "# Crearemos un script que instale python y lo guardamos en s3\n",
    "# Descargamos el fichero con wget\n",
    "# Crearemos un .py que acceda a nuestra base de datos RDS\n",
    "# Los Descargamos con wget\n",
    "# Lo ejecutamos"
   ]
  }
 ],
 "metadata": {
  "language_info": {
   "name": "python"
  }
 },
 "nbformat": 4,
 "nbformat_minor": 2
}
