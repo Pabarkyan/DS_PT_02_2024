{
 "cells": [
  {
   "cell_type": "markdown",
   "metadata": {},
   "source": [
    "# AWS - RDS MySQL\n",
    "### Paquetes requeridos\n",
    "Librería de Python necesaria para establecer conexión a una base de datos MySQL"
   ]
  },
  {
   "cell_type": "code",
   "execution_count": 1,
   "metadata": {},
   "outputs": [
    {
     "name": "stdout",
     "output_type": "stream",
     "text": [
      "Requirement already satisfied: PyMySQL in c:\\users\\jonatan\\appdata\\local\\programs\\python\\python312\\lib\\site-packages (1.1.0)"
     ]
    },
    {
     "name": "stderr",
     "output_type": "stream",
     "text": [
      "\n",
      "[notice] A new release of pip is available: 24.1.1 -> 24.1.2\n",
      "[notice] To update, run: python.exe -m pip install --upgrade pip\n"
     ]
    },
    {
     "name": "stdout",
     "output_type": "stream",
     "text": [
      "\n"
     ]
    }
   ],
   "source": [
    "!pip3 install PyMySQL"
   ]
  },
  {
   "cell_type": "markdown",
   "metadata": {},
   "source": [
    "### Credenciales\n",
    "Para acceder a la BD necesitaremos tres datos:\n",
    "1. Endpoint/host: la dirección donde se encuentra el servidor\n",
    "2. Usuario\n",
    "3. Contraseña"
   ]
  },
  {
   "cell_type": "code",
   "execution_count": 28,
   "metadata": {},
   "outputs": [],
   "source": [
    "host = \"AAA\"\n",
    "username = \"AAA\"\n",
    "password = \"AAA\"\n",
    "port = 3306"
   ]
  },
  {
   "cell_type": "markdown",
   "metadata": {},
   "source": [
    "### Conexion BD"
   ]
  },
  {
   "cell_type": "code",
   "execution_count": 26,
   "metadata": {},
   "outputs": [],
   "source": [
    "import pymysql"
   ]
  },
  {
   "cell_type": "code",
   "execution_count": 29,
   "metadata": {},
   "outputs": [],
   "source": [
    "'''\n",
    "pymysq].cursors.Dictcursor para que los resultados que devuelva sean diccionarios,\n",
    "por defecto devuelve tuplas. Asi podemos acceder por clave a las columnas'''\n",
    "\n",
    "db = pymysql.connect(host = host,\n",
    "                     user = username,\n",
    "                     password = password,\n",
    "                     cursorclass = pymysql.cursors.DictCursor\n",
    ")\n",
    "# El objeto cursor es el que ejecutará las queries y devolverá los resultados\n",
    "\n",
    "cursor = db. cursor()"
   ]
  },
  {
   "cell_type": "markdown",
   "metadata": {},
   "source": [
    "### Version DB"
   ]
  },
  {
   "cell_type": "code",
   "execution_count": 30,
   "metadata": {},
   "outputs": [
    {
     "name": "stdout",
     "output_type": "stream",
     "text": [
      "MysQL version: {'VERSION()': '8.0.35'}\n"
     ]
    }
   ],
   "source": [
    "'''\n",
    "Este es el engine version de la BD de AWS\n",
    "fechtone trae la primera linea de la consulta-\n",
    "El execute() devuelve el numero de filas a las que ha afectado la query,\n",
    "en este caso, devuelve una unica fila.\n",
    "\n",
    "Execute se guarda en la conexion pero hasta que no hacemos commit\n",
    "no se ejecutan las queries que modifiquen la base de datos de alguna manera:\n",
    "de insert de datos, creación de tablas, etc '''\n",
    "cursor.execute(\"SELECT VERSION()\")\n",
    "version = cursor.fetchone ()\n",
    "print (f\"MysQL version: {version}\")"
   ]
  },
  {
   "cell_type": "markdown",
   "metadata": {},
   "source": [
    "### Creación de DB"
   ]
  },
  {
   "cell_type": "code",
   "execution_count": 31,
   "metadata": {},
   "outputs": [
    {
     "data": {
      "text/plain": [
       "1"
      ]
     },
     "execution_count": 31,
     "metadata": {},
     "output_type": "execute_result"
    }
   ],
   "source": [
    "#Creamos una BD. Tenemos una instancia de MySQL, pero no una BD\n",
    "# Los comandos de SQL se suelen poner en mayuscula\n",
    "create_db = '''CREATE DATABASE country_database'''\n",
    "cursor.execute(create_db)\n",
    "\n",
    "# Podemos eliminar la BD\n",
    "# drop_db = '''DROP DATABASE country_database'''\n",
    "# cursor. execute(drop_db)\n",
    "# La volvemos a crear\n",
    "# cursor.execute(create_db)\n",
    "# el output es el numero de filas afectadas"
   ]
  },
  {
   "cell_type": "code",
   "execution_count": 32,
   "metadata": {},
   "outputs": [
    {
     "data": {
      "text/plain": [
       "0"
      ]
     },
     "execution_count": 32,
     "metadata": {},
     "output_type": "execute_result"
    }
   ],
   "source": [
    "use_db = '''USE  country_database'''\n",
    "cursor.execute(use_db)\n"
   ]
  },
  {
   "cell_type": "code",
   "execution_count": 33,
   "metadata": {},
   "outputs": [
    {
     "data": {
      "text/plain": [
       "[{'Database': 'country_database'},\n",
       " {'Database': 'information_schema'},\n",
       " {'Database': 'mysql'},\n",
       " {'Database': 'performance_schema'},\n",
       " {'Database': 'sys'}]"
      ]
     },
     "execution_count": 33,
     "metadata": {},
     "output_type": "execute_result"
    }
   ],
   "source": [
    "cursor.execute(\"SHOW DATABASES\")\n",
    "cursor.fetchall()"
   ]
  },
  {
   "cell_type": "markdown",
   "metadata": {},
   "source": [
    "### Creación de tablas"
   ]
  },
  {
   "cell_type": "code",
   "execution_count": 34,
   "metadata": {},
   "outputs": [
    {
     "data": {
      "text/plain": [
       "0"
      ]
     },
     "execution_count": 34,
     "metadata": {},
     "output_type": "execute_result"
    }
   ],
   "source": [
    "'''\n",
    "Creamos una tabla \n",
    "Esto da error porque no le hemos dicho al servidor que BD\n",
    "queremos usar\n",
    "'''\n",
    "\n",
    "# Crear una tabla que se llame country\n",
    "create_table = '''\n",
    "    CREATE TABLE country (\n",
    "        id INT NOT NULL auto_increment,\n",
    "        name TEXT,\n",
    "        continent TEXT,\n",
    "        population INT,\n",
    "        gdp DOUBLE,\n",
    "        primary key (id)\n",
    "    )\n",
    "'''\n",
    "cursor.execute(create_table)"
   ]
  },
  {
   "cell_type": "markdown",
   "metadata": {},
   "source": [
    "### Seleccionar la BD"
   ]
  },
  {
   "cell_type": "code",
   "execution_count": 35,
   "metadata": {},
   "outputs": [],
   "source": [
    "# Para usar la BD recien creada\n",
    "cursor.connection.commit()\n",
    "#use_db = ''' USE country_database'''\n",
    "#cursor.execute(use_db)"
   ]
  },
  {
   "cell_type": "code",
   "execution_count": 36,
   "metadata": {},
   "outputs": [
    {
     "data": {
      "text/plain": [
       "[{'Tables_in_country_database': 'country'}]"
      ]
     },
     "execution_count": 36,
     "metadata": {},
     "output_type": "execute_result"
    }
   ],
   "source": [
    "# Chequear todas las tablas que tiene mi db\n",
    "cursor.execute('SHOW TABLES')\n",
    "cursor.fetchall()"
   ]
  },
  {
   "cell_type": "code",
   "execution_count": 12,
   "metadata": {},
   "outputs": [],
   "source": [
    "# Si queremos borrar alguna tabla \n",
    "# drop_table = '''DROP TABLE country'''\n",
    "# cursor.execute(drop_table)"
   ]
  },
  {
   "cell_type": "markdown",
   "metadata": {},
   "source": [
    "### Insertar datos"
   ]
  },
  {
   "cell_type": "code",
   "execution_count": 37,
   "metadata": {},
   "outputs": [
    {
     "data": {
      "text/plain": [
       "1"
      ]
     },
     "execution_count": 37,
     "metadata": {},
     "output_type": "execute_result"
    }
   ],
   "source": [
    "insert_data = '''\n",
    "INSERT INTO country(name, continent, population, gdp)\n",
    "VALUES ('Spain','Europe',47, 1.74)\n",
    "'''\n",
    "cursor.execute(insert_data)"
   ]
  },
  {
   "cell_type": "code",
   "execution_count": 38,
   "metadata": {},
   "outputs": [],
   "source": [
    "name = \"France\"\n",
    "continent = \"Europe\"\n",
    "population = 54\n",
    "gdp = 2"
   ]
  },
  {
   "cell_type": "code",
   "execution_count": 39,
   "metadata": {},
   "outputs": [],
   "source": [
    "insert_data = f'''\n",
    "INSERT INTO country(name,continent,population,gdp) VALUES (\"{name}\",\"{continent}\",{population},{gdp})'''"
   ]
  },
  {
   "cell_type": "code",
   "execution_count": 40,
   "metadata": {},
   "outputs": [
    {
     "data": {
      "text/plain": [
       "1"
      ]
     },
     "execution_count": 40,
     "metadata": {},
     "output_type": "execute_result"
    }
   ],
   "source": [
    "cursor.execute(insert_data)"
   ]
  },
  {
   "cell_type": "markdown",
   "metadata": {},
   "source": [
    "### Leer datos"
   ]
  },
  {
   "cell_type": "code",
   "execution_count": 41,
   "metadata": {},
   "outputs": [
    {
     "data": {
      "text/plain": [
       "1"
      ]
     },
     "execution_count": 41,
     "metadata": {},
     "output_type": "execute_result"
    }
   ],
   "source": [
    "query = '''SELECT * FROM country WHERE name LIKE \"%pa%\"'''\n",
    "cursor.execute(query)"
   ]
  },
  {
   "cell_type": "code",
   "execution_count": 48,
   "metadata": {},
   "outputs": [
    {
     "name": "stdout",
     "output_type": "stream",
     "text": [
      "[]\n"
     ]
    }
   ],
   "source": [
    "print(cursor.fetchall())"
   ]
  },
  {
   "cell_type": "markdown",
   "metadata": {},
   "source": [
    "### Guardar los cambios\n",
    "Hay que ejecutar el commit antes de cerrar la sesión de la BD para que se guarden todos los cambios"
   ]
  },
  {
   "cell_type": "code",
   "execution_count": 43,
   "metadata": {},
   "outputs": [],
   "source": [
    "db.commit()"
   ]
  },
  {
   "cell_type": "markdown",
   "metadata": {},
   "source": [
    "### Excepciones\n",
    "Se recomienda rodear este tipo de sentencias con un try/except, ya que suele ser software productivo y tiene que saber manejar fallos"
   ]
  },
  {
   "cell_type": "code",
   "execution_count": 20,
   "metadata": {},
   "outputs": [],
   "source": [
    "try:\n",
    "    sql = '''SELECT * FROM country'''\n",
    "    cursor.execute(sql)\n",
    "    cursor.fetchall()\n",
    "except Exception as e:\n",
    "    print(e)"
   ]
  },
  {
   "cell_type": "markdown",
   "metadata": {},
   "source": [
    "### Insertar datos de un CSV"
   ]
  },
  {
   "cell_type": "code",
   "execution_count": 44,
   "metadata": {},
   "outputs": [],
   "source": [
    "# Creamos el CSV\n",
    "import pandas as pd\n",
    "\n",
    "df= pd.read_csv('country_data.csv', sep=';')"
   ]
  },
  {
   "cell_type": "code",
   "execution_count": 22,
   "metadata": {},
   "outputs": [],
   "source": [
    "# df.to_sql??"
   ]
  },
  {
   "cell_type": "code",
   "execution_count": 45,
   "metadata": {},
   "outputs": [],
   "source": [
    "for datos in zip(*[valor.values() for clave,valor in df.to_dict().items()]):\n",
    "    insert = \"INSERT INTO country(name,continent,population,gdp) VALUES ('%s','%s',%d,%.1f)\" \\\n",
    "    %(datos[0],datos[1],datos[2],datos[3])\n",
    "    cursor.execute(insert)"
   ]
  },
  {
   "cell_type": "code",
   "execution_count": 46,
   "metadata": {},
   "outputs": [
    {
     "data": {
      "text/plain": [
       "[{'id': 1,\n",
       "  'name': 'Spain',\n",
       "  'continent': 'Europe',\n",
       "  'population': 47,\n",
       "  'gdp': 1.74},\n",
       " {'id': 2,\n",
       "  'name': 'France',\n",
       "  'continent': 'Europe',\n",
       "  'population': 54,\n",
       "  'gdp': 2.0},\n",
       " {'id': 3,\n",
       "  'name': 'France',\n",
       "  'continent': 'Europe',\n",
       "  'population': 70,\n",
       "  'gdp': 2.7},\n",
       " {'id': 4,\n",
       "  'name': 'Japan',\n",
       "  'continent': 'Asia',\n",
       "  'population': 126,\n",
       "  'gdp': 4.9},\n",
       " {'id': 5,\n",
       "  'name': 'Argentina',\n",
       "  'continent': 'America',\n",
       "  'population': 44,\n",
       "  'gdp': 0.5},\n",
       " {'id': 6,\n",
       "  'name': 'Brasil',\n",
       "  'continent': 'America',\n",
       "  'population': 209,\n",
       "  'gdp': 1.8}]"
      ]
     },
     "execution_count": 46,
     "metadata": {},
     "output_type": "execute_result"
    }
   ],
   "source": [
    "query = \"SELECT * FROM country\"\n",
    "cursor.execute(query)\n",
    "cursor.fetchall()"
   ]
  },
  {
   "cell_type": "code",
   "execution_count": 59,
   "metadata": {},
   "outputs": [
    {
     "data": {
      "text/plain": [
       "'admin'"
      ]
     },
     "execution_count": 59,
     "metadata": {},
     "output_type": "execute_result"
    }
   ],
   "source": [
    "username"
   ]
  },
  {
   "cell_type": "code",
   "execution_count": 67,
   "metadata": {},
   "outputs": [],
   "source": [
    "# Utilizando sqlalchemy\n",
    "from sqlalchemy import create_engine\n",
    "\n",
    "engine = create_engine(\"mysql+pymysql://{user}:{pw}@{host}/{db}\".format(user = username, pw = password, host = host, db = \"country_database\"))"
   ]
  },
  {
   "cell_type": "code",
   "execution_count": 68,
   "metadata": {},
   "outputs": [
    {
     "data": {
      "text/plain": [
       "4"
      ]
     },
     "execution_count": 68,
     "metadata": {},
     "output_type": "execute_result"
    }
   ],
   "source": [
    "df.to_sql(name =\"country\", con=engine, if_exists=\"append\", index =False)"
   ]
  },
  {
   "cell_type": "code",
   "execution_count": 33,
   "metadata": {},
   "outputs": [],
   "source": [
    "db.commit()"
   ]
  },
  {
   "cell_type": "markdown",
   "metadata": {},
   "source": [
    "### Cerrar la conexión cuando acabemos"
   ]
  },
  {
   "cell_type": "code",
   "execution_count": 72,
   "metadata": {},
   "outputs": [],
   "source": [
    "db.close()"
   ]
  },
  {
   "cell_type": "code",
   "execution_count": null,
   "metadata": {},
   "outputs": [],
   "source": [
    "conn = engine.connect()\n",
    "conn.close()"
   ]
  }
 ],
 "metadata": {
  "kernelspec": {
   "display_name": "Python 3",
   "language": "python",
   "name": "python3"
  },
  "language_info": {
   "codemirror_mode": {
    "name": "ipython",
    "version": 3
   },
   "file_extension": ".py",
   "mimetype": "text/x-python",
   "name": "python",
   "nbconvert_exporter": "python",
   "pygments_lexer": "ipython3",
   "version": "3.12.1"
  }
 },
 "nbformat": 4,
 "nbformat_minor": 4
}
