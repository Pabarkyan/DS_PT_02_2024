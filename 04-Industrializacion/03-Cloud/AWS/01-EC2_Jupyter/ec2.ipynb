{
 "cells": [
  {
   "cell_type": "markdown",
   "metadata": {},
   "source": [
    "1. Lanzar instancia\n",
    "    * Claves\n",
    "    * Seguridad\n",
    "2. sudo apt update\n",
    "3. sudo apt install python3\n",
    "4. sudo apt update\n",
    "5. sudo apt install pip\n",
    "6. crear environment\n",
    "7. sudo apt install virtualenv\n",
    "8. sudo apt install python3.12-venv\n",
    "9. crear directorio env\n",
    "10. python3 -m venv .\n",
    "11. cd env/bin\n",
    "12. source activate\n",
    "13. pip install jupyter\n",
    "14. jupyter notebook --no-browser --port 8889\n",
    "15. guardar claves en una carpeta accesible\n",
    "16. Ejecutar script\n",
    "17. Quitar otros permisos del .pem, si necesario\n",
    "18. Ejecutar \n",
    "ssh -N -L localhost:8889:localhost:8889 ubuntu@ec2-16-170-98-224.eu-north-1.compute.amazonaws.com -i claves_clase.pem\n",
    "19. Funcionará un API???\n",
    "20. Ahora tú."
   ]
  },
  {
   "cell_type": "markdown",
   "metadata": {},
   "source": [
    "# Set Key File Variable:\n",
    "  New-Variable -Name Key -Value \"claves_clase.pem\"\n",
    "\n",
    "# Remove Inheritance:\n",
    "  Icacls $Key /c /t /Inheritance:d\n",
    "\n",
    "# Set Ownership to Owner:\n",
    "  # Key's within $env:UserProfile:\n",
    "    Icacls $Key /c /t /Grant ${env:UserName}:F\n",
    "\n",
    "   # Key's outside of $env:UserProfile:\n",
    "     TakeOwn /F $Key\n",
    "     Icacls $Key /c /t /Grant:r ${env:UserName}:F\n",
    "\n",
    "# Remove All Users, except for Owner:\n",
    "  Icacls $Key /c /t /Remove:g Administrator \"Authenticated Users\" BUILTIN\\Administrators BUILTIN Everyone System Users\n",
    "\n",
    "# Verify:\n",
    "  Icacls $Key\n",
    "\n",
    "# Remove Variable:\n",
    "  Remove-Variable -Name Key"
   ]
  },
  {
   "cell_type": "markdown",
   "metadata": {},
   "source": [
    "# Similar con putty!\n",
    "1. Usar claves ppk\n",
    "2. Instalar putty\n",
    "3. usar nano para hacer un script"
   ]
  },
  {
   "cell_type": "code",
   "execution_count": null,
   "metadata": {
    "vscode": {
     "languageId": "plaintext"
    }
   },
   "outputs": [],
   "source": []
  }
 ],
 "metadata": {
  "language_info": {
   "name": "python"
  }
 },
 "nbformat": 4,
 "nbformat_minor": 2
}
