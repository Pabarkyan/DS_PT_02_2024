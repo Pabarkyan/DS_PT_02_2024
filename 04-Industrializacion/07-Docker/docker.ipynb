{
 "cells": [
  {
   "cell_type": "markdown",
   "metadata": {},
   "source": [
    "# Docker\n",
    "\n",
    "1. Consistency and Portability\n",
    "\n",
    "    Environment Consistency: Docker ensures that the application runs the same way across different environments (development, testing, production) by packaging the application and its dependencies into a single container.\n",
    "    Portability: Containers can run on any system that has Docker installed, making it easy to move applications between different environments and platforms.\n",
    "\n",
    "2. Isolation\n",
    "\n",
    "    Process Isolation: Each container runs in its isolated environment, preventing conflicts between different applications and their dependencies.\n",
    "    Resource Isolation: Docker containers can be limited in terms of CPU, memory, and other resources, ensuring that they don't interfere with each other or the host system.\n",
    "\n",
    "3. Efficiency\n",
    "\n",
    "    Lightweight: Docker containers share the host OS kernel and use less system resources compared to traditional virtual machines (VMs). This allows for higher density and better utilization of hardware.\n",
    "    Fast Startup: Containers start almost instantly, unlike VMs, which take time to boot up.\n",
    "\n",
    "4. Simplified Deployment\n",
    "\n",
    "    Easy Rollbacks: Docker images are immutable, making it easy to roll back to a previous version if something goes wrong.\n",
    "    Automated Builds and CI/CD Integration: Docker integrates well with CI/CD tools, enabling automated testing, building, and deployment of applications.\n",
    "\n",
    "5. Scalability\n",
    "\n",
    "    Efficient Scaling: Docker containers can be easily scaled up or down to handle changes in demand. Orchestration tools like Docker Swarm and Kubernetes can automate scaling and manage containerized applications at scale.\n",
    "\n",
    "6. Security\n",
    "\n",
    "    Enhanced Security: Containers provide an additional layer of security by isolating applications from the host system and each other. Security features like namespaces, control groups (cgroups), and Docker security profiles add further protection.\n",
    "    Minimal Attack Surface: Since containers include only the necessary dependencies, they have a smaller attack surface compared to full VMs.\n",
    "\n",
    "7. Developer Productivity\n",
    "\n",
    "    Simplified Development and Testing: Developers can create consistent development environments, ensuring that code runs the same way on their local machines as it does in production.\n",
    "    Microservices Architecture: Docker supports the microservices architecture by allowing developers to split applications into smaller, manageable services that can be developed, deployed, and scaled independently.\n",
    "\n",
    "8. Community and Ecosystem\n",
    "\n",
    "    Extensive Ecosystem: Docker has a large and active community, providing a wealth of resources, tools, and pre-built images for various applications and services.\n",
    "    Docker Hub: A vast repository of pre-built images that can be used to quickly start new projects or add functionality to existing ones.\n",
    "\n",
    "9. Cost Savings\n",
    "\n",
    "    Resource Efficiency: By improving hardware utilization and reducing the overhead associated with VMs, Docker can lead to significant cost savings on infrastructure.\n",
    "    Simplified Management: The ease of deployment and management reduces operational costs and the time spent on maintaining environments.\n",
    "\n",
    "These benefits make Docker an attractive choice for developers, DevOps engineers, and organizations looking to streamline their development processes, improve efficiency, and enhance scalability and security."
   ]
  },
  {
   "cell_type": "markdown",
   "metadata": {},
   "source": [
    "1. Descargar docker https://docs.docker.com/get-docker/\n",
    "2. git clone https://github.com/docker/python-docker <- Elegir una carpeta accesible\n",
    "3. Desde la consola\n",
    "* acceder a python-docker\n",
    "* docker init\n",
    "* docker compose up --build -d\n",
    "* ir a http://localhost:8000"
   ]
  },
  {
   "cell_type": "code",
   "execution_count": 1,
   "metadata": {},
   "outputs": [
    {
     "name": "stderr",
     "output_type": "stream",
     "text": [
      "Cloning into 'python-docker'...\n"
     ]
    }
   ],
   "source": [
    "\n",
    "# Probar a desinstalar Flask y ejecutar con y sin docker"
   ]
  }
 ],
 "metadata": {
  "kernelspec": {
   "display_name": "Python 3",
   "language": "python",
   "name": "python3"
  },
  "language_info": {
   "codemirror_mode": {
    "name": "ipython",
    "version": 3
   },
   "file_extension": ".py",
   "mimetype": "text/x-python",
   "name": "python",
   "nbconvert_exporter": "python",
   "pygments_lexer": "ipython3",
   "version": "3.12.1"
  }
 },
 "nbformat": 4,
 "nbformat_minor": 2
}
